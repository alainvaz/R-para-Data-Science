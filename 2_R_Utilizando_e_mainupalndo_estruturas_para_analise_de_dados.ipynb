{
  "nbformat": 4,
  "nbformat_minor": 0,
  "metadata": {
    "colab": {
      "provenance": []
    },
    "kernelspec": {
      "name": "ir",
      "display_name": "R"
    },
    "language_info": {
      "name": "R"
    }
  },
  "cells": [
    {
      "cell_type": "markdown",
      "source": [
        "# Importando e explorando os dados"
      ],
      "metadata": {
        "id": "ACm90KVXcdrD"
      }
    },
    {
      "cell_type": "markdown",
      "source": [
        "**Link dos arquivos:**\n",
        "\n",
        "https://cdn3.gnarususercontent.com.br/3684-r/Projeto/curso/dados_vendas_inventario_meteora.csv\n",
        "\n",
        "\n",
        "https://cdn3.gnarususercontent.com.br/3684-r/Projeto/curso/dados_vendas_inventario_meteora_grande.csv"
      ],
      "metadata": {
        "id": "8RP3Wklo9j8E"
      }
    },
    {
      "cell_type": "markdown",
      "source": [
        "\n",
        "|Data|ID\\_Produto|Nome\\_Produto|Quantidade\\_Vendida|Estoque\\_Disponível|Categoria|\n",
        "|---|---|---|---|---|---|\n",
        "|2023-01-01|1001|Camisa Social Azul|5|50|Camisas|\n",
        "|2023-01-01|1002|Calça Jeans|8|30|Calças|\n",
        "|2023-01-02|1003|Jaqueta de Couro|2|20|Jaquetas|\n",
        "|2023-01-03|1004|Camisa Social Branca|3|45|Camisas|\n",
        "|2023-01-03|1005|Saia Longa|4|25|Saias|\n",
        "|2023-01-04|1006|Blusa de Algodão|7|60|Blusas|\n",
        "|2023-01-05|1007|Calça de Moletom|10|40|Calças|\n",
        "|2023-01-06|1008|Vestido Floral|6|35|Vestidos|\n",
        "|2023-01-07|1009|Terno Completo|1|15|Ternos|\n",
        "|2023-01-08|1010|Camiseta Básica|15|100|Camisetas|"
      ],
      "metadata": {
        "id": "H74jS8uDaga1"
      }
    },
    {
      "cell_type": "markdown",
      "source": [
        "**Armazenando dados em um vetor:**"
      ],
      "metadata": {
        "id": "6uBk3EcLcZVc"
      }
    },
    {
      "cell_type": "code",
      "source": [
        "sales_data_vetor <- c(\n",
        "     \"2023-01-01\", 1001, \"Camisa Social Azul\", 5, 50, \"Camisas\",\n",
        "     \"2023-01-01\", 1002, \"Calça Jeans\", 8, 30, \"Calças\",\n",
        "     \"2023-01-02\", 1003, \"Jaqueta de Couro\", 2, 20, \"Jaquetas\",\n",
        "     \"2023-01-03\", 1004, \"Camisa Social Branca\", 3, 45, \"Camisas\",\n",
        "     \"2023-01-03\", 1005, \"Saia Longa\", 4, 25, \"Saias\",\n",
        "     \"2023-01-04\", 1006, \"Blusa de Algodão\", 7, 60, \"Blusas\",\n",
        "     \"2023-01-05\", 1007, \"Calça de Moletom\", 10, 40, \"Calças\",\n",
        "     \"2023-01-06\", 1008, \"Vestido Floral\", 6, 35, \"Vestidos\",\n",
        "     \"2023-01-07\", 1009, \"Terno Completo\", 1, 15, \"Ternos\",\n",
        "     \"2023-01-08\", 1010, \"Camiseta Básica\", 15, 100, \"Camisetas\"\n",
        ")\n",
        "sales_data_vetor"
      ],
      "metadata": {
        "colab": {
          "base_uri": "https://localhost:8080/",
          "height": 86
        },
        "id": "K214D_tBbB7e",
        "outputId": "c341ec78-7eb3-4cbd-b24c-887586247a19"
      },
      "execution_count": 66,
      "outputs": [
        {
          "output_type": "display_data",
          "data": {
            "text/html": [
              "<style>\n",
              ".list-inline {list-style: none; margin:0; padding: 0}\n",
              ".list-inline>li {display: inline-block}\n",
              ".list-inline>li:not(:last-child)::after {content: \"\\00b7\"; padding: 0 .5ex}\n",
              "</style>\n",
              "<ol class=list-inline><li>'2023-01-01'</li><li>'1001'</li><li>'Camisa Social Azul'</li><li>'5'</li><li>'50'</li><li>'Camisas'</li><li>'2023-01-01'</li><li>'1002'</li><li>'Calça Jeans'</li><li>'8'</li><li>'30'</li><li>'Calças'</li><li>'2023-01-02'</li><li>'1003'</li><li>'Jaqueta de Couro'</li><li>'2'</li><li>'20'</li><li>'Jaquetas'</li><li>'2023-01-03'</li><li>'1004'</li><li>'Camisa Social Branca'</li><li>'3'</li><li>'45'</li><li>'Camisas'</li><li>'2023-01-03'</li><li>'1005'</li><li>'Saia Longa'</li><li>'4'</li><li>'25'</li><li>'Saias'</li><li>'2023-01-04'</li><li>'1006'</li><li>'Blusa de Algodão'</li><li>'7'</li><li>'60'</li><li>'Blusas'</li><li>'2023-01-05'</li><li>'1007'</li><li>'Calça de Moletom'</li><li>'10'</li><li>'40'</li><li>'Calças'</li><li>'2023-01-06'</li><li>'1008'</li><li>'Vestido Floral'</li><li>'6'</li><li>'35'</li><li>'Vestidos'</li><li>'2023-01-07'</li><li>'1009'</li><li>'Terno Completo'</li><li>'1'</li><li>'15'</li><li>'Ternos'</li><li>'2023-01-08'</li><li>'1010'</li><li>'Camiseta Básica'</li><li>'15'</li><li>'100'</li><li>'Camisetas'</li></ol>\n"
            ],
            "text/markdown": "1. '2023-01-01'\n2. '1001'\n3. 'Camisa Social Azul'\n4. '5'\n5. '50'\n6. 'Camisas'\n7. '2023-01-01'\n8. '1002'\n9. 'Calça Jeans'\n10. '8'\n11. '30'\n12. 'Calças'\n13. '2023-01-02'\n14. '1003'\n15. 'Jaqueta de Couro'\n16. '2'\n17. '20'\n18. 'Jaquetas'\n19. '2023-01-03'\n20. '1004'\n21. 'Camisa Social Branca'\n22. '3'\n23. '45'\n24. 'Camisas'\n25. '2023-01-03'\n26. '1005'\n27. 'Saia Longa'\n28. '4'\n29. '25'\n30. 'Saias'\n31. '2023-01-04'\n32. '1006'\n33. 'Blusa de Algodão'\n34. '7'\n35. '60'\n36. 'Blusas'\n37. '2023-01-05'\n38. '1007'\n39. 'Calça de Moletom'\n40. '10'\n41. '40'\n42. 'Calças'\n43. '2023-01-06'\n44. '1008'\n45. 'Vestido Floral'\n46. '6'\n47. '35'\n48. 'Vestidos'\n49. '2023-01-07'\n50. '1009'\n51. 'Terno Completo'\n52. '1'\n53. '15'\n54. 'Ternos'\n55. '2023-01-08'\n56. '1010'\n57. 'Camiseta Básica'\n58. '15'\n59. '100'\n60. 'Camisetas'\n\n\n",
            "text/latex": "\\begin{enumerate*}\n\\item '2023-01-01'\n\\item '1001'\n\\item 'Camisa Social Azul'\n\\item '5'\n\\item '50'\n\\item 'Camisas'\n\\item '2023-01-01'\n\\item '1002'\n\\item 'Calça Jeans'\n\\item '8'\n\\item '30'\n\\item 'Calças'\n\\item '2023-01-02'\n\\item '1003'\n\\item 'Jaqueta de Couro'\n\\item '2'\n\\item '20'\n\\item 'Jaquetas'\n\\item '2023-01-03'\n\\item '1004'\n\\item 'Camisa Social Branca'\n\\item '3'\n\\item '45'\n\\item 'Camisas'\n\\item '2023-01-03'\n\\item '1005'\n\\item 'Saia Longa'\n\\item '4'\n\\item '25'\n\\item 'Saias'\n\\item '2023-01-04'\n\\item '1006'\n\\item 'Blusa de Algodão'\n\\item '7'\n\\item '60'\n\\item 'Blusas'\n\\item '2023-01-05'\n\\item '1007'\n\\item 'Calça de Moletom'\n\\item '10'\n\\item '40'\n\\item 'Calças'\n\\item '2023-01-06'\n\\item '1008'\n\\item 'Vestido Floral'\n\\item '6'\n\\item '35'\n\\item 'Vestidos'\n\\item '2023-01-07'\n\\item '1009'\n\\item 'Terno Completo'\n\\item '1'\n\\item '15'\n\\item 'Ternos'\n\\item '2023-01-08'\n\\item '1010'\n\\item 'Camiseta Básica'\n\\item '15'\n\\item '100'\n\\item 'Camisetas'\n\\end{enumerate*}\n",
            "text/plain": [
              " [1] \"2023-01-01\"           \"1001\"                 \"Camisa Social Azul\"  \n",
              " [4] \"5\"                    \"50\"                   \"Camisas\"             \n",
              " [7] \"2023-01-01\"           \"1002\"                 \"Calça Jeans\"         \n",
              "[10] \"8\"                    \"30\"                   \"Calças\"              \n",
              "[13] \"2023-01-02\"           \"1003\"                 \"Jaqueta de Couro\"    \n",
              "[16] \"2\"                    \"20\"                   \"Jaquetas\"            \n",
              "[19] \"2023-01-03\"           \"1004\"                 \"Camisa Social Branca\"\n",
              "[22] \"3\"                    \"45\"                   \"Camisas\"             \n",
              "[25] \"2023-01-03\"           \"1005\"                 \"Saia Longa\"          \n",
              "[28] \"4\"                    \"25\"                   \"Saias\"               \n",
              "[31] \"2023-01-04\"           \"1006\"                 \"Blusa de Algodão\"    \n",
              "[34] \"7\"                    \"60\"                   \"Blusas\"              \n",
              "[37] \"2023-01-05\"           \"1007\"                 \"Calça de Moletom\"    \n",
              "[40] \"10\"                   \"40\"                   \"Calças\"              \n",
              "[43] \"2023-01-06\"           \"1008\"                 \"Vestido Floral\"      \n",
              "[46] \"6\"                    \"35\"                   \"Vestidos\"            \n",
              "[49] \"2023-01-07\"           \"1009\"                 \"Terno Completo\"      \n",
              "[52] \"1\"                    \"15\"                   \"Ternos\"              \n",
              "[55] \"2023-01-08\"           \"1010\"                 \"Camiseta Básica\"     \n",
              "[58] \"15\"                   \"100\"                  \"Camisetas\"           "
            ]
          },
          "metadata": {}
        }
      ]
    },
    {
      "cell_type": "markdown",
      "source": [
        "**Armazenando dados em uma matriz:**"
      ],
      "metadata": {
        "id": "p38_f4IXcm3y"
      }
    },
    {
      "cell_type": "code",
      "source": [
        "# Criar a matriz a partir do vetor\n",
        "sales_data_matrix <- matrix(sales_data_vetor, nrow = 10, byrow = TRUE)\n",
        "sales_data_matrix"
      ],
      "metadata": {
        "colab": {
          "base_uri": "https://localhost:8080/",
          "height": 348
        },
        "id": "3kbYyYl8cq8g",
        "outputId": "fd357513-349b-4b54-c1d9-520eea07e9ee"
      },
      "execution_count": 67,
      "outputs": [
        {
          "output_type": "display_data",
          "data": {
            "text/html": [
              "<table class=\"dataframe\">\n",
              "<caption>A matrix: 10 × 6 of type chr</caption>\n",
              "<tbody>\n",
              "\t<tr><td>2023-01-01</td><td>1001</td><td>Camisa Social Azul  </td><td>5 </td><td>50 </td><td>Camisas  </td></tr>\n",
              "\t<tr><td>2023-01-01</td><td>1002</td><td>Calça Jeans         </td><td>8 </td><td>30 </td><td>Calças   </td></tr>\n",
              "\t<tr><td>2023-01-02</td><td>1003</td><td>Jaqueta de Couro    </td><td>2 </td><td>20 </td><td>Jaquetas </td></tr>\n",
              "\t<tr><td>2023-01-03</td><td>1004</td><td>Camisa Social Branca</td><td>3 </td><td>45 </td><td>Camisas  </td></tr>\n",
              "\t<tr><td>2023-01-03</td><td>1005</td><td>Saia Longa          </td><td>4 </td><td>25 </td><td>Saias    </td></tr>\n",
              "\t<tr><td>2023-01-04</td><td>1006</td><td>Blusa de Algodão    </td><td>7 </td><td>60 </td><td>Blusas   </td></tr>\n",
              "\t<tr><td>2023-01-05</td><td>1007</td><td>Calça de Moletom    </td><td>10</td><td>40 </td><td>Calças   </td></tr>\n",
              "\t<tr><td>2023-01-06</td><td>1008</td><td>Vestido Floral      </td><td>6 </td><td>35 </td><td>Vestidos </td></tr>\n",
              "\t<tr><td>2023-01-07</td><td>1009</td><td>Terno Completo      </td><td>1 </td><td>15 </td><td>Ternos   </td></tr>\n",
              "\t<tr><td>2023-01-08</td><td>1010</td><td>Camiseta Básica     </td><td>15</td><td>100</td><td>Camisetas</td></tr>\n",
              "</tbody>\n",
              "</table>\n"
            ],
            "text/markdown": "\nA matrix: 10 × 6 of type chr\n\n| 2023-01-01 | 1001 | Camisa Social Azul   | 5  | 50  | Camisas   |\n| 2023-01-01 | 1002 | Calça Jeans          | 8  | 30  | Calças    |\n| 2023-01-02 | 1003 | Jaqueta de Couro     | 2  | 20  | Jaquetas  |\n| 2023-01-03 | 1004 | Camisa Social Branca | 3  | 45  | Camisas   |\n| 2023-01-03 | 1005 | Saia Longa           | 4  | 25  | Saias     |\n| 2023-01-04 | 1006 | Blusa de Algodão     | 7  | 60  | Blusas    |\n| 2023-01-05 | 1007 | Calça de Moletom     | 10 | 40  | Calças    |\n| 2023-01-06 | 1008 | Vestido Floral       | 6  | 35  | Vestidos  |\n| 2023-01-07 | 1009 | Terno Completo       | 1  | 15  | Ternos    |\n| 2023-01-08 | 1010 | Camiseta Básica      | 15 | 100 | Camisetas |\n\n",
            "text/latex": "A matrix: 10 × 6 of type chr\n\\begin{tabular}{llllll}\n\t 2023-01-01 & 1001 & Camisa Social Azul   & 5  & 50  & Camisas  \\\\\n\t 2023-01-01 & 1002 & Calça Jeans          & 8  & 30  & Calças   \\\\\n\t 2023-01-02 & 1003 & Jaqueta de Couro     & 2  & 20  & Jaquetas \\\\\n\t 2023-01-03 & 1004 & Camisa Social Branca & 3  & 45  & Camisas  \\\\\n\t 2023-01-03 & 1005 & Saia Longa           & 4  & 25  & Saias    \\\\\n\t 2023-01-04 & 1006 & Blusa de Algodão     & 7  & 60  & Blusas   \\\\\n\t 2023-01-05 & 1007 & Calça de Moletom     & 10 & 40  & Calças   \\\\\n\t 2023-01-06 & 1008 & Vestido Floral       & 6  & 35  & Vestidos \\\\\n\t 2023-01-07 & 1009 & Terno Completo       & 1  & 15  & Ternos   \\\\\n\t 2023-01-08 & 1010 & Camiseta Básica      & 15 & 100 & Camisetas\\\\\n\\end{tabular}\n",
            "text/plain": [
              "      [,1]       [,2] [,3]                 [,4] [,5] [,6]     \n",
              " [1,] 2023-01-01 1001 Camisa Social Azul   5    50   Camisas  \n",
              " [2,] 2023-01-01 1002 Calça Jeans          8    30   Calças   \n",
              " [3,] 2023-01-02 1003 Jaqueta de Couro     2    20   Jaquetas \n",
              " [4,] 2023-01-03 1004 Camisa Social Branca 3    45   Camisas  \n",
              " [5,] 2023-01-03 1005 Saia Longa           4    25   Saias    \n",
              " [6,] 2023-01-04 1006 Blusa de Algodão     7    60   Blusas   \n",
              " [7,] 2023-01-05 1007 Calça de Moletom     10   40   Calças   \n",
              " [8,] 2023-01-06 1008 Vestido Floral       6    35   Vestidos \n",
              " [9,] 2023-01-07 1009 Terno Completo       1    15   Ternos   \n",
              "[10,] 2023-01-08 1010 Camiseta Básica      15   100  Camisetas"
            ]
          },
          "metadata": {}
        }
      ]
    },
    {
      "cell_type": "code",
      "source": [
        "# Definir os nomes das colunas\n",
        "colnames(sales_data_matrix) <- c(\"Data\", \"ID_Produto\", \"Nome_Produto\", \"Quantidade_Vendida\", \"Estoque_Disponível\", \"Categoria\")\n",
        "\n",
        "# Exibir a matriz\n",
        "sales_data_matrix"
      ],
      "metadata": {
        "colab": {
          "base_uri": "https://localhost:8080/",
          "height": 380
        },
        "id": "06fNuLVwcx8p",
        "outputId": "969697dd-e5a3-434e-9127-ee9583a4d9d8"
      },
      "execution_count": 68,
      "outputs": [
        {
          "output_type": "display_data",
          "data": {
            "text/html": [
              "<table class=\"dataframe\">\n",
              "<caption>A matrix: 10 × 6 of type chr</caption>\n",
              "<thead>\n",
              "\t<tr><th scope=col>Data</th><th scope=col>ID_Produto</th><th scope=col>Nome_Produto</th><th scope=col>Quantidade_Vendida</th><th scope=col>Estoque_Disponível</th><th scope=col>Categoria</th></tr>\n",
              "</thead>\n",
              "<tbody>\n",
              "\t<tr><td>2023-01-01</td><td>1001</td><td>Camisa Social Azul  </td><td>5 </td><td>50 </td><td>Camisas  </td></tr>\n",
              "\t<tr><td>2023-01-01</td><td>1002</td><td>Calça Jeans         </td><td>8 </td><td>30 </td><td>Calças   </td></tr>\n",
              "\t<tr><td>2023-01-02</td><td>1003</td><td>Jaqueta de Couro    </td><td>2 </td><td>20 </td><td>Jaquetas </td></tr>\n",
              "\t<tr><td>2023-01-03</td><td>1004</td><td>Camisa Social Branca</td><td>3 </td><td>45 </td><td>Camisas  </td></tr>\n",
              "\t<tr><td>2023-01-03</td><td>1005</td><td>Saia Longa          </td><td>4 </td><td>25 </td><td>Saias    </td></tr>\n",
              "\t<tr><td>2023-01-04</td><td>1006</td><td>Blusa de Algodão    </td><td>7 </td><td>60 </td><td>Blusas   </td></tr>\n",
              "\t<tr><td>2023-01-05</td><td>1007</td><td>Calça de Moletom    </td><td>10</td><td>40 </td><td>Calças   </td></tr>\n",
              "\t<tr><td>2023-01-06</td><td>1008</td><td>Vestido Floral      </td><td>6 </td><td>35 </td><td>Vestidos </td></tr>\n",
              "\t<tr><td>2023-01-07</td><td>1009</td><td>Terno Completo      </td><td>1 </td><td>15 </td><td>Ternos   </td></tr>\n",
              "\t<tr><td>2023-01-08</td><td>1010</td><td>Camiseta Básica     </td><td>15</td><td>100</td><td>Camisetas</td></tr>\n",
              "</tbody>\n",
              "</table>\n"
            ],
            "text/markdown": "\nA matrix: 10 × 6 of type chr\n\n| Data | ID_Produto | Nome_Produto | Quantidade_Vendida | Estoque_Disponível | Categoria |\n|---|---|---|---|---|---|\n| 2023-01-01 | 1001 | Camisa Social Azul   | 5  | 50  | Camisas   |\n| 2023-01-01 | 1002 | Calça Jeans          | 8  | 30  | Calças    |\n| 2023-01-02 | 1003 | Jaqueta de Couro     | 2  | 20  | Jaquetas  |\n| 2023-01-03 | 1004 | Camisa Social Branca | 3  | 45  | Camisas   |\n| 2023-01-03 | 1005 | Saia Longa           | 4  | 25  | Saias     |\n| 2023-01-04 | 1006 | Blusa de Algodão     | 7  | 60  | Blusas    |\n| 2023-01-05 | 1007 | Calça de Moletom     | 10 | 40  | Calças    |\n| 2023-01-06 | 1008 | Vestido Floral       | 6  | 35  | Vestidos  |\n| 2023-01-07 | 1009 | Terno Completo       | 1  | 15  | Ternos    |\n| 2023-01-08 | 1010 | Camiseta Básica      | 15 | 100 | Camisetas |\n\n",
            "text/latex": "A matrix: 10 × 6 of type chr\n\\begin{tabular}{llllll}\n Data & ID\\_Produto & Nome\\_Produto & Quantidade\\_Vendida & Estoque\\_Disponível & Categoria\\\\\n\\hline\n\t 2023-01-01 & 1001 & Camisa Social Azul   & 5  & 50  & Camisas  \\\\\n\t 2023-01-01 & 1002 & Calça Jeans          & 8  & 30  & Calças   \\\\\n\t 2023-01-02 & 1003 & Jaqueta de Couro     & 2  & 20  & Jaquetas \\\\\n\t 2023-01-03 & 1004 & Camisa Social Branca & 3  & 45  & Camisas  \\\\\n\t 2023-01-03 & 1005 & Saia Longa           & 4  & 25  & Saias    \\\\\n\t 2023-01-04 & 1006 & Blusa de Algodão     & 7  & 60  & Blusas   \\\\\n\t 2023-01-05 & 1007 & Calça de Moletom     & 10 & 40  & Calças   \\\\\n\t 2023-01-06 & 1008 & Vestido Floral       & 6  & 35  & Vestidos \\\\\n\t 2023-01-07 & 1009 & Terno Completo       & 1  & 15  & Ternos   \\\\\n\t 2023-01-08 & 1010 & Camiseta Básica      & 15 & 100 & Camisetas\\\\\n\\end{tabular}\n",
            "text/plain": [
              "      Data       ID_Produto Nome_Produto         Quantidade_Vendida\n",
              " [1,] 2023-01-01 1001       Camisa Social Azul   5                 \n",
              " [2,] 2023-01-01 1002       Calça Jeans          8                 \n",
              " [3,] 2023-01-02 1003       Jaqueta de Couro     2                 \n",
              " [4,] 2023-01-03 1004       Camisa Social Branca 3                 \n",
              " [5,] 2023-01-03 1005       Saia Longa           4                 \n",
              " [6,] 2023-01-04 1006       Blusa de Algodão     7                 \n",
              " [7,] 2023-01-05 1007       Calça de Moletom     10                \n",
              " [8,] 2023-01-06 1008       Vestido Floral       6                 \n",
              " [9,] 2023-01-07 1009       Terno Completo       1                 \n",
              "[10,] 2023-01-08 1010       Camiseta Básica      15                \n",
              "      Estoque_Disponível Categoria\n",
              " [1,] 50                 Camisas  \n",
              " [2,] 30                 Calças   \n",
              " [3,] 20                 Jaquetas \n",
              " [4,] 45                 Camisas  \n",
              " [5,] 25                 Saias    \n",
              " [6,] 60                 Blusas   \n",
              " [7,] 40                 Calças   \n",
              " [8,] 35                 Vestidos \n",
              " [9,] 15                 Ternos   \n",
              "[10,] 100                Camisetas"
            ]
          },
          "metadata": {}
        }
      ]
    },
    {
      "cell_type": "markdown",
      "source": [
        "**Transforamndo matriz em tabela:**"
      ],
      "metadata": {
        "id": "E2u9Bi1AdK5s"
      }
    },
    {
      "cell_type": "code",
      "source": [
        "sales_data_table <- as.table(sales_data_matrix)\n",
        "sales_data_table"
      ],
      "metadata": {
        "colab": {
          "base_uri": "https://localhost:8080/",
          "height": 399
        },
        "id": "eUI_AFhCdAsq",
        "outputId": "17a86877-6f9d-4a14-b6b0-df0a1a7e6e4a"
      },
      "execution_count": 69,
      "outputs": [
        {
          "output_type": "display_data",
          "data": {
            "text/plain": [
              "  Data       ID_Produto Nome_Produto         Quantidade_Vendida\n",
              "A 2023-01-01 1001       Camisa Social Azul   5                 \n",
              "B 2023-01-01 1002       Calça Jeans          8                 \n",
              "C 2023-01-02 1003       Jaqueta de Couro     2                 \n",
              "D 2023-01-03 1004       Camisa Social Branca 3                 \n",
              "E 2023-01-03 1005       Saia Longa           4                 \n",
              "F 2023-01-04 1006       Blusa de Algodão     7                 \n",
              "G 2023-01-05 1007       Calça de Moletom     10                \n",
              "H 2023-01-06 1008       Vestido Floral       6                 \n",
              "I 2023-01-07 1009       Terno Completo       1                 \n",
              "J 2023-01-08 1010       Camiseta Básica      15                \n",
              "  Estoque_Disponível Categoria\n",
              "A 50                 Camisas  \n",
              "B 30                 Calças   \n",
              "C 20                 Jaquetas \n",
              "D 45                 Camisas  \n",
              "E 25                 Saias    \n",
              "F 60                 Blusas   \n",
              "G 40                 Calças   \n",
              "H 35                 Vestidos \n",
              "I 15                 Ternos   \n",
              "J 100                Camisetas"
            ]
          },
          "metadata": {}
        }
      ]
    },
    {
      "cell_type": "code",
      "source": [
        "categorias <- sales_data_matrix[,6]\n",
        "categorias"
      ],
      "metadata": {
        "colab": {
          "base_uri": "https://localhost:8080/",
          "height": 34
        },
        "id": "N3IJzpzsdjQr",
        "outputId": "44c8954e-c579-4dc8-9a83-e3e5506e4c5b"
      },
      "execution_count": 70,
      "outputs": [
        {
          "output_type": "display_data",
          "data": {
            "text/html": [
              "<style>\n",
              ".list-inline {list-style: none; margin:0; padding: 0}\n",
              ".list-inline>li {display: inline-block}\n",
              ".list-inline>li:not(:last-child)::after {content: \"\\00b7\"; padding: 0 .5ex}\n",
              "</style>\n",
              "<ol class=list-inline><li>'Camisas'</li><li>'Calças'</li><li>'Jaquetas'</li><li>'Camisas'</li><li>'Saias'</li><li>'Blusas'</li><li>'Calças'</li><li>'Vestidos'</li><li>'Ternos'</li><li>'Camisetas'</li></ol>\n"
            ],
            "text/markdown": "1. 'Camisas'\n2. 'Calças'\n3. 'Jaquetas'\n4. 'Camisas'\n5. 'Saias'\n6. 'Blusas'\n7. 'Calças'\n8. 'Vestidos'\n9. 'Ternos'\n10. 'Camisetas'\n\n\n",
            "text/latex": "\\begin{enumerate*}\n\\item 'Camisas'\n\\item 'Calças'\n\\item 'Jaquetas'\n\\item 'Camisas'\n\\item 'Saias'\n\\item 'Blusas'\n\\item 'Calças'\n\\item 'Vestidos'\n\\item 'Ternos'\n\\item 'Camisetas'\n\\end{enumerate*}\n",
            "text/plain": [
              " [1] \"Camisas\"   \"Calças\"    \"Jaquetas\"  \"Camisas\"   \"Saias\"     \"Blusas\"   \n",
              " [7] \"Calças\"    \"Vestidos\"  \"Ternos\"    \"Camisetas\""
            ]
          },
          "metadata": {}
        }
      ]
    },
    {
      "cell_type": "code",
      "source": [
        "frequencias <- table(categorias)\n",
        "frequencias"
      ],
      "metadata": {
        "colab": {
          "base_uri": "https://localhost:8080/",
          "height": 69
        },
        "id": "yg9kX5kZeBCo",
        "outputId": "e4ace67d-5926-419c-e87a-1e470ec68574"
      },
      "execution_count": 71,
      "outputs": [
        {
          "output_type": "display_data",
          "data": {
            "text/plain": [
              "categorias\n",
              "   Blusas    Calças   Camisas Camisetas  Jaquetas     Saias    Ternos  Vestidos \n",
              "        1         2         2         1         1         1         1         1 "
            ]
          },
          "metadata": {}
        }
      ]
    },
    {
      "cell_type": "code",
      "source": [
        "path <- \"/content/dados_vendas_inventario_meteora_grande.csv\""
      ],
      "metadata": {
        "id": "pNLGl_RqeQ1o"
      },
      "execution_count": 72,
      "outputs": []
    },
    {
      "cell_type": "code",
      "source": [
        "sales_data <- read.csv(path)"
      ],
      "metadata": {
        "id": "zaCwAcS6-J8r"
      },
      "execution_count": 73,
      "outputs": []
    },
    {
      "cell_type": "code",
      "source": [
        "sales_data"
      ],
      "metadata": {
        "colab": {
          "base_uri": "https://localhost:8080/",
          "height": 1000
        },
        "id": "BHNrHkFA-TRn",
        "outputId": "d228763b-46be-4df2-aff4-ef73190a3c29"
      },
      "execution_count": 74,
      "outputs": [
        {
          "output_type": "display_data",
          "data": {
            "text/html": [
              "<table class=\"dataframe\">\n",
              "<caption>A data.frame: 310 × 6</caption>\n",
              "<thead>\n",
              "\t<tr><th scope=col>Data</th><th scope=col>ID_Produto</th><th scope=col>Nome_Produto</th><th scope=col>Quantidade_Vendida</th><th scope=col>Estoque_Disponível</th><th scope=col>Categoria</th></tr>\n",
              "\t<tr><th scope=col>&lt;chr&gt;</th><th scope=col>&lt;int&gt;</th><th scope=col>&lt;chr&gt;</th><th scope=col>&lt;int&gt;</th><th scope=col>&lt;int&gt;</th><th scope=col>&lt;chr&gt;</th></tr>\n",
              "</thead>\n",
              "<tbody>\n",
              "\t<tr><td>2023-01-01</td><td>1001</td><td>Camisa Social Azul  </td><td> 7</td><td>35</td><td>Camisas  </td></tr>\n",
              "\t<tr><td>2023-01-01</td><td>1002</td><td>Calça Jeans         </td><td> 7</td><td>58</td><td>Calças   </td></tr>\n",
              "\t<tr><td>2023-01-01</td><td>1003</td><td>Jaqueta de Couro    </td><td> 7</td><td>78</td><td>Jaquetas </td></tr>\n",
              "\t<tr><td>2023-01-01</td><td>1004</td><td>Camisa Social Branca</td><td>15</td><td>24</td><td>Camisas  </td></tr>\n",
              "\t<tr><td>2023-01-01</td><td>1005</td><td>Saia Longa          </td><td> 7</td><td>18</td><td>Saias    </td></tr>\n",
              "\t<tr><td>2023-01-01</td><td>1006</td><td>Blusa de Algodão    </td><td> 8</td><td>48</td><td>Blusas   </td></tr>\n",
              "\t<tr><td>2023-01-01</td><td>1007</td><td>Calça de Moletom    </td><td>10</td><td>36</td><td>Calças   </td></tr>\n",
              "\t<tr><td>2023-01-01</td><td>1008</td><td>Vestido Floral      </td><td> 6</td><td>95</td><td>Vestidos </td></tr>\n",
              "\t<tr><td>2023-01-01</td><td>1009</td><td>Terno Completo      </td><td>11</td><td>62</td><td>Ternos   </td></tr>\n",
              "\t<tr><td>2023-01-01</td><td>1010</td><td>Camiseta Básica     </td><td> 4</td><td>67</td><td>Camisetas</td></tr>\n",
              "\t<tr><td>2023-01-02</td><td>1001</td><td>Camisa Social Azul  </td><td>14</td><td>86</td><td>Camisas  </td></tr>\n",
              "\t<tr><td>2023-01-02</td><td>1002</td><td>Calça Jeans         </td><td>15</td><td>26</td><td>Calças   </td></tr>\n",
              "\t<tr><td>2023-01-02</td><td>1003</td><td>Jaqueta de Couro    </td><td> 1</td><td>19</td><td>Jaquetas </td></tr>\n",
              "\t<tr><td>2023-01-02</td><td>1004</td><td>Camisa Social Branca</td><td> 4</td><td>36</td><td>Camisas  </td></tr>\n",
              "\t<tr><td>2023-01-02</td><td>1005</td><td>Saia Longa          </td><td> 8</td><td>19</td><td>Saias    </td></tr>\n",
              "\t<tr><td>2023-01-02</td><td>1006</td><td>Blusa de Algodão    </td><td> 1</td><td>22</td><td>Blusas   </td></tr>\n",
              "\t<tr><td>2023-01-02</td><td>1007</td><td>Calça de Moletom    </td><td>11</td><td>62</td><td>Calças   </td></tr>\n",
              "\t<tr><td>2023-01-02</td><td>1008</td><td>Vestido Floral      </td><td>10</td><td>74</td><td>Vestidos </td></tr>\n",
              "\t<tr><td>2023-01-02</td><td>1009</td><td>Terno Completo      </td><td> 1</td><td>12</td><td>Ternos   </td></tr>\n",
              "\t<tr><td>2023-01-02</td><td>1010</td><td>Camiseta Básica     </td><td>13</td><td>99</td><td>Camisetas</td></tr>\n",
              "\t<tr><td>2023-01-03</td><td>1001</td><td>Camisa Social Azul  </td><td> 2</td><td>37</td><td>Camisas  </td></tr>\n",
              "\t<tr><td>2023-01-03</td><td>1002</td><td>Calça Jeans         </td><td> 5</td><td>65</td><td>Calças   </td></tr>\n",
              "\t<tr><td>2023-01-03</td><td>1003</td><td>Jaqueta de Couro    </td><td>10</td><td>97</td><td>Jaquetas </td></tr>\n",
              "\t<tr><td>2023-01-03</td><td>1004</td><td>Camisa Social Branca</td><td>12</td><td>44</td><td>Camisas  </td></tr>\n",
              "\t<tr><td>2023-01-03</td><td>1005</td><td>Saia Longa          </td><td>13</td><td>28</td><td>Saias    </td></tr>\n",
              "\t<tr><td>2023-01-03</td><td>1006</td><td>Blusa de Algodão    </td><td> 4</td><td>99</td><td>Blusas   </td></tr>\n",
              "\t<tr><td>2023-01-03</td><td>1007</td><td>Calça de Moletom    </td><td> 5</td><td>24</td><td>Calças   </td></tr>\n",
              "\t<tr><td>2023-01-03</td><td>1008</td><td>Vestido Floral      </td><td>17</td><td>96</td><td>Vestidos </td></tr>\n",
              "\t<tr><td>2023-01-03</td><td>1009</td><td>Terno Completo      </td><td>18</td><td>76</td><td>Ternos   </td></tr>\n",
              "\t<tr><td>2023-01-03</td><td>1010</td><td>Camiseta Básica     </td><td>11</td><td>15</td><td>Camisetas</td></tr>\n",
              "\t<tr><td>⋮</td><td>⋮</td><td>⋮</td><td>⋮</td><td>⋮</td><td>⋮</td></tr>\n",
              "\t<tr><td>2023-01-29</td><td>1001</td><td>Camisa Social Azul  </td><td> 8</td><td>15</td><td>Camisas  </td></tr>\n",
              "\t<tr><td>2023-01-29</td><td>1002</td><td>Calça Jeans         </td><td>12</td><td>37</td><td>Calças   </td></tr>\n",
              "\t<tr><td>2023-01-29</td><td>1003</td><td>Jaqueta de Couro    </td><td>10</td><td>21</td><td>Jaquetas </td></tr>\n",
              "\t<tr><td>2023-01-29</td><td>1004</td><td>Camisa Social Branca</td><td> 6</td><td>49</td><td>Camisas  </td></tr>\n",
              "\t<tr><td>2023-01-29</td><td>1005</td><td>Saia Longa          </td><td> 3</td><td>43</td><td>Saias    </td></tr>\n",
              "\t<tr><td>2023-01-29</td><td>1006</td><td>Blusa de Algodão    </td><td>12</td><td>96</td><td>Blusas   </td></tr>\n",
              "\t<tr><td>2023-01-29</td><td>1007</td><td>Calça de Moletom    </td><td> 1</td><td>18</td><td>Calças   </td></tr>\n",
              "\t<tr><td>2023-01-29</td><td>1008</td><td>Vestido Floral      </td><td> 2</td><td>57</td><td>Vestidos </td></tr>\n",
              "\t<tr><td>2023-01-29</td><td>1009</td><td>Terno Completo      </td><td>10</td><td>97</td><td>Ternos   </td></tr>\n",
              "\t<tr><td>2023-01-29</td><td>1010</td><td>Camiseta Básica     </td><td>12</td><td>42</td><td>Camisetas</td></tr>\n",
              "\t<tr><td>2023-01-30</td><td>1001</td><td>Camisa Social Azul  </td><td> 8</td><td>74</td><td>Camisas  </td></tr>\n",
              "\t<tr><td>2023-01-30</td><td>1002</td><td>Calça Jeans         </td><td> 2</td><td>59</td><td>Calças   </td></tr>\n",
              "\t<tr><td>2023-01-30</td><td>1003</td><td>Jaqueta de Couro    </td><td>11</td><td>45</td><td>Jaquetas </td></tr>\n",
              "\t<tr><td>2023-01-30</td><td>1004</td><td>Camisa Social Branca</td><td>13</td><td>97</td><td>Camisas  </td></tr>\n",
              "\t<tr><td>2023-01-30</td><td>1005</td><td>Saia Longa          </td><td> 4</td><td>62</td><td>Saias    </td></tr>\n",
              "\t<tr><td>2023-01-30</td><td>1006</td><td>Blusa de Algodão    </td><td> 8</td><td>55</td><td>Blusas   </td></tr>\n",
              "\t<tr><td>2023-01-30</td><td>1007</td><td>Calça de Moletom    </td><td>17</td><td>60</td><td>Calças   </td></tr>\n",
              "\t<tr><td>2023-01-30</td><td>1008</td><td>Vestido Floral      </td><td>18</td><td>33</td><td>Vestidos </td></tr>\n",
              "\t<tr><td>2023-01-30</td><td>1009</td><td>Terno Completo      </td><td> 7</td><td>22</td><td>Ternos   </td></tr>\n",
              "\t<tr><td>2023-01-30</td><td>1010</td><td>Camiseta Básica     </td><td> 6</td><td>66</td><td>Camisetas</td></tr>\n",
              "\t<tr><td>2023-01-31</td><td>1001</td><td>Camisa Social Azul  </td><td>18</td><td>72</td><td>Camisas  </td></tr>\n",
              "\t<tr><td>2023-01-31</td><td>1002</td><td>Calça Jeans         </td><td>12</td><td>93</td><td>Calças   </td></tr>\n",
              "\t<tr><td>2023-01-31</td><td>1003</td><td>Jaqueta de Couro    </td><td>12</td><td>45</td><td>Jaquetas </td></tr>\n",
              "\t<tr><td>2023-01-31</td><td>1004</td><td>Camisa Social Branca</td><td> 9</td><td>80</td><td>Camisas  </td></tr>\n",
              "\t<tr><td>2023-01-31</td><td>1005</td><td>Saia Longa          </td><td>11</td><td>67</td><td>Saias    </td></tr>\n",
              "\t<tr><td>2023-01-31</td><td>1006</td><td>Blusa de Algodão    </td><td>10</td><td>41</td><td>Blusas   </td></tr>\n",
              "\t<tr><td>2023-01-31</td><td>1007</td><td>Calça de Moletom    </td><td>11</td><td>40</td><td>Calças   </td></tr>\n",
              "\t<tr><td>2023-01-31</td><td>1008</td><td>Vestido Floral      </td><td>16</td><td>49</td><td>Vestidos </td></tr>\n",
              "\t<tr><td>2023-01-31</td><td>1009</td><td>Terno Completo      </td><td> 6</td><td>65</td><td>Ternos   </td></tr>\n",
              "\t<tr><td>2023-01-31</td><td>1010</td><td>Camiseta Básica     </td><td>16</td><td>54</td><td>Camisetas</td></tr>\n",
              "</tbody>\n",
              "</table>\n"
            ],
            "text/markdown": "\nA data.frame: 310 × 6\n\n| Data &lt;chr&gt; | ID_Produto &lt;int&gt; | Nome_Produto &lt;chr&gt; | Quantidade_Vendida &lt;int&gt; | Estoque_Disponível &lt;int&gt; | Categoria &lt;chr&gt; |\n|---|---|---|---|---|---|\n| 2023-01-01 | 1001 | Camisa Social Azul   |  7 | 35 | Camisas   |\n| 2023-01-01 | 1002 | Calça Jeans          |  7 | 58 | Calças    |\n| 2023-01-01 | 1003 | Jaqueta de Couro     |  7 | 78 | Jaquetas  |\n| 2023-01-01 | 1004 | Camisa Social Branca | 15 | 24 | Camisas   |\n| 2023-01-01 | 1005 | Saia Longa           |  7 | 18 | Saias     |\n| 2023-01-01 | 1006 | Blusa de Algodão     |  8 | 48 | Blusas    |\n| 2023-01-01 | 1007 | Calça de Moletom     | 10 | 36 | Calças    |\n| 2023-01-01 | 1008 | Vestido Floral       |  6 | 95 | Vestidos  |\n| 2023-01-01 | 1009 | Terno Completo       | 11 | 62 | Ternos    |\n| 2023-01-01 | 1010 | Camiseta Básica      |  4 | 67 | Camisetas |\n| 2023-01-02 | 1001 | Camisa Social Azul   | 14 | 86 | Camisas   |\n| 2023-01-02 | 1002 | Calça Jeans          | 15 | 26 | Calças    |\n| 2023-01-02 | 1003 | Jaqueta de Couro     |  1 | 19 | Jaquetas  |\n| 2023-01-02 | 1004 | Camisa Social Branca |  4 | 36 | Camisas   |\n| 2023-01-02 | 1005 | Saia Longa           |  8 | 19 | Saias     |\n| 2023-01-02 | 1006 | Blusa de Algodão     |  1 | 22 | Blusas    |\n| 2023-01-02 | 1007 | Calça de Moletom     | 11 | 62 | Calças    |\n| 2023-01-02 | 1008 | Vestido Floral       | 10 | 74 | Vestidos  |\n| 2023-01-02 | 1009 | Terno Completo       |  1 | 12 | Ternos    |\n| 2023-01-02 | 1010 | Camiseta Básica      | 13 | 99 | Camisetas |\n| 2023-01-03 | 1001 | Camisa Social Azul   |  2 | 37 | Camisas   |\n| 2023-01-03 | 1002 | Calça Jeans          |  5 | 65 | Calças    |\n| 2023-01-03 | 1003 | Jaqueta de Couro     | 10 | 97 | Jaquetas  |\n| 2023-01-03 | 1004 | Camisa Social Branca | 12 | 44 | Camisas   |\n| 2023-01-03 | 1005 | Saia Longa           | 13 | 28 | Saias     |\n| 2023-01-03 | 1006 | Blusa de Algodão     |  4 | 99 | Blusas    |\n| 2023-01-03 | 1007 | Calça de Moletom     |  5 | 24 | Calças    |\n| 2023-01-03 | 1008 | Vestido Floral       | 17 | 96 | Vestidos  |\n| 2023-01-03 | 1009 | Terno Completo       | 18 | 76 | Ternos    |\n| 2023-01-03 | 1010 | Camiseta Básica      | 11 | 15 | Camisetas |\n| ⋮ | ⋮ | ⋮ | ⋮ | ⋮ | ⋮ |\n| 2023-01-29 | 1001 | Camisa Social Azul   |  8 | 15 | Camisas   |\n| 2023-01-29 | 1002 | Calça Jeans          | 12 | 37 | Calças    |\n| 2023-01-29 | 1003 | Jaqueta de Couro     | 10 | 21 | Jaquetas  |\n| 2023-01-29 | 1004 | Camisa Social Branca |  6 | 49 | Camisas   |\n| 2023-01-29 | 1005 | Saia Longa           |  3 | 43 | Saias     |\n| 2023-01-29 | 1006 | Blusa de Algodão     | 12 | 96 | Blusas    |\n| 2023-01-29 | 1007 | Calça de Moletom     |  1 | 18 | Calças    |\n| 2023-01-29 | 1008 | Vestido Floral       |  2 | 57 | Vestidos  |\n| 2023-01-29 | 1009 | Terno Completo       | 10 | 97 | Ternos    |\n| 2023-01-29 | 1010 | Camiseta Básica      | 12 | 42 | Camisetas |\n| 2023-01-30 | 1001 | Camisa Social Azul   |  8 | 74 | Camisas   |\n| 2023-01-30 | 1002 | Calça Jeans          |  2 | 59 | Calças    |\n| 2023-01-30 | 1003 | Jaqueta de Couro     | 11 | 45 | Jaquetas  |\n| 2023-01-30 | 1004 | Camisa Social Branca | 13 | 97 | Camisas   |\n| 2023-01-30 | 1005 | Saia Longa           |  4 | 62 | Saias     |\n| 2023-01-30 | 1006 | Blusa de Algodão     |  8 | 55 | Blusas    |\n| 2023-01-30 | 1007 | Calça de Moletom     | 17 | 60 | Calças    |\n| 2023-01-30 | 1008 | Vestido Floral       | 18 | 33 | Vestidos  |\n| 2023-01-30 | 1009 | Terno Completo       |  7 | 22 | Ternos    |\n| 2023-01-30 | 1010 | Camiseta Básica      |  6 | 66 | Camisetas |\n| 2023-01-31 | 1001 | Camisa Social Azul   | 18 | 72 | Camisas   |\n| 2023-01-31 | 1002 | Calça Jeans          | 12 | 93 | Calças    |\n| 2023-01-31 | 1003 | Jaqueta de Couro     | 12 | 45 | Jaquetas  |\n| 2023-01-31 | 1004 | Camisa Social Branca |  9 | 80 | Camisas   |\n| 2023-01-31 | 1005 | Saia Longa           | 11 | 67 | Saias     |\n| 2023-01-31 | 1006 | Blusa de Algodão     | 10 | 41 | Blusas    |\n| 2023-01-31 | 1007 | Calça de Moletom     | 11 | 40 | Calças    |\n| 2023-01-31 | 1008 | Vestido Floral       | 16 | 49 | Vestidos  |\n| 2023-01-31 | 1009 | Terno Completo       |  6 | 65 | Ternos    |\n| 2023-01-31 | 1010 | Camiseta Básica      | 16 | 54 | Camisetas |\n\n",
            "text/latex": "A data.frame: 310 × 6\n\\begin{tabular}{llllll}\n Data & ID\\_Produto & Nome\\_Produto & Quantidade\\_Vendida & Estoque\\_Disponível & Categoria\\\\\n <chr> & <int> & <chr> & <int> & <int> & <chr>\\\\\n\\hline\n\t 2023-01-01 & 1001 & Camisa Social Azul   &  7 & 35 & Camisas  \\\\\n\t 2023-01-01 & 1002 & Calça Jeans          &  7 & 58 & Calças   \\\\\n\t 2023-01-01 & 1003 & Jaqueta de Couro     &  7 & 78 & Jaquetas \\\\\n\t 2023-01-01 & 1004 & Camisa Social Branca & 15 & 24 & Camisas  \\\\\n\t 2023-01-01 & 1005 & Saia Longa           &  7 & 18 & Saias    \\\\\n\t 2023-01-01 & 1006 & Blusa de Algodão     &  8 & 48 & Blusas   \\\\\n\t 2023-01-01 & 1007 & Calça de Moletom     & 10 & 36 & Calças   \\\\\n\t 2023-01-01 & 1008 & Vestido Floral       &  6 & 95 & Vestidos \\\\\n\t 2023-01-01 & 1009 & Terno Completo       & 11 & 62 & Ternos   \\\\\n\t 2023-01-01 & 1010 & Camiseta Básica      &  4 & 67 & Camisetas\\\\\n\t 2023-01-02 & 1001 & Camisa Social Azul   & 14 & 86 & Camisas  \\\\\n\t 2023-01-02 & 1002 & Calça Jeans          & 15 & 26 & Calças   \\\\\n\t 2023-01-02 & 1003 & Jaqueta de Couro     &  1 & 19 & Jaquetas \\\\\n\t 2023-01-02 & 1004 & Camisa Social Branca &  4 & 36 & Camisas  \\\\\n\t 2023-01-02 & 1005 & Saia Longa           &  8 & 19 & Saias    \\\\\n\t 2023-01-02 & 1006 & Blusa de Algodão     &  1 & 22 & Blusas   \\\\\n\t 2023-01-02 & 1007 & Calça de Moletom     & 11 & 62 & Calças   \\\\\n\t 2023-01-02 & 1008 & Vestido Floral       & 10 & 74 & Vestidos \\\\\n\t 2023-01-02 & 1009 & Terno Completo       &  1 & 12 & Ternos   \\\\\n\t 2023-01-02 & 1010 & Camiseta Básica      & 13 & 99 & Camisetas\\\\\n\t 2023-01-03 & 1001 & Camisa Social Azul   &  2 & 37 & Camisas  \\\\\n\t 2023-01-03 & 1002 & Calça Jeans          &  5 & 65 & Calças   \\\\\n\t 2023-01-03 & 1003 & Jaqueta de Couro     & 10 & 97 & Jaquetas \\\\\n\t 2023-01-03 & 1004 & Camisa Social Branca & 12 & 44 & Camisas  \\\\\n\t 2023-01-03 & 1005 & Saia Longa           & 13 & 28 & Saias    \\\\\n\t 2023-01-03 & 1006 & Blusa de Algodão     &  4 & 99 & Blusas   \\\\\n\t 2023-01-03 & 1007 & Calça de Moletom     &  5 & 24 & Calças   \\\\\n\t 2023-01-03 & 1008 & Vestido Floral       & 17 & 96 & Vestidos \\\\\n\t 2023-01-03 & 1009 & Terno Completo       & 18 & 76 & Ternos   \\\\\n\t 2023-01-03 & 1010 & Camiseta Básica      & 11 & 15 & Camisetas\\\\\n\t ⋮ & ⋮ & ⋮ & ⋮ & ⋮ & ⋮\\\\\n\t 2023-01-29 & 1001 & Camisa Social Azul   &  8 & 15 & Camisas  \\\\\n\t 2023-01-29 & 1002 & Calça Jeans          & 12 & 37 & Calças   \\\\\n\t 2023-01-29 & 1003 & Jaqueta de Couro     & 10 & 21 & Jaquetas \\\\\n\t 2023-01-29 & 1004 & Camisa Social Branca &  6 & 49 & Camisas  \\\\\n\t 2023-01-29 & 1005 & Saia Longa           &  3 & 43 & Saias    \\\\\n\t 2023-01-29 & 1006 & Blusa de Algodão     & 12 & 96 & Blusas   \\\\\n\t 2023-01-29 & 1007 & Calça de Moletom     &  1 & 18 & Calças   \\\\\n\t 2023-01-29 & 1008 & Vestido Floral       &  2 & 57 & Vestidos \\\\\n\t 2023-01-29 & 1009 & Terno Completo       & 10 & 97 & Ternos   \\\\\n\t 2023-01-29 & 1010 & Camiseta Básica      & 12 & 42 & Camisetas\\\\\n\t 2023-01-30 & 1001 & Camisa Social Azul   &  8 & 74 & Camisas  \\\\\n\t 2023-01-30 & 1002 & Calça Jeans          &  2 & 59 & Calças   \\\\\n\t 2023-01-30 & 1003 & Jaqueta de Couro     & 11 & 45 & Jaquetas \\\\\n\t 2023-01-30 & 1004 & Camisa Social Branca & 13 & 97 & Camisas  \\\\\n\t 2023-01-30 & 1005 & Saia Longa           &  4 & 62 & Saias    \\\\\n\t 2023-01-30 & 1006 & Blusa de Algodão     &  8 & 55 & Blusas   \\\\\n\t 2023-01-30 & 1007 & Calça de Moletom     & 17 & 60 & Calças   \\\\\n\t 2023-01-30 & 1008 & Vestido Floral       & 18 & 33 & Vestidos \\\\\n\t 2023-01-30 & 1009 & Terno Completo       &  7 & 22 & Ternos   \\\\\n\t 2023-01-30 & 1010 & Camiseta Básica      &  6 & 66 & Camisetas\\\\\n\t 2023-01-31 & 1001 & Camisa Social Azul   & 18 & 72 & Camisas  \\\\\n\t 2023-01-31 & 1002 & Calça Jeans          & 12 & 93 & Calças   \\\\\n\t 2023-01-31 & 1003 & Jaqueta de Couro     & 12 & 45 & Jaquetas \\\\\n\t 2023-01-31 & 1004 & Camisa Social Branca &  9 & 80 & Camisas  \\\\\n\t 2023-01-31 & 1005 & Saia Longa           & 11 & 67 & Saias    \\\\\n\t 2023-01-31 & 1006 & Blusa de Algodão     & 10 & 41 & Blusas   \\\\\n\t 2023-01-31 & 1007 & Calça de Moletom     & 11 & 40 & Calças   \\\\\n\t 2023-01-31 & 1008 & Vestido Floral       & 16 & 49 & Vestidos \\\\\n\t 2023-01-31 & 1009 & Terno Completo       &  6 & 65 & Ternos   \\\\\n\t 2023-01-31 & 1010 & Camiseta Básica      & 16 & 54 & Camisetas\\\\\n\\end{tabular}\n",
            "text/plain": [
              "    Data       ID_Produto Nome_Produto         Quantidade_Vendida\n",
              "1   2023-01-01 1001       Camisa Social Azul    7                \n",
              "2   2023-01-01 1002       Calça Jeans           7                \n",
              "3   2023-01-01 1003       Jaqueta de Couro      7                \n",
              "4   2023-01-01 1004       Camisa Social Branca 15                \n",
              "5   2023-01-01 1005       Saia Longa            7                \n",
              "6   2023-01-01 1006       Blusa de Algodão      8                \n",
              "7   2023-01-01 1007       Calça de Moletom     10                \n",
              "8   2023-01-01 1008       Vestido Floral        6                \n",
              "9   2023-01-01 1009       Terno Completo       11                \n",
              "10  2023-01-01 1010       Camiseta Básica       4                \n",
              "11  2023-01-02 1001       Camisa Social Azul   14                \n",
              "12  2023-01-02 1002       Calça Jeans          15                \n",
              "13  2023-01-02 1003       Jaqueta de Couro      1                \n",
              "14  2023-01-02 1004       Camisa Social Branca  4                \n",
              "15  2023-01-02 1005       Saia Longa            8                \n",
              "16  2023-01-02 1006       Blusa de Algodão      1                \n",
              "17  2023-01-02 1007       Calça de Moletom     11                \n",
              "18  2023-01-02 1008       Vestido Floral       10                \n",
              "19  2023-01-02 1009       Terno Completo        1                \n",
              "20  2023-01-02 1010       Camiseta Básica      13                \n",
              "21  2023-01-03 1001       Camisa Social Azul    2                \n",
              "22  2023-01-03 1002       Calça Jeans           5                \n",
              "23  2023-01-03 1003       Jaqueta de Couro     10                \n",
              "24  2023-01-03 1004       Camisa Social Branca 12                \n",
              "25  2023-01-03 1005       Saia Longa           13                \n",
              "26  2023-01-03 1006       Blusa de Algodão      4                \n",
              "27  2023-01-03 1007       Calça de Moletom      5                \n",
              "28  2023-01-03 1008       Vestido Floral       17                \n",
              "29  2023-01-03 1009       Terno Completo       18                \n",
              "30  2023-01-03 1010       Camiseta Básica      11                \n",
              "⋮   ⋮          ⋮          ⋮                    ⋮                 \n",
              "281 2023-01-29 1001       Camisa Social Azul    8                \n",
              "282 2023-01-29 1002       Calça Jeans          12                \n",
              "283 2023-01-29 1003       Jaqueta de Couro     10                \n",
              "284 2023-01-29 1004       Camisa Social Branca  6                \n",
              "285 2023-01-29 1005       Saia Longa            3                \n",
              "286 2023-01-29 1006       Blusa de Algodão     12                \n",
              "287 2023-01-29 1007       Calça de Moletom      1                \n",
              "288 2023-01-29 1008       Vestido Floral        2                \n",
              "289 2023-01-29 1009       Terno Completo       10                \n",
              "290 2023-01-29 1010       Camiseta Básica      12                \n",
              "291 2023-01-30 1001       Camisa Social Azul    8                \n",
              "292 2023-01-30 1002       Calça Jeans           2                \n",
              "293 2023-01-30 1003       Jaqueta de Couro     11                \n",
              "294 2023-01-30 1004       Camisa Social Branca 13                \n",
              "295 2023-01-30 1005       Saia Longa            4                \n",
              "296 2023-01-30 1006       Blusa de Algodão      8                \n",
              "297 2023-01-30 1007       Calça de Moletom     17                \n",
              "298 2023-01-30 1008       Vestido Floral       18                \n",
              "299 2023-01-30 1009       Terno Completo        7                \n",
              "300 2023-01-30 1010       Camiseta Básica       6                \n",
              "301 2023-01-31 1001       Camisa Social Azul   18                \n",
              "302 2023-01-31 1002       Calça Jeans          12                \n",
              "303 2023-01-31 1003       Jaqueta de Couro     12                \n",
              "304 2023-01-31 1004       Camisa Social Branca  9                \n",
              "305 2023-01-31 1005       Saia Longa           11                \n",
              "306 2023-01-31 1006       Blusa de Algodão     10                \n",
              "307 2023-01-31 1007       Calça de Moletom     11                \n",
              "308 2023-01-31 1008       Vestido Floral       16                \n",
              "309 2023-01-31 1009       Terno Completo        6                \n",
              "310 2023-01-31 1010       Camiseta Básica      16                \n",
              "    Estoque_Disponível Categoria\n",
              "1   35                 Camisas  \n",
              "2   58                 Calças   \n",
              "3   78                 Jaquetas \n",
              "4   24                 Camisas  \n",
              "5   18                 Saias    \n",
              "6   48                 Blusas   \n",
              "7   36                 Calças   \n",
              "8   95                 Vestidos \n",
              "9   62                 Ternos   \n",
              "10  67                 Camisetas\n",
              "11  86                 Camisas  \n",
              "12  26                 Calças   \n",
              "13  19                 Jaquetas \n",
              "14  36                 Camisas  \n",
              "15  19                 Saias    \n",
              "16  22                 Blusas   \n",
              "17  62                 Calças   \n",
              "18  74                 Vestidos \n",
              "19  12                 Ternos   \n",
              "20  99                 Camisetas\n",
              "21  37                 Camisas  \n",
              "22  65                 Calças   \n",
              "23  97                 Jaquetas \n",
              "24  44                 Camisas  \n",
              "25  28                 Saias    \n",
              "26  99                 Blusas   \n",
              "27  24                 Calças   \n",
              "28  96                 Vestidos \n",
              "29  76                 Ternos   \n",
              "30  15                 Camisetas\n",
              "⋮   ⋮                  ⋮        \n",
              "281 15                 Camisas  \n",
              "282 37                 Calças   \n",
              "283 21                 Jaquetas \n",
              "284 49                 Camisas  \n",
              "285 43                 Saias    \n",
              "286 96                 Blusas   \n",
              "287 18                 Calças   \n",
              "288 57                 Vestidos \n",
              "289 97                 Ternos   \n",
              "290 42                 Camisetas\n",
              "291 74                 Camisas  \n",
              "292 59                 Calças   \n",
              "293 45                 Jaquetas \n",
              "294 97                 Camisas  \n",
              "295 62                 Saias    \n",
              "296 55                 Blusas   \n",
              "297 60                 Calças   \n",
              "298 33                 Vestidos \n",
              "299 22                 Ternos   \n",
              "300 66                 Camisetas\n",
              "301 72                 Camisas  \n",
              "302 93                 Calças   \n",
              "303 45                 Jaquetas \n",
              "304 80                 Camisas  \n",
              "305 67                 Saias    \n",
              "306 41                 Blusas   \n",
              "307 40                 Calças   \n",
              "308 49                 Vestidos \n",
              "309 65                 Ternos   \n",
              "310 54                 Camisetas"
            ]
          },
          "metadata": {}
        }
      ]
    },
    {
      "cell_type": "code",
      "source": [
        "class(sales_data)"
      ],
      "metadata": {
        "colab": {
          "base_uri": "https://localhost:8080/",
          "height": 34
        },
        "id": "MFA3NSuz-Ugi",
        "outputId": "035755e4-c049-4b3c-9e56-93731e1e79f3"
      },
      "execution_count": 75,
      "outputs": [
        {
          "output_type": "display_data",
          "data": {
            "text/html": [
              "'data.frame'"
            ],
            "text/markdown": "'data.frame'",
            "text/latex": "'data.frame'",
            "text/plain": [
              "[1] \"data.frame\""
            ]
          },
          "metadata": {}
        }
      ]
    },
    {
      "cell_type": "code",
      "source": [
        "class(sales_data_matrix)"
      ],
      "metadata": {
        "colab": {
          "base_uri": "https://localhost:8080/",
          "height": 34
        },
        "id": "Lmr_KQTp-tPa",
        "outputId": "730a5751-1708-4214-f51e-abb62a1d5368"
      },
      "execution_count": 76,
      "outputs": [
        {
          "output_type": "display_data",
          "data": {
            "text/html": [
              "<style>\n",
              ".list-inline {list-style: none; margin:0; padding: 0}\n",
              ".list-inline>li {display: inline-block}\n",
              ".list-inline>li:not(:last-child)::after {content: \"\\00b7\"; padding: 0 .5ex}\n",
              "</style>\n",
              "<ol class=list-inline><li>'matrix'</li><li>'array'</li></ol>\n"
            ],
            "text/markdown": "1. 'matrix'\n2. 'array'\n\n\n",
            "text/latex": "\\begin{enumerate*}\n\\item 'matrix'\n\\item 'array'\n\\end{enumerate*}\n",
            "text/plain": [
              "[1] \"matrix\" \"array\" "
            ]
          },
          "metadata": {}
        }
      ]
    },
    {
      "cell_type": "code",
      "source": [
        "head(sales_data)"
      ],
      "metadata": {
        "colab": {
          "base_uri": "https://localhost:8080/",
          "height": 286
        },
        "id": "kJq_o-9I-wIA",
        "outputId": "f7d5c840-1007-4ab8-e2f4-5dc0ed7439b7"
      },
      "execution_count": 77,
      "outputs": [
        {
          "output_type": "display_data",
          "data": {
            "text/html": [
              "<table class=\"dataframe\">\n",
              "<caption>A data.frame: 6 × 6</caption>\n",
              "<thead>\n",
              "\t<tr><th></th><th scope=col>Data</th><th scope=col>ID_Produto</th><th scope=col>Nome_Produto</th><th scope=col>Quantidade_Vendida</th><th scope=col>Estoque_Disponível</th><th scope=col>Categoria</th></tr>\n",
              "\t<tr><th></th><th scope=col>&lt;chr&gt;</th><th scope=col>&lt;int&gt;</th><th scope=col>&lt;chr&gt;</th><th scope=col>&lt;int&gt;</th><th scope=col>&lt;int&gt;</th><th scope=col>&lt;chr&gt;</th></tr>\n",
              "</thead>\n",
              "<tbody>\n",
              "\t<tr><th scope=row>1</th><td>2023-01-01</td><td>1001</td><td>Camisa Social Azul  </td><td> 7</td><td>35</td><td>Camisas </td></tr>\n",
              "\t<tr><th scope=row>2</th><td>2023-01-01</td><td>1002</td><td>Calça Jeans         </td><td> 7</td><td>58</td><td>Calças  </td></tr>\n",
              "\t<tr><th scope=row>3</th><td>2023-01-01</td><td>1003</td><td>Jaqueta de Couro    </td><td> 7</td><td>78</td><td>Jaquetas</td></tr>\n",
              "\t<tr><th scope=row>4</th><td>2023-01-01</td><td>1004</td><td>Camisa Social Branca</td><td>15</td><td>24</td><td>Camisas </td></tr>\n",
              "\t<tr><th scope=row>5</th><td>2023-01-01</td><td>1005</td><td>Saia Longa          </td><td> 7</td><td>18</td><td>Saias   </td></tr>\n",
              "\t<tr><th scope=row>6</th><td>2023-01-01</td><td>1006</td><td>Blusa de Algodão    </td><td> 8</td><td>48</td><td>Blusas  </td></tr>\n",
              "</tbody>\n",
              "</table>\n"
            ],
            "text/markdown": "\nA data.frame: 6 × 6\n\n| <!--/--> | Data &lt;chr&gt; | ID_Produto &lt;int&gt; | Nome_Produto &lt;chr&gt; | Quantidade_Vendida &lt;int&gt; | Estoque_Disponível &lt;int&gt; | Categoria &lt;chr&gt; |\n|---|---|---|---|---|---|---|\n| 1 | 2023-01-01 | 1001 | Camisa Social Azul   |  7 | 35 | Camisas  |\n| 2 | 2023-01-01 | 1002 | Calça Jeans          |  7 | 58 | Calças   |\n| 3 | 2023-01-01 | 1003 | Jaqueta de Couro     |  7 | 78 | Jaquetas |\n| 4 | 2023-01-01 | 1004 | Camisa Social Branca | 15 | 24 | Camisas  |\n| 5 | 2023-01-01 | 1005 | Saia Longa           |  7 | 18 | Saias    |\n| 6 | 2023-01-01 | 1006 | Blusa de Algodão     |  8 | 48 | Blusas   |\n\n",
            "text/latex": "A data.frame: 6 × 6\n\\begin{tabular}{r|llllll}\n  & Data & ID\\_Produto & Nome\\_Produto & Quantidade\\_Vendida & Estoque\\_Disponível & Categoria\\\\\n  & <chr> & <int> & <chr> & <int> & <int> & <chr>\\\\\n\\hline\n\t1 & 2023-01-01 & 1001 & Camisa Social Azul   &  7 & 35 & Camisas \\\\\n\t2 & 2023-01-01 & 1002 & Calça Jeans          &  7 & 58 & Calças  \\\\\n\t3 & 2023-01-01 & 1003 & Jaqueta de Couro     &  7 & 78 & Jaquetas\\\\\n\t4 & 2023-01-01 & 1004 & Camisa Social Branca & 15 & 24 & Camisas \\\\\n\t5 & 2023-01-01 & 1005 & Saia Longa           &  7 & 18 & Saias   \\\\\n\t6 & 2023-01-01 & 1006 & Blusa de Algodão     &  8 & 48 & Blusas  \\\\\n\\end{tabular}\n",
            "text/plain": [
              "  Data       ID_Produto Nome_Produto         Quantidade_Vendida\n",
              "1 2023-01-01 1001       Camisa Social Azul    7                \n",
              "2 2023-01-01 1002       Calça Jeans           7                \n",
              "3 2023-01-01 1003       Jaqueta de Couro      7                \n",
              "4 2023-01-01 1004       Camisa Social Branca 15                \n",
              "5 2023-01-01 1005       Saia Longa            7                \n",
              "6 2023-01-01 1006       Blusa de Algodão      8                \n",
              "  Estoque_Disponível Categoria\n",
              "1 35                 Camisas  \n",
              "2 58                 Calças   \n",
              "3 78                 Jaquetas \n",
              "4 24                 Camisas  \n",
              "5 18                 Saias    \n",
              "6 48                 Blusas   "
            ]
          },
          "metadata": {}
        }
      ]
    },
    {
      "cell_type": "code",
      "source": [
        "sales_data[1,]"
      ],
      "metadata": {
        "colab": {
          "base_uri": "https://localhost:8080/",
          "height": 129
        },
        "id": "crwlrogB_u05",
        "outputId": "824e224f-11a7-4ed4-b4aa-2993516bcf37"
      },
      "execution_count": 78,
      "outputs": [
        {
          "output_type": "display_data",
          "data": {
            "text/html": [
              "<table class=\"dataframe\">\n",
              "<caption>A data.frame: 1 × 6</caption>\n",
              "<thead>\n",
              "\t<tr><th></th><th scope=col>Data</th><th scope=col>ID_Produto</th><th scope=col>Nome_Produto</th><th scope=col>Quantidade_Vendida</th><th scope=col>Estoque_Disponível</th><th scope=col>Categoria</th></tr>\n",
              "\t<tr><th></th><th scope=col>&lt;chr&gt;</th><th scope=col>&lt;int&gt;</th><th scope=col>&lt;chr&gt;</th><th scope=col>&lt;int&gt;</th><th scope=col>&lt;int&gt;</th><th scope=col>&lt;chr&gt;</th></tr>\n",
              "</thead>\n",
              "<tbody>\n",
              "\t<tr><th scope=row>1</th><td>2023-01-01</td><td>1001</td><td>Camisa Social Azul</td><td>7</td><td>35</td><td>Camisas</td></tr>\n",
              "</tbody>\n",
              "</table>\n"
            ],
            "text/markdown": "\nA data.frame: 1 × 6\n\n| <!--/--> | Data &lt;chr&gt; | ID_Produto &lt;int&gt; | Nome_Produto &lt;chr&gt; | Quantidade_Vendida &lt;int&gt; | Estoque_Disponível &lt;int&gt; | Categoria &lt;chr&gt; |\n|---|---|---|---|---|---|---|\n| 1 | 2023-01-01 | 1001 | Camisa Social Azul | 7 | 35 | Camisas |\n\n",
            "text/latex": "A data.frame: 1 × 6\n\\begin{tabular}{r|llllll}\n  & Data & ID\\_Produto & Nome\\_Produto & Quantidade\\_Vendida & Estoque\\_Disponível & Categoria\\\\\n  & <chr> & <int> & <chr> & <int> & <int> & <chr>\\\\\n\\hline\n\t1 & 2023-01-01 & 1001 & Camisa Social Azul & 7 & 35 & Camisas\\\\\n\\end{tabular}\n",
            "text/plain": [
              "  Data       ID_Produto Nome_Produto       Quantidade_Vendida\n",
              "1 2023-01-01 1001       Camisa Social Azul 7                 \n",
              "  Estoque_Disponível Categoria\n",
              "1 35                 Camisas  "
            ]
          },
          "metadata": {}
        }
      ]
    },
    {
      "cell_type": "code",
      "source": [
        "sales_data[1,3]"
      ],
      "metadata": {
        "colab": {
          "base_uri": "https://localhost:8080/",
          "height": 34
        },
        "id": "JtyN7noDALvc",
        "outputId": "0c954857-eb33-4694-bd19-a9168549fb4c"
      },
      "execution_count": 79,
      "outputs": [
        {
          "output_type": "display_data",
          "data": {
            "text/html": [
              "'Camisa Social Azul'"
            ],
            "text/markdown": "'Camisa Social Azul'",
            "text/latex": "'Camisa Social Azul'",
            "text/plain": [
              "[1] \"Camisa Social Azul\""
            ]
          },
          "metadata": {}
        }
      ]
    },
    {
      "cell_type": "code",
      "source": [
        "sales_data[1,'Nome_Produto']"
      ],
      "metadata": {
        "colab": {
          "base_uri": "https://localhost:8080/",
          "height": 34
        },
        "id": "kXuRQH11APiE",
        "outputId": "e9e03d04-a5fc-49d8-8e99-49c6b514a1e7"
      },
      "execution_count": 80,
      "outputs": [
        {
          "output_type": "display_data",
          "data": {
            "text/html": [
              "'Camisa Social Azul'"
            ],
            "text/markdown": "'Camisa Social Azul'",
            "text/latex": "'Camisa Social Azul'",
            "text/plain": [
              "[1] \"Camisa Social Azul\""
            ]
          },
          "metadata": {}
        }
      ]
    },
    {
      "cell_type": "code",
      "source": [
        "sales_data$Nome_Produto[1]"
      ],
      "metadata": {
        "colab": {
          "base_uri": "https://localhost:8080/",
          "height": 34
        },
        "id": "MDmqyArKAYmS",
        "outputId": "2e0624aa-d387-48d7-f4d3-ba20e5a28431"
      },
      "execution_count": 81,
      "outputs": [
        {
          "output_type": "display_data",
          "data": {
            "text/html": [
              "'Camisa Social Azul'"
            ],
            "text/markdown": "'Camisa Social Azul'",
            "text/latex": "'Camisa Social Azul'",
            "text/plain": [
              "[1] \"Camisa Social Azul\""
            ]
          },
          "metadata": {}
        }
      ]
    },
    {
      "cell_type": "code",
      "source": [
        "summary(sales_data)"
      ],
      "metadata": {
        "colab": {
          "base_uri": "https://localhost:8080/",
          "height": 260
        },
        "id": "Mn0dvo9qAfAv",
        "outputId": "a77f75e1-70f1-4d30-cddc-ce8ff47e2895"
      },
      "execution_count": 82,
      "outputs": [
        {
          "output_type": "display_data",
          "data": {
            "text/plain": [
              "     Data             ID_Produto   Nome_Produto       Quantidade_Vendida\n",
              " Length:310         Min.   :1001   Length:310         Min.   : 1.00     \n",
              " Class :character   1st Qu.:1003   Class :character   1st Qu.: 6.00     \n",
              " Mode  :character   Median :1006   Mode  :character   Median :11.00     \n",
              "                    Mean   :1006                      Mean   :10.64     \n",
              "                    3rd Qu.:1008                      3rd Qu.:15.75     \n",
              "                    Max.   :1010                      Max.   :19.00     \n",
              " Estoque_Disponível  Categoria        \n",
              " Min.   :10.00      Length:310        \n",
              " 1st Qu.:33.00      Class :character  \n",
              " Median :54.00      Mode  :character  \n",
              " Mean   :54.39                        \n",
              " 3rd Qu.:76.00                        \n",
              " Max.   :99.00                        "
            ]
          },
          "metadata": {}
        }
      ]
    },
    {
      "cell_type": "markdown",
      "source": [
        "# Alterando e indexando os dados"
      ],
      "metadata": {
        "id": "NtkaotgKFmK5"
      }
    },
    {
      "cell_type": "code",
      "source": [
        "camisas_df <- subset(sales_data, Categoria == \"Camisas\")\n",
        "camisas_df"
      ],
      "metadata": {
        "colab": {
          "base_uri": "https://localhost:8080/",
          "height": 1000
        },
        "id": "805rdZnrFowp",
        "outputId": "fdb6821f-f711-434e-eeaf-f7f6128fc0cd"
      },
      "execution_count": 83,
      "outputs": [
        {
          "output_type": "display_data",
          "data": {
            "text/html": [
              "<table class=\"dataframe\">\n",
              "<caption>A data.frame: 62 × 6</caption>\n",
              "<thead>\n",
              "\t<tr><th></th><th scope=col>Data</th><th scope=col>ID_Produto</th><th scope=col>Nome_Produto</th><th scope=col>Quantidade_Vendida</th><th scope=col>Estoque_Disponível</th><th scope=col>Categoria</th></tr>\n",
              "\t<tr><th></th><th scope=col>&lt;chr&gt;</th><th scope=col>&lt;int&gt;</th><th scope=col>&lt;chr&gt;</th><th scope=col>&lt;int&gt;</th><th scope=col>&lt;int&gt;</th><th scope=col>&lt;chr&gt;</th></tr>\n",
              "</thead>\n",
              "<tbody>\n",
              "\t<tr><th scope=row>1</th><td>2023-01-01</td><td>1001</td><td>Camisa Social Azul  </td><td> 7</td><td>35</td><td>Camisas</td></tr>\n",
              "\t<tr><th scope=row>4</th><td>2023-01-01</td><td>1004</td><td>Camisa Social Branca</td><td>15</td><td>24</td><td>Camisas</td></tr>\n",
              "\t<tr><th scope=row>11</th><td>2023-01-02</td><td>1001</td><td>Camisa Social Azul  </td><td>14</td><td>86</td><td>Camisas</td></tr>\n",
              "\t<tr><th scope=row>14</th><td>2023-01-02</td><td>1004</td><td>Camisa Social Branca</td><td> 4</td><td>36</td><td>Camisas</td></tr>\n",
              "\t<tr><th scope=row>21</th><td>2023-01-03</td><td>1001</td><td>Camisa Social Azul  </td><td> 2</td><td>37</td><td>Camisas</td></tr>\n",
              "\t<tr><th scope=row>24</th><td>2023-01-03</td><td>1004</td><td>Camisa Social Branca</td><td>12</td><td>44</td><td>Camisas</td></tr>\n",
              "\t<tr><th scope=row>31</th><td>2023-01-04</td><td>1001</td><td>Camisa Social Azul  </td><td>11</td><td>21</td><td>Camisas</td></tr>\n",
              "\t<tr><th scope=row>34</th><td>2023-01-04</td><td>1004</td><td>Camisa Social Branca</td><td> 9</td><td>27</td><td>Camisas</td></tr>\n",
              "\t<tr><th scope=row>41</th><td>2023-01-05</td><td>1001</td><td>Camisa Social Azul  </td><td>16</td><td>52</td><td>Camisas</td></tr>\n",
              "\t<tr><th scope=row>44</th><td>2023-01-05</td><td>1004</td><td>Camisa Social Branca</td><td>17</td><td>84</td><td>Camisas</td></tr>\n",
              "\t<tr><th scope=row>51</th><td>2023-01-06</td><td>1001</td><td>Camisa Social Azul  </td><td>10</td><td>26</td><td>Camisas</td></tr>\n",
              "\t<tr><th scope=row>54</th><td>2023-01-06</td><td>1004</td><td>Camisa Social Branca</td><td>16</td><td>65</td><td>Camisas</td></tr>\n",
              "\t<tr><th scope=row>61</th><td>2023-01-07</td><td>1001</td><td>Camisa Social Azul  </td><td>14</td><td>19</td><td>Camisas</td></tr>\n",
              "\t<tr><th scope=row>64</th><td>2023-01-07</td><td>1004</td><td>Camisa Social Branca</td><td>16</td><td>92</td><td>Camisas</td></tr>\n",
              "\t<tr><th scope=row>71</th><td>2023-01-08</td><td>1001</td><td>Camisa Social Azul  </td><td>16</td><td>52</td><td>Camisas</td></tr>\n",
              "\t<tr><th scope=row>74</th><td>2023-01-08</td><td>1004</td><td>Camisa Social Branca</td><td>10</td><td>52</td><td>Camisas</td></tr>\n",
              "\t<tr><th scope=row>81</th><td>2023-01-09</td><td>1001</td><td>Camisa Social Azul  </td><td>15</td><td>38</td><td>Camisas</td></tr>\n",
              "\t<tr><th scope=row>84</th><td>2023-01-09</td><td>1004</td><td>Camisa Social Branca</td><td>16</td><td>72</td><td>Camisas</td></tr>\n",
              "\t<tr><th scope=row>91</th><td>2023-01-10</td><td>1001</td><td>Camisa Social Azul  </td><td>10</td><td>95</td><td>Camisas</td></tr>\n",
              "\t<tr><th scope=row>94</th><td>2023-01-10</td><td>1004</td><td>Camisa Social Branca</td><td>13</td><td>89</td><td>Camisas</td></tr>\n",
              "\t<tr><th scope=row>101</th><td>2023-01-11</td><td>1001</td><td>Camisa Social Azul  </td><td>13</td><td>19</td><td>Camisas</td></tr>\n",
              "\t<tr><th scope=row>104</th><td>2023-01-11</td><td>1004</td><td>Camisa Social Branca</td><td> 6</td><td>46</td><td>Camisas</td></tr>\n",
              "\t<tr><th scope=row>111</th><td>2023-01-12</td><td>1001</td><td>Camisa Social Azul  </td><td> 2</td><td>12</td><td>Camisas</td></tr>\n",
              "\t<tr><th scope=row>114</th><td>2023-01-12</td><td>1004</td><td>Camisa Social Branca</td><td>12</td><td>39</td><td>Camisas</td></tr>\n",
              "\t<tr><th scope=row>121</th><td>2023-01-13</td><td>1001</td><td>Camisa Social Azul  </td><td> 7</td><td>18</td><td>Camisas</td></tr>\n",
              "\t<tr><th scope=row>124</th><td>2023-01-13</td><td>1004</td><td>Camisa Social Branca</td><td> 2</td><td>42</td><td>Camisas</td></tr>\n",
              "\t<tr><th scope=row>131</th><td>2023-01-14</td><td>1001</td><td>Camisa Social Azul  </td><td>17</td><td>57</td><td>Camisas</td></tr>\n",
              "\t<tr><th scope=row>134</th><td>2023-01-14</td><td>1004</td><td>Camisa Social Branca</td><td>15</td><td>91</td><td>Camisas</td></tr>\n",
              "\t<tr><th scope=row>141</th><td>2023-01-15</td><td>1001</td><td>Camisa Social Azul  </td><td>15</td><td>96</td><td>Camisas</td></tr>\n",
              "\t<tr><th scope=row>144</th><td>2023-01-15</td><td>1004</td><td>Camisa Social Branca</td><td>11</td><td>94</td><td>Camisas</td></tr>\n",
              "\t<tr><th scope=row>⋮</th><td>⋮</td><td>⋮</td><td>⋮</td><td>⋮</td><td>⋮</td><td>⋮</td></tr>\n",
              "\t<tr><th scope=row>161</th><td>2023-01-17</td><td>1001</td><td>Camisa Social Azul  </td><td>14</td><td>96</td><td>Camisas</td></tr>\n",
              "\t<tr><th scope=row>164</th><td>2023-01-17</td><td>1004</td><td>Camisa Social Branca</td><td> 8</td><td>15</td><td>Camisas</td></tr>\n",
              "\t<tr><th scope=row>171</th><td>2023-01-18</td><td>1001</td><td>Camisa Social Azul  </td><td>19</td><td>89</td><td>Camisas</td></tr>\n",
              "\t<tr><th scope=row>174</th><td>2023-01-18</td><td>1004</td><td>Camisa Social Branca</td><td>12</td><td>88</td><td>Camisas</td></tr>\n",
              "\t<tr><th scope=row>181</th><td>2023-01-19</td><td>1001</td><td>Camisa Social Azul  </td><td> 4</td><td>63</td><td>Camisas</td></tr>\n",
              "\t<tr><th scope=row>184</th><td>2023-01-19</td><td>1004</td><td>Camisa Social Branca</td><td>11</td><td>86</td><td>Camisas</td></tr>\n",
              "\t<tr><th scope=row>191</th><td>2023-01-20</td><td>1001</td><td>Camisa Social Azul  </td><td>15</td><td>54</td><td>Camisas</td></tr>\n",
              "\t<tr><th scope=row>194</th><td>2023-01-20</td><td>1004</td><td>Camisa Social Branca</td><td>14</td><td>18</td><td>Camisas</td></tr>\n",
              "\t<tr><th scope=row>201</th><td>2023-01-21</td><td>1001</td><td>Camisa Social Azul  </td><td>18</td><td>56</td><td>Camisas</td></tr>\n",
              "\t<tr><th scope=row>204</th><td>2023-01-21</td><td>1004</td><td>Camisa Social Branca</td><td>10</td><td>69</td><td>Camisas</td></tr>\n",
              "\t<tr><th scope=row>211</th><td>2023-01-22</td><td>1001</td><td>Camisa Social Azul  </td><td>14</td><td>59</td><td>Camisas</td></tr>\n",
              "\t<tr><th scope=row>214</th><td>2023-01-22</td><td>1004</td><td>Camisa Social Branca</td><td>17</td><td>79</td><td>Camisas</td></tr>\n",
              "\t<tr><th scope=row>221</th><td>2023-01-23</td><td>1001</td><td>Camisa Social Azul  </td><td>13</td><td>57</td><td>Camisas</td></tr>\n",
              "\t<tr><th scope=row>224</th><td>2023-01-23</td><td>1004</td><td>Camisa Social Branca</td><td> 7</td><td>91</td><td>Camisas</td></tr>\n",
              "\t<tr><th scope=row>231</th><td>2023-01-24</td><td>1001</td><td>Camisa Social Azul  </td><td>11</td><td>54</td><td>Camisas</td></tr>\n",
              "\t<tr><th scope=row>234</th><td>2023-01-24</td><td>1004</td><td>Camisa Social Branca</td><td>16</td><td>38</td><td>Camisas</td></tr>\n",
              "\t<tr><th scope=row>241</th><td>2023-01-25</td><td>1001</td><td>Camisa Social Azul  </td><td> 2</td><td>59</td><td>Camisas</td></tr>\n",
              "\t<tr><th scope=row>244</th><td>2023-01-25</td><td>1004</td><td>Camisa Social Branca</td><td> 5</td><td>55</td><td>Camisas</td></tr>\n",
              "\t<tr><th scope=row>251</th><td>2023-01-26</td><td>1001</td><td>Camisa Social Azul  </td><td> 5</td><td>22</td><td>Camisas</td></tr>\n",
              "\t<tr><th scope=row>254</th><td>2023-01-26</td><td>1004</td><td>Camisa Social Branca</td><td>13</td><td>53</td><td>Camisas</td></tr>\n",
              "\t<tr><th scope=row>261</th><td>2023-01-27</td><td>1001</td><td>Camisa Social Azul  </td><td>15</td><td>96</td><td>Camisas</td></tr>\n",
              "\t<tr><th scope=row>264</th><td>2023-01-27</td><td>1004</td><td>Camisa Social Branca</td><td>14</td><td>27</td><td>Camisas</td></tr>\n",
              "\t<tr><th scope=row>271</th><td>2023-01-28</td><td>1001</td><td>Camisa Social Azul  </td><td> 2</td><td>68</td><td>Camisas</td></tr>\n",
              "\t<tr><th scope=row>274</th><td>2023-01-28</td><td>1004</td><td>Camisa Social Branca</td><td>12</td><td>73</td><td>Camisas</td></tr>\n",
              "\t<tr><th scope=row>281</th><td>2023-01-29</td><td>1001</td><td>Camisa Social Azul  </td><td> 8</td><td>15</td><td>Camisas</td></tr>\n",
              "\t<tr><th scope=row>284</th><td>2023-01-29</td><td>1004</td><td>Camisa Social Branca</td><td> 6</td><td>49</td><td>Camisas</td></tr>\n",
              "\t<tr><th scope=row>291</th><td>2023-01-30</td><td>1001</td><td>Camisa Social Azul  </td><td> 8</td><td>74</td><td>Camisas</td></tr>\n",
              "\t<tr><th scope=row>294</th><td>2023-01-30</td><td>1004</td><td>Camisa Social Branca</td><td>13</td><td>97</td><td>Camisas</td></tr>\n",
              "\t<tr><th scope=row>301</th><td>2023-01-31</td><td>1001</td><td>Camisa Social Azul  </td><td>18</td><td>72</td><td>Camisas</td></tr>\n",
              "\t<tr><th scope=row>304</th><td>2023-01-31</td><td>1004</td><td>Camisa Social Branca</td><td> 9</td><td>80</td><td>Camisas</td></tr>\n",
              "</tbody>\n",
              "</table>\n"
            ],
            "text/markdown": "\nA data.frame: 62 × 6\n\n| <!--/--> | Data &lt;chr&gt; | ID_Produto &lt;int&gt; | Nome_Produto &lt;chr&gt; | Quantidade_Vendida &lt;int&gt; | Estoque_Disponível &lt;int&gt; | Categoria &lt;chr&gt; |\n|---|---|---|---|---|---|---|\n| 1 | 2023-01-01 | 1001 | Camisa Social Azul   |  7 | 35 | Camisas |\n| 4 | 2023-01-01 | 1004 | Camisa Social Branca | 15 | 24 | Camisas |\n| 11 | 2023-01-02 | 1001 | Camisa Social Azul   | 14 | 86 | Camisas |\n| 14 | 2023-01-02 | 1004 | Camisa Social Branca |  4 | 36 | Camisas |\n| 21 | 2023-01-03 | 1001 | Camisa Social Azul   |  2 | 37 | Camisas |\n| 24 | 2023-01-03 | 1004 | Camisa Social Branca | 12 | 44 | Camisas |\n| 31 | 2023-01-04 | 1001 | Camisa Social Azul   | 11 | 21 | Camisas |\n| 34 | 2023-01-04 | 1004 | Camisa Social Branca |  9 | 27 | Camisas |\n| 41 | 2023-01-05 | 1001 | Camisa Social Azul   | 16 | 52 | Camisas |\n| 44 | 2023-01-05 | 1004 | Camisa Social Branca | 17 | 84 | Camisas |\n| 51 | 2023-01-06 | 1001 | Camisa Social Azul   | 10 | 26 | Camisas |\n| 54 | 2023-01-06 | 1004 | Camisa Social Branca | 16 | 65 | Camisas |\n| 61 | 2023-01-07 | 1001 | Camisa Social Azul   | 14 | 19 | Camisas |\n| 64 | 2023-01-07 | 1004 | Camisa Social Branca | 16 | 92 | Camisas |\n| 71 | 2023-01-08 | 1001 | Camisa Social Azul   | 16 | 52 | Camisas |\n| 74 | 2023-01-08 | 1004 | Camisa Social Branca | 10 | 52 | Camisas |\n| 81 | 2023-01-09 | 1001 | Camisa Social Azul   | 15 | 38 | Camisas |\n| 84 | 2023-01-09 | 1004 | Camisa Social Branca | 16 | 72 | Camisas |\n| 91 | 2023-01-10 | 1001 | Camisa Social Azul   | 10 | 95 | Camisas |\n| 94 | 2023-01-10 | 1004 | Camisa Social Branca | 13 | 89 | Camisas |\n| 101 | 2023-01-11 | 1001 | Camisa Social Azul   | 13 | 19 | Camisas |\n| 104 | 2023-01-11 | 1004 | Camisa Social Branca |  6 | 46 | Camisas |\n| 111 | 2023-01-12 | 1001 | Camisa Social Azul   |  2 | 12 | Camisas |\n| 114 | 2023-01-12 | 1004 | Camisa Social Branca | 12 | 39 | Camisas |\n| 121 | 2023-01-13 | 1001 | Camisa Social Azul   |  7 | 18 | Camisas |\n| 124 | 2023-01-13 | 1004 | Camisa Social Branca |  2 | 42 | Camisas |\n| 131 | 2023-01-14 | 1001 | Camisa Social Azul   | 17 | 57 | Camisas |\n| 134 | 2023-01-14 | 1004 | Camisa Social Branca | 15 | 91 | Camisas |\n| 141 | 2023-01-15 | 1001 | Camisa Social Azul   | 15 | 96 | Camisas |\n| 144 | 2023-01-15 | 1004 | Camisa Social Branca | 11 | 94 | Camisas |\n| ⋮ | ⋮ | ⋮ | ⋮ | ⋮ | ⋮ | ⋮ |\n| 161 | 2023-01-17 | 1001 | Camisa Social Azul   | 14 | 96 | Camisas |\n| 164 | 2023-01-17 | 1004 | Camisa Social Branca |  8 | 15 | Camisas |\n| 171 | 2023-01-18 | 1001 | Camisa Social Azul   | 19 | 89 | Camisas |\n| 174 | 2023-01-18 | 1004 | Camisa Social Branca | 12 | 88 | Camisas |\n| 181 | 2023-01-19 | 1001 | Camisa Social Azul   |  4 | 63 | Camisas |\n| 184 | 2023-01-19 | 1004 | Camisa Social Branca | 11 | 86 | Camisas |\n| 191 | 2023-01-20 | 1001 | Camisa Social Azul   | 15 | 54 | Camisas |\n| 194 | 2023-01-20 | 1004 | Camisa Social Branca | 14 | 18 | Camisas |\n| 201 | 2023-01-21 | 1001 | Camisa Social Azul   | 18 | 56 | Camisas |\n| 204 | 2023-01-21 | 1004 | Camisa Social Branca | 10 | 69 | Camisas |\n| 211 | 2023-01-22 | 1001 | Camisa Social Azul   | 14 | 59 | Camisas |\n| 214 | 2023-01-22 | 1004 | Camisa Social Branca | 17 | 79 | Camisas |\n| 221 | 2023-01-23 | 1001 | Camisa Social Azul   | 13 | 57 | Camisas |\n| 224 | 2023-01-23 | 1004 | Camisa Social Branca |  7 | 91 | Camisas |\n| 231 | 2023-01-24 | 1001 | Camisa Social Azul   | 11 | 54 | Camisas |\n| 234 | 2023-01-24 | 1004 | Camisa Social Branca | 16 | 38 | Camisas |\n| 241 | 2023-01-25 | 1001 | Camisa Social Azul   |  2 | 59 | Camisas |\n| 244 | 2023-01-25 | 1004 | Camisa Social Branca |  5 | 55 | Camisas |\n| 251 | 2023-01-26 | 1001 | Camisa Social Azul   |  5 | 22 | Camisas |\n| 254 | 2023-01-26 | 1004 | Camisa Social Branca | 13 | 53 | Camisas |\n| 261 | 2023-01-27 | 1001 | Camisa Social Azul   | 15 | 96 | Camisas |\n| 264 | 2023-01-27 | 1004 | Camisa Social Branca | 14 | 27 | Camisas |\n| 271 | 2023-01-28 | 1001 | Camisa Social Azul   |  2 | 68 | Camisas |\n| 274 | 2023-01-28 | 1004 | Camisa Social Branca | 12 | 73 | Camisas |\n| 281 | 2023-01-29 | 1001 | Camisa Social Azul   |  8 | 15 | Camisas |\n| 284 | 2023-01-29 | 1004 | Camisa Social Branca |  6 | 49 | Camisas |\n| 291 | 2023-01-30 | 1001 | Camisa Social Azul   |  8 | 74 | Camisas |\n| 294 | 2023-01-30 | 1004 | Camisa Social Branca | 13 | 97 | Camisas |\n| 301 | 2023-01-31 | 1001 | Camisa Social Azul   | 18 | 72 | Camisas |\n| 304 | 2023-01-31 | 1004 | Camisa Social Branca |  9 | 80 | Camisas |\n\n",
            "text/latex": "A data.frame: 62 × 6\n\\begin{tabular}{r|llllll}\n  & Data & ID\\_Produto & Nome\\_Produto & Quantidade\\_Vendida & Estoque\\_Disponível & Categoria\\\\\n  & <chr> & <int> & <chr> & <int> & <int> & <chr>\\\\\n\\hline\n\t1 & 2023-01-01 & 1001 & Camisa Social Azul   &  7 & 35 & Camisas\\\\\n\t4 & 2023-01-01 & 1004 & Camisa Social Branca & 15 & 24 & Camisas\\\\\n\t11 & 2023-01-02 & 1001 & Camisa Social Azul   & 14 & 86 & Camisas\\\\\n\t14 & 2023-01-02 & 1004 & Camisa Social Branca &  4 & 36 & Camisas\\\\\n\t21 & 2023-01-03 & 1001 & Camisa Social Azul   &  2 & 37 & Camisas\\\\\n\t24 & 2023-01-03 & 1004 & Camisa Social Branca & 12 & 44 & Camisas\\\\\n\t31 & 2023-01-04 & 1001 & Camisa Social Azul   & 11 & 21 & Camisas\\\\\n\t34 & 2023-01-04 & 1004 & Camisa Social Branca &  9 & 27 & Camisas\\\\\n\t41 & 2023-01-05 & 1001 & Camisa Social Azul   & 16 & 52 & Camisas\\\\\n\t44 & 2023-01-05 & 1004 & Camisa Social Branca & 17 & 84 & Camisas\\\\\n\t51 & 2023-01-06 & 1001 & Camisa Social Azul   & 10 & 26 & Camisas\\\\\n\t54 & 2023-01-06 & 1004 & Camisa Social Branca & 16 & 65 & Camisas\\\\\n\t61 & 2023-01-07 & 1001 & Camisa Social Azul   & 14 & 19 & Camisas\\\\\n\t64 & 2023-01-07 & 1004 & Camisa Social Branca & 16 & 92 & Camisas\\\\\n\t71 & 2023-01-08 & 1001 & Camisa Social Azul   & 16 & 52 & Camisas\\\\\n\t74 & 2023-01-08 & 1004 & Camisa Social Branca & 10 & 52 & Camisas\\\\\n\t81 & 2023-01-09 & 1001 & Camisa Social Azul   & 15 & 38 & Camisas\\\\\n\t84 & 2023-01-09 & 1004 & Camisa Social Branca & 16 & 72 & Camisas\\\\\n\t91 & 2023-01-10 & 1001 & Camisa Social Azul   & 10 & 95 & Camisas\\\\\n\t94 & 2023-01-10 & 1004 & Camisa Social Branca & 13 & 89 & Camisas\\\\\n\t101 & 2023-01-11 & 1001 & Camisa Social Azul   & 13 & 19 & Camisas\\\\\n\t104 & 2023-01-11 & 1004 & Camisa Social Branca &  6 & 46 & Camisas\\\\\n\t111 & 2023-01-12 & 1001 & Camisa Social Azul   &  2 & 12 & Camisas\\\\\n\t114 & 2023-01-12 & 1004 & Camisa Social Branca & 12 & 39 & Camisas\\\\\n\t121 & 2023-01-13 & 1001 & Camisa Social Azul   &  7 & 18 & Camisas\\\\\n\t124 & 2023-01-13 & 1004 & Camisa Social Branca &  2 & 42 & Camisas\\\\\n\t131 & 2023-01-14 & 1001 & Camisa Social Azul   & 17 & 57 & Camisas\\\\\n\t134 & 2023-01-14 & 1004 & Camisa Social Branca & 15 & 91 & Camisas\\\\\n\t141 & 2023-01-15 & 1001 & Camisa Social Azul   & 15 & 96 & Camisas\\\\\n\t144 & 2023-01-15 & 1004 & Camisa Social Branca & 11 & 94 & Camisas\\\\\n\t⋮ & ⋮ & ⋮ & ⋮ & ⋮ & ⋮ & ⋮\\\\\n\t161 & 2023-01-17 & 1001 & Camisa Social Azul   & 14 & 96 & Camisas\\\\\n\t164 & 2023-01-17 & 1004 & Camisa Social Branca &  8 & 15 & Camisas\\\\\n\t171 & 2023-01-18 & 1001 & Camisa Social Azul   & 19 & 89 & Camisas\\\\\n\t174 & 2023-01-18 & 1004 & Camisa Social Branca & 12 & 88 & Camisas\\\\\n\t181 & 2023-01-19 & 1001 & Camisa Social Azul   &  4 & 63 & Camisas\\\\\n\t184 & 2023-01-19 & 1004 & Camisa Social Branca & 11 & 86 & Camisas\\\\\n\t191 & 2023-01-20 & 1001 & Camisa Social Azul   & 15 & 54 & Camisas\\\\\n\t194 & 2023-01-20 & 1004 & Camisa Social Branca & 14 & 18 & Camisas\\\\\n\t201 & 2023-01-21 & 1001 & Camisa Social Azul   & 18 & 56 & Camisas\\\\\n\t204 & 2023-01-21 & 1004 & Camisa Social Branca & 10 & 69 & Camisas\\\\\n\t211 & 2023-01-22 & 1001 & Camisa Social Azul   & 14 & 59 & Camisas\\\\\n\t214 & 2023-01-22 & 1004 & Camisa Social Branca & 17 & 79 & Camisas\\\\\n\t221 & 2023-01-23 & 1001 & Camisa Social Azul   & 13 & 57 & Camisas\\\\\n\t224 & 2023-01-23 & 1004 & Camisa Social Branca &  7 & 91 & Camisas\\\\\n\t231 & 2023-01-24 & 1001 & Camisa Social Azul   & 11 & 54 & Camisas\\\\\n\t234 & 2023-01-24 & 1004 & Camisa Social Branca & 16 & 38 & Camisas\\\\\n\t241 & 2023-01-25 & 1001 & Camisa Social Azul   &  2 & 59 & Camisas\\\\\n\t244 & 2023-01-25 & 1004 & Camisa Social Branca &  5 & 55 & Camisas\\\\\n\t251 & 2023-01-26 & 1001 & Camisa Social Azul   &  5 & 22 & Camisas\\\\\n\t254 & 2023-01-26 & 1004 & Camisa Social Branca & 13 & 53 & Camisas\\\\\n\t261 & 2023-01-27 & 1001 & Camisa Social Azul   & 15 & 96 & Camisas\\\\\n\t264 & 2023-01-27 & 1004 & Camisa Social Branca & 14 & 27 & Camisas\\\\\n\t271 & 2023-01-28 & 1001 & Camisa Social Azul   &  2 & 68 & Camisas\\\\\n\t274 & 2023-01-28 & 1004 & Camisa Social Branca & 12 & 73 & Camisas\\\\\n\t281 & 2023-01-29 & 1001 & Camisa Social Azul   &  8 & 15 & Camisas\\\\\n\t284 & 2023-01-29 & 1004 & Camisa Social Branca &  6 & 49 & Camisas\\\\\n\t291 & 2023-01-30 & 1001 & Camisa Social Azul   &  8 & 74 & Camisas\\\\\n\t294 & 2023-01-30 & 1004 & Camisa Social Branca & 13 & 97 & Camisas\\\\\n\t301 & 2023-01-31 & 1001 & Camisa Social Azul   & 18 & 72 & Camisas\\\\\n\t304 & 2023-01-31 & 1004 & Camisa Social Branca &  9 & 80 & Camisas\\\\\n\\end{tabular}\n",
            "text/plain": [
              "    Data       ID_Produto Nome_Produto         Quantidade_Vendida\n",
              "1   2023-01-01 1001       Camisa Social Azul    7                \n",
              "4   2023-01-01 1004       Camisa Social Branca 15                \n",
              "11  2023-01-02 1001       Camisa Social Azul   14                \n",
              "14  2023-01-02 1004       Camisa Social Branca  4                \n",
              "21  2023-01-03 1001       Camisa Social Azul    2                \n",
              "24  2023-01-03 1004       Camisa Social Branca 12                \n",
              "31  2023-01-04 1001       Camisa Social Azul   11                \n",
              "34  2023-01-04 1004       Camisa Social Branca  9                \n",
              "41  2023-01-05 1001       Camisa Social Azul   16                \n",
              "44  2023-01-05 1004       Camisa Social Branca 17                \n",
              "51  2023-01-06 1001       Camisa Social Azul   10                \n",
              "54  2023-01-06 1004       Camisa Social Branca 16                \n",
              "61  2023-01-07 1001       Camisa Social Azul   14                \n",
              "64  2023-01-07 1004       Camisa Social Branca 16                \n",
              "71  2023-01-08 1001       Camisa Social Azul   16                \n",
              "74  2023-01-08 1004       Camisa Social Branca 10                \n",
              "81  2023-01-09 1001       Camisa Social Azul   15                \n",
              "84  2023-01-09 1004       Camisa Social Branca 16                \n",
              "91  2023-01-10 1001       Camisa Social Azul   10                \n",
              "94  2023-01-10 1004       Camisa Social Branca 13                \n",
              "101 2023-01-11 1001       Camisa Social Azul   13                \n",
              "104 2023-01-11 1004       Camisa Social Branca  6                \n",
              "111 2023-01-12 1001       Camisa Social Azul    2                \n",
              "114 2023-01-12 1004       Camisa Social Branca 12                \n",
              "121 2023-01-13 1001       Camisa Social Azul    7                \n",
              "124 2023-01-13 1004       Camisa Social Branca  2                \n",
              "131 2023-01-14 1001       Camisa Social Azul   17                \n",
              "134 2023-01-14 1004       Camisa Social Branca 15                \n",
              "141 2023-01-15 1001       Camisa Social Azul   15                \n",
              "144 2023-01-15 1004       Camisa Social Branca 11                \n",
              "⋮   ⋮          ⋮          ⋮                    ⋮                 \n",
              "161 2023-01-17 1001       Camisa Social Azul   14                \n",
              "164 2023-01-17 1004       Camisa Social Branca  8                \n",
              "171 2023-01-18 1001       Camisa Social Azul   19                \n",
              "174 2023-01-18 1004       Camisa Social Branca 12                \n",
              "181 2023-01-19 1001       Camisa Social Azul    4                \n",
              "184 2023-01-19 1004       Camisa Social Branca 11                \n",
              "191 2023-01-20 1001       Camisa Social Azul   15                \n",
              "194 2023-01-20 1004       Camisa Social Branca 14                \n",
              "201 2023-01-21 1001       Camisa Social Azul   18                \n",
              "204 2023-01-21 1004       Camisa Social Branca 10                \n",
              "211 2023-01-22 1001       Camisa Social Azul   14                \n",
              "214 2023-01-22 1004       Camisa Social Branca 17                \n",
              "221 2023-01-23 1001       Camisa Social Azul   13                \n",
              "224 2023-01-23 1004       Camisa Social Branca  7                \n",
              "231 2023-01-24 1001       Camisa Social Azul   11                \n",
              "234 2023-01-24 1004       Camisa Social Branca 16                \n",
              "241 2023-01-25 1001       Camisa Social Azul    2                \n",
              "244 2023-01-25 1004       Camisa Social Branca  5                \n",
              "251 2023-01-26 1001       Camisa Social Azul    5                \n",
              "254 2023-01-26 1004       Camisa Social Branca 13                \n",
              "261 2023-01-27 1001       Camisa Social Azul   15                \n",
              "264 2023-01-27 1004       Camisa Social Branca 14                \n",
              "271 2023-01-28 1001       Camisa Social Azul    2                \n",
              "274 2023-01-28 1004       Camisa Social Branca 12                \n",
              "281 2023-01-29 1001       Camisa Social Azul    8                \n",
              "284 2023-01-29 1004       Camisa Social Branca  6                \n",
              "291 2023-01-30 1001       Camisa Social Azul    8                \n",
              "294 2023-01-30 1004       Camisa Social Branca 13                \n",
              "301 2023-01-31 1001       Camisa Social Azul   18                \n",
              "304 2023-01-31 1004       Camisa Social Branca  9                \n",
              "    Estoque_Disponível Categoria\n",
              "1   35                 Camisas  \n",
              "4   24                 Camisas  \n",
              "11  86                 Camisas  \n",
              "14  36                 Camisas  \n",
              "21  37                 Camisas  \n",
              "24  44                 Camisas  \n",
              "31  21                 Camisas  \n",
              "34  27                 Camisas  \n",
              "41  52                 Camisas  \n",
              "44  84                 Camisas  \n",
              "51  26                 Camisas  \n",
              "54  65                 Camisas  \n",
              "61  19                 Camisas  \n",
              "64  92                 Camisas  \n",
              "71  52                 Camisas  \n",
              "74  52                 Camisas  \n",
              "81  38                 Camisas  \n",
              "84  72                 Camisas  \n",
              "91  95                 Camisas  \n",
              "94  89                 Camisas  \n",
              "101 19                 Camisas  \n",
              "104 46                 Camisas  \n",
              "111 12                 Camisas  \n",
              "114 39                 Camisas  \n",
              "121 18                 Camisas  \n",
              "124 42                 Camisas  \n",
              "131 57                 Camisas  \n",
              "134 91                 Camisas  \n",
              "141 96                 Camisas  \n",
              "144 94                 Camisas  \n",
              "⋮   ⋮                  ⋮        \n",
              "161 96                 Camisas  \n",
              "164 15                 Camisas  \n",
              "171 89                 Camisas  \n",
              "174 88                 Camisas  \n",
              "181 63                 Camisas  \n",
              "184 86                 Camisas  \n",
              "191 54                 Camisas  \n",
              "194 18                 Camisas  \n",
              "201 56                 Camisas  \n",
              "204 69                 Camisas  \n",
              "211 59                 Camisas  \n",
              "214 79                 Camisas  \n",
              "221 57                 Camisas  \n",
              "224 91                 Camisas  \n",
              "231 54                 Camisas  \n",
              "234 38                 Camisas  \n",
              "241 59                 Camisas  \n",
              "244 55                 Camisas  \n",
              "251 22                 Camisas  \n",
              "254 53                 Camisas  \n",
              "261 96                 Camisas  \n",
              "264 27                 Camisas  \n",
              "271 68                 Camisas  \n",
              "274 73                 Camisas  \n",
              "281 15                 Camisas  \n",
              "284 49                 Camisas  \n",
              "291 74                 Camisas  \n",
              "294 97                 Camisas  \n",
              "301 72                 Camisas  \n",
              "304 80                 Camisas  "
            ]
          },
          "metadata": {}
        }
      ]
    },
    {
      "cell_type": "code",
      "source": [
        "summary(camisas_df)"
      ],
      "metadata": {
        "colab": {
          "base_uri": "https://localhost:8080/",
          "height": 260
        },
        "id": "NzbNvFyzGDwu",
        "outputId": "7b6063d7-77c7-4296-ec2f-caa563d9efb2"
      },
      "execution_count": 84,
      "outputs": [
        {
          "output_type": "display_data",
          "data": {
            "text/plain": [
              "     Data             ID_Produto   Nome_Produto       Quantidade_Vendida\n",
              " Length:62          Min.   :1001   Length:62          Min.   : 1.00     \n",
              " Class :character   1st Qu.:1001   Class :character   1st Qu.: 7.25     \n",
              " Mode  :character   Median :1002   Mode  :character   Median :12.00     \n",
              "                    Mean   :1002                      Mean   :11.03     \n",
              "                    3rd Qu.:1004                      3rd Qu.:15.00     \n",
              "                    Max.   :1004                      Max.   :19.00     \n",
              " Estoque_Disponível  Categoria        \n",
              " Min.   :12.00      Length:62         \n",
              " 1st Qu.:37.25      Class :character  \n",
              " Median :55.50      Mode  :character  \n",
              " Mean   :56.95                        \n",
              " 3rd Qu.:79.75                        \n",
              " Max.   :97.00                        "
            ]
          },
          "metadata": {}
        }
      ]
    },
    {
      "cell_type": "markdown",
      "source": [
        "**Inserindo valor negativo na quantidade vendida**"
      ],
      "metadata": {
        "id": "wPiBeVkTY4hM"
      }
    },
    {
      "cell_type": "code",
      "source": [
        "camisas_df[1,]"
      ],
      "metadata": {
        "colab": {
          "base_uri": "https://localhost:8080/",
          "height": 129
        },
        "id": "tvBWUpKcGL7J",
        "outputId": "ad4db7e4-bc18-4d64-fa29-434e6608e09f"
      },
      "execution_count": 85,
      "outputs": [
        {
          "output_type": "display_data",
          "data": {
            "text/html": [
              "<table class=\"dataframe\">\n",
              "<caption>A data.frame: 1 × 6</caption>\n",
              "<thead>\n",
              "\t<tr><th></th><th scope=col>Data</th><th scope=col>ID_Produto</th><th scope=col>Nome_Produto</th><th scope=col>Quantidade_Vendida</th><th scope=col>Estoque_Disponível</th><th scope=col>Categoria</th></tr>\n",
              "\t<tr><th></th><th scope=col>&lt;chr&gt;</th><th scope=col>&lt;int&gt;</th><th scope=col>&lt;chr&gt;</th><th scope=col>&lt;int&gt;</th><th scope=col>&lt;int&gt;</th><th scope=col>&lt;chr&gt;</th></tr>\n",
              "</thead>\n",
              "<tbody>\n",
              "\t<tr><th scope=row>1</th><td>2023-01-01</td><td>1001</td><td>Camisa Social Azul</td><td>7</td><td>35</td><td>Camisas</td></tr>\n",
              "</tbody>\n",
              "</table>\n"
            ],
            "text/markdown": "\nA data.frame: 1 × 6\n\n| <!--/--> | Data &lt;chr&gt; | ID_Produto &lt;int&gt; | Nome_Produto &lt;chr&gt; | Quantidade_Vendida &lt;int&gt; | Estoque_Disponível &lt;int&gt; | Categoria &lt;chr&gt; |\n|---|---|---|---|---|---|---|\n| 1 | 2023-01-01 | 1001 | Camisa Social Azul | 7 | 35 | Camisas |\n\n",
            "text/latex": "A data.frame: 1 × 6\n\\begin{tabular}{r|llllll}\n  & Data & ID\\_Produto & Nome\\_Produto & Quantidade\\_Vendida & Estoque\\_Disponível & Categoria\\\\\n  & <chr> & <int> & <chr> & <int> & <int> & <chr>\\\\\n\\hline\n\t1 & 2023-01-01 & 1001 & Camisa Social Azul & 7 & 35 & Camisas\\\\\n\\end{tabular}\n",
            "text/plain": [
              "  Data       ID_Produto Nome_Produto       Quantidade_Vendida\n",
              "1 2023-01-01 1001       Camisa Social Azul 7                 \n",
              "  Estoque_Disponível Categoria\n",
              "1 35                 Camisas  "
            ]
          },
          "metadata": {}
        }
      ]
    },
    {
      "cell_type": "code",
      "source": [
        "nova_linha <- data.frame(Data = \"2023-01-01\",\n",
        "                      ID_Produto = 1001,\n",
        "                      Nome_Produto = \"Camiseta Social Azul\",\n",
        "                      Quantidade_Vendida = -7,\n",
        "                      Estoque_Disponível = 35,\n",
        "                      Categoria = \"Camisas\")"
      ],
      "metadata": {
        "id": "GgAgiM-QYcY8"
      },
      "execution_count": 86,
      "outputs": []
    },
    {
      "cell_type": "code",
      "source": [
        "nova_linha"
      ],
      "metadata": {
        "colab": {
          "base_uri": "https://localhost:8080/",
          "height": 129
        },
        "id": "LZR2RjPwYnyz",
        "outputId": "8b752531-3c4e-4b41-dbaa-9796b7189acb"
      },
      "execution_count": 87,
      "outputs": [
        {
          "output_type": "display_data",
          "data": {
            "text/html": [
              "<table class=\"dataframe\">\n",
              "<caption>A data.frame: 1 × 6</caption>\n",
              "<thead>\n",
              "\t<tr><th scope=col>Data</th><th scope=col>ID_Produto</th><th scope=col>Nome_Produto</th><th scope=col>Quantidade_Vendida</th><th scope=col>Estoque_Disponível</th><th scope=col>Categoria</th></tr>\n",
              "\t<tr><th scope=col>&lt;chr&gt;</th><th scope=col>&lt;dbl&gt;</th><th scope=col>&lt;chr&gt;</th><th scope=col>&lt;dbl&gt;</th><th scope=col>&lt;dbl&gt;</th><th scope=col>&lt;chr&gt;</th></tr>\n",
              "</thead>\n",
              "<tbody>\n",
              "\t<tr><td>2023-01-01</td><td>1001</td><td>Camiseta Social Azul</td><td>-7</td><td>35</td><td>Camisas</td></tr>\n",
              "</tbody>\n",
              "</table>\n"
            ],
            "text/markdown": "\nA data.frame: 1 × 6\n\n| Data &lt;chr&gt; | ID_Produto &lt;dbl&gt; | Nome_Produto &lt;chr&gt; | Quantidade_Vendida &lt;dbl&gt; | Estoque_Disponível &lt;dbl&gt; | Categoria &lt;chr&gt; |\n|---|---|---|---|---|---|\n| 2023-01-01 | 1001 | Camiseta Social Azul | -7 | 35 | Camisas |\n\n",
            "text/latex": "A data.frame: 1 × 6\n\\begin{tabular}{llllll}\n Data & ID\\_Produto & Nome\\_Produto & Quantidade\\_Vendida & Estoque\\_Disponível & Categoria\\\\\n <chr> & <dbl> & <chr> & <dbl> & <dbl> & <chr>\\\\\n\\hline\n\t 2023-01-01 & 1001 & Camiseta Social Azul & -7 & 35 & Camisas\\\\\n\\end{tabular}\n",
            "text/plain": [
              "  Data       ID_Produto Nome_Produto         Quantidade_Vendida\n",
              "1 2023-01-01 1001       Camiseta Social Azul -7                \n",
              "  Estoque_Disponível Categoria\n",
              "1 35                 Camisas  "
            ]
          },
          "metadata": {}
        }
      ]
    },
    {
      "cell_type": "code",
      "source": [
        "sales_data <- rbind(sales_data, nova_linha)"
      ],
      "metadata": {
        "id": "eD0AfsVhYp0B"
      },
      "execution_count": 88,
      "outputs": []
    },
    {
      "cell_type": "code",
      "source": [
        "head(sales_data)"
      ],
      "metadata": {
        "colab": {
          "base_uri": "https://localhost:8080/",
          "height": 286
        },
        "id": "JB2srsaMYseq",
        "outputId": "aff4fbc3-ca41-4d80-b5bf-b66cae2314bf"
      },
      "execution_count": 89,
      "outputs": [
        {
          "output_type": "display_data",
          "data": {
            "text/html": [
              "<table class=\"dataframe\">\n",
              "<caption>A data.frame: 6 × 6</caption>\n",
              "<thead>\n",
              "\t<tr><th></th><th scope=col>Data</th><th scope=col>ID_Produto</th><th scope=col>Nome_Produto</th><th scope=col>Quantidade_Vendida</th><th scope=col>Estoque_Disponível</th><th scope=col>Categoria</th></tr>\n",
              "\t<tr><th></th><th scope=col>&lt;chr&gt;</th><th scope=col>&lt;dbl&gt;</th><th scope=col>&lt;chr&gt;</th><th scope=col>&lt;dbl&gt;</th><th scope=col>&lt;dbl&gt;</th><th scope=col>&lt;chr&gt;</th></tr>\n",
              "</thead>\n",
              "<tbody>\n",
              "\t<tr><th scope=row>1</th><td>2023-01-01</td><td>1001</td><td>Camisa Social Azul  </td><td> 7</td><td>35</td><td>Camisas </td></tr>\n",
              "\t<tr><th scope=row>2</th><td>2023-01-01</td><td>1002</td><td>Calça Jeans         </td><td> 7</td><td>58</td><td>Calças  </td></tr>\n",
              "\t<tr><th scope=row>3</th><td>2023-01-01</td><td>1003</td><td>Jaqueta de Couro    </td><td> 7</td><td>78</td><td>Jaquetas</td></tr>\n",
              "\t<tr><th scope=row>4</th><td>2023-01-01</td><td>1004</td><td>Camisa Social Branca</td><td>15</td><td>24</td><td>Camisas </td></tr>\n",
              "\t<tr><th scope=row>5</th><td>2023-01-01</td><td>1005</td><td>Saia Longa          </td><td> 7</td><td>18</td><td>Saias   </td></tr>\n",
              "\t<tr><th scope=row>6</th><td>2023-01-01</td><td>1006</td><td>Blusa de Algodão    </td><td> 8</td><td>48</td><td>Blusas  </td></tr>\n",
              "</tbody>\n",
              "</table>\n"
            ],
            "text/markdown": "\nA data.frame: 6 × 6\n\n| <!--/--> | Data &lt;chr&gt; | ID_Produto &lt;dbl&gt; | Nome_Produto &lt;chr&gt; | Quantidade_Vendida &lt;dbl&gt; | Estoque_Disponível &lt;dbl&gt; | Categoria &lt;chr&gt; |\n|---|---|---|---|---|---|---|\n| 1 | 2023-01-01 | 1001 | Camisa Social Azul   |  7 | 35 | Camisas  |\n| 2 | 2023-01-01 | 1002 | Calça Jeans          |  7 | 58 | Calças   |\n| 3 | 2023-01-01 | 1003 | Jaqueta de Couro     |  7 | 78 | Jaquetas |\n| 4 | 2023-01-01 | 1004 | Camisa Social Branca | 15 | 24 | Camisas  |\n| 5 | 2023-01-01 | 1005 | Saia Longa           |  7 | 18 | Saias    |\n| 6 | 2023-01-01 | 1006 | Blusa de Algodão     |  8 | 48 | Blusas   |\n\n",
            "text/latex": "A data.frame: 6 × 6\n\\begin{tabular}{r|llllll}\n  & Data & ID\\_Produto & Nome\\_Produto & Quantidade\\_Vendida & Estoque\\_Disponível & Categoria\\\\\n  & <chr> & <dbl> & <chr> & <dbl> & <dbl> & <chr>\\\\\n\\hline\n\t1 & 2023-01-01 & 1001 & Camisa Social Azul   &  7 & 35 & Camisas \\\\\n\t2 & 2023-01-01 & 1002 & Calça Jeans          &  7 & 58 & Calças  \\\\\n\t3 & 2023-01-01 & 1003 & Jaqueta de Couro     &  7 & 78 & Jaquetas\\\\\n\t4 & 2023-01-01 & 1004 & Camisa Social Branca & 15 & 24 & Camisas \\\\\n\t5 & 2023-01-01 & 1005 & Saia Longa           &  7 & 18 & Saias   \\\\\n\t6 & 2023-01-01 & 1006 & Blusa de Algodão     &  8 & 48 & Blusas  \\\\\n\\end{tabular}\n",
            "text/plain": [
              "  Data       ID_Produto Nome_Produto         Quantidade_Vendida\n",
              "1 2023-01-01 1001       Camisa Social Azul    7                \n",
              "2 2023-01-01 1002       Calça Jeans           7                \n",
              "3 2023-01-01 1003       Jaqueta de Couro      7                \n",
              "4 2023-01-01 1004       Camisa Social Branca 15                \n",
              "5 2023-01-01 1005       Saia Longa            7                \n",
              "6 2023-01-01 1006       Blusa de Algodão      8                \n",
              "  Estoque_Disponível Categoria\n",
              "1 35                 Camisas  \n",
              "2 58                 Calças   \n",
              "3 78                 Jaquetas \n",
              "4 24                 Camisas  \n",
              "5 18                 Saias    \n",
              "6 48                 Blusas   "
            ]
          },
          "metadata": {}
        }
      ]
    },
    {
      "cell_type": "code",
      "source": [
        "sales_data[-1,]"
      ],
      "metadata": {
        "colab": {
          "base_uri": "https://localhost:8080/",
          "height": 1000
        },
        "id": "wc1utx0pYt4C",
        "outputId": "a37ec755-2632-4ef1-cf65-6cf85bc8c087"
      },
      "execution_count": 90,
      "outputs": [
        {
          "output_type": "display_data",
          "data": {
            "text/html": [
              "<table class=\"dataframe\">\n",
              "<caption>A data.frame: 310 × 6</caption>\n",
              "<thead>\n",
              "\t<tr><th></th><th scope=col>Data</th><th scope=col>ID_Produto</th><th scope=col>Nome_Produto</th><th scope=col>Quantidade_Vendida</th><th scope=col>Estoque_Disponível</th><th scope=col>Categoria</th></tr>\n",
              "\t<tr><th></th><th scope=col>&lt;chr&gt;</th><th scope=col>&lt;dbl&gt;</th><th scope=col>&lt;chr&gt;</th><th scope=col>&lt;dbl&gt;</th><th scope=col>&lt;dbl&gt;</th><th scope=col>&lt;chr&gt;</th></tr>\n",
              "</thead>\n",
              "<tbody>\n",
              "\t<tr><th scope=row>2</th><td>2023-01-01</td><td>1002</td><td>Calça Jeans         </td><td> 7</td><td>58</td><td>Calças   </td></tr>\n",
              "\t<tr><th scope=row>3</th><td>2023-01-01</td><td>1003</td><td>Jaqueta de Couro    </td><td> 7</td><td>78</td><td>Jaquetas </td></tr>\n",
              "\t<tr><th scope=row>4</th><td>2023-01-01</td><td>1004</td><td>Camisa Social Branca</td><td>15</td><td>24</td><td>Camisas  </td></tr>\n",
              "\t<tr><th scope=row>5</th><td>2023-01-01</td><td>1005</td><td>Saia Longa          </td><td> 7</td><td>18</td><td>Saias    </td></tr>\n",
              "\t<tr><th scope=row>6</th><td>2023-01-01</td><td>1006</td><td>Blusa de Algodão    </td><td> 8</td><td>48</td><td>Blusas   </td></tr>\n",
              "\t<tr><th scope=row>7</th><td>2023-01-01</td><td>1007</td><td>Calça de Moletom    </td><td>10</td><td>36</td><td>Calças   </td></tr>\n",
              "\t<tr><th scope=row>8</th><td>2023-01-01</td><td>1008</td><td>Vestido Floral      </td><td> 6</td><td>95</td><td>Vestidos </td></tr>\n",
              "\t<tr><th scope=row>9</th><td>2023-01-01</td><td>1009</td><td>Terno Completo      </td><td>11</td><td>62</td><td>Ternos   </td></tr>\n",
              "\t<tr><th scope=row>10</th><td>2023-01-01</td><td>1010</td><td>Camiseta Básica     </td><td> 4</td><td>67</td><td>Camisetas</td></tr>\n",
              "\t<tr><th scope=row>11</th><td>2023-01-02</td><td>1001</td><td>Camisa Social Azul  </td><td>14</td><td>86</td><td>Camisas  </td></tr>\n",
              "\t<tr><th scope=row>12</th><td>2023-01-02</td><td>1002</td><td>Calça Jeans         </td><td>15</td><td>26</td><td>Calças   </td></tr>\n",
              "\t<tr><th scope=row>13</th><td>2023-01-02</td><td>1003</td><td>Jaqueta de Couro    </td><td> 1</td><td>19</td><td>Jaquetas </td></tr>\n",
              "\t<tr><th scope=row>14</th><td>2023-01-02</td><td>1004</td><td>Camisa Social Branca</td><td> 4</td><td>36</td><td>Camisas  </td></tr>\n",
              "\t<tr><th scope=row>15</th><td>2023-01-02</td><td>1005</td><td>Saia Longa          </td><td> 8</td><td>19</td><td>Saias    </td></tr>\n",
              "\t<tr><th scope=row>16</th><td>2023-01-02</td><td>1006</td><td>Blusa de Algodão    </td><td> 1</td><td>22</td><td>Blusas   </td></tr>\n",
              "\t<tr><th scope=row>17</th><td>2023-01-02</td><td>1007</td><td>Calça de Moletom    </td><td>11</td><td>62</td><td>Calças   </td></tr>\n",
              "\t<tr><th scope=row>18</th><td>2023-01-02</td><td>1008</td><td>Vestido Floral      </td><td>10</td><td>74</td><td>Vestidos </td></tr>\n",
              "\t<tr><th scope=row>19</th><td>2023-01-02</td><td>1009</td><td>Terno Completo      </td><td> 1</td><td>12</td><td>Ternos   </td></tr>\n",
              "\t<tr><th scope=row>20</th><td>2023-01-02</td><td>1010</td><td>Camiseta Básica     </td><td>13</td><td>99</td><td>Camisetas</td></tr>\n",
              "\t<tr><th scope=row>21</th><td>2023-01-03</td><td>1001</td><td>Camisa Social Azul  </td><td> 2</td><td>37</td><td>Camisas  </td></tr>\n",
              "\t<tr><th scope=row>22</th><td>2023-01-03</td><td>1002</td><td>Calça Jeans         </td><td> 5</td><td>65</td><td>Calças   </td></tr>\n",
              "\t<tr><th scope=row>23</th><td>2023-01-03</td><td>1003</td><td>Jaqueta de Couro    </td><td>10</td><td>97</td><td>Jaquetas </td></tr>\n",
              "\t<tr><th scope=row>24</th><td>2023-01-03</td><td>1004</td><td>Camisa Social Branca</td><td>12</td><td>44</td><td>Camisas  </td></tr>\n",
              "\t<tr><th scope=row>25</th><td>2023-01-03</td><td>1005</td><td>Saia Longa          </td><td>13</td><td>28</td><td>Saias    </td></tr>\n",
              "\t<tr><th scope=row>26</th><td>2023-01-03</td><td>1006</td><td>Blusa de Algodão    </td><td> 4</td><td>99</td><td>Blusas   </td></tr>\n",
              "\t<tr><th scope=row>27</th><td>2023-01-03</td><td>1007</td><td>Calça de Moletom    </td><td> 5</td><td>24</td><td>Calças   </td></tr>\n",
              "\t<tr><th scope=row>28</th><td>2023-01-03</td><td>1008</td><td>Vestido Floral      </td><td>17</td><td>96</td><td>Vestidos </td></tr>\n",
              "\t<tr><th scope=row>29</th><td>2023-01-03</td><td>1009</td><td>Terno Completo      </td><td>18</td><td>76</td><td>Ternos   </td></tr>\n",
              "\t<tr><th scope=row>30</th><td>2023-01-03</td><td>1010</td><td>Camiseta Básica     </td><td>11</td><td>15</td><td>Camisetas</td></tr>\n",
              "\t<tr><th scope=row>31</th><td>2023-01-04</td><td>1001</td><td>Camisa Social Azul  </td><td>11</td><td>21</td><td>Camisas  </td></tr>\n",
              "\t<tr><th scope=row>⋮</th><td>⋮</td><td>⋮</td><td>⋮</td><td>⋮</td><td>⋮</td><td>⋮</td></tr>\n",
              "\t<tr><th scope=row>282</th><td>2023-01-29</td><td>1002</td><td>Calça Jeans         </td><td>12</td><td>37</td><td>Calças   </td></tr>\n",
              "\t<tr><th scope=row>283</th><td>2023-01-29</td><td>1003</td><td>Jaqueta de Couro    </td><td>10</td><td>21</td><td>Jaquetas </td></tr>\n",
              "\t<tr><th scope=row>284</th><td>2023-01-29</td><td>1004</td><td>Camisa Social Branca</td><td> 6</td><td>49</td><td>Camisas  </td></tr>\n",
              "\t<tr><th scope=row>285</th><td>2023-01-29</td><td>1005</td><td>Saia Longa          </td><td> 3</td><td>43</td><td>Saias    </td></tr>\n",
              "\t<tr><th scope=row>286</th><td>2023-01-29</td><td>1006</td><td>Blusa de Algodão    </td><td>12</td><td>96</td><td>Blusas   </td></tr>\n",
              "\t<tr><th scope=row>287</th><td>2023-01-29</td><td>1007</td><td>Calça de Moletom    </td><td> 1</td><td>18</td><td>Calças   </td></tr>\n",
              "\t<tr><th scope=row>288</th><td>2023-01-29</td><td>1008</td><td>Vestido Floral      </td><td> 2</td><td>57</td><td>Vestidos </td></tr>\n",
              "\t<tr><th scope=row>289</th><td>2023-01-29</td><td>1009</td><td>Terno Completo      </td><td>10</td><td>97</td><td>Ternos   </td></tr>\n",
              "\t<tr><th scope=row>290</th><td>2023-01-29</td><td>1010</td><td>Camiseta Básica     </td><td>12</td><td>42</td><td>Camisetas</td></tr>\n",
              "\t<tr><th scope=row>291</th><td>2023-01-30</td><td>1001</td><td>Camisa Social Azul  </td><td> 8</td><td>74</td><td>Camisas  </td></tr>\n",
              "\t<tr><th scope=row>292</th><td>2023-01-30</td><td>1002</td><td>Calça Jeans         </td><td> 2</td><td>59</td><td>Calças   </td></tr>\n",
              "\t<tr><th scope=row>293</th><td>2023-01-30</td><td>1003</td><td>Jaqueta de Couro    </td><td>11</td><td>45</td><td>Jaquetas </td></tr>\n",
              "\t<tr><th scope=row>294</th><td>2023-01-30</td><td>1004</td><td>Camisa Social Branca</td><td>13</td><td>97</td><td>Camisas  </td></tr>\n",
              "\t<tr><th scope=row>295</th><td>2023-01-30</td><td>1005</td><td>Saia Longa          </td><td> 4</td><td>62</td><td>Saias    </td></tr>\n",
              "\t<tr><th scope=row>296</th><td>2023-01-30</td><td>1006</td><td>Blusa de Algodão    </td><td> 8</td><td>55</td><td>Blusas   </td></tr>\n",
              "\t<tr><th scope=row>297</th><td>2023-01-30</td><td>1007</td><td>Calça de Moletom    </td><td>17</td><td>60</td><td>Calças   </td></tr>\n",
              "\t<tr><th scope=row>298</th><td>2023-01-30</td><td>1008</td><td>Vestido Floral      </td><td>18</td><td>33</td><td>Vestidos </td></tr>\n",
              "\t<tr><th scope=row>299</th><td>2023-01-30</td><td>1009</td><td>Terno Completo      </td><td> 7</td><td>22</td><td>Ternos   </td></tr>\n",
              "\t<tr><th scope=row>300</th><td>2023-01-30</td><td>1010</td><td>Camiseta Básica     </td><td> 6</td><td>66</td><td>Camisetas</td></tr>\n",
              "\t<tr><th scope=row>301</th><td>2023-01-31</td><td>1001</td><td>Camisa Social Azul  </td><td>18</td><td>72</td><td>Camisas  </td></tr>\n",
              "\t<tr><th scope=row>302</th><td>2023-01-31</td><td>1002</td><td>Calça Jeans         </td><td>12</td><td>93</td><td>Calças   </td></tr>\n",
              "\t<tr><th scope=row>303</th><td>2023-01-31</td><td>1003</td><td>Jaqueta de Couro    </td><td>12</td><td>45</td><td>Jaquetas </td></tr>\n",
              "\t<tr><th scope=row>304</th><td>2023-01-31</td><td>1004</td><td>Camisa Social Branca</td><td> 9</td><td>80</td><td>Camisas  </td></tr>\n",
              "\t<tr><th scope=row>305</th><td>2023-01-31</td><td>1005</td><td>Saia Longa          </td><td>11</td><td>67</td><td>Saias    </td></tr>\n",
              "\t<tr><th scope=row>306</th><td>2023-01-31</td><td>1006</td><td>Blusa de Algodão    </td><td>10</td><td>41</td><td>Blusas   </td></tr>\n",
              "\t<tr><th scope=row>307</th><td>2023-01-31</td><td>1007</td><td>Calça de Moletom    </td><td>11</td><td>40</td><td>Calças   </td></tr>\n",
              "\t<tr><th scope=row>308</th><td>2023-01-31</td><td>1008</td><td>Vestido Floral      </td><td>16</td><td>49</td><td>Vestidos </td></tr>\n",
              "\t<tr><th scope=row>309</th><td>2023-01-31</td><td>1009</td><td>Terno Completo      </td><td> 6</td><td>65</td><td>Ternos   </td></tr>\n",
              "\t<tr><th scope=row>310</th><td>2023-01-31</td><td>1010</td><td>Camiseta Básica     </td><td>16</td><td>54</td><td>Camisetas</td></tr>\n",
              "\t<tr><th scope=row>311</th><td>2023-01-01</td><td>1001</td><td>Camiseta Social Azul</td><td>-7</td><td>35</td><td>Camisas  </td></tr>\n",
              "</tbody>\n",
              "</table>\n"
            ],
            "text/markdown": "\nA data.frame: 310 × 6\n\n| <!--/--> | Data &lt;chr&gt; | ID_Produto &lt;dbl&gt; | Nome_Produto &lt;chr&gt; | Quantidade_Vendida &lt;dbl&gt; | Estoque_Disponível &lt;dbl&gt; | Categoria &lt;chr&gt; |\n|---|---|---|---|---|---|---|\n| 2 | 2023-01-01 | 1002 | Calça Jeans          |  7 | 58 | Calças    |\n| 3 | 2023-01-01 | 1003 | Jaqueta de Couro     |  7 | 78 | Jaquetas  |\n| 4 | 2023-01-01 | 1004 | Camisa Social Branca | 15 | 24 | Camisas   |\n| 5 | 2023-01-01 | 1005 | Saia Longa           |  7 | 18 | Saias     |\n| 6 | 2023-01-01 | 1006 | Blusa de Algodão     |  8 | 48 | Blusas    |\n| 7 | 2023-01-01 | 1007 | Calça de Moletom     | 10 | 36 | Calças    |\n| 8 | 2023-01-01 | 1008 | Vestido Floral       |  6 | 95 | Vestidos  |\n| 9 | 2023-01-01 | 1009 | Terno Completo       | 11 | 62 | Ternos    |\n| 10 | 2023-01-01 | 1010 | Camiseta Básica      |  4 | 67 | Camisetas |\n| 11 | 2023-01-02 | 1001 | Camisa Social Azul   | 14 | 86 | Camisas   |\n| 12 | 2023-01-02 | 1002 | Calça Jeans          | 15 | 26 | Calças    |\n| 13 | 2023-01-02 | 1003 | Jaqueta de Couro     |  1 | 19 | Jaquetas  |\n| 14 | 2023-01-02 | 1004 | Camisa Social Branca |  4 | 36 | Camisas   |\n| 15 | 2023-01-02 | 1005 | Saia Longa           |  8 | 19 | Saias     |\n| 16 | 2023-01-02 | 1006 | Blusa de Algodão     |  1 | 22 | Blusas    |\n| 17 | 2023-01-02 | 1007 | Calça de Moletom     | 11 | 62 | Calças    |\n| 18 | 2023-01-02 | 1008 | Vestido Floral       | 10 | 74 | Vestidos  |\n| 19 | 2023-01-02 | 1009 | Terno Completo       |  1 | 12 | Ternos    |\n| 20 | 2023-01-02 | 1010 | Camiseta Básica      | 13 | 99 | Camisetas |\n| 21 | 2023-01-03 | 1001 | Camisa Social Azul   |  2 | 37 | Camisas   |\n| 22 | 2023-01-03 | 1002 | Calça Jeans          |  5 | 65 | Calças    |\n| 23 | 2023-01-03 | 1003 | Jaqueta de Couro     | 10 | 97 | Jaquetas  |\n| 24 | 2023-01-03 | 1004 | Camisa Social Branca | 12 | 44 | Camisas   |\n| 25 | 2023-01-03 | 1005 | Saia Longa           | 13 | 28 | Saias     |\n| 26 | 2023-01-03 | 1006 | Blusa de Algodão     |  4 | 99 | Blusas    |\n| 27 | 2023-01-03 | 1007 | Calça de Moletom     |  5 | 24 | Calças    |\n| 28 | 2023-01-03 | 1008 | Vestido Floral       | 17 | 96 | Vestidos  |\n| 29 | 2023-01-03 | 1009 | Terno Completo       | 18 | 76 | Ternos    |\n| 30 | 2023-01-03 | 1010 | Camiseta Básica      | 11 | 15 | Camisetas |\n| 31 | 2023-01-04 | 1001 | Camisa Social Azul   | 11 | 21 | Camisas   |\n| ⋮ | ⋮ | ⋮ | ⋮ | ⋮ | ⋮ | ⋮ |\n| 282 | 2023-01-29 | 1002 | Calça Jeans          | 12 | 37 | Calças    |\n| 283 | 2023-01-29 | 1003 | Jaqueta de Couro     | 10 | 21 | Jaquetas  |\n| 284 | 2023-01-29 | 1004 | Camisa Social Branca |  6 | 49 | Camisas   |\n| 285 | 2023-01-29 | 1005 | Saia Longa           |  3 | 43 | Saias     |\n| 286 | 2023-01-29 | 1006 | Blusa de Algodão     | 12 | 96 | Blusas    |\n| 287 | 2023-01-29 | 1007 | Calça de Moletom     |  1 | 18 | Calças    |\n| 288 | 2023-01-29 | 1008 | Vestido Floral       |  2 | 57 | Vestidos  |\n| 289 | 2023-01-29 | 1009 | Terno Completo       | 10 | 97 | Ternos    |\n| 290 | 2023-01-29 | 1010 | Camiseta Básica      | 12 | 42 | Camisetas |\n| 291 | 2023-01-30 | 1001 | Camisa Social Azul   |  8 | 74 | Camisas   |\n| 292 | 2023-01-30 | 1002 | Calça Jeans          |  2 | 59 | Calças    |\n| 293 | 2023-01-30 | 1003 | Jaqueta de Couro     | 11 | 45 | Jaquetas  |\n| 294 | 2023-01-30 | 1004 | Camisa Social Branca | 13 | 97 | Camisas   |\n| 295 | 2023-01-30 | 1005 | Saia Longa           |  4 | 62 | Saias     |\n| 296 | 2023-01-30 | 1006 | Blusa de Algodão     |  8 | 55 | Blusas    |\n| 297 | 2023-01-30 | 1007 | Calça de Moletom     | 17 | 60 | Calças    |\n| 298 | 2023-01-30 | 1008 | Vestido Floral       | 18 | 33 | Vestidos  |\n| 299 | 2023-01-30 | 1009 | Terno Completo       |  7 | 22 | Ternos    |\n| 300 | 2023-01-30 | 1010 | Camiseta Básica      |  6 | 66 | Camisetas |\n| 301 | 2023-01-31 | 1001 | Camisa Social Azul   | 18 | 72 | Camisas   |\n| 302 | 2023-01-31 | 1002 | Calça Jeans          | 12 | 93 | Calças    |\n| 303 | 2023-01-31 | 1003 | Jaqueta de Couro     | 12 | 45 | Jaquetas  |\n| 304 | 2023-01-31 | 1004 | Camisa Social Branca |  9 | 80 | Camisas   |\n| 305 | 2023-01-31 | 1005 | Saia Longa           | 11 | 67 | Saias     |\n| 306 | 2023-01-31 | 1006 | Blusa de Algodão     | 10 | 41 | Blusas    |\n| 307 | 2023-01-31 | 1007 | Calça de Moletom     | 11 | 40 | Calças    |\n| 308 | 2023-01-31 | 1008 | Vestido Floral       | 16 | 49 | Vestidos  |\n| 309 | 2023-01-31 | 1009 | Terno Completo       |  6 | 65 | Ternos    |\n| 310 | 2023-01-31 | 1010 | Camiseta Básica      | 16 | 54 | Camisetas |\n| 311 | 2023-01-01 | 1001 | Camiseta Social Azul | -7 | 35 | Camisas   |\n\n",
            "text/latex": "A data.frame: 310 × 6\n\\begin{tabular}{r|llllll}\n  & Data & ID\\_Produto & Nome\\_Produto & Quantidade\\_Vendida & Estoque\\_Disponível & Categoria\\\\\n  & <chr> & <dbl> & <chr> & <dbl> & <dbl> & <chr>\\\\\n\\hline\n\t2 & 2023-01-01 & 1002 & Calça Jeans          &  7 & 58 & Calças   \\\\\n\t3 & 2023-01-01 & 1003 & Jaqueta de Couro     &  7 & 78 & Jaquetas \\\\\n\t4 & 2023-01-01 & 1004 & Camisa Social Branca & 15 & 24 & Camisas  \\\\\n\t5 & 2023-01-01 & 1005 & Saia Longa           &  7 & 18 & Saias    \\\\\n\t6 & 2023-01-01 & 1006 & Blusa de Algodão     &  8 & 48 & Blusas   \\\\\n\t7 & 2023-01-01 & 1007 & Calça de Moletom     & 10 & 36 & Calças   \\\\\n\t8 & 2023-01-01 & 1008 & Vestido Floral       &  6 & 95 & Vestidos \\\\\n\t9 & 2023-01-01 & 1009 & Terno Completo       & 11 & 62 & Ternos   \\\\\n\t10 & 2023-01-01 & 1010 & Camiseta Básica      &  4 & 67 & Camisetas\\\\\n\t11 & 2023-01-02 & 1001 & Camisa Social Azul   & 14 & 86 & Camisas  \\\\\n\t12 & 2023-01-02 & 1002 & Calça Jeans          & 15 & 26 & Calças   \\\\\n\t13 & 2023-01-02 & 1003 & Jaqueta de Couro     &  1 & 19 & Jaquetas \\\\\n\t14 & 2023-01-02 & 1004 & Camisa Social Branca &  4 & 36 & Camisas  \\\\\n\t15 & 2023-01-02 & 1005 & Saia Longa           &  8 & 19 & Saias    \\\\\n\t16 & 2023-01-02 & 1006 & Blusa de Algodão     &  1 & 22 & Blusas   \\\\\n\t17 & 2023-01-02 & 1007 & Calça de Moletom     & 11 & 62 & Calças   \\\\\n\t18 & 2023-01-02 & 1008 & Vestido Floral       & 10 & 74 & Vestidos \\\\\n\t19 & 2023-01-02 & 1009 & Terno Completo       &  1 & 12 & Ternos   \\\\\n\t20 & 2023-01-02 & 1010 & Camiseta Básica      & 13 & 99 & Camisetas\\\\\n\t21 & 2023-01-03 & 1001 & Camisa Social Azul   &  2 & 37 & Camisas  \\\\\n\t22 & 2023-01-03 & 1002 & Calça Jeans          &  5 & 65 & Calças   \\\\\n\t23 & 2023-01-03 & 1003 & Jaqueta de Couro     & 10 & 97 & Jaquetas \\\\\n\t24 & 2023-01-03 & 1004 & Camisa Social Branca & 12 & 44 & Camisas  \\\\\n\t25 & 2023-01-03 & 1005 & Saia Longa           & 13 & 28 & Saias    \\\\\n\t26 & 2023-01-03 & 1006 & Blusa de Algodão     &  4 & 99 & Blusas   \\\\\n\t27 & 2023-01-03 & 1007 & Calça de Moletom     &  5 & 24 & Calças   \\\\\n\t28 & 2023-01-03 & 1008 & Vestido Floral       & 17 & 96 & Vestidos \\\\\n\t29 & 2023-01-03 & 1009 & Terno Completo       & 18 & 76 & Ternos   \\\\\n\t30 & 2023-01-03 & 1010 & Camiseta Básica      & 11 & 15 & Camisetas\\\\\n\t31 & 2023-01-04 & 1001 & Camisa Social Azul   & 11 & 21 & Camisas  \\\\\n\t⋮ & ⋮ & ⋮ & ⋮ & ⋮ & ⋮ & ⋮\\\\\n\t282 & 2023-01-29 & 1002 & Calça Jeans          & 12 & 37 & Calças   \\\\\n\t283 & 2023-01-29 & 1003 & Jaqueta de Couro     & 10 & 21 & Jaquetas \\\\\n\t284 & 2023-01-29 & 1004 & Camisa Social Branca &  6 & 49 & Camisas  \\\\\n\t285 & 2023-01-29 & 1005 & Saia Longa           &  3 & 43 & Saias    \\\\\n\t286 & 2023-01-29 & 1006 & Blusa de Algodão     & 12 & 96 & Blusas   \\\\\n\t287 & 2023-01-29 & 1007 & Calça de Moletom     &  1 & 18 & Calças   \\\\\n\t288 & 2023-01-29 & 1008 & Vestido Floral       &  2 & 57 & Vestidos \\\\\n\t289 & 2023-01-29 & 1009 & Terno Completo       & 10 & 97 & Ternos   \\\\\n\t290 & 2023-01-29 & 1010 & Camiseta Básica      & 12 & 42 & Camisetas\\\\\n\t291 & 2023-01-30 & 1001 & Camisa Social Azul   &  8 & 74 & Camisas  \\\\\n\t292 & 2023-01-30 & 1002 & Calça Jeans          &  2 & 59 & Calças   \\\\\n\t293 & 2023-01-30 & 1003 & Jaqueta de Couro     & 11 & 45 & Jaquetas \\\\\n\t294 & 2023-01-30 & 1004 & Camisa Social Branca & 13 & 97 & Camisas  \\\\\n\t295 & 2023-01-30 & 1005 & Saia Longa           &  4 & 62 & Saias    \\\\\n\t296 & 2023-01-30 & 1006 & Blusa de Algodão     &  8 & 55 & Blusas   \\\\\n\t297 & 2023-01-30 & 1007 & Calça de Moletom     & 17 & 60 & Calças   \\\\\n\t298 & 2023-01-30 & 1008 & Vestido Floral       & 18 & 33 & Vestidos \\\\\n\t299 & 2023-01-30 & 1009 & Terno Completo       &  7 & 22 & Ternos   \\\\\n\t300 & 2023-01-30 & 1010 & Camiseta Básica      &  6 & 66 & Camisetas\\\\\n\t301 & 2023-01-31 & 1001 & Camisa Social Azul   & 18 & 72 & Camisas  \\\\\n\t302 & 2023-01-31 & 1002 & Calça Jeans          & 12 & 93 & Calças   \\\\\n\t303 & 2023-01-31 & 1003 & Jaqueta de Couro     & 12 & 45 & Jaquetas \\\\\n\t304 & 2023-01-31 & 1004 & Camisa Social Branca &  9 & 80 & Camisas  \\\\\n\t305 & 2023-01-31 & 1005 & Saia Longa           & 11 & 67 & Saias    \\\\\n\t306 & 2023-01-31 & 1006 & Blusa de Algodão     & 10 & 41 & Blusas   \\\\\n\t307 & 2023-01-31 & 1007 & Calça de Moletom     & 11 & 40 & Calças   \\\\\n\t308 & 2023-01-31 & 1008 & Vestido Floral       & 16 & 49 & Vestidos \\\\\n\t309 & 2023-01-31 & 1009 & Terno Completo       &  6 & 65 & Ternos   \\\\\n\t310 & 2023-01-31 & 1010 & Camiseta Básica      & 16 & 54 & Camisetas\\\\\n\t311 & 2023-01-01 & 1001 & Camiseta Social Azul & -7 & 35 & Camisas  \\\\\n\\end{tabular}\n",
            "text/plain": [
              "    Data       ID_Produto Nome_Produto         Quantidade_Vendida\n",
              "2   2023-01-01 1002       Calça Jeans           7                \n",
              "3   2023-01-01 1003       Jaqueta de Couro      7                \n",
              "4   2023-01-01 1004       Camisa Social Branca 15                \n",
              "5   2023-01-01 1005       Saia Longa            7                \n",
              "6   2023-01-01 1006       Blusa de Algodão      8                \n",
              "7   2023-01-01 1007       Calça de Moletom     10                \n",
              "8   2023-01-01 1008       Vestido Floral        6                \n",
              "9   2023-01-01 1009       Terno Completo       11                \n",
              "10  2023-01-01 1010       Camiseta Básica       4                \n",
              "11  2023-01-02 1001       Camisa Social Azul   14                \n",
              "12  2023-01-02 1002       Calça Jeans          15                \n",
              "13  2023-01-02 1003       Jaqueta de Couro      1                \n",
              "14  2023-01-02 1004       Camisa Social Branca  4                \n",
              "15  2023-01-02 1005       Saia Longa            8                \n",
              "16  2023-01-02 1006       Blusa de Algodão      1                \n",
              "17  2023-01-02 1007       Calça de Moletom     11                \n",
              "18  2023-01-02 1008       Vestido Floral       10                \n",
              "19  2023-01-02 1009       Terno Completo        1                \n",
              "20  2023-01-02 1010       Camiseta Básica      13                \n",
              "21  2023-01-03 1001       Camisa Social Azul    2                \n",
              "22  2023-01-03 1002       Calça Jeans           5                \n",
              "23  2023-01-03 1003       Jaqueta de Couro     10                \n",
              "24  2023-01-03 1004       Camisa Social Branca 12                \n",
              "25  2023-01-03 1005       Saia Longa           13                \n",
              "26  2023-01-03 1006       Blusa de Algodão      4                \n",
              "27  2023-01-03 1007       Calça de Moletom      5                \n",
              "28  2023-01-03 1008       Vestido Floral       17                \n",
              "29  2023-01-03 1009       Terno Completo       18                \n",
              "30  2023-01-03 1010       Camiseta Básica      11                \n",
              "31  2023-01-04 1001       Camisa Social Azul   11                \n",
              "⋮   ⋮          ⋮          ⋮                    ⋮                 \n",
              "282 2023-01-29 1002       Calça Jeans          12                \n",
              "283 2023-01-29 1003       Jaqueta de Couro     10                \n",
              "284 2023-01-29 1004       Camisa Social Branca  6                \n",
              "285 2023-01-29 1005       Saia Longa            3                \n",
              "286 2023-01-29 1006       Blusa de Algodão     12                \n",
              "287 2023-01-29 1007       Calça de Moletom      1                \n",
              "288 2023-01-29 1008       Vestido Floral        2                \n",
              "289 2023-01-29 1009       Terno Completo       10                \n",
              "290 2023-01-29 1010       Camiseta Básica      12                \n",
              "291 2023-01-30 1001       Camisa Social Azul    8                \n",
              "292 2023-01-30 1002       Calça Jeans           2                \n",
              "293 2023-01-30 1003       Jaqueta de Couro     11                \n",
              "294 2023-01-30 1004       Camisa Social Branca 13                \n",
              "295 2023-01-30 1005       Saia Longa            4                \n",
              "296 2023-01-30 1006       Blusa de Algodão      8                \n",
              "297 2023-01-30 1007       Calça de Moletom     17                \n",
              "298 2023-01-30 1008       Vestido Floral       18                \n",
              "299 2023-01-30 1009       Terno Completo        7                \n",
              "300 2023-01-30 1010       Camiseta Básica       6                \n",
              "301 2023-01-31 1001       Camisa Social Azul   18                \n",
              "302 2023-01-31 1002       Calça Jeans          12                \n",
              "303 2023-01-31 1003       Jaqueta de Couro     12                \n",
              "304 2023-01-31 1004       Camisa Social Branca  9                \n",
              "305 2023-01-31 1005       Saia Longa           11                \n",
              "306 2023-01-31 1006       Blusa de Algodão     10                \n",
              "307 2023-01-31 1007       Calça de Moletom     11                \n",
              "308 2023-01-31 1008       Vestido Floral       16                \n",
              "309 2023-01-31 1009       Terno Completo        6                \n",
              "310 2023-01-31 1010       Camiseta Básica      16                \n",
              "311 2023-01-01 1001       Camiseta Social Azul -7                \n",
              "    Estoque_Disponível Categoria\n",
              "2   58                 Calças   \n",
              "3   78                 Jaquetas \n",
              "4   24                 Camisas  \n",
              "5   18                 Saias    \n",
              "6   48                 Blusas   \n",
              "7   36                 Calças   \n",
              "8   95                 Vestidos \n",
              "9   62                 Ternos   \n",
              "10  67                 Camisetas\n",
              "11  86                 Camisas  \n",
              "12  26                 Calças   \n",
              "13  19                 Jaquetas \n",
              "14  36                 Camisas  \n",
              "15  19                 Saias    \n",
              "16  22                 Blusas   \n",
              "17  62                 Calças   \n",
              "18  74                 Vestidos \n",
              "19  12                 Ternos   \n",
              "20  99                 Camisetas\n",
              "21  37                 Camisas  \n",
              "22  65                 Calças   \n",
              "23  97                 Jaquetas \n",
              "24  44                 Camisas  \n",
              "25  28                 Saias    \n",
              "26  99                 Blusas   \n",
              "27  24                 Calças   \n",
              "28  96                 Vestidos \n",
              "29  76                 Ternos   \n",
              "30  15                 Camisetas\n",
              "31  21                 Camisas  \n",
              "⋮   ⋮                  ⋮        \n",
              "282 37                 Calças   \n",
              "283 21                 Jaquetas \n",
              "284 49                 Camisas  \n",
              "285 43                 Saias    \n",
              "286 96                 Blusas   \n",
              "287 18                 Calças   \n",
              "288 57                 Vestidos \n",
              "289 97                 Ternos   \n",
              "290 42                 Camisetas\n",
              "291 74                 Camisas  \n",
              "292 59                 Calças   \n",
              "293 45                 Jaquetas \n",
              "294 97                 Camisas  \n",
              "295 62                 Saias    \n",
              "296 55                 Blusas   \n",
              "297 60                 Calças   \n",
              "298 33                 Vestidos \n",
              "299 22                 Ternos   \n",
              "300 66                 Camisetas\n",
              "301 72                 Camisas  \n",
              "302 93                 Calças   \n",
              "303 45                 Jaquetas \n",
              "304 80                 Camisas  \n",
              "305 67                 Saias    \n",
              "306 41                 Blusas   \n",
              "307 40                 Calças   \n",
              "308 49                 Vestidos \n",
              "309 65                 Ternos   \n",
              "310 54                 Camisetas\n",
              "311 35                 Camisas  "
            ]
          },
          "metadata": {}
        }
      ]
    },
    {
      "cell_type": "code",
      "source": [
        "summary(sales_data)"
      ],
      "metadata": {
        "colab": {
          "base_uri": "https://localhost:8080/",
          "height": 260
        },
        "id": "TQItQm_fYwdt",
        "outputId": "0378e77f-dc24-4e7e-ac7f-b987f0eb2626"
      },
      "execution_count": 91,
      "outputs": [
        {
          "output_type": "display_data",
          "data": {
            "text/plain": [
              "     Data             ID_Produto   Nome_Produto       Quantidade_Vendida\n",
              " Length:311         Min.   :1001   Length:311         Min.   :-7.00     \n",
              " Class :character   1st Qu.:1003   Class :character   1st Qu.: 6.00     \n",
              " Mode  :character   Median :1005   Mode  :character   Median :11.00     \n",
              "                    Mean   :1005                      Mean   :10.58     \n",
              "                    3rd Qu.:1008                      3rd Qu.:15.50     \n",
              "                    Max.   :1010                      Max.   :19.00     \n",
              " Estoque_Disponível  Categoria        \n",
              " Min.   :10.00      Length:311        \n",
              " 1st Qu.:33.00      Class :character  \n",
              " Median :54.00      Mode  :character  \n",
              " Mean   :54.33                        \n",
              " 3rd Qu.:76.00                        \n",
              " Max.   :99.00                        "
            ]
          },
          "metadata": {}
        }
      ]
    },
    {
      "cell_type": "markdown",
      "source": [
        "**Removendo valor inválido**"
      ],
      "metadata": {
        "id": "40Ef04gBaXHu"
      }
    },
    {
      "cell_type": "code",
      "source": [
        "sales_data <- subset(sales_data, Quantidade_Vendida != -7)"
      ],
      "metadata": {
        "id": "rTSQeUxIY0PA"
      },
      "execution_count": 92,
      "outputs": []
    },
    {
      "cell_type": "code",
      "source": [
        "sales_data"
      ],
      "metadata": {
        "colab": {
          "base_uri": "https://localhost:8080/",
          "height": 1000
        },
        "id": "CuOfn0_TaRgF",
        "outputId": "f2a3c00a-2d9d-40be-e5c8-23ee38fbc92f"
      },
      "execution_count": 93,
      "outputs": [
        {
          "output_type": "display_data",
          "data": {
            "text/html": [
              "<table class=\"dataframe\">\n",
              "<caption>A data.frame: 310 × 6</caption>\n",
              "<thead>\n",
              "\t<tr><th></th><th scope=col>Data</th><th scope=col>ID_Produto</th><th scope=col>Nome_Produto</th><th scope=col>Quantidade_Vendida</th><th scope=col>Estoque_Disponível</th><th scope=col>Categoria</th></tr>\n",
              "\t<tr><th></th><th scope=col>&lt;chr&gt;</th><th scope=col>&lt;dbl&gt;</th><th scope=col>&lt;chr&gt;</th><th scope=col>&lt;dbl&gt;</th><th scope=col>&lt;dbl&gt;</th><th scope=col>&lt;chr&gt;</th></tr>\n",
              "</thead>\n",
              "<tbody>\n",
              "\t<tr><th scope=row>1</th><td>2023-01-01</td><td>1001</td><td>Camisa Social Azul  </td><td> 7</td><td>35</td><td>Camisas  </td></tr>\n",
              "\t<tr><th scope=row>2</th><td>2023-01-01</td><td>1002</td><td>Calça Jeans         </td><td> 7</td><td>58</td><td>Calças   </td></tr>\n",
              "\t<tr><th scope=row>3</th><td>2023-01-01</td><td>1003</td><td>Jaqueta de Couro    </td><td> 7</td><td>78</td><td>Jaquetas </td></tr>\n",
              "\t<tr><th scope=row>4</th><td>2023-01-01</td><td>1004</td><td>Camisa Social Branca</td><td>15</td><td>24</td><td>Camisas  </td></tr>\n",
              "\t<tr><th scope=row>5</th><td>2023-01-01</td><td>1005</td><td>Saia Longa          </td><td> 7</td><td>18</td><td>Saias    </td></tr>\n",
              "\t<tr><th scope=row>6</th><td>2023-01-01</td><td>1006</td><td>Blusa de Algodão    </td><td> 8</td><td>48</td><td>Blusas   </td></tr>\n",
              "\t<tr><th scope=row>7</th><td>2023-01-01</td><td>1007</td><td>Calça de Moletom    </td><td>10</td><td>36</td><td>Calças   </td></tr>\n",
              "\t<tr><th scope=row>8</th><td>2023-01-01</td><td>1008</td><td>Vestido Floral      </td><td> 6</td><td>95</td><td>Vestidos </td></tr>\n",
              "\t<tr><th scope=row>9</th><td>2023-01-01</td><td>1009</td><td>Terno Completo      </td><td>11</td><td>62</td><td>Ternos   </td></tr>\n",
              "\t<tr><th scope=row>10</th><td>2023-01-01</td><td>1010</td><td>Camiseta Básica     </td><td> 4</td><td>67</td><td>Camisetas</td></tr>\n",
              "\t<tr><th scope=row>11</th><td>2023-01-02</td><td>1001</td><td>Camisa Social Azul  </td><td>14</td><td>86</td><td>Camisas  </td></tr>\n",
              "\t<tr><th scope=row>12</th><td>2023-01-02</td><td>1002</td><td>Calça Jeans         </td><td>15</td><td>26</td><td>Calças   </td></tr>\n",
              "\t<tr><th scope=row>13</th><td>2023-01-02</td><td>1003</td><td>Jaqueta de Couro    </td><td> 1</td><td>19</td><td>Jaquetas </td></tr>\n",
              "\t<tr><th scope=row>14</th><td>2023-01-02</td><td>1004</td><td>Camisa Social Branca</td><td> 4</td><td>36</td><td>Camisas  </td></tr>\n",
              "\t<tr><th scope=row>15</th><td>2023-01-02</td><td>1005</td><td>Saia Longa          </td><td> 8</td><td>19</td><td>Saias    </td></tr>\n",
              "\t<tr><th scope=row>16</th><td>2023-01-02</td><td>1006</td><td>Blusa de Algodão    </td><td> 1</td><td>22</td><td>Blusas   </td></tr>\n",
              "\t<tr><th scope=row>17</th><td>2023-01-02</td><td>1007</td><td>Calça de Moletom    </td><td>11</td><td>62</td><td>Calças   </td></tr>\n",
              "\t<tr><th scope=row>18</th><td>2023-01-02</td><td>1008</td><td>Vestido Floral      </td><td>10</td><td>74</td><td>Vestidos </td></tr>\n",
              "\t<tr><th scope=row>19</th><td>2023-01-02</td><td>1009</td><td>Terno Completo      </td><td> 1</td><td>12</td><td>Ternos   </td></tr>\n",
              "\t<tr><th scope=row>20</th><td>2023-01-02</td><td>1010</td><td>Camiseta Básica     </td><td>13</td><td>99</td><td>Camisetas</td></tr>\n",
              "\t<tr><th scope=row>21</th><td>2023-01-03</td><td>1001</td><td>Camisa Social Azul  </td><td> 2</td><td>37</td><td>Camisas  </td></tr>\n",
              "\t<tr><th scope=row>22</th><td>2023-01-03</td><td>1002</td><td>Calça Jeans         </td><td> 5</td><td>65</td><td>Calças   </td></tr>\n",
              "\t<tr><th scope=row>23</th><td>2023-01-03</td><td>1003</td><td>Jaqueta de Couro    </td><td>10</td><td>97</td><td>Jaquetas </td></tr>\n",
              "\t<tr><th scope=row>24</th><td>2023-01-03</td><td>1004</td><td>Camisa Social Branca</td><td>12</td><td>44</td><td>Camisas  </td></tr>\n",
              "\t<tr><th scope=row>25</th><td>2023-01-03</td><td>1005</td><td>Saia Longa          </td><td>13</td><td>28</td><td>Saias    </td></tr>\n",
              "\t<tr><th scope=row>26</th><td>2023-01-03</td><td>1006</td><td>Blusa de Algodão    </td><td> 4</td><td>99</td><td>Blusas   </td></tr>\n",
              "\t<tr><th scope=row>27</th><td>2023-01-03</td><td>1007</td><td>Calça de Moletom    </td><td> 5</td><td>24</td><td>Calças   </td></tr>\n",
              "\t<tr><th scope=row>28</th><td>2023-01-03</td><td>1008</td><td>Vestido Floral      </td><td>17</td><td>96</td><td>Vestidos </td></tr>\n",
              "\t<tr><th scope=row>29</th><td>2023-01-03</td><td>1009</td><td>Terno Completo      </td><td>18</td><td>76</td><td>Ternos   </td></tr>\n",
              "\t<tr><th scope=row>30</th><td>2023-01-03</td><td>1010</td><td>Camiseta Básica     </td><td>11</td><td>15</td><td>Camisetas</td></tr>\n",
              "\t<tr><th scope=row>⋮</th><td>⋮</td><td>⋮</td><td>⋮</td><td>⋮</td><td>⋮</td><td>⋮</td></tr>\n",
              "\t<tr><th scope=row>281</th><td>2023-01-29</td><td>1001</td><td>Camisa Social Azul  </td><td> 8</td><td>15</td><td>Camisas  </td></tr>\n",
              "\t<tr><th scope=row>282</th><td>2023-01-29</td><td>1002</td><td>Calça Jeans         </td><td>12</td><td>37</td><td>Calças   </td></tr>\n",
              "\t<tr><th scope=row>283</th><td>2023-01-29</td><td>1003</td><td>Jaqueta de Couro    </td><td>10</td><td>21</td><td>Jaquetas </td></tr>\n",
              "\t<tr><th scope=row>284</th><td>2023-01-29</td><td>1004</td><td>Camisa Social Branca</td><td> 6</td><td>49</td><td>Camisas  </td></tr>\n",
              "\t<tr><th scope=row>285</th><td>2023-01-29</td><td>1005</td><td>Saia Longa          </td><td> 3</td><td>43</td><td>Saias    </td></tr>\n",
              "\t<tr><th scope=row>286</th><td>2023-01-29</td><td>1006</td><td>Blusa de Algodão    </td><td>12</td><td>96</td><td>Blusas   </td></tr>\n",
              "\t<tr><th scope=row>287</th><td>2023-01-29</td><td>1007</td><td>Calça de Moletom    </td><td> 1</td><td>18</td><td>Calças   </td></tr>\n",
              "\t<tr><th scope=row>288</th><td>2023-01-29</td><td>1008</td><td>Vestido Floral      </td><td> 2</td><td>57</td><td>Vestidos </td></tr>\n",
              "\t<tr><th scope=row>289</th><td>2023-01-29</td><td>1009</td><td>Terno Completo      </td><td>10</td><td>97</td><td>Ternos   </td></tr>\n",
              "\t<tr><th scope=row>290</th><td>2023-01-29</td><td>1010</td><td>Camiseta Básica     </td><td>12</td><td>42</td><td>Camisetas</td></tr>\n",
              "\t<tr><th scope=row>291</th><td>2023-01-30</td><td>1001</td><td>Camisa Social Azul  </td><td> 8</td><td>74</td><td>Camisas  </td></tr>\n",
              "\t<tr><th scope=row>292</th><td>2023-01-30</td><td>1002</td><td>Calça Jeans         </td><td> 2</td><td>59</td><td>Calças   </td></tr>\n",
              "\t<tr><th scope=row>293</th><td>2023-01-30</td><td>1003</td><td>Jaqueta de Couro    </td><td>11</td><td>45</td><td>Jaquetas </td></tr>\n",
              "\t<tr><th scope=row>294</th><td>2023-01-30</td><td>1004</td><td>Camisa Social Branca</td><td>13</td><td>97</td><td>Camisas  </td></tr>\n",
              "\t<tr><th scope=row>295</th><td>2023-01-30</td><td>1005</td><td>Saia Longa          </td><td> 4</td><td>62</td><td>Saias    </td></tr>\n",
              "\t<tr><th scope=row>296</th><td>2023-01-30</td><td>1006</td><td>Blusa de Algodão    </td><td> 8</td><td>55</td><td>Blusas   </td></tr>\n",
              "\t<tr><th scope=row>297</th><td>2023-01-30</td><td>1007</td><td>Calça de Moletom    </td><td>17</td><td>60</td><td>Calças   </td></tr>\n",
              "\t<tr><th scope=row>298</th><td>2023-01-30</td><td>1008</td><td>Vestido Floral      </td><td>18</td><td>33</td><td>Vestidos </td></tr>\n",
              "\t<tr><th scope=row>299</th><td>2023-01-30</td><td>1009</td><td>Terno Completo      </td><td> 7</td><td>22</td><td>Ternos   </td></tr>\n",
              "\t<tr><th scope=row>300</th><td>2023-01-30</td><td>1010</td><td>Camiseta Básica     </td><td> 6</td><td>66</td><td>Camisetas</td></tr>\n",
              "\t<tr><th scope=row>301</th><td>2023-01-31</td><td>1001</td><td>Camisa Social Azul  </td><td>18</td><td>72</td><td>Camisas  </td></tr>\n",
              "\t<tr><th scope=row>302</th><td>2023-01-31</td><td>1002</td><td>Calça Jeans         </td><td>12</td><td>93</td><td>Calças   </td></tr>\n",
              "\t<tr><th scope=row>303</th><td>2023-01-31</td><td>1003</td><td>Jaqueta de Couro    </td><td>12</td><td>45</td><td>Jaquetas </td></tr>\n",
              "\t<tr><th scope=row>304</th><td>2023-01-31</td><td>1004</td><td>Camisa Social Branca</td><td> 9</td><td>80</td><td>Camisas  </td></tr>\n",
              "\t<tr><th scope=row>305</th><td>2023-01-31</td><td>1005</td><td>Saia Longa          </td><td>11</td><td>67</td><td>Saias    </td></tr>\n",
              "\t<tr><th scope=row>306</th><td>2023-01-31</td><td>1006</td><td>Blusa de Algodão    </td><td>10</td><td>41</td><td>Blusas   </td></tr>\n",
              "\t<tr><th scope=row>307</th><td>2023-01-31</td><td>1007</td><td>Calça de Moletom    </td><td>11</td><td>40</td><td>Calças   </td></tr>\n",
              "\t<tr><th scope=row>308</th><td>2023-01-31</td><td>1008</td><td>Vestido Floral      </td><td>16</td><td>49</td><td>Vestidos </td></tr>\n",
              "\t<tr><th scope=row>309</th><td>2023-01-31</td><td>1009</td><td>Terno Completo      </td><td> 6</td><td>65</td><td>Ternos   </td></tr>\n",
              "\t<tr><th scope=row>310</th><td>2023-01-31</td><td>1010</td><td>Camiseta Básica     </td><td>16</td><td>54</td><td>Camisetas</td></tr>\n",
              "</tbody>\n",
              "</table>\n"
            ],
            "text/markdown": "\nA data.frame: 310 × 6\n\n| <!--/--> | Data &lt;chr&gt; | ID_Produto &lt;dbl&gt; | Nome_Produto &lt;chr&gt; | Quantidade_Vendida &lt;dbl&gt; | Estoque_Disponível &lt;dbl&gt; | Categoria &lt;chr&gt; |\n|---|---|---|---|---|---|---|\n| 1 | 2023-01-01 | 1001 | Camisa Social Azul   |  7 | 35 | Camisas   |\n| 2 | 2023-01-01 | 1002 | Calça Jeans          |  7 | 58 | Calças    |\n| 3 | 2023-01-01 | 1003 | Jaqueta de Couro     |  7 | 78 | Jaquetas  |\n| 4 | 2023-01-01 | 1004 | Camisa Social Branca | 15 | 24 | Camisas   |\n| 5 | 2023-01-01 | 1005 | Saia Longa           |  7 | 18 | Saias     |\n| 6 | 2023-01-01 | 1006 | Blusa de Algodão     |  8 | 48 | Blusas    |\n| 7 | 2023-01-01 | 1007 | Calça de Moletom     | 10 | 36 | Calças    |\n| 8 | 2023-01-01 | 1008 | Vestido Floral       |  6 | 95 | Vestidos  |\n| 9 | 2023-01-01 | 1009 | Terno Completo       | 11 | 62 | Ternos    |\n| 10 | 2023-01-01 | 1010 | Camiseta Básica      |  4 | 67 | Camisetas |\n| 11 | 2023-01-02 | 1001 | Camisa Social Azul   | 14 | 86 | Camisas   |\n| 12 | 2023-01-02 | 1002 | Calça Jeans          | 15 | 26 | Calças    |\n| 13 | 2023-01-02 | 1003 | Jaqueta de Couro     |  1 | 19 | Jaquetas  |\n| 14 | 2023-01-02 | 1004 | Camisa Social Branca |  4 | 36 | Camisas   |\n| 15 | 2023-01-02 | 1005 | Saia Longa           |  8 | 19 | Saias     |\n| 16 | 2023-01-02 | 1006 | Blusa de Algodão     |  1 | 22 | Blusas    |\n| 17 | 2023-01-02 | 1007 | Calça de Moletom     | 11 | 62 | Calças    |\n| 18 | 2023-01-02 | 1008 | Vestido Floral       | 10 | 74 | Vestidos  |\n| 19 | 2023-01-02 | 1009 | Terno Completo       |  1 | 12 | Ternos    |\n| 20 | 2023-01-02 | 1010 | Camiseta Básica      | 13 | 99 | Camisetas |\n| 21 | 2023-01-03 | 1001 | Camisa Social Azul   |  2 | 37 | Camisas   |\n| 22 | 2023-01-03 | 1002 | Calça Jeans          |  5 | 65 | Calças    |\n| 23 | 2023-01-03 | 1003 | Jaqueta de Couro     | 10 | 97 | Jaquetas  |\n| 24 | 2023-01-03 | 1004 | Camisa Social Branca | 12 | 44 | Camisas   |\n| 25 | 2023-01-03 | 1005 | Saia Longa           | 13 | 28 | Saias     |\n| 26 | 2023-01-03 | 1006 | Blusa de Algodão     |  4 | 99 | Blusas    |\n| 27 | 2023-01-03 | 1007 | Calça de Moletom     |  5 | 24 | Calças    |\n| 28 | 2023-01-03 | 1008 | Vestido Floral       | 17 | 96 | Vestidos  |\n| 29 | 2023-01-03 | 1009 | Terno Completo       | 18 | 76 | Ternos    |\n| 30 | 2023-01-03 | 1010 | Camiseta Básica      | 11 | 15 | Camisetas |\n| ⋮ | ⋮ | ⋮ | ⋮ | ⋮ | ⋮ | ⋮ |\n| 281 | 2023-01-29 | 1001 | Camisa Social Azul   |  8 | 15 | Camisas   |\n| 282 | 2023-01-29 | 1002 | Calça Jeans          | 12 | 37 | Calças    |\n| 283 | 2023-01-29 | 1003 | Jaqueta de Couro     | 10 | 21 | Jaquetas  |\n| 284 | 2023-01-29 | 1004 | Camisa Social Branca |  6 | 49 | Camisas   |\n| 285 | 2023-01-29 | 1005 | Saia Longa           |  3 | 43 | Saias     |\n| 286 | 2023-01-29 | 1006 | Blusa de Algodão     | 12 | 96 | Blusas    |\n| 287 | 2023-01-29 | 1007 | Calça de Moletom     |  1 | 18 | Calças    |\n| 288 | 2023-01-29 | 1008 | Vestido Floral       |  2 | 57 | Vestidos  |\n| 289 | 2023-01-29 | 1009 | Terno Completo       | 10 | 97 | Ternos    |\n| 290 | 2023-01-29 | 1010 | Camiseta Básica      | 12 | 42 | Camisetas |\n| 291 | 2023-01-30 | 1001 | Camisa Social Azul   |  8 | 74 | Camisas   |\n| 292 | 2023-01-30 | 1002 | Calça Jeans          |  2 | 59 | Calças    |\n| 293 | 2023-01-30 | 1003 | Jaqueta de Couro     | 11 | 45 | Jaquetas  |\n| 294 | 2023-01-30 | 1004 | Camisa Social Branca | 13 | 97 | Camisas   |\n| 295 | 2023-01-30 | 1005 | Saia Longa           |  4 | 62 | Saias     |\n| 296 | 2023-01-30 | 1006 | Blusa de Algodão     |  8 | 55 | Blusas    |\n| 297 | 2023-01-30 | 1007 | Calça de Moletom     | 17 | 60 | Calças    |\n| 298 | 2023-01-30 | 1008 | Vestido Floral       | 18 | 33 | Vestidos  |\n| 299 | 2023-01-30 | 1009 | Terno Completo       |  7 | 22 | Ternos    |\n| 300 | 2023-01-30 | 1010 | Camiseta Básica      |  6 | 66 | Camisetas |\n| 301 | 2023-01-31 | 1001 | Camisa Social Azul   | 18 | 72 | Camisas   |\n| 302 | 2023-01-31 | 1002 | Calça Jeans          | 12 | 93 | Calças    |\n| 303 | 2023-01-31 | 1003 | Jaqueta de Couro     | 12 | 45 | Jaquetas  |\n| 304 | 2023-01-31 | 1004 | Camisa Social Branca |  9 | 80 | Camisas   |\n| 305 | 2023-01-31 | 1005 | Saia Longa           | 11 | 67 | Saias     |\n| 306 | 2023-01-31 | 1006 | Blusa de Algodão     | 10 | 41 | Blusas    |\n| 307 | 2023-01-31 | 1007 | Calça de Moletom     | 11 | 40 | Calças    |\n| 308 | 2023-01-31 | 1008 | Vestido Floral       | 16 | 49 | Vestidos  |\n| 309 | 2023-01-31 | 1009 | Terno Completo       |  6 | 65 | Ternos    |\n| 310 | 2023-01-31 | 1010 | Camiseta Básica      | 16 | 54 | Camisetas |\n\n",
            "text/latex": "A data.frame: 310 × 6\n\\begin{tabular}{r|llllll}\n  & Data & ID\\_Produto & Nome\\_Produto & Quantidade\\_Vendida & Estoque\\_Disponível & Categoria\\\\\n  & <chr> & <dbl> & <chr> & <dbl> & <dbl> & <chr>\\\\\n\\hline\n\t1 & 2023-01-01 & 1001 & Camisa Social Azul   &  7 & 35 & Camisas  \\\\\n\t2 & 2023-01-01 & 1002 & Calça Jeans          &  7 & 58 & Calças   \\\\\n\t3 & 2023-01-01 & 1003 & Jaqueta de Couro     &  7 & 78 & Jaquetas \\\\\n\t4 & 2023-01-01 & 1004 & Camisa Social Branca & 15 & 24 & Camisas  \\\\\n\t5 & 2023-01-01 & 1005 & Saia Longa           &  7 & 18 & Saias    \\\\\n\t6 & 2023-01-01 & 1006 & Blusa de Algodão     &  8 & 48 & Blusas   \\\\\n\t7 & 2023-01-01 & 1007 & Calça de Moletom     & 10 & 36 & Calças   \\\\\n\t8 & 2023-01-01 & 1008 & Vestido Floral       &  6 & 95 & Vestidos \\\\\n\t9 & 2023-01-01 & 1009 & Terno Completo       & 11 & 62 & Ternos   \\\\\n\t10 & 2023-01-01 & 1010 & Camiseta Básica      &  4 & 67 & Camisetas\\\\\n\t11 & 2023-01-02 & 1001 & Camisa Social Azul   & 14 & 86 & Camisas  \\\\\n\t12 & 2023-01-02 & 1002 & Calça Jeans          & 15 & 26 & Calças   \\\\\n\t13 & 2023-01-02 & 1003 & Jaqueta de Couro     &  1 & 19 & Jaquetas \\\\\n\t14 & 2023-01-02 & 1004 & Camisa Social Branca &  4 & 36 & Camisas  \\\\\n\t15 & 2023-01-02 & 1005 & Saia Longa           &  8 & 19 & Saias    \\\\\n\t16 & 2023-01-02 & 1006 & Blusa de Algodão     &  1 & 22 & Blusas   \\\\\n\t17 & 2023-01-02 & 1007 & Calça de Moletom     & 11 & 62 & Calças   \\\\\n\t18 & 2023-01-02 & 1008 & Vestido Floral       & 10 & 74 & Vestidos \\\\\n\t19 & 2023-01-02 & 1009 & Terno Completo       &  1 & 12 & Ternos   \\\\\n\t20 & 2023-01-02 & 1010 & Camiseta Básica      & 13 & 99 & Camisetas\\\\\n\t21 & 2023-01-03 & 1001 & Camisa Social Azul   &  2 & 37 & Camisas  \\\\\n\t22 & 2023-01-03 & 1002 & Calça Jeans          &  5 & 65 & Calças   \\\\\n\t23 & 2023-01-03 & 1003 & Jaqueta de Couro     & 10 & 97 & Jaquetas \\\\\n\t24 & 2023-01-03 & 1004 & Camisa Social Branca & 12 & 44 & Camisas  \\\\\n\t25 & 2023-01-03 & 1005 & Saia Longa           & 13 & 28 & Saias    \\\\\n\t26 & 2023-01-03 & 1006 & Blusa de Algodão     &  4 & 99 & Blusas   \\\\\n\t27 & 2023-01-03 & 1007 & Calça de Moletom     &  5 & 24 & Calças   \\\\\n\t28 & 2023-01-03 & 1008 & Vestido Floral       & 17 & 96 & Vestidos \\\\\n\t29 & 2023-01-03 & 1009 & Terno Completo       & 18 & 76 & Ternos   \\\\\n\t30 & 2023-01-03 & 1010 & Camiseta Básica      & 11 & 15 & Camisetas\\\\\n\t⋮ & ⋮ & ⋮ & ⋮ & ⋮ & ⋮ & ⋮\\\\\n\t281 & 2023-01-29 & 1001 & Camisa Social Azul   &  8 & 15 & Camisas  \\\\\n\t282 & 2023-01-29 & 1002 & Calça Jeans          & 12 & 37 & Calças   \\\\\n\t283 & 2023-01-29 & 1003 & Jaqueta de Couro     & 10 & 21 & Jaquetas \\\\\n\t284 & 2023-01-29 & 1004 & Camisa Social Branca &  6 & 49 & Camisas  \\\\\n\t285 & 2023-01-29 & 1005 & Saia Longa           &  3 & 43 & Saias    \\\\\n\t286 & 2023-01-29 & 1006 & Blusa de Algodão     & 12 & 96 & Blusas   \\\\\n\t287 & 2023-01-29 & 1007 & Calça de Moletom     &  1 & 18 & Calças   \\\\\n\t288 & 2023-01-29 & 1008 & Vestido Floral       &  2 & 57 & Vestidos \\\\\n\t289 & 2023-01-29 & 1009 & Terno Completo       & 10 & 97 & Ternos   \\\\\n\t290 & 2023-01-29 & 1010 & Camiseta Básica      & 12 & 42 & Camisetas\\\\\n\t291 & 2023-01-30 & 1001 & Camisa Social Azul   &  8 & 74 & Camisas  \\\\\n\t292 & 2023-01-30 & 1002 & Calça Jeans          &  2 & 59 & Calças   \\\\\n\t293 & 2023-01-30 & 1003 & Jaqueta de Couro     & 11 & 45 & Jaquetas \\\\\n\t294 & 2023-01-30 & 1004 & Camisa Social Branca & 13 & 97 & Camisas  \\\\\n\t295 & 2023-01-30 & 1005 & Saia Longa           &  4 & 62 & Saias    \\\\\n\t296 & 2023-01-30 & 1006 & Blusa de Algodão     &  8 & 55 & Blusas   \\\\\n\t297 & 2023-01-30 & 1007 & Calça de Moletom     & 17 & 60 & Calças   \\\\\n\t298 & 2023-01-30 & 1008 & Vestido Floral       & 18 & 33 & Vestidos \\\\\n\t299 & 2023-01-30 & 1009 & Terno Completo       &  7 & 22 & Ternos   \\\\\n\t300 & 2023-01-30 & 1010 & Camiseta Básica      &  6 & 66 & Camisetas\\\\\n\t301 & 2023-01-31 & 1001 & Camisa Social Azul   & 18 & 72 & Camisas  \\\\\n\t302 & 2023-01-31 & 1002 & Calça Jeans          & 12 & 93 & Calças   \\\\\n\t303 & 2023-01-31 & 1003 & Jaqueta de Couro     & 12 & 45 & Jaquetas \\\\\n\t304 & 2023-01-31 & 1004 & Camisa Social Branca &  9 & 80 & Camisas  \\\\\n\t305 & 2023-01-31 & 1005 & Saia Longa           & 11 & 67 & Saias    \\\\\n\t306 & 2023-01-31 & 1006 & Blusa de Algodão     & 10 & 41 & Blusas   \\\\\n\t307 & 2023-01-31 & 1007 & Calça de Moletom     & 11 & 40 & Calças   \\\\\n\t308 & 2023-01-31 & 1008 & Vestido Floral       & 16 & 49 & Vestidos \\\\\n\t309 & 2023-01-31 & 1009 & Terno Completo       &  6 & 65 & Ternos   \\\\\n\t310 & 2023-01-31 & 1010 & Camiseta Básica      & 16 & 54 & Camisetas\\\\\n\\end{tabular}\n",
            "text/plain": [
              "    Data       ID_Produto Nome_Produto         Quantidade_Vendida\n",
              "1   2023-01-01 1001       Camisa Social Azul    7                \n",
              "2   2023-01-01 1002       Calça Jeans           7                \n",
              "3   2023-01-01 1003       Jaqueta de Couro      7                \n",
              "4   2023-01-01 1004       Camisa Social Branca 15                \n",
              "5   2023-01-01 1005       Saia Longa            7                \n",
              "6   2023-01-01 1006       Blusa de Algodão      8                \n",
              "7   2023-01-01 1007       Calça de Moletom     10                \n",
              "8   2023-01-01 1008       Vestido Floral        6                \n",
              "9   2023-01-01 1009       Terno Completo       11                \n",
              "10  2023-01-01 1010       Camiseta Básica       4                \n",
              "11  2023-01-02 1001       Camisa Social Azul   14                \n",
              "12  2023-01-02 1002       Calça Jeans          15                \n",
              "13  2023-01-02 1003       Jaqueta de Couro      1                \n",
              "14  2023-01-02 1004       Camisa Social Branca  4                \n",
              "15  2023-01-02 1005       Saia Longa            8                \n",
              "16  2023-01-02 1006       Blusa de Algodão      1                \n",
              "17  2023-01-02 1007       Calça de Moletom     11                \n",
              "18  2023-01-02 1008       Vestido Floral       10                \n",
              "19  2023-01-02 1009       Terno Completo        1                \n",
              "20  2023-01-02 1010       Camiseta Básica      13                \n",
              "21  2023-01-03 1001       Camisa Social Azul    2                \n",
              "22  2023-01-03 1002       Calça Jeans           5                \n",
              "23  2023-01-03 1003       Jaqueta de Couro     10                \n",
              "24  2023-01-03 1004       Camisa Social Branca 12                \n",
              "25  2023-01-03 1005       Saia Longa           13                \n",
              "26  2023-01-03 1006       Blusa de Algodão      4                \n",
              "27  2023-01-03 1007       Calça de Moletom      5                \n",
              "28  2023-01-03 1008       Vestido Floral       17                \n",
              "29  2023-01-03 1009       Terno Completo       18                \n",
              "30  2023-01-03 1010       Camiseta Básica      11                \n",
              "⋮   ⋮          ⋮          ⋮                    ⋮                 \n",
              "281 2023-01-29 1001       Camisa Social Azul    8                \n",
              "282 2023-01-29 1002       Calça Jeans          12                \n",
              "283 2023-01-29 1003       Jaqueta de Couro     10                \n",
              "284 2023-01-29 1004       Camisa Social Branca  6                \n",
              "285 2023-01-29 1005       Saia Longa            3                \n",
              "286 2023-01-29 1006       Blusa de Algodão     12                \n",
              "287 2023-01-29 1007       Calça de Moletom      1                \n",
              "288 2023-01-29 1008       Vestido Floral        2                \n",
              "289 2023-01-29 1009       Terno Completo       10                \n",
              "290 2023-01-29 1010       Camiseta Básica      12                \n",
              "291 2023-01-30 1001       Camisa Social Azul    8                \n",
              "292 2023-01-30 1002       Calça Jeans           2                \n",
              "293 2023-01-30 1003       Jaqueta de Couro     11                \n",
              "294 2023-01-30 1004       Camisa Social Branca 13                \n",
              "295 2023-01-30 1005       Saia Longa            4                \n",
              "296 2023-01-30 1006       Blusa de Algodão      8                \n",
              "297 2023-01-30 1007       Calça de Moletom     17                \n",
              "298 2023-01-30 1008       Vestido Floral       18                \n",
              "299 2023-01-30 1009       Terno Completo        7                \n",
              "300 2023-01-30 1010       Camiseta Básica       6                \n",
              "301 2023-01-31 1001       Camisa Social Azul   18                \n",
              "302 2023-01-31 1002       Calça Jeans          12                \n",
              "303 2023-01-31 1003       Jaqueta de Couro     12                \n",
              "304 2023-01-31 1004       Camisa Social Branca  9                \n",
              "305 2023-01-31 1005       Saia Longa           11                \n",
              "306 2023-01-31 1006       Blusa de Algodão     10                \n",
              "307 2023-01-31 1007       Calça de Moletom     11                \n",
              "308 2023-01-31 1008       Vestido Floral       16                \n",
              "309 2023-01-31 1009       Terno Completo        6                \n",
              "310 2023-01-31 1010       Camiseta Básica      16                \n",
              "    Estoque_Disponível Categoria\n",
              "1   35                 Camisas  \n",
              "2   58                 Calças   \n",
              "3   78                 Jaquetas \n",
              "4   24                 Camisas  \n",
              "5   18                 Saias    \n",
              "6   48                 Blusas   \n",
              "7   36                 Calças   \n",
              "8   95                 Vestidos \n",
              "9   62                 Ternos   \n",
              "10  67                 Camisetas\n",
              "11  86                 Camisas  \n",
              "12  26                 Calças   \n",
              "13  19                 Jaquetas \n",
              "14  36                 Camisas  \n",
              "15  19                 Saias    \n",
              "16  22                 Blusas   \n",
              "17  62                 Calças   \n",
              "18  74                 Vestidos \n",
              "19  12                 Ternos   \n",
              "20  99                 Camisetas\n",
              "21  37                 Camisas  \n",
              "22  65                 Calças   \n",
              "23  97                 Jaquetas \n",
              "24  44                 Camisas  \n",
              "25  28                 Saias    \n",
              "26  99                 Blusas   \n",
              "27  24                 Calças   \n",
              "28  96                 Vestidos \n",
              "29  76                 Ternos   \n",
              "30  15                 Camisetas\n",
              "⋮   ⋮                  ⋮        \n",
              "281 15                 Camisas  \n",
              "282 37                 Calças   \n",
              "283 21                 Jaquetas \n",
              "284 49                 Camisas  \n",
              "285 43                 Saias    \n",
              "286 96                 Blusas   \n",
              "287 18                 Calças   \n",
              "288 57                 Vestidos \n",
              "289 97                 Ternos   \n",
              "290 42                 Camisetas\n",
              "291 74                 Camisas  \n",
              "292 59                 Calças   \n",
              "293 45                 Jaquetas \n",
              "294 97                 Camisas  \n",
              "295 62                 Saias    \n",
              "296 55                 Blusas   \n",
              "297 60                 Calças   \n",
              "298 33                 Vestidos \n",
              "299 22                 Ternos   \n",
              "300 66                 Camisetas\n",
              "301 72                 Camisas  \n",
              "302 93                 Calças   \n",
              "303 45                 Jaquetas \n",
              "304 80                 Camisas  \n",
              "305 67                 Saias    \n",
              "306 41                 Blusas   \n",
              "307 40                 Calças   \n",
              "308 49                 Vestidos \n",
              "309 65                 Ternos   \n",
              "310 54                 Camisetas"
            ]
          },
          "metadata": {}
        }
      ]
    },
    {
      "cell_type": "code",
      "source": [
        "summary(sales_data)"
      ],
      "metadata": {
        "colab": {
          "base_uri": "https://localhost:8080/",
          "height": 260
        },
        "id": "J35tbOMIaSNW",
        "outputId": "20ecba24-8d54-4f6b-8031-69e20844d973"
      },
      "execution_count": 94,
      "outputs": [
        {
          "output_type": "display_data",
          "data": {
            "text/plain": [
              "     Data             ID_Produto   Nome_Produto       Quantidade_Vendida\n",
              " Length:310         Min.   :1001   Length:310         Min.   : 1.00     \n",
              " Class :character   1st Qu.:1003   Class :character   1st Qu.: 6.00     \n",
              " Mode  :character   Median :1006   Mode  :character   Median :11.00     \n",
              "                    Mean   :1006                      Mean   :10.64     \n",
              "                    3rd Qu.:1008                      3rd Qu.:15.75     \n",
              "                    Max.   :1010                      Max.   :19.00     \n",
              " Estoque_Disponível  Categoria        \n",
              " Min.   :10.00      Length:310        \n",
              " 1st Qu.:33.00      Class :character  \n",
              " Median :54.00      Mode  :character  \n",
              " Mean   :54.39                        \n",
              " 3rd Qu.:76.00                        \n",
              " Max.   :99.00                        "
            ]
          },
          "metadata": {}
        }
      ]
    },
    {
      "cell_type": "markdown",
      "source": [
        "# Agregando dados e criando funções"
      ],
      "metadata": {
        "id": "p_fNYlHTa1LK"
      }
    },
    {
      "cell_type": "code",
      "source": [
        "total_vendido <- aggregate(Quantidade_Vendida ~ Nome_Produto, data = sales_data, sum)\n",
        "total_vendido"
      ],
      "metadata": {
        "id": "SmZtQR2ca33b",
        "colab": {
          "base_uri": "https://localhost:8080/",
          "height": 412
        },
        "outputId": "a249f579-7ff0-47c3-a99f-a8855338bea8"
      },
      "execution_count": 95,
      "outputs": [
        {
          "output_type": "display_data",
          "data": {
            "text/html": [
              "<table class=\"dataframe\">\n",
              "<caption>A data.frame: 10 × 2</caption>\n",
              "<thead>\n",
              "\t<tr><th scope=col>Nome_Produto</th><th scope=col>Quantidade_Vendida</th></tr>\n",
              "\t<tr><th scope=col>&lt;chr&gt;</th><th scope=col>&lt;dbl&gt;</th></tr>\n",
              "</thead>\n",
              "<tbody>\n",
              "\t<tr><td>Blusa de Algodão    </td><td>284</td></tr>\n",
              "\t<tr><td>Calça de Moletom    </td><td>378</td></tr>\n",
              "\t<tr><td>Calça Jeans         </td><td>321</td></tr>\n",
              "\t<tr><td>Camisa Social Azul  </td><td>336</td></tr>\n",
              "\t<tr><td>Camisa Social Branca</td><td>348</td></tr>\n",
              "\t<tr><td>Camiseta Básica     </td><td>355</td></tr>\n",
              "\t<tr><td>Jaqueta de Couro    </td><td>308</td></tr>\n",
              "\t<tr><td>Saia Longa          </td><td>335</td></tr>\n",
              "\t<tr><td>Terno Completo      </td><td>275</td></tr>\n",
              "\t<tr><td>Vestido Floral      </td><td>357</td></tr>\n",
              "</tbody>\n",
              "</table>\n"
            ],
            "text/markdown": "\nA data.frame: 10 × 2\n\n| Nome_Produto &lt;chr&gt; | Quantidade_Vendida &lt;dbl&gt; |\n|---|---|\n| Blusa de Algodão     | 284 |\n| Calça de Moletom     | 378 |\n| Calça Jeans          | 321 |\n| Camisa Social Azul   | 336 |\n| Camisa Social Branca | 348 |\n| Camiseta Básica      | 355 |\n| Jaqueta de Couro     | 308 |\n| Saia Longa           | 335 |\n| Terno Completo       | 275 |\n| Vestido Floral       | 357 |\n\n",
            "text/latex": "A data.frame: 10 × 2\n\\begin{tabular}{ll}\n Nome\\_Produto & Quantidade\\_Vendida\\\\\n <chr> & <dbl>\\\\\n\\hline\n\t Blusa de Algodão     & 284\\\\\n\t Calça de Moletom     & 378\\\\\n\t Calça Jeans          & 321\\\\\n\t Camisa Social Azul   & 336\\\\\n\t Camisa Social Branca & 348\\\\\n\t Camiseta Básica      & 355\\\\\n\t Jaqueta de Couro     & 308\\\\\n\t Saia Longa           & 335\\\\\n\t Terno Completo       & 275\\\\\n\t Vestido Floral       & 357\\\\\n\\end{tabular}\n",
            "text/plain": [
              "   Nome_Produto         Quantidade_Vendida\n",
              "1  Blusa de Algodão     284               \n",
              "2  Calça de Moletom     378               \n",
              "3  Calça Jeans          321               \n",
              "4  Camisa Social Azul   336               \n",
              "5  Camisa Social Branca 348               \n",
              "6  Camiseta Básica      355               \n",
              "7  Jaqueta de Couro     308               \n",
              "8  Saia Longa           335               \n",
              "9  Terno Completo       275               \n",
              "10 Vestido Floral       357               "
            ]
          },
          "metadata": {}
        }
      ]
    },
    {
      "cell_type": "code",
      "source": [
        "media_estoque <- aggregate(Estoque_Disponível ~ Nome_Produto, data = sales_data, mean)\n",
        "media_estoque"
      ],
      "metadata": {
        "colab": {
          "base_uri": "https://localhost:8080/",
          "height": 412
        },
        "id": "ypWN9N2Y-hjD",
        "outputId": "47ea2e51-7390-4106-a973-d9348f835525"
      },
      "execution_count": 96,
      "outputs": [
        {
          "output_type": "display_data",
          "data": {
            "text/html": [
              "<table class=\"dataframe\">\n",
              "<caption>A data.frame: 10 × 2</caption>\n",
              "<thead>\n",
              "\t<tr><th scope=col>Nome_Produto</th><th scope=col>Estoque_Disponível</th></tr>\n",
              "\t<tr><th scope=col>&lt;chr&gt;</th><th scope=col>&lt;dbl&gt;</th></tr>\n",
              "</thead>\n",
              "<tbody>\n",
              "\t<tr><td>Blusa de Algodão    </td><td>51.87097</td></tr>\n",
              "\t<tr><td>Calça de Moletom    </td><td>57.32258</td></tr>\n",
              "\t<tr><td>Calça Jeans         </td><td>49.96774</td></tr>\n",
              "\t<tr><td>Camisa Social Azul  </td><td>53.16129</td></tr>\n",
              "\t<tr><td>Camisa Social Branca</td><td>60.74194</td></tr>\n",
              "\t<tr><td>Camiseta Básica     </td><td>54.06452</td></tr>\n",
              "\t<tr><td>Jaqueta de Couro    </td><td>55.64516</td></tr>\n",
              "\t<tr><td>Saia Longa          </td><td>51.41935</td></tr>\n",
              "\t<tr><td>Terno Completo      </td><td>55.09677</td></tr>\n",
              "\t<tr><td>Vestido Floral      </td><td>54.61290</td></tr>\n",
              "</tbody>\n",
              "</table>\n"
            ],
            "text/markdown": "\nA data.frame: 10 × 2\n\n| Nome_Produto &lt;chr&gt; | Estoque_Disponível &lt;dbl&gt; |\n|---|---|\n| Blusa de Algodão     | 51.87097 |\n| Calça de Moletom     | 57.32258 |\n| Calça Jeans          | 49.96774 |\n| Camisa Social Azul   | 53.16129 |\n| Camisa Social Branca | 60.74194 |\n| Camiseta Básica      | 54.06452 |\n| Jaqueta de Couro     | 55.64516 |\n| Saia Longa           | 51.41935 |\n| Terno Completo       | 55.09677 |\n| Vestido Floral       | 54.61290 |\n\n",
            "text/latex": "A data.frame: 10 × 2\n\\begin{tabular}{ll}\n Nome\\_Produto & Estoque\\_Disponível\\\\\n <chr> & <dbl>\\\\\n\\hline\n\t Blusa de Algodão     & 51.87097\\\\\n\t Calça de Moletom     & 57.32258\\\\\n\t Calça Jeans          & 49.96774\\\\\n\t Camisa Social Azul   & 53.16129\\\\\n\t Camisa Social Branca & 60.74194\\\\\n\t Camiseta Básica      & 54.06452\\\\\n\t Jaqueta de Couro     & 55.64516\\\\\n\t Saia Longa           & 51.41935\\\\\n\t Terno Completo       & 55.09677\\\\\n\t Vestido Floral       & 54.61290\\\\\n\\end{tabular}\n",
            "text/plain": [
              "   Nome_Produto         Estoque_Disponível\n",
              "1  Blusa de Algodão     51.87097          \n",
              "2  Calça de Moletom     57.32258          \n",
              "3  Calça Jeans          49.96774          \n",
              "4  Camisa Social Azul   53.16129          \n",
              "5  Camisa Social Branca 60.74194          \n",
              "6  Camiseta Básica      54.06452          \n",
              "7  Jaqueta de Couro     55.64516          \n",
              "8  Saia Longa           51.41935          \n",
              "9  Terno Completo       55.09677          \n",
              "10 Vestido Floral       54.61290          "
            ]
          },
          "metadata": {}
        }
      ]
    },
    {
      "cell_type": "code",
      "source": [
        "aggregate_data <- merge(total_vendido, media_estoque, by = \"Nome_Produto\")\n",
        "aggregate_data"
      ],
      "metadata": {
        "colab": {
          "base_uri": "https://localhost:8080/",
          "height": 412
        },
        "id": "1StSJxWZ-xn6",
        "outputId": "62dd7d1a-9a1a-4b13-c3df-3f4c8fc83894"
      },
      "execution_count": 97,
      "outputs": [
        {
          "output_type": "display_data",
          "data": {
            "text/html": [
              "<table class=\"dataframe\">\n",
              "<caption>A data.frame: 10 × 3</caption>\n",
              "<thead>\n",
              "\t<tr><th scope=col>Nome_Produto</th><th scope=col>Quantidade_Vendida</th><th scope=col>Estoque_Disponível</th></tr>\n",
              "\t<tr><th scope=col>&lt;chr&gt;</th><th scope=col>&lt;dbl&gt;</th><th scope=col>&lt;dbl&gt;</th></tr>\n",
              "</thead>\n",
              "<tbody>\n",
              "\t<tr><td>Blusa de Algodão    </td><td>284</td><td>51.87097</td></tr>\n",
              "\t<tr><td>Calça de Moletom    </td><td>378</td><td>57.32258</td></tr>\n",
              "\t<tr><td>Calça Jeans         </td><td>321</td><td>49.96774</td></tr>\n",
              "\t<tr><td>Camisa Social Azul  </td><td>336</td><td>53.16129</td></tr>\n",
              "\t<tr><td>Camisa Social Branca</td><td>348</td><td>60.74194</td></tr>\n",
              "\t<tr><td>Camiseta Básica     </td><td>355</td><td>54.06452</td></tr>\n",
              "\t<tr><td>Jaqueta de Couro    </td><td>308</td><td>55.64516</td></tr>\n",
              "\t<tr><td>Saia Longa          </td><td>335</td><td>51.41935</td></tr>\n",
              "\t<tr><td>Terno Completo      </td><td>275</td><td>55.09677</td></tr>\n",
              "\t<tr><td>Vestido Floral      </td><td>357</td><td>54.61290</td></tr>\n",
              "</tbody>\n",
              "</table>\n"
            ],
            "text/markdown": "\nA data.frame: 10 × 3\n\n| Nome_Produto &lt;chr&gt; | Quantidade_Vendida &lt;dbl&gt; | Estoque_Disponível &lt;dbl&gt; |\n|---|---|---|\n| Blusa de Algodão     | 284 | 51.87097 |\n| Calça de Moletom     | 378 | 57.32258 |\n| Calça Jeans          | 321 | 49.96774 |\n| Camisa Social Azul   | 336 | 53.16129 |\n| Camisa Social Branca | 348 | 60.74194 |\n| Camiseta Básica      | 355 | 54.06452 |\n| Jaqueta de Couro     | 308 | 55.64516 |\n| Saia Longa           | 335 | 51.41935 |\n| Terno Completo       | 275 | 55.09677 |\n| Vestido Floral       | 357 | 54.61290 |\n\n",
            "text/latex": "A data.frame: 10 × 3\n\\begin{tabular}{lll}\n Nome\\_Produto & Quantidade\\_Vendida & Estoque\\_Disponível\\\\\n <chr> & <dbl> & <dbl>\\\\\n\\hline\n\t Blusa de Algodão     & 284 & 51.87097\\\\\n\t Calça de Moletom     & 378 & 57.32258\\\\\n\t Calça Jeans          & 321 & 49.96774\\\\\n\t Camisa Social Azul   & 336 & 53.16129\\\\\n\t Camisa Social Branca & 348 & 60.74194\\\\\n\t Camiseta Básica      & 355 & 54.06452\\\\\n\t Jaqueta de Couro     & 308 & 55.64516\\\\\n\t Saia Longa           & 335 & 51.41935\\\\\n\t Terno Completo       & 275 & 55.09677\\\\\n\t Vestido Floral       & 357 & 54.61290\\\\\n\\end{tabular}\n",
            "text/plain": [
              "   Nome_Produto         Quantidade_Vendida Estoque_Disponível\n",
              "1  Blusa de Algodão     284                51.87097          \n",
              "2  Calça de Moletom     378                57.32258          \n",
              "3  Calça Jeans          321                49.96774          \n",
              "4  Camisa Social Azul   336                53.16129          \n",
              "5  Camisa Social Branca 348                60.74194          \n",
              "6  Camiseta Básica      355                54.06452          \n",
              "7  Jaqueta de Couro     308                55.64516          \n",
              "8  Saia Longa           335                51.41935          \n",
              "9  Terno Completo       275                55.09677          \n",
              "10 Vestido Floral       357                54.61290          "
            ]
          },
          "metadata": {}
        }
      ]
    },
    {
      "cell_type": "code",
      "source": [
        "total_de_vendas_por_produto <- tapply(sales_data$Quantidade_Vendida, sales_data$Nome_Produto, sum)\n",
        "total_de_vendas_por_produto"
      ],
      "metadata": {
        "colab": {
          "base_uri": "https://localhost:8080/",
          "height": 52
        },
        "id": "vvXwPZ8G_Apf",
        "outputId": "2dccc8f7-d528-4fc2-cba6-b0409ca4e9e8"
      },
      "execution_count": 98,
      "outputs": [
        {
          "output_type": "display_data",
          "data": {
            "text/html": [
              "<style>\n",
              ".dl-inline {width: auto; margin:0; padding: 0}\n",
              ".dl-inline>dt, .dl-inline>dd {float: none; width: auto; display: inline-block}\n",
              ".dl-inline>dt::after {content: \":\\0020\"; padding-right: .5ex}\n",
              ".dl-inline>dt:not(:first-of-type) {padding-left: .5ex}\n",
              "</style><dl class=dl-inline><dt>Blusa de Algodão</dt><dd>284</dd><dt>Calça de Moletom</dt><dd>378</dd><dt>Calça Jeans</dt><dd>321</dd><dt>Camisa Social Azul</dt><dd>336</dd><dt>Camisa Social Branca</dt><dd>348</dd><dt>Camiseta Básica</dt><dd>355</dd><dt>Jaqueta de Couro</dt><dd>308</dd><dt>Saia Longa</dt><dd>335</dd><dt>Terno Completo</dt><dd>275</dd><dt>Vestido Floral</dt><dd>357</dd></dl>\n"
            ],
            "text/markdown": "Blusa de Algodão\n:   284Calça de Moletom\n:   378Calça Jeans\n:   321Camisa Social Azul\n:   336Camisa Social Branca\n:   348Camiseta Básica\n:   355Jaqueta de Couro\n:   308Saia Longa\n:   335Terno Completo\n:   275Vestido Floral\n:   357\n\n",
            "text/latex": "\\begin{description*}\n\\item[Blusa de Algodão] 284\n\\item[Calça de Moletom] 378\n\\item[Calça Jeans] 321\n\\item[Camisa Social Azul] 336\n\\item[Camisa Social Branca] 348\n\\item[Camiseta Básica] 355\n\\item[Jaqueta de Couro] 308\n\\item[Saia Longa] 335\n\\item[Terno Completo] 275\n\\item[Vestido Floral] 357\n\\end{description*}\n",
            "text/plain": [
              "    Blusa de Algodão     Calça de Moletom          Calça Jeans \n",
              "                 284                  378                  321 \n",
              "  Camisa Social Azul Camisa Social Branca      Camiseta Básica \n",
              "                 336                  348                  355 \n",
              "    Jaqueta de Couro           Saia Longa       Terno Completo \n",
              "                 308                  335                  275 \n",
              "      Vestido Floral \n",
              "                 357 "
            ]
          },
          "metadata": {}
        }
      ]
    },
    {
      "cell_type": "code",
      "source": [
        "print(total_de_vendas_por_produto)"
      ],
      "metadata": {
        "colab": {
          "base_uri": "https://localhost:8080/"
        },
        "id": "Vxlp8mm7A9ws",
        "outputId": "3c9c899a-739c-4b3f-9fe0-570a17f5be73"
      },
      "execution_count": 99,
      "outputs": [
        {
          "output_type": "stream",
          "name": "stdout",
          "text": [
            "    Blusa de Algodão     Calça de Moletom          Calça Jeans \n",
            "                 284                  378                  321 \n",
            "  Camisa Social Azul Camisa Social Branca      Camiseta Básica \n",
            "                 336                  348                  355 \n",
            "    Jaqueta de Couro           Saia Longa       Terno Completo \n",
            "                 308                  335                  275 \n",
            "      Vestido Floral \n",
            "                 357 \n"
          ]
        }
      ]
    },
    {
      "cell_type": "code",
      "source": [
        "columns_to_analyze <- sales_data[,c(\"Quantidade_Vendida\", \"Estoque_Disponível\")]"
      ],
      "metadata": {
        "id": "rHYmaLp3BAmS"
      },
      "execution_count": 100,
      "outputs": []
    },
    {
      "cell_type": "code",
      "source": [
        "resultado <- sapply(columns_to_analyze, function(x) c(soma = sum(x), media = mean(x), std = sd(x)))"
      ],
      "metadata": {
        "id": "6sAbCbQ0DvNy"
      },
      "execution_count": 101,
      "outputs": []
    },
    {
      "cell_type": "code",
      "source": [
        "print(resultado)"
      ],
      "metadata": {
        "colab": {
          "base_uri": "https://localhost:8080/"
        },
        "id": "FWmXjG0SEgsV",
        "outputId": "a641cc10-02f6-4226-e8e7-c74a27d99f85"
      },
      "execution_count": 102,
      "outputs": [
        {
          "output_type": "stream",
          "name": "stdout",
          "text": [
            "      Quantidade_Vendida Estoque_Disponível\n",
            "soma         3297.000000        16861.00000\n",
            "media          10.635484           54.39032\n",
            "std             5.489563           25.81987\n"
          ]
        }
      ]
    },
    {
      "cell_type": "code",
      "source": [
        "print(t(resultado))"
      ],
      "metadata": {
        "colab": {
          "base_uri": "https://localhost:8080/"
        },
        "id": "X9yiHfesEh1F",
        "outputId": "9ecf79e1-3734-4736-8aa1-942b71460dac"
      },
      "execution_count": 103,
      "outputs": [
        {
          "output_type": "stream",
          "name": "stdout",
          "text": [
            "                    soma    media       std\n",
            "Quantidade_Vendida  3297 10.63548  5.489563\n",
            "Estoque_Disponível 16861 54.39032 25.819875\n"
          ]
        }
      ]
    },
    {
      "cell_type": "markdown",
      "source": [
        "# Ordenando e filtrando os dados"
      ],
      "metadata": {
        "id": "oRqMbcsNFsuj"
      }
    },
    {
      "cell_type": "code",
      "source": [
        "head(camisas_df)"
      ],
      "metadata": {
        "colab": {
          "base_uri": "https://localhost:8080/",
          "height": 286
        },
        "id": "g5OJY5O_FvyX",
        "outputId": "da7cc1be-39d5-43cc-eda2-1bc0956f80b5"
      },
      "execution_count": 104,
      "outputs": [
        {
          "output_type": "display_data",
          "data": {
            "text/html": [
              "<table class=\"dataframe\">\n",
              "<caption>A data.frame: 6 × 6</caption>\n",
              "<thead>\n",
              "\t<tr><th></th><th scope=col>Data</th><th scope=col>ID_Produto</th><th scope=col>Nome_Produto</th><th scope=col>Quantidade_Vendida</th><th scope=col>Estoque_Disponível</th><th scope=col>Categoria</th></tr>\n",
              "\t<tr><th></th><th scope=col>&lt;chr&gt;</th><th scope=col>&lt;int&gt;</th><th scope=col>&lt;chr&gt;</th><th scope=col>&lt;int&gt;</th><th scope=col>&lt;int&gt;</th><th scope=col>&lt;chr&gt;</th></tr>\n",
              "</thead>\n",
              "<tbody>\n",
              "\t<tr><th scope=row>1</th><td>2023-01-01</td><td>1001</td><td>Camisa Social Azul  </td><td> 7</td><td>35</td><td>Camisas</td></tr>\n",
              "\t<tr><th scope=row>4</th><td>2023-01-01</td><td>1004</td><td>Camisa Social Branca</td><td>15</td><td>24</td><td>Camisas</td></tr>\n",
              "\t<tr><th scope=row>11</th><td>2023-01-02</td><td>1001</td><td>Camisa Social Azul  </td><td>14</td><td>86</td><td>Camisas</td></tr>\n",
              "\t<tr><th scope=row>14</th><td>2023-01-02</td><td>1004</td><td>Camisa Social Branca</td><td> 4</td><td>36</td><td>Camisas</td></tr>\n",
              "\t<tr><th scope=row>21</th><td>2023-01-03</td><td>1001</td><td>Camisa Social Azul  </td><td> 2</td><td>37</td><td>Camisas</td></tr>\n",
              "\t<tr><th scope=row>24</th><td>2023-01-03</td><td>1004</td><td>Camisa Social Branca</td><td>12</td><td>44</td><td>Camisas</td></tr>\n",
              "</tbody>\n",
              "</table>\n"
            ],
            "text/markdown": "\nA data.frame: 6 × 6\n\n| <!--/--> | Data &lt;chr&gt; | ID_Produto &lt;int&gt; | Nome_Produto &lt;chr&gt; | Quantidade_Vendida &lt;int&gt; | Estoque_Disponível &lt;int&gt; | Categoria &lt;chr&gt; |\n|---|---|---|---|---|---|---|\n| 1 | 2023-01-01 | 1001 | Camisa Social Azul   |  7 | 35 | Camisas |\n| 4 | 2023-01-01 | 1004 | Camisa Social Branca | 15 | 24 | Camisas |\n| 11 | 2023-01-02 | 1001 | Camisa Social Azul   | 14 | 86 | Camisas |\n| 14 | 2023-01-02 | 1004 | Camisa Social Branca |  4 | 36 | Camisas |\n| 21 | 2023-01-03 | 1001 | Camisa Social Azul   |  2 | 37 | Camisas |\n| 24 | 2023-01-03 | 1004 | Camisa Social Branca | 12 | 44 | Camisas |\n\n",
            "text/latex": "A data.frame: 6 × 6\n\\begin{tabular}{r|llllll}\n  & Data & ID\\_Produto & Nome\\_Produto & Quantidade\\_Vendida & Estoque\\_Disponível & Categoria\\\\\n  & <chr> & <int> & <chr> & <int> & <int> & <chr>\\\\\n\\hline\n\t1 & 2023-01-01 & 1001 & Camisa Social Azul   &  7 & 35 & Camisas\\\\\n\t4 & 2023-01-01 & 1004 & Camisa Social Branca & 15 & 24 & Camisas\\\\\n\t11 & 2023-01-02 & 1001 & Camisa Social Azul   & 14 & 86 & Camisas\\\\\n\t14 & 2023-01-02 & 1004 & Camisa Social Branca &  4 & 36 & Camisas\\\\\n\t21 & 2023-01-03 & 1001 & Camisa Social Azul   &  2 & 37 & Camisas\\\\\n\t24 & 2023-01-03 & 1004 & Camisa Social Branca & 12 & 44 & Camisas\\\\\n\\end{tabular}\n",
            "text/plain": [
              "   Data       ID_Produto Nome_Produto         Quantidade_Vendida\n",
              "1  2023-01-01 1001       Camisa Social Azul    7                \n",
              "4  2023-01-01 1004       Camisa Social Branca 15                \n",
              "11 2023-01-02 1001       Camisa Social Azul   14                \n",
              "14 2023-01-02 1004       Camisa Social Branca  4                \n",
              "21 2023-01-03 1001       Camisa Social Azul    2                \n",
              "24 2023-01-03 1004       Camisa Social Branca 12                \n",
              "   Estoque_Disponível Categoria\n",
              "1  35                 Camisas  \n",
              "4  24                 Camisas  \n",
              "11 86                 Camisas  \n",
              "14 36                 Camisas  \n",
              "21 37                 Camisas  \n",
              "24 44                 Camisas  "
            ]
          },
          "metadata": {}
        }
      ]
    },
    {
      "cell_type": "code",
      "source": [
        "camisas_df_ordenado <- camisas_df[order(camisas_df$Quantidade_Vendida, decreasing = TRUE),]\n",
        "camisas_df_ordenado"
      ],
      "metadata": {
        "colab": {
          "base_uri": "https://localhost:8080/",
          "height": 1000
        },
        "id": "0JimY24QGfwA",
        "outputId": "56a9d592-7241-4093-967b-da78860e8b1c"
      },
      "execution_count": 105,
      "outputs": [
        {
          "output_type": "display_data",
          "data": {
            "text/html": [
              "<table class=\"dataframe\">\n",
              "<caption>A data.frame: 62 × 6</caption>\n",
              "<thead>\n",
              "\t<tr><th></th><th scope=col>Data</th><th scope=col>ID_Produto</th><th scope=col>Nome_Produto</th><th scope=col>Quantidade_Vendida</th><th scope=col>Estoque_Disponível</th><th scope=col>Categoria</th></tr>\n",
              "\t<tr><th></th><th scope=col>&lt;chr&gt;</th><th scope=col>&lt;int&gt;</th><th scope=col>&lt;chr&gt;</th><th scope=col>&lt;int&gt;</th><th scope=col>&lt;int&gt;</th><th scope=col>&lt;chr&gt;</th></tr>\n",
              "</thead>\n",
              "<tbody>\n",
              "\t<tr><th scope=row>171</th><td>2023-01-18</td><td>1001</td><td>Camisa Social Azul  </td><td>19</td><td>89</td><td>Camisas</td></tr>\n",
              "\t<tr><th scope=row>201</th><td>2023-01-21</td><td>1001</td><td>Camisa Social Azul  </td><td>18</td><td>56</td><td>Camisas</td></tr>\n",
              "\t<tr><th scope=row>301</th><td>2023-01-31</td><td>1001</td><td>Camisa Social Azul  </td><td>18</td><td>72</td><td>Camisas</td></tr>\n",
              "\t<tr><th scope=row>44</th><td>2023-01-05</td><td>1004</td><td>Camisa Social Branca</td><td>17</td><td>84</td><td>Camisas</td></tr>\n",
              "\t<tr><th scope=row>131</th><td>2023-01-14</td><td>1001</td><td>Camisa Social Azul  </td><td>17</td><td>57</td><td>Camisas</td></tr>\n",
              "\t<tr><th scope=row>214</th><td>2023-01-22</td><td>1004</td><td>Camisa Social Branca</td><td>17</td><td>79</td><td>Camisas</td></tr>\n",
              "\t<tr><th scope=row>41</th><td>2023-01-05</td><td>1001</td><td>Camisa Social Azul  </td><td>16</td><td>52</td><td>Camisas</td></tr>\n",
              "\t<tr><th scope=row>54</th><td>2023-01-06</td><td>1004</td><td>Camisa Social Branca</td><td>16</td><td>65</td><td>Camisas</td></tr>\n",
              "\t<tr><th scope=row>64</th><td>2023-01-07</td><td>1004</td><td>Camisa Social Branca</td><td>16</td><td>92</td><td>Camisas</td></tr>\n",
              "\t<tr><th scope=row>71</th><td>2023-01-08</td><td>1001</td><td>Camisa Social Azul  </td><td>16</td><td>52</td><td>Camisas</td></tr>\n",
              "\t<tr><th scope=row>84</th><td>2023-01-09</td><td>1004</td><td>Camisa Social Branca</td><td>16</td><td>72</td><td>Camisas</td></tr>\n",
              "\t<tr><th scope=row>234</th><td>2023-01-24</td><td>1004</td><td>Camisa Social Branca</td><td>16</td><td>38</td><td>Camisas</td></tr>\n",
              "\t<tr><th scope=row>4</th><td>2023-01-01</td><td>1004</td><td>Camisa Social Branca</td><td>15</td><td>24</td><td>Camisas</td></tr>\n",
              "\t<tr><th scope=row>81</th><td>2023-01-09</td><td>1001</td><td>Camisa Social Azul  </td><td>15</td><td>38</td><td>Camisas</td></tr>\n",
              "\t<tr><th scope=row>134</th><td>2023-01-14</td><td>1004</td><td>Camisa Social Branca</td><td>15</td><td>91</td><td>Camisas</td></tr>\n",
              "\t<tr><th scope=row>141</th><td>2023-01-15</td><td>1001</td><td>Camisa Social Azul  </td><td>15</td><td>96</td><td>Camisas</td></tr>\n",
              "\t<tr><th scope=row>191</th><td>2023-01-20</td><td>1001</td><td>Camisa Social Azul  </td><td>15</td><td>54</td><td>Camisas</td></tr>\n",
              "\t<tr><th scope=row>261</th><td>2023-01-27</td><td>1001</td><td>Camisa Social Azul  </td><td>15</td><td>96</td><td>Camisas</td></tr>\n",
              "\t<tr><th scope=row>11</th><td>2023-01-02</td><td>1001</td><td>Camisa Social Azul  </td><td>14</td><td>86</td><td>Camisas</td></tr>\n",
              "\t<tr><th scope=row>61</th><td>2023-01-07</td><td>1001</td><td>Camisa Social Azul  </td><td>14</td><td>19</td><td>Camisas</td></tr>\n",
              "\t<tr><th scope=row>161</th><td>2023-01-17</td><td>1001</td><td>Camisa Social Azul  </td><td>14</td><td>96</td><td>Camisas</td></tr>\n",
              "\t<tr><th scope=row>194</th><td>2023-01-20</td><td>1004</td><td>Camisa Social Branca</td><td>14</td><td>18</td><td>Camisas</td></tr>\n",
              "\t<tr><th scope=row>211</th><td>2023-01-22</td><td>1001</td><td>Camisa Social Azul  </td><td>14</td><td>59</td><td>Camisas</td></tr>\n",
              "\t<tr><th scope=row>264</th><td>2023-01-27</td><td>1004</td><td>Camisa Social Branca</td><td>14</td><td>27</td><td>Camisas</td></tr>\n",
              "\t<tr><th scope=row>94</th><td>2023-01-10</td><td>1004</td><td>Camisa Social Branca</td><td>13</td><td>89</td><td>Camisas</td></tr>\n",
              "\t<tr><th scope=row>101</th><td>2023-01-11</td><td>1001</td><td>Camisa Social Azul  </td><td>13</td><td>19</td><td>Camisas</td></tr>\n",
              "\t<tr><th scope=row>221</th><td>2023-01-23</td><td>1001</td><td>Camisa Social Azul  </td><td>13</td><td>57</td><td>Camisas</td></tr>\n",
              "\t<tr><th scope=row>254</th><td>2023-01-26</td><td>1004</td><td>Camisa Social Branca</td><td>13</td><td>53</td><td>Camisas</td></tr>\n",
              "\t<tr><th scope=row>294</th><td>2023-01-30</td><td>1004</td><td>Camisa Social Branca</td><td>13</td><td>97</td><td>Camisas</td></tr>\n",
              "\t<tr><th scope=row>24</th><td>2023-01-03</td><td>1004</td><td>Camisa Social Branca</td><td>12</td><td>44</td><td>Camisas</td></tr>\n",
              "\t<tr><th scope=row>⋮</th><td>⋮</td><td>⋮</td><td>⋮</td><td>⋮</td><td>⋮</td><td>⋮</td></tr>\n",
              "\t<tr><th scope=row>274</th><td>2023-01-28</td><td>1004</td><td>Camisa Social Branca</td><td>12</td><td>73</td><td>Camisas</td></tr>\n",
              "\t<tr><th scope=row>31</th><td>2023-01-04</td><td>1001</td><td>Camisa Social Azul  </td><td>11</td><td>21</td><td>Camisas</td></tr>\n",
              "\t<tr><th scope=row>144</th><td>2023-01-15</td><td>1004</td><td>Camisa Social Branca</td><td>11</td><td>94</td><td>Camisas</td></tr>\n",
              "\t<tr><th scope=row>184</th><td>2023-01-19</td><td>1004</td><td>Camisa Social Branca</td><td>11</td><td>86</td><td>Camisas</td></tr>\n",
              "\t<tr><th scope=row>231</th><td>2023-01-24</td><td>1001</td><td>Camisa Social Azul  </td><td>11</td><td>54</td><td>Camisas</td></tr>\n",
              "\t<tr><th scope=row>51</th><td>2023-01-06</td><td>1001</td><td>Camisa Social Azul  </td><td>10</td><td>26</td><td>Camisas</td></tr>\n",
              "\t<tr><th scope=row>74</th><td>2023-01-08</td><td>1004</td><td>Camisa Social Branca</td><td>10</td><td>52</td><td>Camisas</td></tr>\n",
              "\t<tr><th scope=row>91</th><td>2023-01-10</td><td>1001</td><td>Camisa Social Azul  </td><td>10</td><td>95</td><td>Camisas</td></tr>\n",
              "\t<tr><th scope=row>204</th><td>2023-01-21</td><td>1004</td><td>Camisa Social Branca</td><td>10</td><td>69</td><td>Camisas</td></tr>\n",
              "\t<tr><th scope=row>34</th><td>2023-01-04</td><td>1004</td><td>Camisa Social Branca</td><td> 9</td><td>27</td><td>Camisas</td></tr>\n",
              "\t<tr><th scope=row>304</th><td>2023-01-31</td><td>1004</td><td>Camisa Social Branca</td><td> 9</td><td>80</td><td>Camisas</td></tr>\n",
              "\t<tr><th scope=row>164</th><td>2023-01-17</td><td>1004</td><td>Camisa Social Branca</td><td> 8</td><td>15</td><td>Camisas</td></tr>\n",
              "\t<tr><th scope=row>281</th><td>2023-01-29</td><td>1001</td><td>Camisa Social Azul  </td><td> 8</td><td>15</td><td>Camisas</td></tr>\n",
              "\t<tr><th scope=row>291</th><td>2023-01-30</td><td>1001</td><td>Camisa Social Azul  </td><td> 8</td><td>74</td><td>Camisas</td></tr>\n",
              "\t<tr><th scope=row>1</th><td>2023-01-01</td><td>1001</td><td>Camisa Social Azul  </td><td> 7</td><td>35</td><td>Camisas</td></tr>\n",
              "\t<tr><th scope=row>121</th><td>2023-01-13</td><td>1001</td><td>Camisa Social Azul  </td><td> 7</td><td>18</td><td>Camisas</td></tr>\n",
              "\t<tr><th scope=row>154</th><td>2023-01-16</td><td>1004</td><td>Camisa Social Branca</td><td> 7</td><td>68</td><td>Camisas</td></tr>\n",
              "\t<tr><th scope=row>224</th><td>2023-01-23</td><td>1004</td><td>Camisa Social Branca</td><td> 7</td><td>91</td><td>Camisas</td></tr>\n",
              "\t<tr><th scope=row>104</th><td>2023-01-11</td><td>1004</td><td>Camisa Social Branca</td><td> 6</td><td>46</td><td>Camisas</td></tr>\n",
              "\t<tr><th scope=row>284</th><td>2023-01-29</td><td>1004</td><td>Camisa Social Branca</td><td> 6</td><td>49</td><td>Camisas</td></tr>\n",
              "\t<tr><th scope=row>244</th><td>2023-01-25</td><td>1004</td><td>Camisa Social Branca</td><td> 5</td><td>55</td><td>Camisas</td></tr>\n",
              "\t<tr><th scope=row>251</th><td>2023-01-26</td><td>1001</td><td>Camisa Social Azul  </td><td> 5</td><td>22</td><td>Camisas</td></tr>\n",
              "\t<tr><th scope=row>14</th><td>2023-01-02</td><td>1004</td><td>Camisa Social Branca</td><td> 4</td><td>36</td><td>Camisas</td></tr>\n",
              "\t<tr><th scope=row>181</th><td>2023-01-19</td><td>1001</td><td>Camisa Social Azul  </td><td> 4</td><td>63</td><td>Camisas</td></tr>\n",
              "\t<tr><th scope=row>21</th><td>2023-01-03</td><td>1001</td><td>Camisa Social Azul  </td><td> 2</td><td>37</td><td>Camisas</td></tr>\n",
              "\t<tr><th scope=row>111</th><td>2023-01-12</td><td>1001</td><td>Camisa Social Azul  </td><td> 2</td><td>12</td><td>Camisas</td></tr>\n",
              "\t<tr><th scope=row>124</th><td>2023-01-13</td><td>1004</td><td>Camisa Social Branca</td><td> 2</td><td>42</td><td>Camisas</td></tr>\n",
              "\t<tr><th scope=row>241</th><td>2023-01-25</td><td>1001</td><td>Camisa Social Azul  </td><td> 2</td><td>59</td><td>Camisas</td></tr>\n",
              "\t<tr><th scope=row>271</th><td>2023-01-28</td><td>1001</td><td>Camisa Social Azul  </td><td> 2</td><td>68</td><td>Camisas</td></tr>\n",
              "\t<tr><th scope=row>151</th><td>2023-01-16</td><td>1001</td><td>Camisa Social Azul  </td><td> 1</td><td>51</td><td>Camisas</td></tr>\n",
              "</tbody>\n",
              "</table>\n"
            ],
            "text/markdown": "\nA data.frame: 62 × 6\n\n| <!--/--> | Data &lt;chr&gt; | ID_Produto &lt;int&gt; | Nome_Produto &lt;chr&gt; | Quantidade_Vendida &lt;int&gt; | Estoque_Disponível &lt;int&gt; | Categoria &lt;chr&gt; |\n|---|---|---|---|---|---|---|\n| 171 | 2023-01-18 | 1001 | Camisa Social Azul   | 19 | 89 | Camisas |\n| 201 | 2023-01-21 | 1001 | Camisa Social Azul   | 18 | 56 | Camisas |\n| 301 | 2023-01-31 | 1001 | Camisa Social Azul   | 18 | 72 | Camisas |\n| 44 | 2023-01-05 | 1004 | Camisa Social Branca | 17 | 84 | Camisas |\n| 131 | 2023-01-14 | 1001 | Camisa Social Azul   | 17 | 57 | Camisas |\n| 214 | 2023-01-22 | 1004 | Camisa Social Branca | 17 | 79 | Camisas |\n| 41 | 2023-01-05 | 1001 | Camisa Social Azul   | 16 | 52 | Camisas |\n| 54 | 2023-01-06 | 1004 | Camisa Social Branca | 16 | 65 | Camisas |\n| 64 | 2023-01-07 | 1004 | Camisa Social Branca | 16 | 92 | Camisas |\n| 71 | 2023-01-08 | 1001 | Camisa Social Azul   | 16 | 52 | Camisas |\n| 84 | 2023-01-09 | 1004 | Camisa Social Branca | 16 | 72 | Camisas |\n| 234 | 2023-01-24 | 1004 | Camisa Social Branca | 16 | 38 | Camisas |\n| 4 | 2023-01-01 | 1004 | Camisa Social Branca | 15 | 24 | Camisas |\n| 81 | 2023-01-09 | 1001 | Camisa Social Azul   | 15 | 38 | Camisas |\n| 134 | 2023-01-14 | 1004 | Camisa Social Branca | 15 | 91 | Camisas |\n| 141 | 2023-01-15 | 1001 | Camisa Social Azul   | 15 | 96 | Camisas |\n| 191 | 2023-01-20 | 1001 | Camisa Social Azul   | 15 | 54 | Camisas |\n| 261 | 2023-01-27 | 1001 | Camisa Social Azul   | 15 | 96 | Camisas |\n| 11 | 2023-01-02 | 1001 | Camisa Social Azul   | 14 | 86 | Camisas |\n| 61 | 2023-01-07 | 1001 | Camisa Social Azul   | 14 | 19 | Camisas |\n| 161 | 2023-01-17 | 1001 | Camisa Social Azul   | 14 | 96 | Camisas |\n| 194 | 2023-01-20 | 1004 | Camisa Social Branca | 14 | 18 | Camisas |\n| 211 | 2023-01-22 | 1001 | Camisa Social Azul   | 14 | 59 | Camisas |\n| 264 | 2023-01-27 | 1004 | Camisa Social Branca | 14 | 27 | Camisas |\n| 94 | 2023-01-10 | 1004 | Camisa Social Branca | 13 | 89 | Camisas |\n| 101 | 2023-01-11 | 1001 | Camisa Social Azul   | 13 | 19 | Camisas |\n| 221 | 2023-01-23 | 1001 | Camisa Social Azul   | 13 | 57 | Camisas |\n| 254 | 2023-01-26 | 1004 | Camisa Social Branca | 13 | 53 | Camisas |\n| 294 | 2023-01-30 | 1004 | Camisa Social Branca | 13 | 97 | Camisas |\n| 24 | 2023-01-03 | 1004 | Camisa Social Branca | 12 | 44 | Camisas |\n| ⋮ | ⋮ | ⋮ | ⋮ | ⋮ | ⋮ | ⋮ |\n| 274 | 2023-01-28 | 1004 | Camisa Social Branca | 12 | 73 | Camisas |\n| 31 | 2023-01-04 | 1001 | Camisa Social Azul   | 11 | 21 | Camisas |\n| 144 | 2023-01-15 | 1004 | Camisa Social Branca | 11 | 94 | Camisas |\n| 184 | 2023-01-19 | 1004 | Camisa Social Branca | 11 | 86 | Camisas |\n| 231 | 2023-01-24 | 1001 | Camisa Social Azul   | 11 | 54 | Camisas |\n| 51 | 2023-01-06 | 1001 | Camisa Social Azul   | 10 | 26 | Camisas |\n| 74 | 2023-01-08 | 1004 | Camisa Social Branca | 10 | 52 | Camisas |\n| 91 | 2023-01-10 | 1001 | Camisa Social Azul   | 10 | 95 | Camisas |\n| 204 | 2023-01-21 | 1004 | Camisa Social Branca | 10 | 69 | Camisas |\n| 34 | 2023-01-04 | 1004 | Camisa Social Branca |  9 | 27 | Camisas |\n| 304 | 2023-01-31 | 1004 | Camisa Social Branca |  9 | 80 | Camisas |\n| 164 | 2023-01-17 | 1004 | Camisa Social Branca |  8 | 15 | Camisas |\n| 281 | 2023-01-29 | 1001 | Camisa Social Azul   |  8 | 15 | Camisas |\n| 291 | 2023-01-30 | 1001 | Camisa Social Azul   |  8 | 74 | Camisas |\n| 1 | 2023-01-01 | 1001 | Camisa Social Azul   |  7 | 35 | Camisas |\n| 121 | 2023-01-13 | 1001 | Camisa Social Azul   |  7 | 18 | Camisas |\n| 154 | 2023-01-16 | 1004 | Camisa Social Branca |  7 | 68 | Camisas |\n| 224 | 2023-01-23 | 1004 | Camisa Social Branca |  7 | 91 | Camisas |\n| 104 | 2023-01-11 | 1004 | Camisa Social Branca |  6 | 46 | Camisas |\n| 284 | 2023-01-29 | 1004 | Camisa Social Branca |  6 | 49 | Camisas |\n| 244 | 2023-01-25 | 1004 | Camisa Social Branca |  5 | 55 | Camisas |\n| 251 | 2023-01-26 | 1001 | Camisa Social Azul   |  5 | 22 | Camisas |\n| 14 | 2023-01-02 | 1004 | Camisa Social Branca |  4 | 36 | Camisas |\n| 181 | 2023-01-19 | 1001 | Camisa Social Azul   |  4 | 63 | Camisas |\n| 21 | 2023-01-03 | 1001 | Camisa Social Azul   |  2 | 37 | Camisas |\n| 111 | 2023-01-12 | 1001 | Camisa Social Azul   |  2 | 12 | Camisas |\n| 124 | 2023-01-13 | 1004 | Camisa Social Branca |  2 | 42 | Camisas |\n| 241 | 2023-01-25 | 1001 | Camisa Social Azul   |  2 | 59 | Camisas |\n| 271 | 2023-01-28 | 1001 | Camisa Social Azul   |  2 | 68 | Camisas |\n| 151 | 2023-01-16 | 1001 | Camisa Social Azul   |  1 | 51 | Camisas |\n\n",
            "text/latex": "A data.frame: 62 × 6\n\\begin{tabular}{r|llllll}\n  & Data & ID\\_Produto & Nome\\_Produto & Quantidade\\_Vendida & Estoque\\_Disponível & Categoria\\\\\n  & <chr> & <int> & <chr> & <int> & <int> & <chr>\\\\\n\\hline\n\t171 & 2023-01-18 & 1001 & Camisa Social Azul   & 19 & 89 & Camisas\\\\\n\t201 & 2023-01-21 & 1001 & Camisa Social Azul   & 18 & 56 & Camisas\\\\\n\t301 & 2023-01-31 & 1001 & Camisa Social Azul   & 18 & 72 & Camisas\\\\\n\t44 & 2023-01-05 & 1004 & Camisa Social Branca & 17 & 84 & Camisas\\\\\n\t131 & 2023-01-14 & 1001 & Camisa Social Azul   & 17 & 57 & Camisas\\\\\n\t214 & 2023-01-22 & 1004 & Camisa Social Branca & 17 & 79 & Camisas\\\\\n\t41 & 2023-01-05 & 1001 & Camisa Social Azul   & 16 & 52 & Camisas\\\\\n\t54 & 2023-01-06 & 1004 & Camisa Social Branca & 16 & 65 & Camisas\\\\\n\t64 & 2023-01-07 & 1004 & Camisa Social Branca & 16 & 92 & Camisas\\\\\n\t71 & 2023-01-08 & 1001 & Camisa Social Azul   & 16 & 52 & Camisas\\\\\n\t84 & 2023-01-09 & 1004 & Camisa Social Branca & 16 & 72 & Camisas\\\\\n\t234 & 2023-01-24 & 1004 & Camisa Social Branca & 16 & 38 & Camisas\\\\\n\t4 & 2023-01-01 & 1004 & Camisa Social Branca & 15 & 24 & Camisas\\\\\n\t81 & 2023-01-09 & 1001 & Camisa Social Azul   & 15 & 38 & Camisas\\\\\n\t134 & 2023-01-14 & 1004 & Camisa Social Branca & 15 & 91 & Camisas\\\\\n\t141 & 2023-01-15 & 1001 & Camisa Social Azul   & 15 & 96 & Camisas\\\\\n\t191 & 2023-01-20 & 1001 & Camisa Social Azul   & 15 & 54 & Camisas\\\\\n\t261 & 2023-01-27 & 1001 & Camisa Social Azul   & 15 & 96 & Camisas\\\\\n\t11 & 2023-01-02 & 1001 & Camisa Social Azul   & 14 & 86 & Camisas\\\\\n\t61 & 2023-01-07 & 1001 & Camisa Social Azul   & 14 & 19 & Camisas\\\\\n\t161 & 2023-01-17 & 1001 & Camisa Social Azul   & 14 & 96 & Camisas\\\\\n\t194 & 2023-01-20 & 1004 & Camisa Social Branca & 14 & 18 & Camisas\\\\\n\t211 & 2023-01-22 & 1001 & Camisa Social Azul   & 14 & 59 & Camisas\\\\\n\t264 & 2023-01-27 & 1004 & Camisa Social Branca & 14 & 27 & Camisas\\\\\n\t94 & 2023-01-10 & 1004 & Camisa Social Branca & 13 & 89 & Camisas\\\\\n\t101 & 2023-01-11 & 1001 & Camisa Social Azul   & 13 & 19 & Camisas\\\\\n\t221 & 2023-01-23 & 1001 & Camisa Social Azul   & 13 & 57 & Camisas\\\\\n\t254 & 2023-01-26 & 1004 & Camisa Social Branca & 13 & 53 & Camisas\\\\\n\t294 & 2023-01-30 & 1004 & Camisa Social Branca & 13 & 97 & Camisas\\\\\n\t24 & 2023-01-03 & 1004 & Camisa Social Branca & 12 & 44 & Camisas\\\\\n\t⋮ & ⋮ & ⋮ & ⋮ & ⋮ & ⋮ & ⋮\\\\\n\t274 & 2023-01-28 & 1004 & Camisa Social Branca & 12 & 73 & Camisas\\\\\n\t31 & 2023-01-04 & 1001 & Camisa Social Azul   & 11 & 21 & Camisas\\\\\n\t144 & 2023-01-15 & 1004 & Camisa Social Branca & 11 & 94 & Camisas\\\\\n\t184 & 2023-01-19 & 1004 & Camisa Social Branca & 11 & 86 & Camisas\\\\\n\t231 & 2023-01-24 & 1001 & Camisa Social Azul   & 11 & 54 & Camisas\\\\\n\t51 & 2023-01-06 & 1001 & Camisa Social Azul   & 10 & 26 & Camisas\\\\\n\t74 & 2023-01-08 & 1004 & Camisa Social Branca & 10 & 52 & Camisas\\\\\n\t91 & 2023-01-10 & 1001 & Camisa Social Azul   & 10 & 95 & Camisas\\\\\n\t204 & 2023-01-21 & 1004 & Camisa Social Branca & 10 & 69 & Camisas\\\\\n\t34 & 2023-01-04 & 1004 & Camisa Social Branca &  9 & 27 & Camisas\\\\\n\t304 & 2023-01-31 & 1004 & Camisa Social Branca &  9 & 80 & Camisas\\\\\n\t164 & 2023-01-17 & 1004 & Camisa Social Branca &  8 & 15 & Camisas\\\\\n\t281 & 2023-01-29 & 1001 & Camisa Social Azul   &  8 & 15 & Camisas\\\\\n\t291 & 2023-01-30 & 1001 & Camisa Social Azul   &  8 & 74 & Camisas\\\\\n\t1 & 2023-01-01 & 1001 & Camisa Social Azul   &  7 & 35 & Camisas\\\\\n\t121 & 2023-01-13 & 1001 & Camisa Social Azul   &  7 & 18 & Camisas\\\\\n\t154 & 2023-01-16 & 1004 & Camisa Social Branca &  7 & 68 & Camisas\\\\\n\t224 & 2023-01-23 & 1004 & Camisa Social Branca &  7 & 91 & Camisas\\\\\n\t104 & 2023-01-11 & 1004 & Camisa Social Branca &  6 & 46 & Camisas\\\\\n\t284 & 2023-01-29 & 1004 & Camisa Social Branca &  6 & 49 & Camisas\\\\\n\t244 & 2023-01-25 & 1004 & Camisa Social Branca &  5 & 55 & Camisas\\\\\n\t251 & 2023-01-26 & 1001 & Camisa Social Azul   &  5 & 22 & Camisas\\\\\n\t14 & 2023-01-02 & 1004 & Camisa Social Branca &  4 & 36 & Camisas\\\\\n\t181 & 2023-01-19 & 1001 & Camisa Social Azul   &  4 & 63 & Camisas\\\\\n\t21 & 2023-01-03 & 1001 & Camisa Social Azul   &  2 & 37 & Camisas\\\\\n\t111 & 2023-01-12 & 1001 & Camisa Social Azul   &  2 & 12 & Camisas\\\\\n\t124 & 2023-01-13 & 1004 & Camisa Social Branca &  2 & 42 & Camisas\\\\\n\t241 & 2023-01-25 & 1001 & Camisa Social Azul   &  2 & 59 & Camisas\\\\\n\t271 & 2023-01-28 & 1001 & Camisa Social Azul   &  2 & 68 & Camisas\\\\\n\t151 & 2023-01-16 & 1001 & Camisa Social Azul   &  1 & 51 & Camisas\\\\\n\\end{tabular}\n",
            "text/plain": [
              "    Data       ID_Produto Nome_Produto         Quantidade_Vendida\n",
              "171 2023-01-18 1001       Camisa Social Azul   19                \n",
              "201 2023-01-21 1001       Camisa Social Azul   18                \n",
              "301 2023-01-31 1001       Camisa Social Azul   18                \n",
              "44  2023-01-05 1004       Camisa Social Branca 17                \n",
              "131 2023-01-14 1001       Camisa Social Azul   17                \n",
              "214 2023-01-22 1004       Camisa Social Branca 17                \n",
              "41  2023-01-05 1001       Camisa Social Azul   16                \n",
              "54  2023-01-06 1004       Camisa Social Branca 16                \n",
              "64  2023-01-07 1004       Camisa Social Branca 16                \n",
              "71  2023-01-08 1001       Camisa Social Azul   16                \n",
              "84  2023-01-09 1004       Camisa Social Branca 16                \n",
              "234 2023-01-24 1004       Camisa Social Branca 16                \n",
              "4   2023-01-01 1004       Camisa Social Branca 15                \n",
              "81  2023-01-09 1001       Camisa Social Azul   15                \n",
              "134 2023-01-14 1004       Camisa Social Branca 15                \n",
              "141 2023-01-15 1001       Camisa Social Azul   15                \n",
              "191 2023-01-20 1001       Camisa Social Azul   15                \n",
              "261 2023-01-27 1001       Camisa Social Azul   15                \n",
              "11  2023-01-02 1001       Camisa Social Azul   14                \n",
              "61  2023-01-07 1001       Camisa Social Azul   14                \n",
              "161 2023-01-17 1001       Camisa Social Azul   14                \n",
              "194 2023-01-20 1004       Camisa Social Branca 14                \n",
              "211 2023-01-22 1001       Camisa Social Azul   14                \n",
              "264 2023-01-27 1004       Camisa Social Branca 14                \n",
              "94  2023-01-10 1004       Camisa Social Branca 13                \n",
              "101 2023-01-11 1001       Camisa Social Azul   13                \n",
              "221 2023-01-23 1001       Camisa Social Azul   13                \n",
              "254 2023-01-26 1004       Camisa Social Branca 13                \n",
              "294 2023-01-30 1004       Camisa Social Branca 13                \n",
              "24  2023-01-03 1004       Camisa Social Branca 12                \n",
              "⋮   ⋮          ⋮          ⋮                    ⋮                 \n",
              "274 2023-01-28 1004       Camisa Social Branca 12                \n",
              "31  2023-01-04 1001       Camisa Social Azul   11                \n",
              "144 2023-01-15 1004       Camisa Social Branca 11                \n",
              "184 2023-01-19 1004       Camisa Social Branca 11                \n",
              "231 2023-01-24 1001       Camisa Social Azul   11                \n",
              "51  2023-01-06 1001       Camisa Social Azul   10                \n",
              "74  2023-01-08 1004       Camisa Social Branca 10                \n",
              "91  2023-01-10 1001       Camisa Social Azul   10                \n",
              "204 2023-01-21 1004       Camisa Social Branca 10                \n",
              "34  2023-01-04 1004       Camisa Social Branca  9                \n",
              "304 2023-01-31 1004       Camisa Social Branca  9                \n",
              "164 2023-01-17 1004       Camisa Social Branca  8                \n",
              "281 2023-01-29 1001       Camisa Social Azul    8                \n",
              "291 2023-01-30 1001       Camisa Social Azul    8                \n",
              "1   2023-01-01 1001       Camisa Social Azul    7                \n",
              "121 2023-01-13 1001       Camisa Social Azul    7                \n",
              "154 2023-01-16 1004       Camisa Social Branca  7                \n",
              "224 2023-01-23 1004       Camisa Social Branca  7                \n",
              "104 2023-01-11 1004       Camisa Social Branca  6                \n",
              "284 2023-01-29 1004       Camisa Social Branca  6                \n",
              "244 2023-01-25 1004       Camisa Social Branca  5                \n",
              "251 2023-01-26 1001       Camisa Social Azul    5                \n",
              "14  2023-01-02 1004       Camisa Social Branca  4                \n",
              "181 2023-01-19 1001       Camisa Social Azul    4                \n",
              "21  2023-01-03 1001       Camisa Social Azul    2                \n",
              "111 2023-01-12 1001       Camisa Social Azul    2                \n",
              "124 2023-01-13 1004       Camisa Social Branca  2                \n",
              "241 2023-01-25 1001       Camisa Social Azul    2                \n",
              "271 2023-01-28 1001       Camisa Social Azul    2                \n",
              "151 2023-01-16 1001       Camisa Social Azul    1                \n",
              "    Estoque_Disponível Categoria\n",
              "171 89                 Camisas  \n",
              "201 56                 Camisas  \n",
              "301 72                 Camisas  \n",
              "44  84                 Camisas  \n",
              "131 57                 Camisas  \n",
              "214 79                 Camisas  \n",
              "41  52                 Camisas  \n",
              "54  65                 Camisas  \n",
              "64  92                 Camisas  \n",
              "71  52                 Camisas  \n",
              "84  72                 Camisas  \n",
              "234 38                 Camisas  \n",
              "4   24                 Camisas  \n",
              "81  38                 Camisas  \n",
              "134 91                 Camisas  \n",
              "141 96                 Camisas  \n",
              "191 54                 Camisas  \n",
              "261 96                 Camisas  \n",
              "11  86                 Camisas  \n",
              "61  19                 Camisas  \n",
              "161 96                 Camisas  \n",
              "194 18                 Camisas  \n",
              "211 59                 Camisas  \n",
              "264 27                 Camisas  \n",
              "94  89                 Camisas  \n",
              "101 19                 Camisas  \n",
              "221 57                 Camisas  \n",
              "254 53                 Camisas  \n",
              "294 97                 Camisas  \n",
              "24  44                 Camisas  \n",
              "⋮   ⋮                  ⋮        \n",
              "274 73                 Camisas  \n",
              "31  21                 Camisas  \n",
              "144 94                 Camisas  \n",
              "184 86                 Camisas  \n",
              "231 54                 Camisas  \n",
              "51  26                 Camisas  \n",
              "74  52                 Camisas  \n",
              "91  95                 Camisas  \n",
              "204 69                 Camisas  \n",
              "34  27                 Camisas  \n",
              "304 80                 Camisas  \n",
              "164 15                 Camisas  \n",
              "281 15                 Camisas  \n",
              "291 74                 Camisas  \n",
              "1   35                 Camisas  \n",
              "121 18                 Camisas  \n",
              "154 68                 Camisas  \n",
              "224 91                 Camisas  \n",
              "104 46                 Camisas  \n",
              "284 49                 Camisas  \n",
              "244 55                 Camisas  \n",
              "251 22                 Camisas  \n",
              "14  36                 Camisas  \n",
              "181 63                 Camisas  \n",
              "21  37                 Camisas  \n",
              "111 12                 Camisas  \n",
              "124 42                 Camisas  \n",
              "241 59                 Camisas  \n",
              "271 68                 Camisas  \n",
              "151 51                 Camisas  "
            ]
          },
          "metadata": {}
        }
      ]
    },
    {
      "cell_type": "code",
      "source": [
        "# Criando o data frame com os dados de vendas de camisetas em janeiro\n",
        "camisetas_janeiro <- data.frame(\n",
        "  nome_produto = c(\"Camiseta A\", \"Camiseta B\", \"Camiseta C\", \"Camiseta D\", \"Camiseta E\"),\n",
        "  quantidade_vendida = c(100, 150, 120, 130, 110)\n",
        ")\n",
        "\n",
        "camisetas_janeiro"
      ],
      "metadata": {
        "colab": {
          "base_uri": "https://localhost:8080/",
          "height": 255
        },
        "id": "xiUJ7w5WG7Ct",
        "outputId": "e42d0af0-a5b5-46e9-e632-30e253e9546e"
      },
      "execution_count": 106,
      "outputs": [
        {
          "output_type": "display_data",
          "data": {
            "text/html": [
              "<table class=\"dataframe\">\n",
              "<caption>A data.frame: 5 × 2</caption>\n",
              "<thead>\n",
              "\t<tr><th scope=col>nome_produto</th><th scope=col>quantidade_vendida</th></tr>\n",
              "\t<tr><th scope=col>&lt;chr&gt;</th><th scope=col>&lt;dbl&gt;</th></tr>\n",
              "</thead>\n",
              "<tbody>\n",
              "\t<tr><td>Camiseta A</td><td>100</td></tr>\n",
              "\t<tr><td>Camiseta B</td><td>150</td></tr>\n",
              "\t<tr><td>Camiseta C</td><td>120</td></tr>\n",
              "\t<tr><td>Camiseta D</td><td>130</td></tr>\n",
              "\t<tr><td>Camiseta E</td><td>110</td></tr>\n",
              "</tbody>\n",
              "</table>\n"
            ],
            "text/markdown": "\nA data.frame: 5 × 2\n\n| nome_produto &lt;chr&gt; | quantidade_vendida &lt;dbl&gt; |\n|---|---|\n| Camiseta A | 100 |\n| Camiseta B | 150 |\n| Camiseta C | 120 |\n| Camiseta D | 130 |\n| Camiseta E | 110 |\n\n",
            "text/latex": "A data.frame: 5 × 2\n\\begin{tabular}{ll}\n nome\\_produto & quantidade\\_vendida\\\\\n <chr> & <dbl>\\\\\n\\hline\n\t Camiseta A & 100\\\\\n\t Camiseta B & 150\\\\\n\t Camiseta C & 120\\\\\n\t Camiseta D & 130\\\\\n\t Camiseta E & 110\\\\\n\\end{tabular}\n",
            "text/plain": [
              "  nome_produto quantidade_vendida\n",
              "1 Camiseta A   100               \n",
              "2 Camiseta B   150               \n",
              "3 Camiseta C   120               \n",
              "4 Camiseta D   130               \n",
              "5 Camiseta E   110               "
            ]
          },
          "metadata": {}
        }
      ]
    },
    {
      "cell_type": "code",
      "source": [
        "camisetas_janeiro_filtrado <- subset(camisetas_janeiro, quantidade_vendida > 110)\n",
        "camisetas_janeiro_ordenado <- camisetas_janeiro_filtrado[order(camisetas_janeiro_filtrado$quantidade_vendida, decreasing = TRUE), ]"
      ],
      "metadata": {
        "id": "S_viLPjsIC5U"
      },
      "execution_count": 107,
      "outputs": []
    },
    {
      "cell_type": "code",
      "source": [
        "camisetas_janeiro_ordenado"
      ],
      "metadata": {
        "colab": {
          "base_uri": "https://localhost:8080/",
          "height": 192
        },
        "id": "fth6my1ZIGhF",
        "outputId": "fb79552d-c243-434d-f83f-da36fb1e6a49"
      },
      "execution_count": 108,
      "outputs": [
        {
          "output_type": "display_data",
          "data": {
            "text/html": [
              "<table class=\"dataframe\">\n",
              "<caption>A data.frame: 3 × 2</caption>\n",
              "<thead>\n",
              "\t<tr><th></th><th scope=col>nome_produto</th><th scope=col>quantidade_vendida</th></tr>\n",
              "\t<tr><th></th><th scope=col>&lt;chr&gt;</th><th scope=col>&lt;dbl&gt;</th></tr>\n",
              "</thead>\n",
              "<tbody>\n",
              "\t<tr><th scope=row>2</th><td>Camiseta B</td><td>150</td></tr>\n",
              "\t<tr><th scope=row>4</th><td>Camiseta D</td><td>130</td></tr>\n",
              "\t<tr><th scope=row>3</th><td>Camiseta C</td><td>120</td></tr>\n",
              "</tbody>\n",
              "</table>\n"
            ],
            "text/markdown": "\nA data.frame: 3 × 2\n\n| <!--/--> | nome_produto &lt;chr&gt; | quantidade_vendida &lt;dbl&gt; |\n|---|---|---|\n| 2 | Camiseta B | 150 |\n| 4 | Camiseta D | 130 |\n| 3 | Camiseta C | 120 |\n\n",
            "text/latex": "A data.frame: 3 × 2\n\\begin{tabular}{r|ll}\n  & nome\\_produto & quantidade\\_vendida\\\\\n  & <chr> & <dbl>\\\\\n\\hline\n\t2 & Camiseta B & 150\\\\\n\t4 & Camiseta D & 130\\\\\n\t3 & Camiseta C & 120\\\\\n\\end{tabular}\n",
            "text/plain": [
              "  nome_produto quantidade_vendida\n",
              "2 Camiseta B   150               \n",
              "4 Camiseta D   130               \n",
              "3 Camiseta C   120               "
            ]
          },
          "metadata": {}
        }
      ]
    },
    {
      "cell_type": "code",
      "source": [
        "camisas_estoque_baixo <- subset(sales_data, Categoria == \"Camisas\" & Estoque_Disponível < 30)\n",
        "camisas_estoque_baixo"
      ],
      "metadata": {
        "colab": {
          "base_uri": "https://localhost:8080/",
          "height": 506
        },
        "id": "_cQc0yNWIOkq",
        "outputId": "84deff20-3908-4b26-b6dc-1dcaf4d53d46"
      },
      "execution_count": 109,
      "outputs": [
        {
          "output_type": "display_data",
          "data": {
            "text/html": [
              "<table class=\"dataframe\">\n",
              "<caption>A data.frame: 13 × 6</caption>\n",
              "<thead>\n",
              "\t<tr><th></th><th scope=col>Data</th><th scope=col>ID_Produto</th><th scope=col>Nome_Produto</th><th scope=col>Quantidade_Vendida</th><th scope=col>Estoque_Disponível</th><th scope=col>Categoria</th></tr>\n",
              "\t<tr><th></th><th scope=col>&lt;chr&gt;</th><th scope=col>&lt;dbl&gt;</th><th scope=col>&lt;chr&gt;</th><th scope=col>&lt;dbl&gt;</th><th scope=col>&lt;dbl&gt;</th><th scope=col>&lt;chr&gt;</th></tr>\n",
              "</thead>\n",
              "<tbody>\n",
              "\t<tr><th scope=row>4</th><td>2023-01-01</td><td>1004</td><td>Camisa Social Branca</td><td>15</td><td>24</td><td>Camisas</td></tr>\n",
              "\t<tr><th scope=row>31</th><td>2023-01-04</td><td>1001</td><td>Camisa Social Azul  </td><td>11</td><td>21</td><td>Camisas</td></tr>\n",
              "\t<tr><th scope=row>34</th><td>2023-01-04</td><td>1004</td><td>Camisa Social Branca</td><td> 9</td><td>27</td><td>Camisas</td></tr>\n",
              "\t<tr><th scope=row>51</th><td>2023-01-06</td><td>1001</td><td>Camisa Social Azul  </td><td>10</td><td>26</td><td>Camisas</td></tr>\n",
              "\t<tr><th scope=row>61</th><td>2023-01-07</td><td>1001</td><td>Camisa Social Azul  </td><td>14</td><td>19</td><td>Camisas</td></tr>\n",
              "\t<tr><th scope=row>101</th><td>2023-01-11</td><td>1001</td><td>Camisa Social Azul  </td><td>13</td><td>19</td><td>Camisas</td></tr>\n",
              "\t<tr><th scope=row>111</th><td>2023-01-12</td><td>1001</td><td>Camisa Social Azul  </td><td> 2</td><td>12</td><td>Camisas</td></tr>\n",
              "\t<tr><th scope=row>121</th><td>2023-01-13</td><td>1001</td><td>Camisa Social Azul  </td><td> 7</td><td>18</td><td>Camisas</td></tr>\n",
              "\t<tr><th scope=row>164</th><td>2023-01-17</td><td>1004</td><td>Camisa Social Branca</td><td> 8</td><td>15</td><td>Camisas</td></tr>\n",
              "\t<tr><th scope=row>194</th><td>2023-01-20</td><td>1004</td><td>Camisa Social Branca</td><td>14</td><td>18</td><td>Camisas</td></tr>\n",
              "\t<tr><th scope=row>251</th><td>2023-01-26</td><td>1001</td><td>Camisa Social Azul  </td><td> 5</td><td>22</td><td>Camisas</td></tr>\n",
              "\t<tr><th scope=row>264</th><td>2023-01-27</td><td>1004</td><td>Camisa Social Branca</td><td>14</td><td>27</td><td>Camisas</td></tr>\n",
              "\t<tr><th scope=row>281</th><td>2023-01-29</td><td>1001</td><td>Camisa Social Azul  </td><td> 8</td><td>15</td><td>Camisas</td></tr>\n",
              "</tbody>\n",
              "</table>\n"
            ],
            "text/markdown": "\nA data.frame: 13 × 6\n\n| <!--/--> | Data &lt;chr&gt; | ID_Produto &lt;dbl&gt; | Nome_Produto &lt;chr&gt; | Quantidade_Vendida &lt;dbl&gt; | Estoque_Disponível &lt;dbl&gt; | Categoria &lt;chr&gt; |\n|---|---|---|---|---|---|---|\n| 4 | 2023-01-01 | 1004 | Camisa Social Branca | 15 | 24 | Camisas |\n| 31 | 2023-01-04 | 1001 | Camisa Social Azul   | 11 | 21 | Camisas |\n| 34 | 2023-01-04 | 1004 | Camisa Social Branca |  9 | 27 | Camisas |\n| 51 | 2023-01-06 | 1001 | Camisa Social Azul   | 10 | 26 | Camisas |\n| 61 | 2023-01-07 | 1001 | Camisa Social Azul   | 14 | 19 | Camisas |\n| 101 | 2023-01-11 | 1001 | Camisa Social Azul   | 13 | 19 | Camisas |\n| 111 | 2023-01-12 | 1001 | Camisa Social Azul   |  2 | 12 | Camisas |\n| 121 | 2023-01-13 | 1001 | Camisa Social Azul   |  7 | 18 | Camisas |\n| 164 | 2023-01-17 | 1004 | Camisa Social Branca |  8 | 15 | Camisas |\n| 194 | 2023-01-20 | 1004 | Camisa Social Branca | 14 | 18 | Camisas |\n| 251 | 2023-01-26 | 1001 | Camisa Social Azul   |  5 | 22 | Camisas |\n| 264 | 2023-01-27 | 1004 | Camisa Social Branca | 14 | 27 | Camisas |\n| 281 | 2023-01-29 | 1001 | Camisa Social Azul   |  8 | 15 | Camisas |\n\n",
            "text/latex": "A data.frame: 13 × 6\n\\begin{tabular}{r|llllll}\n  & Data & ID\\_Produto & Nome\\_Produto & Quantidade\\_Vendida & Estoque\\_Disponível & Categoria\\\\\n  & <chr> & <dbl> & <chr> & <dbl> & <dbl> & <chr>\\\\\n\\hline\n\t4 & 2023-01-01 & 1004 & Camisa Social Branca & 15 & 24 & Camisas\\\\\n\t31 & 2023-01-04 & 1001 & Camisa Social Azul   & 11 & 21 & Camisas\\\\\n\t34 & 2023-01-04 & 1004 & Camisa Social Branca &  9 & 27 & Camisas\\\\\n\t51 & 2023-01-06 & 1001 & Camisa Social Azul   & 10 & 26 & Camisas\\\\\n\t61 & 2023-01-07 & 1001 & Camisa Social Azul   & 14 & 19 & Camisas\\\\\n\t101 & 2023-01-11 & 1001 & Camisa Social Azul   & 13 & 19 & Camisas\\\\\n\t111 & 2023-01-12 & 1001 & Camisa Social Azul   &  2 & 12 & Camisas\\\\\n\t121 & 2023-01-13 & 1001 & Camisa Social Azul   &  7 & 18 & Camisas\\\\\n\t164 & 2023-01-17 & 1004 & Camisa Social Branca &  8 & 15 & Camisas\\\\\n\t194 & 2023-01-20 & 1004 & Camisa Social Branca & 14 & 18 & Camisas\\\\\n\t251 & 2023-01-26 & 1001 & Camisa Social Azul   &  5 & 22 & Camisas\\\\\n\t264 & 2023-01-27 & 1004 & Camisa Social Branca & 14 & 27 & Camisas\\\\\n\t281 & 2023-01-29 & 1001 & Camisa Social Azul   &  8 & 15 & Camisas\\\\\n\\end{tabular}\n",
            "text/plain": [
              "    Data       ID_Produto Nome_Produto         Quantidade_Vendida\n",
              "4   2023-01-01 1004       Camisa Social Branca 15                \n",
              "31  2023-01-04 1001       Camisa Social Azul   11                \n",
              "34  2023-01-04 1004       Camisa Social Branca  9                \n",
              "51  2023-01-06 1001       Camisa Social Azul   10                \n",
              "61  2023-01-07 1001       Camisa Social Azul   14                \n",
              "101 2023-01-11 1001       Camisa Social Azul   13                \n",
              "111 2023-01-12 1001       Camisa Social Azul    2                \n",
              "121 2023-01-13 1001       Camisa Social Azul    7                \n",
              "164 2023-01-17 1004       Camisa Social Branca  8                \n",
              "194 2023-01-20 1004       Camisa Social Branca 14                \n",
              "251 2023-01-26 1001       Camisa Social Azul    5                \n",
              "264 2023-01-27 1004       Camisa Social Branca 14                \n",
              "281 2023-01-29 1001       Camisa Social Azul    8                \n",
              "    Estoque_Disponível Categoria\n",
              "4   24                 Camisas  \n",
              "31  21                 Camisas  \n",
              "34  27                 Camisas  \n",
              "51  26                 Camisas  \n",
              "61  19                 Camisas  \n",
              "101 19                 Camisas  \n",
              "111 12                 Camisas  \n",
              "121 18                 Camisas  \n",
              "164 15                 Camisas  \n",
              "194 18                 Camisas  \n",
              "251 22                 Camisas  \n",
              "264 27                 Camisas  \n",
              "281 15                 Camisas  "
            ]
          },
          "metadata": {}
        }
      ]
    },
    {
      "cell_type": "markdown",
      "source": [
        "# Salvando e exibindo os dados"
      ],
      "metadata": {
        "id": "VqzenLo9I6k1"
      }
    },
    {
      "cell_type": "code",
      "source": [
        "categorias <- unique(sales_data$Categoria)\n",
        "categorias"
      ],
      "metadata": {
        "colab": {
          "base_uri": "https://localhost:8080/",
          "height": 34
        },
        "id": "3b4blcjtI9Da",
        "outputId": "fdd72a64-99d1-458a-b9e4-26a382e1859b"
      },
      "execution_count": 110,
      "outputs": [
        {
          "output_type": "display_data",
          "data": {
            "text/html": [
              "<style>\n",
              ".list-inline {list-style: none; margin:0; padding: 0}\n",
              ".list-inline>li {display: inline-block}\n",
              ".list-inline>li:not(:last-child)::after {content: \"\\00b7\"; padding: 0 .5ex}\n",
              "</style>\n",
              "<ol class=list-inline><li>'Camisas'</li><li>'Calças'</li><li>'Jaquetas'</li><li>'Saias'</li><li>'Blusas'</li><li>'Vestidos'</li><li>'Ternos'</li><li>'Camisetas'</li></ol>\n"
            ],
            "text/markdown": "1. 'Camisas'\n2. 'Calças'\n3. 'Jaquetas'\n4. 'Saias'\n5. 'Blusas'\n6. 'Vestidos'\n7. 'Ternos'\n8. 'Camisetas'\n\n\n",
            "text/latex": "\\begin{enumerate*}\n\\item 'Camisas'\n\\item 'Calças'\n\\item 'Jaquetas'\n\\item 'Saias'\n\\item 'Blusas'\n\\item 'Vestidos'\n\\item 'Ternos'\n\\item 'Camisetas'\n\\end{enumerate*}\n",
            "text/plain": [
              "[1] \"Camisas\"   \"Calças\"    \"Jaquetas\"  \"Saias\"     \"Blusas\"    \"Vestidos\" \n",
              "[7] \"Ternos\"    \"Camisetas\""
            ]
          },
          "metadata": {}
        }
      ]
    },
    {
      "cell_type": "code",
      "source": [
        "total_vendido_categoria <- numeric(length(categorias))\n",
        "total_vendido_categoria"
      ],
      "metadata": {
        "colab": {
          "base_uri": "https://localhost:8080/",
          "height": 34
        },
        "id": "HkQdiCQlKHA_",
        "outputId": "a96e0363-0989-48d3-a573-e7880a477c0b"
      },
      "execution_count": 111,
      "outputs": [
        {
          "output_type": "display_data",
          "data": {
            "text/html": [
              "<style>\n",
              ".list-inline {list-style: none; margin:0; padding: 0}\n",
              ".list-inline>li {display: inline-block}\n",
              ".list-inline>li:not(:last-child)::after {content: \"\\00b7\"; padding: 0 .5ex}\n",
              "</style>\n",
              "<ol class=list-inline><li>0</li><li>0</li><li>0</li><li>0</li><li>0</li><li>0</li><li>0</li><li>0</li></ol>\n"
            ],
            "text/markdown": "1. 0\n2. 0\n3. 0\n4. 0\n5. 0\n6. 0\n7. 0\n8. 0\n\n\n",
            "text/latex": "\\begin{enumerate*}\n\\item 0\n\\item 0\n\\item 0\n\\item 0\n\\item 0\n\\item 0\n\\item 0\n\\item 0\n\\end{enumerate*}\n",
            "text/plain": [
              "[1] 0 0 0 0 0 0 0 0"
            ]
          },
          "metadata": {}
        }
      ]
    },
    {
      "cell_type": "code",
      "source": [
        "for(i in seq_along(categorias)){\n",
        "  total_vendido_categoria[i] = sum(sales_data$Quantidade_Vendida[sales_data$Categoria == categorias[i]])\n",
        "}\n",
        "\n",
        "total_vendido_categoria"
      ],
      "metadata": {
        "colab": {
          "base_uri": "https://localhost:8080/",
          "height": 34
        },
        "id": "JKR9womZKTcf",
        "outputId": "695eae36-e3e1-41dc-9bf8-21e5b1057490"
      },
      "execution_count": 112,
      "outputs": [
        {
          "output_type": "display_data",
          "data": {
            "text/html": [
              "<style>\n",
              ".list-inline {list-style: none; margin:0; padding: 0}\n",
              ".list-inline>li {display: inline-block}\n",
              ".list-inline>li:not(:last-child)::after {content: \"\\00b7\"; padding: 0 .5ex}\n",
              "</style>\n",
              "<ol class=list-inline><li>684</li><li>699</li><li>308</li><li>335</li><li>284</li><li>357</li><li>275</li><li>355</li></ol>\n"
            ],
            "text/markdown": "1. 684\n2. 699\n3. 308\n4. 335\n5. 284\n6. 357\n7. 275\n8. 355\n\n\n",
            "text/latex": "\\begin{enumerate*}\n\\item 684\n\\item 699\n\\item 308\n\\item 335\n\\item 284\n\\item 357\n\\item 275\n\\item 355\n\\end{enumerate*}\n",
            "text/plain": [
              "[1] 684 699 308 335 284 357 275 355"
            ]
          },
          "metadata": {}
        }
      ]
    },
    {
      "cell_type": "code",
      "source": [
        "barplot(\n",
        "  total_vendido_categoria,\n",
        "  names.arg = categorias,\n",
        "  main = \"Total vendido por categoria\",\n",
        "  xlab = \"Categorias\",\n",
        "  ylab = \"Total vendido\",\n",
        "  las = 2\n",
        ")"
      ],
      "metadata": {
        "colab": {
          "base_uri": "https://localhost:8080/",
          "height": 437
        },
        "id": "kPDKQbEkLJw6",
        "outputId": "e998c5ed-f586-4f70-dd25-6f8836759adc"
      },
      "execution_count": 113,
      "outputs": [
        {
          "output_type": "display_data",
          "data": {
            "text/plain": [
              "Plot with title “Total vendido por categoria”"
            ],
            "image/png": "[encoded data removed]"
          },
          "metadata": {
            "image/png": {
              "width": 420,
              "height": 420
            }
          }
        }
      ]
    },
    {
      "cell_type": "code",
      "source": [
        "# Criando o data frame com os dados de projetos por cliente\n",
        "dados_projetos <- data.frame(\n",
        "  clientes = c(\"Cliente A\", \"Cliente B\", \"Cliente C\", \"Cliente D\", \"Cliente E\"),\n",
        "  total_projetos_cliente = c(10, 15, 7, 20, 9)\n",
        ")\n",
        "\n",
        "# Exibindo o data frame\n",
        "print(dados_projetos)"
      ],
      "metadata": {
        "colab": {
          "base_uri": "https://localhost:8080/"
        },
        "id": "0GplFvpgL84w",
        "outputId": "323c1bba-c7c6-4ef9-dbb4-5a2c2f8fddf2"
      },
      "execution_count": 114,
      "outputs": [
        {
          "output_type": "stream",
          "name": "stdout",
          "text": [
            "   clientes total_projetos_cliente\n",
            "1 Cliente A                     10\n",
            "2 Cliente B                     15\n",
            "3 Cliente C                      7\n",
            "4 Cliente D                     20\n",
            "5 Cliente E                      9\n"
          ]
        }
      ]
    },
    {
      "cell_type": "code",
      "source": [
        "barplot(\n",
        "  dados_projetos$total_projetos_cliente,\n",
        "  names.arg = dados_projetos$clientes,\n",
        "  main = \"Projetos por Cliente\"\n",
        ")"
      ],
      "metadata": {
        "colab": {
          "base_uri": "https://localhost:8080/",
          "height": 437
        },
        "id": "G70KQmY8Mn0r",
        "outputId": "08f58d2f-4cc1-4091-f314-fb5988d25af7"
      },
      "execution_count": 115,
      "outputs": [
        {
          "output_type": "display_data",
          "data": {
            "text/plain": [
              "Plot with title “Projetos por Cliente”"
            ],
            "image/png": "[encoded data removed]"
          },
          "metadata": {
            "image/png": {
              "width": 420,
              "height": 420
            }
          }
        }
      ]
    },
    {
      "cell_type": "code",
      "source": [
        "write.csv(sales_data, file=\"sales_data.csv\", row.names = FALSE)"
      ],
      "metadata": {
        "id": "OzpYxQlKMoHx"
      },
      "execution_count": 116,
      "outputs": []
    },
    {
      "cell_type": "code",
      "source": [
        "write.table(sales_data, file = \"sales_data.txt\", sep = \"\\t\", col.names = TRUE, row.names = FALSE)"
      ],
      "metadata": {
        "id": "FVgXOxP5NWEb"
      },
      "execution_count": 117,
      "outputs": []
    },
    {
      "cell_type": "markdown",
      "source": [
        "O link para a documentação do R sobre estruturas de dados oferece uma visão geral das diferentes estruturas disponíveis na linguagem, como vetores, listas, data frames, e matrizes. A documentação inclui exemplos práticos, guias para iniciantes, e explicações detalhadas sobre como utilizar e manipular essas estruturas de dados em R. É uma fonte tanto para quem está começando na programação em R quanto para pessoas mais experientes, fornecendo informações para a análise e visualização de dados.\n",
        "\n",
        "https://cran.r-project.org/doc/manuals/r-release/R-intro.html#Lists-and-data-frames"
      ],
      "metadata": {
        "id": "6ZHxk9gjN88i"
      }
    }
  ]
}