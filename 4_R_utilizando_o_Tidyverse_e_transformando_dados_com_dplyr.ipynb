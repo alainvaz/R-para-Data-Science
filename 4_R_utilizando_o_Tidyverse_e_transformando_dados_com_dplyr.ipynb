{
  "nbformat": 4,
  "nbformat_minor": 0,
  "metadata": {
    "colab": {
      "provenance": []
    },
    "kernelspec": {
      "name": "ir",
      "display_name": "R"
    },
    "language_info": {
      "name": "R"
    }
  },
  "cells": [
    {
      "cell_type": "markdown",
      "source": [
        "**Link dos arquivos**\n",
        "\n",
        "https://cdn3.gnarususercontent.com.br/3817-r-tidyverse-2-dplyr/Projeto/Material/Dados/clientes.csv\n",
        "\n",
        "https://cdn3.gnarususercontent.com.br/3817-r-tidyverse-2-dplyr/Projeto/Material/Dados/transacoes_milhas.csv\n",
        "\n",
        "https://cdn3.gnarususercontent.com.br/3817-r-tidyverse-2-dplyr/Projeto/Material/Dados/transacoes_passagens.csv"
      ],
      "metadata": {
        "id": "qIyYdQr_rJtq"
      }
    },
    {
      "cell_type": "markdown",
      "source": [
        "# Conhecendo os dados"
      ],
      "metadata": {
        "id": "d0OwXXJvrPgX"
      }
    },
    {
      "cell_type": "code",
      "source": [
        "library(tidyverse)"
      ],
      "metadata": {
        "id": "mywqvUx4rTrJ",
        "colab": {
          "base_uri": "https://localhost:8080/"
        },
        "outputId": "f716a2b4-54ce-49fc-84c5-c965429ff994"
      },
      "execution_count": 1,
      "outputs": [
        {
          "output_type": "stream",
          "name": "stderr",
          "text": [
            "── \u001b[1mAttaching core tidyverse packages\u001b[22m ──────────────────────── tidyverse 2.0.0 ──\n",
            "\u001b[32m✔\u001b[39m \u001b[34mdplyr    \u001b[39m 1.1.4     \u001b[32m✔\u001b[39m \u001b[34mreadr    \u001b[39m 2.1.5\n",
            "\u001b[32m✔\u001b[39m \u001b[34mforcats  \u001b[39m 1.0.0     \u001b[32m✔\u001b[39m \u001b[34mstringr  \u001b[39m 1.5.1\n",
            "\u001b[32m✔\u001b[39m \u001b[34mggplot2  \u001b[39m 3.5.1     \u001b[32m✔\u001b[39m \u001b[34mtibble   \u001b[39m 3.2.1\n",
            "\u001b[32m✔\u001b[39m \u001b[34mlubridate\u001b[39m 1.9.4     \u001b[32m✔\u001b[39m \u001b[34mtidyr    \u001b[39m 1.3.1\n",
            "\u001b[32m✔\u001b[39m \u001b[34mpurrr    \u001b[39m 1.0.2     \n",
            "── \u001b[1mConflicts\u001b[22m ────────────────────────────────────────── tidyverse_conflicts() ──\n",
            "\u001b[31m✖\u001b[39m \u001b[34mdplyr\u001b[39m::\u001b[32mfilter()\u001b[39m masks \u001b[34mstats\u001b[39m::filter()\n",
            "\u001b[31m✖\u001b[39m \u001b[34mdplyr\u001b[39m::\u001b[32mlag()\u001b[39m    masks \u001b[34mstats\u001b[39m::lag()\n",
            "\u001b[36mℹ\u001b[39m Use the conflicted package (\u001b[3m\u001b[34m<http://conflicted.r-lib.org/>\u001b[39m\u001b[23m) to force all conflicts to become errors\n"
          ]
        }
      ]
    },
    {
      "cell_type": "code",
      "source": [
        "transacoes_milhas <- read_csv(\"/content/transacoes_milhas.csv\")"
      ],
      "metadata": {
        "colab": {
          "base_uri": "https://localhost:8080/"
        },
        "id": "tyebVE1QCyWt",
        "outputId": "f996a363-e832-4a92-85dc-980a19789fde"
      },
      "execution_count": 2,
      "outputs": [
        {
          "output_type": "stream",
          "name": "stderr",
          "text": [
            "\u001b[1mRows: \u001b[22m\u001b[34m1000\u001b[39m \u001b[1mColumns: \u001b[22m\u001b[34m4\u001b[39m\n",
            "\u001b[36m──\u001b[39m \u001b[1mColumn specification\u001b[22m \u001b[36m────────────────────────────────────────────────────────\u001b[39m\n",
            "\u001b[1mDelimiter:\u001b[22m \",\"\n",
            "\u001b[32mdbl\u001b[39m  (3): id_cliente, milhas_vendidas, valor_recebido\n",
            "\u001b[34mdate\u001b[39m (1): data_venda_milhas\n",
            "\n",
            "\u001b[36mℹ\u001b[39m Use `spec()` to retrieve the full column specification for this data.\n",
            "\u001b[36mℹ\u001b[39m Specify the column types or set `show_col_types = FALSE` to quiet this message.\n"
          ]
        }
      ]
    },
    {
      "cell_type": "code",
      "source": [
        "head(transacoes_milhas)"
      ],
      "metadata": {
        "colab": {
          "base_uri": "https://localhost:8080/",
          "height": 286
        },
        "id": "31TvepXIDKAY",
        "outputId": "66a69a57-78cb-457f-9ff2-38657865eadf"
      },
      "execution_count": 3,
      "outputs": [
        {
          "output_type": "display_data",
          "data": {
            "text/html": [
              "<table class=\"dataframe\">\n",
              "<caption>A tibble: 6 × 4</caption>\n",
              "<thead>\n",
              "\t<tr><th scope=col>id_cliente</th><th scope=col>data_venda_milhas</th><th scope=col>milhas_vendidas</th><th scope=col>valor_recebido</th></tr>\n",
              "\t<tr><th scope=col>&lt;dbl&gt;</th><th scope=col>&lt;date&gt;</th><th scope=col>&lt;dbl&gt;</th><th scope=col>&lt;dbl&gt;</th></tr>\n",
              "</thead>\n",
              "<tbody>\n",
              "\t<tr><td>350</td><td>2023-02-23</td><td>4131</td><td> 536.88</td></tr>\n",
              "\t<tr><td>109</td><td>2022-09-26</td><td>6525</td><td> 113.70</td></tr>\n",
              "\t<tr><td>376</td><td>2022-06-12</td><td>9955</td><td> 466.73</td></tr>\n",
              "\t<tr><td>443</td><td>2022-12-17</td><td>5913</td><td>1489.56</td></tr>\n",
              "\t<tr><td>647</td><td>2023-10-06</td><td> 284</td><td>1908.38</td></tr>\n",
              "\t<tr><td>818</td><td>2023-05-29</td><td>4225</td><td>1339.10</td></tr>\n",
              "</tbody>\n",
              "</table>\n"
            ],
            "text/markdown": "\nA tibble: 6 × 4\n\n| id_cliente &lt;dbl&gt; | data_venda_milhas &lt;date&gt; | milhas_vendidas &lt;dbl&gt; | valor_recebido &lt;dbl&gt; |\n|---|---|---|---|\n| 350 | 2023-02-23 | 4131 |  536.88 |\n| 109 | 2022-09-26 | 6525 |  113.70 |\n| 376 | 2022-06-12 | 9955 |  466.73 |\n| 443 | 2022-12-17 | 5913 | 1489.56 |\n| 647 | 2023-10-06 |  284 | 1908.38 |\n| 818 | 2023-05-29 | 4225 | 1339.10 |\n\n",
            "text/latex": "A tibble: 6 × 4\n\\begin{tabular}{llll}\n id\\_cliente & data\\_venda\\_milhas & milhas\\_vendidas & valor\\_recebido\\\\\n <dbl> & <date> & <dbl> & <dbl>\\\\\n\\hline\n\t 350 & 2023-02-23 & 4131 &  536.88\\\\\n\t 109 & 2022-09-26 & 6525 &  113.70\\\\\n\t 376 & 2022-06-12 & 9955 &  466.73\\\\\n\t 443 & 2022-12-17 & 5913 & 1489.56\\\\\n\t 647 & 2023-10-06 &  284 & 1908.38\\\\\n\t 818 & 2023-05-29 & 4225 & 1339.10\\\\\n\\end{tabular}\n",
            "text/plain": [
              "  id_cliente data_venda_milhas milhas_vendidas valor_recebido\n",
              "1 350        2023-02-23        4131             536.88       \n",
              "2 109        2022-09-26        6525             113.70       \n",
              "3 376        2022-06-12        9955             466.73       \n",
              "4 443        2022-12-17        5913            1489.56       \n",
              "5 647        2023-10-06         284            1908.38       \n",
              "6 818        2023-05-29        4225            1339.10       "
            ]
          },
          "metadata": {}
        }
      ]
    },
    {
      "cell_type": "code",
      "source": [
        "transacoes_passagens <- read_csv(\"/content/transacoes_passagens.csv\")"
      ],
      "metadata": {
        "colab": {
          "base_uri": "https://localhost:8080/"
        },
        "id": "zJEOoRUUDNTd",
        "outputId": "a38c8b56-a8d5-4bc0-bc4b-0508564c5525"
      },
      "execution_count": 4,
      "outputs": [
        {
          "output_type": "stream",
          "name": "stderr",
          "text": [
            "\u001b[1mRows: \u001b[22m\u001b[34m1000\u001b[39m \u001b[1mColumns: \u001b[22m\u001b[34m6\u001b[39m\n",
            "\u001b[36m──\u001b[39m \u001b[1mColumn specification\u001b[22m \u001b[36m────────────────────────────────────────────────────────\u001b[39m\n",
            "\u001b[1mDelimiter:\u001b[22m \",\"\n",
            "\u001b[31mchr\u001b[39m  (1): classe_voo\n",
            "\u001b[32mdbl\u001b[39m  (4): id_cliente, milhas_utilizadas, valor_pago, numero_voo\n",
            "\u001b[34mdate\u001b[39m (1): data_transacao\n",
            "\n",
            "\u001b[36mℹ\u001b[39m Use `spec()` to retrieve the full column specification for this data.\n",
            "\u001b[36mℹ\u001b[39m Specify the column types or set `show_col_types = FALSE` to quiet this message.\n"
          ]
        }
      ]
    },
    {
      "cell_type": "code",
      "source": [
        "head(transacoes_passagens)"
      ],
      "metadata": {
        "colab": {
          "base_uri": "https://localhost:8080/",
          "height": 286
        },
        "id": "T8tw8nqmDY65",
        "outputId": "bdc7a22c-2e8e-4370-b38c-dfc625f2cc8c"
      },
      "execution_count": 5,
      "outputs": [
        {
          "output_type": "display_data",
          "data": {
            "text/html": [
              "<table class=\"dataframe\">\n",
              "<caption>A tibble: 6 × 6</caption>\n",
              "<thead>\n",
              "\t<tr><th scope=col>id_cliente</th><th scope=col>data_transacao</th><th scope=col>milhas_utilizadas</th><th scope=col>valor_pago</th><th scope=col>classe_voo</th><th scope=col>numero_voo</th></tr>\n",
              "\t<tr><th scope=col>&lt;dbl&gt;</th><th scope=col>&lt;date&gt;</th><th scope=col>&lt;dbl&gt;</th><th scope=col>&lt;dbl&gt;</th><th scope=col>&lt;chr&gt;</th><th scope=col>&lt;dbl&gt;</th></tr>\n",
              "</thead>\n",
              "<tbody>\n",
              "\t<tr><td>507</td><td>2023-01-30</td><td>9837</td><td> 424.31</td><td>Economica      </td><td>3705</td></tr>\n",
              "\t<tr><td> 86</td><td>2023-03-07</td><td>6067</td><td> 513.52</td><td>Economica      </td><td>9504</td></tr>\n",
              "\t<tr><td>589</td><td>2022-02-11</td><td>2893</td><td>1320.34</td><td>Primeira Classe</td><td>1695</td></tr>\n",
              "\t<tr><td>774</td><td>2022-09-23</td><td>2274</td><td>1000.44</td><td>Economica      </td><td>2963</td></tr>\n",
              "\t<tr><td>705</td><td>2023-06-08</td><td>6043</td><td>1607.35</td><td>Economica      </td><td>9190</td></tr>\n",
              "\t<tr><td>316</td><td>2023-05-13</td><td>1798</td><td>1802.67</td><td>Executiva      </td><td>6242</td></tr>\n",
              "</tbody>\n",
              "</table>\n"
            ],
            "text/markdown": "\nA tibble: 6 × 6\n\n| id_cliente &lt;dbl&gt; | data_transacao &lt;date&gt; | milhas_utilizadas &lt;dbl&gt; | valor_pago &lt;dbl&gt; | classe_voo &lt;chr&gt; | numero_voo &lt;dbl&gt; |\n|---|---|---|---|---|---|\n| 507 | 2023-01-30 | 9837 |  424.31 | Economica       | 3705 |\n|  86 | 2023-03-07 | 6067 |  513.52 | Economica       | 9504 |\n| 589 | 2022-02-11 | 2893 | 1320.34 | Primeira Classe | 1695 |\n| 774 | 2022-09-23 | 2274 | 1000.44 | Economica       | 2963 |\n| 705 | 2023-06-08 | 6043 | 1607.35 | Economica       | 9190 |\n| 316 | 2023-05-13 | 1798 | 1802.67 | Executiva       | 6242 |\n\n",
            "text/latex": "A tibble: 6 × 6\n\\begin{tabular}{llllll}\n id\\_cliente & data\\_transacao & milhas\\_utilizadas & valor\\_pago & classe\\_voo & numero\\_voo\\\\\n <dbl> & <date> & <dbl> & <dbl> & <chr> & <dbl>\\\\\n\\hline\n\t 507 & 2023-01-30 & 9837 &  424.31 & Economica       & 3705\\\\\n\t  86 & 2023-03-07 & 6067 &  513.52 & Economica       & 9504\\\\\n\t 589 & 2022-02-11 & 2893 & 1320.34 & Primeira Classe & 1695\\\\\n\t 774 & 2022-09-23 & 2274 & 1000.44 & Economica       & 2963\\\\\n\t 705 & 2023-06-08 & 6043 & 1607.35 & Economica       & 9190\\\\\n\t 316 & 2023-05-13 & 1798 & 1802.67 & Executiva       & 6242\\\\\n\\end{tabular}\n",
            "text/plain": [
              "  id_cliente data_transacao milhas_utilizadas valor_pago classe_voo     \n",
              "1 507        2023-01-30     9837               424.31    Economica      \n",
              "2  86        2023-03-07     6067               513.52    Economica      \n",
              "3 589        2022-02-11     2893              1320.34    Primeira Classe\n",
              "4 774        2022-09-23     2274              1000.44    Economica      \n",
              "5 705        2023-06-08     6043              1607.35    Economica      \n",
              "6 316        2023-05-13     1798              1802.67    Executiva      \n",
              "  numero_voo\n",
              "1 3705      \n",
              "2 9504      \n",
              "3 1695      \n",
              "4 2963      \n",
              "5 9190      \n",
              "6 6242      "
            ]
          },
          "metadata": {}
        }
      ]
    },
    {
      "cell_type": "code",
      "source": [
        "clientes <- read_csv(\"/content/clientes.csv\")"
      ],
      "metadata": {
        "colab": {
          "base_uri": "https://localhost:8080/"
        },
        "id": "8q24JifrDc7C",
        "outputId": "e686f778-6f8d-4a65-8e29-13a31b280091"
      },
      "execution_count": 6,
      "outputs": [
        {
          "output_type": "stream",
          "name": "stderr",
          "text": [
            "\u001b[1mRows: \u001b[22m\u001b[34m1000\u001b[39m \u001b[1mColumns: \u001b[22m\u001b[34m5\u001b[39m\n",
            "\u001b[36m──\u001b[39m \u001b[1mColumn specification\u001b[22m \u001b[36m────────────────────────────────────────────────────────\u001b[39m\n",
            "\u001b[1mDelimiter:\u001b[22m \",\"\n",
            "\u001b[31mchr\u001b[39m  (1): status_fidelidade\n",
            "\u001b[32mdbl\u001b[39m  (3): id_cliente, milhas_acumuladas, gasto_total\n",
            "\u001b[34mdate\u001b[39m (1): data_nascimento\n",
            "\n",
            "\u001b[36mℹ\u001b[39m Use `spec()` to retrieve the full column specification for this data.\n",
            "\u001b[36mℹ\u001b[39m Specify the column types or set `show_col_types = FALSE` to quiet this message.\n"
          ]
        }
      ]
    },
    {
      "cell_type": "code",
      "source": [
        "head(clientes)"
      ],
      "metadata": {
        "colab": {
          "base_uri": "https://localhost:8080/",
          "height": 286
        },
        "id": "WxFSD4X6Dq4w",
        "outputId": "eba55581-1af0-4a2a-998b-4e22f4846e32"
      },
      "execution_count": 7,
      "outputs": [
        {
          "output_type": "display_data",
          "data": {
            "text/html": [
              "<table class=\"dataframe\">\n",
              "<caption>A tibble: 6 × 5</caption>\n",
              "<thead>\n",
              "\t<tr><th scope=col>id_cliente</th><th scope=col>data_nascimento</th><th scope=col>status_fidelidade</th><th scope=col>milhas_acumuladas</th><th scope=col>gasto_total</th></tr>\n",
              "\t<tr><th scope=col>&lt;dbl&gt;</th><th scope=col>&lt;date&gt;</th><th scope=col>&lt;chr&gt;</th><th scope=col>&lt;dbl&gt;</th><th scope=col>&lt;dbl&gt;</th></tr>\n",
              "</thead>\n",
              "<tbody>\n",
              "\t<tr><td>1</td><td>1971-01-09</td><td>Diamante</td><td>2833</td><td>1906.69</td></tr>\n",
              "\t<tr><td>2</td><td>1996-08-11</td><td>Diamante</td><td>8864</td><td> 493.58</td></tr>\n",
              "\t<tr><td>3</td><td>1994-07-18</td><td>Diamante</td><td> 917</td><td> 519.16</td></tr>\n",
              "\t<tr><td>4</td><td>2003-03-08</td><td>Prata   </td><td>8773</td><td>1256.60</td></tr>\n",
              "\t<tr><td>5</td><td>1962-06-05</td><td>Diamante</td><td>1492</td><td> 410.37</td></tr>\n",
              "\t<tr><td>6</td><td>1988-02-08</td><td>Prata   </td><td>6270</td><td> 250.93</td></tr>\n",
              "</tbody>\n",
              "</table>\n"
            ],
            "text/markdown": "\nA tibble: 6 × 5\n\n| id_cliente &lt;dbl&gt; | data_nascimento &lt;date&gt; | status_fidelidade &lt;chr&gt; | milhas_acumuladas &lt;dbl&gt; | gasto_total &lt;dbl&gt; |\n|---|---|---|---|---|\n| 1 | 1971-01-09 | Diamante | 2833 | 1906.69 |\n| 2 | 1996-08-11 | Diamante | 8864 |  493.58 |\n| 3 | 1994-07-18 | Diamante |  917 |  519.16 |\n| 4 | 2003-03-08 | Prata    | 8773 | 1256.60 |\n| 5 | 1962-06-05 | Diamante | 1492 |  410.37 |\n| 6 | 1988-02-08 | Prata    | 6270 |  250.93 |\n\n",
            "text/latex": "A tibble: 6 × 5\n\\begin{tabular}{lllll}\n id\\_cliente & data\\_nascimento & status\\_fidelidade & milhas\\_acumuladas & gasto\\_total\\\\\n <dbl> & <date> & <chr> & <dbl> & <dbl>\\\\\n\\hline\n\t 1 & 1971-01-09 & Diamante & 2833 & 1906.69\\\\\n\t 2 & 1996-08-11 & Diamante & 8864 &  493.58\\\\\n\t 3 & 1994-07-18 & Diamante &  917 &  519.16\\\\\n\t 4 & 2003-03-08 & Prata    & 8773 & 1256.60\\\\\n\t 5 & 1962-06-05 & Diamante & 1492 &  410.37\\\\\n\t 6 & 1988-02-08 & Prata    & 6270 &  250.93\\\\\n\\end{tabular}\n",
            "text/plain": [
              "  id_cliente data_nascimento status_fidelidade milhas_acumuladas gasto_total\n",
              "1 1          1971-01-09      Diamante          2833              1906.69    \n",
              "2 2          1996-08-11      Diamante          8864               493.58    \n",
              "3 3          1994-07-18      Diamante           917               519.16    \n",
              "4 4          2003-03-08      Prata             8773              1256.60    \n",
              "5 5          1962-06-05      Diamante          1492               410.37    \n",
              "6 6          1988-02-08      Prata             6270               250.93    "
            ]
          },
          "metadata": {}
        }
      ]
    },
    {
      "cell_type": "code",
      "source": [
        "transacoes_milhas %>% glimpse()"
      ],
      "metadata": {
        "colab": {
          "base_uri": "https://localhost:8080/"
        },
        "id": "He9SwTuADsTM",
        "outputId": "2847c2c8-1f0d-42fb-affc-5d31341f1316"
      },
      "execution_count": 8,
      "outputs": [
        {
          "output_type": "stream",
          "name": "stdout",
          "text": [
            "Rows: 1,000\n",
            "Columns: 4\n",
            "$ id_cliente        \u001b[3m\u001b[90m<dbl>\u001b[39m\u001b[23m 350, 109, 376, 443, 647, 818, 32, 770, 707, 842, 170…\n",
            "$ data_venda_milhas \u001b[3m\u001b[90m<date>\u001b[39m\u001b[23m 2023-02-23, 2022-09-26, 2022-06-12, 2022-12-17, 202…\n",
            "$ milhas_vendidas   \u001b[3m\u001b[90m<dbl>\u001b[39m\u001b[23m 4131, 6525, 9955, 5913, 284, 4225, 2854, 6127, 5091,…\n",
            "$ valor_recebido    \u001b[3m\u001b[90m<dbl>\u001b[39m\u001b[23m 536.88, 113.70, 466.73, 1489.56, 1908.38, 1339.10, 1…\n"
          ]
        }
      ]
    },
    {
      "cell_type": "code",
      "source": [
        "clientes %>% glimpse()"
      ],
      "metadata": {
        "colab": {
          "base_uri": "https://localhost:8080/"
        },
        "id": "Xtl2ura8EDTH",
        "outputId": "b82b7c7f-73b7-404a-8d51-b0d1502aa590"
      },
      "execution_count": 9,
      "outputs": [
        {
          "output_type": "stream",
          "name": "stdout",
          "text": [
            "Rows: 1,000\n",
            "Columns: 5\n",
            "$ id_cliente        \u001b[3m\u001b[90m<dbl>\u001b[39m\u001b[23m 1, 2, 3, 4, 5, 6, 7, 8, 9, 10, 11, 12, 13, 14, 15, 1…\n",
            "$ data_nascimento   \u001b[3m\u001b[90m<date>\u001b[39m\u001b[23m 1971-01-09, 1996-08-11, 1994-07-18, 2003-03-08, 196…\n",
            "$ status_fidelidade \u001b[3m\u001b[90m<chr>\u001b[39m\u001b[23m \"Diamante\", \"Diamante\", \"Diamante\", \"Prata\", \"Diaman…\n",
            "$ milhas_acumuladas \u001b[3m\u001b[90m<dbl>\u001b[39m\u001b[23m 2833, 8864, 917, 8773, 1492, 6270, 2583, 8263, 8914,…\n",
            "$ gasto_total       \u001b[3m\u001b[90m<dbl>\u001b[39m\u001b[23m 1906.69, 493.58, 519.16, 1256.60, 410.37, 250.93, 92…\n"
          ]
        }
      ]
    },
    {
      "cell_type": "markdown",
      "source": [
        "**Para saber mais: Glimpse vs. Head**\n",
        "\n",
        "No R, ao analisar um conjunto de dados, é fundamental ter uma visão rápida e geral das informações que ele contém. Para isso, utilizamos as funções glimpse() e head().\n",
        "\n",
        "\n",
        "**Função head()**\n",
        "A função head() faz parte do conjunto básico de funções do R e permite visualizar as primeiras linhas de um data frame. Por padrão, ela retorna as primeiras seis linhas do conjunto de dados. No entanto, é possível personalizar esse número especificando a quantidade desejada como um argumento da função. Por exemplo, head(data, 10) para exibir as primeiras 10 linhas. Essa função é útil para verificar rapidamente como os dados foram carregados, identificar possíveis problemas ou inconsistências, e ter uma ideia das variáveis disponíveis.\n",
        "\n",
        "\n",
        "**Função glimpse()**\n",
        "Já a função glimpse(), que faz parte do pacote dplyr do Tidyverse, oferece uma visão mais detalhada e estruturada do conjunto de dados. Ao utilizar glimpse(data), ela apresenta um resumo das variáveis, mostrando a estrutura de cada coluna (nome, tipo de dado, e uma amostra dos valores contidos). Além disso, glimpse() exibe o número total de linhas e colunas do data frame de forma compacta e amigável, tornando-se muito útil quando você precisa de uma visão geral do seu conjunto de dados sem ter que rolar por uma lista extensa de variáveis, como ocorre com a função str().\n",
        "\n",
        "\n",
        "**Diferenças e Vantagens**\n",
        "head(): Fornece apenas as primeiras linhas, útil para ver rapidamente alguns registros e verificar se a importação dos dados foi bem-sucedida.\n",
        "\n",
        "glimpse(): Dá uma visão mais abrangente, mostrando as variáveis e seus tipos, tornando-a ideal para entender a estrutura e o conteúdo do data frame de forma mais eficiente.\n",
        "Ao utilizar ambas as funções, você ganha uma visão completa e prática do seu conjunto de dados, facilitando o início de sua análise."
      ],
      "metadata": {
        "id": "xq55H-NQZNhL"
      }
    },
    {
      "cell_type": "markdown",
      "source": [
        "**Para saber mais: Data frame vs. Tibble**\n",
        "\n",
        "O data frame é uma estrutura de dados fundamental no R, utilizada para armazenar e manipular conjuntos de dados tabulares. Ele é muito semelhante a uma planilha do Excel, onde os dados são organizados em linhas e colunas. Cada coluna em um data frame representa uma variável e cada linha corresponde a uma observação ou registro. As colunas podem conter diferentes tipos de dados, como números, textos ou valores lógicos, o que torna o data frame uma ferramenta muito versátil para análises de dados.\n",
        "\n",
        "Para criar um data frame no R, você pode usar a função data.frame(). Por exemplo:"
      ],
      "metadata": {
        "id": "nfYGy1Q7ZwnL"
      }
    },
    {
      "cell_type": "code",
      "source": [
        "dados <- data.frame(\n",
        "  nome = c(\"Ana\", \"Carlos\", \"Beatriz\"),\n",
        "  idade = c(25, 30, 22),\n",
        "  salario = c(3000, 4500, 3200)\n",
        ")\n",
        "\n",
        "dados"
      ],
      "metadata": {
        "colab": {
          "base_uri": "https://localhost:8080/",
          "height": 192
        },
        "id": "8PvQ5k7CZ1fq",
        "outputId": "4d401d1e-17f9-4710-8de4-d68dc7478d35"
      },
      "execution_count": 10,
      "outputs": [
        {
          "output_type": "display_data",
          "data": {
            "text/html": [
              "<table class=\"dataframe\">\n",
              "<caption>A data.frame: 3 × 3</caption>\n",
              "<thead>\n",
              "\t<tr><th scope=col>nome</th><th scope=col>idade</th><th scope=col>salario</th></tr>\n",
              "\t<tr><th scope=col>&lt;chr&gt;</th><th scope=col>&lt;dbl&gt;</th><th scope=col>&lt;dbl&gt;</th></tr>\n",
              "</thead>\n",
              "<tbody>\n",
              "\t<tr><td>Ana    </td><td>25</td><td>3000</td></tr>\n",
              "\t<tr><td>Carlos </td><td>30</td><td>4500</td></tr>\n",
              "\t<tr><td>Beatriz</td><td>22</td><td>3200</td></tr>\n",
              "</tbody>\n",
              "</table>\n"
            ],
            "text/markdown": "\nA data.frame: 3 × 3\n\n| nome &lt;chr&gt; | idade &lt;dbl&gt; | salario &lt;dbl&gt; |\n|---|---|---|\n| Ana     | 25 | 3000 |\n| Carlos  | 30 | 4500 |\n| Beatriz | 22 | 3200 |\n\n",
            "text/latex": "A data.frame: 3 × 3\n\\begin{tabular}{lll}\n nome & idade & salario\\\\\n <chr> & <dbl> & <dbl>\\\\\n\\hline\n\t Ana     & 25 & 3000\\\\\n\t Carlos  & 30 & 4500\\\\\n\t Beatriz & 22 & 3200\\\\\n\\end{tabular}\n",
            "text/plain": [
              "  nome    idade salario\n",
              "1 Ana     25    3000   \n",
              "2 Carlos  30    4500   \n",
              "3 Beatriz 22    3200   "
            ]
          },
          "metadata": {}
        }
      ]
    },
    {
      "cell_type": "markdown",
      "source": [
        "**Tibble**\n",
        "\n",
        "O tibble é uma versão aprimorada do data frame, oferecida pelo pacote tibble, que faz parte do Tidyverse. Ele foi projetado para superar algumas limitações dos data frames tradicionais, proporcionando uma maneira mais moderna e amigável de trabalhar com dados tabulares.\n",
        "\n",
        "Aqui estão algumas vantagens do tibble em relação ao data frame:\n",
        "\n",
        "Visualização mais limpa: Ao exibir um tibble, apenas as primeiras 10 linhas e as colunas que cabem na tela são mostradas, tornando a visualização dos dados mais organizada.\n",
        "\n",
        "Colunas com tipos de dados consistentes: Diferentemente do data frame, o tibble não converte automaticamente os caracteres em fatores, evitando problemas de tipo de dado.\n",
        "\n",
        "Manutenção de nomes de coluna: Tibbles permitem nomes de coluna com espaços e caracteres especiais sem problemas, ao contrário do data frame, que ajusta automaticamente os nomes.\n",
        "Para criar um tibble, você pode utilizar a função tibble() do pacote tibble:"
      ],
      "metadata": {
        "id": "6nc7GuO0Z74f"
      }
    },
    {
      "cell_type": "code",
      "source": [
        "library(tibble)\n",
        "\n",
        "dados_tibble <- tibble(\n",
        "  nome = c(\"Ana\", \"Carlos\", \"Beatriz\"),\n",
        "  idade = c(25, 30, 22),\n",
        "  salario = c(3000, 4500, 3200)\n",
        ")\n",
        "\n",
        "dados_tibble"
      ],
      "metadata": {
        "colab": {
          "base_uri": "https://localhost:8080/",
          "height": 192
        },
        "id": "ovSNtPrGZ_7j",
        "outputId": "e3f967f5-47e2-4b8c-e044-ff36fc59e900"
      },
      "execution_count": 11,
      "outputs": [
        {
          "output_type": "display_data",
          "data": {
            "text/html": [
              "<table class=\"dataframe\">\n",
              "<caption>A tibble: 3 × 3</caption>\n",
              "<thead>\n",
              "\t<tr><th scope=col>nome</th><th scope=col>idade</th><th scope=col>salario</th></tr>\n",
              "\t<tr><th scope=col>&lt;chr&gt;</th><th scope=col>&lt;dbl&gt;</th><th scope=col>&lt;dbl&gt;</th></tr>\n",
              "</thead>\n",
              "<tbody>\n",
              "\t<tr><td>Ana    </td><td>25</td><td>3000</td></tr>\n",
              "\t<tr><td>Carlos </td><td>30</td><td>4500</td></tr>\n",
              "\t<tr><td>Beatriz</td><td>22</td><td>3200</td></tr>\n",
              "</tbody>\n",
              "</table>\n"
            ],
            "text/markdown": "\nA tibble: 3 × 3\n\n| nome &lt;chr&gt; | idade &lt;dbl&gt; | salario &lt;dbl&gt; |\n|---|---|---|\n| Ana     | 25 | 3000 |\n| Carlos  | 30 | 4500 |\n| Beatriz | 22 | 3200 |\n\n",
            "text/latex": "A tibble: 3 × 3\n\\begin{tabular}{lll}\n nome & idade & salario\\\\\n <chr> & <dbl> & <dbl>\\\\\n\\hline\n\t Ana     & 25 & 3000\\\\\n\t Carlos  & 30 & 4500\\\\\n\t Beatriz & 22 & 3200\\\\\n\\end{tabular}\n",
            "text/plain": [
              "  nome    idade salario\n",
              "1 Ana     25    3000   \n",
              "2 Carlos  30    4500   \n",
              "3 Beatriz 22    3200   "
            ]
          },
          "metadata": {}
        }
      ]
    },
    {
      "cell_type": "markdown",
      "source": [
        "**Diferenças e Vantagens**\n",
        "\n",
        "Enquanto um data frame tradicional pode ser útil, o tibble é mais flexível, especialmente ao trabalhar com grandes conjuntos de dados.\n",
        "\n",
        "Tibbles são ideais para a programação moderna em R, principalmente ao utilizar o Tidyverse, facilitando a manipulação e transformação dos dados.\n",
        "\n",
        "Em resumo, o data frame é a estrutura básica para armazenar dados tabulares no R, enquanto o tibble é uma versão otimizada e aprimorada que traz várias melhorias em termos de usabilidade e eficiência."
      ],
      "metadata": {
        "id": "yFccSJrsaIvl"
      }
    },
    {
      "cell_type": "code",
      "source": [
        "transacoes_milhas %>% glimpse()"
      ],
      "metadata": {
        "colab": {
          "base_uri": "https://localhost:8080/"
        },
        "id": "JneXcSLdN56d",
        "outputId": "d16bd89f-b3eb-40e4-e16e-5f44ecfee5b1"
      },
      "execution_count": 12,
      "outputs": [
        {
          "output_type": "stream",
          "name": "stdout",
          "text": [
            "Rows: 1,000\n",
            "Columns: 4\n",
            "$ id_cliente        \u001b[3m\u001b[90m<dbl>\u001b[39m\u001b[23m 350, 109, 376, 443, 647, 818, 32, 770, 707, 842, 170…\n",
            "$ data_venda_milhas \u001b[3m\u001b[90m<date>\u001b[39m\u001b[23m 2023-02-23, 2022-09-26, 2022-06-12, 2022-12-17, 202…\n",
            "$ milhas_vendidas   \u001b[3m\u001b[90m<dbl>\u001b[39m\u001b[23m 4131, 6525, 9955, 5913, 284, 4225, 2854, 6127, 5091,…\n",
            "$ valor_recebido    \u001b[3m\u001b[90m<dbl>\u001b[39m\u001b[23m 536.88, 113.70, 466.73, 1489.56, 1908.38, 1339.10, 1…\n"
          ]
        }
      ]
    },
    {
      "cell_type": "code",
      "source": [
        "transacoes_passagens %>% glimpse()"
      ],
      "metadata": {
        "colab": {
          "base_uri": "https://localhost:8080/"
        },
        "id": "AmzgutgjN9op",
        "outputId": "a2c86280-0751-43f2-9a14-cab41a8e602e"
      },
      "execution_count": 13,
      "outputs": [
        {
          "output_type": "stream",
          "name": "stdout",
          "text": [
            "Rows: 1,000\n",
            "Columns: 6\n",
            "$ id_cliente        \u001b[3m\u001b[90m<dbl>\u001b[39m\u001b[23m 507, 86, 589, 774, 705, 316, 801, 149, 11, 154, 363,…\n",
            "$ data_transacao    \u001b[3m\u001b[90m<date>\u001b[39m\u001b[23m 2023-01-30, 2023-03-07, 2022-02-11, 2022-09-23, 202…\n",
            "$ milhas_utilizadas \u001b[3m\u001b[90m<dbl>\u001b[39m\u001b[23m 9837, 6067, 2893, 2274, 6043, 1798, 4354, 6976, 6344…\n",
            "$ valor_pago        \u001b[3m\u001b[90m<dbl>\u001b[39m\u001b[23m 424.31, 513.52, 1320.34, 1000.44, 1607.35, 1802.67, …\n",
            "$ classe_voo        \u001b[3m\u001b[90m<chr>\u001b[39m\u001b[23m \"Economica\", \"Economica\", \"Primeira Classe\", \"Econom…\n",
            "$ numero_voo        \u001b[3m\u001b[90m<dbl>\u001b[39m\u001b[23m 3705, 9504, 1695, 2963, 9190, 6242, 2415, 6747, 3509…\n"
          ]
        }
      ]
    },
    {
      "cell_type": "code",
      "source": [
        "transacoes_passagem <- transacoes_passagens %>%\n",
        "  select(\n",
        "  id_cliente,\n",
        "  data_transacao,\n",
        "  milhas_utilizadas,\n",
        "  valor_pago\n",
        "  )\n",
        "\n",
        "  transacoes_passagem"
      ],
      "metadata": {
        "colab": {
          "base_uri": "https://localhost:8080/",
          "height": 1000
        },
        "id": "i-fFAtN-OEcO",
        "outputId": "b1847692-f45e-4a5c-a69e-46dc2ebeb3de"
      },
      "execution_count": 14,
      "outputs": [
        {
          "output_type": "display_data",
          "data": {
            "text/html": [
              "<table class=\"dataframe\">\n",
              "<caption>A tibble: 1000 × 4</caption>\n",
              "<thead>\n",
              "\t<tr><th scope=col>id_cliente</th><th scope=col>data_transacao</th><th scope=col>milhas_utilizadas</th><th scope=col>valor_pago</th></tr>\n",
              "\t<tr><th scope=col>&lt;dbl&gt;</th><th scope=col>&lt;date&gt;</th><th scope=col>&lt;dbl&gt;</th><th scope=col>&lt;dbl&gt;</th></tr>\n",
              "</thead>\n",
              "<tbody>\n",
              "\t<tr><td>507</td><td>2023-01-30</td><td>9837</td><td> 424.31</td></tr>\n",
              "\t<tr><td> 86</td><td>2023-03-07</td><td>6067</td><td> 513.52</td></tr>\n",
              "\t<tr><td>589</td><td>2022-02-11</td><td>2893</td><td>1320.34</td></tr>\n",
              "\t<tr><td>774</td><td>2022-09-23</td><td>2274</td><td>1000.44</td></tr>\n",
              "\t<tr><td>705</td><td>2023-06-08</td><td>6043</td><td>1607.35</td></tr>\n",
              "\t<tr><td>316</td><td>2023-05-13</td><td>1798</td><td>1802.67</td></tr>\n",
              "\t<tr><td>801</td><td>2023-02-19</td><td>4354</td><td>1309.02</td></tr>\n",
              "\t<tr><td>149</td><td>2022-11-07</td><td>6976</td><td> 309.56</td></tr>\n",
              "\t<tr><td> 11</td><td>2023-05-04</td><td>6344</td><td> 140.79</td></tr>\n",
              "\t<tr><td>154</td><td>2023-01-02</td><td> 257</td><td>1359.94</td></tr>\n",
              "\t<tr><td>363</td><td>2023-08-21</td><td>5769</td><td>1703.59</td></tr>\n",
              "\t<tr><td>620</td><td>2022-08-12</td><td>6479</td><td>1869.74</td></tr>\n",
              "\t<tr><td>862</td><td>2023-06-01</td><td>5196</td><td> 183.56</td></tr>\n",
              "\t<tr><td> 96</td><td>2022-05-23</td><td>9444</td><td> 267.63</td></tr>\n",
              "\t<tr><td>449</td><td>2022-10-16</td><td>8102</td><td> 268.38</td></tr>\n",
              "\t<tr><td>693</td><td>2022-05-24</td><td>5335</td><td>1678.64</td></tr>\n",
              "\t<tr><td>242</td><td>2022-04-08</td><td>7139</td><td>1932.91</td></tr>\n",
              "\t<tr><td>451</td><td>2023-09-26</td><td>7714</td><td> 719.61</td></tr>\n",
              "\t<tr><td>358</td><td>2022-09-14</td><td>7280</td><td>1492.09</td></tr>\n",
              "\t<tr><td>603</td><td>2023-06-30</td><td>9108</td><td>1542.91</td></tr>\n",
              "\t<tr><td>951</td><td>2023-12-24</td><td>8297</td><td> 746.47</td></tr>\n",
              "\t<tr><td>372</td><td>2023-09-09</td><td>6820</td><td>1998.67</td></tr>\n",
              "\t<tr><td>317</td><td>2022-05-31</td><td>7147</td><td>1991.96</td></tr>\n",
              "\t<tr><td>633</td><td>2022-11-14</td><td>5738</td><td>1953.89</td></tr>\n",
              "\t<tr><td>524</td><td>2022-04-12</td><td>1526</td><td> 506.18</td></tr>\n",
              "\t<tr><td>798</td><td>2022-03-17</td><td>6574</td><td>1669.93</td></tr>\n",
              "\t<tr><td>185</td><td>2023-12-02</td><td>1315</td><td> 116.35</td></tr>\n",
              "\t<tr><td>621</td><td>2022-12-05</td><td>9931</td><td> 285.85</td></tr>\n",
              "\t<tr><td>507</td><td>2023-04-29</td><td>1184</td><td> 715.96</td></tr>\n",
              "\t<tr><td>627</td><td>2023-07-28</td><td>4118</td><td> 458.88</td></tr>\n",
              "\t<tr><td>⋮</td><td>⋮</td><td>⋮</td><td>⋮</td></tr>\n",
              "\t<tr><td>853</td><td>2023-01-29</td><td>7333</td><td>1209.64</td></tr>\n",
              "\t<tr><td>184</td><td>2022-06-22</td><td>6771</td><td> 775.38</td></tr>\n",
              "\t<tr><td>497</td><td>2022-12-05</td><td>9635</td><td>1106.50</td></tr>\n",
              "\t<tr><td>668</td><td>2023-03-08</td><td>9674</td><td>1714.88</td></tr>\n",
              "\t<tr><td>523</td><td>2023-10-26</td><td>5397</td><td>1323.26</td></tr>\n",
              "\t<tr><td>875</td><td>2023-12-05</td><td>7171</td><td> 926.00</td></tr>\n",
              "\t<tr><td>827</td><td>2023-03-22</td><td>5917</td><td>1609.66</td></tr>\n",
              "\t<tr><td>374</td><td>2022-06-01</td><td>2516</td><td>1717.68</td></tr>\n",
              "\t<tr><td> 66</td><td>2023-04-04</td><td>7610</td><td>1972.96</td></tr>\n",
              "\t<tr><td>271</td><td>2023-12-27</td><td>5181</td><td>1267.00</td></tr>\n",
              "\t<tr><td>472</td><td>2022-06-01</td><td>5289</td><td>1536.33</td></tr>\n",
              "\t<tr><td>339</td><td>2023-06-21</td><td> 985</td><td> 453.96</td></tr>\n",
              "\t<tr><td>200</td><td>2022-11-20</td><td>3773</td><td>1769.95</td></tr>\n",
              "\t<tr><td> 35</td><td>2022-05-13</td><td>4427</td><td>1440.92</td></tr>\n",
              "\t<tr><td>811</td><td>2022-08-02</td><td>6531</td><td>1105.61</td></tr>\n",
              "\t<tr><td>138</td><td>2022-07-11</td><td>7497</td><td> 283.44</td></tr>\n",
              "\t<tr><td>235</td><td>2023-03-31</td><td>7912</td><td>1198.58</td></tr>\n",
              "\t<tr><td>253</td><td>2022-12-24</td><td>4487</td><td>1678.98</td></tr>\n",
              "\t<tr><td>966</td><td>2023-02-03</td><td>1891</td><td>1808.77</td></tr>\n",
              "\t<tr><td>813</td><td>2023-03-14</td><td>5380</td><td> 736.21</td></tr>\n",
              "\t<tr><td>462</td><td>2023-05-19</td><td>8078</td><td> 913.16</td></tr>\n",
              "\t<tr><td>253</td><td>2023-02-03</td><td>6339</td><td>1093.25</td></tr>\n",
              "\t<tr><td>711</td><td>2022-08-14</td><td>9977</td><td>1965.73</td></tr>\n",
              "\t<tr><td> 67</td><td>2022-07-20</td><td>7458</td><td> 252.18</td></tr>\n",
              "\t<tr><td>191</td><td>2023-03-26</td><td>3740</td><td>1846.43</td></tr>\n",
              "\t<tr><td>586</td><td>2022-07-29</td><td>2519</td><td> 940.10</td></tr>\n",
              "\t<tr><td>139</td><td>2023-08-24</td><td>4166</td><td>1291.72</td></tr>\n",
              "\t<tr><td>582</td><td>2023-12-29</td><td>2193</td><td> 334.13</td></tr>\n",
              "\t<tr><td>564</td><td>2022-02-20</td><td>2910</td><td> 137.68</td></tr>\n",
              "\t<tr><td>837</td><td>2023-02-02</td><td>7675</td><td>1635.14</td></tr>\n",
              "</tbody>\n",
              "</table>\n"
            ],
            "text/markdown": "\nA tibble: 1000 × 4\n\n| id_cliente &lt;dbl&gt; | data_transacao &lt;date&gt; | milhas_utilizadas &lt;dbl&gt; | valor_pago &lt;dbl&gt; |\n|---|---|---|---|\n| 507 | 2023-01-30 | 9837 |  424.31 |\n|  86 | 2023-03-07 | 6067 |  513.52 |\n| 589 | 2022-02-11 | 2893 | 1320.34 |\n| 774 | 2022-09-23 | 2274 | 1000.44 |\n| 705 | 2023-06-08 | 6043 | 1607.35 |\n| 316 | 2023-05-13 | 1798 | 1802.67 |\n| 801 | 2023-02-19 | 4354 | 1309.02 |\n| 149 | 2022-11-07 | 6976 |  309.56 |\n|  11 | 2023-05-04 | 6344 |  140.79 |\n| 154 | 2023-01-02 |  257 | 1359.94 |\n| 363 | 2023-08-21 | 5769 | 1703.59 |\n| 620 | 2022-08-12 | 6479 | 1869.74 |\n| 862 | 2023-06-01 | 5196 |  183.56 |\n|  96 | 2022-05-23 | 9444 |  267.63 |\n| 449 | 2022-10-16 | 8102 |  268.38 |\n| 693 | 2022-05-24 | 5335 | 1678.64 |\n| 242 | 2022-04-08 | 7139 | 1932.91 |\n| 451 | 2023-09-26 | 7714 |  719.61 |\n| 358 | 2022-09-14 | 7280 | 1492.09 |\n| 603 | 2023-06-30 | 9108 | 1542.91 |\n| 951 | 2023-12-24 | 8297 |  746.47 |\n| 372 | 2023-09-09 | 6820 | 1998.67 |\n| 317 | 2022-05-31 | 7147 | 1991.96 |\n| 633 | 2022-11-14 | 5738 | 1953.89 |\n| 524 | 2022-04-12 | 1526 |  506.18 |\n| 798 | 2022-03-17 | 6574 | 1669.93 |\n| 185 | 2023-12-02 | 1315 |  116.35 |\n| 621 | 2022-12-05 | 9931 |  285.85 |\n| 507 | 2023-04-29 | 1184 |  715.96 |\n| 627 | 2023-07-28 | 4118 |  458.88 |\n| ⋮ | ⋮ | ⋮ | ⋮ |\n| 853 | 2023-01-29 | 7333 | 1209.64 |\n| 184 | 2022-06-22 | 6771 |  775.38 |\n| 497 | 2022-12-05 | 9635 | 1106.50 |\n| 668 | 2023-03-08 | 9674 | 1714.88 |\n| 523 | 2023-10-26 | 5397 | 1323.26 |\n| 875 | 2023-12-05 | 7171 |  926.00 |\n| 827 | 2023-03-22 | 5917 | 1609.66 |\n| 374 | 2022-06-01 | 2516 | 1717.68 |\n|  66 | 2023-04-04 | 7610 | 1972.96 |\n| 271 | 2023-12-27 | 5181 | 1267.00 |\n| 472 | 2022-06-01 | 5289 | 1536.33 |\n| 339 | 2023-06-21 |  985 |  453.96 |\n| 200 | 2022-11-20 | 3773 | 1769.95 |\n|  35 | 2022-05-13 | 4427 | 1440.92 |\n| 811 | 2022-08-02 | 6531 | 1105.61 |\n| 138 | 2022-07-11 | 7497 |  283.44 |\n| 235 | 2023-03-31 | 7912 | 1198.58 |\n| 253 | 2022-12-24 | 4487 | 1678.98 |\n| 966 | 2023-02-03 | 1891 | 1808.77 |\n| 813 | 2023-03-14 | 5380 |  736.21 |\n| 462 | 2023-05-19 | 8078 |  913.16 |\n| 253 | 2023-02-03 | 6339 | 1093.25 |\n| 711 | 2022-08-14 | 9977 | 1965.73 |\n|  67 | 2022-07-20 | 7458 |  252.18 |\n| 191 | 2023-03-26 | 3740 | 1846.43 |\n| 586 | 2022-07-29 | 2519 |  940.10 |\n| 139 | 2023-08-24 | 4166 | 1291.72 |\n| 582 | 2023-12-29 | 2193 |  334.13 |\n| 564 | 2022-02-20 | 2910 |  137.68 |\n| 837 | 2023-02-02 | 7675 | 1635.14 |\n\n",
            "text/latex": "A tibble: 1000 × 4\n\\begin{tabular}{llll}\n id\\_cliente & data\\_transacao & milhas\\_utilizadas & valor\\_pago\\\\\n <dbl> & <date> & <dbl> & <dbl>\\\\\n\\hline\n\t 507 & 2023-01-30 & 9837 &  424.31\\\\\n\t  86 & 2023-03-07 & 6067 &  513.52\\\\\n\t 589 & 2022-02-11 & 2893 & 1320.34\\\\\n\t 774 & 2022-09-23 & 2274 & 1000.44\\\\\n\t 705 & 2023-06-08 & 6043 & 1607.35\\\\\n\t 316 & 2023-05-13 & 1798 & 1802.67\\\\\n\t 801 & 2023-02-19 & 4354 & 1309.02\\\\\n\t 149 & 2022-11-07 & 6976 &  309.56\\\\\n\t  11 & 2023-05-04 & 6344 &  140.79\\\\\n\t 154 & 2023-01-02 &  257 & 1359.94\\\\\n\t 363 & 2023-08-21 & 5769 & 1703.59\\\\\n\t 620 & 2022-08-12 & 6479 & 1869.74\\\\\n\t 862 & 2023-06-01 & 5196 &  183.56\\\\\n\t  96 & 2022-05-23 & 9444 &  267.63\\\\\n\t 449 & 2022-10-16 & 8102 &  268.38\\\\\n\t 693 & 2022-05-24 & 5335 & 1678.64\\\\\n\t 242 & 2022-04-08 & 7139 & 1932.91\\\\\n\t 451 & 2023-09-26 & 7714 &  719.61\\\\\n\t 358 & 2022-09-14 & 7280 & 1492.09\\\\\n\t 603 & 2023-06-30 & 9108 & 1542.91\\\\\n\t 951 & 2023-12-24 & 8297 &  746.47\\\\\n\t 372 & 2023-09-09 & 6820 & 1998.67\\\\\n\t 317 & 2022-05-31 & 7147 & 1991.96\\\\\n\t 633 & 2022-11-14 & 5738 & 1953.89\\\\\n\t 524 & 2022-04-12 & 1526 &  506.18\\\\\n\t 798 & 2022-03-17 & 6574 & 1669.93\\\\\n\t 185 & 2023-12-02 & 1315 &  116.35\\\\\n\t 621 & 2022-12-05 & 9931 &  285.85\\\\\n\t 507 & 2023-04-29 & 1184 &  715.96\\\\\n\t 627 & 2023-07-28 & 4118 &  458.88\\\\\n\t ⋮ & ⋮ & ⋮ & ⋮\\\\\n\t 853 & 2023-01-29 & 7333 & 1209.64\\\\\n\t 184 & 2022-06-22 & 6771 &  775.38\\\\\n\t 497 & 2022-12-05 & 9635 & 1106.50\\\\\n\t 668 & 2023-03-08 & 9674 & 1714.88\\\\\n\t 523 & 2023-10-26 & 5397 & 1323.26\\\\\n\t 875 & 2023-12-05 & 7171 &  926.00\\\\\n\t 827 & 2023-03-22 & 5917 & 1609.66\\\\\n\t 374 & 2022-06-01 & 2516 & 1717.68\\\\\n\t  66 & 2023-04-04 & 7610 & 1972.96\\\\\n\t 271 & 2023-12-27 & 5181 & 1267.00\\\\\n\t 472 & 2022-06-01 & 5289 & 1536.33\\\\\n\t 339 & 2023-06-21 &  985 &  453.96\\\\\n\t 200 & 2022-11-20 & 3773 & 1769.95\\\\\n\t  35 & 2022-05-13 & 4427 & 1440.92\\\\\n\t 811 & 2022-08-02 & 6531 & 1105.61\\\\\n\t 138 & 2022-07-11 & 7497 &  283.44\\\\\n\t 235 & 2023-03-31 & 7912 & 1198.58\\\\\n\t 253 & 2022-12-24 & 4487 & 1678.98\\\\\n\t 966 & 2023-02-03 & 1891 & 1808.77\\\\\n\t 813 & 2023-03-14 & 5380 &  736.21\\\\\n\t 462 & 2023-05-19 & 8078 &  913.16\\\\\n\t 253 & 2023-02-03 & 6339 & 1093.25\\\\\n\t 711 & 2022-08-14 & 9977 & 1965.73\\\\\n\t  67 & 2022-07-20 & 7458 &  252.18\\\\\n\t 191 & 2023-03-26 & 3740 & 1846.43\\\\\n\t 586 & 2022-07-29 & 2519 &  940.10\\\\\n\t 139 & 2023-08-24 & 4166 & 1291.72\\\\\n\t 582 & 2023-12-29 & 2193 &  334.13\\\\\n\t 564 & 2022-02-20 & 2910 &  137.68\\\\\n\t 837 & 2023-02-02 & 7675 & 1635.14\\\\\n\\end{tabular}\n",
            "text/plain": [
              "     id_cliente data_transacao milhas_utilizadas valor_pago\n",
              "1    507        2023-01-30     9837               424.31   \n",
              "2     86        2023-03-07     6067               513.52   \n",
              "3    589        2022-02-11     2893              1320.34   \n",
              "4    774        2022-09-23     2274              1000.44   \n",
              "5    705        2023-06-08     6043              1607.35   \n",
              "6    316        2023-05-13     1798              1802.67   \n",
              "7    801        2023-02-19     4354              1309.02   \n",
              "8    149        2022-11-07     6976               309.56   \n",
              "9     11        2023-05-04     6344               140.79   \n",
              "10   154        2023-01-02      257              1359.94   \n",
              "11   363        2023-08-21     5769              1703.59   \n",
              "12   620        2022-08-12     6479              1869.74   \n",
              "13   862        2023-06-01     5196               183.56   \n",
              "14    96        2022-05-23     9444               267.63   \n",
              "15   449        2022-10-16     8102               268.38   \n",
              "16   693        2022-05-24     5335              1678.64   \n",
              "17   242        2022-04-08     7139              1932.91   \n",
              "18   451        2023-09-26     7714               719.61   \n",
              "19   358        2022-09-14     7280              1492.09   \n",
              "20   603        2023-06-30     9108              1542.91   \n",
              "21   951        2023-12-24     8297               746.47   \n",
              "22   372        2023-09-09     6820              1998.67   \n",
              "23   317        2022-05-31     7147              1991.96   \n",
              "24   633        2022-11-14     5738              1953.89   \n",
              "25   524        2022-04-12     1526               506.18   \n",
              "26   798        2022-03-17     6574              1669.93   \n",
              "27   185        2023-12-02     1315               116.35   \n",
              "28   621        2022-12-05     9931               285.85   \n",
              "29   507        2023-04-29     1184               715.96   \n",
              "30   627        2023-07-28     4118               458.88   \n",
              "⋮    ⋮          ⋮              ⋮                 ⋮         \n",
              "971  853        2023-01-29     7333              1209.64   \n",
              "972  184        2022-06-22     6771               775.38   \n",
              "973  497        2022-12-05     9635              1106.50   \n",
              "974  668        2023-03-08     9674              1714.88   \n",
              "975  523        2023-10-26     5397              1323.26   \n",
              "976  875        2023-12-05     7171               926.00   \n",
              "977  827        2023-03-22     5917              1609.66   \n",
              "978  374        2022-06-01     2516              1717.68   \n",
              "979   66        2023-04-04     7610              1972.96   \n",
              "980  271        2023-12-27     5181              1267.00   \n",
              "981  472        2022-06-01     5289              1536.33   \n",
              "982  339        2023-06-21      985               453.96   \n",
              "983  200        2022-11-20     3773              1769.95   \n",
              "984   35        2022-05-13     4427              1440.92   \n",
              "985  811        2022-08-02     6531              1105.61   \n",
              "986  138        2022-07-11     7497               283.44   \n",
              "987  235        2023-03-31     7912              1198.58   \n",
              "988  253        2022-12-24     4487              1678.98   \n",
              "989  966        2023-02-03     1891              1808.77   \n",
              "990  813        2023-03-14     5380               736.21   \n",
              "991  462        2023-05-19     8078               913.16   \n",
              "992  253        2023-02-03     6339              1093.25   \n",
              "993  711        2022-08-14     9977              1965.73   \n",
              "994   67        2022-07-20     7458               252.18   \n",
              "995  191        2023-03-26     3740              1846.43   \n",
              "996  586        2022-07-29     2519               940.10   \n",
              "997  139        2023-08-24     4166              1291.72   \n",
              "998  582        2023-12-29     2193               334.13   \n",
              "999  564        2022-02-20     2910               137.68   \n",
              "1000 837        2023-02-02     7675              1635.14   "
            ]
          },
          "metadata": {}
        }
      ]
    },
    {
      "cell_type": "code",
      "source": [
        "transacoes_passagem %>% glimpse()"
      ],
      "metadata": {
        "colab": {
          "base_uri": "https://localhost:8080/"
        },
        "id": "QUQd56lCOY3O",
        "outputId": "b97be5f4-0502-4e84-cb55-d77f50c51cfb"
      },
      "execution_count": 15,
      "outputs": [
        {
          "output_type": "stream",
          "name": "stdout",
          "text": [
            "Rows: 1,000\n",
            "Columns: 4\n",
            "$ id_cliente        \u001b[3m\u001b[90m<dbl>\u001b[39m\u001b[23m 507, 86, 589, 774, 705, 316, 801, 149, 11, 154, 363,…\n",
            "$ data_transacao    \u001b[3m\u001b[90m<date>\u001b[39m\u001b[23m 2023-01-30, 2023-03-07, 2022-02-11, 2022-09-23, 202…\n",
            "$ milhas_utilizadas \u001b[3m\u001b[90m<dbl>\u001b[39m\u001b[23m 9837, 6067, 2893, 2274, 6043, 1798, 4354, 6976, 6344…\n",
            "$ valor_pago        \u001b[3m\u001b[90m<dbl>\u001b[39m\u001b[23m 424.31, 513.52, 1320.34, 1000.44, 1607.35, 1802.67, …\n"
          ]
        }
      ]
    },
    {
      "cell_type": "code",
      "source": [
        "transacoes_milhas <- transacoes_milhas %>%\n",
        "  filter(data_venda_milhas >= \"2022-01-01\" & data_venda_milhas <= \"2022-12-31\")"
      ],
      "metadata": {
        "id": "mKdMDJ3sPBJi"
      },
      "execution_count": 16,
      "outputs": []
    },
    {
      "cell_type": "code",
      "source": [
        "transacoes_milhas %>% glimpse()"
      ],
      "metadata": {
        "colab": {
          "base_uri": "https://localhost:8080/"
        },
        "id": "r1FhUn38PVcC",
        "outputId": "efaf8b23-ebdc-4a8e-a17e-9cba392b0daf"
      },
      "execution_count": 17,
      "outputs": [
        {
          "output_type": "stream",
          "name": "stdout",
          "text": [
            "Rows: 485\n",
            "Columns: 4\n",
            "$ id_cliente        \u001b[3m\u001b[90m<dbl>\u001b[39m\u001b[23m 109, 376, 443, 32, 842, 609, 391, 600, 101, 761, 959…\n",
            "$ data_venda_milhas \u001b[3m\u001b[90m<date>\u001b[39m\u001b[23m 2022-09-26, 2022-06-12, 2022-12-17, 2022-12-06, 202…\n",
            "$ milhas_vendidas   \u001b[3m\u001b[90m<dbl>\u001b[39m\u001b[23m 6525, 9955, 5913, 2854, 5686, 937, 1190, 8295, 635, …\n",
            "$ valor_recebido    \u001b[3m\u001b[90m<dbl>\u001b[39m\u001b[23m 113.70, 466.73, 1489.56, 1983.85, 191.69, 183.50, 47…\n"
          ]
        }
      ]
    },
    {
      "cell_type": "code",
      "source": [
        "transacoes_passagens <- transacoes_passagens %>%\n",
        "  filter(data_transacao >= \"2022-01-01\" & data_transacao <= \"2022-12-31\")"
      ],
      "metadata": {
        "id": "f3bKVBeyPYXm"
      },
      "execution_count": 18,
      "outputs": []
    },
    {
      "cell_type": "code",
      "source": [
        "transacoes_passagens %>%  glimpse()"
      ],
      "metadata": {
        "colab": {
          "base_uri": "https://localhost:8080/"
        },
        "id": "3r0hqkr3PxN4",
        "outputId": "feb0c82f-0aed-482f-cae9-f68bfd460a53"
      },
      "execution_count": 19,
      "outputs": [
        {
          "output_type": "stream",
          "name": "stdout",
          "text": [
            "Rows: 502\n",
            "Columns: 6\n",
            "$ id_cliente        \u001b[3m\u001b[90m<dbl>\u001b[39m\u001b[23m 589, 774, 149, 620, 96, 449, 693, 242, 358, 317, 633…\n",
            "$ data_transacao    \u001b[3m\u001b[90m<date>\u001b[39m\u001b[23m 2022-02-11, 2022-09-23, 2022-11-07, 2022-08-12, 202…\n",
            "$ milhas_utilizadas \u001b[3m\u001b[90m<dbl>\u001b[39m\u001b[23m 2893, 2274, 6976, 6479, 9444, 8102, 5335, 7139, 7280…\n",
            "$ valor_pago        \u001b[3m\u001b[90m<dbl>\u001b[39m\u001b[23m 1320.34, 1000.44, 309.56, 1869.74, 267.63, 268.38, 1…\n",
            "$ classe_voo        \u001b[3m\u001b[90m<chr>\u001b[39m\u001b[23m \"Primeira Classe\", \"Economica\", \"Primeira Classe\", \"…\n",
            "$ numero_voo        \u001b[3m\u001b[90m<dbl>\u001b[39m\u001b[23m 1695, 2963, 6747, 7699, 3939, 4187, 9581, 3641, 4839…\n"
          ]
        }
      ]
    },
    {
      "cell_type": "code",
      "source": [
        "transacoes_passagens <- transacoes_passagens %>%\n",
        "  mutate(\n",
        "    custo_por_milha = valor_pago / milhas_utilizadas\n",
        "  )"
      ],
      "metadata": {
        "id": "frG2e57pP19_"
      },
      "execution_count": 20,
      "outputs": []
    },
    {
      "cell_type": "code",
      "source": [
        "transacoes_passagens %>% glimpse()"
      ],
      "metadata": {
        "colab": {
          "base_uri": "https://localhost:8080/"
        },
        "id": "a4nzXnDrRaoq",
        "outputId": "fae7dabf-1bc8-484c-e72a-cd7ad16adf1d"
      },
      "execution_count": 21,
      "outputs": [
        {
          "output_type": "stream",
          "name": "stdout",
          "text": [
            "Rows: 502\n",
            "Columns: 7\n",
            "$ id_cliente        \u001b[3m\u001b[90m<dbl>\u001b[39m\u001b[23m 589, 774, 149, 620, 96, 449, 693, 242, 358, 317, 633…\n",
            "$ data_transacao    \u001b[3m\u001b[90m<date>\u001b[39m\u001b[23m 2022-02-11, 2022-09-23, 2022-11-07, 2022-08-12, 202…\n",
            "$ milhas_utilizadas \u001b[3m\u001b[90m<dbl>\u001b[39m\u001b[23m 2893, 2274, 6976, 6479, 9444, 8102, 5335, 7139, 7280…\n",
            "$ valor_pago        \u001b[3m\u001b[90m<dbl>\u001b[39m\u001b[23m 1320.34, 1000.44, 309.56, 1869.74, 267.63, 268.38, 1…\n",
            "$ classe_voo        \u001b[3m\u001b[90m<chr>\u001b[39m\u001b[23m \"Primeira Classe\", \"Economica\", \"Primeira Classe\", \"…\n",
            "$ numero_voo        \u001b[3m\u001b[90m<dbl>\u001b[39m\u001b[23m 1695, 2963, 6747, 7699, 3939, 4187, 9581, 3641, 4839…\n",
            "$ custo_por_milha   \u001b[3m\u001b[90m<dbl>\u001b[39m\u001b[23m 0.45639129, 0.43994723, 0.04437500, 0.28858466, 0.02…\n"
          ]
        }
      ]
    },
    {
      "cell_type": "code",
      "source": [
        "media_milhas <- transacoes_passagens %>%\n",
        "  group_by(id_cliente) %>%\n",
        "  summarise(media_milhas = mean(milhas_utilizadas))"
      ],
      "metadata": {
        "id": "PwrUGakdRdTU"
      },
      "execution_count": 22,
      "outputs": []
    },
    {
      "cell_type": "code",
      "source": [
        " media_milhas %>% head()"
      ],
      "metadata": {
        "colab": {
          "base_uri": "https://localhost:8080/",
          "height": 286
        },
        "id": "5dsoQtLuSNYb",
        "outputId": "7b2194ee-21a1-499e-f73a-2e87272ded37"
      },
      "execution_count": 23,
      "outputs": [
        {
          "output_type": "display_data",
          "data": {
            "text/html": [
              "<table class=\"dataframe\">\n",
              "<caption>A tibble: 6 × 2</caption>\n",
              "<thead>\n",
              "\t<tr><th scope=col>id_cliente</th><th scope=col>media_milhas</th></tr>\n",
              "\t<tr><th scope=col>&lt;dbl&gt;</th><th scope=col>&lt;dbl&gt;</th></tr>\n",
              "</thead>\n",
              "<tbody>\n",
              "\t<tr><td> 3</td><td>1023.0</td></tr>\n",
              "\t<tr><td> 7</td><td>7074.5</td></tr>\n",
              "\t<tr><td>10</td><td>6537.0</td></tr>\n",
              "\t<tr><td>12</td><td>9312.0</td></tr>\n",
              "\t<tr><td>13</td><td>4123.0</td></tr>\n",
              "\t<tr><td>15</td><td>7541.0</td></tr>\n",
              "</tbody>\n",
              "</table>\n"
            ],
            "text/markdown": "\nA tibble: 6 × 2\n\n| id_cliente &lt;dbl&gt; | media_milhas &lt;dbl&gt; |\n|---|---|\n|  3 | 1023.0 |\n|  7 | 7074.5 |\n| 10 | 6537.0 |\n| 12 | 9312.0 |\n| 13 | 4123.0 |\n| 15 | 7541.0 |\n\n",
            "text/latex": "A tibble: 6 × 2\n\\begin{tabular}{ll}\n id\\_cliente & media\\_milhas\\\\\n <dbl> & <dbl>\\\\\n\\hline\n\t  3 & 1023.0\\\\\n\t  7 & 7074.5\\\\\n\t 10 & 6537.0\\\\\n\t 12 & 9312.0\\\\\n\t 13 & 4123.0\\\\\n\t 15 & 7541.0\\\\\n\\end{tabular}\n",
            "text/plain": [
              "  id_cliente media_milhas\n",
              "1  3         1023.0      \n",
              "2  7         7074.5      \n",
              "3 10         6537.0      \n",
              "4 12         9312.0      \n",
              "5 13         4123.0      \n",
              "6 15         7541.0      "
            ]
          },
          "metadata": {}
        }
      ]
    },
    {
      "cell_type": "markdown",
      "source": [
        "# Organizando combinando e filtrando data frames"
      ],
      "metadata": {
        "id": "F566d2IeSrnq"
      }
    },
    {
      "cell_type": "code",
      "source": [
        "transacoes_passagens %>%\n",
        "  head()"
      ],
      "metadata": {
        "id": "xZvWScIrSv-F",
        "colab": {
          "base_uri": "https://localhost:8080/",
          "height": 286
        },
        "outputId": "9920e964-8394-4ee8-bcd5-1d7d9d1b4f33"
      },
      "execution_count": 24,
      "outputs": [
        {
          "output_type": "display_data",
          "data": {
            "text/html": [
              "<table class=\"dataframe\">\n",
              "<caption>A tibble: 6 × 7</caption>\n",
              "<thead>\n",
              "\t<tr><th scope=col>id_cliente</th><th scope=col>data_transacao</th><th scope=col>milhas_utilizadas</th><th scope=col>valor_pago</th><th scope=col>classe_voo</th><th scope=col>numero_voo</th><th scope=col>custo_por_milha</th></tr>\n",
              "\t<tr><th scope=col>&lt;dbl&gt;</th><th scope=col>&lt;date&gt;</th><th scope=col>&lt;dbl&gt;</th><th scope=col>&lt;dbl&gt;</th><th scope=col>&lt;chr&gt;</th><th scope=col>&lt;dbl&gt;</th><th scope=col>&lt;dbl&gt;</th></tr>\n",
              "</thead>\n",
              "<tbody>\n",
              "\t<tr><td>589</td><td>2022-02-11</td><td>2893</td><td>1320.34</td><td>Primeira Classe</td><td>1695</td><td>0.45639129</td></tr>\n",
              "\t<tr><td>774</td><td>2022-09-23</td><td>2274</td><td>1000.44</td><td>Economica      </td><td>2963</td><td>0.43994723</td></tr>\n",
              "\t<tr><td>149</td><td>2022-11-07</td><td>6976</td><td> 309.56</td><td>Primeira Classe</td><td>6747</td><td>0.04437500</td></tr>\n",
              "\t<tr><td>620</td><td>2022-08-12</td><td>6479</td><td>1869.74</td><td>Economica      </td><td>7699</td><td>0.28858466</td></tr>\n",
              "\t<tr><td> 96</td><td>2022-05-23</td><td>9444</td><td> 267.63</td><td>Executiva      </td><td>3939</td><td>0.02833863</td></tr>\n",
              "\t<tr><td>449</td><td>2022-10-16</td><td>8102</td><td> 268.38</td><td>Primeira Classe</td><td>4187</td><td>0.03312515</td></tr>\n",
              "</tbody>\n",
              "</table>\n"
            ],
            "text/markdown": "\nA tibble: 6 × 7\n\n| id_cliente &lt;dbl&gt; | data_transacao &lt;date&gt; | milhas_utilizadas &lt;dbl&gt; | valor_pago &lt;dbl&gt; | classe_voo &lt;chr&gt; | numero_voo &lt;dbl&gt; | custo_por_milha &lt;dbl&gt; |\n|---|---|---|---|---|---|---|\n| 589 | 2022-02-11 | 2893 | 1320.34 | Primeira Classe | 1695 | 0.45639129 |\n| 774 | 2022-09-23 | 2274 | 1000.44 | Economica       | 2963 | 0.43994723 |\n| 149 | 2022-11-07 | 6976 |  309.56 | Primeira Classe | 6747 | 0.04437500 |\n| 620 | 2022-08-12 | 6479 | 1869.74 | Economica       | 7699 | 0.28858466 |\n|  96 | 2022-05-23 | 9444 |  267.63 | Executiva       | 3939 | 0.02833863 |\n| 449 | 2022-10-16 | 8102 |  268.38 | Primeira Classe | 4187 | 0.03312515 |\n\n",
            "text/latex": "A tibble: 6 × 7\n\\begin{tabular}{lllllll}\n id\\_cliente & data\\_transacao & milhas\\_utilizadas & valor\\_pago & classe\\_voo & numero\\_voo & custo\\_por\\_milha\\\\\n <dbl> & <date> & <dbl> & <dbl> & <chr> & <dbl> & <dbl>\\\\\n\\hline\n\t 589 & 2022-02-11 & 2893 & 1320.34 & Primeira Classe & 1695 & 0.45639129\\\\\n\t 774 & 2022-09-23 & 2274 & 1000.44 & Economica       & 2963 & 0.43994723\\\\\n\t 149 & 2022-11-07 & 6976 &  309.56 & Primeira Classe & 6747 & 0.04437500\\\\\n\t 620 & 2022-08-12 & 6479 & 1869.74 & Economica       & 7699 & 0.28858466\\\\\n\t  96 & 2022-05-23 & 9444 &  267.63 & Executiva       & 3939 & 0.02833863\\\\\n\t 449 & 2022-10-16 & 8102 &  268.38 & Primeira Classe & 4187 & 0.03312515\\\\\n\\end{tabular}\n",
            "text/plain": [
              "  id_cliente data_transacao milhas_utilizadas valor_pago classe_voo     \n",
              "1 589        2022-02-11     2893              1320.34    Primeira Classe\n",
              "2 774        2022-09-23     2274              1000.44    Economica      \n",
              "3 149        2022-11-07     6976               309.56    Primeira Classe\n",
              "4 620        2022-08-12     6479              1869.74    Economica      \n",
              "5  96        2022-05-23     9444               267.63    Executiva      \n",
              "6 449        2022-10-16     8102               268.38    Primeira Classe\n",
              "  numero_voo custo_por_milha\n",
              "1 1695       0.45639129     \n",
              "2 2963       0.43994723     \n",
              "3 6747       0.04437500     \n",
              "4 7699       0.28858466     \n",
              "5 3939       0.02833863     \n",
              "6 4187       0.03312515     "
            ]
          },
          "metadata": {}
        }
      ]
    },
    {
      "cell_type": "code",
      "source": [
        "transacoes_passagens <- transacoes_passagens %>%\n",
        "  arrange(data_transacao)"
      ],
      "metadata": {
        "id": "_wAUgWBZAaL9"
      },
      "execution_count": 25,
      "outputs": []
    },
    {
      "cell_type": "code",
      "source": [
        "transacoes_passagens %>%\n",
        "  head()"
      ],
      "metadata": {
        "colab": {
          "base_uri": "https://localhost:8080/",
          "height": 286
        },
        "id": "cH8EJgYaAnLM",
        "outputId": "fedf58f8-6581-47d0-b398-10b185ce3d52"
      },
      "execution_count": 26,
      "outputs": [
        {
          "output_type": "display_data",
          "data": {
            "text/html": [
              "<table class=\"dataframe\">\n",
              "<caption>A tibble: 6 × 7</caption>\n",
              "<thead>\n",
              "\t<tr><th scope=col>id_cliente</th><th scope=col>data_transacao</th><th scope=col>milhas_utilizadas</th><th scope=col>valor_pago</th><th scope=col>classe_voo</th><th scope=col>numero_voo</th><th scope=col>custo_por_milha</th></tr>\n",
              "\t<tr><th scope=col>&lt;dbl&gt;</th><th scope=col>&lt;date&gt;</th><th scope=col>&lt;dbl&gt;</th><th scope=col>&lt;dbl&gt;</th><th scope=col>&lt;chr&gt;</th><th scope=col>&lt;dbl&gt;</th><th scope=col>&lt;dbl&gt;</th></tr>\n",
              "</thead>\n",
              "<tbody>\n",
              "\t<tr><td>967</td><td>2022-01-01</td><td>1198</td><td>1217.17</td><td>Economica      </td><td>9302</td><td>1.0160017</td></tr>\n",
              "\t<tr><td>747</td><td>2022-01-01</td><td>8451</td><td>1064.09</td><td>Executiva      </td><td>2381</td><td>0.1259129</td></tr>\n",
              "\t<tr><td>237</td><td>2022-01-01</td><td>7996</td><td>1684.94</td><td>Primeira Classe</td><td> 704</td><td>0.2107229</td></tr>\n",
              "\t<tr><td>504</td><td>2022-01-02</td><td>6143</td><td> 692.94</td><td>Economica      </td><td>6913</td><td>0.1128016</td></tr>\n",
              "\t<tr><td>840</td><td>2022-01-02</td><td>5267</td><td>1496.54</td><td>Economica      </td><td>9066</td><td>0.2841352</td></tr>\n",
              "\t<tr><td>396</td><td>2022-01-02</td><td>1929</td><td> 760.04</td><td>Primeira Classe</td><td>9482</td><td>0.3940073</td></tr>\n",
              "</tbody>\n",
              "</table>\n"
            ],
            "text/markdown": "\nA tibble: 6 × 7\n\n| id_cliente &lt;dbl&gt; | data_transacao &lt;date&gt; | milhas_utilizadas &lt;dbl&gt; | valor_pago &lt;dbl&gt; | classe_voo &lt;chr&gt; | numero_voo &lt;dbl&gt; | custo_por_milha &lt;dbl&gt; |\n|---|---|---|---|---|---|---|\n| 967 | 2022-01-01 | 1198 | 1217.17 | Economica       | 9302 | 1.0160017 |\n| 747 | 2022-01-01 | 8451 | 1064.09 | Executiva       | 2381 | 0.1259129 |\n| 237 | 2022-01-01 | 7996 | 1684.94 | Primeira Classe |  704 | 0.2107229 |\n| 504 | 2022-01-02 | 6143 |  692.94 | Economica       | 6913 | 0.1128016 |\n| 840 | 2022-01-02 | 5267 | 1496.54 | Economica       | 9066 | 0.2841352 |\n| 396 | 2022-01-02 | 1929 |  760.04 | Primeira Classe | 9482 | 0.3940073 |\n\n",
            "text/latex": "A tibble: 6 × 7\n\\begin{tabular}{lllllll}\n id\\_cliente & data\\_transacao & milhas\\_utilizadas & valor\\_pago & classe\\_voo & numero\\_voo & custo\\_por\\_milha\\\\\n <dbl> & <date> & <dbl> & <dbl> & <chr> & <dbl> & <dbl>\\\\\n\\hline\n\t 967 & 2022-01-01 & 1198 & 1217.17 & Economica       & 9302 & 1.0160017\\\\\n\t 747 & 2022-01-01 & 8451 & 1064.09 & Executiva       & 2381 & 0.1259129\\\\\n\t 237 & 2022-01-01 & 7996 & 1684.94 & Primeira Classe &  704 & 0.2107229\\\\\n\t 504 & 2022-01-02 & 6143 &  692.94 & Economica       & 6913 & 0.1128016\\\\\n\t 840 & 2022-01-02 & 5267 & 1496.54 & Economica       & 9066 & 0.2841352\\\\\n\t 396 & 2022-01-02 & 1929 &  760.04 & Primeira Classe & 9482 & 0.3940073\\\\\n\\end{tabular}\n",
            "text/plain": [
              "  id_cliente data_transacao milhas_utilizadas valor_pago classe_voo     \n",
              "1 967        2022-01-01     1198              1217.17    Economica      \n",
              "2 747        2022-01-01     8451              1064.09    Executiva      \n",
              "3 237        2022-01-01     7996              1684.94    Primeira Classe\n",
              "4 504        2022-01-02     6143               692.94    Economica      \n",
              "5 840        2022-01-02     5267              1496.54    Economica      \n",
              "6 396        2022-01-02     1929               760.04    Primeira Classe\n",
              "  numero_voo custo_por_milha\n",
              "1 9302       1.0160017      \n",
              "2 2381       0.1259129      \n",
              "3  704       0.2107229      \n",
              "4 6913       0.1128016      \n",
              "5 9066       0.2841352      \n",
              "6 9482       0.3940073      "
            ]
          },
          "metadata": {}
        }
      ]
    },
    {
      "cell_type": "code",
      "source": [
        "transacoes_milhas %>% head()"
      ],
      "metadata": {
        "colab": {
          "base_uri": "https://localhost:8080/",
          "height": 286
        },
        "id": "o1Kvw3DiAo7W",
        "outputId": "8e220d4d-a9ab-43f3-d055-2cdd0798a006"
      },
      "execution_count": 27,
      "outputs": [
        {
          "output_type": "display_data",
          "data": {
            "text/html": [
              "<table class=\"dataframe\">\n",
              "<caption>A tibble: 6 × 4</caption>\n",
              "<thead>\n",
              "\t<tr><th scope=col>id_cliente</th><th scope=col>data_venda_milhas</th><th scope=col>milhas_vendidas</th><th scope=col>valor_recebido</th></tr>\n",
              "\t<tr><th scope=col>&lt;dbl&gt;</th><th scope=col>&lt;date&gt;</th><th scope=col>&lt;dbl&gt;</th><th scope=col>&lt;dbl&gt;</th></tr>\n",
              "</thead>\n",
              "<tbody>\n",
              "\t<tr><td>109</td><td>2022-09-26</td><td>6525</td><td> 113.70</td></tr>\n",
              "\t<tr><td>376</td><td>2022-06-12</td><td>9955</td><td> 466.73</td></tr>\n",
              "\t<tr><td>443</td><td>2022-12-17</td><td>5913</td><td>1489.56</td></tr>\n",
              "\t<tr><td> 32</td><td>2022-12-06</td><td>2854</td><td>1983.85</td></tr>\n",
              "\t<tr><td>842</td><td>2022-05-29</td><td>5686</td><td> 191.69</td></tr>\n",
              "\t<tr><td>609</td><td>2022-11-09</td><td> 937</td><td> 183.50</td></tr>\n",
              "</tbody>\n",
              "</table>\n"
            ],
            "text/markdown": "\nA tibble: 6 × 4\n\n| id_cliente &lt;dbl&gt; | data_venda_milhas &lt;date&gt; | milhas_vendidas &lt;dbl&gt; | valor_recebido &lt;dbl&gt; |\n|---|---|---|---|\n| 109 | 2022-09-26 | 6525 |  113.70 |\n| 376 | 2022-06-12 | 9955 |  466.73 |\n| 443 | 2022-12-17 | 5913 | 1489.56 |\n|  32 | 2022-12-06 | 2854 | 1983.85 |\n| 842 | 2022-05-29 | 5686 |  191.69 |\n| 609 | 2022-11-09 |  937 |  183.50 |\n\n",
            "text/latex": "A tibble: 6 × 4\n\\begin{tabular}{llll}\n id\\_cliente & data\\_venda\\_milhas & milhas\\_vendidas & valor\\_recebido\\\\\n <dbl> & <date> & <dbl> & <dbl>\\\\\n\\hline\n\t 109 & 2022-09-26 & 6525 &  113.70\\\\\n\t 376 & 2022-06-12 & 9955 &  466.73\\\\\n\t 443 & 2022-12-17 & 5913 & 1489.56\\\\\n\t  32 & 2022-12-06 & 2854 & 1983.85\\\\\n\t 842 & 2022-05-29 & 5686 &  191.69\\\\\n\t 609 & 2022-11-09 &  937 &  183.50\\\\\n\\end{tabular}\n",
            "text/plain": [
              "  id_cliente data_venda_milhas milhas_vendidas valor_recebido\n",
              "1 109        2022-09-26        6525             113.70       \n",
              "2 376        2022-06-12        9955             466.73       \n",
              "3 443        2022-12-17        5913            1489.56       \n",
              "4  32        2022-12-06        2854            1983.85       \n",
              "5 842        2022-05-29        5686             191.69       \n",
              "6 609        2022-11-09         937             183.50       "
            ]
          },
          "metadata": {}
        }
      ]
    },
    {
      "cell_type": "code",
      "source": [
        "transacoes_milhas <- transacoes_milhas %>%\n",
        "  arrange(data_venda_milhas)"
      ],
      "metadata": {
        "id": "lOtlLco3A3s2"
      },
      "execution_count": 28,
      "outputs": []
    },
    {
      "cell_type": "code",
      "source": [
        "transacoes_milhas %>% head()"
      ],
      "metadata": {
        "colab": {
          "base_uri": "https://localhost:8080/",
          "height": 286
        },
        "id": "EGeyiMhYA9Td",
        "outputId": "db132859-c54c-43c5-db7b-b00913d867ef"
      },
      "execution_count": 29,
      "outputs": [
        {
          "output_type": "display_data",
          "data": {
            "text/html": [
              "<table class=\"dataframe\">\n",
              "<caption>A tibble: 6 × 4</caption>\n",
              "<thead>\n",
              "\t<tr><th scope=col>id_cliente</th><th scope=col>data_venda_milhas</th><th scope=col>milhas_vendidas</th><th scope=col>valor_recebido</th></tr>\n",
              "\t<tr><th scope=col>&lt;dbl&gt;</th><th scope=col>&lt;date&gt;</th><th scope=col>&lt;dbl&gt;</th><th scope=col>&lt;dbl&gt;</th></tr>\n",
              "</thead>\n",
              "<tbody>\n",
              "\t<tr><td>619</td><td>2022-01-01</td><td>4385</td><td>1836.72</td></tr>\n",
              "\t<tr><td>323</td><td>2022-01-01</td><td>8808</td><td>1023.11</td></tr>\n",
              "\t<tr><td>963</td><td>2022-01-01</td><td>6560</td><td>1883.39</td></tr>\n",
              "\t<tr><td>745</td><td>2022-01-02</td><td>4810</td><td>1685.14</td></tr>\n",
              "\t<tr><td>299</td><td>2022-01-02</td><td>1916</td><td> 988.58</td></tr>\n",
              "\t<tr><td>797</td><td>2022-01-02</td><td>3026</td><td>1970.48</td></tr>\n",
              "</tbody>\n",
              "</table>\n"
            ],
            "text/markdown": "\nA tibble: 6 × 4\n\n| id_cliente &lt;dbl&gt; | data_venda_milhas &lt;date&gt; | milhas_vendidas &lt;dbl&gt; | valor_recebido &lt;dbl&gt; |\n|---|---|---|---|\n| 619 | 2022-01-01 | 4385 | 1836.72 |\n| 323 | 2022-01-01 | 8808 | 1023.11 |\n| 963 | 2022-01-01 | 6560 | 1883.39 |\n| 745 | 2022-01-02 | 4810 | 1685.14 |\n| 299 | 2022-01-02 | 1916 |  988.58 |\n| 797 | 2022-01-02 | 3026 | 1970.48 |\n\n",
            "text/latex": "A tibble: 6 × 4\n\\begin{tabular}{llll}\n id\\_cliente & data\\_venda\\_milhas & milhas\\_vendidas & valor\\_recebido\\\\\n <dbl> & <date> & <dbl> & <dbl>\\\\\n\\hline\n\t 619 & 2022-01-01 & 4385 & 1836.72\\\\\n\t 323 & 2022-01-01 & 8808 & 1023.11\\\\\n\t 963 & 2022-01-01 & 6560 & 1883.39\\\\\n\t 745 & 2022-01-02 & 4810 & 1685.14\\\\\n\t 299 & 2022-01-02 & 1916 &  988.58\\\\\n\t 797 & 2022-01-02 & 3026 & 1970.48\\\\\n\\end{tabular}\n",
            "text/plain": [
              "  id_cliente data_venda_milhas milhas_vendidas valor_recebido\n",
              "1 619        2022-01-01        4385            1836.72       \n",
              "2 323        2022-01-01        8808            1023.11       \n",
              "3 963        2022-01-01        6560            1883.39       \n",
              "4 745        2022-01-02        4810            1685.14       \n",
              "5 299        2022-01-02        1916             988.58       \n",
              "6 797        2022-01-02        3026            1970.48       "
            ]
          },
          "metadata": {}
        }
      ]
    },
    {
      "cell_type": "code",
      "source": [
        "clientes %>%\n",
        "  head()"
      ],
      "metadata": {
        "colab": {
          "base_uri": "https://localhost:8080/",
          "height": 286
        },
        "id": "AY1ORpddA_9t",
        "outputId": "2ea576a0-4c73-404b-eb33-4efc081e35ce"
      },
      "execution_count": 30,
      "outputs": [
        {
          "output_type": "display_data",
          "data": {
            "text/html": [
              "<table class=\"dataframe\">\n",
              "<caption>A tibble: 6 × 5</caption>\n",
              "<thead>\n",
              "\t<tr><th scope=col>id_cliente</th><th scope=col>data_nascimento</th><th scope=col>status_fidelidade</th><th scope=col>milhas_acumuladas</th><th scope=col>gasto_total</th></tr>\n",
              "\t<tr><th scope=col>&lt;dbl&gt;</th><th scope=col>&lt;date&gt;</th><th scope=col>&lt;chr&gt;</th><th scope=col>&lt;dbl&gt;</th><th scope=col>&lt;dbl&gt;</th></tr>\n",
              "</thead>\n",
              "<tbody>\n",
              "\t<tr><td>1</td><td>1971-01-09</td><td>Diamante</td><td>2833</td><td>1906.69</td></tr>\n",
              "\t<tr><td>2</td><td>1996-08-11</td><td>Diamante</td><td>8864</td><td> 493.58</td></tr>\n",
              "\t<tr><td>3</td><td>1994-07-18</td><td>Diamante</td><td> 917</td><td> 519.16</td></tr>\n",
              "\t<tr><td>4</td><td>2003-03-08</td><td>Prata   </td><td>8773</td><td>1256.60</td></tr>\n",
              "\t<tr><td>5</td><td>1962-06-05</td><td>Diamante</td><td>1492</td><td> 410.37</td></tr>\n",
              "\t<tr><td>6</td><td>1988-02-08</td><td>Prata   </td><td>6270</td><td> 250.93</td></tr>\n",
              "</tbody>\n",
              "</table>\n"
            ],
            "text/markdown": "\nA tibble: 6 × 5\n\n| id_cliente &lt;dbl&gt; | data_nascimento &lt;date&gt; | status_fidelidade &lt;chr&gt; | milhas_acumuladas &lt;dbl&gt; | gasto_total &lt;dbl&gt; |\n|---|---|---|---|---|\n| 1 | 1971-01-09 | Diamante | 2833 | 1906.69 |\n| 2 | 1996-08-11 | Diamante | 8864 |  493.58 |\n| 3 | 1994-07-18 | Diamante |  917 |  519.16 |\n| 4 | 2003-03-08 | Prata    | 8773 | 1256.60 |\n| 5 | 1962-06-05 | Diamante | 1492 |  410.37 |\n| 6 | 1988-02-08 | Prata    | 6270 |  250.93 |\n\n",
            "text/latex": "A tibble: 6 × 5\n\\begin{tabular}{lllll}\n id\\_cliente & data\\_nascimento & status\\_fidelidade & milhas\\_acumuladas & gasto\\_total\\\\\n <dbl> & <date> & <chr> & <dbl> & <dbl>\\\\\n\\hline\n\t 1 & 1971-01-09 & Diamante & 2833 & 1906.69\\\\\n\t 2 & 1996-08-11 & Diamante & 8864 &  493.58\\\\\n\t 3 & 1994-07-18 & Diamante &  917 &  519.16\\\\\n\t 4 & 2003-03-08 & Prata    & 8773 & 1256.60\\\\\n\t 5 & 1962-06-05 & Diamante & 1492 &  410.37\\\\\n\t 6 & 1988-02-08 & Prata    & 6270 &  250.93\\\\\n\\end{tabular}\n",
            "text/plain": [
              "  id_cliente data_nascimento status_fidelidade milhas_acumuladas gasto_total\n",
              "1 1          1971-01-09      Diamante          2833              1906.69    \n",
              "2 2          1996-08-11      Diamante          8864               493.58    \n",
              "3 3          1994-07-18      Diamante           917               519.16    \n",
              "4 4          2003-03-08      Prata             8773              1256.60    \n",
              "5 5          1962-06-05      Diamante          1492               410.37    \n",
              "6 6          1988-02-08      Prata             6270               250.93    "
            ]
          },
          "metadata": {}
        }
      ]
    },
    {
      "cell_type": "code",
      "source": [
        "transacoes_passagens <- transacoes_passagens %>% left_join(clientes, by=\"id_cliente\")"
      ],
      "metadata": {
        "id": "rBtDfU5JBQ9r"
      },
      "execution_count": 31,
      "outputs": []
    },
    {
      "cell_type": "code",
      "source": [
        "transacoes_passagens %>%\n",
        "  head()"
      ],
      "metadata": {
        "colab": {
          "base_uri": "https://localhost:8080/",
          "height": 341
        },
        "id": "8T23TZnjBsfu",
        "outputId": "7427f54d-4e95-4a8c-a361-012c0fd622f0"
      },
      "execution_count": 32,
      "outputs": [
        {
          "output_type": "display_data",
          "data": {
            "text/html": [
              "<table class=\"dataframe\">\n",
              "<caption>A tibble: 6 × 11</caption>\n",
              "<thead>\n",
              "\t<tr><th scope=col>id_cliente</th><th scope=col>data_transacao</th><th scope=col>milhas_utilizadas</th><th scope=col>valor_pago</th><th scope=col>classe_voo</th><th scope=col>numero_voo</th><th scope=col>custo_por_milha</th><th scope=col>data_nascimento</th><th scope=col>status_fidelidade</th><th scope=col>milhas_acumuladas</th><th scope=col>gasto_total</th></tr>\n",
              "\t<tr><th scope=col>&lt;dbl&gt;</th><th scope=col>&lt;date&gt;</th><th scope=col>&lt;dbl&gt;</th><th scope=col>&lt;dbl&gt;</th><th scope=col>&lt;chr&gt;</th><th scope=col>&lt;dbl&gt;</th><th scope=col>&lt;dbl&gt;</th><th scope=col>&lt;date&gt;</th><th scope=col>&lt;chr&gt;</th><th scope=col>&lt;dbl&gt;</th><th scope=col>&lt;dbl&gt;</th></tr>\n",
              "</thead>\n",
              "<tbody>\n",
              "\t<tr><td>967</td><td>2022-01-01</td><td>1198</td><td>1217.17</td><td>Economica      </td><td>9302</td><td>1.0160017</td><td>1963-12-21</td><td>Prata   </td><td>7635</td><td> 710.17</td></tr>\n",
              "\t<tr><td>747</td><td>2022-01-01</td><td>8451</td><td>1064.09</td><td>Executiva      </td><td>2381</td><td>0.1259129</td><td>1967-04-16</td><td>Diamante</td><td>1952</td><td> 706.99</td></tr>\n",
              "\t<tr><td>237</td><td>2022-01-01</td><td>7996</td><td>1684.94</td><td>Primeira Classe</td><td> 704</td><td>0.2107229</td><td>1961-07-17</td><td>Ouro    </td><td>5529</td><td>1002.03</td></tr>\n",
              "\t<tr><td>504</td><td>2022-01-02</td><td>6143</td><td> 692.94</td><td>Economica      </td><td>6913</td><td>0.1128016</td><td>1999-02-14</td><td>Diamante</td><td>8871</td><td> 922.06</td></tr>\n",
              "\t<tr><td>840</td><td>2022-01-02</td><td>5267</td><td>1496.54</td><td>Economica      </td><td>9066</td><td>0.2841352</td><td>1983-12-04</td><td>Ouro    </td><td>9589</td><td>1987.85</td></tr>\n",
              "\t<tr><td>396</td><td>2022-01-02</td><td>1929</td><td> 760.04</td><td>Primeira Classe</td><td>9482</td><td>0.3940073</td><td>1972-06-30</td><td>Diamante</td><td>2142</td><td> 285.24</td></tr>\n",
              "</tbody>\n",
              "</table>\n"
            ],
            "text/markdown": "\nA tibble: 6 × 11\n\n| id_cliente &lt;dbl&gt; | data_transacao &lt;date&gt; | milhas_utilizadas &lt;dbl&gt; | valor_pago &lt;dbl&gt; | classe_voo &lt;chr&gt; | numero_voo &lt;dbl&gt; | custo_por_milha &lt;dbl&gt; | data_nascimento &lt;date&gt; | status_fidelidade &lt;chr&gt; | milhas_acumuladas &lt;dbl&gt; | gasto_total &lt;dbl&gt; |\n|---|---|---|---|---|---|---|---|---|---|---|\n| 967 | 2022-01-01 | 1198 | 1217.17 | Economica       | 9302 | 1.0160017 | 1963-12-21 | Prata    | 7635 |  710.17 |\n| 747 | 2022-01-01 | 8451 | 1064.09 | Executiva       | 2381 | 0.1259129 | 1967-04-16 | Diamante | 1952 |  706.99 |\n| 237 | 2022-01-01 | 7996 | 1684.94 | Primeira Classe |  704 | 0.2107229 | 1961-07-17 | Ouro     | 5529 | 1002.03 |\n| 504 | 2022-01-02 | 6143 |  692.94 | Economica       | 6913 | 0.1128016 | 1999-02-14 | Diamante | 8871 |  922.06 |\n| 840 | 2022-01-02 | 5267 | 1496.54 | Economica       | 9066 | 0.2841352 | 1983-12-04 | Ouro     | 9589 | 1987.85 |\n| 396 | 2022-01-02 | 1929 |  760.04 | Primeira Classe | 9482 | 0.3940073 | 1972-06-30 | Diamante | 2142 |  285.24 |\n\n",
            "text/latex": "A tibble: 6 × 11\n\\begin{tabular}{lllllllllll}\n id\\_cliente & data\\_transacao & milhas\\_utilizadas & valor\\_pago & classe\\_voo & numero\\_voo & custo\\_por\\_milha & data\\_nascimento & status\\_fidelidade & milhas\\_acumuladas & gasto\\_total\\\\\n <dbl> & <date> & <dbl> & <dbl> & <chr> & <dbl> & <dbl> & <date> & <chr> & <dbl> & <dbl>\\\\\n\\hline\n\t 967 & 2022-01-01 & 1198 & 1217.17 & Economica       & 9302 & 1.0160017 & 1963-12-21 & Prata    & 7635 &  710.17\\\\\n\t 747 & 2022-01-01 & 8451 & 1064.09 & Executiva       & 2381 & 0.1259129 & 1967-04-16 & Diamante & 1952 &  706.99\\\\\n\t 237 & 2022-01-01 & 7996 & 1684.94 & Primeira Classe &  704 & 0.2107229 & 1961-07-17 & Ouro     & 5529 & 1002.03\\\\\n\t 504 & 2022-01-02 & 6143 &  692.94 & Economica       & 6913 & 0.1128016 & 1999-02-14 & Diamante & 8871 &  922.06\\\\\n\t 840 & 2022-01-02 & 5267 & 1496.54 & Economica       & 9066 & 0.2841352 & 1983-12-04 & Ouro     & 9589 & 1987.85\\\\\n\t 396 & 2022-01-02 & 1929 &  760.04 & Primeira Classe & 9482 & 0.3940073 & 1972-06-30 & Diamante & 2142 &  285.24\\\\\n\\end{tabular}\n",
            "text/plain": [
              "  id_cliente data_transacao milhas_utilizadas valor_pago classe_voo     \n",
              "1 967        2022-01-01     1198              1217.17    Economica      \n",
              "2 747        2022-01-01     8451              1064.09    Executiva      \n",
              "3 237        2022-01-01     7996              1684.94    Primeira Classe\n",
              "4 504        2022-01-02     6143               692.94    Economica      \n",
              "5 840        2022-01-02     5267              1496.54    Economica      \n",
              "6 396        2022-01-02     1929               760.04    Primeira Classe\n",
              "  numero_voo custo_por_milha data_nascimento status_fidelidade\n",
              "1 9302       1.0160017       1963-12-21      Prata            \n",
              "2 2381       0.1259129       1967-04-16      Diamante         \n",
              "3  704       0.2107229       1961-07-17      Ouro             \n",
              "4 6913       0.1128016       1999-02-14      Diamante         \n",
              "5 9066       0.2841352       1983-12-04      Ouro             \n",
              "6 9482       0.3940073       1972-06-30      Diamante         \n",
              "  milhas_acumuladas gasto_total\n",
              "1 7635               710.17    \n",
              "2 1952               706.99    \n",
              "3 5529              1002.03    \n",
              "4 8871               922.06    \n",
              "5 9589              1987.85    \n",
              "6 2142               285.24    "
            ]
          },
          "metadata": {}
        }
      ]
    },
    {
      "cell_type": "code",
      "source": [
        "transacoes_passagens %>% glimpse()"
      ],
      "metadata": {
        "colab": {
          "base_uri": "https://localhost:8080/"
        },
        "id": "nLU1i511Bu0_",
        "outputId": "80009f8e-bffe-4c66-a3e9-4b3f22b93ca5"
      },
      "execution_count": 33,
      "outputs": [
        {
          "output_type": "stream",
          "name": "stdout",
          "text": [
            "Rows: 502\n",
            "Columns: 11\n",
            "$ id_cliente        \u001b[3m\u001b[90m<dbl>\u001b[39m\u001b[23m 967, 747, 237, 504, 840, 396, 108, 893, 755, 166, 71…\n",
            "$ data_transacao    \u001b[3m\u001b[90m<date>\u001b[39m\u001b[23m 2022-01-01, 2022-01-01, 2022-01-01, 2022-01-02, 202…\n",
            "$ milhas_utilizadas \u001b[3m\u001b[90m<dbl>\u001b[39m\u001b[23m 1198, 8451, 7996, 6143, 5267, 1929, 8740, 6757, 6792…\n",
            "$ valor_pago        \u001b[3m\u001b[90m<dbl>\u001b[39m\u001b[23m 1217.17, 1064.09, 1684.94, 692.94, 1496.54, 760.04, …\n",
            "$ classe_voo        \u001b[3m\u001b[90m<chr>\u001b[39m\u001b[23m \"Economica\", \"Executiva\", \"Primeira Classe\", \"Econom…\n",
            "$ numero_voo        \u001b[3m\u001b[90m<dbl>\u001b[39m\u001b[23m 9302, 2381, 704, 6913, 9066, 9482, 3372, 1150, 2190,…\n",
            "$ custo_por_milha   \u001b[3m\u001b[90m<dbl>\u001b[39m\u001b[23m 1.01600167, 0.12591291, 0.21072286, 0.11280156, 0.28…\n",
            "$ data_nascimento   \u001b[3m\u001b[90m<date>\u001b[39m\u001b[23m 1963-12-21, 1967-04-16, 1961-07-17, 1999-02-14, 198…\n",
            "$ status_fidelidade \u001b[3m\u001b[90m<chr>\u001b[39m\u001b[23m \"Prata\", \"Diamante\", \"Ouro\", \"Diamante\", \"Ouro\", \"Di…\n",
            "$ milhas_acumuladas \u001b[3m\u001b[90m<dbl>\u001b[39m\u001b[23m 7635, 1952, 5529, 8871, 9589, 2142, 4546, 5081, 2642…\n",
            "$ gasto_total       \u001b[3m\u001b[90m<dbl>\u001b[39m\u001b[23m 710.17, 706.99, 1002.03, 922.06, 1987.85, 285.24, 19…\n"
          ]
        }
      ]
    },
    {
      "cell_type": "markdown",
      "source": [
        "**Para saber mais: tipos de joins no dplyr**"
      ],
      "metadata": {
        "id": "0XruJ9JJCLoi"
      }
    },
    {
      "cell_type": "markdown",
      "source": [
        "**Inner Join (inner_join)**\n",
        "\n",
        "O inner_join retorna apenas as linhas que possuem correspondências nas duas tabelas. Se não houver correspondência, as linhas são descartadas."
      ],
      "metadata": {
        "id": "5OtwZBK9CPzc"
      }
    },
    {
      "cell_type": "code",
      "source": [
        "# data frames de exemplo\n",
        "clientes_exemplo <- data.frame(ID_cliente = c(1, 2, 3, 4),\n",
        "                       nome = c(\"Alice\", \"Bruno\", \"Carlos\", \"Diana\"))\n",
        "\n",
        "compras_exemplo <- data.frame(ID_cliente = c(2, 3, 5),\n",
        "                      produto = c(\"Livro\", \"Caderno\", \"Caneta\"))"
      ],
      "metadata": {
        "id": "ZNqMANzlCRnE"
      },
      "execution_count": 34,
      "outputs": []
    },
    {
      "cell_type": "code",
      "source": [
        "clientes_exemplo %>% head()"
      ],
      "metadata": {
        "colab": {
          "base_uri": "https://localhost:8080/",
          "height": 224
        },
        "id": "Ea2r7_4MCcIk",
        "outputId": "d5366d9f-17dd-4a1e-e29f-f0be2b05d6d1"
      },
      "execution_count": 35,
      "outputs": [
        {
          "output_type": "display_data",
          "data": {
            "text/html": [
              "<table class=\"dataframe\">\n",
              "<caption>A data.frame: 4 × 2</caption>\n",
              "<thead>\n",
              "\t<tr><th></th><th scope=col>ID_cliente</th><th scope=col>nome</th></tr>\n",
              "\t<tr><th></th><th scope=col>&lt;dbl&gt;</th><th scope=col>&lt;chr&gt;</th></tr>\n",
              "</thead>\n",
              "<tbody>\n",
              "\t<tr><th scope=row>1</th><td>1</td><td>Alice </td></tr>\n",
              "\t<tr><th scope=row>2</th><td>2</td><td>Bruno </td></tr>\n",
              "\t<tr><th scope=row>3</th><td>3</td><td>Carlos</td></tr>\n",
              "\t<tr><th scope=row>4</th><td>4</td><td>Diana </td></tr>\n",
              "</tbody>\n",
              "</table>\n"
            ],
            "text/markdown": "\nA data.frame: 4 × 2\n\n| <!--/--> | ID_cliente &lt;dbl&gt; | nome &lt;chr&gt; |\n|---|---|---|\n| 1 | 1 | Alice  |\n| 2 | 2 | Bruno  |\n| 3 | 3 | Carlos |\n| 4 | 4 | Diana  |\n\n",
            "text/latex": "A data.frame: 4 × 2\n\\begin{tabular}{r|ll}\n  & ID\\_cliente & nome\\\\\n  & <dbl> & <chr>\\\\\n\\hline\n\t1 & 1 & Alice \\\\\n\t2 & 2 & Bruno \\\\\n\t3 & 3 & Carlos\\\\\n\t4 & 4 & Diana \\\\\n\\end{tabular}\n",
            "text/plain": [
              "  ID_cliente nome  \n",
              "1 1          Alice \n",
              "2 2          Bruno \n",
              "3 3          Carlos\n",
              "4 4          Diana "
            ]
          },
          "metadata": {}
        }
      ]
    },
    {
      "cell_type": "code",
      "source": [
        "compras_exemplo %>% head()"
      ],
      "metadata": {
        "colab": {
          "base_uri": "https://localhost:8080/",
          "height": 192
        },
        "id": "S-2o5QhVChxK",
        "outputId": "8ee88f56-1844-4674-9a76-a43cb2085a31"
      },
      "execution_count": 36,
      "outputs": [
        {
          "output_type": "display_data",
          "data": {
            "text/html": [
              "<table class=\"dataframe\">\n",
              "<caption>A data.frame: 3 × 2</caption>\n",
              "<thead>\n",
              "\t<tr><th></th><th scope=col>ID_cliente</th><th scope=col>produto</th></tr>\n",
              "\t<tr><th></th><th scope=col>&lt;dbl&gt;</th><th scope=col>&lt;chr&gt;</th></tr>\n",
              "</thead>\n",
              "<tbody>\n",
              "\t<tr><th scope=row>1</th><td>2</td><td>Livro  </td></tr>\n",
              "\t<tr><th scope=row>2</th><td>3</td><td>Caderno</td></tr>\n",
              "\t<tr><th scope=row>3</th><td>5</td><td>Caneta </td></tr>\n",
              "</tbody>\n",
              "</table>\n"
            ],
            "text/markdown": "\nA data.frame: 3 × 2\n\n| <!--/--> | ID_cliente &lt;dbl&gt; | produto &lt;chr&gt; |\n|---|---|---|\n| 1 | 2 | Livro   |\n| 2 | 3 | Caderno |\n| 3 | 5 | Caneta  |\n\n",
            "text/latex": "A data.frame: 3 × 2\n\\begin{tabular}{r|ll}\n  & ID\\_cliente & produto\\\\\n  & <dbl> & <chr>\\\\\n\\hline\n\t1 & 2 & Livro  \\\\\n\t2 & 3 & Caderno\\\\\n\t3 & 5 & Caneta \\\\\n\\end{tabular}\n",
            "text/plain": [
              "  ID_cliente produto\n",
              "1 2          Livro  \n",
              "2 3          Caderno\n",
              "3 5          Caneta "
            ]
          },
          "metadata": {}
        }
      ]
    },
    {
      "cell_type": "code",
      "source": [
        "# Aplicando o inner_join\n",
        "inner <- inner_join(clientes_exemplo, compras_exemplo, by = \"ID_cliente\")\n",
        "print(inner)"
      ],
      "metadata": {
        "colab": {
          "base_uri": "https://localhost:8080/"
        },
        "id": "bmJ2ALbDCklZ",
        "outputId": "060d2158-9127-42b5-d759-ade11cc5aecf"
      },
      "execution_count": 37,
      "outputs": [
        {
          "output_type": "stream",
          "name": "stdout",
          "text": [
            "  ID_cliente   nome produto\n",
            "1          2  Bruno   Livro\n",
            "2          3 Carlos Caderno\n"
          ]
        }
      ]
    },
    {
      "cell_type": "markdown",
      "source": [
        "**Left Join (left_join)**\n",
        "\n",
        "O left_join retorna todas as linhas da tabela da esquerda (primeira tabela) e as correspondências da tabela da direita (segunda tabela). Se não houver correspondência, os valores da tabela da direita serão NA."
      ],
      "metadata": {
        "id": "gygDDKEJC8KV"
      }
    },
    {
      "cell_type": "code",
      "source": [
        "# Aplicando o left_join\n",
        "left <- left_join(clientes_exemplo, compras_exemplo, by = \"ID_cliente\")\n",
        "print(left)"
      ],
      "metadata": {
        "colab": {
          "base_uri": "https://localhost:8080/"
        },
        "id": "YmBpz3TrDHAj",
        "outputId": "0f3680e0-5d7c-4347-fee9-8ee1c295f7da"
      },
      "execution_count": 38,
      "outputs": [
        {
          "output_type": "stream",
          "name": "stdout",
          "text": [
            "  ID_cliente   nome produto\n",
            "1          1  Alice    <NA>\n",
            "2          2  Bruno   Livro\n",
            "3          3 Carlos Caderno\n",
            "4          4  Diana    <NA>\n"
          ]
        }
      ]
    },
    {
      "cell_type": "markdown",
      "source": [
        "**Right Join (right_join)**\n",
        "\n",
        "O right_join retorna todas as linhas da tabela da direita (segunda tabela) e as correspondências da tabela da esquerda (primeira tabela). Onde não houver correspondência, os valores da tabela da esquerda serão NA."
      ],
      "metadata": {
        "id": "Fx4mImpODV55"
      }
    },
    {
      "cell_type": "code",
      "source": [
        "# Aplicando o right_join\n",
        "right <- right_join(clientes_exemplo, compras_exemplo, by = \"ID_cliente\")\n",
        "print(right)"
      ],
      "metadata": {
        "colab": {
          "base_uri": "https://localhost:8080/"
        },
        "id": "GcdyY6WcDXnl",
        "outputId": "eb92b2ce-43c7-49b4-8caa-6dc768b18ef0"
      },
      "execution_count": 39,
      "outputs": [
        {
          "output_type": "stream",
          "name": "stdout",
          "text": [
            "  ID_cliente   nome produto\n",
            "1          2  Bruno   Livro\n",
            "2          3 Carlos Caderno\n",
            "3          5   <NA>  Caneta\n"
          ]
        }
      ]
    },
    {
      "cell_type": "markdown",
      "source": [
        "**Full Join (full_join)**\n",
        "\n",
        "O full_join retorna todas as linhas das duas tabelas, preenchendo com NA onde não houver correspondência."
      ],
      "metadata": {
        "id": "venTV3QuDeHY"
      }
    },
    {
      "cell_type": "code",
      "source": [
        "# Aplicando o full_join\n",
        "full <- full_join(clientes_exemplo, compras_exemplo, by = \"ID_cliente\")\n",
        "print(full)"
      ],
      "metadata": {
        "colab": {
          "base_uri": "https://localhost:8080/"
        },
        "id": "ODd7da5eDfz9",
        "outputId": "12dd7da4-6efc-43a9-b5b3-4b6a4251f74d"
      },
      "execution_count": 40,
      "outputs": [
        {
          "output_type": "stream",
          "name": "stdout",
          "text": [
            "  ID_cliente   nome produto\n",
            "1          1  Alice    <NA>\n",
            "2          2  Bruno   Livro\n",
            "3          3 Carlos Caderno\n",
            "4          4  Diana    <NA>\n",
            "5          5   <NA>  Caneta\n"
          ]
        }
      ]
    },
    {
      "cell_type": "markdown",
      "source": [
        "**Semi Join (semi_join)**\n",
        "\n",
        "O semi_join retorna todas as linhas da tabela da esquerda que possuem correspondências na tabela da direita, mas apenas as colunas da tabela da esquerda."
      ],
      "metadata": {
        "id": "ZhkiZsk6Dm44"
      }
    },
    {
      "cell_type": "code",
      "source": [
        "# Aplicando o semi_join\n",
        "semi <- semi_join(clientes_exemplo, compras_exemplo, by = \"ID_cliente\")\n",
        "print(semi)"
      ],
      "metadata": {
        "colab": {
          "base_uri": "https://localhost:8080/"
        },
        "id": "VmtoiwMqDpcW",
        "outputId": "4986bd07-c7db-49fa-8b26-7d0981a39ca0"
      },
      "execution_count": 41,
      "outputs": [
        {
          "output_type": "stream",
          "name": "stdout",
          "text": [
            "  ID_cliente   nome\n",
            "1          2  Bruno\n",
            "2          3 Carlos\n"
          ]
        }
      ]
    },
    {
      "cell_type": "markdown",
      "source": [
        "**Anti Join (anti_join)**\n",
        "\n",
        "O anti_join retorna as linhas da tabela da esquerda que não possuem correspondências na tabela da direita."
      ],
      "metadata": {
        "id": "AKuuu_FnDvSC"
      }
    },
    {
      "cell_type": "code",
      "source": [
        "# Aplicando o anti_join\n",
        "anti <- anti_join(clientes_exemplo, compras_exemplo, by = \"ID_cliente\")\n",
        "print(anti)"
      ],
      "metadata": {
        "colab": {
          "base_uri": "https://localhost:8080/"
        },
        "id": "AxrrAcODDxqG",
        "outputId": "271b66ce-8aa1-4ca1-f9b8-2910996f73e0"
      },
      "execution_count": 42,
      "outputs": [
        {
          "output_type": "stream",
          "name": "stdout",
          "text": [
            "  ID_cliente  nome\n",
            "1          1 Alice\n",
            "2          4 Diana\n"
          ]
        }
      ]
    },
    {
      "cell_type": "markdown",
      "source": [
        "**Resumo**\n",
        "\n",
        "**inner_join:** Retorna apenas as correspondências de ambas as tabelas.\n",
        "\n",
        "**left_join:** Retorna todas as linhas da tabela da esquerda com as correspondências da direita.\n",
        "\n",
        "**right_join:** Retorna todas as linhas da tabela da direita com as correspondências da esquerda.\n",
        "\n",
        "**full_join:** Retorna todas as linhas de ambas as tabelas, preenchendo com NA onde não houver correspondência.\n",
        "\n",
        "**semi_join:** Retorna apenas as linhas da tabela da esquerda que possuem correspondências na tabela da direita.\n",
        "\n",
        "**anti_join:** Retorna apenas as linhas da tabela da esquerda que não possuem correspondências na tabela da direita."
      ],
      "metadata": {
        "id": "Mh6adgNDD45W"
      }
    },
    {
      "cell_type": "markdown",
      "source": [
        "**Renomear colunas**"
      ],
      "metadata": {
        "id": "lrrRBpbW13Wb"
      }
    },
    {
      "cell_type": "code",
      "source": [
        "transacoes_passagens <- transacoes_passagens %>%\n",
        "  rename(\n",
        "  Data_Compra_Passagem = data_transacao,\n",
        "  Milhas_Utilizadas = milhas_utilizadas,\n",
        "  Valor_Pago = valor_pago,\n",
        "  Custo_Por_Milha = custo_por_milha,\n",
        "  Data_Nascimento = data_nascimento,\n",
        "  Status_Fidelidade = status_fidelidade,\n",
        "  Milhas_Acumuladas = milhas_acumuladas,\n",
        "  Gasto_Total = gasto_total\n",
        "  )"
      ],
      "metadata": {
        "id": "puodSQtj17E6"
      },
      "execution_count": 43,
      "outputs": []
    },
    {
      "cell_type": "code",
      "source": [
        "transacoes_passagens %>% head()"
      ],
      "metadata": {
        "colab": {
          "base_uri": "https://localhost:8080/",
          "height": 341
        },
        "id": "jRM5bcGq2NMi",
        "outputId": "b77cc549-4e03-41cf-d008-9724c60fdae0"
      },
      "execution_count": 44,
      "outputs": [
        {
          "output_type": "display_data",
          "data": {
            "text/html": [
              "<table class=\"dataframe\">\n",
              "<caption>A tibble: 6 × 11</caption>\n",
              "<thead>\n",
              "\t<tr><th scope=col>id_cliente</th><th scope=col>Data_Compra_Passagem</th><th scope=col>Milhas_Utilizadas</th><th scope=col>Valor_Pago</th><th scope=col>classe_voo</th><th scope=col>numero_voo</th><th scope=col>Custo_Por_Milha</th><th scope=col>Data_Nascimento</th><th scope=col>Status_Fidelidade</th><th scope=col>Milhas_Acumuladas</th><th scope=col>Gasto_Total</th></tr>\n",
              "\t<tr><th scope=col>&lt;dbl&gt;</th><th scope=col>&lt;date&gt;</th><th scope=col>&lt;dbl&gt;</th><th scope=col>&lt;dbl&gt;</th><th scope=col>&lt;chr&gt;</th><th scope=col>&lt;dbl&gt;</th><th scope=col>&lt;dbl&gt;</th><th scope=col>&lt;date&gt;</th><th scope=col>&lt;chr&gt;</th><th scope=col>&lt;dbl&gt;</th><th scope=col>&lt;dbl&gt;</th></tr>\n",
              "</thead>\n",
              "<tbody>\n",
              "\t<tr><td>967</td><td>2022-01-01</td><td>1198</td><td>1217.17</td><td>Economica      </td><td>9302</td><td>1.0160017</td><td>1963-12-21</td><td>Prata   </td><td>7635</td><td> 710.17</td></tr>\n",
              "\t<tr><td>747</td><td>2022-01-01</td><td>8451</td><td>1064.09</td><td>Executiva      </td><td>2381</td><td>0.1259129</td><td>1967-04-16</td><td>Diamante</td><td>1952</td><td> 706.99</td></tr>\n",
              "\t<tr><td>237</td><td>2022-01-01</td><td>7996</td><td>1684.94</td><td>Primeira Classe</td><td> 704</td><td>0.2107229</td><td>1961-07-17</td><td>Ouro    </td><td>5529</td><td>1002.03</td></tr>\n",
              "\t<tr><td>504</td><td>2022-01-02</td><td>6143</td><td> 692.94</td><td>Economica      </td><td>6913</td><td>0.1128016</td><td>1999-02-14</td><td>Diamante</td><td>8871</td><td> 922.06</td></tr>\n",
              "\t<tr><td>840</td><td>2022-01-02</td><td>5267</td><td>1496.54</td><td>Economica      </td><td>9066</td><td>0.2841352</td><td>1983-12-04</td><td>Ouro    </td><td>9589</td><td>1987.85</td></tr>\n",
              "\t<tr><td>396</td><td>2022-01-02</td><td>1929</td><td> 760.04</td><td>Primeira Classe</td><td>9482</td><td>0.3940073</td><td>1972-06-30</td><td>Diamante</td><td>2142</td><td> 285.24</td></tr>\n",
              "</tbody>\n",
              "</table>\n"
            ],
            "text/markdown": "\nA tibble: 6 × 11\n\n| id_cliente &lt;dbl&gt; | Data_Compra_Passagem &lt;date&gt; | Milhas_Utilizadas &lt;dbl&gt; | Valor_Pago &lt;dbl&gt; | classe_voo &lt;chr&gt; | numero_voo &lt;dbl&gt; | Custo_Por_Milha &lt;dbl&gt; | Data_Nascimento &lt;date&gt; | Status_Fidelidade &lt;chr&gt; | Milhas_Acumuladas &lt;dbl&gt; | Gasto_Total &lt;dbl&gt; |\n|---|---|---|---|---|---|---|---|---|---|---|\n| 967 | 2022-01-01 | 1198 | 1217.17 | Economica       | 9302 | 1.0160017 | 1963-12-21 | Prata    | 7635 |  710.17 |\n| 747 | 2022-01-01 | 8451 | 1064.09 | Executiva       | 2381 | 0.1259129 | 1967-04-16 | Diamante | 1952 |  706.99 |\n| 237 | 2022-01-01 | 7996 | 1684.94 | Primeira Classe |  704 | 0.2107229 | 1961-07-17 | Ouro     | 5529 | 1002.03 |\n| 504 | 2022-01-02 | 6143 |  692.94 | Economica       | 6913 | 0.1128016 | 1999-02-14 | Diamante | 8871 |  922.06 |\n| 840 | 2022-01-02 | 5267 | 1496.54 | Economica       | 9066 | 0.2841352 | 1983-12-04 | Ouro     | 9589 | 1987.85 |\n| 396 | 2022-01-02 | 1929 |  760.04 | Primeira Classe | 9482 | 0.3940073 | 1972-06-30 | Diamante | 2142 |  285.24 |\n\n",
            "text/latex": "A tibble: 6 × 11\n\\begin{tabular}{lllllllllll}\n id\\_cliente & Data\\_Compra\\_Passagem & Milhas\\_Utilizadas & Valor\\_Pago & classe\\_voo & numero\\_voo & Custo\\_Por\\_Milha & Data\\_Nascimento & Status\\_Fidelidade & Milhas\\_Acumuladas & Gasto\\_Total\\\\\n <dbl> & <date> & <dbl> & <dbl> & <chr> & <dbl> & <dbl> & <date> & <chr> & <dbl> & <dbl>\\\\\n\\hline\n\t 967 & 2022-01-01 & 1198 & 1217.17 & Economica       & 9302 & 1.0160017 & 1963-12-21 & Prata    & 7635 &  710.17\\\\\n\t 747 & 2022-01-01 & 8451 & 1064.09 & Executiva       & 2381 & 0.1259129 & 1967-04-16 & Diamante & 1952 &  706.99\\\\\n\t 237 & 2022-01-01 & 7996 & 1684.94 & Primeira Classe &  704 & 0.2107229 & 1961-07-17 & Ouro     & 5529 & 1002.03\\\\\n\t 504 & 2022-01-02 & 6143 &  692.94 & Economica       & 6913 & 0.1128016 & 1999-02-14 & Diamante & 8871 &  922.06\\\\\n\t 840 & 2022-01-02 & 5267 & 1496.54 & Economica       & 9066 & 0.2841352 & 1983-12-04 & Ouro     & 9589 & 1987.85\\\\\n\t 396 & 2022-01-02 & 1929 &  760.04 & Primeira Classe & 9482 & 0.3940073 & 1972-06-30 & Diamante & 2142 &  285.24\\\\\n\\end{tabular}\n",
            "text/plain": [
              "  id_cliente Data_Compra_Passagem Milhas_Utilizadas Valor_Pago classe_voo     \n",
              "1 967        2022-01-01           1198              1217.17    Economica      \n",
              "2 747        2022-01-01           8451              1064.09    Executiva      \n",
              "3 237        2022-01-01           7996              1684.94    Primeira Classe\n",
              "4 504        2022-01-02           6143               692.94    Economica      \n",
              "5 840        2022-01-02           5267              1496.54    Economica      \n",
              "6 396        2022-01-02           1929               760.04    Primeira Classe\n",
              "  numero_voo Custo_Por_Milha Data_Nascimento Status_Fidelidade\n",
              "1 9302       1.0160017       1963-12-21      Prata            \n",
              "2 2381       0.1259129       1967-04-16      Diamante         \n",
              "3  704       0.2107229       1961-07-17      Ouro             \n",
              "4 6913       0.1128016       1999-02-14      Diamante         \n",
              "5 9066       0.2841352       1983-12-04      Ouro             \n",
              "6 9482       0.3940073       1972-06-30      Diamante         \n",
              "  Milhas_Acumuladas Gasto_Total\n",
              "1 7635               710.17    \n",
              "2 1952               706.99    \n",
              "3 5529              1002.03    \n",
              "4 8871               922.06    \n",
              "5 9589              1987.85    \n",
              "6 2142               285.24    "
            ]
          },
          "metadata": {}
        }
      ]
    },
    {
      "cell_type": "code",
      "source": [
        "transacoes_passagens %>%\n",
        "  count(id_cliente) %>%\n",
        "  rename(Total_Compras=n) %>%\n",
        "  arrange(desc(Total_Compras)) %>%\n",
        "  head()\n"
      ],
      "metadata": {
        "colab": {
          "base_uri": "https://localhost:8080/",
          "height": 286
        },
        "id": "TjjXPy9n2PVS",
        "outputId": "8f13cbc3-5299-4c24-c44d-ceaaeb1b1cd0"
      },
      "execution_count": 45,
      "outputs": [
        {
          "output_type": "display_data",
          "data": {
            "text/html": [
              "<table class=\"dataframe\">\n",
              "<caption>A tibble: 6 × 2</caption>\n",
              "<thead>\n",
              "\t<tr><th scope=col>id_cliente</th><th scope=col>Total_Compras</th></tr>\n",
              "\t<tr><th scope=col>&lt;dbl&gt;</th><th scope=col>&lt;int&gt;</th></tr>\n",
              "</thead>\n",
              "<tbody>\n",
              "\t<tr><td>586</td><td>5</td></tr>\n",
              "\t<tr><td>544</td><td>4</td></tr>\n",
              "\t<tr><td>861</td><td>4</td></tr>\n",
              "\t<tr><td>175</td><td>3</td></tr>\n",
              "\t<tr><td>207</td><td>3</td></tr>\n",
              "\t<tr><td>239</td><td>3</td></tr>\n",
              "</tbody>\n",
              "</table>\n"
            ],
            "text/markdown": "\nA tibble: 6 × 2\n\n| id_cliente &lt;dbl&gt; | Total_Compras &lt;int&gt; |\n|---|---|\n| 586 | 5 |\n| 544 | 4 |\n| 861 | 4 |\n| 175 | 3 |\n| 207 | 3 |\n| 239 | 3 |\n\n",
            "text/latex": "A tibble: 6 × 2\n\\begin{tabular}{ll}\n id\\_cliente & Total\\_Compras\\\\\n <dbl> & <int>\\\\\n\\hline\n\t 586 & 5\\\\\n\t 544 & 4\\\\\n\t 861 & 4\\\\\n\t 175 & 3\\\\\n\t 207 & 3\\\\\n\t 239 & 3\\\\\n\\end{tabular}\n",
            "text/plain": [
              "  id_cliente Total_Compras\n",
              "1 586        5            \n",
              "2 544        4            \n",
              "3 861        4            \n",
              "4 175        3            \n",
              "5 207        3            \n",
              "6 239        3            "
            ]
          },
          "metadata": {}
        }
      ]
    },
    {
      "cell_type": "markdown",
      "source": [
        "# Aplicando técnicas de transformação de dados"
      ],
      "metadata": {
        "id": "Mo4aTa-fUnB4"
      }
    },
    {
      "cell_type": "markdown",
      "source": [
        "**Contar número de compras por cliente**"
      ],
      "metadata": {
        "id": "QxrXN_RmYCtr"
      }
    },
    {
      "cell_type": "code",
      "source": [
        "dados_milhas <- transacoes_passagens %>%\n",
        "  select(id_cliente, Milhas_Utilizadas)"
      ],
      "metadata": {
        "id": "Rkm4w_24Usv4"
      },
      "execution_count": 46,
      "outputs": []
    },
    {
      "cell_type": "code",
      "source": [
        "dados_milhas %>% head()"
      ],
      "metadata": {
        "colab": {
          "base_uri": "https://localhost:8080/",
          "height": 286
        },
        "id": "64GnBGDCW21j",
        "outputId": "abec0d56-cca0-438d-86d1-a9bae75bc46e"
      },
      "execution_count": 47,
      "outputs": [
        {
          "output_type": "display_data",
          "data": {
            "text/html": [
              "<table class=\"dataframe\">\n",
              "<caption>A tibble: 6 × 2</caption>\n",
              "<thead>\n",
              "\t<tr><th scope=col>id_cliente</th><th scope=col>Milhas_Utilizadas</th></tr>\n",
              "\t<tr><th scope=col>&lt;dbl&gt;</th><th scope=col>&lt;dbl&gt;</th></tr>\n",
              "</thead>\n",
              "<tbody>\n",
              "\t<tr><td>967</td><td>1198</td></tr>\n",
              "\t<tr><td>747</td><td>8451</td></tr>\n",
              "\t<tr><td>237</td><td>7996</td></tr>\n",
              "\t<tr><td>504</td><td>6143</td></tr>\n",
              "\t<tr><td>840</td><td>5267</td></tr>\n",
              "\t<tr><td>396</td><td>1929</td></tr>\n",
              "</tbody>\n",
              "</table>\n"
            ],
            "text/markdown": "\nA tibble: 6 × 2\n\n| id_cliente &lt;dbl&gt; | Milhas_Utilizadas &lt;dbl&gt; |\n|---|---|\n| 967 | 1198 |\n| 747 | 8451 |\n| 237 | 7996 |\n| 504 | 6143 |\n| 840 | 5267 |\n| 396 | 1929 |\n\n",
            "text/latex": "A tibble: 6 × 2\n\\begin{tabular}{ll}\n id\\_cliente & Milhas\\_Utilizadas\\\\\n <dbl> & <dbl>\\\\\n\\hline\n\t 967 & 1198\\\\\n\t 747 & 8451\\\\\n\t 237 & 7996\\\\\n\t 504 & 6143\\\\\n\t 840 & 5267\\\\\n\t 396 & 1929\\\\\n\\end{tabular}\n",
            "text/plain": [
              "  id_cliente Milhas_Utilizadas\n",
              "1 967        1198             \n",
              "2 747        8451             \n",
              "3 237        7996             \n",
              "4 504        6143             \n",
              "5 840        5267             \n",
              "6 396        1929             "
            ]
          },
          "metadata": {}
        }
      ]
    },
    {
      "cell_type": "code",
      "source": [
        "total_de_milhas_por_cliente <- dados_milhas %>%\n",
        "  group_by(id_cliente) %>%\n",
        "  summarise(total_milhas = sum(Milhas_Utilizadas))"
      ],
      "metadata": {
        "id": "JKm5OF5oWyBr"
      },
      "execution_count": 48,
      "outputs": []
    },
    {
      "cell_type": "code",
      "source": [
        "total_de_milhas_por_cliente %>% head()"
      ],
      "metadata": {
        "colab": {
          "base_uri": "https://localhost:8080/",
          "height": 286
        },
        "id": "xQPzY6l4XRpN",
        "outputId": "1a1f897f-995f-47aa-d9f7-ccc74c6d3b18"
      },
      "execution_count": 49,
      "outputs": [
        {
          "output_type": "display_data",
          "data": {
            "text/html": [
              "<table class=\"dataframe\">\n",
              "<caption>A tibble: 6 × 2</caption>\n",
              "<thead>\n",
              "\t<tr><th scope=col>id_cliente</th><th scope=col>total_milhas</th></tr>\n",
              "\t<tr><th scope=col>&lt;dbl&gt;</th><th scope=col>&lt;dbl&gt;</th></tr>\n",
              "</thead>\n",
              "<tbody>\n",
              "\t<tr><td> 3</td><td> 1023</td></tr>\n",
              "\t<tr><td> 7</td><td>14149</td></tr>\n",
              "\t<tr><td>10</td><td> 6537</td></tr>\n",
              "\t<tr><td>12</td><td> 9312</td></tr>\n",
              "\t<tr><td>13</td><td> 4123</td></tr>\n",
              "\t<tr><td>15</td><td> 7541</td></tr>\n",
              "</tbody>\n",
              "</table>\n"
            ],
            "text/markdown": "\nA tibble: 6 × 2\n\n| id_cliente &lt;dbl&gt; | total_milhas &lt;dbl&gt; |\n|---|---|\n|  3 |  1023 |\n|  7 | 14149 |\n| 10 |  6537 |\n| 12 |  9312 |\n| 13 |  4123 |\n| 15 |  7541 |\n\n",
            "text/latex": "A tibble: 6 × 2\n\\begin{tabular}{ll}\n id\\_cliente & total\\_milhas\\\\\n <dbl> & <dbl>\\\\\n\\hline\n\t  3 &  1023\\\\\n\t  7 & 14149\\\\\n\t 10 &  6537\\\\\n\t 12 &  9312\\\\\n\t 13 &  4123\\\\\n\t 15 &  7541\\\\\n\\end{tabular}\n",
            "text/plain": [
              "  id_cliente total_milhas\n",
              "1  3          1023       \n",
              "2  7         14149       \n",
              "3 10          6537       \n",
              "4 12          9312       \n",
              "5 13          4123       \n",
              "6 15          7541       "
            ]
          },
          "metadata": {}
        }
      ]
    },
    {
      "cell_type": "code",
      "source": [
        "total_de_milhas_por_cliente %>%\n",
        "    arrange(desc(total_milhas)) %>%\n",
        "    head()"
      ],
      "metadata": {
        "colab": {
          "base_uri": "https://localhost:8080/",
          "height": 286
        },
        "id": "pzcBEgFlXhD0",
        "outputId": "e2e39351-dc34-4d46-a22c-194401e0d992"
      },
      "execution_count": 50,
      "outputs": [
        {
          "output_type": "display_data",
          "data": {
            "text/html": [
              "<table class=\"dataframe\">\n",
              "<caption>A tibble: 6 × 2</caption>\n",
              "<thead>\n",
              "\t<tr><th scope=col>id_cliente</th><th scope=col>total_milhas</th></tr>\n",
              "\t<tr><th scope=col>&lt;dbl&gt;</th><th scope=col>&lt;dbl&gt;</th></tr>\n",
              "</thead>\n",
              "<tbody>\n",
              "\t<tr><td>544</td><td>28726</td></tr>\n",
              "\t<tr><td>572</td><td>22209</td></tr>\n",
              "\t<tr><td>890</td><td>19566</td></tr>\n",
              "\t<tr><td> 96</td><td>19047</td></tr>\n",
              "\t<tr><td>945</td><td>18514</td></tr>\n",
              "\t<tr><td> 32</td><td>18126</td></tr>\n",
              "</tbody>\n",
              "</table>\n"
            ],
            "text/markdown": "\nA tibble: 6 × 2\n\n| id_cliente &lt;dbl&gt; | total_milhas &lt;dbl&gt; |\n|---|---|\n| 544 | 28726 |\n| 572 | 22209 |\n| 890 | 19566 |\n|  96 | 19047 |\n| 945 | 18514 |\n|  32 | 18126 |\n\n",
            "text/latex": "A tibble: 6 × 2\n\\begin{tabular}{ll}\n id\\_cliente & total\\_milhas\\\\\n <dbl> & <dbl>\\\\\n\\hline\n\t 544 & 28726\\\\\n\t 572 & 22209\\\\\n\t 890 & 19566\\\\\n\t  96 & 19047\\\\\n\t 945 & 18514\\\\\n\t  32 & 18126\\\\\n\\end{tabular}\n",
            "text/plain": [
              "  id_cliente total_milhas\n",
              "1 544        28726       \n",
              "2 572        22209       \n",
              "3 890        19566       \n",
              "4  96        19047       \n",
              "5 945        18514       \n",
              "6  32        18126       "
            ]
          },
          "metadata": {}
        }
      ]
    },
    {
      "cell_type": "markdown",
      "source": [
        "**Criação de novas colunas e classificação**"
      ],
      "metadata": {
        "id": "VSzNslIIZJWM"
      }
    },
    {
      "cell_type": "markdown",
      "source": [
        "Categorização de Clientes por Milhas Utilizadas:\n",
        "\n",
        "No dataset de transações, os clientes podem ser categorizados em três grupos com base no número de **Milhas Utilizadas** nas transações:\n",
        "\n",
        "- **Baixo**: Clientes que utilizaram **menos de 2.000 milhas**.\n",
        "- **Médio**: Clientes que utilizaram **entre 2.000 e 4.999 milhas**.\n",
        "- **Alto**: Clientes que utilizaram **5.000 milhas ou mais**.\n",
        "\n",
        "Essa categorização facilita a análise do perfil de consumo de milhas, ajudando a segmentar clientes de acordo com seu volume de uso."
      ],
      "metadata": {
        "id": "KKiFeE5hZ0MY"
      }
    },
    {
      "cell_type": "code",
      "source": [
        "transacoes_passagens <- transacoes_passagens %>% mutate(categoria_cliente = case_when(\n",
        "  Milhas_Utilizadas < 2000 ~ 'Baixo',\n",
        "  Milhas_Utilizadas < 5000 ~ 'Médio',\n",
        "  TRUE ~ 'Alto'\n",
        "))"
      ],
      "metadata": {
        "id": "Hu0_sCInZ5-a"
      },
      "execution_count": 51,
      "outputs": []
    },
    {
      "cell_type": "code",
      "source": [
        "transacoes_passagens %>% head()"
      ],
      "metadata": {
        "colab": {
          "base_uri": "https://localhost:8080/",
          "height": 341
        },
        "id": "W__7tfXcZ9_p",
        "outputId": "3efddcbe-762d-4d00-e978-ec337935bdfe"
      },
      "execution_count": 52,
      "outputs": [
        {
          "output_type": "display_data",
          "data": {
            "text/html": [
              "<table class=\"dataframe\">\n",
              "<caption>A tibble: 6 × 12</caption>\n",
              "<thead>\n",
              "\t<tr><th scope=col>id_cliente</th><th scope=col>Data_Compra_Passagem</th><th scope=col>Milhas_Utilizadas</th><th scope=col>Valor_Pago</th><th scope=col>classe_voo</th><th scope=col>numero_voo</th><th scope=col>Custo_Por_Milha</th><th scope=col>Data_Nascimento</th><th scope=col>Status_Fidelidade</th><th scope=col>Milhas_Acumuladas</th><th scope=col>Gasto_Total</th><th scope=col>categoria_cliente</th></tr>\n",
              "\t<tr><th scope=col>&lt;dbl&gt;</th><th scope=col>&lt;date&gt;</th><th scope=col>&lt;dbl&gt;</th><th scope=col>&lt;dbl&gt;</th><th scope=col>&lt;chr&gt;</th><th scope=col>&lt;dbl&gt;</th><th scope=col>&lt;dbl&gt;</th><th scope=col>&lt;date&gt;</th><th scope=col>&lt;chr&gt;</th><th scope=col>&lt;dbl&gt;</th><th scope=col>&lt;dbl&gt;</th><th scope=col>&lt;chr&gt;</th></tr>\n",
              "</thead>\n",
              "<tbody>\n",
              "\t<tr><td>967</td><td>2022-01-01</td><td>1198</td><td>1217.17</td><td>Economica      </td><td>9302</td><td>1.0160017</td><td>1963-12-21</td><td>Prata   </td><td>7635</td><td> 710.17</td><td>Baixo</td></tr>\n",
              "\t<tr><td>747</td><td>2022-01-01</td><td>8451</td><td>1064.09</td><td>Executiva      </td><td>2381</td><td>0.1259129</td><td>1967-04-16</td><td>Diamante</td><td>1952</td><td> 706.99</td><td>Alto </td></tr>\n",
              "\t<tr><td>237</td><td>2022-01-01</td><td>7996</td><td>1684.94</td><td>Primeira Classe</td><td> 704</td><td>0.2107229</td><td>1961-07-17</td><td>Ouro    </td><td>5529</td><td>1002.03</td><td>Alto </td></tr>\n",
              "\t<tr><td>504</td><td>2022-01-02</td><td>6143</td><td> 692.94</td><td>Economica      </td><td>6913</td><td>0.1128016</td><td>1999-02-14</td><td>Diamante</td><td>8871</td><td> 922.06</td><td>Alto </td></tr>\n",
              "\t<tr><td>840</td><td>2022-01-02</td><td>5267</td><td>1496.54</td><td>Economica      </td><td>9066</td><td>0.2841352</td><td>1983-12-04</td><td>Ouro    </td><td>9589</td><td>1987.85</td><td>Alto </td></tr>\n",
              "\t<tr><td>396</td><td>2022-01-02</td><td>1929</td><td> 760.04</td><td>Primeira Classe</td><td>9482</td><td>0.3940073</td><td>1972-06-30</td><td>Diamante</td><td>2142</td><td> 285.24</td><td>Baixo</td></tr>\n",
              "</tbody>\n",
              "</table>\n"
            ],
            "text/markdown": "\nA tibble: 6 × 12\n\n| id_cliente &lt;dbl&gt; | Data_Compra_Passagem &lt;date&gt; | Milhas_Utilizadas &lt;dbl&gt; | Valor_Pago &lt;dbl&gt; | classe_voo &lt;chr&gt; | numero_voo &lt;dbl&gt; | Custo_Por_Milha &lt;dbl&gt; | Data_Nascimento &lt;date&gt; | Status_Fidelidade &lt;chr&gt; | Milhas_Acumuladas &lt;dbl&gt; | Gasto_Total &lt;dbl&gt; | categoria_cliente &lt;chr&gt; |\n|---|---|---|---|---|---|---|---|---|---|---|---|\n| 967 | 2022-01-01 | 1198 | 1217.17 | Economica       | 9302 | 1.0160017 | 1963-12-21 | Prata    | 7635 |  710.17 | Baixo |\n| 747 | 2022-01-01 | 8451 | 1064.09 | Executiva       | 2381 | 0.1259129 | 1967-04-16 | Diamante | 1952 |  706.99 | Alto  |\n| 237 | 2022-01-01 | 7996 | 1684.94 | Primeira Classe |  704 | 0.2107229 | 1961-07-17 | Ouro     | 5529 | 1002.03 | Alto  |\n| 504 | 2022-01-02 | 6143 |  692.94 | Economica       | 6913 | 0.1128016 | 1999-02-14 | Diamante | 8871 |  922.06 | Alto  |\n| 840 | 2022-01-02 | 5267 | 1496.54 | Economica       | 9066 | 0.2841352 | 1983-12-04 | Ouro     | 9589 | 1987.85 | Alto  |\n| 396 | 2022-01-02 | 1929 |  760.04 | Primeira Classe | 9482 | 0.3940073 | 1972-06-30 | Diamante | 2142 |  285.24 | Baixo |\n\n",
            "text/latex": "A tibble: 6 × 12\n\\begin{tabular}{llllllllllll}\n id\\_cliente & Data\\_Compra\\_Passagem & Milhas\\_Utilizadas & Valor\\_Pago & classe\\_voo & numero\\_voo & Custo\\_Por\\_Milha & Data\\_Nascimento & Status\\_Fidelidade & Milhas\\_Acumuladas & Gasto\\_Total & categoria\\_cliente\\\\\n <dbl> & <date> & <dbl> & <dbl> & <chr> & <dbl> & <dbl> & <date> & <chr> & <dbl> & <dbl> & <chr>\\\\\n\\hline\n\t 967 & 2022-01-01 & 1198 & 1217.17 & Economica       & 9302 & 1.0160017 & 1963-12-21 & Prata    & 7635 &  710.17 & Baixo\\\\\n\t 747 & 2022-01-01 & 8451 & 1064.09 & Executiva       & 2381 & 0.1259129 & 1967-04-16 & Diamante & 1952 &  706.99 & Alto \\\\\n\t 237 & 2022-01-01 & 7996 & 1684.94 & Primeira Classe &  704 & 0.2107229 & 1961-07-17 & Ouro     & 5529 & 1002.03 & Alto \\\\\n\t 504 & 2022-01-02 & 6143 &  692.94 & Economica       & 6913 & 0.1128016 & 1999-02-14 & Diamante & 8871 &  922.06 & Alto \\\\\n\t 840 & 2022-01-02 & 5267 & 1496.54 & Economica       & 9066 & 0.2841352 & 1983-12-04 & Ouro     & 9589 & 1987.85 & Alto \\\\\n\t 396 & 2022-01-02 & 1929 &  760.04 & Primeira Classe & 9482 & 0.3940073 & 1972-06-30 & Diamante & 2142 &  285.24 & Baixo\\\\\n\\end{tabular}\n",
            "text/plain": [
              "  id_cliente Data_Compra_Passagem Milhas_Utilizadas Valor_Pago classe_voo     \n",
              "1 967        2022-01-01           1198              1217.17    Economica      \n",
              "2 747        2022-01-01           8451              1064.09    Executiva      \n",
              "3 237        2022-01-01           7996              1684.94    Primeira Classe\n",
              "4 504        2022-01-02           6143               692.94    Economica      \n",
              "5 840        2022-01-02           5267              1496.54    Economica      \n",
              "6 396        2022-01-02           1929               760.04    Primeira Classe\n",
              "  numero_voo Custo_Por_Milha Data_Nascimento Status_Fidelidade\n",
              "1 9302       1.0160017       1963-12-21      Prata            \n",
              "2 2381       0.1259129       1967-04-16      Diamante         \n",
              "3  704       0.2107229       1961-07-17      Ouro             \n",
              "4 6913       0.1128016       1999-02-14      Diamante         \n",
              "5 9066       0.2841352       1983-12-04      Ouro             \n",
              "6 9482       0.3940073       1972-06-30      Diamante         \n",
              "  Milhas_Acumuladas Gasto_Total categoria_cliente\n",
              "1 7635               710.17     Baixo            \n",
              "2 1952               706.99     Alto             \n",
              "3 5529              1002.03     Alto             \n",
              "4 8871               922.06     Alto             \n",
              "5 9589              1987.85     Alto             \n",
              "6 2142               285.24     Baixo            "
            ]
          },
          "metadata": {}
        }
      ]
    },
    {
      "cell_type": "markdown",
      "source": [
        "# Entendendo o comportamento do cliente"
      ],
      "metadata": {
        "id": "vNtVuqhja2-V"
      }
    },
    {
      "cell_type": "markdown",
      "source": [
        "**Diferença de milhas e previsão**"
      ],
      "metadata": {
        "id": "aSMrnLdZa57m"
      }
    },
    {
      "cell_type": "code",
      "source": [
        "transacoes_passagens <- transacoes_passagens %>%\n",
        "  arrange(id_cliente, Data_Compra_Passagem) %>%\n",
        "  group_by(id_cliente) %>%\n",
        "  mutate(\n",
        "  diferenca_milhas_usadas = Milhas_Utilizadas - lag(Milhas_Utilizadas),\n",
        "  diferenca_valor_futuro = lead(Milhas_Utilizadas)\n",
        "  ) %>%\n",
        "    ungroup()"
      ],
      "metadata": {
        "id": "ElAzOLh4a-K-"
      },
      "execution_count": 54,
      "outputs": []
    },
    {
      "cell_type": "code",
      "source": [
        "transacoes_passagens %>% head()"
      ],
      "metadata": {
        "colab": {
          "base_uri": "https://localhost:8080/",
          "height": 341
        },
        "id": "_1kz4Xedt48y",
        "outputId": "b6a31b25-2cae-49c3-83d9-66de21590206"
      },
      "execution_count": 55,
      "outputs": [
        {
          "output_type": "display_data",
          "data": {
            "text/html": [
              "<table class=\"dataframe\">\n",
              "<caption>A tibble: 6 × 14</caption>\n",
              "<thead>\n",
              "\t<tr><th scope=col>id_cliente</th><th scope=col>Data_Compra_Passagem</th><th scope=col>Milhas_Utilizadas</th><th scope=col>Valor_Pago</th><th scope=col>classe_voo</th><th scope=col>numero_voo</th><th scope=col>Custo_Por_Milha</th><th scope=col>Data_Nascimento</th><th scope=col>Status_Fidelidade</th><th scope=col>Milhas_Acumuladas</th><th scope=col>Gasto_Total</th><th scope=col>categoria_cliente</th><th scope=col>diferenca_milhas_usadas</th><th scope=col>diferenca_valor_futuro</th></tr>\n",
              "\t<tr><th scope=col>&lt;dbl&gt;</th><th scope=col>&lt;date&gt;</th><th scope=col>&lt;dbl&gt;</th><th scope=col>&lt;dbl&gt;</th><th scope=col>&lt;chr&gt;</th><th scope=col>&lt;dbl&gt;</th><th scope=col>&lt;dbl&gt;</th><th scope=col>&lt;date&gt;</th><th scope=col>&lt;chr&gt;</th><th scope=col>&lt;dbl&gt;</th><th scope=col>&lt;dbl&gt;</th><th scope=col>&lt;chr&gt;</th><th scope=col>&lt;dbl&gt;</th><th scope=col>&lt;dbl&gt;</th></tr>\n",
              "</thead>\n",
              "<tbody>\n",
              "\t<tr><td> 3</td><td>2022-03-24</td><td>1023</td><td>1588.11</td><td>Executiva      </td><td>5616</td><td>1.55240469</td><td>1994-07-18</td><td>Diamante</td><td> 917</td><td> 519.16</td><td>Baixo</td><td>   NA</td><td>  NA</td></tr>\n",
              "\t<tr><td> 7</td><td>2022-09-16</td><td>9449</td><td>1906.01</td><td>Executiva      </td><td>2232</td><td>0.20171553</td><td>1972-08-06</td><td>Diamante</td><td>2583</td><td> 924.60</td><td>Alto </td><td>   NA</td><td>4700</td></tr>\n",
              "\t<tr><td> 7</td><td>2022-12-07</td><td>4700</td><td>1285.88</td><td>Economica      </td><td>4947</td><td>0.27359149</td><td>1972-08-06</td><td>Diamante</td><td>2583</td><td> 924.60</td><td>Médio</td><td>-4749</td><td>  NA</td></tr>\n",
              "\t<tr><td>10</td><td>2022-06-07</td><td>6537</td><td> 469.28</td><td>Primeira Classe</td><td> 242</td><td>0.07178828</td><td>1980-03-12</td><td>Bronze  </td><td>3829</td><td> 595.78</td><td>Alto </td><td>   NA</td><td>  NA</td></tr>\n",
              "\t<tr><td>12</td><td>2022-10-29</td><td>9312</td><td> 570.34</td><td>Executiva      </td><td>3599</td><td>0.06124785</td><td>1978-10-09</td><td>Diamante</td><td>8857</td><td>1310.66</td><td>Alto </td><td>   NA</td><td>  NA</td></tr>\n",
              "\t<tr><td>13</td><td>2022-09-07</td><td>4123</td><td> 240.23</td><td>Primeira Classe</td><td>8707</td><td>0.05826583</td><td>1996-12-31</td><td>Ouro    </td><td>2228</td><td>1316.16</td><td>Médio</td><td>   NA</td><td>  NA</td></tr>\n",
              "</tbody>\n",
              "</table>\n"
            ],
            "text/markdown": "\nA tibble: 6 × 14\n\n| id_cliente &lt;dbl&gt; | Data_Compra_Passagem &lt;date&gt; | Milhas_Utilizadas &lt;dbl&gt; | Valor_Pago &lt;dbl&gt; | classe_voo &lt;chr&gt; | numero_voo &lt;dbl&gt; | Custo_Por_Milha &lt;dbl&gt; | Data_Nascimento &lt;date&gt; | Status_Fidelidade &lt;chr&gt; | Milhas_Acumuladas &lt;dbl&gt; | Gasto_Total &lt;dbl&gt; | categoria_cliente &lt;chr&gt; | diferenca_milhas_usadas &lt;dbl&gt; | diferenca_valor_futuro &lt;dbl&gt; |\n|---|---|---|---|---|---|---|---|---|---|---|---|---|---|\n|  3 | 2022-03-24 | 1023 | 1588.11 | Executiva       | 5616 | 1.55240469 | 1994-07-18 | Diamante |  917 |  519.16 | Baixo |    NA |   NA |\n|  7 | 2022-09-16 | 9449 | 1906.01 | Executiva       | 2232 | 0.20171553 | 1972-08-06 | Diamante | 2583 |  924.60 | Alto  |    NA | 4700 |\n|  7 | 2022-12-07 | 4700 | 1285.88 | Economica       | 4947 | 0.27359149 | 1972-08-06 | Diamante | 2583 |  924.60 | Médio | -4749 |   NA |\n| 10 | 2022-06-07 | 6537 |  469.28 | Primeira Classe |  242 | 0.07178828 | 1980-03-12 | Bronze   | 3829 |  595.78 | Alto  |    NA |   NA |\n| 12 | 2022-10-29 | 9312 |  570.34 | Executiva       | 3599 | 0.06124785 | 1978-10-09 | Diamante | 8857 | 1310.66 | Alto  |    NA |   NA |\n| 13 | 2022-09-07 | 4123 |  240.23 | Primeira Classe | 8707 | 0.05826583 | 1996-12-31 | Ouro     | 2228 | 1316.16 | Médio |    NA |   NA |\n\n",
            "text/latex": "A tibble: 6 × 14\n\\begin{tabular}{llllllllllllll}\n id\\_cliente & Data\\_Compra\\_Passagem & Milhas\\_Utilizadas & Valor\\_Pago & classe\\_voo & numero\\_voo & Custo\\_Por\\_Milha & Data\\_Nascimento & Status\\_Fidelidade & Milhas\\_Acumuladas & Gasto\\_Total & categoria\\_cliente & diferenca\\_milhas\\_usadas & diferenca\\_valor\\_futuro\\\\\n <dbl> & <date> & <dbl> & <dbl> & <chr> & <dbl> & <dbl> & <date> & <chr> & <dbl> & <dbl> & <chr> & <dbl> & <dbl>\\\\\n\\hline\n\t  3 & 2022-03-24 & 1023 & 1588.11 & Executiva       & 5616 & 1.55240469 & 1994-07-18 & Diamante &  917 &  519.16 & Baixo &    NA &   NA\\\\\n\t  7 & 2022-09-16 & 9449 & 1906.01 & Executiva       & 2232 & 0.20171553 & 1972-08-06 & Diamante & 2583 &  924.60 & Alto  &    NA & 4700\\\\\n\t  7 & 2022-12-07 & 4700 & 1285.88 & Economica       & 4947 & 0.27359149 & 1972-08-06 & Diamante & 2583 &  924.60 & Médio & -4749 &   NA\\\\\n\t 10 & 2022-06-07 & 6537 &  469.28 & Primeira Classe &  242 & 0.07178828 & 1980-03-12 & Bronze   & 3829 &  595.78 & Alto  &    NA &   NA\\\\\n\t 12 & 2022-10-29 & 9312 &  570.34 & Executiva       & 3599 & 0.06124785 & 1978-10-09 & Diamante & 8857 & 1310.66 & Alto  &    NA &   NA\\\\\n\t 13 & 2022-09-07 & 4123 &  240.23 & Primeira Classe & 8707 & 0.05826583 & 1996-12-31 & Ouro     & 2228 & 1316.16 & Médio &    NA &   NA\\\\\n\\end{tabular}\n",
            "text/plain": [
              "  id_cliente Data_Compra_Passagem Milhas_Utilizadas Valor_Pago classe_voo     \n",
              "1  3         2022-03-24           1023              1588.11    Executiva      \n",
              "2  7         2022-09-16           9449              1906.01    Executiva      \n",
              "3  7         2022-12-07           4700              1285.88    Economica      \n",
              "4 10         2022-06-07           6537               469.28    Primeira Classe\n",
              "5 12         2022-10-29           9312               570.34    Executiva      \n",
              "6 13         2022-09-07           4123               240.23    Primeira Classe\n",
              "  numero_voo Custo_Por_Milha Data_Nascimento Status_Fidelidade\n",
              "1 5616       1.55240469      1994-07-18      Diamante         \n",
              "2 2232       0.20171553      1972-08-06      Diamante         \n",
              "3 4947       0.27359149      1972-08-06      Diamante         \n",
              "4  242       0.07178828      1980-03-12      Bronze           \n",
              "5 3599       0.06124785      1978-10-09      Diamante         \n",
              "6 8707       0.05826583      1996-12-31      Ouro             \n",
              "  Milhas_Acumuladas Gasto_Total categoria_cliente diferenca_milhas_usadas\n",
              "1  917               519.16     Baixo                NA                  \n",
              "2 2583               924.60     Alto                 NA                  \n",
              "3 2583               924.60     Médio             -4749                  \n",
              "4 3829               595.78     Alto                 NA                  \n",
              "5 8857              1310.66     Alto                 NA                  \n",
              "6 2228              1316.16     Médio                NA                  \n",
              "  diferenca_valor_futuro\n",
              "1   NA                  \n",
              "2 4700                  \n",
              "3   NA                  \n",
              "4   NA                  \n",
              "5   NA                  \n",
              "6   NA                  "
            ]
          },
          "metadata": {}
        }
      ]
    },
    {
      "cell_type": "markdown",
      "source": [
        "**Filtragem e tratamento de valores ausentes**"
      ],
      "metadata": {
        "id": "xrVf6bRUw3Yp"
      }
    },
    {
      "cell_type": "code",
      "source": [
        "any(is.na(transacoes_passagens))"
      ],
      "metadata": {
        "colab": {
          "base_uri": "https://localhost:8080/",
          "height": 34
        },
        "id": "Ynf5GWmNw63W",
        "outputId": "e5b795ba-0430-4189-dab5-e8ffa1a39d37"
      },
      "execution_count": 56,
      "outputs": [
        {
          "output_type": "display_data",
          "data": {
            "text/html": [
              "TRUE"
            ],
            "text/markdown": "TRUE",
            "text/latex": "TRUE",
            "text/plain": [
              "[1] TRUE"
            ]
          },
          "metadata": {}
        }
      ]
    },
    {
      "cell_type": "code",
      "source": [
        "sum(is.na(transacoes_passagens))"
      ],
      "metadata": {
        "colab": {
          "base_uri": "https://localhost:8080/",
          "height": 34
        },
        "id": "iR9XXDrrxK0S",
        "outputId": "fe696405-f71a-4e9f-ea6a-4d1c2f094641"
      },
      "execution_count": 57,
      "outputs": [
        {
          "output_type": "display_data",
          "data": {
            "text/html": [
              "788"
            ],
            "text/markdown": "788",
            "text/latex": "788",
            "text/plain": [
              "[1] 788"
            ]
          },
          "metadata": {}
        }
      ]
    },
    {
      "cell_type": "code",
      "source": [
        "num_clientes <- transacoes_passagens %>%\n",
        "  summarise(numero_clientes = n_distinct(id_cliente))"
      ],
      "metadata": {
        "id": "1p2bo5MYxVoF"
      },
      "execution_count": 58,
      "outputs": []
    },
    {
      "cell_type": "code",
      "source": [
        "num_clientes"
      ],
      "metadata": {
        "colab": {
          "base_uri": "https://localhost:8080/",
          "height": 129
        },
        "id": "atfaKCHNxmQ3",
        "outputId": "863bdf04-1bd1-4f30-fe59-c96bbeda10d0"
      },
      "execution_count": 59,
      "outputs": [
        {
          "output_type": "display_data",
          "data": {
            "text/html": [
              "<table class=\"dataframe\">\n",
              "<caption>A tibble: 1 × 1</caption>\n",
              "<thead>\n",
              "\t<tr><th scope=col>numero_clientes</th></tr>\n",
              "\t<tr><th scope=col>&lt;int&gt;</th></tr>\n",
              "</thead>\n",
              "<tbody>\n",
              "\t<tr><td>394</td></tr>\n",
              "</tbody>\n",
              "</table>\n"
            ],
            "text/markdown": "\nA tibble: 1 × 1\n\n| numero_clientes &lt;int&gt; |\n|---|\n| 394 |\n\n",
            "text/latex": "A tibble: 1 × 1\n\\begin{tabular}{l}\n numero\\_clientes\\\\\n <int>\\\\\n\\hline\n\t 394\\\\\n\\end{tabular}\n",
            "text/plain": [
              "  numero_clientes\n",
              "1 394            "
            ]
          },
          "metadata": {}
        }
      ]
    },
    {
      "cell_type": "code",
      "source": [
        "num_clientes * 2"
      ],
      "metadata": {
        "colab": {
          "base_uri": "https://localhost:8080/",
          "height": 129
        },
        "id": "CzL3HmqdxnRv",
        "outputId": "5181a34f-d714-43bc-c3b5-620d8e224b74"
      },
      "execution_count": 60,
      "outputs": [
        {
          "output_type": "display_data",
          "data": {
            "text/html": [
              "<table class=\"dataframe\">\n",
              "<caption>A data.frame: 1 × 1</caption>\n",
              "<thead>\n",
              "\t<tr><th scope=col>numero_clientes</th></tr>\n",
              "\t<tr><th scope=col>&lt;dbl&gt;</th></tr>\n",
              "</thead>\n",
              "<tbody>\n",
              "\t<tr><td>788</td></tr>\n",
              "</tbody>\n",
              "</table>\n"
            ],
            "text/markdown": "\nA data.frame: 1 × 1\n\n| numero_clientes &lt;dbl&gt; |\n|---|\n| 788 |\n\n",
            "text/latex": "A data.frame: 1 × 1\n\\begin{tabular}{l}\n numero\\_clientes\\\\\n <dbl>\\\\\n\\hline\n\t 788\\\\\n\\end{tabular}\n",
            "text/plain": [
              "  numero_clientes\n",
              "1 788            "
            ]
          },
          "metadata": {}
        }
      ]
    },
    {
      "cell_type": "code",
      "source": [
        "transacoes_passagens <- transacoes_passagens %>%\n",
        "  mutate(\n",
        "  diferenca_milhas_usadas = coalesce(diferenca_milhas_usadas, 0),\n",
        "  diferenca_valor_futuro = coalesce(diferenca_valor_futuro, 0)\n",
        "  )"
      ],
      "metadata": {
        "id": "wTZr8xxwxuc7"
      },
      "execution_count": 64,
      "outputs": []
    },
    {
      "cell_type": "code",
      "source": [
        "any(is.na(transacoes_passagens))"
      ],
      "metadata": {
        "colab": {
          "base_uri": "https://localhost:8080/",
          "height": 34
        },
        "id": "EzTesBrIyYFS",
        "outputId": "df34575a-7286-4122-e2b2-a06a1e4f6ca2"
      },
      "execution_count": 65,
      "outputs": [
        {
          "output_type": "display_data",
          "data": {
            "text/html": [
              "FALSE"
            ],
            "text/markdown": "FALSE",
            "text/latex": "FALSE",
            "text/plain": [
              "[1] FALSE"
            ]
          },
          "metadata": {}
        }
      ]
    },
    {
      "cell_type": "code",
      "source": [
        "transacoes_passagens %>%\n",
        "  arrange(desc(diferenca_milhas_usadas)) %>%\n",
        "  head(10)"
      ],
      "metadata": {
        "colab": {
          "base_uri": "https://localhost:8080/",
          "height": 501
        },
        "id": "EMLF2jDqyyN9",
        "outputId": "6438c4df-bf2f-47a9-d97f-ab6409af79a2"
      },
      "execution_count": 67,
      "outputs": [
        {
          "output_type": "display_data",
          "data": {
            "text/html": [
              "<table class=\"dataframe\">\n",
              "<caption>A tibble: 10 × 14</caption>\n",
              "<thead>\n",
              "\t<tr><th scope=col>id_cliente</th><th scope=col>Data_Compra_Passagem</th><th scope=col>Milhas_Utilizadas</th><th scope=col>Valor_Pago</th><th scope=col>classe_voo</th><th scope=col>numero_voo</th><th scope=col>Custo_Por_Milha</th><th scope=col>Data_Nascimento</th><th scope=col>Status_Fidelidade</th><th scope=col>Milhas_Acumuladas</th><th scope=col>Gasto_Total</th><th scope=col>categoria_cliente</th><th scope=col>diferenca_milhas_usadas</th><th scope=col>diferenca_valor_futuro</th></tr>\n",
              "\t<tr><th scope=col>&lt;dbl&gt;</th><th scope=col>&lt;date&gt;</th><th scope=col>&lt;dbl&gt;</th><th scope=col>&lt;dbl&gt;</th><th scope=col>&lt;chr&gt;</th><th scope=col>&lt;dbl&gt;</th><th scope=col>&lt;dbl&gt;</th><th scope=col>&lt;date&gt;</th><th scope=col>&lt;chr&gt;</th><th scope=col>&lt;dbl&gt;</th><th scope=col>&lt;dbl&gt;</th><th scope=col>&lt;chr&gt;</th><th scope=col>&lt;dbl&gt;</th><th scope=col>&lt;dbl&gt;</th></tr>\n",
              "</thead>\n",
              "<tbody>\n",
              "\t<tr><td>625</td><td>2022-12-30</td><td>7566</td><td>1890.54</td><td>Economica      </td><td>8295</td><td>0.24987312</td><td>1971-12-03</td><td>Bronze  </td><td>2787</td><td> 897.42</td><td>Alto</td><td>7122</td><td>0</td></tr>\n",
              "\t<tr><td>961</td><td>2022-12-30</td><td>7215</td><td> 594.29</td><td>Primeira Classe</td><td>9929</td><td>0.08236868</td><td>2005-03-17</td><td>Ouro    </td><td>1488</td><td>1011.49</td><td>Alto</td><td>7095</td><td>0</td></tr>\n",
              "\t<tr><td>151</td><td>2022-08-28</td><td>8923</td><td> 689.02</td><td>Executiva      </td><td>9823</td><td>0.07721842</td><td>1990-04-19</td><td>Ouro    </td><td>6262</td><td>1087.80</td><td>Alto</td><td>7009</td><td>0</td></tr>\n",
              "\t<tr><td>820</td><td>2022-11-09</td><td>9658</td><td> 472.85</td><td>Economica      </td><td>9134</td><td>0.04895941</td><td>1995-10-31</td><td>Diamante</td><td>3916</td><td>1843.98</td><td>Alto</td><td>6848</td><td>0</td></tr>\n",
              "\t<tr><td>807</td><td>2022-10-24</td><td>7239</td><td> 361.49</td><td>Executiva      </td><td>9475</td><td>0.04993646</td><td>1991-07-08</td><td>Diamante</td><td>9252</td><td>1515.46</td><td>Alto</td><td>6740</td><td>0</td></tr>\n",
              "\t<tr><td>370</td><td>2022-09-23</td><td>8858</td><td> 884.50</td><td>Primeira Classe</td><td>8801</td><td>0.09985324</td><td>1988-11-02</td><td>Bronze  </td><td>5013</td><td>1905.95</td><td>Alto</td><td>6545</td><td>0</td></tr>\n",
              "\t<tr><td>586</td><td>2022-11-20</td><td>9478</td><td>1070.43</td><td>Executiva      </td><td>3963</td><td>0.11293838</td><td>1967-06-08</td><td>Ouro    </td><td> 463</td><td> 980.86</td><td>Alto</td><td>6222</td><td>0</td></tr>\n",
              "\t<tr><td>945</td><td>2022-12-19</td><td>7559</td><td>1441.52</td><td>Primeira Classe</td><td>7551</td><td>0.19070247</td><td>1988-04-26</td><td>Prata   </td><td>5547</td><td>1801.21</td><td>Alto</td><td>6143</td><td>0</td></tr>\n",
              "\t<tr><td>332</td><td>2022-09-13</td><td>8010</td><td>1669.10</td><td>Executiva      </td><td> 282</td><td>0.20837703</td><td>2002-04-14</td><td>Prata   </td><td>4243</td><td> 920.32</td><td>Alto</td><td>6112</td><td>0</td></tr>\n",
              "\t<tr><td>524</td><td>2022-05-01</td><td>7567</td><td>1649.38</td><td>Primeira Classe</td><td>9751</td><td>0.21797013</td><td>2000-08-16</td><td>Ouro    </td><td>1139</td><td>1031.52</td><td>Alto</td><td>6041</td><td>0</td></tr>\n",
              "</tbody>\n",
              "</table>\n"
            ],
            "text/markdown": "\nA tibble: 10 × 14\n\n| id_cliente &lt;dbl&gt; | Data_Compra_Passagem &lt;date&gt; | Milhas_Utilizadas &lt;dbl&gt; | Valor_Pago &lt;dbl&gt; | classe_voo &lt;chr&gt; | numero_voo &lt;dbl&gt; | Custo_Por_Milha &lt;dbl&gt; | Data_Nascimento &lt;date&gt; | Status_Fidelidade &lt;chr&gt; | Milhas_Acumuladas &lt;dbl&gt; | Gasto_Total &lt;dbl&gt; | categoria_cliente &lt;chr&gt; | diferenca_milhas_usadas &lt;dbl&gt; | diferenca_valor_futuro &lt;dbl&gt; |\n|---|---|---|---|---|---|---|---|---|---|---|---|---|---|\n| 625 | 2022-12-30 | 7566 | 1890.54 | Economica       | 8295 | 0.24987312 | 1971-12-03 | Bronze   | 2787 |  897.42 | Alto | 7122 | 0 |\n| 961 | 2022-12-30 | 7215 |  594.29 | Primeira Classe | 9929 | 0.08236868 | 2005-03-17 | Ouro     | 1488 | 1011.49 | Alto | 7095 | 0 |\n| 151 | 2022-08-28 | 8923 |  689.02 | Executiva       | 9823 | 0.07721842 | 1990-04-19 | Ouro     | 6262 | 1087.80 | Alto | 7009 | 0 |\n| 820 | 2022-11-09 | 9658 |  472.85 | Economica       | 9134 | 0.04895941 | 1995-10-31 | Diamante | 3916 | 1843.98 | Alto | 6848 | 0 |\n| 807 | 2022-10-24 | 7239 |  361.49 | Executiva       | 9475 | 0.04993646 | 1991-07-08 | Diamante | 9252 | 1515.46 | Alto | 6740 | 0 |\n| 370 | 2022-09-23 | 8858 |  884.50 | Primeira Classe | 8801 | 0.09985324 | 1988-11-02 | Bronze   | 5013 | 1905.95 | Alto | 6545 | 0 |\n| 586 | 2022-11-20 | 9478 | 1070.43 | Executiva       | 3963 | 0.11293838 | 1967-06-08 | Ouro     |  463 |  980.86 | Alto | 6222 | 0 |\n| 945 | 2022-12-19 | 7559 | 1441.52 | Primeira Classe | 7551 | 0.19070247 | 1988-04-26 | Prata    | 5547 | 1801.21 | Alto | 6143 | 0 |\n| 332 | 2022-09-13 | 8010 | 1669.10 | Executiva       |  282 | 0.20837703 | 2002-04-14 | Prata    | 4243 |  920.32 | Alto | 6112 | 0 |\n| 524 | 2022-05-01 | 7567 | 1649.38 | Primeira Classe | 9751 | 0.21797013 | 2000-08-16 | Ouro     | 1139 | 1031.52 | Alto | 6041 | 0 |\n\n",
            "text/latex": "A tibble: 10 × 14\n\\begin{tabular}{llllllllllllll}\n id\\_cliente & Data\\_Compra\\_Passagem & Milhas\\_Utilizadas & Valor\\_Pago & classe\\_voo & numero\\_voo & Custo\\_Por\\_Milha & Data\\_Nascimento & Status\\_Fidelidade & Milhas\\_Acumuladas & Gasto\\_Total & categoria\\_cliente & diferenca\\_milhas\\_usadas & diferenca\\_valor\\_futuro\\\\\n <dbl> & <date> & <dbl> & <dbl> & <chr> & <dbl> & <dbl> & <date> & <chr> & <dbl> & <dbl> & <chr> & <dbl> & <dbl>\\\\\n\\hline\n\t 625 & 2022-12-30 & 7566 & 1890.54 & Economica       & 8295 & 0.24987312 & 1971-12-03 & Bronze   & 2787 &  897.42 & Alto & 7122 & 0\\\\\n\t 961 & 2022-12-30 & 7215 &  594.29 & Primeira Classe & 9929 & 0.08236868 & 2005-03-17 & Ouro     & 1488 & 1011.49 & Alto & 7095 & 0\\\\\n\t 151 & 2022-08-28 & 8923 &  689.02 & Executiva       & 9823 & 0.07721842 & 1990-04-19 & Ouro     & 6262 & 1087.80 & Alto & 7009 & 0\\\\\n\t 820 & 2022-11-09 & 9658 &  472.85 & Economica       & 9134 & 0.04895941 & 1995-10-31 & Diamante & 3916 & 1843.98 & Alto & 6848 & 0\\\\\n\t 807 & 2022-10-24 & 7239 &  361.49 & Executiva       & 9475 & 0.04993646 & 1991-07-08 & Diamante & 9252 & 1515.46 & Alto & 6740 & 0\\\\\n\t 370 & 2022-09-23 & 8858 &  884.50 & Primeira Classe & 8801 & 0.09985324 & 1988-11-02 & Bronze   & 5013 & 1905.95 & Alto & 6545 & 0\\\\\n\t 586 & 2022-11-20 & 9478 & 1070.43 & Executiva       & 3963 & 0.11293838 & 1967-06-08 & Ouro     &  463 &  980.86 & Alto & 6222 & 0\\\\\n\t 945 & 2022-12-19 & 7559 & 1441.52 & Primeira Classe & 7551 & 0.19070247 & 1988-04-26 & Prata    & 5547 & 1801.21 & Alto & 6143 & 0\\\\\n\t 332 & 2022-09-13 & 8010 & 1669.10 & Executiva       &  282 & 0.20837703 & 2002-04-14 & Prata    & 4243 &  920.32 & Alto & 6112 & 0\\\\\n\t 524 & 2022-05-01 & 7567 & 1649.38 & Primeira Classe & 9751 & 0.21797013 & 2000-08-16 & Ouro     & 1139 & 1031.52 & Alto & 6041 & 0\\\\\n\\end{tabular}\n",
            "text/plain": [
              "   id_cliente Data_Compra_Passagem Milhas_Utilizadas Valor_Pago classe_voo     \n",
              "1  625        2022-12-30           7566              1890.54    Economica      \n",
              "2  961        2022-12-30           7215               594.29    Primeira Classe\n",
              "3  151        2022-08-28           8923               689.02    Executiva      \n",
              "4  820        2022-11-09           9658               472.85    Economica      \n",
              "5  807        2022-10-24           7239               361.49    Executiva      \n",
              "6  370        2022-09-23           8858               884.50    Primeira Classe\n",
              "7  586        2022-11-20           9478              1070.43    Executiva      \n",
              "8  945        2022-12-19           7559              1441.52    Primeira Classe\n",
              "9  332        2022-09-13           8010              1669.10    Executiva      \n",
              "10 524        2022-05-01           7567              1649.38    Primeira Classe\n",
              "   numero_voo Custo_Por_Milha Data_Nascimento Status_Fidelidade\n",
              "1  8295       0.24987312      1971-12-03      Bronze           \n",
              "2  9929       0.08236868      2005-03-17      Ouro             \n",
              "3  9823       0.07721842      1990-04-19      Ouro             \n",
              "4  9134       0.04895941      1995-10-31      Diamante         \n",
              "5  9475       0.04993646      1991-07-08      Diamante         \n",
              "6  8801       0.09985324      1988-11-02      Bronze           \n",
              "7  3963       0.11293838      1967-06-08      Ouro             \n",
              "8  7551       0.19070247      1988-04-26      Prata            \n",
              "9   282       0.20837703      2002-04-14      Prata            \n",
              "10 9751       0.21797013      2000-08-16      Ouro             \n",
              "   Milhas_Acumuladas Gasto_Total categoria_cliente diferenca_milhas_usadas\n",
              "1  2787               897.42     Alto              7122                   \n",
              "2  1488              1011.49     Alto              7095                   \n",
              "3  6262              1087.80     Alto              7009                   \n",
              "4  3916              1843.98     Alto              6848                   \n",
              "5  9252              1515.46     Alto              6740                   \n",
              "6  5013              1905.95     Alto              6545                   \n",
              "7   463               980.86     Alto              6222                   \n",
              "8  5547              1801.21     Alto              6143                   \n",
              "9  4243               920.32     Alto              6112                   \n",
              "10 1139              1031.52     Alto              6041                   \n",
              "   diferenca_valor_futuro\n",
              "1  0                     \n",
              "2  0                     \n",
              "3  0                     \n",
              "4  0                     \n",
              "5  0                     \n",
              "6  0                     \n",
              "7  0                     \n",
              "8  0                     \n",
              "9  0                     \n",
              "10 0                     "
            ]
          },
          "metadata": {}
        }
      ]
    },
    {
      "cell_type": "code",
      "source": [
        "transacoes_passagens %>%\n",
        "  arrange(desc(diferenca_valor_futuro)) %>%\n",
        "  head(10)"
      ],
      "metadata": {
        "colab": {
          "base_uri": "https://localhost:8080/",
          "height": 484
        },
        "id": "SNa6Ey-Qy-jR",
        "outputId": "23239261-7c4f-41d4-82f2-027c691a5581"
      },
      "execution_count": 68,
      "outputs": [
        {
          "output_type": "display_data",
          "data": {
            "text/html": [
              "<table class=\"dataframe\">\n",
              "<caption>A tibble: 10 × 14</caption>\n",
              "<thead>\n",
              "\t<tr><th scope=col>id_cliente</th><th scope=col>Data_Compra_Passagem</th><th scope=col>Milhas_Utilizadas</th><th scope=col>Valor_Pago</th><th scope=col>classe_voo</th><th scope=col>numero_voo</th><th scope=col>Custo_Por_Milha</th><th scope=col>Data_Nascimento</th><th scope=col>Status_Fidelidade</th><th scope=col>Milhas_Acumuladas</th><th scope=col>Gasto_Total</th><th scope=col>categoria_cliente</th><th scope=col>diferenca_milhas_usadas</th><th scope=col>diferenca_valor_futuro</th></tr>\n",
              "\t<tr><th scope=col>&lt;dbl&gt;</th><th scope=col>&lt;date&gt;</th><th scope=col>&lt;dbl&gt;</th><th scope=col>&lt;dbl&gt;</th><th scope=col>&lt;chr&gt;</th><th scope=col>&lt;dbl&gt;</th><th scope=col>&lt;dbl&gt;</th><th scope=col>&lt;date&gt;</th><th scope=col>&lt;chr&gt;</th><th scope=col>&lt;dbl&gt;</th><th scope=col>&lt;dbl&gt;</th><th scope=col>&lt;chr&gt;</th><th scope=col>&lt;dbl&gt;</th><th scope=col>&lt;dbl&gt;</th></tr>\n",
              "</thead>\n",
              "<tbody>\n",
              "\t<tr><td>912</td><td>2022-05-11</td><td>4572</td><td> 494.11</td><td>Primeira Classe</td><td>2261</td><td>0.10807305</td><td>1962-02-02</td><td>Diamante</td><td>1929</td><td>1788.99</td><td>Médio</td><td>  0</td><td>9910</td></tr>\n",
              "\t<tr><td>685</td><td>2022-06-19</td><td>4529</td><td>1612.55</td><td>Economica      </td><td>7891</td><td>0.35604990</td><td>1980-05-05</td><td>Bronze  </td><td>4673</td><td>1553.53</td><td>Médio</td><td>  0</td><td>9755</td></tr>\n",
              "\t<tr><td>371</td><td>2022-03-03</td><td>5410</td><td> 143.81</td><td>Executiva      </td><td> 227</td><td>0.02658226</td><td>1988-09-22</td><td>Prata   </td><td>7580</td><td>1834.72</td><td>Alto </td><td>  0</td><td>9720</td></tr>\n",
              "\t<tr><td>820</td><td>2022-07-06</td><td>2810</td><td>1540.07</td><td>Executiva      </td><td>2676</td><td>0.54806762</td><td>1995-10-31</td><td>Diamante</td><td>3916</td><td>1843.98</td><td>Médio</td><td>  0</td><td>9658</td></tr>\n",
              "\t<tr><td>890</td><td>2022-02-01</td><td>9951</td><td> 637.93</td><td>Economica      </td><td>7899</td><td>0.06410712</td><td>1974-03-14</td><td>Diamante</td><td> 900</td><td>1615.20</td><td>Alto </td><td>  0</td><td>9615</td></tr>\n",
              "\t<tr><td>586</td><td>2022-09-06</td><td>3256</td><td> 357.72</td><td>Executiva      </td><td>4575</td><td>0.10986486</td><td>1967-06-08</td><td>Ouro    </td><td> 463</td><td> 980.86</td><td>Médio</td><td>737</td><td>9478</td></tr>\n",
              "\t<tr><td> 96</td><td>2022-03-14</td><td>9603</td><td>1917.23</td><td>Primeira Classe</td><td>3794</td><td>0.19964907</td><td>1960-08-13</td><td>Prata   </td><td>8772</td><td> 406.40</td><td>Alto </td><td>  0</td><td>9444</td></tr>\n",
              "\t<tr><td>548</td><td>2022-02-19</td><td>6482</td><td> 687.07</td><td>Primeira Classe</td><td>7553</td><td>0.10599661</td><td>1977-10-19</td><td>Ouro    </td><td>2011</td><td> 943.66</td><td>Alto </td><td>  0</td><td>9317</td></tr>\n",
              "\t<tr><td>144</td><td>2022-05-08</td><td>6847</td><td>1435.24</td><td>Economica      </td><td>7827</td><td>0.20961589</td><td>1981-08-02</td><td>Ouro    </td><td>4620</td><td>1300.02</td><td>Alto </td><td>  0</td><td>9275</td></tr>\n",
              "\t<tr><td>583</td><td>2022-01-29</td><td>5653</td><td> 435.02</td><td>Executiva      </td><td>2525</td><td>0.07695383</td><td>1971-01-03</td><td>Ouro    </td><td>9373</td><td> 619.76</td><td>Alto </td><td>  0</td><td>8997</td></tr>\n",
              "</tbody>\n",
              "</table>\n"
            ],
            "text/markdown": "\nA tibble: 10 × 14\n\n| id_cliente &lt;dbl&gt; | Data_Compra_Passagem &lt;date&gt; | Milhas_Utilizadas &lt;dbl&gt; | Valor_Pago &lt;dbl&gt; | classe_voo &lt;chr&gt; | numero_voo &lt;dbl&gt; | Custo_Por_Milha &lt;dbl&gt; | Data_Nascimento &lt;date&gt; | Status_Fidelidade &lt;chr&gt; | Milhas_Acumuladas &lt;dbl&gt; | Gasto_Total &lt;dbl&gt; | categoria_cliente &lt;chr&gt; | diferenca_milhas_usadas &lt;dbl&gt; | diferenca_valor_futuro &lt;dbl&gt; |\n|---|---|---|---|---|---|---|---|---|---|---|---|---|---|\n| 912 | 2022-05-11 | 4572 |  494.11 | Primeira Classe | 2261 | 0.10807305 | 1962-02-02 | Diamante | 1929 | 1788.99 | Médio |   0 | 9910 |\n| 685 | 2022-06-19 | 4529 | 1612.55 | Economica       | 7891 | 0.35604990 | 1980-05-05 | Bronze   | 4673 | 1553.53 | Médio |   0 | 9755 |\n| 371 | 2022-03-03 | 5410 |  143.81 | Executiva       |  227 | 0.02658226 | 1988-09-22 | Prata    | 7580 | 1834.72 | Alto  |   0 | 9720 |\n| 820 | 2022-07-06 | 2810 | 1540.07 | Executiva       | 2676 | 0.54806762 | 1995-10-31 | Diamante | 3916 | 1843.98 | Médio |   0 | 9658 |\n| 890 | 2022-02-01 | 9951 |  637.93 | Economica       | 7899 | 0.06410712 | 1974-03-14 | Diamante |  900 | 1615.20 | Alto  |   0 | 9615 |\n| 586 | 2022-09-06 | 3256 |  357.72 | Executiva       | 4575 | 0.10986486 | 1967-06-08 | Ouro     |  463 |  980.86 | Médio | 737 | 9478 |\n|  96 | 2022-03-14 | 9603 | 1917.23 | Primeira Classe | 3794 | 0.19964907 | 1960-08-13 | Prata    | 8772 |  406.40 | Alto  |   0 | 9444 |\n| 548 | 2022-02-19 | 6482 |  687.07 | Primeira Classe | 7553 | 0.10599661 | 1977-10-19 | Ouro     | 2011 |  943.66 | Alto  |   0 | 9317 |\n| 144 | 2022-05-08 | 6847 | 1435.24 | Economica       | 7827 | 0.20961589 | 1981-08-02 | Ouro     | 4620 | 1300.02 | Alto  |   0 | 9275 |\n| 583 | 2022-01-29 | 5653 |  435.02 | Executiva       | 2525 | 0.07695383 | 1971-01-03 | Ouro     | 9373 |  619.76 | Alto  |   0 | 8997 |\n\n",
            "text/latex": "A tibble: 10 × 14\n\\begin{tabular}{llllllllllllll}\n id\\_cliente & Data\\_Compra\\_Passagem & Milhas\\_Utilizadas & Valor\\_Pago & classe\\_voo & numero\\_voo & Custo\\_Por\\_Milha & Data\\_Nascimento & Status\\_Fidelidade & Milhas\\_Acumuladas & Gasto\\_Total & categoria\\_cliente & diferenca\\_milhas\\_usadas & diferenca\\_valor\\_futuro\\\\\n <dbl> & <date> & <dbl> & <dbl> & <chr> & <dbl> & <dbl> & <date> & <chr> & <dbl> & <dbl> & <chr> & <dbl> & <dbl>\\\\\n\\hline\n\t 912 & 2022-05-11 & 4572 &  494.11 & Primeira Classe & 2261 & 0.10807305 & 1962-02-02 & Diamante & 1929 & 1788.99 & Médio &   0 & 9910\\\\\n\t 685 & 2022-06-19 & 4529 & 1612.55 & Economica       & 7891 & 0.35604990 & 1980-05-05 & Bronze   & 4673 & 1553.53 & Médio &   0 & 9755\\\\\n\t 371 & 2022-03-03 & 5410 &  143.81 & Executiva       &  227 & 0.02658226 & 1988-09-22 & Prata    & 7580 & 1834.72 & Alto  &   0 & 9720\\\\\n\t 820 & 2022-07-06 & 2810 & 1540.07 & Executiva       & 2676 & 0.54806762 & 1995-10-31 & Diamante & 3916 & 1843.98 & Médio &   0 & 9658\\\\\n\t 890 & 2022-02-01 & 9951 &  637.93 & Economica       & 7899 & 0.06410712 & 1974-03-14 & Diamante &  900 & 1615.20 & Alto  &   0 & 9615\\\\\n\t 586 & 2022-09-06 & 3256 &  357.72 & Executiva       & 4575 & 0.10986486 & 1967-06-08 & Ouro     &  463 &  980.86 & Médio & 737 & 9478\\\\\n\t  96 & 2022-03-14 & 9603 & 1917.23 & Primeira Classe & 3794 & 0.19964907 & 1960-08-13 & Prata    & 8772 &  406.40 & Alto  &   0 & 9444\\\\\n\t 548 & 2022-02-19 & 6482 &  687.07 & Primeira Classe & 7553 & 0.10599661 & 1977-10-19 & Ouro     & 2011 &  943.66 & Alto  &   0 & 9317\\\\\n\t 144 & 2022-05-08 & 6847 & 1435.24 & Economica       & 7827 & 0.20961589 & 1981-08-02 & Ouro     & 4620 & 1300.02 & Alto  &   0 & 9275\\\\\n\t 583 & 2022-01-29 & 5653 &  435.02 & Executiva       & 2525 & 0.07695383 & 1971-01-03 & Ouro     & 9373 &  619.76 & Alto  &   0 & 8997\\\\\n\\end{tabular}\n",
            "text/plain": [
              "   id_cliente Data_Compra_Passagem Milhas_Utilizadas Valor_Pago classe_voo     \n",
              "1  912        2022-05-11           4572               494.11    Primeira Classe\n",
              "2  685        2022-06-19           4529              1612.55    Economica      \n",
              "3  371        2022-03-03           5410               143.81    Executiva      \n",
              "4  820        2022-07-06           2810              1540.07    Executiva      \n",
              "5  890        2022-02-01           9951               637.93    Economica      \n",
              "6  586        2022-09-06           3256               357.72    Executiva      \n",
              "7   96        2022-03-14           9603              1917.23    Primeira Classe\n",
              "8  548        2022-02-19           6482               687.07    Primeira Classe\n",
              "9  144        2022-05-08           6847              1435.24    Economica      \n",
              "10 583        2022-01-29           5653               435.02    Executiva      \n",
              "   numero_voo Custo_Por_Milha Data_Nascimento Status_Fidelidade\n",
              "1  2261       0.10807305      1962-02-02      Diamante         \n",
              "2  7891       0.35604990      1980-05-05      Bronze           \n",
              "3   227       0.02658226      1988-09-22      Prata            \n",
              "4  2676       0.54806762      1995-10-31      Diamante         \n",
              "5  7899       0.06410712      1974-03-14      Diamante         \n",
              "6  4575       0.10986486      1967-06-08      Ouro             \n",
              "7  3794       0.19964907      1960-08-13      Prata            \n",
              "8  7553       0.10599661      1977-10-19      Ouro             \n",
              "9  7827       0.20961589      1981-08-02      Ouro             \n",
              "10 2525       0.07695383      1971-01-03      Ouro             \n",
              "   Milhas_Acumuladas Gasto_Total categoria_cliente diferenca_milhas_usadas\n",
              "1  1929              1788.99     Médio               0                    \n",
              "2  4673              1553.53     Médio               0                    \n",
              "3  7580              1834.72     Alto                0                    \n",
              "4  3916              1843.98     Médio               0                    \n",
              "5   900              1615.20     Alto                0                    \n",
              "6   463               980.86     Médio             737                    \n",
              "7  8772               406.40     Alto                0                    \n",
              "8  2011               943.66     Alto                0                    \n",
              "9  4620              1300.02     Alto                0                    \n",
              "10 9373               619.76     Alto                0                    \n",
              "   diferenca_valor_futuro\n",
              "1  9910                  \n",
              "2  9755                  \n",
              "3  9720                  \n",
              "4  9658                  \n",
              "5  9615                  \n",
              "6  9478                  \n",
              "7  9444                  \n",
              "8  9317                  \n",
              "9  9275                  \n",
              "10 8997                  "
            ]
          },
          "metadata": {}
        }
      ]
    },
    {
      "cell_type": "code",
      "source": [
        "# Impulsionando o crescimento com análise de clientes"
      ],
      "metadata": {
        "id": "HOqd16sGzs8X"
      },
      "execution_count": null,
      "outputs": []
    },
    {
      "cell_type": "markdown",
      "source": [
        "**Classificar clientes com case_when e recode**"
      ],
      "metadata": {
        "id": "afIL0tOHzxx9"
      }
    },
    {
      "cell_type": "code",
      "source": [
        "transacoes_passagens <- transacoes_passagens %>%\n",
        "  mutate(categoria_cliente =\n",
        "  recode(categoria_cliente,\n",
        "\"Baixo\" = \"Iniciante\",\n",
        "\"Médio\" = \"Intermediário\",\n",
        "\"Alto\" = \"Avançado\")\n",
        ")"
      ],
      "metadata": {
        "id": "D9LkHiE9z4sI"
      },
      "execution_count": 69,
      "outputs": []
    },
    {
      "cell_type": "code",
      "source": [
        "transacoes_passagens %>% head(10)"
      ],
      "metadata": {
        "colab": {
          "base_uri": "https://localhost:8080/",
          "height": 501
        },
        "id": "jcD7BEli02uz",
        "outputId": "bbde0a24-b53b-4767-a554-959d995ed6c5"
      },
      "execution_count": 70,
      "outputs": [
        {
          "output_type": "display_data",
          "data": {
            "text/html": [
              "<table class=\"dataframe\">\n",
              "<caption>A tibble: 10 × 14</caption>\n",
              "<thead>\n",
              "\t<tr><th scope=col>id_cliente</th><th scope=col>Data_Compra_Passagem</th><th scope=col>Milhas_Utilizadas</th><th scope=col>Valor_Pago</th><th scope=col>classe_voo</th><th scope=col>numero_voo</th><th scope=col>Custo_Por_Milha</th><th scope=col>Data_Nascimento</th><th scope=col>Status_Fidelidade</th><th scope=col>Milhas_Acumuladas</th><th scope=col>Gasto_Total</th><th scope=col>categoria_cliente</th><th scope=col>diferenca_milhas_usadas</th><th scope=col>diferenca_valor_futuro</th></tr>\n",
              "\t<tr><th scope=col>&lt;dbl&gt;</th><th scope=col>&lt;date&gt;</th><th scope=col>&lt;dbl&gt;</th><th scope=col>&lt;dbl&gt;</th><th scope=col>&lt;chr&gt;</th><th scope=col>&lt;dbl&gt;</th><th scope=col>&lt;dbl&gt;</th><th scope=col>&lt;date&gt;</th><th scope=col>&lt;chr&gt;</th><th scope=col>&lt;dbl&gt;</th><th scope=col>&lt;dbl&gt;</th><th scope=col>&lt;chr&gt;</th><th scope=col>&lt;dbl&gt;</th><th scope=col>&lt;dbl&gt;</th></tr>\n",
              "</thead>\n",
              "<tbody>\n",
              "\t<tr><td> 3</td><td>2022-03-24</td><td>1023</td><td>1588.11</td><td>Executiva      </td><td>5616</td><td>1.55240469</td><td>1994-07-18</td><td>Diamante</td><td> 917</td><td> 519.16</td><td>Iniciante    </td><td>    0</td><td>   0</td></tr>\n",
              "\t<tr><td> 7</td><td>2022-09-16</td><td>9449</td><td>1906.01</td><td>Executiva      </td><td>2232</td><td>0.20171553</td><td>1972-08-06</td><td>Diamante</td><td>2583</td><td> 924.60</td><td>Avançado     </td><td>    0</td><td>4700</td></tr>\n",
              "\t<tr><td> 7</td><td>2022-12-07</td><td>4700</td><td>1285.88</td><td>Economica      </td><td>4947</td><td>0.27359149</td><td>1972-08-06</td><td>Diamante</td><td>2583</td><td> 924.60</td><td>Intermediário</td><td>-4749</td><td>   0</td></tr>\n",
              "\t<tr><td>10</td><td>2022-06-07</td><td>6537</td><td> 469.28</td><td>Primeira Classe</td><td> 242</td><td>0.07178828</td><td>1980-03-12</td><td>Bronze  </td><td>3829</td><td> 595.78</td><td>Avançado     </td><td>    0</td><td>   0</td></tr>\n",
              "\t<tr><td>12</td><td>2022-10-29</td><td>9312</td><td> 570.34</td><td>Executiva      </td><td>3599</td><td>0.06124785</td><td>1978-10-09</td><td>Diamante</td><td>8857</td><td>1310.66</td><td>Avançado     </td><td>    0</td><td>   0</td></tr>\n",
              "\t<tr><td>13</td><td>2022-09-07</td><td>4123</td><td> 240.23</td><td>Primeira Classe</td><td>8707</td><td>0.05826583</td><td>1996-12-31</td><td>Ouro    </td><td>2228</td><td>1316.16</td><td>Intermediário</td><td>    0</td><td>   0</td></tr>\n",
              "\t<tr><td>15</td><td>2022-07-19</td><td>7541</td><td>1377.39</td><td>Economica      </td><td> 870</td><td>0.18265349</td><td>1964-03-25</td><td>Ouro    </td><td>1513</td><td> 183.81</td><td>Avançado     </td><td>    0</td><td>   0</td></tr>\n",
              "\t<tr><td>23</td><td>2022-03-04</td><td>6121</td><td>1092.10</td><td>Primeira Classe</td><td>9804</td><td>0.17841856</td><td>1973-01-16</td><td>Prata   </td><td>6208</td><td> 720.28</td><td>Avançado     </td><td>    0</td><td>   0</td></tr>\n",
              "\t<tr><td>26</td><td>2022-03-11</td><td>8204</td><td>1558.04</td><td>Primeira Classe</td><td>3551</td><td>0.18991224</td><td>1975-02-07</td><td>Bronze  </td><td>3053</td><td>1170.27</td><td>Avançado     </td><td>    0</td><td>8161</td></tr>\n",
              "\t<tr><td>26</td><td>2022-04-04</td><td>8161</td><td> 423.71</td><td>Executiva      </td><td>2918</td><td>0.05191888</td><td>1975-02-07</td><td>Bronze  </td><td>3053</td><td>1170.27</td><td>Avançado     </td><td>  -43</td><td>   0</td></tr>\n",
              "</tbody>\n",
              "</table>\n"
            ],
            "text/markdown": "\nA tibble: 10 × 14\n\n| id_cliente &lt;dbl&gt; | Data_Compra_Passagem &lt;date&gt; | Milhas_Utilizadas &lt;dbl&gt; | Valor_Pago &lt;dbl&gt; | classe_voo &lt;chr&gt; | numero_voo &lt;dbl&gt; | Custo_Por_Milha &lt;dbl&gt; | Data_Nascimento &lt;date&gt; | Status_Fidelidade &lt;chr&gt; | Milhas_Acumuladas &lt;dbl&gt; | Gasto_Total &lt;dbl&gt; | categoria_cliente &lt;chr&gt; | diferenca_milhas_usadas &lt;dbl&gt; | diferenca_valor_futuro &lt;dbl&gt; |\n|---|---|---|---|---|---|---|---|---|---|---|---|---|---|\n|  3 | 2022-03-24 | 1023 | 1588.11 | Executiva       | 5616 | 1.55240469 | 1994-07-18 | Diamante |  917 |  519.16 | Iniciante     |     0 |    0 |\n|  7 | 2022-09-16 | 9449 | 1906.01 | Executiva       | 2232 | 0.20171553 | 1972-08-06 | Diamante | 2583 |  924.60 | Avançado      |     0 | 4700 |\n|  7 | 2022-12-07 | 4700 | 1285.88 | Economica       | 4947 | 0.27359149 | 1972-08-06 | Diamante | 2583 |  924.60 | Intermediário | -4749 |    0 |\n| 10 | 2022-06-07 | 6537 |  469.28 | Primeira Classe |  242 | 0.07178828 | 1980-03-12 | Bronze   | 3829 |  595.78 | Avançado      |     0 |    0 |\n| 12 | 2022-10-29 | 9312 |  570.34 | Executiva       | 3599 | 0.06124785 | 1978-10-09 | Diamante | 8857 | 1310.66 | Avançado      |     0 |    0 |\n| 13 | 2022-09-07 | 4123 |  240.23 | Primeira Classe | 8707 | 0.05826583 | 1996-12-31 | Ouro     | 2228 | 1316.16 | Intermediário |     0 |    0 |\n| 15 | 2022-07-19 | 7541 | 1377.39 | Economica       |  870 | 0.18265349 | 1964-03-25 | Ouro     | 1513 |  183.81 | Avançado      |     0 |    0 |\n| 23 | 2022-03-04 | 6121 | 1092.10 | Primeira Classe | 9804 | 0.17841856 | 1973-01-16 | Prata    | 6208 |  720.28 | Avançado      |     0 |    0 |\n| 26 | 2022-03-11 | 8204 | 1558.04 | Primeira Classe | 3551 | 0.18991224 | 1975-02-07 | Bronze   | 3053 | 1170.27 | Avançado      |     0 | 8161 |\n| 26 | 2022-04-04 | 8161 |  423.71 | Executiva       | 2918 | 0.05191888 | 1975-02-07 | Bronze   | 3053 | 1170.27 | Avançado      |   -43 |    0 |\n\n",
            "text/latex": "A tibble: 10 × 14\n\\begin{tabular}{llllllllllllll}\n id\\_cliente & Data\\_Compra\\_Passagem & Milhas\\_Utilizadas & Valor\\_Pago & classe\\_voo & numero\\_voo & Custo\\_Por\\_Milha & Data\\_Nascimento & Status\\_Fidelidade & Milhas\\_Acumuladas & Gasto\\_Total & categoria\\_cliente & diferenca\\_milhas\\_usadas & diferenca\\_valor\\_futuro\\\\\n <dbl> & <date> & <dbl> & <dbl> & <chr> & <dbl> & <dbl> & <date> & <chr> & <dbl> & <dbl> & <chr> & <dbl> & <dbl>\\\\\n\\hline\n\t  3 & 2022-03-24 & 1023 & 1588.11 & Executiva       & 5616 & 1.55240469 & 1994-07-18 & Diamante &  917 &  519.16 & Iniciante     &     0 &    0\\\\\n\t  7 & 2022-09-16 & 9449 & 1906.01 & Executiva       & 2232 & 0.20171553 & 1972-08-06 & Diamante & 2583 &  924.60 & Avançado      &     0 & 4700\\\\\n\t  7 & 2022-12-07 & 4700 & 1285.88 & Economica       & 4947 & 0.27359149 & 1972-08-06 & Diamante & 2583 &  924.60 & Intermediário & -4749 &    0\\\\\n\t 10 & 2022-06-07 & 6537 &  469.28 & Primeira Classe &  242 & 0.07178828 & 1980-03-12 & Bronze   & 3829 &  595.78 & Avançado      &     0 &    0\\\\\n\t 12 & 2022-10-29 & 9312 &  570.34 & Executiva       & 3599 & 0.06124785 & 1978-10-09 & Diamante & 8857 & 1310.66 & Avançado      &     0 &    0\\\\\n\t 13 & 2022-09-07 & 4123 &  240.23 & Primeira Classe & 8707 & 0.05826583 & 1996-12-31 & Ouro     & 2228 & 1316.16 & Intermediário &     0 &    0\\\\\n\t 15 & 2022-07-19 & 7541 & 1377.39 & Economica       &  870 & 0.18265349 & 1964-03-25 & Ouro     & 1513 &  183.81 & Avançado      &     0 &    0\\\\\n\t 23 & 2022-03-04 & 6121 & 1092.10 & Primeira Classe & 9804 & 0.17841856 & 1973-01-16 & Prata    & 6208 &  720.28 & Avançado      &     0 &    0\\\\\n\t 26 & 2022-03-11 & 8204 & 1558.04 & Primeira Classe & 3551 & 0.18991224 & 1975-02-07 & Bronze   & 3053 & 1170.27 & Avançado      &     0 & 8161\\\\\n\t 26 & 2022-04-04 & 8161 &  423.71 & Executiva       & 2918 & 0.05191888 & 1975-02-07 & Bronze   & 3053 & 1170.27 & Avançado      &   -43 &    0\\\\\n\\end{tabular}\n",
            "text/plain": [
              "   id_cliente Data_Compra_Passagem Milhas_Utilizadas Valor_Pago classe_voo     \n",
              "1   3         2022-03-24           1023              1588.11    Executiva      \n",
              "2   7         2022-09-16           9449              1906.01    Executiva      \n",
              "3   7         2022-12-07           4700              1285.88    Economica      \n",
              "4  10         2022-06-07           6537               469.28    Primeira Classe\n",
              "5  12         2022-10-29           9312               570.34    Executiva      \n",
              "6  13         2022-09-07           4123               240.23    Primeira Classe\n",
              "7  15         2022-07-19           7541              1377.39    Economica      \n",
              "8  23         2022-03-04           6121              1092.10    Primeira Classe\n",
              "9  26         2022-03-11           8204              1558.04    Primeira Classe\n",
              "10 26         2022-04-04           8161               423.71    Executiva      \n",
              "   numero_voo Custo_Por_Milha Data_Nascimento Status_Fidelidade\n",
              "1  5616       1.55240469      1994-07-18      Diamante         \n",
              "2  2232       0.20171553      1972-08-06      Diamante         \n",
              "3  4947       0.27359149      1972-08-06      Diamante         \n",
              "4   242       0.07178828      1980-03-12      Bronze           \n",
              "5  3599       0.06124785      1978-10-09      Diamante         \n",
              "6  8707       0.05826583      1996-12-31      Ouro             \n",
              "7   870       0.18265349      1964-03-25      Ouro             \n",
              "8  9804       0.17841856      1973-01-16      Prata            \n",
              "9  3551       0.18991224      1975-02-07      Bronze           \n",
              "10 2918       0.05191888      1975-02-07      Bronze           \n",
              "   Milhas_Acumuladas Gasto_Total categoria_cliente diferenca_milhas_usadas\n",
              "1   917               519.16     Iniciante             0                  \n",
              "2  2583               924.60     Avançado              0                  \n",
              "3  2583               924.60     Intermediário     -4749                  \n",
              "4  3829               595.78     Avançado              0                  \n",
              "5  8857              1310.66     Avançado              0                  \n",
              "6  2228              1316.16     Intermediário         0                  \n",
              "7  1513               183.81     Avançado              0                  \n",
              "8  6208               720.28     Avançado              0                  \n",
              "9  3053              1170.27     Avançado              0                  \n",
              "10 3053              1170.27     Avançado            -43                  \n",
              "   diferenca_valor_futuro\n",
              "1     0                  \n",
              "2  4700                  \n",
              "3     0                  \n",
              "4     0                  \n",
              "5     0                  \n",
              "6     0                  \n",
              "7     0                  \n",
              "8     0                  \n",
              "9  8161                  \n",
              "10    0                  "
            ]
          },
          "metadata": {}
        }
      ]
    },
    {
      "cell_type": "markdown",
      "source": [
        "**Transformar colunas em linhas com pivot_longer**"
      ],
      "metadata": {
        "id": "Vy5SolHq7ciP"
      }
    },
    {
      "cell_type": "code",
      "source": [
        "transacoes_passagens %>%\n",
        "  select(id_cliente, Milhas_Utilizadas, Milhas_Acumuladas) %>%\n",
        "  head()"
      ],
      "metadata": {
        "colab": {
          "base_uri": "https://localhost:8080/",
          "height": 286
        },
        "id": "0c3GsE047h1z",
        "outputId": "338ec62b-bebd-4120-c7ac-b4e616c699fd"
      },
      "execution_count": 72,
      "outputs": [
        {
          "output_type": "display_data",
          "data": {
            "text/html": [
              "<table class=\"dataframe\">\n",
              "<caption>A tibble: 6 × 3</caption>\n",
              "<thead>\n",
              "\t<tr><th scope=col>id_cliente</th><th scope=col>Milhas_Utilizadas</th><th scope=col>Milhas_Acumuladas</th></tr>\n",
              "\t<tr><th scope=col>&lt;dbl&gt;</th><th scope=col>&lt;dbl&gt;</th><th scope=col>&lt;dbl&gt;</th></tr>\n",
              "</thead>\n",
              "<tbody>\n",
              "\t<tr><td> 3</td><td>1023</td><td> 917</td></tr>\n",
              "\t<tr><td> 7</td><td>9449</td><td>2583</td></tr>\n",
              "\t<tr><td> 7</td><td>4700</td><td>2583</td></tr>\n",
              "\t<tr><td>10</td><td>6537</td><td>3829</td></tr>\n",
              "\t<tr><td>12</td><td>9312</td><td>8857</td></tr>\n",
              "\t<tr><td>13</td><td>4123</td><td>2228</td></tr>\n",
              "</tbody>\n",
              "</table>\n"
            ],
            "text/markdown": "\nA tibble: 6 × 3\n\n| id_cliente &lt;dbl&gt; | Milhas_Utilizadas &lt;dbl&gt; | Milhas_Acumuladas &lt;dbl&gt; |\n|---|---|---|\n|  3 | 1023 |  917 |\n|  7 | 9449 | 2583 |\n|  7 | 4700 | 2583 |\n| 10 | 6537 | 3829 |\n| 12 | 9312 | 8857 |\n| 13 | 4123 | 2228 |\n\n",
            "text/latex": "A tibble: 6 × 3\n\\begin{tabular}{lll}\n id\\_cliente & Milhas\\_Utilizadas & Milhas\\_Acumuladas\\\\\n <dbl> & <dbl> & <dbl>\\\\\n\\hline\n\t  3 & 1023 &  917\\\\\n\t  7 & 9449 & 2583\\\\\n\t  7 & 4700 & 2583\\\\\n\t 10 & 6537 & 3829\\\\\n\t 12 & 9312 & 8857\\\\\n\t 13 & 4123 & 2228\\\\\n\\end{tabular}\n",
            "text/plain": [
              "  id_cliente Milhas_Utilizadas Milhas_Acumuladas\n",
              "1  3         1023               917             \n",
              "2  7         9449              2583             \n",
              "3  7         4700              2583             \n",
              "4 10         6537              3829             \n",
              "5 12         9312              8857             \n",
              "6 13         4123              2228             "
            ]
          },
          "metadata": {}
        }
      ]
    },
    {
      "cell_type": "code",
      "source": [
        "df_long <- transacoes_passagens %>%\n",
        "  pivot_longer(\n",
        "  cols = starts_with(\"Milhas\"),\n",
        "  names_to = \"tipo_milhas\",\n",
        "  values_to = \"quantidade\"\n",
        "  ) %>%\n",
        "    select(id_cliente, tipo_milhas, quantidade)"
      ],
      "metadata": {
        "id": "2AwWb2o78HAV"
      },
      "execution_count": 73,
      "outputs": []
    },
    {
      "cell_type": "code",
      "source": [
        "df_long %>% head()"
      ],
      "metadata": {
        "colab": {
          "base_uri": "https://localhost:8080/",
          "height": 286
        },
        "id": "SDk7FXoL8xjq",
        "outputId": "9037fcdf-07d9-4df4-a236-9ca0c045e320"
      },
      "execution_count": 74,
      "outputs": [
        {
          "output_type": "display_data",
          "data": {
            "text/html": [
              "<table class=\"dataframe\">\n",
              "<caption>A tibble: 6 × 3</caption>\n",
              "<thead>\n",
              "\t<tr><th scope=col>id_cliente</th><th scope=col>tipo_milhas</th><th scope=col>quantidade</th></tr>\n",
              "\t<tr><th scope=col>&lt;dbl&gt;</th><th scope=col>&lt;chr&gt;</th><th scope=col>&lt;dbl&gt;</th></tr>\n",
              "</thead>\n",
              "<tbody>\n",
              "\t<tr><td>3</td><td>Milhas_Utilizadas</td><td>1023</td></tr>\n",
              "\t<tr><td>3</td><td>Milhas_Acumuladas</td><td> 917</td></tr>\n",
              "\t<tr><td>7</td><td>Milhas_Utilizadas</td><td>9449</td></tr>\n",
              "\t<tr><td>7</td><td>Milhas_Acumuladas</td><td>2583</td></tr>\n",
              "\t<tr><td>7</td><td>Milhas_Utilizadas</td><td>4700</td></tr>\n",
              "\t<tr><td>7</td><td>Milhas_Acumuladas</td><td>2583</td></tr>\n",
              "</tbody>\n",
              "</table>\n"
            ],
            "text/markdown": "\nA tibble: 6 × 3\n\n| id_cliente &lt;dbl&gt; | tipo_milhas &lt;chr&gt; | quantidade &lt;dbl&gt; |\n|---|---|---|\n| 3 | Milhas_Utilizadas | 1023 |\n| 3 | Milhas_Acumuladas |  917 |\n| 7 | Milhas_Utilizadas | 9449 |\n| 7 | Milhas_Acumuladas | 2583 |\n| 7 | Milhas_Utilizadas | 4700 |\n| 7 | Milhas_Acumuladas | 2583 |\n\n",
            "text/latex": "A tibble: 6 × 3\n\\begin{tabular}{lll}\n id\\_cliente & tipo\\_milhas & quantidade\\\\\n <dbl> & <chr> & <dbl>\\\\\n\\hline\n\t 3 & Milhas\\_Utilizadas & 1023\\\\\n\t 3 & Milhas\\_Acumuladas &  917\\\\\n\t 7 & Milhas\\_Utilizadas & 9449\\\\\n\t 7 & Milhas\\_Acumuladas & 2583\\\\\n\t 7 & Milhas\\_Utilizadas & 4700\\\\\n\t 7 & Milhas\\_Acumuladas & 2583\\\\\n\\end{tabular}\n",
            "text/plain": [
              "  id_cliente tipo_milhas       quantidade\n",
              "1 3          Milhas_Utilizadas 1023      \n",
              "2 3          Milhas_Acumuladas  917      \n",
              "3 7          Milhas_Utilizadas 9449      \n",
              "4 7          Milhas_Acumuladas 2583      \n",
              "5 7          Milhas_Utilizadas 4700      \n",
              "6 7          Milhas_Acumuladas 2583      "
            ]
          },
          "metadata": {}
        }
      ]
    },
    {
      "cell_type": "code",
      "source": [
        "df_long %>%\n",
        "  group_by(tipo_milhas) %>%\n",
        "  summarise(\n",
        "  media = mean(quantidade),\n",
        "  mediana = median(quantidade),\n",
        "  desvio_padrao = sd(quantidade),\n",
        "  )"
      ],
      "metadata": {
        "colab": {
          "base_uri": "https://localhost:8080/",
          "height": 161
        },
        "id": "zoT0cZq08zth",
        "outputId": "0d808809-2e2f-41f7-a8d4-8758cf6c39fc"
      },
      "execution_count": 79,
      "outputs": [
        {
          "output_type": "display_data",
          "data": {
            "text/html": [
              "<table class=\"dataframe\">\n",
              "<caption>A tibble: 2 × 4</caption>\n",
              "<thead>\n",
              "\t<tr><th scope=col>tipo_milhas</th><th scope=col>media</th><th scope=col>mediana</th><th scope=col>desvio_padrao</th></tr>\n",
              "\t<tr><th scope=col>&lt;chr&gt;</th><th scope=col>&lt;dbl&gt;</th><th scope=col>&lt;dbl&gt;</th><th scope=col>&lt;dbl&gt;</th></tr>\n",
              "</thead>\n",
              "<tbody>\n",
              "\t<tr><td>Milhas_Acumuladas</td><td>5028.865</td><td>4926.5</td><td>2916.979</td></tr>\n",
              "\t<tr><td>Milhas_Utilizadas</td><td>5112.629</td><td>5260.5</td><td>2793.163</td></tr>\n",
              "</tbody>\n",
              "</table>\n"
            ],
            "text/markdown": "\nA tibble: 2 × 4\n\n| tipo_milhas &lt;chr&gt; | media &lt;dbl&gt; | mediana &lt;dbl&gt; | desvio_padrao &lt;dbl&gt; |\n|---|---|---|---|\n| Milhas_Acumuladas | 5028.865 | 4926.5 | 2916.979 |\n| Milhas_Utilizadas | 5112.629 | 5260.5 | 2793.163 |\n\n",
            "text/latex": "A tibble: 2 × 4\n\\begin{tabular}{llll}\n tipo\\_milhas & media & mediana & desvio\\_padrao\\\\\n <chr> & <dbl> & <dbl> & <dbl>\\\\\n\\hline\n\t Milhas\\_Acumuladas & 5028.865 & 4926.5 & 2916.979\\\\\n\t Milhas\\_Utilizadas & 5112.629 & 5260.5 & 2793.163\\\\\n\\end{tabular}\n",
            "text/plain": [
              "  tipo_milhas       media    mediana desvio_padrao\n",
              "1 Milhas_Acumuladas 5028.865 4926.5  2916.979     \n",
              "2 Milhas_Utilizadas 5112.629 5260.5  2793.163     "
            ]
          },
          "metadata": {}
        }
      ]
    },
    {
      "cell_type": "markdown",
      "source": [
        "**Documentação R**\n",
        "\n",
        "O link para a documentação do R sobre estruturas de dados oferece uma visão geral das diferentes estruturas disponíveis na linguagem, como vetores, listas, data frames e matrizes. A documentação inclui exemplos práticos, guias para iniciantes, e explicações detalhadas sobre como utilizar e manipular essas estruturas de dados em R. É uma fonte tanto para quem está começando na programação em R quanto para pessoas mais experientes, fornecendo informações para a análise e visualização de dados.\n",
        "\n",
        "https://cran.r-project.org/doc/manuals/r-release/R-intro.html#Lists-and-data-frames"
      ],
      "metadata": {
        "id": "PS6Ymwoq99_T"
      }
    },
    {
      "cell_type": "markdown",
      "source": [
        "**Documentação dplyr**\n",
        "\n",
        "A página da biblioteca dplyr do R, parte do tidyverse, oferece uma excelente referência para quem está aprendendo manipulação de dados com essa linguagem de programação. Ela descreve a gramática de manipulação de dados da dplyr, com verbos consistentes para as tarefas mais comuns, como adicionar novas variáveis, selecionar colunas, filtrar linhas, sumarizar dados e ordenar registros.\n",
        "\n",
        "https://dplyr.tidyverse.org/"
      ],
      "metadata": {
        "id": "xFNfp97r-DZX"
      }
    }
  ]
}