{
  "nbformat": 4,
  "nbformat_minor": 0,
  "metadata": {
    "colab": {
      "provenance": []
    },
    "kernelspec": {
      "name": "ir",
      "display_name": "R"
    },
    "language_info": {
      "name": "R"
    }
  },
  "cells": [
    {
      "cell_type": "markdown",
      "source": [
        "**Link do arquivo**\n",
        "\n",
        "https://cdn3.gnarususercontent.com.br/3816-r/Projeto/Pedidos_Hermex_Log.csv"
      ],
      "metadata": {
        "id": "ZTUsuxWYpH4A"
      }
    },
    {
      "cell_type": "markdown",
      "source": [
        "# Iniciando o projeto"
      ],
      "metadata": {
        "id": "nZKk4VcHpQfD"
      }
    },
    {
      "cell_type": "markdown",
      "source": [
        "**Instalando a biblioteca Tidyverse**"
      ],
      "metadata": {
        "id": "T4oVZQE4psXl"
      }
    },
    {
      "cell_type": "code",
      "source": [
        "install.packages(\"tidyverse\")"
      ],
      "metadata": {
        "colab": {
          "base_uri": "https://localhost:8080/"
        },
        "id": "B4tHUNGPpzqM",
        "outputId": "425df4ac-04eb-4c46-fd5b-56d054cb0442"
      },
      "execution_count": 190,
      "outputs": [
        {
          "output_type": "stream",
          "name": "stderr",
          "text": [
            "Installing package into ‘/usr/local/lib/R/site-library’\n",
            "(as ‘lib’ is unspecified)\n",
            "\n"
          ]
        }
      ]
    },
    {
      "cell_type": "markdown",
      "source": [
        "**Carregando os pacotes do tidyverse**"
      ],
      "metadata": {
        "id": "w3czwqrSqw3t"
      }
    },
    {
      "cell_type": "code",
      "source": [
        "library(tidyverse)"
      ],
      "metadata": {
        "id": "vJcH4x0tp_s6"
      },
      "execution_count": 191,
      "outputs": []
    },
    {
      "cell_type": "markdown",
      "source": [
        "**importando o arquivo de formato csv - Arquivo pedidos**"
      ],
      "metadata": {
        "id": "RQe597u9rRQC"
      }
    },
    {
      "cell_type": "code",
      "source": [
        "pedidos <- read_csv(\"/content/Pedidos_Hermex_Log.csv\", show_col_types = FALSE)"
      ],
      "metadata": {
        "id": "6OA_X4R6rZZF"
      },
      "execution_count": 192,
      "outputs": []
    },
    {
      "cell_type": "code",
      "source": [
        "head(pedidos)"
      ],
      "metadata": {
        "colab": {
          "base_uri": "https://localhost:8080/",
          "height": 442
        },
        "id": "77hVfOUormt2",
        "outputId": "20c1b688-e7d4-4775-eff5-53959f3b97de"
      },
      "execution_count": 193,
      "outputs": [
        {
          "output_type": "display_data",
          "data": {
            "text/html": [
              "<table class=\"dataframe\">\n",
              "<caption>A tibble: 6 × 9</caption>\n",
              "<thead>\n",
              "\t<tr><th scope=col>PedidoID</th><th scope=col>ClienteID</th><th scope=col>DataPedido</th><th scope=col>DataEntrega</th><th scope=col>Status</th><th scope=col>ValorTotal</th><th scope=col>TransportadorID</th><th scope=col>Regiao</th><th scope=col>EnderecoPedido</th></tr>\n",
              "\t<tr><th scope=col>&lt;dbl&gt;</th><th scope=col>&lt;dbl&gt;</th><th scope=col>&lt;dttm&gt;</th><th scope=col>&lt;dttm&gt;</th><th scope=col>&lt;chr&gt;</th><th scope=col>&lt;dbl&gt;</th><th scope=col>&lt;dbl&gt;</th><th scope=col>&lt;chr&gt;</th><th scope=col>&lt;chr&gt;</th></tr>\n",
              "</thead>\n",
              "<tbody>\n",
              "\t<tr><td>101</td><td>14</td><td>2024-07-01 18:56:18</td><td>2024-07-14 08:00:17</td><td>Entregue</td><td>1895.15</td><td>2</td><td>Sudeste</td><td>Travessa das Palmeiras, 789, Savassi, Belo Horizonte, 30100-000</td></tr>\n",
              "\t<tr><td>102</td><td>12</td><td>2024-07-02 20:57:26</td><td>2024-07-12 11:46:21</td><td>Entregue</td><td>2827.16</td><td>2</td><td>Sudeste</td><td>Avenida Paulista, 456, Bela Vista, São Paulo, 01300-000        </td></tr>\n",
              "\t<tr><td>103</td><td> 3</td><td>2024-07-03 17:18:26</td><td>2024-07-22 08:57:49</td><td>Entregue</td><td>2576.52</td><td>2</td><td>Norte  </td><td>Rua das Flores, 123, Centro, Manaus, 69000-000                 </td></tr>\n",
              "\t<tr><td>104</td><td> 7</td><td>2024-07-04 08:11:38</td><td>2024-07-21 05:59:59</td><td>Entregue</td><td>2820.98</td><td>2</td><td>Sul    </td><td>Travessa das Hortênsias, 789, Centro, Florianópolis, 88000-000 </td></tr>\n",
              "\t<tr><td>105</td><td>20</td><td>2024-07-05 10:50:35</td><td>2024-07-19 02:15:03</td><td>Entregue</td><td>2693.72</td><td>2</td><td>Sudeste</td><td>Travessa das Palmeiras, 789, Savassi, Belo Horizonte, 30100-000</td></tr>\n",
              "\t<tr><td>106</td><td> 9</td><td>2024-07-06 07:01:49</td><td>2024-07-25 14:40:41</td><td>Entregue</td><td>2405.18</td><td>2</td><td>Norte  </td><td>Rua das Flores, 123, Centro, Manaus, 69000-000                 </td></tr>\n",
              "</tbody>\n",
              "</table>\n"
            ],
            "text/markdown": "\nA tibble: 6 × 9\n\n| PedidoID &lt;dbl&gt; | ClienteID &lt;dbl&gt; | DataPedido &lt;dttm&gt; | DataEntrega &lt;dttm&gt; | Status &lt;chr&gt; | ValorTotal &lt;dbl&gt; | TransportadorID &lt;dbl&gt; | Regiao &lt;chr&gt; | EnderecoPedido &lt;chr&gt; |\n|---|---|---|---|---|---|---|---|---|\n| 101 | 14 | 2024-07-01 18:56:18 | 2024-07-14 08:00:17 | Entregue | 1895.15 | 2 | Sudeste | Travessa das Palmeiras, 789, Savassi, Belo Horizonte, 30100-000 |\n| 102 | 12 | 2024-07-02 20:57:26 | 2024-07-12 11:46:21 | Entregue | 2827.16 | 2 | Sudeste | Avenida Paulista, 456, Bela Vista, São Paulo, 01300-000         |\n| 103 |  3 | 2024-07-03 17:18:26 | 2024-07-22 08:57:49 | Entregue | 2576.52 | 2 | Norte   | Rua das Flores, 123, Centro, Manaus, 69000-000                  |\n| 104 |  7 | 2024-07-04 08:11:38 | 2024-07-21 05:59:59 | Entregue | 2820.98 | 2 | Sul     | Travessa das Hortênsias, 789, Centro, Florianópolis, 88000-000  |\n| 105 | 20 | 2024-07-05 10:50:35 | 2024-07-19 02:15:03 | Entregue | 2693.72 | 2 | Sudeste | Travessa das Palmeiras, 789, Savassi, Belo Horizonte, 30100-000 |\n| 106 |  9 | 2024-07-06 07:01:49 | 2024-07-25 14:40:41 | Entregue | 2405.18 | 2 | Norte   | Rua das Flores, 123, Centro, Manaus, 69000-000                  |\n\n",
            "text/latex": "A tibble: 6 × 9\n\\begin{tabular}{lllllllll}\n PedidoID & ClienteID & DataPedido & DataEntrega & Status & ValorTotal & TransportadorID & Regiao & EnderecoPedido\\\\\n <dbl> & <dbl> & <dttm> & <dttm> & <chr> & <dbl> & <dbl> & <chr> & <chr>\\\\\n\\hline\n\t 101 & 14 & 2024-07-01 18:56:18 & 2024-07-14 08:00:17 & Entregue & 1895.15 & 2 & Sudeste & Travessa das Palmeiras, 789, Savassi, Belo Horizonte, 30100-000\\\\\n\t 102 & 12 & 2024-07-02 20:57:26 & 2024-07-12 11:46:21 & Entregue & 2827.16 & 2 & Sudeste & Avenida Paulista, 456, Bela Vista, São Paulo, 01300-000        \\\\\n\t 103 &  3 & 2024-07-03 17:18:26 & 2024-07-22 08:57:49 & Entregue & 2576.52 & 2 & Norte   & Rua das Flores, 123, Centro, Manaus, 69000-000                 \\\\\n\t 104 &  7 & 2024-07-04 08:11:38 & 2024-07-21 05:59:59 & Entregue & 2820.98 & 2 & Sul     & Travessa das Hortênsias, 789, Centro, Florianópolis, 88000-000 \\\\\n\t 105 & 20 & 2024-07-05 10:50:35 & 2024-07-19 02:15:03 & Entregue & 2693.72 & 2 & Sudeste & Travessa das Palmeiras, 789, Savassi, Belo Horizonte, 30100-000\\\\\n\t 106 &  9 & 2024-07-06 07:01:49 & 2024-07-25 14:40:41 & Entregue & 2405.18 & 2 & Norte   & Rua das Flores, 123, Centro, Manaus, 69000-000                 \\\\\n\\end{tabular}\n",
            "text/plain": [
              "  PedidoID ClienteID DataPedido          DataEntrega         Status  \n",
              "1 101      14        2024-07-01 18:56:18 2024-07-14 08:00:17 Entregue\n",
              "2 102      12        2024-07-02 20:57:26 2024-07-12 11:46:21 Entregue\n",
              "3 103       3        2024-07-03 17:18:26 2024-07-22 08:57:49 Entregue\n",
              "4 104       7        2024-07-04 08:11:38 2024-07-21 05:59:59 Entregue\n",
              "5 105      20        2024-07-05 10:50:35 2024-07-19 02:15:03 Entregue\n",
              "6 106       9        2024-07-06 07:01:49 2024-07-25 14:40:41 Entregue\n",
              "  ValorTotal TransportadorID Regiao \n",
              "1 1895.15    2               Sudeste\n",
              "2 2827.16    2               Sudeste\n",
              "3 2576.52    2               Norte  \n",
              "4 2820.98    2               Sul    \n",
              "5 2693.72    2               Sudeste\n",
              "6 2405.18    2               Norte  \n",
              "  EnderecoPedido                                                 \n",
              "1 Travessa das Palmeiras, 789, Savassi, Belo Horizonte, 30100-000\n",
              "2 Avenida Paulista, 456, Bela Vista, São Paulo, 01300-000        \n",
              "3 Rua das Flores, 123, Centro, Manaus, 69000-000                 \n",
              "4 Travessa das Hortênsias, 789, Centro, Florianópolis, 88000-000 \n",
              "5 Travessa das Palmeiras, 789, Savassi, Belo Horizonte, 30100-000\n",
              "6 Rua das Flores, 123, Centro, Manaus, 69000-000                 "
            ]
          },
          "metadata": {}
        }
      ]
    },
    {
      "cell_type": "code",
      "source": [
        "summary(pedidos)"
      ],
      "metadata": {
        "colab": {
          "base_uri": "https://localhost:8080/",
          "height": 434
        },
        "id": "6jzKsr4SrrlX",
        "outputId": "1dfa1717-640a-42ac-aeaf-ffbdd5501b9e"
      },
      "execution_count": 194,
      "outputs": [
        {
          "output_type": "display_data",
          "data": {
            "text/plain": [
              "    PedidoID       ClienteID       DataPedido                    \n",
              " Min.   :101.0   Min.   : 1.00   Min.   :2024-07-01 18:56:18.00  \n",
              " 1st Qu.:155.8   1st Qu.: 7.00   1st Qu.:2024-08-18 12:08:34.00  \n",
              " Median :210.5   Median :10.00   Median :2024-09-15 01:18:42.00  \n",
              " Mean   :210.5   Mean   :10.86   Mean   :2024-09-13 12:57:21.61  \n",
              " 3rd Qu.:265.2   3rd Qu.:14.00   3rd Qu.:2024-10-12 12:50:39.00  \n",
              " Max.   :320.0   Max.   :20.00   Max.   :2024-11-08 09:51:12.00  \n",
              "                                                                 \n",
              "  DataEntrega                        Status            ValorTotal  \n",
              " Min.   :2024-07-12 11:46:21.00   Length:220         Min.   :1505  \n",
              " 1st Qu.:2024-09-02 14:04:16.50   Class :character   1st Qu.:1898  \n",
              " Median :2024-09-24 12:29:49.00   Mode  :character   Median :2347  \n",
              " Mean   :2024-09-25 23:17:33.84                      Mean   :2300  \n",
              " 3rd Qu.:2024-10-24 02:23:17.25                      3rd Qu.:2690  \n",
              " Max.   :2024-11-26 21:57:28.00                      Max.   :2995  \n",
              " NA's   :44                                                        \n",
              " TransportadorID    Regiao          EnderecoPedido    \n",
              " Min.   :1.0     Length:220         Length:220        \n",
              " 1st Qu.:1.0     Class :character   Class :character  \n",
              " Median :1.5     Mode  :character   Mode  :character  \n",
              " Mean   :1.5                                          \n",
              " 3rd Qu.:2.0                                          \n",
              " Max.   :2.0                                          \n",
              " NA's   :30                                           "
            ]
          },
          "metadata": {}
        }
      ]
    },
    {
      "cell_type": "markdown",
      "source": [
        "**Principais Pacotes do Tidyverse:**\n",
        "\n",
        "\n",
        "\n",
        "1. ggplot2: Utilizado para visualização de dados, o ggplot2 é um sistema baseado na gramática dos gráficos. Ele permite criar gráficos complexos de forma declarativa e altamente customizável.\n",
        "\n",
        "2. dplyr: Focado na manipulação de dados, o dplyr fornece uma sintaxe intuitiva para filtrar, selecionar, agrupar, sumarizar e juntar conjuntos de dados.\n",
        "\n",
        "3. tidyr: Este pacote facilita a transformação de dados “bagunçados” em dados “arrumados”, um formato que facilita a análise e a modelagem.\n",
        "\n",
        "4. readr: Utilizado para importar dados em vários formatos (CSV, TSV, etc.) de maneira rápida e eficiente, mantendo a coerência dos tipos de dados.\n",
        "\n",
        "5. purrr: Expande a funcionalidade da programação funcional no R, permitindo a aplicação de funções de maneira mais robusta e elegante em listas e vetores.\n",
        "\n",
        "6. tibble: Uma modernização dos data frames do R, os tibbles oferecem uma melhor formatação e suporte para tipos de dados modernos, facilitando a inspeção e manipulação de dados.\n",
        "\n",
        "7. stringr: Fornece uma maneira consistente e simples de manipular strings (textos) no R, utilizando funções de modo claro e simples de compreender.\n",
        "\n",
        "8. forcats: Simplifica o trabalho com fatores, uma estrutura de dados para variáveis categóricas no R, facilitando a reorganização e análise dessas variáveis."
      ],
      "metadata": {
        "id": "qXrlS_-kvCWY"
      }
    },
    {
      "cell_type": "markdown",
      "source": [
        "**Selecionando colunad de ID e Status**"
      ],
      "metadata": {
        "id": "D9n5aHeOwmb5"
      }
    },
    {
      "cell_type": "code",
      "source": [
        "pedidos %>%\n",
        "  select(PedidoID, Status)"
      ],
      "metadata": {
        "colab": {
          "base_uri": "https://localhost:8080/",
          "height": 1000
        },
        "id": "6Ko0zl8Uwra8",
        "outputId": "7261f750-f8fb-44c3-dbb5-1c7e577e4426"
      },
      "execution_count": 195,
      "outputs": [
        {
          "output_type": "display_data",
          "data": {
            "text/html": [
              "<table class=\"dataframe\">\n",
              "<caption>A tibble: 220 × 2</caption>\n",
              "<thead>\n",
              "\t<tr><th scope=col>PedidoID</th><th scope=col>Status</th></tr>\n",
              "\t<tr><th scope=col>&lt;dbl&gt;</th><th scope=col>&lt;chr&gt;</th></tr>\n",
              "</thead>\n",
              "<tbody>\n",
              "\t<tr><td>101</td><td>Entregue   </td></tr>\n",
              "\t<tr><td>102</td><td>Entregue   </td></tr>\n",
              "\t<tr><td>103</td><td>Entregue   </td></tr>\n",
              "\t<tr><td>104</td><td>Entregue   </td></tr>\n",
              "\t<tr><td>105</td><td>Entregue   </td></tr>\n",
              "\t<tr><td>106</td><td>Entregue   </td></tr>\n",
              "\t<tr><td>107</td><td>Entregue   </td></tr>\n",
              "\t<tr><td>108</td><td>Entregue   </td></tr>\n",
              "\t<tr><td>109</td><td>Entregue   </td></tr>\n",
              "\t<tr><td>110</td><td>Em trânsito</td></tr>\n",
              "\t<tr><td>111</td><td>Entregue   </td></tr>\n",
              "\t<tr><td>112</td><td>Entregue   </td></tr>\n",
              "\t<tr><td>113</td><td>Entregue   </td></tr>\n",
              "\t<tr><td>114</td><td>Entregue   </td></tr>\n",
              "\t<tr><td>115</td><td>Entregue   </td></tr>\n",
              "\t<tr><td>116</td><td>Em trânsito</td></tr>\n",
              "\t<tr><td>117</td><td>Pendente   </td></tr>\n",
              "\t<tr><td>118</td><td>Entregue   </td></tr>\n",
              "\t<tr><td>119</td><td>Pendente   </td></tr>\n",
              "\t<tr><td>120</td><td>Entregue   </td></tr>\n",
              "\t<tr><td>121</td><td>Entregue   </td></tr>\n",
              "\t<tr><td>122</td><td>Entregue   </td></tr>\n",
              "\t<tr><td>123</td><td>Entregue   </td></tr>\n",
              "\t<tr><td>124</td><td>Entregue   </td></tr>\n",
              "\t<tr><td>125</td><td>Entregue   </td></tr>\n",
              "\t<tr><td>126</td><td>Em trânsito</td></tr>\n",
              "\t<tr><td>127</td><td>Entregue   </td></tr>\n",
              "\t<tr><td>128</td><td>Entregue   </td></tr>\n",
              "\t<tr><td>129</td><td>Entregue   </td></tr>\n",
              "\t<tr><td>130</td><td>Entregue   </td></tr>\n",
              "\t<tr><td>⋮</td><td>⋮</td></tr>\n",
              "\t<tr><td>291</td><td>Pendente   </td></tr>\n",
              "\t<tr><td>292</td><td>Entregue   </td></tr>\n",
              "\t<tr><td>293</td><td>Entregue   </td></tr>\n",
              "\t<tr><td>294</td><td>Em trânsito</td></tr>\n",
              "\t<tr><td>295</td><td>Entregue   </td></tr>\n",
              "\t<tr><td>296</td><td>Entregue   </td></tr>\n",
              "\t<tr><td>297</td><td>Pendente   </td></tr>\n",
              "\t<tr><td>298</td><td>Em trânsito</td></tr>\n",
              "\t<tr><td>299</td><td>Entregue   </td></tr>\n",
              "\t<tr><td>300</td><td>Entregue   </td></tr>\n",
              "\t<tr><td>301</td><td>Entregue   </td></tr>\n",
              "\t<tr><td>302</td><td>Em trânsito</td></tr>\n",
              "\t<tr><td>303</td><td>Entregue   </td></tr>\n",
              "\t<tr><td>304</td><td>Entregue   </td></tr>\n",
              "\t<tr><td>305</td><td>Entregue   </td></tr>\n",
              "\t<tr><td>306</td><td>Entregue   </td></tr>\n",
              "\t<tr><td>307</td><td>Entregue   </td></tr>\n",
              "\t<tr><td>308</td><td>Entregue   </td></tr>\n",
              "\t<tr><td>309</td><td>Entregue   </td></tr>\n",
              "\t<tr><td>310</td><td>Em trânsito</td></tr>\n",
              "\t<tr><td>311</td><td>Em trânsito</td></tr>\n",
              "\t<tr><td>312</td><td>Entregue   </td></tr>\n",
              "\t<tr><td>313</td><td>Entregue   </td></tr>\n",
              "\t<tr><td>314</td><td>Entregue   </td></tr>\n",
              "\t<tr><td>315</td><td>Entregue   </td></tr>\n",
              "\t<tr><td>316</td><td>Entregue   </td></tr>\n",
              "\t<tr><td>317</td><td>Entregue   </td></tr>\n",
              "\t<tr><td>318</td><td>Entregue   </td></tr>\n",
              "\t<tr><td>319</td><td>Pendente   </td></tr>\n",
              "\t<tr><td>320</td><td>Entregue   </td></tr>\n",
              "</tbody>\n",
              "</table>\n"
            ],
            "text/markdown": "\nA tibble: 220 × 2\n\n| PedidoID &lt;dbl&gt; | Status &lt;chr&gt; |\n|---|---|\n| 101 | Entregue    |\n| 102 | Entregue    |\n| 103 | Entregue    |\n| 104 | Entregue    |\n| 105 | Entregue    |\n| 106 | Entregue    |\n| 107 | Entregue    |\n| 108 | Entregue    |\n| 109 | Entregue    |\n| 110 | Em trânsito |\n| 111 | Entregue    |\n| 112 | Entregue    |\n| 113 | Entregue    |\n| 114 | Entregue    |\n| 115 | Entregue    |\n| 116 | Em trânsito |\n| 117 | Pendente    |\n| 118 | Entregue    |\n| 119 | Pendente    |\n| 120 | Entregue    |\n| 121 | Entregue    |\n| 122 | Entregue    |\n| 123 | Entregue    |\n| 124 | Entregue    |\n| 125 | Entregue    |\n| 126 | Em trânsito |\n| 127 | Entregue    |\n| 128 | Entregue    |\n| 129 | Entregue    |\n| 130 | Entregue    |\n| ⋮ | ⋮ |\n| 291 | Pendente    |\n| 292 | Entregue    |\n| 293 | Entregue    |\n| 294 | Em trânsito |\n| 295 | Entregue    |\n| 296 | Entregue    |\n| 297 | Pendente    |\n| 298 | Em trânsito |\n| 299 | Entregue    |\n| 300 | Entregue    |\n| 301 | Entregue    |\n| 302 | Em trânsito |\n| 303 | Entregue    |\n| 304 | Entregue    |\n| 305 | Entregue    |\n| 306 | Entregue    |\n| 307 | Entregue    |\n| 308 | Entregue    |\n| 309 | Entregue    |\n| 310 | Em trânsito |\n| 311 | Em trânsito |\n| 312 | Entregue    |\n| 313 | Entregue    |\n| 314 | Entregue    |\n| 315 | Entregue    |\n| 316 | Entregue    |\n| 317 | Entregue    |\n| 318 | Entregue    |\n| 319 | Pendente    |\n| 320 | Entregue    |\n\n",
            "text/latex": "A tibble: 220 × 2\n\\begin{tabular}{ll}\n PedidoID & Status\\\\\n <dbl> & <chr>\\\\\n\\hline\n\t 101 & Entregue   \\\\\n\t 102 & Entregue   \\\\\n\t 103 & Entregue   \\\\\n\t 104 & Entregue   \\\\\n\t 105 & Entregue   \\\\\n\t 106 & Entregue   \\\\\n\t 107 & Entregue   \\\\\n\t 108 & Entregue   \\\\\n\t 109 & Entregue   \\\\\n\t 110 & Em trânsito\\\\\n\t 111 & Entregue   \\\\\n\t 112 & Entregue   \\\\\n\t 113 & Entregue   \\\\\n\t 114 & Entregue   \\\\\n\t 115 & Entregue   \\\\\n\t 116 & Em trânsito\\\\\n\t 117 & Pendente   \\\\\n\t 118 & Entregue   \\\\\n\t 119 & Pendente   \\\\\n\t 120 & Entregue   \\\\\n\t 121 & Entregue   \\\\\n\t 122 & Entregue   \\\\\n\t 123 & Entregue   \\\\\n\t 124 & Entregue   \\\\\n\t 125 & Entregue   \\\\\n\t 126 & Em trânsito\\\\\n\t 127 & Entregue   \\\\\n\t 128 & Entregue   \\\\\n\t 129 & Entregue   \\\\\n\t 130 & Entregue   \\\\\n\t ⋮ & ⋮\\\\\n\t 291 & Pendente   \\\\\n\t 292 & Entregue   \\\\\n\t 293 & Entregue   \\\\\n\t 294 & Em trânsito\\\\\n\t 295 & Entregue   \\\\\n\t 296 & Entregue   \\\\\n\t 297 & Pendente   \\\\\n\t 298 & Em trânsito\\\\\n\t 299 & Entregue   \\\\\n\t 300 & Entregue   \\\\\n\t 301 & Entregue   \\\\\n\t 302 & Em trânsito\\\\\n\t 303 & Entregue   \\\\\n\t 304 & Entregue   \\\\\n\t 305 & Entregue   \\\\\n\t 306 & Entregue   \\\\\n\t 307 & Entregue   \\\\\n\t 308 & Entregue   \\\\\n\t 309 & Entregue   \\\\\n\t 310 & Em trânsito\\\\\n\t 311 & Em trânsito\\\\\n\t 312 & Entregue   \\\\\n\t 313 & Entregue   \\\\\n\t 314 & Entregue   \\\\\n\t 315 & Entregue   \\\\\n\t 316 & Entregue   \\\\\n\t 317 & Entregue   \\\\\n\t 318 & Entregue   \\\\\n\t 319 & Pendente   \\\\\n\t 320 & Entregue   \\\\\n\\end{tabular}\n",
            "text/plain": [
              "    PedidoID Status     \n",
              "1   101      Entregue   \n",
              "2   102      Entregue   \n",
              "3   103      Entregue   \n",
              "4   104      Entregue   \n",
              "5   105      Entregue   \n",
              "6   106      Entregue   \n",
              "7   107      Entregue   \n",
              "8   108      Entregue   \n",
              "9   109      Entregue   \n",
              "10  110      Em trânsito\n",
              "11  111      Entregue   \n",
              "12  112      Entregue   \n",
              "13  113      Entregue   \n",
              "14  114      Entregue   \n",
              "15  115      Entregue   \n",
              "16  116      Em trânsito\n",
              "17  117      Pendente   \n",
              "18  118      Entregue   \n",
              "19  119      Pendente   \n",
              "20  120      Entregue   \n",
              "21  121      Entregue   \n",
              "22  122      Entregue   \n",
              "23  123      Entregue   \n",
              "24  124      Entregue   \n",
              "25  125      Entregue   \n",
              "26  126      Em trânsito\n",
              "27  127      Entregue   \n",
              "28  128      Entregue   \n",
              "29  129      Entregue   \n",
              "30  130      Entregue   \n",
              "⋮   ⋮        ⋮          \n",
              "191 291      Pendente   \n",
              "192 292      Entregue   \n",
              "193 293      Entregue   \n",
              "194 294      Em trânsito\n",
              "195 295      Entregue   \n",
              "196 296      Entregue   \n",
              "197 297      Pendente   \n",
              "198 298      Em trânsito\n",
              "199 299      Entregue   \n",
              "200 300      Entregue   \n",
              "201 301      Entregue   \n",
              "202 302      Em trânsito\n",
              "203 303      Entregue   \n",
              "204 304      Entregue   \n",
              "205 305      Entregue   \n",
              "206 306      Entregue   \n",
              "207 307      Entregue   \n",
              "208 308      Entregue   \n",
              "209 309      Entregue   \n",
              "210 310      Em trânsito\n",
              "211 311      Em trânsito\n",
              "212 312      Entregue   \n",
              "213 313      Entregue   \n",
              "214 314      Entregue   \n",
              "215 315      Entregue   \n",
              "216 316      Entregue   \n",
              "217 317      Entregue   \n",
              "218 318      Entregue   \n",
              "219 319      Pendente   \n",
              "220 320      Entregue   "
            ]
          },
          "metadata": {}
        }
      ]
    },
    {
      "cell_type": "markdown",
      "source": [
        "**Selecionando colunas que começam com o termo data**"
      ],
      "metadata": {
        "id": "hQxAoZiUw_Cu"
      }
    },
    {
      "cell_type": "code",
      "source": [
        "pedidos %>%\n",
        "  select(starts_with(\n",
        "  \"Data\"\n",
        "  ))"
      ],
      "metadata": {
        "colab": {
          "base_uri": "https://localhost:8080/",
          "height": 1000
        },
        "id": "Y6s_eaaQxEXm",
        "outputId": "e82a6f85-aba5-43ae-f82b-a2af4712d6cf"
      },
      "execution_count": 196,
      "outputs": [
        {
          "output_type": "display_data",
          "data": {
            "text/html": [
              "<table class=\"dataframe\">\n",
              "<caption>A tibble: 220 × 2</caption>\n",
              "<thead>\n",
              "\t<tr><th scope=col>DataPedido</th><th scope=col>DataEntrega</th></tr>\n",
              "\t<tr><th scope=col>&lt;dttm&gt;</th><th scope=col>&lt;dttm&gt;</th></tr>\n",
              "</thead>\n",
              "<tbody>\n",
              "\t<tr><td>2024-07-01 18:56:18</td><td>2024-07-14 08:00:17</td></tr>\n",
              "\t<tr><td>2024-07-02 20:57:26</td><td>2024-07-12 11:46:21</td></tr>\n",
              "\t<tr><td>2024-07-03 17:18:26</td><td>2024-07-22 08:57:49</td></tr>\n",
              "\t<tr><td>2024-07-04 08:11:38</td><td>2024-07-21 05:59:59</td></tr>\n",
              "\t<tr><td>2024-07-05 10:50:35</td><td>2024-07-19 02:15:03</td></tr>\n",
              "\t<tr><td>2024-07-06 07:01:49</td><td>2024-07-25 14:40:41</td></tr>\n",
              "\t<tr><td>2024-07-07 09:25:10</td><td>2024-07-18 19:46:14</td></tr>\n",
              "\t<tr><td>2024-07-08 14:27:11</td><td>2024-07-21 09:06:39</td></tr>\n",
              "\t<tr><td>2024-07-09 19:48:20</td><td>2024-07-25 12:14:40</td></tr>\n",
              "\t<tr><td>2024-07-10 23:14:50</td><td>NA</td></tr>\n",
              "\t<tr><td>2024-07-11 16:39:20</td><td>2024-07-24 06:55:39</td></tr>\n",
              "\t<tr><td>2024-07-12 13:41:32</td><td>2024-07-29 16:36:39</td></tr>\n",
              "\t<tr><td>2024-07-13 18:40:00</td><td>2024-07-30 13:37:39</td></tr>\n",
              "\t<tr><td>2024-07-14 15:51:12</td><td>2024-07-28 09:53:29</td></tr>\n",
              "\t<tr><td>2024-07-15 21:59:37</td><td>2024-07-26 21:38:59</td></tr>\n",
              "\t<tr><td>2024-07-16 01:45:21</td><td>NA</td></tr>\n",
              "\t<tr><td>2024-07-17 17:00:16</td><td>NA</td></tr>\n",
              "\t<tr><td>2024-07-18 09:23:13</td><td>2024-08-01 04:25:14</td></tr>\n",
              "\t<tr><td>2024-07-19 11:57:33</td><td>NA</td></tr>\n",
              "\t<tr><td>2024-07-20 11:05:29</td><td>2024-08-01 07:58:55</td></tr>\n",
              "\t<tr><td>2024-08-01 00:54:48</td><td>2024-08-12 23:19:31</td></tr>\n",
              "\t<tr><td>2024-08-02 09:24:29</td><td>2024-08-10 14:46:55</td></tr>\n",
              "\t<tr><td>2024-08-03 05:10:29</td><td>2024-08-17 05:43:21</td></tr>\n",
              "\t<tr><td>2024-08-04 16:07:43</td><td>2024-08-22 07:17:34</td></tr>\n",
              "\t<tr><td>2024-08-05 12:28:18</td><td>2024-08-25 21:37:49</td></tr>\n",
              "\t<tr><td>2024-08-06 05:54:09</td><td>NA</td></tr>\n",
              "\t<tr><td>2024-08-07 03:44:54</td><td>2024-08-15 04:54:32</td></tr>\n",
              "\t<tr><td>2024-08-08 03:05:42</td><td>2024-08-26 22:09:46</td></tr>\n",
              "\t<tr><td>2024-08-09 18:10:57</td><td>2024-08-20 10:09:36</td></tr>\n",
              "\t<tr><td>2024-08-10 16:38:53</td><td>2024-08-17 12:13:24</td></tr>\n",
              "\t<tr><td>⋮</td><td>⋮</td></tr>\n",
              "\t<tr><td>2024-10-10 10:15:02</td><td>NA</td></tr>\n",
              "\t<tr><td>2024-10-11 14:47:57</td><td>2024-10-24 01:43:16</td></tr>\n",
              "\t<tr><td>2024-10-12 19:10:51</td><td>2024-10-29 03:10:18</td></tr>\n",
              "\t<tr><td>2024-10-13 03:33:08</td><td>NA</td></tr>\n",
              "\t<tr><td>2024-10-14 23:15:06</td><td>2024-10-26 12:57:07</td></tr>\n",
              "\t<tr><td>2024-10-15 11:59:12</td><td>2024-11-02 07:17:30</td></tr>\n",
              "\t<tr><td>2024-10-16 20:11:15</td><td>NA</td></tr>\n",
              "\t<tr><td>2024-10-17 10:12:49</td><td>NA</td></tr>\n",
              "\t<tr><td>2024-10-18 20:16:02</td><td>2024-11-06 01:26:04</td></tr>\n",
              "\t<tr><td>2024-10-19 16:10:12</td><td>2024-11-08 21:52:52</td></tr>\n",
              "\t<tr><td>2024-10-20 19:03:29</td><td>2024-11-04 11:54:35</td></tr>\n",
              "\t<tr><td>2024-10-21 15:39:44</td><td>NA</td></tr>\n",
              "\t<tr><td>2024-10-22 13:10:13</td><td>2024-11-03 18:45:06</td></tr>\n",
              "\t<tr><td>2024-10-23 00:32:32</td><td>2024-11-10 05:01:20</td></tr>\n",
              "\t<tr><td>2024-10-24 20:31:53</td><td>2024-11-11 12:15:56</td></tr>\n",
              "\t<tr><td>2024-10-25 15:25:41</td><td>2024-11-12 00:55:36</td></tr>\n",
              "\t<tr><td>2024-10-26 22:04:42</td><td>2024-11-13 14:42:16</td></tr>\n",
              "\t<tr><td>2024-10-27 04:32:21</td><td>2024-11-06 10:44:29</td></tr>\n",
              "\t<tr><td>2024-10-28 12:48:20</td><td>2024-11-17 03:21:47</td></tr>\n",
              "\t<tr><td>2024-10-29 08:09:40</td><td>NA</td></tr>\n",
              "\t<tr><td>2024-10-30 13:33:00</td><td>NA</td></tr>\n",
              "\t<tr><td>2024-10-31 09:51:17</td><td>2024-11-16 02:57:05</td></tr>\n",
              "\t<tr><td>2024-11-01 12:25:39</td><td>2024-11-14 07:48:27</td></tr>\n",
              "\t<tr><td>2024-11-02 09:21:15</td><td>2024-11-20 16:37:45</td></tr>\n",
              "\t<tr><td>2024-11-03 05:13:00</td><td>2024-11-18 07:45:42</td></tr>\n",
              "\t<tr><td>2024-11-04 08:10:17</td><td>2024-11-17 23:50:26</td></tr>\n",
              "\t<tr><td>2024-11-05 21:58:57</td><td>2024-11-25 20:36:46</td></tr>\n",
              "\t<tr><td>2024-11-06 03:46:23</td><td>2024-11-13 06:42:57</td></tr>\n",
              "\t<tr><td>2024-11-07 18:46:41</td><td>NA</td></tr>\n",
              "\t<tr><td>2024-11-08 09:51:12</td><td>2024-11-23 22:53:40</td></tr>\n",
              "</tbody>\n",
              "</table>\n"
            ],
            "text/markdown": "\nA tibble: 220 × 2\n\n| DataPedido &lt;dttm&gt; | DataEntrega &lt;dttm&gt; |\n|---|---|\n| 2024-07-01 18:56:18 | 2024-07-14 08:00:17 |\n| 2024-07-02 20:57:26 | 2024-07-12 11:46:21 |\n| 2024-07-03 17:18:26 | 2024-07-22 08:57:49 |\n| 2024-07-04 08:11:38 | 2024-07-21 05:59:59 |\n| 2024-07-05 10:50:35 | 2024-07-19 02:15:03 |\n| 2024-07-06 07:01:49 | 2024-07-25 14:40:41 |\n| 2024-07-07 09:25:10 | 2024-07-18 19:46:14 |\n| 2024-07-08 14:27:11 | 2024-07-21 09:06:39 |\n| 2024-07-09 19:48:20 | 2024-07-25 12:14:40 |\n| 2024-07-10 23:14:50 | NA |\n| 2024-07-11 16:39:20 | 2024-07-24 06:55:39 |\n| 2024-07-12 13:41:32 | 2024-07-29 16:36:39 |\n| 2024-07-13 18:40:00 | 2024-07-30 13:37:39 |\n| 2024-07-14 15:51:12 | 2024-07-28 09:53:29 |\n| 2024-07-15 21:59:37 | 2024-07-26 21:38:59 |\n| 2024-07-16 01:45:21 | NA |\n| 2024-07-17 17:00:16 | NA |\n| 2024-07-18 09:23:13 | 2024-08-01 04:25:14 |\n| 2024-07-19 11:57:33 | NA |\n| 2024-07-20 11:05:29 | 2024-08-01 07:58:55 |\n| 2024-08-01 00:54:48 | 2024-08-12 23:19:31 |\n| 2024-08-02 09:24:29 | 2024-08-10 14:46:55 |\n| 2024-08-03 05:10:29 | 2024-08-17 05:43:21 |\n| 2024-08-04 16:07:43 | 2024-08-22 07:17:34 |\n| 2024-08-05 12:28:18 | 2024-08-25 21:37:49 |\n| 2024-08-06 05:54:09 | NA |\n| 2024-08-07 03:44:54 | 2024-08-15 04:54:32 |\n| 2024-08-08 03:05:42 | 2024-08-26 22:09:46 |\n| 2024-08-09 18:10:57 | 2024-08-20 10:09:36 |\n| 2024-08-10 16:38:53 | 2024-08-17 12:13:24 |\n| ⋮ | ⋮ |\n| 2024-10-10 10:15:02 | NA |\n| 2024-10-11 14:47:57 | 2024-10-24 01:43:16 |\n| 2024-10-12 19:10:51 | 2024-10-29 03:10:18 |\n| 2024-10-13 03:33:08 | NA |\n| 2024-10-14 23:15:06 | 2024-10-26 12:57:07 |\n| 2024-10-15 11:59:12 | 2024-11-02 07:17:30 |\n| 2024-10-16 20:11:15 | NA |\n| 2024-10-17 10:12:49 | NA |\n| 2024-10-18 20:16:02 | 2024-11-06 01:26:04 |\n| 2024-10-19 16:10:12 | 2024-11-08 21:52:52 |\n| 2024-10-20 19:03:29 | 2024-11-04 11:54:35 |\n| 2024-10-21 15:39:44 | NA |\n| 2024-10-22 13:10:13 | 2024-11-03 18:45:06 |\n| 2024-10-23 00:32:32 | 2024-11-10 05:01:20 |\n| 2024-10-24 20:31:53 | 2024-11-11 12:15:56 |\n| 2024-10-25 15:25:41 | 2024-11-12 00:55:36 |\n| 2024-10-26 22:04:42 | 2024-11-13 14:42:16 |\n| 2024-10-27 04:32:21 | 2024-11-06 10:44:29 |\n| 2024-10-28 12:48:20 | 2024-11-17 03:21:47 |\n| 2024-10-29 08:09:40 | NA |\n| 2024-10-30 13:33:00 | NA |\n| 2024-10-31 09:51:17 | 2024-11-16 02:57:05 |\n| 2024-11-01 12:25:39 | 2024-11-14 07:48:27 |\n| 2024-11-02 09:21:15 | 2024-11-20 16:37:45 |\n| 2024-11-03 05:13:00 | 2024-11-18 07:45:42 |\n| 2024-11-04 08:10:17 | 2024-11-17 23:50:26 |\n| 2024-11-05 21:58:57 | 2024-11-25 20:36:46 |\n| 2024-11-06 03:46:23 | 2024-11-13 06:42:57 |\n| 2024-11-07 18:46:41 | NA |\n| 2024-11-08 09:51:12 | 2024-11-23 22:53:40 |\n\n",
            "text/latex": "A tibble: 220 × 2\n\\begin{tabular}{ll}\n DataPedido & DataEntrega\\\\\n <dttm> & <dttm>\\\\\n\\hline\n\t 2024-07-01 18:56:18 & 2024-07-14 08:00:17\\\\\n\t 2024-07-02 20:57:26 & 2024-07-12 11:46:21\\\\\n\t 2024-07-03 17:18:26 & 2024-07-22 08:57:49\\\\\n\t 2024-07-04 08:11:38 & 2024-07-21 05:59:59\\\\\n\t 2024-07-05 10:50:35 & 2024-07-19 02:15:03\\\\\n\t 2024-07-06 07:01:49 & 2024-07-25 14:40:41\\\\\n\t 2024-07-07 09:25:10 & 2024-07-18 19:46:14\\\\\n\t 2024-07-08 14:27:11 & 2024-07-21 09:06:39\\\\\n\t 2024-07-09 19:48:20 & 2024-07-25 12:14:40\\\\\n\t 2024-07-10 23:14:50 & NA\\\\\n\t 2024-07-11 16:39:20 & 2024-07-24 06:55:39\\\\\n\t 2024-07-12 13:41:32 & 2024-07-29 16:36:39\\\\\n\t 2024-07-13 18:40:00 & 2024-07-30 13:37:39\\\\\n\t 2024-07-14 15:51:12 & 2024-07-28 09:53:29\\\\\n\t 2024-07-15 21:59:37 & 2024-07-26 21:38:59\\\\\n\t 2024-07-16 01:45:21 & NA\\\\\n\t 2024-07-17 17:00:16 & NA\\\\\n\t 2024-07-18 09:23:13 & 2024-08-01 04:25:14\\\\\n\t 2024-07-19 11:57:33 & NA\\\\\n\t 2024-07-20 11:05:29 & 2024-08-01 07:58:55\\\\\n\t 2024-08-01 00:54:48 & 2024-08-12 23:19:31\\\\\n\t 2024-08-02 09:24:29 & 2024-08-10 14:46:55\\\\\n\t 2024-08-03 05:10:29 & 2024-08-17 05:43:21\\\\\n\t 2024-08-04 16:07:43 & 2024-08-22 07:17:34\\\\\n\t 2024-08-05 12:28:18 & 2024-08-25 21:37:49\\\\\n\t 2024-08-06 05:54:09 & NA\\\\\n\t 2024-08-07 03:44:54 & 2024-08-15 04:54:32\\\\\n\t 2024-08-08 03:05:42 & 2024-08-26 22:09:46\\\\\n\t 2024-08-09 18:10:57 & 2024-08-20 10:09:36\\\\\n\t 2024-08-10 16:38:53 & 2024-08-17 12:13:24\\\\\n\t ⋮ & ⋮\\\\\n\t 2024-10-10 10:15:02 & NA\\\\\n\t 2024-10-11 14:47:57 & 2024-10-24 01:43:16\\\\\n\t 2024-10-12 19:10:51 & 2024-10-29 03:10:18\\\\\n\t 2024-10-13 03:33:08 & NA\\\\\n\t 2024-10-14 23:15:06 & 2024-10-26 12:57:07\\\\\n\t 2024-10-15 11:59:12 & 2024-11-02 07:17:30\\\\\n\t 2024-10-16 20:11:15 & NA\\\\\n\t 2024-10-17 10:12:49 & NA\\\\\n\t 2024-10-18 20:16:02 & 2024-11-06 01:26:04\\\\\n\t 2024-10-19 16:10:12 & 2024-11-08 21:52:52\\\\\n\t 2024-10-20 19:03:29 & 2024-11-04 11:54:35\\\\\n\t 2024-10-21 15:39:44 & NA\\\\\n\t 2024-10-22 13:10:13 & 2024-11-03 18:45:06\\\\\n\t 2024-10-23 00:32:32 & 2024-11-10 05:01:20\\\\\n\t 2024-10-24 20:31:53 & 2024-11-11 12:15:56\\\\\n\t 2024-10-25 15:25:41 & 2024-11-12 00:55:36\\\\\n\t 2024-10-26 22:04:42 & 2024-11-13 14:42:16\\\\\n\t 2024-10-27 04:32:21 & 2024-11-06 10:44:29\\\\\n\t 2024-10-28 12:48:20 & 2024-11-17 03:21:47\\\\\n\t 2024-10-29 08:09:40 & NA\\\\\n\t 2024-10-30 13:33:00 & NA\\\\\n\t 2024-10-31 09:51:17 & 2024-11-16 02:57:05\\\\\n\t 2024-11-01 12:25:39 & 2024-11-14 07:48:27\\\\\n\t 2024-11-02 09:21:15 & 2024-11-20 16:37:45\\\\\n\t 2024-11-03 05:13:00 & 2024-11-18 07:45:42\\\\\n\t 2024-11-04 08:10:17 & 2024-11-17 23:50:26\\\\\n\t 2024-11-05 21:58:57 & 2024-11-25 20:36:46\\\\\n\t 2024-11-06 03:46:23 & 2024-11-13 06:42:57\\\\\n\t 2024-11-07 18:46:41 & NA\\\\\n\t 2024-11-08 09:51:12 & 2024-11-23 22:53:40\\\\\n\\end{tabular}\n",
            "text/plain": [
              "    DataPedido          DataEntrega        \n",
              "1   2024-07-01 18:56:18 2024-07-14 08:00:17\n",
              "2   2024-07-02 20:57:26 2024-07-12 11:46:21\n",
              "3   2024-07-03 17:18:26 2024-07-22 08:57:49\n",
              "4   2024-07-04 08:11:38 2024-07-21 05:59:59\n",
              "5   2024-07-05 10:50:35 2024-07-19 02:15:03\n",
              "6   2024-07-06 07:01:49 2024-07-25 14:40:41\n",
              "7   2024-07-07 09:25:10 2024-07-18 19:46:14\n",
              "8   2024-07-08 14:27:11 2024-07-21 09:06:39\n",
              "9   2024-07-09 19:48:20 2024-07-25 12:14:40\n",
              "10  2024-07-10 23:14:50 <NA>               \n",
              "11  2024-07-11 16:39:20 2024-07-24 06:55:39\n",
              "12  2024-07-12 13:41:32 2024-07-29 16:36:39\n",
              "13  2024-07-13 18:40:00 2024-07-30 13:37:39\n",
              "14  2024-07-14 15:51:12 2024-07-28 09:53:29\n",
              "15  2024-07-15 21:59:37 2024-07-26 21:38:59\n",
              "16  2024-07-16 01:45:21 <NA>               \n",
              "17  2024-07-17 17:00:16 <NA>               \n",
              "18  2024-07-18 09:23:13 2024-08-01 04:25:14\n",
              "19  2024-07-19 11:57:33 <NA>               \n",
              "20  2024-07-20 11:05:29 2024-08-01 07:58:55\n",
              "21  2024-08-01 00:54:48 2024-08-12 23:19:31\n",
              "22  2024-08-02 09:24:29 2024-08-10 14:46:55\n",
              "23  2024-08-03 05:10:29 2024-08-17 05:43:21\n",
              "24  2024-08-04 16:07:43 2024-08-22 07:17:34\n",
              "25  2024-08-05 12:28:18 2024-08-25 21:37:49\n",
              "26  2024-08-06 05:54:09 <NA>               \n",
              "27  2024-08-07 03:44:54 2024-08-15 04:54:32\n",
              "28  2024-08-08 03:05:42 2024-08-26 22:09:46\n",
              "29  2024-08-09 18:10:57 2024-08-20 10:09:36\n",
              "30  2024-08-10 16:38:53 2024-08-17 12:13:24\n",
              "⋮   ⋮                   ⋮                  \n",
              "191 2024-10-10 10:15:02 <NA>               \n",
              "192 2024-10-11 14:47:57 2024-10-24 01:43:16\n",
              "193 2024-10-12 19:10:51 2024-10-29 03:10:18\n",
              "194 2024-10-13 03:33:08 <NA>               \n",
              "195 2024-10-14 23:15:06 2024-10-26 12:57:07\n",
              "196 2024-10-15 11:59:12 2024-11-02 07:17:30\n",
              "197 2024-10-16 20:11:15 <NA>               \n",
              "198 2024-10-17 10:12:49 <NA>               \n",
              "199 2024-10-18 20:16:02 2024-11-06 01:26:04\n",
              "200 2024-10-19 16:10:12 2024-11-08 21:52:52\n",
              "201 2024-10-20 19:03:29 2024-11-04 11:54:35\n",
              "202 2024-10-21 15:39:44 <NA>               \n",
              "203 2024-10-22 13:10:13 2024-11-03 18:45:06\n",
              "204 2024-10-23 00:32:32 2024-11-10 05:01:20\n",
              "205 2024-10-24 20:31:53 2024-11-11 12:15:56\n",
              "206 2024-10-25 15:25:41 2024-11-12 00:55:36\n",
              "207 2024-10-26 22:04:42 2024-11-13 14:42:16\n",
              "208 2024-10-27 04:32:21 2024-11-06 10:44:29\n",
              "209 2024-10-28 12:48:20 2024-11-17 03:21:47\n",
              "210 2024-10-29 08:09:40 <NA>               \n",
              "211 2024-10-30 13:33:00 <NA>               \n",
              "212 2024-10-31 09:51:17 2024-11-16 02:57:05\n",
              "213 2024-11-01 12:25:39 2024-11-14 07:48:27\n",
              "214 2024-11-02 09:21:15 2024-11-20 16:37:45\n",
              "215 2024-11-03 05:13:00 2024-11-18 07:45:42\n",
              "216 2024-11-04 08:10:17 2024-11-17 23:50:26\n",
              "217 2024-11-05 21:58:57 2024-11-25 20:36:46\n",
              "218 2024-11-06 03:46:23 2024-11-13 06:42:57\n",
              "219 2024-11-07 18:46:41 <NA>               \n",
              "220 2024-11-08 09:51:12 2024-11-23 22:53:40"
            ]
          },
          "metadata": {}
        }
      ]
    },
    {
      "cell_type": "markdown",
      "source": [
        "**Selecionar Colunas Específicas:**"
      ],
      "metadata": {
        "id": "j74XD9QUxWtu"
      }
    },
    {
      "cell_type": "code",
      "source": [
        "library(dplyr)\n",
        "df <- data.frame(a = 1:5, b = 6:10, c = 11:15)\n",
        "select(df, a, b)"
      ],
      "metadata": {
        "colab": {
          "base_uri": "https://localhost:8080/",
          "height": 272
        },
        "id": "95UwQ20nxZos",
        "outputId": "9f5c9270-ffcc-473d-af28-52c380de04c6"
      },
      "execution_count": 197,
      "outputs": [
        {
          "output_type": "display_data",
          "data": {
            "text/html": [
              "<table class=\"dataframe\">\n",
              "<caption>A data.frame: 5 × 2</caption>\n",
              "<thead>\n",
              "\t<tr><th scope=col>a</th><th scope=col>b</th></tr>\n",
              "\t<tr><th scope=col>&lt;int&gt;</th><th scope=col>&lt;int&gt;</th></tr>\n",
              "</thead>\n",
              "<tbody>\n",
              "\t<tr><td>1</td><td> 6</td></tr>\n",
              "\t<tr><td>2</td><td> 7</td></tr>\n",
              "\t<tr><td>3</td><td> 8</td></tr>\n",
              "\t<tr><td>4</td><td> 9</td></tr>\n",
              "\t<tr><td>5</td><td>10</td></tr>\n",
              "</tbody>\n",
              "</table>\n"
            ],
            "text/markdown": "\nA data.frame: 5 × 2\n\n| a &lt;int&gt; | b &lt;int&gt; |\n|---|---|\n| 1 |  6 |\n| 2 |  7 |\n| 3 |  8 |\n| 4 |  9 |\n| 5 | 10 |\n\n",
            "text/latex": "A data.frame: 5 × 2\n\\begin{tabular}{ll}\n a & b\\\\\n <int> & <int>\\\\\n\\hline\n\t 1 &  6\\\\\n\t 2 &  7\\\\\n\t 3 &  8\\\\\n\t 4 &  9\\\\\n\t 5 & 10\\\\\n\\end{tabular}\n",
            "text/plain": [
              "  a b \n",
              "1 1  6\n",
              "2 2  7\n",
              "3 3  8\n",
              "4 4  9\n",
              "5 5 10"
            ]
          },
          "metadata": {}
        }
      ]
    },
    {
      "cell_type": "markdown",
      "source": [
        "**Excluir Colunas Específicas:**"
      ],
      "metadata": {
        "id": "kHrLtVsSxjKC"
      }
    },
    {
      "cell_type": "code",
      "source": [
        "select(df, -a)"
      ],
      "metadata": {
        "colab": {
          "base_uri": "https://localhost:8080/",
          "height": 272
        },
        "id": "uKY_ZpwPxk-a",
        "outputId": "42eb3d66-d89f-4e1d-d056-64262714c9f0"
      },
      "execution_count": 198,
      "outputs": [
        {
          "output_type": "display_data",
          "data": {
            "text/html": [
              "<table class=\"dataframe\">\n",
              "<caption>A data.frame: 5 × 2</caption>\n",
              "<thead>\n",
              "\t<tr><th scope=col>b</th><th scope=col>c</th></tr>\n",
              "\t<tr><th scope=col>&lt;int&gt;</th><th scope=col>&lt;int&gt;</th></tr>\n",
              "</thead>\n",
              "<tbody>\n",
              "\t<tr><td> 6</td><td>11</td></tr>\n",
              "\t<tr><td> 7</td><td>12</td></tr>\n",
              "\t<tr><td> 8</td><td>13</td></tr>\n",
              "\t<tr><td> 9</td><td>14</td></tr>\n",
              "\t<tr><td>10</td><td>15</td></tr>\n",
              "</tbody>\n",
              "</table>\n"
            ],
            "text/markdown": "\nA data.frame: 5 × 2\n\n| b &lt;int&gt; | c &lt;int&gt; |\n|---|---|\n|  6 | 11 |\n|  7 | 12 |\n|  8 | 13 |\n|  9 | 14 |\n| 10 | 15 |\n\n",
            "text/latex": "A data.frame: 5 × 2\n\\begin{tabular}{ll}\n b & c\\\\\n <int> & <int>\\\\\n\\hline\n\t  6 & 11\\\\\n\t  7 & 12\\\\\n\t  8 & 13\\\\\n\t  9 & 14\\\\\n\t 10 & 15\\\\\n\\end{tabular}\n",
            "text/plain": [
              "  b  c \n",
              "1  6 11\n",
              "2  7 12\n",
              "3  8 13\n",
              "4  9 14\n",
              "5 10 15"
            ]
          },
          "metadata": {}
        }
      ]
    },
    {
      "cell_type": "markdown",
      "source": [
        "**Selecionar Colunas por Padrão de Nome:**"
      ],
      "metadata": {
        "id": "0iID3QIXxpqZ"
      }
    },
    {
      "cell_type": "code",
      "source": [
        "select(df, starts_with(\"a\"))"
      ],
      "metadata": {
        "colab": {
          "base_uri": "https://localhost:8080/",
          "height": 290
        },
        "id": "sQ9Cvyy-xr_F",
        "outputId": "f8ca5176-0656-437d-9c53-d4fe74ea36a1"
      },
      "execution_count": 199,
      "outputs": [
        {
          "output_type": "display_data",
          "data": {
            "text/html": [
              "<table class=\"dataframe\">\n",
              "<caption>A data.frame: 5 × 1</caption>\n",
              "<thead>\n",
              "\t<tr><th scope=col>a</th></tr>\n",
              "\t<tr><th scope=col>&lt;int&gt;</th></tr>\n",
              "</thead>\n",
              "<tbody>\n",
              "\t<tr><td>1</td></tr>\n",
              "\t<tr><td>2</td></tr>\n",
              "\t<tr><td>3</td></tr>\n",
              "\t<tr><td>4</td></tr>\n",
              "\t<tr><td>5</td></tr>\n",
              "</tbody>\n",
              "</table>\n"
            ],
            "text/markdown": "\nA data.frame: 5 × 1\n\n| a &lt;int&gt; |\n|---|\n| 1 |\n| 2 |\n| 3 |\n| 4 |\n| 5 |\n\n",
            "text/latex": "A data.frame: 5 × 1\n\\begin{tabular}{l}\n a\\\\\n <int>\\\\\n\\hline\n\t 1\\\\\n\t 2\\\\\n\t 3\\\\\n\t 4\\\\\n\t 5\\\\\n\\end{tabular}\n",
            "text/plain": [
              "  a\n",
              "1 1\n",
              "2 2\n",
              "3 3\n",
              "4 4\n",
              "5 5"
            ]
          },
          "metadata": {}
        }
      ]
    },
    {
      "cell_type": "code",
      "source": [
        "select(df, ends_with(\"b\"))"
      ],
      "metadata": {
        "colab": {
          "base_uri": "https://localhost:8080/",
          "height": 290
        },
        "id": "-Pf7UjlqxtlZ",
        "outputId": "ce221dd7-045b-476d-bcdb-1e14a4dddddb"
      },
      "execution_count": 200,
      "outputs": [
        {
          "output_type": "display_data",
          "data": {
            "text/html": [
              "<table class=\"dataframe\">\n",
              "<caption>A data.frame: 5 × 1</caption>\n",
              "<thead>\n",
              "\t<tr><th scope=col>b</th></tr>\n",
              "\t<tr><th scope=col>&lt;int&gt;</th></tr>\n",
              "</thead>\n",
              "<tbody>\n",
              "\t<tr><td> 6</td></tr>\n",
              "\t<tr><td> 7</td></tr>\n",
              "\t<tr><td> 8</td></tr>\n",
              "\t<tr><td> 9</td></tr>\n",
              "\t<tr><td>10</td></tr>\n",
              "</tbody>\n",
              "</table>\n"
            ],
            "text/markdown": "\nA data.frame: 5 × 1\n\n| b &lt;int&gt; |\n|---|\n|  6 |\n|  7 |\n|  8 |\n|  9 |\n| 10 |\n\n",
            "text/latex": "A data.frame: 5 × 1\n\\begin{tabular}{l}\n b\\\\\n <int>\\\\\n\\hline\n\t  6\\\\\n\t  7\\\\\n\t  8\\\\\n\t  9\\\\\n\t 10\\\\\n\\end{tabular}\n",
            "text/plain": [
              "  b \n",
              "1  6\n",
              "2  7\n",
              "3  8\n",
              "4  9\n",
              "5 10"
            ]
          },
          "metadata": {}
        }
      ]
    },
    {
      "cell_type": "code",
      "source": [
        "select(df, contains(\"a\"))"
      ],
      "metadata": {
        "colab": {
          "base_uri": "https://localhost:8080/",
          "height": 290
        },
        "id": "F904uFgyxu1c",
        "outputId": "6d26cbd2-289c-4f40-ac15-bad3c6ce8fd9"
      },
      "execution_count": 201,
      "outputs": [
        {
          "output_type": "display_data",
          "data": {
            "text/html": [
              "<table class=\"dataframe\">\n",
              "<caption>A data.frame: 5 × 1</caption>\n",
              "<thead>\n",
              "\t<tr><th scope=col>a</th></tr>\n",
              "\t<tr><th scope=col>&lt;int&gt;</th></tr>\n",
              "</thead>\n",
              "<tbody>\n",
              "\t<tr><td>1</td></tr>\n",
              "\t<tr><td>2</td></tr>\n",
              "\t<tr><td>3</td></tr>\n",
              "\t<tr><td>4</td></tr>\n",
              "\t<tr><td>5</td></tr>\n",
              "</tbody>\n",
              "</table>\n"
            ],
            "text/markdown": "\nA data.frame: 5 × 1\n\n| a &lt;int&gt; |\n|---|\n| 1 |\n| 2 |\n| 3 |\n| 4 |\n| 5 |\n\n",
            "text/latex": "A data.frame: 5 × 1\n\\begin{tabular}{l}\n a\\\\\n <int>\\\\\n\\hline\n\t 1\\\\\n\t 2\\\\\n\t 3\\\\\n\t 4\\\\\n\t 5\\\\\n\\end{tabular}\n",
            "text/plain": [
              "  a\n",
              "1 1\n",
              "2 2\n",
              "3 3\n",
              "4 4\n",
              "5 5"
            ]
          },
          "metadata": {}
        }
      ]
    },
    {
      "cell_type": "code",
      "source": [
        "select(df, matches(\"^a|b$\"))"
      ],
      "metadata": {
        "colab": {
          "base_uri": "https://localhost:8080/",
          "height": 272
        },
        "id": "X8gEsxc4xxpy",
        "outputId": "b30f2449-2e70-4121-a5aa-5d75070d7660"
      },
      "execution_count": 202,
      "outputs": [
        {
          "output_type": "display_data",
          "data": {
            "text/html": [
              "<table class=\"dataframe\">\n",
              "<caption>A data.frame: 5 × 2</caption>\n",
              "<thead>\n",
              "\t<tr><th scope=col>a</th><th scope=col>b</th></tr>\n",
              "\t<tr><th scope=col>&lt;int&gt;</th><th scope=col>&lt;int&gt;</th></tr>\n",
              "</thead>\n",
              "<tbody>\n",
              "\t<tr><td>1</td><td> 6</td></tr>\n",
              "\t<tr><td>2</td><td> 7</td></tr>\n",
              "\t<tr><td>3</td><td> 8</td></tr>\n",
              "\t<tr><td>4</td><td> 9</td></tr>\n",
              "\t<tr><td>5</td><td>10</td></tr>\n",
              "</tbody>\n",
              "</table>\n"
            ],
            "text/markdown": "\nA data.frame: 5 × 2\n\n| a &lt;int&gt; | b &lt;int&gt; |\n|---|---|\n| 1 |  6 |\n| 2 |  7 |\n| 3 |  8 |\n| 4 |  9 |\n| 5 | 10 |\n\n",
            "text/latex": "A data.frame: 5 × 2\n\\begin{tabular}{ll}\n a & b\\\\\n <int> & <int>\\\\\n\\hline\n\t 1 &  6\\\\\n\t 2 &  7\\\\\n\t 3 &  8\\\\\n\t 4 &  9\\\\\n\t 5 & 10\\\\\n\\end{tabular}\n",
            "text/plain": [
              "  a b \n",
              "1 1  6\n",
              "2 2  7\n",
              "3 3  8\n",
              "4 4  9\n",
              "5 5 10"
            ]
          },
          "metadata": {}
        }
      ]
    },
    {
      "cell_type": "markdown",
      "source": [
        "**Selecionar Colunas por Tipo:**"
      ],
      "metadata": {
        "id": "ZOQiSJwOx186"
      }
    },
    {
      "cell_type": "code",
      "source": [
        "df <- data.frame(a1 = 1:5, a2 = 6:10, b1 = 11:15)\n",
        "select(df, num_range(\"a\", 1:2))"
      ],
      "metadata": {
        "colab": {
          "base_uri": "https://localhost:8080/",
          "height": 272
        },
        "id": "RxxijsUlx3ds",
        "outputId": "145ed3d5-9795-4115-a860-c725cb776a34"
      },
      "execution_count": 203,
      "outputs": [
        {
          "output_type": "display_data",
          "data": {
            "text/html": [
              "<table class=\"dataframe\">\n",
              "<caption>A data.frame: 5 × 2</caption>\n",
              "<thead>\n",
              "\t<tr><th scope=col>a1</th><th scope=col>a2</th></tr>\n",
              "\t<tr><th scope=col>&lt;int&gt;</th><th scope=col>&lt;int&gt;</th></tr>\n",
              "</thead>\n",
              "<tbody>\n",
              "\t<tr><td>1</td><td> 6</td></tr>\n",
              "\t<tr><td>2</td><td> 7</td></tr>\n",
              "\t<tr><td>3</td><td> 8</td></tr>\n",
              "\t<tr><td>4</td><td> 9</td></tr>\n",
              "\t<tr><td>5</td><td>10</td></tr>\n",
              "</tbody>\n",
              "</table>\n"
            ],
            "text/markdown": "\nA data.frame: 5 × 2\n\n| a1 &lt;int&gt; | a2 &lt;int&gt; |\n|---|---|\n| 1 |  6 |\n| 2 |  7 |\n| 3 |  8 |\n| 4 |  9 |\n| 5 | 10 |\n\n",
            "text/latex": "A data.frame: 5 × 2\n\\begin{tabular}{ll}\n a1 & a2\\\\\n <int> & <int>\\\\\n\\hline\n\t 1 &  6\\\\\n\t 2 &  7\\\\\n\t 3 &  8\\\\\n\t 4 &  9\\\\\n\t 5 & 10\\\\\n\\end{tabular}\n",
            "text/plain": [
              "  a1 a2\n",
              "1 1   6\n",
              "2 2   7\n",
              "3 3   8\n",
              "4 4   9\n",
              "5 5  10"
            ]
          },
          "metadata": {}
        }
      ]
    },
    {
      "cell_type": "markdown",
      "source": [
        "**Selecionar Colunas por Posição:**"
      ],
      "metadata": {
        "id": "qsJCoM0ix7DG"
      }
    },
    {
      "cell_type": "code",
      "source": [
        "select(df, 1, 3)"
      ],
      "metadata": {
        "colab": {
          "base_uri": "https://localhost:8080/",
          "height": 272
        },
        "id": "-aweXsyIx4dm",
        "outputId": "eb4c411d-8dc9-4ed6-fe31-a064292812e6"
      },
      "execution_count": 204,
      "outputs": [
        {
          "output_type": "display_data",
          "data": {
            "text/html": [
              "<table class=\"dataframe\">\n",
              "<caption>A data.frame: 5 × 2</caption>\n",
              "<thead>\n",
              "\t<tr><th scope=col>a1</th><th scope=col>b1</th></tr>\n",
              "\t<tr><th scope=col>&lt;int&gt;</th><th scope=col>&lt;int&gt;</th></tr>\n",
              "</thead>\n",
              "<tbody>\n",
              "\t<tr><td>1</td><td>11</td></tr>\n",
              "\t<tr><td>2</td><td>12</td></tr>\n",
              "\t<tr><td>3</td><td>13</td></tr>\n",
              "\t<tr><td>4</td><td>14</td></tr>\n",
              "\t<tr><td>5</td><td>15</td></tr>\n",
              "</tbody>\n",
              "</table>\n"
            ],
            "text/markdown": "\nA data.frame: 5 × 2\n\n| a1 &lt;int&gt; | b1 &lt;int&gt; |\n|---|---|\n| 1 | 11 |\n| 2 | 12 |\n| 3 | 13 |\n| 4 | 14 |\n| 5 | 15 |\n\n",
            "text/latex": "A data.frame: 5 × 2\n\\begin{tabular}{ll}\n a1 & b1\\\\\n <int> & <int>\\\\\n\\hline\n\t 1 & 11\\\\\n\t 2 & 12\\\\\n\t 3 & 13\\\\\n\t 4 & 14\\\\\n\t 5 & 15\\\\\n\\end{tabular}\n",
            "text/plain": [
              "  a1 b1\n",
              "1 1  11\n",
              "2 2  12\n",
              "3 3  13\n",
              "4 4  14\n",
              "5 5  15"
            ]
          },
          "metadata": {}
        }
      ]
    },
    {
      "cell_type": "markdown",
      "source": [
        "**Selecionar um Intervalo de Colunas:**"
      ],
      "metadata": {
        "id": "BOkarXGYySop"
      }
    },
    {
      "cell_type": "code",
      "source": [
        "df <- data.frame(a = 1:5, b = 6:10, c = 11:15)"
      ],
      "metadata": {
        "id": "SLEom2_RyXKv"
      },
      "execution_count": 205,
      "outputs": []
    },
    {
      "cell_type": "code",
      "source": [
        "select(df, a:c)"
      ],
      "metadata": {
        "colab": {
          "base_uri": "https://localhost:8080/",
          "height": 255
        },
        "id": "IVbZH_ndyX-B",
        "outputId": "22bd5293-1941-4f60-8b43-05884a6d5cf6"
      },
      "execution_count": 206,
      "outputs": [
        {
          "output_type": "display_data",
          "data": {
            "text/html": [
              "<table class=\"dataframe\">\n",
              "<caption>A data.frame: 5 × 3</caption>\n",
              "<thead>\n",
              "\t<tr><th scope=col>a</th><th scope=col>b</th><th scope=col>c</th></tr>\n",
              "\t<tr><th scope=col>&lt;int&gt;</th><th scope=col>&lt;int&gt;</th><th scope=col>&lt;int&gt;</th></tr>\n",
              "</thead>\n",
              "<tbody>\n",
              "\t<tr><td>1</td><td> 6</td><td>11</td></tr>\n",
              "\t<tr><td>2</td><td> 7</td><td>12</td></tr>\n",
              "\t<tr><td>3</td><td> 8</td><td>13</td></tr>\n",
              "\t<tr><td>4</td><td> 9</td><td>14</td></tr>\n",
              "\t<tr><td>5</td><td>10</td><td>15</td></tr>\n",
              "</tbody>\n",
              "</table>\n"
            ],
            "text/markdown": "\nA data.frame: 5 × 3\n\n| a &lt;int&gt; | b &lt;int&gt; | c &lt;int&gt; |\n|---|---|---|\n| 1 |  6 | 11 |\n| 2 |  7 | 12 |\n| 3 |  8 | 13 |\n| 4 |  9 | 14 |\n| 5 | 10 | 15 |\n\n",
            "text/latex": "A data.frame: 5 × 3\n\\begin{tabular}{lll}\n a & b & c\\\\\n <int> & <int> & <int>\\\\\n\\hline\n\t 1 &  6 & 11\\\\\n\t 2 &  7 & 12\\\\\n\t 3 &  8 & 13\\\\\n\t 4 &  9 & 14\\\\\n\t 5 & 10 & 15\\\\\n\\end{tabular}\n",
            "text/plain": [
              "  a b  c \n",
              "1 1  6 11\n",
              "2 2  7 12\n",
              "3 3  8 13\n",
              "4 4  9 14\n",
              "5 5 10 15"
            ]
          },
          "metadata": {}
        }
      ]
    },
    {
      "cell_type": "code",
      "source": [
        "select(df, b:c)"
      ],
      "metadata": {
        "colab": {
          "base_uri": "https://localhost:8080/",
          "height": 272
        },
        "id": "zuBGhgDdyymO",
        "outputId": "c016d56a-d937-40f9-df40-d5848e9930e7"
      },
      "execution_count": 207,
      "outputs": [
        {
          "output_type": "display_data",
          "data": {
            "text/html": [
              "<table class=\"dataframe\">\n",
              "<caption>A data.frame: 5 × 2</caption>\n",
              "<thead>\n",
              "\t<tr><th scope=col>b</th><th scope=col>c</th></tr>\n",
              "\t<tr><th scope=col>&lt;int&gt;</th><th scope=col>&lt;int&gt;</th></tr>\n",
              "</thead>\n",
              "<tbody>\n",
              "\t<tr><td> 6</td><td>11</td></tr>\n",
              "\t<tr><td> 7</td><td>12</td></tr>\n",
              "\t<tr><td> 8</td><td>13</td></tr>\n",
              "\t<tr><td> 9</td><td>14</td></tr>\n",
              "\t<tr><td>10</td><td>15</td></tr>\n",
              "</tbody>\n",
              "</table>\n"
            ],
            "text/markdown": "\nA data.frame: 5 × 2\n\n| b &lt;int&gt; | c &lt;int&gt; |\n|---|---|\n|  6 | 11 |\n|  7 | 12 |\n|  8 | 13 |\n|  9 | 14 |\n| 10 | 15 |\n\n",
            "text/latex": "A data.frame: 5 × 2\n\\begin{tabular}{ll}\n b & c\\\\\n <int> & <int>\\\\\n\\hline\n\t  6 & 11\\\\\n\t  7 & 12\\\\\n\t  8 & 13\\\\\n\t  9 & 14\\\\\n\t 10 & 15\\\\\n\\end{tabular}\n",
            "text/plain": [
              "  b  c \n",
              "1  6 11\n",
              "2  7 12\n",
              "3  8 13\n",
              "4  9 14\n",
              "5 10 15"
            ]
          },
          "metadata": {}
        }
      ]
    },
    {
      "cell_type": "markdown",
      "source": [
        "**Reordenar e Renomear Colunas**"
      ],
      "metadata": {
        "id": "QPVtujafy5VW"
      }
    },
    {
      "cell_type": "code",
      "source": [
        "select(df, c, a, b)"
      ],
      "metadata": {
        "colab": {
          "base_uri": "https://localhost:8080/",
          "height": 255
        },
        "id": "diBZl9Xyy5FM",
        "outputId": "26e93348-7447-43c9-ff27-885daab10316"
      },
      "execution_count": 208,
      "outputs": [
        {
          "output_type": "display_data",
          "data": {
            "text/html": [
              "<table class=\"dataframe\">\n",
              "<caption>A data.frame: 5 × 3</caption>\n",
              "<thead>\n",
              "\t<tr><th scope=col>c</th><th scope=col>a</th><th scope=col>b</th></tr>\n",
              "\t<tr><th scope=col>&lt;int&gt;</th><th scope=col>&lt;int&gt;</th><th scope=col>&lt;int&gt;</th></tr>\n",
              "</thead>\n",
              "<tbody>\n",
              "\t<tr><td>11</td><td>1</td><td> 6</td></tr>\n",
              "\t<tr><td>12</td><td>2</td><td> 7</td></tr>\n",
              "\t<tr><td>13</td><td>3</td><td> 8</td></tr>\n",
              "\t<tr><td>14</td><td>4</td><td> 9</td></tr>\n",
              "\t<tr><td>15</td><td>5</td><td>10</td></tr>\n",
              "</tbody>\n",
              "</table>\n"
            ],
            "text/markdown": "\nA data.frame: 5 × 3\n\n| c &lt;int&gt; | a &lt;int&gt; | b &lt;int&gt; |\n|---|---|---|\n| 11 | 1 |  6 |\n| 12 | 2 |  7 |\n| 13 | 3 |  8 |\n| 14 | 4 |  9 |\n| 15 | 5 | 10 |\n\n",
            "text/latex": "A data.frame: 5 × 3\n\\begin{tabular}{lll}\n c & a & b\\\\\n <int> & <int> & <int>\\\\\n\\hline\n\t 11 & 1 &  6\\\\\n\t 12 & 2 &  7\\\\\n\t 13 & 3 &  8\\\\\n\t 14 & 4 &  9\\\\\n\t 15 & 5 & 10\\\\\n\\end{tabular}\n",
            "text/plain": [
              "  c  a b \n",
              "1 11 1  6\n",
              "2 12 2  7\n",
              "3 13 3  8\n",
              "4 14 4  9\n",
              "5 15 5 10"
            ]
          },
          "metadata": {}
        }
      ]
    },
    {
      "cell_type": "markdown",
      "source": [
        "**Renomear Colunas:**"
      ],
      "metadata": {
        "id": "0FvY_pr0y-bJ"
      }
    },
    {
      "cell_type": "code",
      "source": [
        "select(df, novo_a = a, novo_b = b)"
      ],
      "metadata": {
        "colab": {
          "base_uri": "https://localhost:8080/",
          "height": 255
        },
        "id": "8Io545AOzAF3",
        "outputId": "fd20bbd4-76e4-49cf-abc3-e1d6fbba7ea3"
      },
      "execution_count": 209,
      "outputs": [
        {
          "output_type": "display_data",
          "data": {
            "text/html": [
              "<table class=\"dataframe\">\n",
              "<caption>A data.frame: 5 × 2</caption>\n",
              "<thead>\n",
              "\t<tr><th scope=col>novo_a</th><th scope=col>novo_b</th></tr>\n",
              "\t<tr><th scope=col>&lt;int&gt;</th><th scope=col>&lt;int&gt;</th></tr>\n",
              "</thead>\n",
              "<tbody>\n",
              "\t<tr><td>1</td><td> 6</td></tr>\n",
              "\t<tr><td>2</td><td> 7</td></tr>\n",
              "\t<tr><td>3</td><td> 8</td></tr>\n",
              "\t<tr><td>4</td><td> 9</td></tr>\n",
              "\t<tr><td>5</td><td>10</td></tr>\n",
              "</tbody>\n",
              "</table>\n"
            ],
            "text/markdown": "\nA data.frame: 5 × 2\n\n| novo_a &lt;int&gt; | novo_b &lt;int&gt; |\n|---|---|\n| 1 |  6 |\n| 2 |  7 |\n| 3 |  8 |\n| 4 |  9 |\n| 5 | 10 |\n\n",
            "text/latex": "A data.frame: 5 × 2\n\\begin{tabular}{ll}\n novo\\_a & novo\\_b\\\\\n <int> & <int>\\\\\n\\hline\n\t 1 &  6\\\\\n\t 2 &  7\\\\\n\t 3 &  8\\\\\n\t 4 &  9\\\\\n\t 5 & 10\\\\\n\\end{tabular}\n",
            "text/plain": [
              "  novo_a novo_b\n",
              "1 1       6    \n",
              "2 2       7    \n",
              "3 3       8    \n",
              "4 4       9    \n",
              "5 5      10    "
            ]
          },
          "metadata": {}
        }
      ]
    },
    {
      "cell_type": "markdown",
      "source": [
        "**Usando Funções de Helper**"
      ],
      "metadata": {
        "id": "8RHx08YWzDmm"
      }
    },
    {
      "cell_type": "code",
      "source": [
        "select(df, everything())"
      ],
      "metadata": {
        "colab": {
          "base_uri": "https://localhost:8080/",
          "height": 255
        },
        "id": "aDPYIWPAzA8k",
        "outputId": "b2b63aa2-bdb2-4c12-f731-9c483af3f173"
      },
      "execution_count": 210,
      "outputs": [
        {
          "output_type": "display_data",
          "data": {
            "text/html": [
              "<table class=\"dataframe\">\n",
              "<caption>A data.frame: 5 × 3</caption>\n",
              "<thead>\n",
              "\t<tr><th scope=col>a</th><th scope=col>b</th><th scope=col>c</th></tr>\n",
              "\t<tr><th scope=col>&lt;int&gt;</th><th scope=col>&lt;int&gt;</th><th scope=col>&lt;int&gt;</th></tr>\n",
              "</thead>\n",
              "<tbody>\n",
              "\t<tr><td>1</td><td> 6</td><td>11</td></tr>\n",
              "\t<tr><td>2</td><td> 7</td><td>12</td></tr>\n",
              "\t<tr><td>3</td><td> 8</td><td>13</td></tr>\n",
              "\t<tr><td>4</td><td> 9</td><td>14</td></tr>\n",
              "\t<tr><td>5</td><td>10</td><td>15</td></tr>\n",
              "</tbody>\n",
              "</table>\n"
            ],
            "text/markdown": "\nA data.frame: 5 × 3\n\n| a &lt;int&gt; | b &lt;int&gt; | c &lt;int&gt; |\n|---|---|---|\n| 1 |  6 | 11 |\n| 2 |  7 | 12 |\n| 3 |  8 | 13 |\n| 4 |  9 | 14 |\n| 5 | 10 | 15 |\n\n",
            "text/latex": "A data.frame: 5 × 3\n\\begin{tabular}{lll}\n a & b & c\\\\\n <int> & <int> & <int>\\\\\n\\hline\n\t 1 &  6 & 11\\\\\n\t 2 &  7 & 12\\\\\n\t 3 &  8 & 13\\\\\n\t 4 &  9 & 14\\\\\n\t 5 & 10 & 15\\\\\n\\end{tabular}\n",
            "text/plain": [
              "  a b  c \n",
              "1 1  6 11\n",
              "2 2  7 12\n",
              "3 3  8 13\n",
              "4 4  9 14\n",
              "5 5 10 15"
            ]
          },
          "metadata": {}
        }
      ]
    },
    {
      "cell_type": "markdown",
      "source": [
        "**last_col(): Seleciona a última coluna, com um deslocamento opcional.**"
      ],
      "metadata": {
        "id": "LxfXIMN0zJK2"
      }
    },
    {
      "cell_type": "code",
      "source": [
        "# Seleciona a última coluna\n",
        "select(df, last_col())\n",
        "# Seleciona a penúltima coluna\n",
        "select(df, last_col(offset = 1))"
      ],
      "metadata": {
        "colab": {
          "base_uri": "https://localhost:8080/",
          "height": 562
        },
        "id": "Xk5MHDswzKu1",
        "outputId": "df8902e4-4ade-4664-a8b5-61a030bed9d2"
      },
      "execution_count": 211,
      "outputs": [
        {
          "output_type": "display_data",
          "data": {
            "text/html": [
              "<table class=\"dataframe\">\n",
              "<caption>A data.frame: 5 × 1</caption>\n",
              "<thead>\n",
              "\t<tr><th scope=col>c</th></tr>\n",
              "\t<tr><th scope=col>&lt;int&gt;</th></tr>\n",
              "</thead>\n",
              "<tbody>\n",
              "\t<tr><td>11</td></tr>\n",
              "\t<tr><td>12</td></tr>\n",
              "\t<tr><td>13</td></tr>\n",
              "\t<tr><td>14</td></tr>\n",
              "\t<tr><td>15</td></tr>\n",
              "</tbody>\n",
              "</table>\n"
            ],
            "text/markdown": "\nA data.frame: 5 × 1\n\n| c &lt;int&gt; |\n|---|\n| 11 |\n| 12 |\n| 13 |\n| 14 |\n| 15 |\n\n",
            "text/latex": "A data.frame: 5 × 1\n\\begin{tabular}{l}\n c\\\\\n <int>\\\\\n\\hline\n\t 11\\\\\n\t 12\\\\\n\t 13\\\\\n\t 14\\\\\n\t 15\\\\\n\\end{tabular}\n",
            "text/plain": [
              "  c \n",
              "1 11\n",
              "2 12\n",
              "3 13\n",
              "4 14\n",
              "5 15"
            ]
          },
          "metadata": {}
        },
        {
          "output_type": "display_data",
          "data": {
            "text/html": [
              "<table class=\"dataframe\">\n",
              "<caption>A data.frame: 5 × 1</caption>\n",
              "<thead>\n",
              "\t<tr><th scope=col>b</th></tr>\n",
              "\t<tr><th scope=col>&lt;int&gt;</th></tr>\n",
              "</thead>\n",
              "<tbody>\n",
              "\t<tr><td> 6</td></tr>\n",
              "\t<tr><td> 7</td></tr>\n",
              "\t<tr><td> 8</td></tr>\n",
              "\t<tr><td> 9</td></tr>\n",
              "\t<tr><td>10</td></tr>\n",
              "</tbody>\n",
              "</table>\n"
            ],
            "text/markdown": "\nA data.frame: 5 × 1\n\n| b &lt;int&gt; |\n|---|\n|  6 |\n|  7 |\n|  8 |\n|  9 |\n| 10 |\n\n",
            "text/latex": "A data.frame: 5 × 1\n\\begin{tabular}{l}\n b\\\\\n <int>\\\\\n\\hline\n\t  6\\\\\n\t  7\\\\\n\t  8\\\\\n\t  9\\\\\n\t 10\\\\\n\\end{tabular}\n",
            "text/plain": [
              "  b \n",
              "1  6\n",
              "2  7\n",
              "3  8\n",
              "4  9\n",
              "5 10"
            ]
          },
          "metadata": {}
        }
      ]
    },
    {
      "cell_type": "markdown",
      "source": [
        "**Seleção Condicional:**"
      ],
      "metadata": {
        "id": "M-jcC4KnzNd2"
      }
    },
    {
      "cell_type": "code",
      "source": [
        "df <- data.frame(a = 1:5, b = c(1, 1, 1, 2, 2), c = c(1, 1, 2, 2, 3))\n",
        "\n",
        "df"
      ],
      "metadata": {
        "colab": {
          "base_uri": "https://localhost:8080/",
          "height": 255
        },
        "id": "Or8l2UXizK_X",
        "outputId": "b3b4cc60-2e26-4a02-839f-3edea59480df"
      },
      "execution_count": 212,
      "outputs": [
        {
          "output_type": "display_data",
          "data": {
            "text/html": [
              "<table class=\"dataframe\">\n",
              "<caption>A data.frame: 5 × 3</caption>\n",
              "<thead>\n",
              "\t<tr><th scope=col>a</th><th scope=col>b</th><th scope=col>c</th></tr>\n",
              "\t<tr><th scope=col>&lt;int&gt;</th><th scope=col>&lt;dbl&gt;</th><th scope=col>&lt;dbl&gt;</th></tr>\n",
              "</thead>\n",
              "<tbody>\n",
              "\t<tr><td>1</td><td>1</td><td>1</td></tr>\n",
              "\t<tr><td>2</td><td>1</td><td>1</td></tr>\n",
              "\t<tr><td>3</td><td>1</td><td>2</td></tr>\n",
              "\t<tr><td>4</td><td>2</td><td>2</td></tr>\n",
              "\t<tr><td>5</td><td>2</td><td>3</td></tr>\n",
              "</tbody>\n",
              "</table>\n"
            ],
            "text/markdown": "\nA data.frame: 5 × 3\n\n| a &lt;int&gt; | b &lt;dbl&gt; | c &lt;dbl&gt; |\n|---|---|---|\n| 1 | 1 | 1 |\n| 2 | 1 | 1 |\n| 3 | 1 | 2 |\n| 4 | 2 | 2 |\n| 5 | 2 | 3 |\n\n",
            "text/latex": "A data.frame: 5 × 3\n\\begin{tabular}{lll}\n a & b & c\\\\\n <int> & <dbl> & <dbl>\\\\\n\\hline\n\t 1 & 1 & 1\\\\\n\t 2 & 1 & 1\\\\\n\t 3 & 1 & 2\\\\\n\t 4 & 2 & 2\\\\\n\t 5 & 2 & 3\\\\\n\\end{tabular}\n",
            "text/plain": [
              "  a b c\n",
              "1 1 1 1\n",
              "2 2 1 1\n",
              "3 3 1 2\n",
              "4 4 2 2\n",
              "5 5 2 3"
            ]
          },
          "metadata": {}
        }
      ]
    },
    {
      "cell_type": "code",
      "source": [
        "# Usando if_any e if_all\n",
        "# Usando if_any e if_all\n",
        "filter(df, if_any(c(b, c), ~ . == 1)) # Pelo menos um valor igual a 1 em b ou c\n",
        "filter(df, if_all(c(b, c), ~ . == 1)) # Todos os valores iguais a 1 em b e c\n"
      ],
      "metadata": {
        "colab": {
          "base_uri": "https://localhost:8080/",
          "height": 336
        },
        "id": "1D20GEcoz0ag",
        "outputId": "69fc2c71-3892-4d7c-9ec7-df291a4ee696"
      },
      "execution_count": 213,
      "outputs": [
        {
          "output_type": "display_data",
          "data": {
            "text/html": [
              "<table class=\"dataframe\">\n",
              "<caption>A data.frame: 3 × 3</caption>\n",
              "<thead>\n",
              "\t<tr><th scope=col>a</th><th scope=col>b</th><th scope=col>c</th></tr>\n",
              "\t<tr><th scope=col>&lt;int&gt;</th><th scope=col>&lt;dbl&gt;</th><th scope=col>&lt;dbl&gt;</th></tr>\n",
              "</thead>\n",
              "<tbody>\n",
              "\t<tr><td>1</td><td>1</td><td>1</td></tr>\n",
              "\t<tr><td>2</td><td>1</td><td>1</td></tr>\n",
              "\t<tr><td>3</td><td>1</td><td>2</td></tr>\n",
              "</tbody>\n",
              "</table>\n"
            ],
            "text/markdown": "\nA data.frame: 3 × 3\n\n| a &lt;int&gt; | b &lt;dbl&gt; | c &lt;dbl&gt; |\n|---|---|---|\n| 1 | 1 | 1 |\n| 2 | 1 | 1 |\n| 3 | 1 | 2 |\n\n",
            "text/latex": "A data.frame: 3 × 3\n\\begin{tabular}{lll}\n a & b & c\\\\\n <int> & <dbl> & <dbl>\\\\\n\\hline\n\t 1 & 1 & 1\\\\\n\t 2 & 1 & 1\\\\\n\t 3 & 1 & 2\\\\\n\\end{tabular}\n",
            "text/plain": [
              "  a b c\n",
              "1 1 1 1\n",
              "2 2 1 1\n",
              "3 3 1 2"
            ]
          },
          "metadata": {}
        },
        {
          "output_type": "display_data",
          "data": {
            "text/html": [
              "<table class=\"dataframe\">\n",
              "<caption>A data.frame: 2 × 3</caption>\n",
              "<thead>\n",
              "\t<tr><th scope=col>a</th><th scope=col>b</th><th scope=col>c</th></tr>\n",
              "\t<tr><th scope=col>&lt;int&gt;</th><th scope=col>&lt;dbl&gt;</th><th scope=col>&lt;dbl&gt;</th></tr>\n",
              "</thead>\n",
              "<tbody>\n",
              "\t<tr><td>1</td><td>1</td><td>1</td></tr>\n",
              "\t<tr><td>2</td><td>1</td><td>1</td></tr>\n",
              "</tbody>\n",
              "</table>\n"
            ],
            "text/markdown": "\nA data.frame: 2 × 3\n\n| a &lt;int&gt; | b &lt;dbl&gt; | c &lt;dbl&gt; |\n|---|---|---|\n| 1 | 1 | 1 |\n| 2 | 1 | 1 |\n\n",
            "text/latex": "A data.frame: 2 × 3\n\\begin{tabular}{lll}\n a & b & c\\\\\n <int> & <dbl> & <dbl>\\\\\n\\hline\n\t 1 & 1 & 1\\\\\n\t 2 & 1 & 1\\\\\n\\end{tabular}\n",
            "text/plain": [
              "  a b c\n",
              "1 1 1 1\n",
              "2 2 1 1"
            ]
          },
          "metadata": {}
        }
      ]
    },
    {
      "cell_type": "markdown",
      "source": [
        "**Filtrando os pedidos em um intervalo**"
      ],
      "metadata": {
        "id": "Rfhb_9146_rb"
      }
    },
    {
      "cell_type": "code",
      "source": [
        "pedidos %>%\n",
        "  filter(DataPedido >= as.Date(\"2024-07-01\") & DataPedido <= as.Date(\"2024-08-01\"))"
      ],
      "metadata": {
        "colab": {
          "base_uri": "https://localhost:8080/",
          "height": 1000
        },
        "id": "zSU7fzlx7DzD",
        "outputId": "1c6dadcc-1b99-45a4-c991-d20bba8b0f03"
      },
      "execution_count": 214,
      "outputs": [
        {
          "output_type": "display_data",
          "data": {
            "text/html": [
              "<table class=\"dataframe\">\n",
              "<caption>A spec_tbl_df: 20 × 9</caption>\n",
              "<thead>\n",
              "\t<tr><th scope=col>PedidoID</th><th scope=col>ClienteID</th><th scope=col>DataPedido</th><th scope=col>DataEntrega</th><th scope=col>Status</th><th scope=col>ValorTotal</th><th scope=col>TransportadorID</th><th scope=col>Regiao</th><th scope=col>EnderecoPedido</th></tr>\n",
              "\t<tr><th scope=col>&lt;dbl&gt;</th><th scope=col>&lt;dbl&gt;</th><th scope=col>&lt;dttm&gt;</th><th scope=col>&lt;dttm&gt;</th><th scope=col>&lt;chr&gt;</th><th scope=col>&lt;dbl&gt;</th><th scope=col>&lt;dbl&gt;</th><th scope=col>&lt;chr&gt;</th><th scope=col>&lt;chr&gt;</th></tr>\n",
              "</thead>\n",
              "<tbody>\n",
              "\t<tr><td>101</td><td>14</td><td>2024-07-01 18:56:18</td><td>2024-07-14 08:00:17</td><td>Entregue   </td><td>1895.15</td><td>2</td><td>Sudeste     </td><td>Travessa das Palmeiras, 789, Savassi, Belo Horizonte, 30100-000</td></tr>\n",
              "\t<tr><td>102</td><td>12</td><td>2024-07-02 20:57:26</td><td>2024-07-12 11:46:21</td><td>Entregue   </td><td>2827.16</td><td>2</td><td>Sudeste     </td><td>Avenida Paulista, 456, Bela Vista, São Paulo, 01300-000        </td></tr>\n",
              "\t<tr><td>103</td><td> 3</td><td>2024-07-03 17:18:26</td><td>2024-07-22 08:57:49</td><td>Entregue   </td><td>2576.52</td><td>2</td><td>Norte       </td><td>Rua das Flores, 123, Centro, Manaus, 69000-000                 </td></tr>\n",
              "\t<tr><td>104</td><td> 7</td><td>2024-07-04 08:11:38</td><td>2024-07-21 05:59:59</td><td>Entregue   </td><td>2820.98</td><td>2</td><td>Sul         </td><td>Travessa das Hortênsias, 789, Centro, Florianópolis, 88000-000 </td></tr>\n",
              "\t<tr><td>105</td><td>20</td><td>2024-07-05 10:50:35</td><td>2024-07-19 02:15:03</td><td>Entregue   </td><td>2693.72</td><td>2</td><td>Sudeste     </td><td>Travessa das Palmeiras, 789, Savassi, Belo Horizonte, 30100-000</td></tr>\n",
              "\t<tr><td>106</td><td> 9</td><td>2024-07-06 07:01:49</td><td>2024-07-25 14:40:41</td><td>Entregue   </td><td>2405.18</td><td>2</td><td>Norte       </td><td>Rua das Flores, 123, Centro, Manaus, 69000-000                 </td></tr>\n",
              "\t<tr><td>107</td><td> 6</td><td>2024-07-07 09:25:10</td><td>2024-07-18 19:46:14</td><td>Entregue   </td><td>1780.62</td><td>2</td><td>Norte       </td><td>Rua das Flores, 123, Centro, Manaus, 69000-000                 </td></tr>\n",
              "\t<tr><td>108</td><td>12</td><td>2024-07-08 14:27:11</td><td>2024-07-21 09:06:39</td><td>Entregue   </td><td>2838.51</td><td>2</td><td>Sul         </td><td>Avenida Farrapos, 456, Floresta, Porto Alegre, 90200-000       </td></tr>\n",
              "\t<tr><td>109</td><td> 8</td><td>2024-07-09 19:48:20</td><td>2024-07-25 12:14:40</td><td>Entregue   </td><td>1807.53</td><td>1</td><td>Centro-Oeste</td><td>Travessa dos Buritis, 789, Jardim Goiás, Cuiabá, 78000-000     </td></tr>\n",
              "\t<tr><td>110</td><td>16</td><td>2024-07-10 23:14:50</td><td>NA</td><td>Em trânsito</td><td>2771.25</td><td>1</td><td>Sudeste     </td><td>Travessa das Palmeiras, 789, Savassi, Belo Horizonte, 30100-000</td></tr>\n",
              "\t<tr><td>111</td><td>14</td><td>2024-07-11 16:39:20</td><td>2024-07-24 06:55:39</td><td>Entregue   </td><td>1833.60</td><td>2</td><td>Sudeste     </td><td>Avenida Paulista, 456, Bela Vista, São Paulo, 01300-000        </td></tr>\n",
              "\t<tr><td>112</td><td>13</td><td>2024-07-12 13:41:32</td><td>2024-07-29 16:36:39</td><td>Entregue   </td><td>2843.38</td><td>2</td><td>Nordeste    </td><td>Avenida Atlântica, 456, Meireles, Fortaleza, 60100-000         </td></tr>\n",
              "\t<tr><td>113</td><td> 3</td><td>2024-07-13 18:40:00</td><td>2024-07-30 13:37:39</td><td>Entregue   </td><td>2444.73</td><td>1</td><td>Centro-Oeste</td><td>Avenida Brasília, 456, Asa Norte, Brasília, 70000-000          </td></tr>\n",
              "\t<tr><td>114</td><td> 1</td><td>2024-07-14 15:51:12</td><td>2024-07-28 09:53:29</td><td>Entregue   </td><td>2565.20</td><td>1</td><td>Centro-Oeste</td><td>Avenida Brasília, 456, Asa Norte, Brasília, 70000-000          </td></tr>\n",
              "\t<tr><td>115</td><td> 8</td><td>2024-07-15 21:59:37</td><td>2024-07-26 21:38:59</td><td>Entregue   </td><td>2537.74</td><td>2</td><td>Sul         </td><td>Avenida Farrapos, 456, Floresta, Porto Alegre, 90200-000       </td></tr>\n",
              "\t<tr><td>116</td><td>19</td><td>2024-07-16 01:45:21</td><td>NA</td><td>Em trânsito</td><td>2719.95</td><td>2</td><td>Centro-Oeste</td><td>Travessa dos Buritis, 789, Jardim Goiás, Cuiabá, 78000-000     </td></tr>\n",
              "\t<tr><td>117</td><td>10</td><td>2024-07-17 17:00:16</td><td>NA</td><td>Pendente   </td><td>1906.17</td><td>1</td><td>Centro-Oeste</td><td>Travessa dos Buritis, 789, Jardim Goiás, Cuiabá, 78000-000     </td></tr>\n",
              "\t<tr><td>118</td><td>19</td><td>2024-07-18 09:23:13</td><td>2024-08-01 04:25:14</td><td>Entregue   </td><td>2412.58</td><td>1</td><td>Norte       </td><td>Rua das Flores, 123, Centro, Manaus, 69000-000                 </td></tr>\n",
              "\t<tr><td>119</td><td> 7</td><td>2024-07-19 11:57:33</td><td>NA</td><td>Pendente   </td><td>2225.66</td><td>2</td><td>Nordeste    </td><td>Travessa dos Coqueiros, 789, Boa Viagem, Recife, 51000-000     </td></tr>\n",
              "\t<tr><td>120</td><td> 9</td><td>2024-07-20 11:05:29</td><td>2024-08-01 07:58:55</td><td>Entregue   </td><td>2072.44</td><td>2</td><td>Sul         </td><td>Travessa das Hortênsias, 789, Centro, Florianópolis, 88000-000 </td></tr>\n",
              "</tbody>\n",
              "</table>\n"
            ],
            "text/markdown": "\nA spec_tbl_df: 20 × 9\n\n| PedidoID &lt;dbl&gt; | ClienteID &lt;dbl&gt; | DataPedido &lt;dttm&gt; | DataEntrega &lt;dttm&gt; | Status &lt;chr&gt; | ValorTotal &lt;dbl&gt; | TransportadorID &lt;dbl&gt; | Regiao &lt;chr&gt; | EnderecoPedido &lt;chr&gt; |\n|---|---|---|---|---|---|---|---|---|\n| 101 | 14 | 2024-07-01 18:56:18 | 2024-07-14 08:00:17 | Entregue    | 1895.15 | 2 | Sudeste      | Travessa das Palmeiras, 789, Savassi, Belo Horizonte, 30100-000 |\n| 102 | 12 | 2024-07-02 20:57:26 | 2024-07-12 11:46:21 | Entregue    | 2827.16 | 2 | Sudeste      | Avenida Paulista, 456, Bela Vista, São Paulo, 01300-000         |\n| 103 |  3 | 2024-07-03 17:18:26 | 2024-07-22 08:57:49 | Entregue    | 2576.52 | 2 | Norte        | Rua das Flores, 123, Centro, Manaus, 69000-000                  |\n| 104 |  7 | 2024-07-04 08:11:38 | 2024-07-21 05:59:59 | Entregue    | 2820.98 | 2 | Sul          | Travessa das Hortênsias, 789, Centro, Florianópolis, 88000-000  |\n| 105 | 20 | 2024-07-05 10:50:35 | 2024-07-19 02:15:03 | Entregue    | 2693.72 | 2 | Sudeste      | Travessa das Palmeiras, 789, Savassi, Belo Horizonte, 30100-000 |\n| 106 |  9 | 2024-07-06 07:01:49 | 2024-07-25 14:40:41 | Entregue    | 2405.18 | 2 | Norte        | Rua das Flores, 123, Centro, Manaus, 69000-000                  |\n| 107 |  6 | 2024-07-07 09:25:10 | 2024-07-18 19:46:14 | Entregue    | 1780.62 | 2 | Norte        | Rua das Flores, 123, Centro, Manaus, 69000-000                  |\n| 108 | 12 | 2024-07-08 14:27:11 | 2024-07-21 09:06:39 | Entregue    | 2838.51 | 2 | Sul          | Avenida Farrapos, 456, Floresta, Porto Alegre, 90200-000        |\n| 109 |  8 | 2024-07-09 19:48:20 | 2024-07-25 12:14:40 | Entregue    | 1807.53 | 1 | Centro-Oeste | Travessa dos Buritis, 789, Jardim Goiás, Cuiabá, 78000-000      |\n| 110 | 16 | 2024-07-10 23:14:50 | NA | Em trânsito | 2771.25 | 1 | Sudeste      | Travessa das Palmeiras, 789, Savassi, Belo Horizonte, 30100-000 |\n| 111 | 14 | 2024-07-11 16:39:20 | 2024-07-24 06:55:39 | Entregue    | 1833.60 | 2 | Sudeste      | Avenida Paulista, 456, Bela Vista, São Paulo, 01300-000         |\n| 112 | 13 | 2024-07-12 13:41:32 | 2024-07-29 16:36:39 | Entregue    | 2843.38 | 2 | Nordeste     | Avenida Atlântica, 456, Meireles, Fortaleza, 60100-000          |\n| 113 |  3 | 2024-07-13 18:40:00 | 2024-07-30 13:37:39 | Entregue    | 2444.73 | 1 | Centro-Oeste | Avenida Brasília, 456, Asa Norte, Brasília, 70000-000           |\n| 114 |  1 | 2024-07-14 15:51:12 | 2024-07-28 09:53:29 | Entregue    | 2565.20 | 1 | Centro-Oeste | Avenida Brasília, 456, Asa Norte, Brasília, 70000-000           |\n| 115 |  8 | 2024-07-15 21:59:37 | 2024-07-26 21:38:59 | Entregue    | 2537.74 | 2 | Sul          | Avenida Farrapos, 456, Floresta, Porto Alegre, 90200-000        |\n| 116 | 19 | 2024-07-16 01:45:21 | NA | Em trânsito | 2719.95 | 2 | Centro-Oeste | Travessa dos Buritis, 789, Jardim Goiás, Cuiabá, 78000-000      |\n| 117 | 10 | 2024-07-17 17:00:16 | NA | Pendente    | 1906.17 | 1 | Centro-Oeste | Travessa dos Buritis, 789, Jardim Goiás, Cuiabá, 78000-000      |\n| 118 | 19 | 2024-07-18 09:23:13 | 2024-08-01 04:25:14 | Entregue    | 2412.58 | 1 | Norte        | Rua das Flores, 123, Centro, Manaus, 69000-000                  |\n| 119 |  7 | 2024-07-19 11:57:33 | NA | Pendente    | 2225.66 | 2 | Nordeste     | Travessa dos Coqueiros, 789, Boa Viagem, Recife, 51000-000      |\n| 120 |  9 | 2024-07-20 11:05:29 | 2024-08-01 07:58:55 | Entregue    | 2072.44 | 2 | Sul          | Travessa das Hortênsias, 789, Centro, Florianópolis, 88000-000  |\n\n",
            "text/latex": "A spec\\_tbl\\_df: 20 × 9\n\\begin{tabular}{lllllllll}\n PedidoID & ClienteID & DataPedido & DataEntrega & Status & ValorTotal & TransportadorID & Regiao & EnderecoPedido\\\\\n <dbl> & <dbl> & <dttm> & <dttm> & <chr> & <dbl> & <dbl> & <chr> & <chr>\\\\\n\\hline\n\t 101 & 14 & 2024-07-01 18:56:18 & 2024-07-14 08:00:17 & Entregue    & 1895.15 & 2 & Sudeste      & Travessa das Palmeiras, 789, Savassi, Belo Horizonte, 30100-000\\\\\n\t 102 & 12 & 2024-07-02 20:57:26 & 2024-07-12 11:46:21 & Entregue    & 2827.16 & 2 & Sudeste      & Avenida Paulista, 456, Bela Vista, São Paulo, 01300-000        \\\\\n\t 103 &  3 & 2024-07-03 17:18:26 & 2024-07-22 08:57:49 & Entregue    & 2576.52 & 2 & Norte        & Rua das Flores, 123, Centro, Manaus, 69000-000                 \\\\\n\t 104 &  7 & 2024-07-04 08:11:38 & 2024-07-21 05:59:59 & Entregue    & 2820.98 & 2 & Sul          & Travessa das Hortênsias, 789, Centro, Florianópolis, 88000-000 \\\\\n\t 105 & 20 & 2024-07-05 10:50:35 & 2024-07-19 02:15:03 & Entregue    & 2693.72 & 2 & Sudeste      & Travessa das Palmeiras, 789, Savassi, Belo Horizonte, 30100-000\\\\\n\t 106 &  9 & 2024-07-06 07:01:49 & 2024-07-25 14:40:41 & Entregue    & 2405.18 & 2 & Norte        & Rua das Flores, 123, Centro, Manaus, 69000-000                 \\\\\n\t 107 &  6 & 2024-07-07 09:25:10 & 2024-07-18 19:46:14 & Entregue    & 1780.62 & 2 & Norte        & Rua das Flores, 123, Centro, Manaus, 69000-000                 \\\\\n\t 108 & 12 & 2024-07-08 14:27:11 & 2024-07-21 09:06:39 & Entregue    & 2838.51 & 2 & Sul          & Avenida Farrapos, 456, Floresta, Porto Alegre, 90200-000       \\\\\n\t 109 &  8 & 2024-07-09 19:48:20 & 2024-07-25 12:14:40 & Entregue    & 1807.53 & 1 & Centro-Oeste & Travessa dos Buritis, 789, Jardim Goiás, Cuiabá, 78000-000     \\\\\n\t 110 & 16 & 2024-07-10 23:14:50 & NA & Em trânsito & 2771.25 & 1 & Sudeste      & Travessa das Palmeiras, 789, Savassi, Belo Horizonte, 30100-000\\\\\n\t 111 & 14 & 2024-07-11 16:39:20 & 2024-07-24 06:55:39 & Entregue    & 1833.60 & 2 & Sudeste      & Avenida Paulista, 456, Bela Vista, São Paulo, 01300-000        \\\\\n\t 112 & 13 & 2024-07-12 13:41:32 & 2024-07-29 16:36:39 & Entregue    & 2843.38 & 2 & Nordeste     & Avenida Atlântica, 456, Meireles, Fortaleza, 60100-000         \\\\\n\t 113 &  3 & 2024-07-13 18:40:00 & 2024-07-30 13:37:39 & Entregue    & 2444.73 & 1 & Centro-Oeste & Avenida Brasília, 456, Asa Norte, Brasília, 70000-000          \\\\\n\t 114 &  1 & 2024-07-14 15:51:12 & 2024-07-28 09:53:29 & Entregue    & 2565.20 & 1 & Centro-Oeste & Avenida Brasília, 456, Asa Norte, Brasília, 70000-000          \\\\\n\t 115 &  8 & 2024-07-15 21:59:37 & 2024-07-26 21:38:59 & Entregue    & 2537.74 & 2 & Sul          & Avenida Farrapos, 456, Floresta, Porto Alegre, 90200-000       \\\\\n\t 116 & 19 & 2024-07-16 01:45:21 & NA & Em trânsito & 2719.95 & 2 & Centro-Oeste & Travessa dos Buritis, 789, Jardim Goiás, Cuiabá, 78000-000     \\\\\n\t 117 & 10 & 2024-07-17 17:00:16 & NA & Pendente    & 1906.17 & 1 & Centro-Oeste & Travessa dos Buritis, 789, Jardim Goiás, Cuiabá, 78000-000     \\\\\n\t 118 & 19 & 2024-07-18 09:23:13 & 2024-08-01 04:25:14 & Entregue    & 2412.58 & 1 & Norte        & Rua das Flores, 123, Centro, Manaus, 69000-000                 \\\\\n\t 119 &  7 & 2024-07-19 11:57:33 & NA & Pendente    & 2225.66 & 2 & Nordeste     & Travessa dos Coqueiros, 789, Boa Viagem, Recife, 51000-000     \\\\\n\t 120 &  9 & 2024-07-20 11:05:29 & 2024-08-01 07:58:55 & Entregue    & 2072.44 & 2 & Sul          & Travessa das Hortênsias, 789, Centro, Florianópolis, 88000-000 \\\\\n\\end{tabular}\n",
            "text/plain": [
              "   PedidoID ClienteID DataPedido          DataEntrega         Status     \n",
              "1  101      14        2024-07-01 18:56:18 2024-07-14 08:00:17 Entregue   \n",
              "2  102      12        2024-07-02 20:57:26 2024-07-12 11:46:21 Entregue   \n",
              "3  103       3        2024-07-03 17:18:26 2024-07-22 08:57:49 Entregue   \n",
              "4  104       7        2024-07-04 08:11:38 2024-07-21 05:59:59 Entregue   \n",
              "5  105      20        2024-07-05 10:50:35 2024-07-19 02:15:03 Entregue   \n",
              "6  106       9        2024-07-06 07:01:49 2024-07-25 14:40:41 Entregue   \n",
              "7  107       6        2024-07-07 09:25:10 2024-07-18 19:46:14 Entregue   \n",
              "8  108      12        2024-07-08 14:27:11 2024-07-21 09:06:39 Entregue   \n",
              "9  109       8        2024-07-09 19:48:20 2024-07-25 12:14:40 Entregue   \n",
              "10 110      16        2024-07-10 23:14:50 <NA>                Em trânsito\n",
              "11 111      14        2024-07-11 16:39:20 2024-07-24 06:55:39 Entregue   \n",
              "12 112      13        2024-07-12 13:41:32 2024-07-29 16:36:39 Entregue   \n",
              "13 113       3        2024-07-13 18:40:00 2024-07-30 13:37:39 Entregue   \n",
              "14 114       1        2024-07-14 15:51:12 2024-07-28 09:53:29 Entregue   \n",
              "15 115       8        2024-07-15 21:59:37 2024-07-26 21:38:59 Entregue   \n",
              "16 116      19        2024-07-16 01:45:21 <NA>                Em trânsito\n",
              "17 117      10        2024-07-17 17:00:16 <NA>                Pendente   \n",
              "18 118      19        2024-07-18 09:23:13 2024-08-01 04:25:14 Entregue   \n",
              "19 119       7        2024-07-19 11:57:33 <NA>                Pendente   \n",
              "20 120       9        2024-07-20 11:05:29 2024-08-01 07:58:55 Entregue   \n",
              "   ValorTotal TransportadorID Regiao      \n",
              "1  1895.15    2               Sudeste     \n",
              "2  2827.16    2               Sudeste     \n",
              "3  2576.52    2               Norte       \n",
              "4  2820.98    2               Sul         \n",
              "5  2693.72    2               Sudeste     \n",
              "6  2405.18    2               Norte       \n",
              "7  1780.62    2               Norte       \n",
              "8  2838.51    2               Sul         \n",
              "9  1807.53    1               Centro-Oeste\n",
              "10 2771.25    1               Sudeste     \n",
              "11 1833.60    2               Sudeste     \n",
              "12 2843.38    2               Nordeste    \n",
              "13 2444.73    1               Centro-Oeste\n",
              "14 2565.20    1               Centro-Oeste\n",
              "15 2537.74    2               Sul         \n",
              "16 2719.95    2               Centro-Oeste\n",
              "17 1906.17    1               Centro-Oeste\n",
              "18 2412.58    1               Norte       \n",
              "19 2225.66    2               Nordeste    \n",
              "20 2072.44    2               Sul         \n",
              "   EnderecoPedido                                                 \n",
              "1  Travessa das Palmeiras, 789, Savassi, Belo Horizonte, 30100-000\n",
              "2  Avenida Paulista, 456, Bela Vista, São Paulo, 01300-000        \n",
              "3  Rua das Flores, 123, Centro, Manaus, 69000-000                 \n",
              "4  Travessa das Hortênsias, 789, Centro, Florianópolis, 88000-000 \n",
              "5  Travessa das Palmeiras, 789, Savassi, Belo Horizonte, 30100-000\n",
              "6  Rua das Flores, 123, Centro, Manaus, 69000-000                 \n",
              "7  Rua das Flores, 123, Centro, Manaus, 69000-000                 \n",
              "8  Avenida Farrapos, 456, Floresta, Porto Alegre, 90200-000       \n",
              "9  Travessa dos Buritis, 789, Jardim Goiás, Cuiabá, 78000-000     \n",
              "10 Travessa das Palmeiras, 789, Savassi, Belo Horizonte, 30100-000\n",
              "11 Avenida Paulista, 456, Bela Vista, São Paulo, 01300-000        \n",
              "12 Avenida Atlântica, 456, Meireles, Fortaleza, 60100-000         \n",
              "13 Avenida Brasília, 456, Asa Norte, Brasília, 70000-000          \n",
              "14 Avenida Brasília, 456, Asa Norte, Brasília, 70000-000          \n",
              "15 Avenida Farrapos, 456, Floresta, Porto Alegre, 90200-000       \n",
              "16 Travessa dos Buritis, 789, Jardim Goiás, Cuiabá, 78000-000     \n",
              "17 Travessa dos Buritis, 789, Jardim Goiás, Cuiabá, 78000-000     \n",
              "18 Rua das Flores, 123, Centro, Manaus, 69000-000                 \n",
              "19 Travessa dos Coqueiros, 789, Boa Viagem, Recife, 51000-000     \n",
              "20 Travessa das Hortênsias, 789, Centro, Florianópolis, 88000-000 "
            ]
          },
          "metadata": {}
        }
      ]
    },
    {
      "cell_type": "markdown",
      "source": [
        "**Filtrando os pedidos no intervalo que estão pendentes ou em trânsito**"
      ],
      "metadata": {
        "id": "kuVH0Yip7l4C"
      }
    },
    {
      "cell_type": "code",
      "source": [
        "pedidos %>%\n",
        "  filter(DataPedido >= as.Date(\"2024-07-01\") & DataPedido <= as.Date(\"2024-08-01\"), Status == \"Em trânsito\" | Status == \"Pendente\")"
      ],
      "metadata": {
        "colab": {
          "base_uri": "https://localhost:8080/",
          "height": 362
        },
        "id": "pKGprmtI7tO3",
        "outputId": "3f66ff55-20df-4634-9346-bc1c33808479"
      },
      "execution_count": 215,
      "outputs": [
        {
          "output_type": "display_data",
          "data": {
            "text/html": [
              "<table class=\"dataframe\">\n",
              "<caption>A spec_tbl_df: 4 × 9</caption>\n",
              "<thead>\n",
              "\t<tr><th scope=col>PedidoID</th><th scope=col>ClienteID</th><th scope=col>DataPedido</th><th scope=col>DataEntrega</th><th scope=col>Status</th><th scope=col>ValorTotal</th><th scope=col>TransportadorID</th><th scope=col>Regiao</th><th scope=col>EnderecoPedido</th></tr>\n",
              "\t<tr><th scope=col>&lt;dbl&gt;</th><th scope=col>&lt;dbl&gt;</th><th scope=col>&lt;dttm&gt;</th><th scope=col>&lt;dttm&gt;</th><th scope=col>&lt;chr&gt;</th><th scope=col>&lt;dbl&gt;</th><th scope=col>&lt;dbl&gt;</th><th scope=col>&lt;chr&gt;</th><th scope=col>&lt;chr&gt;</th></tr>\n",
              "</thead>\n",
              "<tbody>\n",
              "\t<tr><td>110</td><td>16</td><td>2024-07-10 23:14:50</td><td>NA</td><td>Em trânsito</td><td>2771.25</td><td>1</td><td>Sudeste     </td><td>Travessa das Palmeiras, 789, Savassi, Belo Horizonte, 30100-000</td></tr>\n",
              "\t<tr><td>116</td><td>19</td><td>2024-07-16 01:45:21</td><td>NA</td><td>Em trânsito</td><td>2719.95</td><td>2</td><td>Centro-Oeste</td><td>Travessa dos Buritis, 789, Jardim Goiás, Cuiabá, 78000-000     </td></tr>\n",
              "\t<tr><td>117</td><td>10</td><td>2024-07-17 17:00:16</td><td>NA</td><td>Pendente   </td><td>1906.17</td><td>1</td><td>Centro-Oeste</td><td>Travessa dos Buritis, 789, Jardim Goiás, Cuiabá, 78000-000     </td></tr>\n",
              "\t<tr><td>119</td><td> 7</td><td>2024-07-19 11:57:33</td><td>NA</td><td>Pendente   </td><td>2225.66</td><td>2</td><td>Nordeste    </td><td>Travessa dos Coqueiros, 789, Boa Viagem, Recife, 51000-000     </td></tr>\n",
              "</tbody>\n",
              "</table>\n"
            ],
            "text/markdown": "\nA spec_tbl_df: 4 × 9\n\n| PedidoID &lt;dbl&gt; | ClienteID &lt;dbl&gt; | DataPedido &lt;dttm&gt; | DataEntrega &lt;dttm&gt; | Status &lt;chr&gt; | ValorTotal &lt;dbl&gt; | TransportadorID &lt;dbl&gt; | Regiao &lt;chr&gt; | EnderecoPedido &lt;chr&gt; |\n|---|---|---|---|---|---|---|---|---|\n| 110 | 16 | 2024-07-10 23:14:50 | NA | Em trânsito | 2771.25 | 1 | Sudeste      | Travessa das Palmeiras, 789, Savassi, Belo Horizonte, 30100-000 |\n| 116 | 19 | 2024-07-16 01:45:21 | NA | Em trânsito | 2719.95 | 2 | Centro-Oeste | Travessa dos Buritis, 789, Jardim Goiás, Cuiabá, 78000-000      |\n| 117 | 10 | 2024-07-17 17:00:16 | NA | Pendente    | 1906.17 | 1 | Centro-Oeste | Travessa dos Buritis, 789, Jardim Goiás, Cuiabá, 78000-000      |\n| 119 |  7 | 2024-07-19 11:57:33 | NA | Pendente    | 2225.66 | 2 | Nordeste     | Travessa dos Coqueiros, 789, Boa Viagem, Recife, 51000-000      |\n\n",
            "text/latex": "A spec\\_tbl\\_df: 4 × 9\n\\begin{tabular}{lllllllll}\n PedidoID & ClienteID & DataPedido & DataEntrega & Status & ValorTotal & TransportadorID & Regiao & EnderecoPedido\\\\\n <dbl> & <dbl> & <dttm> & <dttm> & <chr> & <dbl> & <dbl> & <chr> & <chr>\\\\\n\\hline\n\t 110 & 16 & 2024-07-10 23:14:50 & NA & Em trânsito & 2771.25 & 1 & Sudeste      & Travessa das Palmeiras, 789, Savassi, Belo Horizonte, 30100-000\\\\\n\t 116 & 19 & 2024-07-16 01:45:21 & NA & Em trânsito & 2719.95 & 2 & Centro-Oeste & Travessa dos Buritis, 789, Jardim Goiás, Cuiabá, 78000-000     \\\\\n\t 117 & 10 & 2024-07-17 17:00:16 & NA & Pendente    & 1906.17 & 1 & Centro-Oeste & Travessa dos Buritis, 789, Jardim Goiás, Cuiabá, 78000-000     \\\\\n\t 119 &  7 & 2024-07-19 11:57:33 & NA & Pendente    & 2225.66 & 2 & Nordeste     & Travessa dos Coqueiros, 789, Boa Viagem, Recife, 51000-000     \\\\\n\\end{tabular}\n",
            "text/plain": [
              "  PedidoID ClienteID DataPedido          DataEntrega Status      ValorTotal\n",
              "1 110      16        2024-07-10 23:14:50 <NA>        Em trânsito 2771.25   \n",
              "2 116      19        2024-07-16 01:45:21 <NA>        Em trânsito 2719.95   \n",
              "3 117      10        2024-07-17 17:00:16 <NA>        Pendente    1906.17   \n",
              "4 119       7        2024-07-19 11:57:33 <NA>        Pendente    2225.66   \n",
              "  TransportadorID Regiao      \n",
              "1 1               Sudeste     \n",
              "2 2               Centro-Oeste\n",
              "3 1               Centro-Oeste\n",
              "4 2               Nordeste    \n",
              "  EnderecoPedido                                                 \n",
              "1 Travessa das Palmeiras, 789, Savassi, Belo Horizonte, 30100-000\n",
              "2 Travessa dos Buritis, 789, Jardim Goiás, Cuiabá, 78000-000     \n",
              "3 Travessa dos Buritis, 789, Jardim Goiás, Cuiabá, 78000-000     \n",
              "4 Travessa dos Coqueiros, 789, Boa Viagem, Recife, 51000-000     "
            ]
          },
          "metadata": {}
        }
      ]
    },
    {
      "cell_type": "markdown",
      "source": [
        "# Criando métricas"
      ],
      "metadata": {
        "id": "QVDbYzZP8BqD"
      }
    },
    {
      "cell_type": "markdown",
      "source": [
        "**Desafio**\n",
        "\n",
        "Adicionar uma nova coluna no dataframe de pedidos, a coluna de benefícios e modificar uma informação na coluna TransportadorID.\n",
        "\n",
        "**Solução**\n",
        "\n",
        "Usar a função mutatedo pacote dplyr."
      ],
      "metadata": {
        "id": "lVXASpV58DP3"
      }
    },
    {
      "cell_type": "markdown",
      "source": [
        "**Criando uma nova coluna de benefícios**"
      ],
      "metadata": {
        "id": "ojx5iu-b93vb"
      }
    },
    {
      "cell_type": "code",
      "source": [
        "pedidos %>%\n",
        "  mutate(\n",
        "  beneficios = ifelse(ValorTotal >= 2000, \"Liberado\", \"Não liberado\")\n",
        "  )"
      ],
      "metadata": {
        "colab": {
          "base_uri": "https://localhost:8080/",
          "height": 1000
        },
        "id": "W587cY_C98oR",
        "outputId": "1681b0b9-9fcc-45ca-9743-3c7140da6879"
      },
      "execution_count": 216,
      "outputs": [
        {
          "output_type": "display_data",
          "data": {
            "text/html": [
              "<table class=\"dataframe\">\n",
              "<caption>A tibble: 220 × 10</caption>\n",
              "<thead>\n",
              "\t<tr><th scope=col>PedidoID</th><th scope=col>ClienteID</th><th scope=col>DataPedido</th><th scope=col>DataEntrega</th><th scope=col>Status</th><th scope=col>ValorTotal</th><th scope=col>TransportadorID</th><th scope=col>Regiao</th><th scope=col>EnderecoPedido</th><th scope=col>beneficios</th></tr>\n",
              "\t<tr><th scope=col>&lt;dbl&gt;</th><th scope=col>&lt;dbl&gt;</th><th scope=col>&lt;dttm&gt;</th><th scope=col>&lt;dttm&gt;</th><th scope=col>&lt;chr&gt;</th><th scope=col>&lt;dbl&gt;</th><th scope=col>&lt;dbl&gt;</th><th scope=col>&lt;chr&gt;</th><th scope=col>&lt;chr&gt;</th><th scope=col>&lt;chr&gt;</th></tr>\n",
              "</thead>\n",
              "<tbody>\n",
              "\t<tr><td>101</td><td>14</td><td>2024-07-01 18:56:18</td><td>2024-07-14 08:00:17</td><td>Entregue   </td><td>1895.15</td><td> 2</td><td>Sudeste     </td><td>Travessa das Palmeiras, 789, Savassi, Belo Horizonte, 30100-000</td><td>Não liberado</td></tr>\n",
              "\t<tr><td>102</td><td>12</td><td>2024-07-02 20:57:26</td><td>2024-07-12 11:46:21</td><td>Entregue   </td><td>2827.16</td><td> 2</td><td>Sudeste     </td><td>Avenida Paulista, 456, Bela Vista, São Paulo, 01300-000        </td><td>Liberado    </td></tr>\n",
              "\t<tr><td>103</td><td> 3</td><td>2024-07-03 17:18:26</td><td>2024-07-22 08:57:49</td><td>Entregue   </td><td>2576.52</td><td> 2</td><td>Norte       </td><td>Rua das Flores, 123, Centro, Manaus, 69000-000                 </td><td>Liberado    </td></tr>\n",
              "\t<tr><td>104</td><td> 7</td><td>2024-07-04 08:11:38</td><td>2024-07-21 05:59:59</td><td>Entregue   </td><td>2820.98</td><td> 2</td><td>Sul         </td><td>Travessa das Hortênsias, 789, Centro, Florianópolis, 88000-000 </td><td>Liberado    </td></tr>\n",
              "\t<tr><td>105</td><td>20</td><td>2024-07-05 10:50:35</td><td>2024-07-19 02:15:03</td><td>Entregue   </td><td>2693.72</td><td> 2</td><td>Sudeste     </td><td>Travessa das Palmeiras, 789, Savassi, Belo Horizonte, 30100-000</td><td>Liberado    </td></tr>\n",
              "\t<tr><td>106</td><td> 9</td><td>2024-07-06 07:01:49</td><td>2024-07-25 14:40:41</td><td>Entregue   </td><td>2405.18</td><td> 2</td><td>Norte       </td><td>Rua das Flores, 123, Centro, Manaus, 69000-000                 </td><td>Liberado    </td></tr>\n",
              "\t<tr><td>107</td><td> 6</td><td>2024-07-07 09:25:10</td><td>2024-07-18 19:46:14</td><td>Entregue   </td><td>1780.62</td><td> 2</td><td>Norte       </td><td>Rua das Flores, 123, Centro, Manaus, 69000-000                 </td><td>Não liberado</td></tr>\n",
              "\t<tr><td>108</td><td>12</td><td>2024-07-08 14:27:11</td><td>2024-07-21 09:06:39</td><td>Entregue   </td><td>2838.51</td><td> 2</td><td>Sul         </td><td>Avenida Farrapos, 456, Floresta, Porto Alegre, 90200-000       </td><td>Liberado    </td></tr>\n",
              "\t<tr><td>109</td><td> 8</td><td>2024-07-09 19:48:20</td><td>2024-07-25 12:14:40</td><td>Entregue   </td><td>1807.53</td><td> 1</td><td>Centro-Oeste</td><td>Travessa dos Buritis, 789, Jardim Goiás, Cuiabá, 78000-000     </td><td>Não liberado</td></tr>\n",
              "\t<tr><td>110</td><td>16</td><td>2024-07-10 23:14:50</td><td>NA</td><td>Em trânsito</td><td>2771.25</td><td> 1</td><td>Sudeste     </td><td>Travessa das Palmeiras, 789, Savassi, Belo Horizonte, 30100-000</td><td>Liberado    </td></tr>\n",
              "\t<tr><td>111</td><td>14</td><td>2024-07-11 16:39:20</td><td>2024-07-24 06:55:39</td><td>Entregue   </td><td>1833.60</td><td> 2</td><td>Sudeste     </td><td>Avenida Paulista, 456, Bela Vista, São Paulo, 01300-000        </td><td>Não liberado</td></tr>\n",
              "\t<tr><td>112</td><td>13</td><td>2024-07-12 13:41:32</td><td>2024-07-29 16:36:39</td><td>Entregue   </td><td>2843.38</td><td> 2</td><td>Nordeste    </td><td>Avenida Atlântica, 456, Meireles, Fortaleza, 60100-000         </td><td>Liberado    </td></tr>\n",
              "\t<tr><td>113</td><td> 3</td><td>2024-07-13 18:40:00</td><td>2024-07-30 13:37:39</td><td>Entregue   </td><td>2444.73</td><td> 1</td><td>Centro-Oeste</td><td>Avenida Brasília, 456, Asa Norte, Brasília, 70000-000          </td><td>Liberado    </td></tr>\n",
              "\t<tr><td>114</td><td> 1</td><td>2024-07-14 15:51:12</td><td>2024-07-28 09:53:29</td><td>Entregue   </td><td>2565.20</td><td> 1</td><td>Centro-Oeste</td><td>Avenida Brasília, 456, Asa Norte, Brasília, 70000-000          </td><td>Liberado    </td></tr>\n",
              "\t<tr><td>115</td><td> 8</td><td>2024-07-15 21:59:37</td><td>2024-07-26 21:38:59</td><td>Entregue   </td><td>2537.74</td><td> 2</td><td>Sul         </td><td>Avenida Farrapos, 456, Floresta, Porto Alegre, 90200-000       </td><td>Liberado    </td></tr>\n",
              "\t<tr><td>116</td><td>19</td><td>2024-07-16 01:45:21</td><td>NA</td><td>Em trânsito</td><td>2719.95</td><td> 2</td><td>Centro-Oeste</td><td>Travessa dos Buritis, 789, Jardim Goiás, Cuiabá, 78000-000     </td><td>Liberado    </td></tr>\n",
              "\t<tr><td>117</td><td>10</td><td>2024-07-17 17:00:16</td><td>NA</td><td>Pendente   </td><td>1906.17</td><td> 1</td><td>Centro-Oeste</td><td>Travessa dos Buritis, 789, Jardim Goiás, Cuiabá, 78000-000     </td><td>Não liberado</td></tr>\n",
              "\t<tr><td>118</td><td>19</td><td>2024-07-18 09:23:13</td><td>2024-08-01 04:25:14</td><td>Entregue   </td><td>2412.58</td><td> 1</td><td>Norte       </td><td>Rua das Flores, 123, Centro, Manaus, 69000-000                 </td><td>Liberado    </td></tr>\n",
              "\t<tr><td>119</td><td> 7</td><td>2024-07-19 11:57:33</td><td>NA</td><td>Pendente   </td><td>2225.66</td><td> 2</td><td>Nordeste    </td><td>Travessa dos Coqueiros, 789, Boa Viagem, Recife, 51000-000     </td><td>Liberado    </td></tr>\n",
              "\t<tr><td>120</td><td> 9</td><td>2024-07-20 11:05:29</td><td>2024-08-01 07:58:55</td><td>Entregue   </td><td>2072.44</td><td> 2</td><td>Sul         </td><td>Travessa das Hortênsias, 789, Centro, Florianópolis, 88000-000 </td><td>Liberado    </td></tr>\n",
              "\t<tr><td>121</td><td>13</td><td>2024-08-01 00:54:48</td><td>2024-08-12 23:19:31</td><td>Entregue   </td><td>2864.81</td><td> 1</td><td>Sul         </td><td>Avenida Farrapos, 456, Floresta, Porto Alegre, 90200-000       </td><td>Liberado    </td></tr>\n",
              "\t<tr><td>122</td><td> 7</td><td>2024-08-02 09:24:29</td><td>2024-08-10 14:46:55</td><td>Entregue   </td><td>1633.88</td><td> 1</td><td>Sudeste     </td><td>Avenida Paulista, 456, Bela Vista, São Paulo, 01300-000        </td><td>Não liberado</td></tr>\n",
              "\t<tr><td>123</td><td>16</td><td>2024-08-03 05:10:29</td><td>2024-08-17 05:43:21</td><td>Entregue   </td><td>1773.82</td><td> 2</td><td>Norte       </td><td>Avenida Amazonas, 456, Aparecida, Belém, 66000-000             </td><td>Não liberado</td></tr>\n",
              "\t<tr><td>124</td><td> 3</td><td>2024-08-04 16:07:43</td><td>2024-08-22 07:17:34</td><td>Entregue   </td><td>2156.37</td><td> 1</td><td>Norte       </td><td>Rua das Flores, 123, Centro, Manaus, 69000-000                 </td><td>Liberado    </td></tr>\n",
              "\t<tr><td>125</td><td> 9</td><td>2024-08-05 12:28:18</td><td>2024-08-25 21:37:49</td><td>Entregue   </td><td>2738.80</td><td> 1</td><td>Sudeste     </td><td>Travessa das Palmeiras, 789, Savassi, Belo Horizonte, 30100-000</td><td>Liberado    </td></tr>\n",
              "\t<tr><td>126</td><td>20</td><td>2024-08-06 05:54:09</td><td>NA</td><td>Em trânsito</td><td>2088.74</td><td>NA</td><td>Sudeste     </td><td>Rua da Praia, 123, Copacabana, Rio de Janeiro, 22000-000       </td><td>Liberado    </td></tr>\n",
              "\t<tr><td>127</td><td>19</td><td>2024-08-07 03:44:54</td><td>2024-08-15 04:54:32</td><td>Entregue   </td><td>2648.28</td><td> 2</td><td>Sul         </td><td>Avenida Farrapos, 456, Floresta, Porto Alegre, 90200-000       </td><td>Liberado    </td></tr>\n",
              "\t<tr><td>128</td><td> 9</td><td>2024-08-08 03:05:42</td><td>2024-08-26 22:09:46</td><td>Entregue   </td><td>2556.64</td><td> 1</td><td>Sul         </td><td>Travessa das Hortênsias, 789, Centro, Florianópolis, 88000-000 </td><td>Liberado    </td></tr>\n",
              "\t<tr><td>129</td><td> 7</td><td>2024-08-09 18:10:57</td><td>2024-08-20 10:09:36</td><td>Entregue   </td><td>2469.90</td><td> 1</td><td>Norte       </td><td>Rua das Flores, 123, Centro, Manaus, 69000-000                 </td><td>Liberado    </td></tr>\n",
              "\t<tr><td>130</td><td>12</td><td>2024-08-10 16:38:53</td><td>2024-08-17 12:13:24</td><td>Entregue   </td><td>2097.04</td><td> 1</td><td>Sudeste     </td><td>Avenida Paulista, 456, Bela Vista, São Paulo, 01300-000        </td><td>Liberado    </td></tr>\n",
              "\t<tr><td>⋮</td><td>⋮</td><td>⋮</td><td>⋮</td><td>⋮</td><td>⋮</td><td>⋮</td><td>⋮</td><td>⋮</td><td>⋮</td></tr>\n",
              "\t<tr><td>291</td><td>13</td><td>2024-10-10 10:15:02</td><td>NA</td><td>Pendente   </td><td>1867.62</td><td> 1</td><td>Sul         </td><td>Rua das Araucárias, 123, Centro, Curitiba, 80000-000            </td><td>Não liberado</td></tr>\n",
              "\t<tr><td>292</td><td> 1</td><td>2024-10-11 14:47:57</td><td>2024-10-24 01:43:16</td><td>Entregue   </td><td>1822.29</td><td> 2</td><td>Sudeste     </td><td>Travessa das Palmeiras, 789, Savassi, Belo Horizonte, 30100-000 </td><td>Não liberado</td></tr>\n",
              "\t<tr><td>293</td><td>19</td><td>2024-10-12 19:10:51</td><td>2024-10-29 03:10:18</td><td>Entregue   </td><td>1587.99</td><td> 1</td><td>Sul         </td><td>Avenida Farrapos, 456, Floresta, Porto Alegre, 90200-000        </td><td>Não liberado</td></tr>\n",
              "\t<tr><td>294</td><td>20</td><td>2024-10-13 03:33:08</td><td>NA</td><td>Em trânsito</td><td>2473.05</td><td> 1</td><td>Sudeste     </td><td>Avenida Paulista, 456, Bela Vista, São Paulo, 01300-000         </td><td>Liberado    </td></tr>\n",
              "\t<tr><td>295</td><td>12</td><td>2024-10-14 23:15:06</td><td>2024-10-26 12:57:07</td><td>Entregue   </td><td>2753.36</td><td> 2</td><td>Sudeste     </td><td>Travessa das Palmeiras, 789, Savassi, Belo Horizonte, 30100-000 </td><td>Liberado    </td></tr>\n",
              "\t<tr><td>296</td><td>19</td><td>2024-10-15 11:59:12</td><td>2024-11-02 07:17:30</td><td>Entregue   </td><td>2617.37</td><td> 2</td><td>Sul         </td><td>Travessa das Hortênsias, 789, Centro, Florianópolis, 88000-000  </td><td>Liberado    </td></tr>\n",
              "\t<tr><td>297</td><td> 7</td><td>2024-10-16 20:11:15</td><td>NA</td><td>Pendente   </td><td>2227.15</td><td> 1</td><td>Sul         </td><td>Avenida Farrapos, 456, Floresta, Porto Alegre, 90200-000        </td><td>Liberado    </td></tr>\n",
              "\t<tr><td>298</td><td>14</td><td>2024-10-17 10:12:49</td><td>NA</td><td>Em trânsito</td><td>1643.75</td><td> 1</td><td>Sudeste     </td><td>Travessa das Palmeiras, 789, Savassi, Belo Horizonte, 30100-000 </td><td>Não liberado</td></tr>\n",
              "\t<tr><td>299</td><td>14</td><td>2024-10-18 20:16:02</td><td>2024-11-06 01:26:04</td><td>Entregue   </td><td>2880.21</td><td> 1</td><td>Norte       </td><td>Rua das Flores, 123, Centro, Manaus, 69000-000                  </td><td>Liberado    </td></tr>\n",
              "\t<tr><td>300</td><td>14</td><td>2024-10-19 16:10:12</td><td>2024-11-08 21:52:52</td><td>Entregue   </td><td>2540.39</td><td> 1</td><td>Sudeste     </td><td>Avenida Paulista, 456, Bela Vista, São Paulo, 01300-000         </td><td>Liberado    </td></tr>\n",
              "\t<tr><td>301</td><td>20</td><td>2024-10-20 19:03:29</td><td>2024-11-04 11:54:35</td><td>Entregue   </td><td>1541.21</td><td> 2</td><td>Sul         </td><td>Rua das Araucárias, 123, Centro, Curitiba, 80000-000            </td><td>Não liberado</td></tr>\n",
              "\t<tr><td>302</td><td>12</td><td>2024-10-21 15:39:44</td><td>NA</td><td>Em trânsito</td><td>2185.62</td><td>NA</td><td>Norte       </td><td>Travessa dos Açaizeiros, 789, Cidade Nova, Rio Branco, 69900-000</td><td>Liberado    </td></tr>\n",
              "\t<tr><td>303</td><td>12</td><td>2024-10-22 13:10:13</td><td>2024-11-03 18:45:06</td><td>Entregue   </td><td>2689.35</td><td> 2</td><td>Sul         </td><td>Avenida Farrapos, 456, Floresta, Porto Alegre, 90200-000        </td><td>Liberado    </td></tr>\n",
              "\t<tr><td>304</td><td> 8</td><td>2024-10-23 00:32:32</td><td>2024-11-10 05:01:20</td><td>Entregue   </td><td>2659.26</td><td> 1</td><td>Sul         </td><td>Avenida Farrapos, 456, Floresta, Porto Alegre, 90200-000        </td><td>Liberado    </td></tr>\n",
              "\t<tr><td>305</td><td> 7</td><td>2024-10-24 20:31:53</td><td>2024-11-11 12:15:56</td><td>Entregue   </td><td>2911.12</td><td> 2</td><td>Sul         </td><td>Avenida Farrapos, 456, Floresta, Porto Alegre, 90200-000        </td><td>Liberado    </td></tr>\n",
              "\t<tr><td>306</td><td>16</td><td>2024-10-25 15:25:41</td><td>2024-11-12 00:55:36</td><td>Entregue   </td><td>1596.62</td><td> 2</td><td>Sul         </td><td>Avenida Farrapos, 456, Floresta, Porto Alegre, 90200-000        </td><td>Não liberado</td></tr>\n",
              "\t<tr><td>307</td><td> 9</td><td>2024-10-26 22:04:42</td><td>2024-11-13 14:42:16</td><td>Entregue   </td><td>2653.44</td><td>NA</td><td>Nordeste    </td><td>Travessa dos Coqueiros, 789, Boa Viagem, Recife, 51000-000      </td><td>Liberado    </td></tr>\n",
              "\t<tr><td>308</td><td> 9</td><td>2024-10-27 04:32:21</td><td>2024-11-06 10:44:29</td><td>Entregue   </td><td>2994.95</td><td>NA</td><td>Sudeste     </td><td>Travessa das Palmeiras, 789, Savassi, Belo Horizonte, 30100-000 </td><td>Liberado    </td></tr>\n",
              "\t<tr><td>309</td><td>13</td><td>2024-10-28 12:48:20</td><td>2024-11-17 03:21:47</td><td>Entregue   </td><td>1735.89</td><td>NA</td><td>Sudeste     </td><td>Avenida Paulista, 456, Bela Vista, São Paulo, 01300-000         </td><td>Não liberado</td></tr>\n",
              "\t<tr><td>310</td><td>20</td><td>2024-10-29 08:09:40</td><td>NA</td><td>Em trânsito</td><td>2656.30</td><td>NA</td><td>Sul         </td><td>Rua das Araucárias, 123, Centro, Curitiba, 80000-000            </td><td>Liberado    </td></tr>\n",
              "\t<tr><td>311</td><td>14</td><td>2024-10-30 13:33:00</td><td>NA</td><td>Em trânsito</td><td>2166.87</td><td>NA</td><td>Centro-Oeste</td><td>Rua das Palmeiras, 123, Setor Oeste, Goiânia, 74000-000         </td><td>Liberado    </td></tr>\n",
              "\t<tr><td>312</td><td>19</td><td>2024-10-31 09:51:17</td><td>2024-11-16 02:57:05</td><td>Entregue   </td><td>2253.37</td><td> 1</td><td>Sul         </td><td>Travessa das Hortênsias, 789, Centro, Florianópolis, 88000-000  </td><td>Liberado    </td></tr>\n",
              "\t<tr><td>313</td><td>13</td><td>2024-11-01 12:25:39</td><td>2024-11-14 07:48:27</td><td>Entregue   </td><td>1906.61</td><td> 2</td><td>Sudeste     </td><td>Travessa das Palmeiras, 789, Savassi, Belo Horizonte, 30100-000 </td><td>Não liberado</td></tr>\n",
              "\t<tr><td>314</td><td>19</td><td>2024-11-02 09:21:15</td><td>2024-11-20 16:37:45</td><td>Entregue   </td><td>1939.13</td><td> 1</td><td>Sul         </td><td>Avenida Farrapos, 456, Floresta, Porto Alegre, 90200-000        </td><td>Não liberado</td></tr>\n",
              "\t<tr><td>315</td><td> 8</td><td>2024-11-03 05:13:00</td><td>2024-11-18 07:45:42</td><td>Entregue   </td><td>1675.29</td><td>NA</td><td>Nordeste    </td><td>Travessa dos Coqueiros, 789, Boa Viagem, Recife, 51000-000      </td><td>Não liberado</td></tr>\n",
              "\t<tr><td>316</td><td>13</td><td>2024-11-04 08:10:17</td><td>2024-11-17 23:50:26</td><td>Entregue   </td><td>1538.44</td><td>NA</td><td>Sudeste     </td><td>Rua da Praia, 123, Copacabana, Rio de Janeiro, 22000-000        </td><td>Não liberado</td></tr>\n",
              "\t<tr><td>317</td><td> 7</td><td>2024-11-05 21:58:57</td><td>2024-11-25 20:36:46</td><td>Entregue   </td><td>2299.57</td><td>NA</td><td>Sudeste     </td><td>Rua da Praia, 123, Copacabana, Rio de Janeiro, 22000-000        </td><td>Liberado    </td></tr>\n",
              "\t<tr><td>318</td><td>12</td><td>2024-11-06 03:46:23</td><td>2024-11-13 06:42:57</td><td>Entregue   </td><td>2338.71</td><td>NA</td><td>Sul         </td><td>Avenida Farrapos, 456, Floresta, Porto Alegre, 90200-000        </td><td>Liberado    </td></tr>\n",
              "\t<tr><td>319</td><td> 1</td><td>2024-11-07 18:46:41</td><td>NA</td><td>Pendente   </td><td>1590.16</td><td> 2</td><td>Sul         </td><td>Travessa das Hortênsias, 789, Centro, Florianópolis, 88000-000  </td><td>Não liberado</td></tr>\n",
              "\t<tr><td>320</td><td>16</td><td>2024-11-08 09:51:12</td><td>2024-11-23 22:53:40</td><td>Entregue   </td><td>2920.97</td><td>NA</td><td>Sudeste     </td><td>Travessa das Palmeiras, 789, Savassi, Belo Horizonte, 30100-000 </td><td>Liberado    </td></tr>\n",
              "</tbody>\n",
              "</table>\n"
            ],
            "text/markdown": "\nA tibble: 220 × 10\n\n| PedidoID &lt;dbl&gt; | ClienteID &lt;dbl&gt; | DataPedido &lt;dttm&gt; | DataEntrega &lt;dttm&gt; | Status &lt;chr&gt; | ValorTotal &lt;dbl&gt; | TransportadorID &lt;dbl&gt; | Regiao &lt;chr&gt; | EnderecoPedido &lt;chr&gt; | beneficios &lt;chr&gt; |\n|---|---|---|---|---|---|---|---|---|---|\n| 101 | 14 | 2024-07-01 18:56:18 | 2024-07-14 08:00:17 | Entregue    | 1895.15 |  2 | Sudeste      | Travessa das Palmeiras, 789, Savassi, Belo Horizonte, 30100-000 | Não liberado |\n| 102 | 12 | 2024-07-02 20:57:26 | 2024-07-12 11:46:21 | Entregue    | 2827.16 |  2 | Sudeste      | Avenida Paulista, 456, Bela Vista, São Paulo, 01300-000         | Liberado     |\n| 103 |  3 | 2024-07-03 17:18:26 | 2024-07-22 08:57:49 | Entregue    | 2576.52 |  2 | Norte        | Rua das Flores, 123, Centro, Manaus, 69000-000                  | Liberado     |\n| 104 |  7 | 2024-07-04 08:11:38 | 2024-07-21 05:59:59 | Entregue    | 2820.98 |  2 | Sul          | Travessa das Hortênsias, 789, Centro, Florianópolis, 88000-000  | Liberado     |\n| 105 | 20 | 2024-07-05 10:50:35 | 2024-07-19 02:15:03 | Entregue    | 2693.72 |  2 | Sudeste      | Travessa das Palmeiras, 789, Savassi, Belo Horizonte, 30100-000 | Liberado     |\n| 106 |  9 | 2024-07-06 07:01:49 | 2024-07-25 14:40:41 | Entregue    | 2405.18 |  2 | Norte        | Rua das Flores, 123, Centro, Manaus, 69000-000                  | Liberado     |\n| 107 |  6 | 2024-07-07 09:25:10 | 2024-07-18 19:46:14 | Entregue    | 1780.62 |  2 | Norte        | Rua das Flores, 123, Centro, Manaus, 69000-000                  | Não liberado |\n| 108 | 12 | 2024-07-08 14:27:11 | 2024-07-21 09:06:39 | Entregue    | 2838.51 |  2 | Sul          | Avenida Farrapos, 456, Floresta, Porto Alegre, 90200-000        | Liberado     |\n| 109 |  8 | 2024-07-09 19:48:20 | 2024-07-25 12:14:40 | Entregue    | 1807.53 |  1 | Centro-Oeste | Travessa dos Buritis, 789, Jardim Goiás, Cuiabá, 78000-000      | Não liberado |\n| 110 | 16 | 2024-07-10 23:14:50 | NA | Em trânsito | 2771.25 |  1 | Sudeste      | Travessa das Palmeiras, 789, Savassi, Belo Horizonte, 30100-000 | Liberado     |\n| 111 | 14 | 2024-07-11 16:39:20 | 2024-07-24 06:55:39 | Entregue    | 1833.60 |  2 | Sudeste      | Avenida Paulista, 456, Bela Vista, São Paulo, 01300-000         | Não liberado |\n| 112 | 13 | 2024-07-12 13:41:32 | 2024-07-29 16:36:39 | Entregue    | 2843.38 |  2 | Nordeste     | Avenida Atlântica, 456, Meireles, Fortaleza, 60100-000          | Liberado     |\n| 113 |  3 | 2024-07-13 18:40:00 | 2024-07-30 13:37:39 | Entregue    | 2444.73 |  1 | Centro-Oeste | Avenida Brasília, 456, Asa Norte, Brasília, 70000-000           | Liberado     |\n| 114 |  1 | 2024-07-14 15:51:12 | 2024-07-28 09:53:29 | Entregue    | 2565.20 |  1 | Centro-Oeste | Avenida Brasília, 456, Asa Norte, Brasília, 70000-000           | Liberado     |\n| 115 |  8 | 2024-07-15 21:59:37 | 2024-07-26 21:38:59 | Entregue    | 2537.74 |  2 | Sul          | Avenida Farrapos, 456, Floresta, Porto Alegre, 90200-000        | Liberado     |\n| 116 | 19 | 2024-07-16 01:45:21 | NA | Em trânsito | 2719.95 |  2 | Centro-Oeste | Travessa dos Buritis, 789, Jardim Goiás, Cuiabá, 78000-000      | Liberado     |\n| 117 | 10 | 2024-07-17 17:00:16 | NA | Pendente    | 1906.17 |  1 | Centro-Oeste | Travessa dos Buritis, 789, Jardim Goiás, Cuiabá, 78000-000      | Não liberado |\n| 118 | 19 | 2024-07-18 09:23:13 | 2024-08-01 04:25:14 | Entregue    | 2412.58 |  1 | Norte        | Rua das Flores, 123, Centro, Manaus, 69000-000                  | Liberado     |\n| 119 |  7 | 2024-07-19 11:57:33 | NA | Pendente    | 2225.66 |  2 | Nordeste     | Travessa dos Coqueiros, 789, Boa Viagem, Recife, 51000-000      | Liberado     |\n| 120 |  9 | 2024-07-20 11:05:29 | 2024-08-01 07:58:55 | Entregue    | 2072.44 |  2 | Sul          | Travessa das Hortênsias, 789, Centro, Florianópolis, 88000-000  | Liberado     |\n| 121 | 13 | 2024-08-01 00:54:48 | 2024-08-12 23:19:31 | Entregue    | 2864.81 |  1 | Sul          | Avenida Farrapos, 456, Floresta, Porto Alegre, 90200-000        | Liberado     |\n| 122 |  7 | 2024-08-02 09:24:29 | 2024-08-10 14:46:55 | Entregue    | 1633.88 |  1 | Sudeste      | Avenida Paulista, 456, Bela Vista, São Paulo, 01300-000         | Não liberado |\n| 123 | 16 | 2024-08-03 05:10:29 | 2024-08-17 05:43:21 | Entregue    | 1773.82 |  2 | Norte        | Avenida Amazonas, 456, Aparecida, Belém, 66000-000              | Não liberado |\n| 124 |  3 | 2024-08-04 16:07:43 | 2024-08-22 07:17:34 | Entregue    | 2156.37 |  1 | Norte        | Rua das Flores, 123, Centro, Manaus, 69000-000                  | Liberado     |\n| 125 |  9 | 2024-08-05 12:28:18 | 2024-08-25 21:37:49 | Entregue    | 2738.80 |  1 | Sudeste      | Travessa das Palmeiras, 789, Savassi, Belo Horizonte, 30100-000 | Liberado     |\n| 126 | 20 | 2024-08-06 05:54:09 | NA | Em trânsito | 2088.74 | NA | Sudeste      | Rua da Praia, 123, Copacabana, Rio de Janeiro, 22000-000        | Liberado     |\n| 127 | 19 | 2024-08-07 03:44:54 | 2024-08-15 04:54:32 | Entregue    | 2648.28 |  2 | Sul          | Avenida Farrapos, 456, Floresta, Porto Alegre, 90200-000        | Liberado     |\n| 128 |  9 | 2024-08-08 03:05:42 | 2024-08-26 22:09:46 | Entregue    | 2556.64 |  1 | Sul          | Travessa das Hortênsias, 789, Centro, Florianópolis, 88000-000  | Liberado     |\n| 129 |  7 | 2024-08-09 18:10:57 | 2024-08-20 10:09:36 | Entregue    | 2469.90 |  1 | Norte        | Rua das Flores, 123, Centro, Manaus, 69000-000                  | Liberado     |\n| 130 | 12 | 2024-08-10 16:38:53 | 2024-08-17 12:13:24 | Entregue    | 2097.04 |  1 | Sudeste      | Avenida Paulista, 456, Bela Vista, São Paulo, 01300-000         | Liberado     |\n| ⋮ | ⋮ | ⋮ | ⋮ | ⋮ | ⋮ | ⋮ | ⋮ | ⋮ | ⋮ |\n| 291 | 13 | 2024-10-10 10:15:02 | NA | Pendente    | 1867.62 |  1 | Sul          | Rua das Araucárias, 123, Centro, Curitiba, 80000-000             | Não liberado |\n| 292 |  1 | 2024-10-11 14:47:57 | 2024-10-24 01:43:16 | Entregue    | 1822.29 |  2 | Sudeste      | Travessa das Palmeiras, 789, Savassi, Belo Horizonte, 30100-000  | Não liberado |\n| 293 | 19 | 2024-10-12 19:10:51 | 2024-10-29 03:10:18 | Entregue    | 1587.99 |  1 | Sul          | Avenida Farrapos, 456, Floresta, Porto Alegre, 90200-000         | Não liberado |\n| 294 | 20 | 2024-10-13 03:33:08 | NA | Em trânsito | 2473.05 |  1 | Sudeste      | Avenida Paulista, 456, Bela Vista, São Paulo, 01300-000          | Liberado     |\n| 295 | 12 | 2024-10-14 23:15:06 | 2024-10-26 12:57:07 | Entregue    | 2753.36 |  2 | Sudeste      | Travessa das Palmeiras, 789, Savassi, Belo Horizonte, 30100-000  | Liberado     |\n| 296 | 19 | 2024-10-15 11:59:12 | 2024-11-02 07:17:30 | Entregue    | 2617.37 |  2 | Sul          | Travessa das Hortênsias, 789, Centro, Florianópolis, 88000-000   | Liberado     |\n| 297 |  7 | 2024-10-16 20:11:15 | NA | Pendente    | 2227.15 |  1 | Sul          | Avenida Farrapos, 456, Floresta, Porto Alegre, 90200-000         | Liberado     |\n| 298 | 14 | 2024-10-17 10:12:49 | NA | Em trânsito | 1643.75 |  1 | Sudeste      | Travessa das Palmeiras, 789, Savassi, Belo Horizonte, 30100-000  | Não liberado |\n| 299 | 14 | 2024-10-18 20:16:02 | 2024-11-06 01:26:04 | Entregue    | 2880.21 |  1 | Norte        | Rua das Flores, 123, Centro, Manaus, 69000-000                   | Liberado     |\n| 300 | 14 | 2024-10-19 16:10:12 | 2024-11-08 21:52:52 | Entregue    | 2540.39 |  1 | Sudeste      | Avenida Paulista, 456, Bela Vista, São Paulo, 01300-000          | Liberado     |\n| 301 | 20 | 2024-10-20 19:03:29 | 2024-11-04 11:54:35 | Entregue    | 1541.21 |  2 | Sul          | Rua das Araucárias, 123, Centro, Curitiba, 80000-000             | Não liberado |\n| 302 | 12 | 2024-10-21 15:39:44 | NA | Em trânsito | 2185.62 | NA | Norte        | Travessa dos Açaizeiros, 789, Cidade Nova, Rio Branco, 69900-000 | Liberado     |\n| 303 | 12 | 2024-10-22 13:10:13 | 2024-11-03 18:45:06 | Entregue    | 2689.35 |  2 | Sul          | Avenida Farrapos, 456, Floresta, Porto Alegre, 90200-000         | Liberado     |\n| 304 |  8 | 2024-10-23 00:32:32 | 2024-11-10 05:01:20 | Entregue    | 2659.26 |  1 | Sul          | Avenida Farrapos, 456, Floresta, Porto Alegre, 90200-000         | Liberado     |\n| 305 |  7 | 2024-10-24 20:31:53 | 2024-11-11 12:15:56 | Entregue    | 2911.12 |  2 | Sul          | Avenida Farrapos, 456, Floresta, Porto Alegre, 90200-000         | Liberado     |\n| 306 | 16 | 2024-10-25 15:25:41 | 2024-11-12 00:55:36 | Entregue    | 1596.62 |  2 | Sul          | Avenida Farrapos, 456, Floresta, Porto Alegre, 90200-000         | Não liberado |\n| 307 |  9 | 2024-10-26 22:04:42 | 2024-11-13 14:42:16 | Entregue    | 2653.44 | NA | Nordeste     | Travessa dos Coqueiros, 789, Boa Viagem, Recife, 51000-000       | Liberado     |\n| 308 |  9 | 2024-10-27 04:32:21 | 2024-11-06 10:44:29 | Entregue    | 2994.95 | NA | Sudeste      | Travessa das Palmeiras, 789, Savassi, Belo Horizonte, 30100-000  | Liberado     |\n| 309 | 13 | 2024-10-28 12:48:20 | 2024-11-17 03:21:47 | Entregue    | 1735.89 | NA | Sudeste      | Avenida Paulista, 456, Bela Vista, São Paulo, 01300-000          | Não liberado |\n| 310 | 20 | 2024-10-29 08:09:40 | NA | Em trânsito | 2656.30 | NA | Sul          | Rua das Araucárias, 123, Centro, Curitiba, 80000-000             | Liberado     |\n| 311 | 14 | 2024-10-30 13:33:00 | NA | Em trânsito | 2166.87 | NA | Centro-Oeste | Rua das Palmeiras, 123, Setor Oeste, Goiânia, 74000-000          | Liberado     |\n| 312 | 19 | 2024-10-31 09:51:17 | 2024-11-16 02:57:05 | Entregue    | 2253.37 |  1 | Sul          | Travessa das Hortênsias, 789, Centro, Florianópolis, 88000-000   | Liberado     |\n| 313 | 13 | 2024-11-01 12:25:39 | 2024-11-14 07:48:27 | Entregue    | 1906.61 |  2 | Sudeste      | Travessa das Palmeiras, 789, Savassi, Belo Horizonte, 30100-000  | Não liberado |\n| 314 | 19 | 2024-11-02 09:21:15 | 2024-11-20 16:37:45 | Entregue    | 1939.13 |  1 | Sul          | Avenida Farrapos, 456, Floresta, Porto Alegre, 90200-000         | Não liberado |\n| 315 |  8 | 2024-11-03 05:13:00 | 2024-11-18 07:45:42 | Entregue    | 1675.29 | NA | Nordeste     | Travessa dos Coqueiros, 789, Boa Viagem, Recife, 51000-000       | Não liberado |\n| 316 | 13 | 2024-11-04 08:10:17 | 2024-11-17 23:50:26 | Entregue    | 1538.44 | NA | Sudeste      | Rua da Praia, 123, Copacabana, Rio de Janeiro, 22000-000         | Não liberado |\n| 317 |  7 | 2024-11-05 21:58:57 | 2024-11-25 20:36:46 | Entregue    | 2299.57 | NA | Sudeste      | Rua da Praia, 123, Copacabana, Rio de Janeiro, 22000-000         | Liberado     |\n| 318 | 12 | 2024-11-06 03:46:23 | 2024-11-13 06:42:57 | Entregue    | 2338.71 | NA | Sul          | Avenida Farrapos, 456, Floresta, Porto Alegre, 90200-000         | Liberado     |\n| 319 |  1 | 2024-11-07 18:46:41 | NA | Pendente    | 1590.16 |  2 | Sul          | Travessa das Hortênsias, 789, Centro, Florianópolis, 88000-000   | Não liberado |\n| 320 | 16 | 2024-11-08 09:51:12 | 2024-11-23 22:53:40 | Entregue    | 2920.97 | NA | Sudeste      | Travessa das Palmeiras, 789, Savassi, Belo Horizonte, 30100-000  | Liberado     |\n\n",
            "text/latex": "A tibble: 220 × 10\n\\begin{tabular}{llllllllll}\n PedidoID & ClienteID & DataPedido & DataEntrega & Status & ValorTotal & TransportadorID & Regiao & EnderecoPedido & beneficios\\\\\n <dbl> & <dbl> & <dttm> & <dttm> & <chr> & <dbl> & <dbl> & <chr> & <chr> & <chr>\\\\\n\\hline\n\t 101 & 14 & 2024-07-01 18:56:18 & 2024-07-14 08:00:17 & Entregue    & 1895.15 &  2 & Sudeste      & Travessa das Palmeiras, 789, Savassi, Belo Horizonte, 30100-000 & Não liberado\\\\\n\t 102 & 12 & 2024-07-02 20:57:26 & 2024-07-12 11:46:21 & Entregue    & 2827.16 &  2 & Sudeste      & Avenida Paulista, 456, Bela Vista, São Paulo, 01300-000         & Liberado    \\\\\n\t 103 &  3 & 2024-07-03 17:18:26 & 2024-07-22 08:57:49 & Entregue    & 2576.52 &  2 & Norte        & Rua das Flores, 123, Centro, Manaus, 69000-000                  & Liberado    \\\\\n\t 104 &  7 & 2024-07-04 08:11:38 & 2024-07-21 05:59:59 & Entregue    & 2820.98 &  2 & Sul          & Travessa das Hortênsias, 789, Centro, Florianópolis, 88000-000  & Liberado    \\\\\n\t 105 & 20 & 2024-07-05 10:50:35 & 2024-07-19 02:15:03 & Entregue    & 2693.72 &  2 & Sudeste      & Travessa das Palmeiras, 789, Savassi, Belo Horizonte, 30100-000 & Liberado    \\\\\n\t 106 &  9 & 2024-07-06 07:01:49 & 2024-07-25 14:40:41 & Entregue    & 2405.18 &  2 & Norte        & Rua das Flores, 123, Centro, Manaus, 69000-000                  & Liberado    \\\\\n\t 107 &  6 & 2024-07-07 09:25:10 & 2024-07-18 19:46:14 & Entregue    & 1780.62 &  2 & Norte        & Rua das Flores, 123, Centro, Manaus, 69000-000                  & Não liberado\\\\\n\t 108 & 12 & 2024-07-08 14:27:11 & 2024-07-21 09:06:39 & Entregue    & 2838.51 &  2 & Sul          & Avenida Farrapos, 456, Floresta, Porto Alegre, 90200-000        & Liberado    \\\\\n\t 109 &  8 & 2024-07-09 19:48:20 & 2024-07-25 12:14:40 & Entregue    & 1807.53 &  1 & Centro-Oeste & Travessa dos Buritis, 789, Jardim Goiás, Cuiabá, 78000-000      & Não liberado\\\\\n\t 110 & 16 & 2024-07-10 23:14:50 & NA & Em trânsito & 2771.25 &  1 & Sudeste      & Travessa das Palmeiras, 789, Savassi, Belo Horizonte, 30100-000 & Liberado    \\\\\n\t 111 & 14 & 2024-07-11 16:39:20 & 2024-07-24 06:55:39 & Entregue    & 1833.60 &  2 & Sudeste      & Avenida Paulista, 456, Bela Vista, São Paulo, 01300-000         & Não liberado\\\\\n\t 112 & 13 & 2024-07-12 13:41:32 & 2024-07-29 16:36:39 & Entregue    & 2843.38 &  2 & Nordeste     & Avenida Atlântica, 456, Meireles, Fortaleza, 60100-000          & Liberado    \\\\\n\t 113 &  3 & 2024-07-13 18:40:00 & 2024-07-30 13:37:39 & Entregue    & 2444.73 &  1 & Centro-Oeste & Avenida Brasília, 456, Asa Norte, Brasília, 70000-000           & Liberado    \\\\\n\t 114 &  1 & 2024-07-14 15:51:12 & 2024-07-28 09:53:29 & Entregue    & 2565.20 &  1 & Centro-Oeste & Avenida Brasília, 456, Asa Norte, Brasília, 70000-000           & Liberado    \\\\\n\t 115 &  8 & 2024-07-15 21:59:37 & 2024-07-26 21:38:59 & Entregue    & 2537.74 &  2 & Sul          & Avenida Farrapos, 456, Floresta, Porto Alegre, 90200-000        & Liberado    \\\\\n\t 116 & 19 & 2024-07-16 01:45:21 & NA & Em trânsito & 2719.95 &  2 & Centro-Oeste & Travessa dos Buritis, 789, Jardim Goiás, Cuiabá, 78000-000      & Liberado    \\\\\n\t 117 & 10 & 2024-07-17 17:00:16 & NA & Pendente    & 1906.17 &  1 & Centro-Oeste & Travessa dos Buritis, 789, Jardim Goiás, Cuiabá, 78000-000      & Não liberado\\\\\n\t 118 & 19 & 2024-07-18 09:23:13 & 2024-08-01 04:25:14 & Entregue    & 2412.58 &  1 & Norte        & Rua das Flores, 123, Centro, Manaus, 69000-000                  & Liberado    \\\\\n\t 119 &  7 & 2024-07-19 11:57:33 & NA & Pendente    & 2225.66 &  2 & Nordeste     & Travessa dos Coqueiros, 789, Boa Viagem, Recife, 51000-000      & Liberado    \\\\\n\t 120 &  9 & 2024-07-20 11:05:29 & 2024-08-01 07:58:55 & Entregue    & 2072.44 &  2 & Sul          & Travessa das Hortênsias, 789, Centro, Florianópolis, 88000-000  & Liberado    \\\\\n\t 121 & 13 & 2024-08-01 00:54:48 & 2024-08-12 23:19:31 & Entregue    & 2864.81 &  1 & Sul          & Avenida Farrapos, 456, Floresta, Porto Alegre, 90200-000        & Liberado    \\\\\n\t 122 &  7 & 2024-08-02 09:24:29 & 2024-08-10 14:46:55 & Entregue    & 1633.88 &  1 & Sudeste      & Avenida Paulista, 456, Bela Vista, São Paulo, 01300-000         & Não liberado\\\\\n\t 123 & 16 & 2024-08-03 05:10:29 & 2024-08-17 05:43:21 & Entregue    & 1773.82 &  2 & Norte        & Avenida Amazonas, 456, Aparecida, Belém, 66000-000              & Não liberado\\\\\n\t 124 &  3 & 2024-08-04 16:07:43 & 2024-08-22 07:17:34 & Entregue    & 2156.37 &  1 & Norte        & Rua das Flores, 123, Centro, Manaus, 69000-000                  & Liberado    \\\\\n\t 125 &  9 & 2024-08-05 12:28:18 & 2024-08-25 21:37:49 & Entregue    & 2738.80 &  1 & Sudeste      & Travessa das Palmeiras, 789, Savassi, Belo Horizonte, 30100-000 & Liberado    \\\\\n\t 126 & 20 & 2024-08-06 05:54:09 & NA & Em trânsito & 2088.74 & NA & Sudeste      & Rua da Praia, 123, Copacabana, Rio de Janeiro, 22000-000        & Liberado    \\\\\n\t 127 & 19 & 2024-08-07 03:44:54 & 2024-08-15 04:54:32 & Entregue    & 2648.28 &  2 & Sul          & Avenida Farrapos, 456, Floresta, Porto Alegre, 90200-000        & Liberado    \\\\\n\t 128 &  9 & 2024-08-08 03:05:42 & 2024-08-26 22:09:46 & Entregue    & 2556.64 &  1 & Sul          & Travessa das Hortênsias, 789, Centro, Florianópolis, 88000-000  & Liberado    \\\\\n\t 129 &  7 & 2024-08-09 18:10:57 & 2024-08-20 10:09:36 & Entregue    & 2469.90 &  1 & Norte        & Rua das Flores, 123, Centro, Manaus, 69000-000                  & Liberado    \\\\\n\t 130 & 12 & 2024-08-10 16:38:53 & 2024-08-17 12:13:24 & Entregue    & 2097.04 &  1 & Sudeste      & Avenida Paulista, 456, Bela Vista, São Paulo, 01300-000         & Liberado    \\\\\n\t ⋮ & ⋮ & ⋮ & ⋮ & ⋮ & ⋮ & ⋮ & ⋮ & ⋮ & ⋮\\\\\n\t 291 & 13 & 2024-10-10 10:15:02 & NA & Pendente    & 1867.62 &  1 & Sul          & Rua das Araucárias, 123, Centro, Curitiba, 80000-000             & Não liberado\\\\\n\t 292 &  1 & 2024-10-11 14:47:57 & 2024-10-24 01:43:16 & Entregue    & 1822.29 &  2 & Sudeste      & Travessa das Palmeiras, 789, Savassi, Belo Horizonte, 30100-000  & Não liberado\\\\\n\t 293 & 19 & 2024-10-12 19:10:51 & 2024-10-29 03:10:18 & Entregue    & 1587.99 &  1 & Sul          & Avenida Farrapos, 456, Floresta, Porto Alegre, 90200-000         & Não liberado\\\\\n\t 294 & 20 & 2024-10-13 03:33:08 & NA & Em trânsito & 2473.05 &  1 & Sudeste      & Avenida Paulista, 456, Bela Vista, São Paulo, 01300-000          & Liberado    \\\\\n\t 295 & 12 & 2024-10-14 23:15:06 & 2024-10-26 12:57:07 & Entregue    & 2753.36 &  2 & Sudeste      & Travessa das Palmeiras, 789, Savassi, Belo Horizonte, 30100-000  & Liberado    \\\\\n\t 296 & 19 & 2024-10-15 11:59:12 & 2024-11-02 07:17:30 & Entregue    & 2617.37 &  2 & Sul          & Travessa das Hortênsias, 789, Centro, Florianópolis, 88000-000   & Liberado    \\\\\n\t 297 &  7 & 2024-10-16 20:11:15 & NA & Pendente    & 2227.15 &  1 & Sul          & Avenida Farrapos, 456, Floresta, Porto Alegre, 90200-000         & Liberado    \\\\\n\t 298 & 14 & 2024-10-17 10:12:49 & NA & Em trânsito & 1643.75 &  1 & Sudeste      & Travessa das Palmeiras, 789, Savassi, Belo Horizonte, 30100-000  & Não liberado\\\\\n\t 299 & 14 & 2024-10-18 20:16:02 & 2024-11-06 01:26:04 & Entregue    & 2880.21 &  1 & Norte        & Rua das Flores, 123, Centro, Manaus, 69000-000                   & Liberado    \\\\\n\t 300 & 14 & 2024-10-19 16:10:12 & 2024-11-08 21:52:52 & Entregue    & 2540.39 &  1 & Sudeste      & Avenida Paulista, 456, Bela Vista, São Paulo, 01300-000          & Liberado    \\\\\n\t 301 & 20 & 2024-10-20 19:03:29 & 2024-11-04 11:54:35 & Entregue    & 1541.21 &  2 & Sul          & Rua das Araucárias, 123, Centro, Curitiba, 80000-000             & Não liberado\\\\\n\t 302 & 12 & 2024-10-21 15:39:44 & NA & Em trânsito & 2185.62 & NA & Norte        & Travessa dos Açaizeiros, 789, Cidade Nova, Rio Branco, 69900-000 & Liberado    \\\\\n\t 303 & 12 & 2024-10-22 13:10:13 & 2024-11-03 18:45:06 & Entregue    & 2689.35 &  2 & Sul          & Avenida Farrapos, 456, Floresta, Porto Alegre, 90200-000         & Liberado    \\\\\n\t 304 &  8 & 2024-10-23 00:32:32 & 2024-11-10 05:01:20 & Entregue    & 2659.26 &  1 & Sul          & Avenida Farrapos, 456, Floresta, Porto Alegre, 90200-000         & Liberado    \\\\\n\t 305 &  7 & 2024-10-24 20:31:53 & 2024-11-11 12:15:56 & Entregue    & 2911.12 &  2 & Sul          & Avenida Farrapos, 456, Floresta, Porto Alegre, 90200-000         & Liberado    \\\\\n\t 306 & 16 & 2024-10-25 15:25:41 & 2024-11-12 00:55:36 & Entregue    & 1596.62 &  2 & Sul          & Avenida Farrapos, 456, Floresta, Porto Alegre, 90200-000         & Não liberado\\\\\n\t 307 &  9 & 2024-10-26 22:04:42 & 2024-11-13 14:42:16 & Entregue    & 2653.44 & NA & Nordeste     & Travessa dos Coqueiros, 789, Boa Viagem, Recife, 51000-000       & Liberado    \\\\\n\t 308 &  9 & 2024-10-27 04:32:21 & 2024-11-06 10:44:29 & Entregue    & 2994.95 & NA & Sudeste      & Travessa das Palmeiras, 789, Savassi, Belo Horizonte, 30100-000  & Liberado    \\\\\n\t 309 & 13 & 2024-10-28 12:48:20 & 2024-11-17 03:21:47 & Entregue    & 1735.89 & NA & Sudeste      & Avenida Paulista, 456, Bela Vista, São Paulo, 01300-000          & Não liberado\\\\\n\t 310 & 20 & 2024-10-29 08:09:40 & NA & Em trânsito & 2656.30 & NA & Sul          & Rua das Araucárias, 123, Centro, Curitiba, 80000-000             & Liberado    \\\\\n\t 311 & 14 & 2024-10-30 13:33:00 & NA & Em trânsito & 2166.87 & NA & Centro-Oeste & Rua das Palmeiras, 123, Setor Oeste, Goiânia, 74000-000          & Liberado    \\\\\n\t 312 & 19 & 2024-10-31 09:51:17 & 2024-11-16 02:57:05 & Entregue    & 2253.37 &  1 & Sul          & Travessa das Hortênsias, 789, Centro, Florianópolis, 88000-000   & Liberado    \\\\\n\t 313 & 13 & 2024-11-01 12:25:39 & 2024-11-14 07:48:27 & Entregue    & 1906.61 &  2 & Sudeste      & Travessa das Palmeiras, 789, Savassi, Belo Horizonte, 30100-000  & Não liberado\\\\\n\t 314 & 19 & 2024-11-02 09:21:15 & 2024-11-20 16:37:45 & Entregue    & 1939.13 &  1 & Sul          & Avenida Farrapos, 456, Floresta, Porto Alegre, 90200-000         & Não liberado\\\\\n\t 315 &  8 & 2024-11-03 05:13:00 & 2024-11-18 07:45:42 & Entregue    & 1675.29 & NA & Nordeste     & Travessa dos Coqueiros, 789, Boa Viagem, Recife, 51000-000       & Não liberado\\\\\n\t 316 & 13 & 2024-11-04 08:10:17 & 2024-11-17 23:50:26 & Entregue    & 1538.44 & NA & Sudeste      & Rua da Praia, 123, Copacabana, Rio de Janeiro, 22000-000         & Não liberado\\\\\n\t 317 &  7 & 2024-11-05 21:58:57 & 2024-11-25 20:36:46 & Entregue    & 2299.57 & NA & Sudeste      & Rua da Praia, 123, Copacabana, Rio de Janeiro, 22000-000         & Liberado    \\\\\n\t 318 & 12 & 2024-11-06 03:46:23 & 2024-11-13 06:42:57 & Entregue    & 2338.71 & NA & Sul          & Avenida Farrapos, 456, Floresta, Porto Alegre, 90200-000         & Liberado    \\\\\n\t 319 &  1 & 2024-11-07 18:46:41 & NA & Pendente    & 1590.16 &  2 & Sul          & Travessa das Hortênsias, 789, Centro, Florianópolis, 88000-000   & Não liberado\\\\\n\t 320 & 16 & 2024-11-08 09:51:12 & 2024-11-23 22:53:40 & Entregue    & 2920.97 & NA & Sudeste      & Travessa das Palmeiras, 789, Savassi, Belo Horizonte, 30100-000  & Liberado    \\\\\n\\end{tabular}\n",
            "text/plain": [
              "    PedidoID ClienteID DataPedido          DataEntrega         Status     \n",
              "1   101      14        2024-07-01 18:56:18 2024-07-14 08:00:17 Entregue   \n",
              "2   102      12        2024-07-02 20:57:26 2024-07-12 11:46:21 Entregue   \n",
              "3   103       3        2024-07-03 17:18:26 2024-07-22 08:57:49 Entregue   \n",
              "4   104       7        2024-07-04 08:11:38 2024-07-21 05:59:59 Entregue   \n",
              "5   105      20        2024-07-05 10:50:35 2024-07-19 02:15:03 Entregue   \n",
              "6   106       9        2024-07-06 07:01:49 2024-07-25 14:40:41 Entregue   \n",
              "7   107       6        2024-07-07 09:25:10 2024-07-18 19:46:14 Entregue   \n",
              "8   108      12        2024-07-08 14:27:11 2024-07-21 09:06:39 Entregue   \n",
              "9   109       8        2024-07-09 19:48:20 2024-07-25 12:14:40 Entregue   \n",
              "10  110      16        2024-07-10 23:14:50 <NA>                Em trânsito\n",
              "11  111      14        2024-07-11 16:39:20 2024-07-24 06:55:39 Entregue   \n",
              "12  112      13        2024-07-12 13:41:32 2024-07-29 16:36:39 Entregue   \n",
              "13  113       3        2024-07-13 18:40:00 2024-07-30 13:37:39 Entregue   \n",
              "14  114       1        2024-07-14 15:51:12 2024-07-28 09:53:29 Entregue   \n",
              "15  115       8        2024-07-15 21:59:37 2024-07-26 21:38:59 Entregue   \n",
              "16  116      19        2024-07-16 01:45:21 <NA>                Em trânsito\n",
              "17  117      10        2024-07-17 17:00:16 <NA>                Pendente   \n",
              "18  118      19        2024-07-18 09:23:13 2024-08-01 04:25:14 Entregue   \n",
              "19  119       7        2024-07-19 11:57:33 <NA>                Pendente   \n",
              "20  120       9        2024-07-20 11:05:29 2024-08-01 07:58:55 Entregue   \n",
              "21  121      13        2024-08-01 00:54:48 2024-08-12 23:19:31 Entregue   \n",
              "22  122       7        2024-08-02 09:24:29 2024-08-10 14:46:55 Entregue   \n",
              "23  123      16        2024-08-03 05:10:29 2024-08-17 05:43:21 Entregue   \n",
              "24  124       3        2024-08-04 16:07:43 2024-08-22 07:17:34 Entregue   \n",
              "25  125       9        2024-08-05 12:28:18 2024-08-25 21:37:49 Entregue   \n",
              "26  126      20        2024-08-06 05:54:09 <NA>                Em trânsito\n",
              "27  127      19        2024-08-07 03:44:54 2024-08-15 04:54:32 Entregue   \n",
              "28  128       9        2024-08-08 03:05:42 2024-08-26 22:09:46 Entregue   \n",
              "29  129       7        2024-08-09 18:10:57 2024-08-20 10:09:36 Entregue   \n",
              "30  130      12        2024-08-10 16:38:53 2024-08-17 12:13:24 Entregue   \n",
              "⋮   ⋮        ⋮         ⋮                   ⋮                   ⋮          \n",
              "191 291      13        2024-10-10 10:15:02 <NA>                Pendente   \n",
              "192 292       1        2024-10-11 14:47:57 2024-10-24 01:43:16 Entregue   \n",
              "193 293      19        2024-10-12 19:10:51 2024-10-29 03:10:18 Entregue   \n",
              "194 294      20        2024-10-13 03:33:08 <NA>                Em trânsito\n",
              "195 295      12        2024-10-14 23:15:06 2024-10-26 12:57:07 Entregue   \n",
              "196 296      19        2024-10-15 11:59:12 2024-11-02 07:17:30 Entregue   \n",
              "197 297       7        2024-10-16 20:11:15 <NA>                Pendente   \n",
              "198 298      14        2024-10-17 10:12:49 <NA>                Em trânsito\n",
              "199 299      14        2024-10-18 20:16:02 2024-11-06 01:26:04 Entregue   \n",
              "200 300      14        2024-10-19 16:10:12 2024-11-08 21:52:52 Entregue   \n",
              "201 301      20        2024-10-20 19:03:29 2024-11-04 11:54:35 Entregue   \n",
              "202 302      12        2024-10-21 15:39:44 <NA>                Em trânsito\n",
              "203 303      12        2024-10-22 13:10:13 2024-11-03 18:45:06 Entregue   \n",
              "204 304       8        2024-10-23 00:32:32 2024-11-10 05:01:20 Entregue   \n",
              "205 305       7        2024-10-24 20:31:53 2024-11-11 12:15:56 Entregue   \n",
              "206 306      16        2024-10-25 15:25:41 2024-11-12 00:55:36 Entregue   \n",
              "207 307       9        2024-10-26 22:04:42 2024-11-13 14:42:16 Entregue   \n",
              "208 308       9        2024-10-27 04:32:21 2024-11-06 10:44:29 Entregue   \n",
              "209 309      13        2024-10-28 12:48:20 2024-11-17 03:21:47 Entregue   \n",
              "210 310      20        2024-10-29 08:09:40 <NA>                Em trânsito\n",
              "211 311      14        2024-10-30 13:33:00 <NA>                Em trânsito\n",
              "212 312      19        2024-10-31 09:51:17 2024-11-16 02:57:05 Entregue   \n",
              "213 313      13        2024-11-01 12:25:39 2024-11-14 07:48:27 Entregue   \n",
              "214 314      19        2024-11-02 09:21:15 2024-11-20 16:37:45 Entregue   \n",
              "215 315       8        2024-11-03 05:13:00 2024-11-18 07:45:42 Entregue   \n",
              "216 316      13        2024-11-04 08:10:17 2024-11-17 23:50:26 Entregue   \n",
              "217 317       7        2024-11-05 21:58:57 2024-11-25 20:36:46 Entregue   \n",
              "218 318      12        2024-11-06 03:46:23 2024-11-13 06:42:57 Entregue   \n",
              "219 319       1        2024-11-07 18:46:41 <NA>                Pendente   \n",
              "220 320      16        2024-11-08 09:51:12 2024-11-23 22:53:40 Entregue   \n",
              "    ValorTotal TransportadorID Regiao      \n",
              "1   1895.15     2              Sudeste     \n",
              "2   2827.16     2              Sudeste     \n",
              "3   2576.52     2              Norte       \n",
              "4   2820.98     2              Sul         \n",
              "5   2693.72     2              Sudeste     \n",
              "6   2405.18     2              Norte       \n",
              "7   1780.62     2              Norte       \n",
              "8   2838.51     2              Sul         \n",
              "9   1807.53     1              Centro-Oeste\n",
              "10  2771.25     1              Sudeste     \n",
              "11  1833.60     2              Sudeste     \n",
              "12  2843.38     2              Nordeste    \n",
              "13  2444.73     1              Centro-Oeste\n",
              "14  2565.20     1              Centro-Oeste\n",
              "15  2537.74     2              Sul         \n",
              "16  2719.95     2              Centro-Oeste\n",
              "17  1906.17     1              Centro-Oeste\n",
              "18  2412.58     1              Norte       \n",
              "19  2225.66     2              Nordeste    \n",
              "20  2072.44     2              Sul         \n",
              "21  2864.81     1              Sul         \n",
              "22  1633.88     1              Sudeste     \n",
              "23  1773.82     2              Norte       \n",
              "24  2156.37     1              Norte       \n",
              "25  2738.80     1              Sudeste     \n",
              "26  2088.74    NA              Sudeste     \n",
              "27  2648.28     2              Sul         \n",
              "28  2556.64     1              Sul         \n",
              "29  2469.90     1              Norte       \n",
              "30  2097.04     1              Sudeste     \n",
              "⋮   ⋮          ⋮               ⋮           \n",
              "191 1867.62     1              Sul         \n",
              "192 1822.29     2              Sudeste     \n",
              "193 1587.99     1              Sul         \n",
              "194 2473.05     1              Sudeste     \n",
              "195 2753.36     2              Sudeste     \n",
              "196 2617.37     2              Sul         \n",
              "197 2227.15     1              Sul         \n",
              "198 1643.75     1              Sudeste     \n",
              "199 2880.21     1              Norte       \n",
              "200 2540.39     1              Sudeste     \n",
              "201 1541.21     2              Sul         \n",
              "202 2185.62    NA              Norte       \n",
              "203 2689.35     2              Sul         \n",
              "204 2659.26     1              Sul         \n",
              "205 2911.12     2              Sul         \n",
              "206 1596.62     2              Sul         \n",
              "207 2653.44    NA              Nordeste    \n",
              "208 2994.95    NA              Sudeste     \n",
              "209 1735.89    NA              Sudeste     \n",
              "210 2656.30    NA              Sul         \n",
              "211 2166.87    NA              Centro-Oeste\n",
              "212 2253.37     1              Sul         \n",
              "213 1906.61     2              Sudeste     \n",
              "214 1939.13     1              Sul         \n",
              "215 1675.29    NA              Nordeste    \n",
              "216 1538.44    NA              Sudeste     \n",
              "217 2299.57    NA              Sudeste     \n",
              "218 2338.71    NA              Sul         \n",
              "219 1590.16     2              Sul         \n",
              "220 2920.97    NA              Sudeste     \n",
              "    EnderecoPedido                                                  \n",
              "1   Travessa das Palmeiras, 789, Savassi, Belo Horizonte, 30100-000 \n",
              "2   Avenida Paulista, 456, Bela Vista, São Paulo, 01300-000         \n",
              "3   Rua das Flores, 123, Centro, Manaus, 69000-000                  \n",
              "4   Travessa das Hortênsias, 789, Centro, Florianópolis, 88000-000  \n",
              "5   Travessa das Palmeiras, 789, Savassi, Belo Horizonte, 30100-000 \n",
              "6   Rua das Flores, 123, Centro, Manaus, 69000-000                  \n",
              "7   Rua das Flores, 123, Centro, Manaus, 69000-000                  \n",
              "8   Avenida Farrapos, 456, Floresta, Porto Alegre, 90200-000        \n",
              "9   Travessa dos Buritis, 789, Jardim Goiás, Cuiabá, 78000-000      \n",
              "10  Travessa das Palmeiras, 789, Savassi, Belo Horizonte, 30100-000 \n",
              "11  Avenida Paulista, 456, Bela Vista, São Paulo, 01300-000         \n",
              "12  Avenida Atlântica, 456, Meireles, Fortaleza, 60100-000          \n",
              "13  Avenida Brasília, 456, Asa Norte, Brasília, 70000-000           \n",
              "14  Avenida Brasília, 456, Asa Norte, Brasília, 70000-000           \n",
              "15  Avenida Farrapos, 456, Floresta, Porto Alegre, 90200-000        \n",
              "16  Travessa dos Buritis, 789, Jardim Goiás, Cuiabá, 78000-000      \n",
              "17  Travessa dos Buritis, 789, Jardim Goiás, Cuiabá, 78000-000      \n",
              "18  Rua das Flores, 123, Centro, Manaus, 69000-000                  \n",
              "19  Travessa dos Coqueiros, 789, Boa Viagem, Recife, 51000-000      \n",
              "20  Travessa das Hortênsias, 789, Centro, Florianópolis, 88000-000  \n",
              "21  Avenida Farrapos, 456, Floresta, Porto Alegre, 90200-000        \n",
              "22  Avenida Paulista, 456, Bela Vista, São Paulo, 01300-000         \n",
              "23  Avenida Amazonas, 456, Aparecida, Belém, 66000-000              \n",
              "24  Rua das Flores, 123, Centro, Manaus, 69000-000                  \n",
              "25  Travessa das Palmeiras, 789, Savassi, Belo Horizonte, 30100-000 \n",
              "26  Rua da Praia, 123, Copacabana, Rio de Janeiro, 22000-000        \n",
              "27  Avenida Farrapos, 456, Floresta, Porto Alegre, 90200-000        \n",
              "28  Travessa das Hortênsias, 789, Centro, Florianópolis, 88000-000  \n",
              "29  Rua das Flores, 123, Centro, Manaus, 69000-000                  \n",
              "30  Avenida Paulista, 456, Bela Vista, São Paulo, 01300-000         \n",
              "⋮   ⋮                                                               \n",
              "191 Rua das Araucárias, 123, Centro, Curitiba, 80000-000            \n",
              "192 Travessa das Palmeiras, 789, Savassi, Belo Horizonte, 30100-000 \n",
              "193 Avenida Farrapos, 456, Floresta, Porto Alegre, 90200-000        \n",
              "194 Avenida Paulista, 456, Bela Vista, São Paulo, 01300-000         \n",
              "195 Travessa das Palmeiras, 789, Savassi, Belo Horizonte, 30100-000 \n",
              "196 Travessa das Hortênsias, 789, Centro, Florianópolis, 88000-000  \n",
              "197 Avenida Farrapos, 456, Floresta, Porto Alegre, 90200-000        \n",
              "198 Travessa das Palmeiras, 789, Savassi, Belo Horizonte, 30100-000 \n",
              "199 Rua das Flores, 123, Centro, Manaus, 69000-000                  \n",
              "200 Avenida Paulista, 456, Bela Vista, São Paulo, 01300-000         \n",
              "201 Rua das Araucárias, 123, Centro, Curitiba, 80000-000            \n",
              "202 Travessa dos Açaizeiros, 789, Cidade Nova, Rio Branco, 69900-000\n",
              "203 Avenida Farrapos, 456, Floresta, Porto Alegre, 90200-000        \n",
              "204 Avenida Farrapos, 456, Floresta, Porto Alegre, 90200-000        \n",
              "205 Avenida Farrapos, 456, Floresta, Porto Alegre, 90200-000        \n",
              "206 Avenida Farrapos, 456, Floresta, Porto Alegre, 90200-000        \n",
              "207 Travessa dos Coqueiros, 789, Boa Viagem, Recife, 51000-000      \n",
              "208 Travessa das Palmeiras, 789, Savassi, Belo Horizonte, 30100-000 \n",
              "209 Avenida Paulista, 456, Bela Vista, São Paulo, 01300-000         \n",
              "210 Rua das Araucárias, 123, Centro, Curitiba, 80000-000            \n",
              "211 Rua das Palmeiras, 123, Setor Oeste, Goiânia, 74000-000         \n",
              "212 Travessa das Hortênsias, 789, Centro, Florianópolis, 88000-000  \n",
              "213 Travessa das Palmeiras, 789, Savassi, Belo Horizonte, 30100-000 \n",
              "214 Avenida Farrapos, 456, Floresta, Porto Alegre, 90200-000        \n",
              "215 Travessa dos Coqueiros, 789, Boa Viagem, Recife, 51000-000      \n",
              "216 Rua da Praia, 123, Copacabana, Rio de Janeiro, 22000-000        \n",
              "217 Rua da Praia, 123, Copacabana, Rio de Janeiro, 22000-000        \n",
              "218 Avenida Farrapos, 456, Floresta, Porto Alegre, 90200-000        \n",
              "219 Travessa das Hortênsias, 789, Centro, Florianópolis, 88000-000  \n",
              "220 Travessa das Palmeiras, 789, Savassi, Belo Horizonte, 30100-000 \n",
              "    beneficios  \n",
              "1   Não liberado\n",
              "2   Liberado    \n",
              "3   Liberado    \n",
              "4   Liberado    \n",
              "5   Liberado    \n",
              "6   Liberado    \n",
              "7   Não liberado\n",
              "8   Liberado    \n",
              "9   Não liberado\n",
              "10  Liberado    \n",
              "11  Não liberado\n",
              "12  Liberado    \n",
              "13  Liberado    \n",
              "14  Liberado    \n",
              "15  Liberado    \n",
              "16  Liberado    \n",
              "17  Não liberado\n",
              "18  Liberado    \n",
              "19  Liberado    \n",
              "20  Liberado    \n",
              "21  Liberado    \n",
              "22  Não liberado\n",
              "23  Não liberado\n",
              "24  Liberado    \n",
              "25  Liberado    \n",
              "26  Liberado    \n",
              "27  Liberado    \n",
              "28  Liberado    \n",
              "29  Liberado    \n",
              "30  Liberado    \n",
              "⋮   ⋮           \n",
              "191 Não liberado\n",
              "192 Não liberado\n",
              "193 Não liberado\n",
              "194 Liberado    \n",
              "195 Liberado    \n",
              "196 Liberado    \n",
              "197 Liberado    \n",
              "198 Não liberado\n",
              "199 Liberado    \n",
              "200 Liberado    \n",
              "201 Não liberado\n",
              "202 Liberado    \n",
              "203 Liberado    \n",
              "204 Liberado    \n",
              "205 Liberado    \n",
              "206 Não liberado\n",
              "207 Liberado    \n",
              "208 Liberado    \n",
              "209 Não liberado\n",
              "210 Liberado    \n",
              "211 Liberado    \n",
              "212 Liberado    \n",
              "213 Não liberado\n",
              "214 Não liberado\n",
              "215 Não liberado\n",
              "216 Não liberado\n",
              "217 Liberado    \n",
              "218 Liberado    \n",
              "219 Não liberado\n",
              "220 Liberado    "
            ]
          },
          "metadata": {}
        }
      ]
    },
    {
      "cell_type": "markdown",
      "source": [
        "**Modificando dados da coluna TransportadorID**"
      ],
      "metadata": {
        "id": "C5BKf_nr99Dy"
      }
    },
    {
      "cell_type": "code",
      "source": [
        "pedidos %>%\n",
        "  mutate(\n",
        "  TransportadorID = ifelse(is.na(TransportadorID), \"particular\", TransportadorID)\n",
        "  )"
      ],
      "metadata": {
        "colab": {
          "base_uri": "https://localhost:8080/",
          "height": 1000
        },
        "id": "JfarYO87-Ad0",
        "outputId": "0cdc20d1-44d6-4dbc-dbec-d9e066a3b92c"
      },
      "execution_count": 217,
      "outputs": [
        {
          "output_type": "display_data",
          "data": {
            "text/html": [
              "<table class=\"dataframe\">\n",
              "<caption>A tibble: 220 × 9</caption>\n",
              "<thead>\n",
              "\t<tr><th scope=col>PedidoID</th><th scope=col>ClienteID</th><th scope=col>DataPedido</th><th scope=col>DataEntrega</th><th scope=col>Status</th><th scope=col>ValorTotal</th><th scope=col>TransportadorID</th><th scope=col>Regiao</th><th scope=col>EnderecoPedido</th></tr>\n",
              "\t<tr><th scope=col>&lt;dbl&gt;</th><th scope=col>&lt;dbl&gt;</th><th scope=col>&lt;dttm&gt;</th><th scope=col>&lt;dttm&gt;</th><th scope=col>&lt;chr&gt;</th><th scope=col>&lt;dbl&gt;</th><th scope=col>&lt;chr&gt;</th><th scope=col>&lt;chr&gt;</th><th scope=col>&lt;chr&gt;</th></tr>\n",
              "</thead>\n",
              "<tbody>\n",
              "\t<tr><td>101</td><td>14</td><td>2024-07-01 18:56:18</td><td>2024-07-14 08:00:17</td><td>Entregue   </td><td>1895.15</td><td>2         </td><td>Sudeste     </td><td>Travessa das Palmeiras, 789, Savassi, Belo Horizonte, 30100-000</td></tr>\n",
              "\t<tr><td>102</td><td>12</td><td>2024-07-02 20:57:26</td><td>2024-07-12 11:46:21</td><td>Entregue   </td><td>2827.16</td><td>2         </td><td>Sudeste     </td><td>Avenida Paulista, 456, Bela Vista, São Paulo, 01300-000        </td></tr>\n",
              "\t<tr><td>103</td><td> 3</td><td>2024-07-03 17:18:26</td><td>2024-07-22 08:57:49</td><td>Entregue   </td><td>2576.52</td><td>2         </td><td>Norte       </td><td>Rua das Flores, 123, Centro, Manaus, 69000-000                 </td></tr>\n",
              "\t<tr><td>104</td><td> 7</td><td>2024-07-04 08:11:38</td><td>2024-07-21 05:59:59</td><td>Entregue   </td><td>2820.98</td><td>2         </td><td>Sul         </td><td>Travessa das Hortênsias, 789, Centro, Florianópolis, 88000-000 </td></tr>\n",
              "\t<tr><td>105</td><td>20</td><td>2024-07-05 10:50:35</td><td>2024-07-19 02:15:03</td><td>Entregue   </td><td>2693.72</td><td>2         </td><td>Sudeste     </td><td>Travessa das Palmeiras, 789, Savassi, Belo Horizonte, 30100-000</td></tr>\n",
              "\t<tr><td>106</td><td> 9</td><td>2024-07-06 07:01:49</td><td>2024-07-25 14:40:41</td><td>Entregue   </td><td>2405.18</td><td>2         </td><td>Norte       </td><td>Rua das Flores, 123, Centro, Manaus, 69000-000                 </td></tr>\n",
              "\t<tr><td>107</td><td> 6</td><td>2024-07-07 09:25:10</td><td>2024-07-18 19:46:14</td><td>Entregue   </td><td>1780.62</td><td>2         </td><td>Norte       </td><td>Rua das Flores, 123, Centro, Manaus, 69000-000                 </td></tr>\n",
              "\t<tr><td>108</td><td>12</td><td>2024-07-08 14:27:11</td><td>2024-07-21 09:06:39</td><td>Entregue   </td><td>2838.51</td><td>2         </td><td>Sul         </td><td>Avenida Farrapos, 456, Floresta, Porto Alegre, 90200-000       </td></tr>\n",
              "\t<tr><td>109</td><td> 8</td><td>2024-07-09 19:48:20</td><td>2024-07-25 12:14:40</td><td>Entregue   </td><td>1807.53</td><td>1         </td><td>Centro-Oeste</td><td>Travessa dos Buritis, 789, Jardim Goiás, Cuiabá, 78000-000     </td></tr>\n",
              "\t<tr><td>110</td><td>16</td><td>2024-07-10 23:14:50</td><td>NA</td><td>Em trânsito</td><td>2771.25</td><td>1         </td><td>Sudeste     </td><td>Travessa das Palmeiras, 789, Savassi, Belo Horizonte, 30100-000</td></tr>\n",
              "\t<tr><td>111</td><td>14</td><td>2024-07-11 16:39:20</td><td>2024-07-24 06:55:39</td><td>Entregue   </td><td>1833.60</td><td>2         </td><td>Sudeste     </td><td>Avenida Paulista, 456, Bela Vista, São Paulo, 01300-000        </td></tr>\n",
              "\t<tr><td>112</td><td>13</td><td>2024-07-12 13:41:32</td><td>2024-07-29 16:36:39</td><td>Entregue   </td><td>2843.38</td><td>2         </td><td>Nordeste    </td><td>Avenida Atlântica, 456, Meireles, Fortaleza, 60100-000         </td></tr>\n",
              "\t<tr><td>113</td><td> 3</td><td>2024-07-13 18:40:00</td><td>2024-07-30 13:37:39</td><td>Entregue   </td><td>2444.73</td><td>1         </td><td>Centro-Oeste</td><td>Avenida Brasília, 456, Asa Norte, Brasília, 70000-000          </td></tr>\n",
              "\t<tr><td>114</td><td> 1</td><td>2024-07-14 15:51:12</td><td>2024-07-28 09:53:29</td><td>Entregue   </td><td>2565.20</td><td>1         </td><td>Centro-Oeste</td><td>Avenida Brasília, 456, Asa Norte, Brasília, 70000-000          </td></tr>\n",
              "\t<tr><td>115</td><td> 8</td><td>2024-07-15 21:59:37</td><td>2024-07-26 21:38:59</td><td>Entregue   </td><td>2537.74</td><td>2         </td><td>Sul         </td><td>Avenida Farrapos, 456, Floresta, Porto Alegre, 90200-000       </td></tr>\n",
              "\t<tr><td>116</td><td>19</td><td>2024-07-16 01:45:21</td><td>NA</td><td>Em trânsito</td><td>2719.95</td><td>2         </td><td>Centro-Oeste</td><td>Travessa dos Buritis, 789, Jardim Goiás, Cuiabá, 78000-000     </td></tr>\n",
              "\t<tr><td>117</td><td>10</td><td>2024-07-17 17:00:16</td><td>NA</td><td>Pendente   </td><td>1906.17</td><td>1         </td><td>Centro-Oeste</td><td>Travessa dos Buritis, 789, Jardim Goiás, Cuiabá, 78000-000     </td></tr>\n",
              "\t<tr><td>118</td><td>19</td><td>2024-07-18 09:23:13</td><td>2024-08-01 04:25:14</td><td>Entregue   </td><td>2412.58</td><td>1         </td><td>Norte       </td><td>Rua das Flores, 123, Centro, Manaus, 69000-000                 </td></tr>\n",
              "\t<tr><td>119</td><td> 7</td><td>2024-07-19 11:57:33</td><td>NA</td><td>Pendente   </td><td>2225.66</td><td>2         </td><td>Nordeste    </td><td>Travessa dos Coqueiros, 789, Boa Viagem, Recife, 51000-000     </td></tr>\n",
              "\t<tr><td>120</td><td> 9</td><td>2024-07-20 11:05:29</td><td>2024-08-01 07:58:55</td><td>Entregue   </td><td>2072.44</td><td>2         </td><td>Sul         </td><td>Travessa das Hortênsias, 789, Centro, Florianópolis, 88000-000 </td></tr>\n",
              "\t<tr><td>121</td><td>13</td><td>2024-08-01 00:54:48</td><td>2024-08-12 23:19:31</td><td>Entregue   </td><td>2864.81</td><td>1         </td><td>Sul         </td><td>Avenida Farrapos, 456, Floresta, Porto Alegre, 90200-000       </td></tr>\n",
              "\t<tr><td>122</td><td> 7</td><td>2024-08-02 09:24:29</td><td>2024-08-10 14:46:55</td><td>Entregue   </td><td>1633.88</td><td>1         </td><td>Sudeste     </td><td>Avenida Paulista, 456, Bela Vista, São Paulo, 01300-000        </td></tr>\n",
              "\t<tr><td>123</td><td>16</td><td>2024-08-03 05:10:29</td><td>2024-08-17 05:43:21</td><td>Entregue   </td><td>1773.82</td><td>2         </td><td>Norte       </td><td>Avenida Amazonas, 456, Aparecida, Belém, 66000-000             </td></tr>\n",
              "\t<tr><td>124</td><td> 3</td><td>2024-08-04 16:07:43</td><td>2024-08-22 07:17:34</td><td>Entregue   </td><td>2156.37</td><td>1         </td><td>Norte       </td><td>Rua das Flores, 123, Centro, Manaus, 69000-000                 </td></tr>\n",
              "\t<tr><td>125</td><td> 9</td><td>2024-08-05 12:28:18</td><td>2024-08-25 21:37:49</td><td>Entregue   </td><td>2738.80</td><td>1         </td><td>Sudeste     </td><td>Travessa das Palmeiras, 789, Savassi, Belo Horizonte, 30100-000</td></tr>\n",
              "\t<tr><td>126</td><td>20</td><td>2024-08-06 05:54:09</td><td>NA</td><td>Em trânsito</td><td>2088.74</td><td>particular</td><td>Sudeste     </td><td>Rua da Praia, 123, Copacabana, Rio de Janeiro, 22000-000       </td></tr>\n",
              "\t<tr><td>127</td><td>19</td><td>2024-08-07 03:44:54</td><td>2024-08-15 04:54:32</td><td>Entregue   </td><td>2648.28</td><td>2         </td><td>Sul         </td><td>Avenida Farrapos, 456, Floresta, Porto Alegre, 90200-000       </td></tr>\n",
              "\t<tr><td>128</td><td> 9</td><td>2024-08-08 03:05:42</td><td>2024-08-26 22:09:46</td><td>Entregue   </td><td>2556.64</td><td>1         </td><td>Sul         </td><td>Travessa das Hortênsias, 789, Centro, Florianópolis, 88000-000 </td></tr>\n",
              "\t<tr><td>129</td><td> 7</td><td>2024-08-09 18:10:57</td><td>2024-08-20 10:09:36</td><td>Entregue   </td><td>2469.90</td><td>1         </td><td>Norte       </td><td>Rua das Flores, 123, Centro, Manaus, 69000-000                 </td></tr>\n",
              "\t<tr><td>130</td><td>12</td><td>2024-08-10 16:38:53</td><td>2024-08-17 12:13:24</td><td>Entregue   </td><td>2097.04</td><td>1         </td><td>Sudeste     </td><td>Avenida Paulista, 456, Bela Vista, São Paulo, 01300-000        </td></tr>\n",
              "\t<tr><td>⋮</td><td>⋮</td><td>⋮</td><td>⋮</td><td>⋮</td><td>⋮</td><td>⋮</td><td>⋮</td><td>⋮</td></tr>\n",
              "\t<tr><td>291</td><td>13</td><td>2024-10-10 10:15:02</td><td>NA</td><td>Pendente   </td><td>1867.62</td><td>1         </td><td>Sul         </td><td>Rua das Araucárias, 123, Centro, Curitiba, 80000-000            </td></tr>\n",
              "\t<tr><td>292</td><td> 1</td><td>2024-10-11 14:47:57</td><td>2024-10-24 01:43:16</td><td>Entregue   </td><td>1822.29</td><td>2         </td><td>Sudeste     </td><td>Travessa das Palmeiras, 789, Savassi, Belo Horizonte, 30100-000 </td></tr>\n",
              "\t<tr><td>293</td><td>19</td><td>2024-10-12 19:10:51</td><td>2024-10-29 03:10:18</td><td>Entregue   </td><td>1587.99</td><td>1         </td><td>Sul         </td><td>Avenida Farrapos, 456, Floresta, Porto Alegre, 90200-000        </td></tr>\n",
              "\t<tr><td>294</td><td>20</td><td>2024-10-13 03:33:08</td><td>NA</td><td>Em trânsito</td><td>2473.05</td><td>1         </td><td>Sudeste     </td><td>Avenida Paulista, 456, Bela Vista, São Paulo, 01300-000         </td></tr>\n",
              "\t<tr><td>295</td><td>12</td><td>2024-10-14 23:15:06</td><td>2024-10-26 12:57:07</td><td>Entregue   </td><td>2753.36</td><td>2         </td><td>Sudeste     </td><td>Travessa das Palmeiras, 789, Savassi, Belo Horizonte, 30100-000 </td></tr>\n",
              "\t<tr><td>296</td><td>19</td><td>2024-10-15 11:59:12</td><td>2024-11-02 07:17:30</td><td>Entregue   </td><td>2617.37</td><td>2         </td><td>Sul         </td><td>Travessa das Hortênsias, 789, Centro, Florianópolis, 88000-000  </td></tr>\n",
              "\t<tr><td>297</td><td> 7</td><td>2024-10-16 20:11:15</td><td>NA</td><td>Pendente   </td><td>2227.15</td><td>1         </td><td>Sul         </td><td>Avenida Farrapos, 456, Floresta, Porto Alegre, 90200-000        </td></tr>\n",
              "\t<tr><td>298</td><td>14</td><td>2024-10-17 10:12:49</td><td>NA</td><td>Em trânsito</td><td>1643.75</td><td>1         </td><td>Sudeste     </td><td>Travessa das Palmeiras, 789, Savassi, Belo Horizonte, 30100-000 </td></tr>\n",
              "\t<tr><td>299</td><td>14</td><td>2024-10-18 20:16:02</td><td>2024-11-06 01:26:04</td><td>Entregue   </td><td>2880.21</td><td>1         </td><td>Norte       </td><td>Rua das Flores, 123, Centro, Manaus, 69000-000                  </td></tr>\n",
              "\t<tr><td>300</td><td>14</td><td>2024-10-19 16:10:12</td><td>2024-11-08 21:52:52</td><td>Entregue   </td><td>2540.39</td><td>1         </td><td>Sudeste     </td><td>Avenida Paulista, 456, Bela Vista, São Paulo, 01300-000         </td></tr>\n",
              "\t<tr><td>301</td><td>20</td><td>2024-10-20 19:03:29</td><td>2024-11-04 11:54:35</td><td>Entregue   </td><td>1541.21</td><td>2         </td><td>Sul         </td><td>Rua das Araucárias, 123, Centro, Curitiba, 80000-000            </td></tr>\n",
              "\t<tr><td>302</td><td>12</td><td>2024-10-21 15:39:44</td><td>NA</td><td>Em trânsito</td><td>2185.62</td><td>particular</td><td>Norte       </td><td>Travessa dos Açaizeiros, 789, Cidade Nova, Rio Branco, 69900-000</td></tr>\n",
              "\t<tr><td>303</td><td>12</td><td>2024-10-22 13:10:13</td><td>2024-11-03 18:45:06</td><td>Entregue   </td><td>2689.35</td><td>2         </td><td>Sul         </td><td>Avenida Farrapos, 456, Floresta, Porto Alegre, 90200-000        </td></tr>\n",
              "\t<tr><td>304</td><td> 8</td><td>2024-10-23 00:32:32</td><td>2024-11-10 05:01:20</td><td>Entregue   </td><td>2659.26</td><td>1         </td><td>Sul         </td><td>Avenida Farrapos, 456, Floresta, Porto Alegre, 90200-000        </td></tr>\n",
              "\t<tr><td>305</td><td> 7</td><td>2024-10-24 20:31:53</td><td>2024-11-11 12:15:56</td><td>Entregue   </td><td>2911.12</td><td>2         </td><td>Sul         </td><td>Avenida Farrapos, 456, Floresta, Porto Alegre, 90200-000        </td></tr>\n",
              "\t<tr><td>306</td><td>16</td><td>2024-10-25 15:25:41</td><td>2024-11-12 00:55:36</td><td>Entregue   </td><td>1596.62</td><td>2         </td><td>Sul         </td><td>Avenida Farrapos, 456, Floresta, Porto Alegre, 90200-000        </td></tr>\n",
              "\t<tr><td>307</td><td> 9</td><td>2024-10-26 22:04:42</td><td>2024-11-13 14:42:16</td><td>Entregue   </td><td>2653.44</td><td>particular</td><td>Nordeste    </td><td>Travessa dos Coqueiros, 789, Boa Viagem, Recife, 51000-000      </td></tr>\n",
              "\t<tr><td>308</td><td> 9</td><td>2024-10-27 04:32:21</td><td>2024-11-06 10:44:29</td><td>Entregue   </td><td>2994.95</td><td>particular</td><td>Sudeste     </td><td>Travessa das Palmeiras, 789, Savassi, Belo Horizonte, 30100-000 </td></tr>\n",
              "\t<tr><td>309</td><td>13</td><td>2024-10-28 12:48:20</td><td>2024-11-17 03:21:47</td><td>Entregue   </td><td>1735.89</td><td>particular</td><td>Sudeste     </td><td>Avenida Paulista, 456, Bela Vista, São Paulo, 01300-000         </td></tr>\n",
              "\t<tr><td>310</td><td>20</td><td>2024-10-29 08:09:40</td><td>NA</td><td>Em trânsito</td><td>2656.30</td><td>particular</td><td>Sul         </td><td>Rua das Araucárias, 123, Centro, Curitiba, 80000-000            </td></tr>\n",
              "\t<tr><td>311</td><td>14</td><td>2024-10-30 13:33:00</td><td>NA</td><td>Em trânsito</td><td>2166.87</td><td>particular</td><td>Centro-Oeste</td><td>Rua das Palmeiras, 123, Setor Oeste, Goiânia, 74000-000         </td></tr>\n",
              "\t<tr><td>312</td><td>19</td><td>2024-10-31 09:51:17</td><td>2024-11-16 02:57:05</td><td>Entregue   </td><td>2253.37</td><td>1         </td><td>Sul         </td><td>Travessa das Hortênsias, 789, Centro, Florianópolis, 88000-000  </td></tr>\n",
              "\t<tr><td>313</td><td>13</td><td>2024-11-01 12:25:39</td><td>2024-11-14 07:48:27</td><td>Entregue   </td><td>1906.61</td><td>2         </td><td>Sudeste     </td><td>Travessa das Palmeiras, 789, Savassi, Belo Horizonte, 30100-000 </td></tr>\n",
              "\t<tr><td>314</td><td>19</td><td>2024-11-02 09:21:15</td><td>2024-11-20 16:37:45</td><td>Entregue   </td><td>1939.13</td><td>1         </td><td>Sul         </td><td>Avenida Farrapos, 456, Floresta, Porto Alegre, 90200-000        </td></tr>\n",
              "\t<tr><td>315</td><td> 8</td><td>2024-11-03 05:13:00</td><td>2024-11-18 07:45:42</td><td>Entregue   </td><td>1675.29</td><td>particular</td><td>Nordeste    </td><td>Travessa dos Coqueiros, 789, Boa Viagem, Recife, 51000-000      </td></tr>\n",
              "\t<tr><td>316</td><td>13</td><td>2024-11-04 08:10:17</td><td>2024-11-17 23:50:26</td><td>Entregue   </td><td>1538.44</td><td>particular</td><td>Sudeste     </td><td>Rua da Praia, 123, Copacabana, Rio de Janeiro, 22000-000        </td></tr>\n",
              "\t<tr><td>317</td><td> 7</td><td>2024-11-05 21:58:57</td><td>2024-11-25 20:36:46</td><td>Entregue   </td><td>2299.57</td><td>particular</td><td>Sudeste     </td><td>Rua da Praia, 123, Copacabana, Rio de Janeiro, 22000-000        </td></tr>\n",
              "\t<tr><td>318</td><td>12</td><td>2024-11-06 03:46:23</td><td>2024-11-13 06:42:57</td><td>Entregue   </td><td>2338.71</td><td>particular</td><td>Sul         </td><td>Avenida Farrapos, 456, Floresta, Porto Alegre, 90200-000        </td></tr>\n",
              "\t<tr><td>319</td><td> 1</td><td>2024-11-07 18:46:41</td><td>NA</td><td>Pendente   </td><td>1590.16</td><td>2         </td><td>Sul         </td><td>Travessa das Hortênsias, 789, Centro, Florianópolis, 88000-000  </td></tr>\n",
              "\t<tr><td>320</td><td>16</td><td>2024-11-08 09:51:12</td><td>2024-11-23 22:53:40</td><td>Entregue   </td><td>2920.97</td><td>particular</td><td>Sudeste     </td><td>Travessa das Palmeiras, 789, Savassi, Belo Horizonte, 30100-000 </td></tr>\n",
              "</tbody>\n",
              "</table>\n"
            ],
            "text/markdown": "\nA tibble: 220 × 9\n\n| PedidoID &lt;dbl&gt; | ClienteID &lt;dbl&gt; | DataPedido &lt;dttm&gt; | DataEntrega &lt;dttm&gt; | Status &lt;chr&gt; | ValorTotal &lt;dbl&gt; | TransportadorID &lt;chr&gt; | Regiao &lt;chr&gt; | EnderecoPedido &lt;chr&gt; |\n|---|---|---|---|---|---|---|---|---|\n| 101 | 14 | 2024-07-01 18:56:18 | 2024-07-14 08:00:17 | Entregue    | 1895.15 | 2          | Sudeste      | Travessa das Palmeiras, 789, Savassi, Belo Horizonte, 30100-000 |\n| 102 | 12 | 2024-07-02 20:57:26 | 2024-07-12 11:46:21 | Entregue    | 2827.16 | 2          | Sudeste      | Avenida Paulista, 456, Bela Vista, São Paulo, 01300-000         |\n| 103 |  3 | 2024-07-03 17:18:26 | 2024-07-22 08:57:49 | Entregue    | 2576.52 | 2          | Norte        | Rua das Flores, 123, Centro, Manaus, 69000-000                  |\n| 104 |  7 | 2024-07-04 08:11:38 | 2024-07-21 05:59:59 | Entregue    | 2820.98 | 2          | Sul          | Travessa das Hortênsias, 789, Centro, Florianópolis, 88000-000  |\n| 105 | 20 | 2024-07-05 10:50:35 | 2024-07-19 02:15:03 | Entregue    | 2693.72 | 2          | Sudeste      | Travessa das Palmeiras, 789, Savassi, Belo Horizonte, 30100-000 |\n| 106 |  9 | 2024-07-06 07:01:49 | 2024-07-25 14:40:41 | Entregue    | 2405.18 | 2          | Norte        | Rua das Flores, 123, Centro, Manaus, 69000-000                  |\n| 107 |  6 | 2024-07-07 09:25:10 | 2024-07-18 19:46:14 | Entregue    | 1780.62 | 2          | Norte        | Rua das Flores, 123, Centro, Manaus, 69000-000                  |\n| 108 | 12 | 2024-07-08 14:27:11 | 2024-07-21 09:06:39 | Entregue    | 2838.51 | 2          | Sul          | Avenida Farrapos, 456, Floresta, Porto Alegre, 90200-000        |\n| 109 |  8 | 2024-07-09 19:48:20 | 2024-07-25 12:14:40 | Entregue    | 1807.53 | 1          | Centro-Oeste | Travessa dos Buritis, 789, Jardim Goiás, Cuiabá, 78000-000      |\n| 110 | 16 | 2024-07-10 23:14:50 | NA | Em trânsito | 2771.25 | 1          | Sudeste      | Travessa das Palmeiras, 789, Savassi, Belo Horizonte, 30100-000 |\n| 111 | 14 | 2024-07-11 16:39:20 | 2024-07-24 06:55:39 | Entregue    | 1833.60 | 2          | Sudeste      | Avenida Paulista, 456, Bela Vista, São Paulo, 01300-000         |\n| 112 | 13 | 2024-07-12 13:41:32 | 2024-07-29 16:36:39 | Entregue    | 2843.38 | 2          | Nordeste     | Avenida Atlântica, 456, Meireles, Fortaleza, 60100-000          |\n| 113 |  3 | 2024-07-13 18:40:00 | 2024-07-30 13:37:39 | Entregue    | 2444.73 | 1          | Centro-Oeste | Avenida Brasília, 456, Asa Norte, Brasília, 70000-000           |\n| 114 |  1 | 2024-07-14 15:51:12 | 2024-07-28 09:53:29 | Entregue    | 2565.20 | 1          | Centro-Oeste | Avenida Brasília, 456, Asa Norte, Brasília, 70000-000           |\n| 115 |  8 | 2024-07-15 21:59:37 | 2024-07-26 21:38:59 | Entregue    | 2537.74 | 2          | Sul          | Avenida Farrapos, 456, Floresta, Porto Alegre, 90200-000        |\n| 116 | 19 | 2024-07-16 01:45:21 | NA | Em trânsito | 2719.95 | 2          | Centro-Oeste | Travessa dos Buritis, 789, Jardim Goiás, Cuiabá, 78000-000      |\n| 117 | 10 | 2024-07-17 17:00:16 | NA | Pendente    | 1906.17 | 1          | Centro-Oeste | Travessa dos Buritis, 789, Jardim Goiás, Cuiabá, 78000-000      |\n| 118 | 19 | 2024-07-18 09:23:13 | 2024-08-01 04:25:14 | Entregue    | 2412.58 | 1          | Norte        | Rua das Flores, 123, Centro, Manaus, 69000-000                  |\n| 119 |  7 | 2024-07-19 11:57:33 | NA | Pendente    | 2225.66 | 2          | Nordeste     | Travessa dos Coqueiros, 789, Boa Viagem, Recife, 51000-000      |\n| 120 |  9 | 2024-07-20 11:05:29 | 2024-08-01 07:58:55 | Entregue    | 2072.44 | 2          | Sul          | Travessa das Hortênsias, 789, Centro, Florianópolis, 88000-000  |\n| 121 | 13 | 2024-08-01 00:54:48 | 2024-08-12 23:19:31 | Entregue    | 2864.81 | 1          | Sul          | Avenida Farrapos, 456, Floresta, Porto Alegre, 90200-000        |\n| 122 |  7 | 2024-08-02 09:24:29 | 2024-08-10 14:46:55 | Entregue    | 1633.88 | 1          | Sudeste      | Avenida Paulista, 456, Bela Vista, São Paulo, 01300-000         |\n| 123 | 16 | 2024-08-03 05:10:29 | 2024-08-17 05:43:21 | Entregue    | 1773.82 | 2          | Norte        | Avenida Amazonas, 456, Aparecida, Belém, 66000-000              |\n| 124 |  3 | 2024-08-04 16:07:43 | 2024-08-22 07:17:34 | Entregue    | 2156.37 | 1          | Norte        | Rua das Flores, 123, Centro, Manaus, 69000-000                  |\n| 125 |  9 | 2024-08-05 12:28:18 | 2024-08-25 21:37:49 | Entregue    | 2738.80 | 1          | Sudeste      | Travessa das Palmeiras, 789, Savassi, Belo Horizonte, 30100-000 |\n| 126 | 20 | 2024-08-06 05:54:09 | NA | Em trânsito | 2088.74 | particular | Sudeste      | Rua da Praia, 123, Copacabana, Rio de Janeiro, 22000-000        |\n| 127 | 19 | 2024-08-07 03:44:54 | 2024-08-15 04:54:32 | Entregue    | 2648.28 | 2          | Sul          | Avenida Farrapos, 456, Floresta, Porto Alegre, 90200-000        |\n| 128 |  9 | 2024-08-08 03:05:42 | 2024-08-26 22:09:46 | Entregue    | 2556.64 | 1          | Sul          | Travessa das Hortênsias, 789, Centro, Florianópolis, 88000-000  |\n| 129 |  7 | 2024-08-09 18:10:57 | 2024-08-20 10:09:36 | Entregue    | 2469.90 | 1          | Norte        | Rua das Flores, 123, Centro, Manaus, 69000-000                  |\n| 130 | 12 | 2024-08-10 16:38:53 | 2024-08-17 12:13:24 | Entregue    | 2097.04 | 1          | Sudeste      | Avenida Paulista, 456, Bela Vista, São Paulo, 01300-000         |\n| ⋮ | ⋮ | ⋮ | ⋮ | ⋮ | ⋮ | ⋮ | ⋮ | ⋮ |\n| 291 | 13 | 2024-10-10 10:15:02 | NA | Pendente    | 1867.62 | 1          | Sul          | Rua das Araucárias, 123, Centro, Curitiba, 80000-000             |\n| 292 |  1 | 2024-10-11 14:47:57 | 2024-10-24 01:43:16 | Entregue    | 1822.29 | 2          | Sudeste      | Travessa das Palmeiras, 789, Savassi, Belo Horizonte, 30100-000  |\n| 293 | 19 | 2024-10-12 19:10:51 | 2024-10-29 03:10:18 | Entregue    | 1587.99 | 1          | Sul          | Avenida Farrapos, 456, Floresta, Porto Alegre, 90200-000         |\n| 294 | 20 | 2024-10-13 03:33:08 | NA | Em trânsito | 2473.05 | 1          | Sudeste      | Avenida Paulista, 456, Bela Vista, São Paulo, 01300-000          |\n| 295 | 12 | 2024-10-14 23:15:06 | 2024-10-26 12:57:07 | Entregue    | 2753.36 | 2          | Sudeste      | Travessa das Palmeiras, 789, Savassi, Belo Horizonte, 30100-000  |\n| 296 | 19 | 2024-10-15 11:59:12 | 2024-11-02 07:17:30 | Entregue    | 2617.37 | 2          | Sul          | Travessa das Hortênsias, 789, Centro, Florianópolis, 88000-000   |\n| 297 |  7 | 2024-10-16 20:11:15 | NA | Pendente    | 2227.15 | 1          | Sul          | Avenida Farrapos, 456, Floresta, Porto Alegre, 90200-000         |\n| 298 | 14 | 2024-10-17 10:12:49 | NA | Em trânsito | 1643.75 | 1          | Sudeste      | Travessa das Palmeiras, 789, Savassi, Belo Horizonte, 30100-000  |\n| 299 | 14 | 2024-10-18 20:16:02 | 2024-11-06 01:26:04 | Entregue    | 2880.21 | 1          | Norte        | Rua das Flores, 123, Centro, Manaus, 69000-000                   |\n| 300 | 14 | 2024-10-19 16:10:12 | 2024-11-08 21:52:52 | Entregue    | 2540.39 | 1          | Sudeste      | Avenida Paulista, 456, Bela Vista, São Paulo, 01300-000          |\n| 301 | 20 | 2024-10-20 19:03:29 | 2024-11-04 11:54:35 | Entregue    | 1541.21 | 2          | Sul          | Rua das Araucárias, 123, Centro, Curitiba, 80000-000             |\n| 302 | 12 | 2024-10-21 15:39:44 | NA | Em trânsito | 2185.62 | particular | Norte        | Travessa dos Açaizeiros, 789, Cidade Nova, Rio Branco, 69900-000 |\n| 303 | 12 | 2024-10-22 13:10:13 | 2024-11-03 18:45:06 | Entregue    | 2689.35 | 2          | Sul          | Avenida Farrapos, 456, Floresta, Porto Alegre, 90200-000         |\n| 304 |  8 | 2024-10-23 00:32:32 | 2024-11-10 05:01:20 | Entregue    | 2659.26 | 1          | Sul          | Avenida Farrapos, 456, Floresta, Porto Alegre, 90200-000         |\n| 305 |  7 | 2024-10-24 20:31:53 | 2024-11-11 12:15:56 | Entregue    | 2911.12 | 2          | Sul          | Avenida Farrapos, 456, Floresta, Porto Alegre, 90200-000         |\n| 306 | 16 | 2024-10-25 15:25:41 | 2024-11-12 00:55:36 | Entregue    | 1596.62 | 2          | Sul          | Avenida Farrapos, 456, Floresta, Porto Alegre, 90200-000         |\n| 307 |  9 | 2024-10-26 22:04:42 | 2024-11-13 14:42:16 | Entregue    | 2653.44 | particular | Nordeste     | Travessa dos Coqueiros, 789, Boa Viagem, Recife, 51000-000       |\n| 308 |  9 | 2024-10-27 04:32:21 | 2024-11-06 10:44:29 | Entregue    | 2994.95 | particular | Sudeste      | Travessa das Palmeiras, 789, Savassi, Belo Horizonte, 30100-000  |\n| 309 | 13 | 2024-10-28 12:48:20 | 2024-11-17 03:21:47 | Entregue    | 1735.89 | particular | Sudeste      | Avenida Paulista, 456, Bela Vista, São Paulo, 01300-000          |\n| 310 | 20 | 2024-10-29 08:09:40 | NA | Em trânsito | 2656.30 | particular | Sul          | Rua das Araucárias, 123, Centro, Curitiba, 80000-000             |\n| 311 | 14 | 2024-10-30 13:33:00 | NA | Em trânsito | 2166.87 | particular | Centro-Oeste | Rua das Palmeiras, 123, Setor Oeste, Goiânia, 74000-000          |\n| 312 | 19 | 2024-10-31 09:51:17 | 2024-11-16 02:57:05 | Entregue    | 2253.37 | 1          | Sul          | Travessa das Hortênsias, 789, Centro, Florianópolis, 88000-000   |\n| 313 | 13 | 2024-11-01 12:25:39 | 2024-11-14 07:48:27 | Entregue    | 1906.61 | 2          | Sudeste      | Travessa das Palmeiras, 789, Savassi, Belo Horizonte, 30100-000  |\n| 314 | 19 | 2024-11-02 09:21:15 | 2024-11-20 16:37:45 | Entregue    | 1939.13 | 1          | Sul          | Avenida Farrapos, 456, Floresta, Porto Alegre, 90200-000         |\n| 315 |  8 | 2024-11-03 05:13:00 | 2024-11-18 07:45:42 | Entregue    | 1675.29 | particular | Nordeste     | Travessa dos Coqueiros, 789, Boa Viagem, Recife, 51000-000       |\n| 316 | 13 | 2024-11-04 08:10:17 | 2024-11-17 23:50:26 | Entregue    | 1538.44 | particular | Sudeste      | Rua da Praia, 123, Copacabana, Rio de Janeiro, 22000-000         |\n| 317 |  7 | 2024-11-05 21:58:57 | 2024-11-25 20:36:46 | Entregue    | 2299.57 | particular | Sudeste      | Rua da Praia, 123, Copacabana, Rio de Janeiro, 22000-000         |\n| 318 | 12 | 2024-11-06 03:46:23 | 2024-11-13 06:42:57 | Entregue    | 2338.71 | particular | Sul          | Avenida Farrapos, 456, Floresta, Porto Alegre, 90200-000         |\n| 319 |  1 | 2024-11-07 18:46:41 | NA | Pendente    | 1590.16 | 2          | Sul          | Travessa das Hortênsias, 789, Centro, Florianópolis, 88000-000   |\n| 320 | 16 | 2024-11-08 09:51:12 | 2024-11-23 22:53:40 | Entregue    | 2920.97 | particular | Sudeste      | Travessa das Palmeiras, 789, Savassi, Belo Horizonte, 30100-000  |\n\n",
            "text/latex": "A tibble: 220 × 9\n\\begin{tabular}{lllllllll}\n PedidoID & ClienteID & DataPedido & DataEntrega & Status & ValorTotal & TransportadorID & Regiao & EnderecoPedido\\\\\n <dbl> & <dbl> & <dttm> & <dttm> & <chr> & <dbl> & <chr> & <chr> & <chr>\\\\\n\\hline\n\t 101 & 14 & 2024-07-01 18:56:18 & 2024-07-14 08:00:17 & Entregue    & 1895.15 & 2          & Sudeste      & Travessa das Palmeiras, 789, Savassi, Belo Horizonte, 30100-000\\\\\n\t 102 & 12 & 2024-07-02 20:57:26 & 2024-07-12 11:46:21 & Entregue    & 2827.16 & 2          & Sudeste      & Avenida Paulista, 456, Bela Vista, São Paulo, 01300-000        \\\\\n\t 103 &  3 & 2024-07-03 17:18:26 & 2024-07-22 08:57:49 & Entregue    & 2576.52 & 2          & Norte        & Rua das Flores, 123, Centro, Manaus, 69000-000                 \\\\\n\t 104 &  7 & 2024-07-04 08:11:38 & 2024-07-21 05:59:59 & Entregue    & 2820.98 & 2          & Sul          & Travessa das Hortênsias, 789, Centro, Florianópolis, 88000-000 \\\\\n\t 105 & 20 & 2024-07-05 10:50:35 & 2024-07-19 02:15:03 & Entregue    & 2693.72 & 2          & Sudeste      & Travessa das Palmeiras, 789, Savassi, Belo Horizonte, 30100-000\\\\\n\t 106 &  9 & 2024-07-06 07:01:49 & 2024-07-25 14:40:41 & Entregue    & 2405.18 & 2          & Norte        & Rua das Flores, 123, Centro, Manaus, 69000-000                 \\\\\n\t 107 &  6 & 2024-07-07 09:25:10 & 2024-07-18 19:46:14 & Entregue    & 1780.62 & 2          & Norte        & Rua das Flores, 123, Centro, Manaus, 69000-000                 \\\\\n\t 108 & 12 & 2024-07-08 14:27:11 & 2024-07-21 09:06:39 & Entregue    & 2838.51 & 2          & Sul          & Avenida Farrapos, 456, Floresta, Porto Alegre, 90200-000       \\\\\n\t 109 &  8 & 2024-07-09 19:48:20 & 2024-07-25 12:14:40 & Entregue    & 1807.53 & 1          & Centro-Oeste & Travessa dos Buritis, 789, Jardim Goiás, Cuiabá, 78000-000     \\\\\n\t 110 & 16 & 2024-07-10 23:14:50 & NA & Em trânsito & 2771.25 & 1          & Sudeste      & Travessa das Palmeiras, 789, Savassi, Belo Horizonte, 30100-000\\\\\n\t 111 & 14 & 2024-07-11 16:39:20 & 2024-07-24 06:55:39 & Entregue    & 1833.60 & 2          & Sudeste      & Avenida Paulista, 456, Bela Vista, São Paulo, 01300-000        \\\\\n\t 112 & 13 & 2024-07-12 13:41:32 & 2024-07-29 16:36:39 & Entregue    & 2843.38 & 2          & Nordeste     & Avenida Atlântica, 456, Meireles, Fortaleza, 60100-000         \\\\\n\t 113 &  3 & 2024-07-13 18:40:00 & 2024-07-30 13:37:39 & Entregue    & 2444.73 & 1          & Centro-Oeste & Avenida Brasília, 456, Asa Norte, Brasília, 70000-000          \\\\\n\t 114 &  1 & 2024-07-14 15:51:12 & 2024-07-28 09:53:29 & Entregue    & 2565.20 & 1          & Centro-Oeste & Avenida Brasília, 456, Asa Norte, Brasília, 70000-000          \\\\\n\t 115 &  8 & 2024-07-15 21:59:37 & 2024-07-26 21:38:59 & Entregue    & 2537.74 & 2          & Sul          & Avenida Farrapos, 456, Floresta, Porto Alegre, 90200-000       \\\\\n\t 116 & 19 & 2024-07-16 01:45:21 & NA & Em trânsito & 2719.95 & 2          & Centro-Oeste & Travessa dos Buritis, 789, Jardim Goiás, Cuiabá, 78000-000     \\\\\n\t 117 & 10 & 2024-07-17 17:00:16 & NA & Pendente    & 1906.17 & 1          & Centro-Oeste & Travessa dos Buritis, 789, Jardim Goiás, Cuiabá, 78000-000     \\\\\n\t 118 & 19 & 2024-07-18 09:23:13 & 2024-08-01 04:25:14 & Entregue    & 2412.58 & 1          & Norte        & Rua das Flores, 123, Centro, Manaus, 69000-000                 \\\\\n\t 119 &  7 & 2024-07-19 11:57:33 & NA & Pendente    & 2225.66 & 2          & Nordeste     & Travessa dos Coqueiros, 789, Boa Viagem, Recife, 51000-000     \\\\\n\t 120 &  9 & 2024-07-20 11:05:29 & 2024-08-01 07:58:55 & Entregue    & 2072.44 & 2          & Sul          & Travessa das Hortênsias, 789, Centro, Florianópolis, 88000-000 \\\\\n\t 121 & 13 & 2024-08-01 00:54:48 & 2024-08-12 23:19:31 & Entregue    & 2864.81 & 1          & Sul          & Avenida Farrapos, 456, Floresta, Porto Alegre, 90200-000       \\\\\n\t 122 &  7 & 2024-08-02 09:24:29 & 2024-08-10 14:46:55 & Entregue    & 1633.88 & 1          & Sudeste      & Avenida Paulista, 456, Bela Vista, São Paulo, 01300-000        \\\\\n\t 123 & 16 & 2024-08-03 05:10:29 & 2024-08-17 05:43:21 & Entregue    & 1773.82 & 2          & Norte        & Avenida Amazonas, 456, Aparecida, Belém, 66000-000             \\\\\n\t 124 &  3 & 2024-08-04 16:07:43 & 2024-08-22 07:17:34 & Entregue    & 2156.37 & 1          & Norte        & Rua das Flores, 123, Centro, Manaus, 69000-000                 \\\\\n\t 125 &  9 & 2024-08-05 12:28:18 & 2024-08-25 21:37:49 & Entregue    & 2738.80 & 1          & Sudeste      & Travessa das Palmeiras, 789, Savassi, Belo Horizonte, 30100-000\\\\\n\t 126 & 20 & 2024-08-06 05:54:09 & NA & Em trânsito & 2088.74 & particular & Sudeste      & Rua da Praia, 123, Copacabana, Rio de Janeiro, 22000-000       \\\\\n\t 127 & 19 & 2024-08-07 03:44:54 & 2024-08-15 04:54:32 & Entregue    & 2648.28 & 2          & Sul          & Avenida Farrapos, 456, Floresta, Porto Alegre, 90200-000       \\\\\n\t 128 &  9 & 2024-08-08 03:05:42 & 2024-08-26 22:09:46 & Entregue    & 2556.64 & 1          & Sul          & Travessa das Hortênsias, 789, Centro, Florianópolis, 88000-000 \\\\\n\t 129 &  7 & 2024-08-09 18:10:57 & 2024-08-20 10:09:36 & Entregue    & 2469.90 & 1          & Norte        & Rua das Flores, 123, Centro, Manaus, 69000-000                 \\\\\n\t 130 & 12 & 2024-08-10 16:38:53 & 2024-08-17 12:13:24 & Entregue    & 2097.04 & 1          & Sudeste      & Avenida Paulista, 456, Bela Vista, São Paulo, 01300-000        \\\\\n\t ⋮ & ⋮ & ⋮ & ⋮ & ⋮ & ⋮ & ⋮ & ⋮ & ⋮\\\\\n\t 291 & 13 & 2024-10-10 10:15:02 & NA & Pendente    & 1867.62 & 1          & Sul          & Rua das Araucárias, 123, Centro, Curitiba, 80000-000            \\\\\n\t 292 &  1 & 2024-10-11 14:47:57 & 2024-10-24 01:43:16 & Entregue    & 1822.29 & 2          & Sudeste      & Travessa das Palmeiras, 789, Savassi, Belo Horizonte, 30100-000 \\\\\n\t 293 & 19 & 2024-10-12 19:10:51 & 2024-10-29 03:10:18 & Entregue    & 1587.99 & 1          & Sul          & Avenida Farrapos, 456, Floresta, Porto Alegre, 90200-000        \\\\\n\t 294 & 20 & 2024-10-13 03:33:08 & NA & Em trânsito & 2473.05 & 1          & Sudeste      & Avenida Paulista, 456, Bela Vista, São Paulo, 01300-000         \\\\\n\t 295 & 12 & 2024-10-14 23:15:06 & 2024-10-26 12:57:07 & Entregue    & 2753.36 & 2          & Sudeste      & Travessa das Palmeiras, 789, Savassi, Belo Horizonte, 30100-000 \\\\\n\t 296 & 19 & 2024-10-15 11:59:12 & 2024-11-02 07:17:30 & Entregue    & 2617.37 & 2          & Sul          & Travessa das Hortênsias, 789, Centro, Florianópolis, 88000-000  \\\\\n\t 297 &  7 & 2024-10-16 20:11:15 & NA & Pendente    & 2227.15 & 1          & Sul          & Avenida Farrapos, 456, Floresta, Porto Alegre, 90200-000        \\\\\n\t 298 & 14 & 2024-10-17 10:12:49 & NA & Em trânsito & 1643.75 & 1          & Sudeste      & Travessa das Palmeiras, 789, Savassi, Belo Horizonte, 30100-000 \\\\\n\t 299 & 14 & 2024-10-18 20:16:02 & 2024-11-06 01:26:04 & Entregue    & 2880.21 & 1          & Norte        & Rua das Flores, 123, Centro, Manaus, 69000-000                  \\\\\n\t 300 & 14 & 2024-10-19 16:10:12 & 2024-11-08 21:52:52 & Entregue    & 2540.39 & 1          & Sudeste      & Avenida Paulista, 456, Bela Vista, São Paulo, 01300-000         \\\\\n\t 301 & 20 & 2024-10-20 19:03:29 & 2024-11-04 11:54:35 & Entregue    & 1541.21 & 2          & Sul          & Rua das Araucárias, 123, Centro, Curitiba, 80000-000            \\\\\n\t 302 & 12 & 2024-10-21 15:39:44 & NA & Em trânsito & 2185.62 & particular & Norte        & Travessa dos Açaizeiros, 789, Cidade Nova, Rio Branco, 69900-000\\\\\n\t 303 & 12 & 2024-10-22 13:10:13 & 2024-11-03 18:45:06 & Entregue    & 2689.35 & 2          & Sul          & Avenida Farrapos, 456, Floresta, Porto Alegre, 90200-000        \\\\\n\t 304 &  8 & 2024-10-23 00:32:32 & 2024-11-10 05:01:20 & Entregue    & 2659.26 & 1          & Sul          & Avenida Farrapos, 456, Floresta, Porto Alegre, 90200-000        \\\\\n\t 305 &  7 & 2024-10-24 20:31:53 & 2024-11-11 12:15:56 & Entregue    & 2911.12 & 2          & Sul          & Avenida Farrapos, 456, Floresta, Porto Alegre, 90200-000        \\\\\n\t 306 & 16 & 2024-10-25 15:25:41 & 2024-11-12 00:55:36 & Entregue    & 1596.62 & 2          & Sul          & Avenida Farrapos, 456, Floresta, Porto Alegre, 90200-000        \\\\\n\t 307 &  9 & 2024-10-26 22:04:42 & 2024-11-13 14:42:16 & Entregue    & 2653.44 & particular & Nordeste     & Travessa dos Coqueiros, 789, Boa Viagem, Recife, 51000-000      \\\\\n\t 308 &  9 & 2024-10-27 04:32:21 & 2024-11-06 10:44:29 & Entregue    & 2994.95 & particular & Sudeste      & Travessa das Palmeiras, 789, Savassi, Belo Horizonte, 30100-000 \\\\\n\t 309 & 13 & 2024-10-28 12:48:20 & 2024-11-17 03:21:47 & Entregue    & 1735.89 & particular & Sudeste      & Avenida Paulista, 456, Bela Vista, São Paulo, 01300-000         \\\\\n\t 310 & 20 & 2024-10-29 08:09:40 & NA & Em trânsito & 2656.30 & particular & Sul          & Rua das Araucárias, 123, Centro, Curitiba, 80000-000            \\\\\n\t 311 & 14 & 2024-10-30 13:33:00 & NA & Em trânsito & 2166.87 & particular & Centro-Oeste & Rua das Palmeiras, 123, Setor Oeste, Goiânia, 74000-000         \\\\\n\t 312 & 19 & 2024-10-31 09:51:17 & 2024-11-16 02:57:05 & Entregue    & 2253.37 & 1          & Sul          & Travessa das Hortênsias, 789, Centro, Florianópolis, 88000-000  \\\\\n\t 313 & 13 & 2024-11-01 12:25:39 & 2024-11-14 07:48:27 & Entregue    & 1906.61 & 2          & Sudeste      & Travessa das Palmeiras, 789, Savassi, Belo Horizonte, 30100-000 \\\\\n\t 314 & 19 & 2024-11-02 09:21:15 & 2024-11-20 16:37:45 & Entregue    & 1939.13 & 1          & Sul          & Avenida Farrapos, 456, Floresta, Porto Alegre, 90200-000        \\\\\n\t 315 &  8 & 2024-11-03 05:13:00 & 2024-11-18 07:45:42 & Entregue    & 1675.29 & particular & Nordeste     & Travessa dos Coqueiros, 789, Boa Viagem, Recife, 51000-000      \\\\\n\t 316 & 13 & 2024-11-04 08:10:17 & 2024-11-17 23:50:26 & Entregue    & 1538.44 & particular & Sudeste      & Rua da Praia, 123, Copacabana, Rio de Janeiro, 22000-000        \\\\\n\t 317 &  7 & 2024-11-05 21:58:57 & 2024-11-25 20:36:46 & Entregue    & 2299.57 & particular & Sudeste      & Rua da Praia, 123, Copacabana, Rio de Janeiro, 22000-000        \\\\\n\t 318 & 12 & 2024-11-06 03:46:23 & 2024-11-13 06:42:57 & Entregue    & 2338.71 & particular & Sul          & Avenida Farrapos, 456, Floresta, Porto Alegre, 90200-000        \\\\\n\t 319 &  1 & 2024-11-07 18:46:41 & NA & Pendente    & 1590.16 & 2          & Sul          & Travessa das Hortênsias, 789, Centro, Florianópolis, 88000-000  \\\\\n\t 320 & 16 & 2024-11-08 09:51:12 & 2024-11-23 22:53:40 & Entregue    & 2920.97 & particular & Sudeste      & Travessa das Palmeiras, 789, Savassi, Belo Horizonte, 30100-000 \\\\\n\\end{tabular}\n",
            "text/plain": [
              "    PedidoID ClienteID DataPedido          DataEntrega         Status     \n",
              "1   101      14        2024-07-01 18:56:18 2024-07-14 08:00:17 Entregue   \n",
              "2   102      12        2024-07-02 20:57:26 2024-07-12 11:46:21 Entregue   \n",
              "3   103       3        2024-07-03 17:18:26 2024-07-22 08:57:49 Entregue   \n",
              "4   104       7        2024-07-04 08:11:38 2024-07-21 05:59:59 Entregue   \n",
              "5   105      20        2024-07-05 10:50:35 2024-07-19 02:15:03 Entregue   \n",
              "6   106       9        2024-07-06 07:01:49 2024-07-25 14:40:41 Entregue   \n",
              "7   107       6        2024-07-07 09:25:10 2024-07-18 19:46:14 Entregue   \n",
              "8   108      12        2024-07-08 14:27:11 2024-07-21 09:06:39 Entregue   \n",
              "9   109       8        2024-07-09 19:48:20 2024-07-25 12:14:40 Entregue   \n",
              "10  110      16        2024-07-10 23:14:50 <NA>                Em trânsito\n",
              "11  111      14        2024-07-11 16:39:20 2024-07-24 06:55:39 Entregue   \n",
              "12  112      13        2024-07-12 13:41:32 2024-07-29 16:36:39 Entregue   \n",
              "13  113       3        2024-07-13 18:40:00 2024-07-30 13:37:39 Entregue   \n",
              "14  114       1        2024-07-14 15:51:12 2024-07-28 09:53:29 Entregue   \n",
              "15  115       8        2024-07-15 21:59:37 2024-07-26 21:38:59 Entregue   \n",
              "16  116      19        2024-07-16 01:45:21 <NA>                Em trânsito\n",
              "17  117      10        2024-07-17 17:00:16 <NA>                Pendente   \n",
              "18  118      19        2024-07-18 09:23:13 2024-08-01 04:25:14 Entregue   \n",
              "19  119       7        2024-07-19 11:57:33 <NA>                Pendente   \n",
              "20  120       9        2024-07-20 11:05:29 2024-08-01 07:58:55 Entregue   \n",
              "21  121      13        2024-08-01 00:54:48 2024-08-12 23:19:31 Entregue   \n",
              "22  122       7        2024-08-02 09:24:29 2024-08-10 14:46:55 Entregue   \n",
              "23  123      16        2024-08-03 05:10:29 2024-08-17 05:43:21 Entregue   \n",
              "24  124       3        2024-08-04 16:07:43 2024-08-22 07:17:34 Entregue   \n",
              "25  125       9        2024-08-05 12:28:18 2024-08-25 21:37:49 Entregue   \n",
              "26  126      20        2024-08-06 05:54:09 <NA>                Em trânsito\n",
              "27  127      19        2024-08-07 03:44:54 2024-08-15 04:54:32 Entregue   \n",
              "28  128       9        2024-08-08 03:05:42 2024-08-26 22:09:46 Entregue   \n",
              "29  129       7        2024-08-09 18:10:57 2024-08-20 10:09:36 Entregue   \n",
              "30  130      12        2024-08-10 16:38:53 2024-08-17 12:13:24 Entregue   \n",
              "⋮   ⋮        ⋮         ⋮                   ⋮                   ⋮          \n",
              "191 291      13        2024-10-10 10:15:02 <NA>                Pendente   \n",
              "192 292       1        2024-10-11 14:47:57 2024-10-24 01:43:16 Entregue   \n",
              "193 293      19        2024-10-12 19:10:51 2024-10-29 03:10:18 Entregue   \n",
              "194 294      20        2024-10-13 03:33:08 <NA>                Em trânsito\n",
              "195 295      12        2024-10-14 23:15:06 2024-10-26 12:57:07 Entregue   \n",
              "196 296      19        2024-10-15 11:59:12 2024-11-02 07:17:30 Entregue   \n",
              "197 297       7        2024-10-16 20:11:15 <NA>                Pendente   \n",
              "198 298      14        2024-10-17 10:12:49 <NA>                Em trânsito\n",
              "199 299      14        2024-10-18 20:16:02 2024-11-06 01:26:04 Entregue   \n",
              "200 300      14        2024-10-19 16:10:12 2024-11-08 21:52:52 Entregue   \n",
              "201 301      20        2024-10-20 19:03:29 2024-11-04 11:54:35 Entregue   \n",
              "202 302      12        2024-10-21 15:39:44 <NA>                Em trânsito\n",
              "203 303      12        2024-10-22 13:10:13 2024-11-03 18:45:06 Entregue   \n",
              "204 304       8        2024-10-23 00:32:32 2024-11-10 05:01:20 Entregue   \n",
              "205 305       7        2024-10-24 20:31:53 2024-11-11 12:15:56 Entregue   \n",
              "206 306      16        2024-10-25 15:25:41 2024-11-12 00:55:36 Entregue   \n",
              "207 307       9        2024-10-26 22:04:42 2024-11-13 14:42:16 Entregue   \n",
              "208 308       9        2024-10-27 04:32:21 2024-11-06 10:44:29 Entregue   \n",
              "209 309      13        2024-10-28 12:48:20 2024-11-17 03:21:47 Entregue   \n",
              "210 310      20        2024-10-29 08:09:40 <NA>                Em trânsito\n",
              "211 311      14        2024-10-30 13:33:00 <NA>                Em trânsito\n",
              "212 312      19        2024-10-31 09:51:17 2024-11-16 02:57:05 Entregue   \n",
              "213 313      13        2024-11-01 12:25:39 2024-11-14 07:48:27 Entregue   \n",
              "214 314      19        2024-11-02 09:21:15 2024-11-20 16:37:45 Entregue   \n",
              "215 315       8        2024-11-03 05:13:00 2024-11-18 07:45:42 Entregue   \n",
              "216 316      13        2024-11-04 08:10:17 2024-11-17 23:50:26 Entregue   \n",
              "217 317       7        2024-11-05 21:58:57 2024-11-25 20:36:46 Entregue   \n",
              "218 318      12        2024-11-06 03:46:23 2024-11-13 06:42:57 Entregue   \n",
              "219 319       1        2024-11-07 18:46:41 <NA>                Pendente   \n",
              "220 320      16        2024-11-08 09:51:12 2024-11-23 22:53:40 Entregue   \n",
              "    ValorTotal TransportadorID Regiao      \n",
              "1   1895.15    2               Sudeste     \n",
              "2   2827.16    2               Sudeste     \n",
              "3   2576.52    2               Norte       \n",
              "4   2820.98    2               Sul         \n",
              "5   2693.72    2               Sudeste     \n",
              "6   2405.18    2               Norte       \n",
              "7   1780.62    2               Norte       \n",
              "8   2838.51    2               Sul         \n",
              "9   1807.53    1               Centro-Oeste\n",
              "10  2771.25    1               Sudeste     \n",
              "11  1833.60    2               Sudeste     \n",
              "12  2843.38    2               Nordeste    \n",
              "13  2444.73    1               Centro-Oeste\n",
              "14  2565.20    1               Centro-Oeste\n",
              "15  2537.74    2               Sul         \n",
              "16  2719.95    2               Centro-Oeste\n",
              "17  1906.17    1               Centro-Oeste\n",
              "18  2412.58    1               Norte       \n",
              "19  2225.66    2               Nordeste    \n",
              "20  2072.44    2               Sul         \n",
              "21  2864.81    1               Sul         \n",
              "22  1633.88    1               Sudeste     \n",
              "23  1773.82    2               Norte       \n",
              "24  2156.37    1               Norte       \n",
              "25  2738.80    1               Sudeste     \n",
              "26  2088.74    particular      Sudeste     \n",
              "27  2648.28    2               Sul         \n",
              "28  2556.64    1               Sul         \n",
              "29  2469.90    1               Norte       \n",
              "30  2097.04    1               Sudeste     \n",
              "⋮   ⋮          ⋮               ⋮           \n",
              "191 1867.62    1               Sul         \n",
              "192 1822.29    2               Sudeste     \n",
              "193 1587.99    1               Sul         \n",
              "194 2473.05    1               Sudeste     \n",
              "195 2753.36    2               Sudeste     \n",
              "196 2617.37    2               Sul         \n",
              "197 2227.15    1               Sul         \n",
              "198 1643.75    1               Sudeste     \n",
              "199 2880.21    1               Norte       \n",
              "200 2540.39    1               Sudeste     \n",
              "201 1541.21    2               Sul         \n",
              "202 2185.62    particular      Norte       \n",
              "203 2689.35    2               Sul         \n",
              "204 2659.26    1               Sul         \n",
              "205 2911.12    2               Sul         \n",
              "206 1596.62    2               Sul         \n",
              "207 2653.44    particular      Nordeste    \n",
              "208 2994.95    particular      Sudeste     \n",
              "209 1735.89    particular      Sudeste     \n",
              "210 2656.30    particular      Sul         \n",
              "211 2166.87    particular      Centro-Oeste\n",
              "212 2253.37    1               Sul         \n",
              "213 1906.61    2               Sudeste     \n",
              "214 1939.13    1               Sul         \n",
              "215 1675.29    particular      Nordeste    \n",
              "216 1538.44    particular      Sudeste     \n",
              "217 2299.57    particular      Sudeste     \n",
              "218 2338.71    particular      Sul         \n",
              "219 1590.16    2               Sul         \n",
              "220 2920.97    particular      Sudeste     \n",
              "    EnderecoPedido                                                  \n",
              "1   Travessa das Palmeiras, 789, Savassi, Belo Horizonte, 30100-000 \n",
              "2   Avenida Paulista, 456, Bela Vista, São Paulo, 01300-000         \n",
              "3   Rua das Flores, 123, Centro, Manaus, 69000-000                  \n",
              "4   Travessa das Hortênsias, 789, Centro, Florianópolis, 88000-000  \n",
              "5   Travessa das Palmeiras, 789, Savassi, Belo Horizonte, 30100-000 \n",
              "6   Rua das Flores, 123, Centro, Manaus, 69000-000                  \n",
              "7   Rua das Flores, 123, Centro, Manaus, 69000-000                  \n",
              "8   Avenida Farrapos, 456, Floresta, Porto Alegre, 90200-000        \n",
              "9   Travessa dos Buritis, 789, Jardim Goiás, Cuiabá, 78000-000      \n",
              "10  Travessa das Palmeiras, 789, Savassi, Belo Horizonte, 30100-000 \n",
              "11  Avenida Paulista, 456, Bela Vista, São Paulo, 01300-000         \n",
              "12  Avenida Atlântica, 456, Meireles, Fortaleza, 60100-000          \n",
              "13  Avenida Brasília, 456, Asa Norte, Brasília, 70000-000           \n",
              "14  Avenida Brasília, 456, Asa Norte, Brasília, 70000-000           \n",
              "15  Avenida Farrapos, 456, Floresta, Porto Alegre, 90200-000        \n",
              "16  Travessa dos Buritis, 789, Jardim Goiás, Cuiabá, 78000-000      \n",
              "17  Travessa dos Buritis, 789, Jardim Goiás, Cuiabá, 78000-000      \n",
              "18  Rua das Flores, 123, Centro, Manaus, 69000-000                  \n",
              "19  Travessa dos Coqueiros, 789, Boa Viagem, Recife, 51000-000      \n",
              "20  Travessa das Hortênsias, 789, Centro, Florianópolis, 88000-000  \n",
              "21  Avenida Farrapos, 456, Floresta, Porto Alegre, 90200-000        \n",
              "22  Avenida Paulista, 456, Bela Vista, São Paulo, 01300-000         \n",
              "23  Avenida Amazonas, 456, Aparecida, Belém, 66000-000              \n",
              "24  Rua das Flores, 123, Centro, Manaus, 69000-000                  \n",
              "25  Travessa das Palmeiras, 789, Savassi, Belo Horizonte, 30100-000 \n",
              "26  Rua da Praia, 123, Copacabana, Rio de Janeiro, 22000-000        \n",
              "27  Avenida Farrapos, 456, Floresta, Porto Alegre, 90200-000        \n",
              "28  Travessa das Hortênsias, 789, Centro, Florianópolis, 88000-000  \n",
              "29  Rua das Flores, 123, Centro, Manaus, 69000-000                  \n",
              "30  Avenida Paulista, 456, Bela Vista, São Paulo, 01300-000         \n",
              "⋮   ⋮                                                               \n",
              "191 Rua das Araucárias, 123, Centro, Curitiba, 80000-000            \n",
              "192 Travessa das Palmeiras, 789, Savassi, Belo Horizonte, 30100-000 \n",
              "193 Avenida Farrapos, 456, Floresta, Porto Alegre, 90200-000        \n",
              "194 Avenida Paulista, 456, Bela Vista, São Paulo, 01300-000         \n",
              "195 Travessa das Palmeiras, 789, Savassi, Belo Horizonte, 30100-000 \n",
              "196 Travessa das Hortênsias, 789, Centro, Florianópolis, 88000-000  \n",
              "197 Avenida Farrapos, 456, Floresta, Porto Alegre, 90200-000        \n",
              "198 Travessa das Palmeiras, 789, Savassi, Belo Horizonte, 30100-000 \n",
              "199 Rua das Flores, 123, Centro, Manaus, 69000-000                  \n",
              "200 Avenida Paulista, 456, Bela Vista, São Paulo, 01300-000         \n",
              "201 Rua das Araucárias, 123, Centro, Curitiba, 80000-000            \n",
              "202 Travessa dos Açaizeiros, 789, Cidade Nova, Rio Branco, 69900-000\n",
              "203 Avenida Farrapos, 456, Floresta, Porto Alegre, 90200-000        \n",
              "204 Avenida Farrapos, 456, Floresta, Porto Alegre, 90200-000        \n",
              "205 Avenida Farrapos, 456, Floresta, Porto Alegre, 90200-000        \n",
              "206 Avenida Farrapos, 456, Floresta, Porto Alegre, 90200-000        \n",
              "207 Travessa dos Coqueiros, 789, Boa Viagem, Recife, 51000-000      \n",
              "208 Travessa das Palmeiras, 789, Savassi, Belo Horizonte, 30100-000 \n",
              "209 Avenida Paulista, 456, Bela Vista, São Paulo, 01300-000         \n",
              "210 Rua das Araucárias, 123, Centro, Curitiba, 80000-000            \n",
              "211 Rua das Palmeiras, 123, Setor Oeste, Goiânia, 74000-000         \n",
              "212 Travessa das Hortênsias, 789, Centro, Florianópolis, 88000-000  \n",
              "213 Travessa das Palmeiras, 789, Savassi, Belo Horizonte, 30100-000 \n",
              "214 Avenida Farrapos, 456, Floresta, Porto Alegre, 90200-000        \n",
              "215 Travessa dos Coqueiros, 789, Boa Viagem, Recife, 51000-000      \n",
              "216 Rua da Praia, 123, Copacabana, Rio de Janeiro, 22000-000        \n",
              "217 Rua da Praia, 123, Copacabana, Rio de Janeiro, 22000-000        \n",
              "218 Avenida Farrapos, 456, Floresta, Porto Alegre, 90200-000        \n",
              "219 Travessa das Hortênsias, 789, Centro, Florianópolis, 88000-000  \n",
              "220 Travessa das Palmeiras, 789, Savassi, Belo Horizonte, 30100-000 "
            ]
          },
          "metadata": {}
        }
      ]
    },
    {
      "cell_type": "markdown",
      "source": [
        "**Adicionar Colunas Simples:**"
      ],
      "metadata": {
        "id": "cfZQFzjD_ad2"
      }
    },
    {
      "cell_type": "code",
      "source": [
        "library(dplyr)\n",
        "df <- data.frame(a = 1:5, b = 6:10)\n",
        "df"
      ],
      "metadata": {
        "colab": {
          "base_uri": "https://localhost:8080/",
          "height": 272
        },
        "id": "3omBypS2_bq7",
        "outputId": "cc861529-720f-41eb-c66c-988bc10240f5"
      },
      "execution_count": 218,
      "outputs": [
        {
          "output_type": "display_data",
          "data": {
            "text/html": [
              "<table class=\"dataframe\">\n",
              "<caption>A data.frame: 5 × 2</caption>\n",
              "<thead>\n",
              "\t<tr><th scope=col>a</th><th scope=col>b</th></tr>\n",
              "\t<tr><th scope=col>&lt;int&gt;</th><th scope=col>&lt;int&gt;</th></tr>\n",
              "</thead>\n",
              "<tbody>\n",
              "\t<tr><td>1</td><td> 6</td></tr>\n",
              "\t<tr><td>2</td><td> 7</td></tr>\n",
              "\t<tr><td>3</td><td> 8</td></tr>\n",
              "\t<tr><td>4</td><td> 9</td></tr>\n",
              "\t<tr><td>5</td><td>10</td></tr>\n",
              "</tbody>\n",
              "</table>\n"
            ],
            "text/markdown": "\nA data.frame: 5 × 2\n\n| a &lt;int&gt; | b &lt;int&gt; |\n|---|---|\n| 1 |  6 |\n| 2 |  7 |\n| 3 |  8 |\n| 4 |  9 |\n| 5 | 10 |\n\n",
            "text/latex": "A data.frame: 5 × 2\n\\begin{tabular}{ll}\n a & b\\\\\n <int> & <int>\\\\\n\\hline\n\t 1 &  6\\\\\n\t 2 &  7\\\\\n\t 3 &  8\\\\\n\t 4 &  9\\\\\n\t 5 & 10\\\\\n\\end{tabular}\n",
            "text/plain": [
              "  a b \n",
              "1 1  6\n",
              "2 2  7\n",
              "3 3  8\n",
              "4 4  9\n",
              "5 5 10"
            ]
          },
          "metadata": {}
        }
      ]
    },
    {
      "cell_type": "code",
      "source": [
        "df <- df %>%\n",
        "  mutate(c = a + b)\n",
        "\n",
        "df"
      ],
      "metadata": {
        "colab": {
          "base_uri": "https://localhost:8080/",
          "height": 255
        },
        "id": "vL2wk19w_hS4",
        "outputId": "3ee35b02-a138-4c1b-e2e8-b82e99d8d44a"
      },
      "execution_count": 219,
      "outputs": [
        {
          "output_type": "display_data",
          "data": {
            "text/html": [
              "<table class=\"dataframe\">\n",
              "<caption>A data.frame: 5 × 3</caption>\n",
              "<thead>\n",
              "\t<tr><th scope=col>a</th><th scope=col>b</th><th scope=col>c</th></tr>\n",
              "\t<tr><th scope=col>&lt;int&gt;</th><th scope=col>&lt;int&gt;</th><th scope=col>&lt;int&gt;</th></tr>\n",
              "</thead>\n",
              "<tbody>\n",
              "\t<tr><td>1</td><td> 6</td><td> 7</td></tr>\n",
              "\t<tr><td>2</td><td> 7</td><td> 9</td></tr>\n",
              "\t<tr><td>3</td><td> 8</td><td>11</td></tr>\n",
              "\t<tr><td>4</td><td> 9</td><td>13</td></tr>\n",
              "\t<tr><td>5</td><td>10</td><td>15</td></tr>\n",
              "</tbody>\n",
              "</table>\n"
            ],
            "text/markdown": "\nA data.frame: 5 × 3\n\n| a &lt;int&gt; | b &lt;int&gt; | c &lt;int&gt; |\n|---|---|---|\n| 1 |  6 |  7 |\n| 2 |  7 |  9 |\n| 3 |  8 | 11 |\n| 4 |  9 | 13 |\n| 5 | 10 | 15 |\n\n",
            "text/latex": "A data.frame: 5 × 3\n\\begin{tabular}{lll}\n a & b & c\\\\\n <int> & <int> & <int>\\\\\n\\hline\n\t 1 &  6 &  7\\\\\n\t 2 &  7 &  9\\\\\n\t 3 &  8 & 11\\\\\n\t 4 &  9 & 13\\\\\n\t 5 & 10 & 15\\\\\n\\end{tabular}\n",
            "text/plain": [
              "  a b  c \n",
              "1 1  6  7\n",
              "2 2  7  9\n",
              "3 3  8 11\n",
              "4 4  9 13\n",
              "5 5 10 15"
            ]
          },
          "metadata": {}
        }
      ]
    },
    {
      "cell_type": "markdown",
      "source": [
        "**Modificar Colunas Existentes:**"
      ],
      "metadata": {
        "id": "u_LvMd_k_n3E"
      }
    },
    {
      "cell_type": "code",
      "source": [
        "df <- df %>%\n",
        "  mutate(a = a * 2)\n",
        "\n",
        "df"
      ],
      "metadata": {
        "colab": {
          "base_uri": "https://localhost:8080/",
          "height": 255
        },
        "id": "TPx8_pKz_iJ7",
        "outputId": "243dce97-d24c-498b-c9ea-3095c6a94f8d"
      },
      "execution_count": 220,
      "outputs": [
        {
          "output_type": "display_data",
          "data": {
            "text/html": [
              "<table class=\"dataframe\">\n",
              "<caption>A data.frame: 5 × 3</caption>\n",
              "<thead>\n",
              "\t<tr><th scope=col>a</th><th scope=col>b</th><th scope=col>c</th></tr>\n",
              "\t<tr><th scope=col>&lt;dbl&gt;</th><th scope=col>&lt;int&gt;</th><th scope=col>&lt;int&gt;</th></tr>\n",
              "</thead>\n",
              "<tbody>\n",
              "\t<tr><td> 2</td><td> 6</td><td> 7</td></tr>\n",
              "\t<tr><td> 4</td><td> 7</td><td> 9</td></tr>\n",
              "\t<tr><td> 6</td><td> 8</td><td>11</td></tr>\n",
              "\t<tr><td> 8</td><td> 9</td><td>13</td></tr>\n",
              "\t<tr><td>10</td><td>10</td><td>15</td></tr>\n",
              "</tbody>\n",
              "</table>\n"
            ],
            "text/markdown": "\nA data.frame: 5 × 3\n\n| a &lt;dbl&gt; | b &lt;int&gt; | c &lt;int&gt; |\n|---|---|---|\n|  2 |  6 |  7 |\n|  4 |  7 |  9 |\n|  6 |  8 | 11 |\n|  8 |  9 | 13 |\n| 10 | 10 | 15 |\n\n",
            "text/latex": "A data.frame: 5 × 3\n\\begin{tabular}{lll}\n a & b & c\\\\\n <dbl> & <int> & <int>\\\\\n\\hline\n\t  2 &  6 &  7\\\\\n\t  4 &  7 &  9\\\\\n\t  6 &  8 & 11\\\\\n\t  8 &  9 & 13\\\\\n\t 10 & 10 & 15\\\\\n\\end{tabular}\n",
            "text/plain": [
              "  a  b  c \n",
              "1  2  6  7\n",
              "2  4  7  9\n",
              "3  6  8 11\n",
              "4  8  9 13\n",
              "5 10 10 15"
            ]
          },
          "metadata": {}
        }
      ]
    },
    {
      "cell_type": "markdown",
      "source": [
        "**Funções Matemáticas:**\n",
        "\n",
        "mutate pode aplicar funções matemáticas como log, sqrt, e exp às colunas de um data frame."
      ],
      "metadata": {
        "id": "e41Gl2QjAGBd"
      }
    },
    {
      "cell_type": "code",
      "source": [
        "df <- df %>%\n",
        "  mutate(log_b = log(b))\n",
        "\n",
        "df"
      ],
      "metadata": {
        "colab": {
          "base_uri": "https://localhost:8080/",
          "height": 255
        },
        "id": "l_tI-h1P_qT8",
        "outputId": "6abf99dd-5a42-472e-9a08-d8c2e644300a"
      },
      "execution_count": 221,
      "outputs": [
        {
          "output_type": "display_data",
          "data": {
            "text/html": [
              "<table class=\"dataframe\">\n",
              "<caption>A data.frame: 5 × 4</caption>\n",
              "<thead>\n",
              "\t<tr><th scope=col>a</th><th scope=col>b</th><th scope=col>c</th><th scope=col>log_b</th></tr>\n",
              "\t<tr><th scope=col>&lt;dbl&gt;</th><th scope=col>&lt;int&gt;</th><th scope=col>&lt;int&gt;</th><th scope=col>&lt;dbl&gt;</th></tr>\n",
              "</thead>\n",
              "<tbody>\n",
              "\t<tr><td> 2</td><td> 6</td><td> 7</td><td>1.791759</td></tr>\n",
              "\t<tr><td> 4</td><td> 7</td><td> 9</td><td>1.945910</td></tr>\n",
              "\t<tr><td> 6</td><td> 8</td><td>11</td><td>2.079442</td></tr>\n",
              "\t<tr><td> 8</td><td> 9</td><td>13</td><td>2.197225</td></tr>\n",
              "\t<tr><td>10</td><td>10</td><td>15</td><td>2.302585</td></tr>\n",
              "</tbody>\n",
              "</table>\n"
            ],
            "text/markdown": "\nA data.frame: 5 × 4\n\n| a &lt;dbl&gt; | b &lt;int&gt; | c &lt;int&gt; | log_b &lt;dbl&gt; |\n|---|---|---|---|\n|  2 |  6 |  7 | 1.791759 |\n|  4 |  7 |  9 | 1.945910 |\n|  6 |  8 | 11 | 2.079442 |\n|  8 |  9 | 13 | 2.197225 |\n| 10 | 10 | 15 | 2.302585 |\n\n",
            "text/latex": "A data.frame: 5 × 4\n\\begin{tabular}{llll}\n a & b & c & log\\_b\\\\\n <dbl> & <int> & <int> & <dbl>\\\\\n\\hline\n\t  2 &  6 &  7 & 1.791759\\\\\n\t  4 &  7 &  9 & 1.945910\\\\\n\t  6 &  8 & 11 & 2.079442\\\\\n\t  8 &  9 & 13 & 2.197225\\\\\n\t 10 & 10 & 15 & 2.302585\\\\\n\\end{tabular}\n",
            "text/plain": [
              "  a  b  c  log_b   \n",
              "1  2  6  7 1.791759\n",
              "2  4  7  9 1.945910\n",
              "3  6  8 11 2.079442\n",
              "4  8  9 13 2.197225\n",
              "5 10 10 15 2.302585"
            ]
          },
          "metadata": {}
        }
      ]
    },
    {
      "cell_type": "markdown",
      "source": [
        "**Manipulação de Datas:**"
      ],
      "metadata": {
        "id": "cWZvlrt1AQ-W"
      }
    },
    {
      "cell_type": "code",
      "source": [
        "# Cria um data frame com uma sequência de datas do dia 1/jan até 5/jan de 2023\n",
        "df <- data.frame(date = as.Date('2023-01-01') + 0:4)\n",
        "df"
      ],
      "metadata": {
        "colab": {
          "base_uri": "https://localhost:8080/",
          "height": 272
        },
        "id": "W6NzqQrzAKAe",
        "outputId": "49d82565-9fea-4a78-f9f0-b8da32bcf6f2"
      },
      "execution_count": 222,
      "outputs": [
        {
          "output_type": "display_data",
          "data": {
            "text/html": [
              "<table class=\"dataframe\">\n",
              "<caption>A data.frame: 5 × 1</caption>\n",
              "<thead>\n",
              "\t<tr><th scope=col>date</th></tr>\n",
              "\t<tr><th scope=col>&lt;date&gt;</th></tr>\n",
              "</thead>\n",
              "<tbody>\n",
              "\t<tr><td>2023-01-01</td></tr>\n",
              "\t<tr><td>2023-01-02</td></tr>\n",
              "\t<tr><td>2023-01-03</td></tr>\n",
              "\t<tr><td>2023-01-04</td></tr>\n",
              "\t<tr><td>2023-01-05</td></tr>\n",
              "</tbody>\n",
              "</table>\n"
            ],
            "text/markdown": "\nA data.frame: 5 × 1\n\n| date &lt;date&gt; |\n|---|\n| 2023-01-01 |\n| 2023-01-02 |\n| 2023-01-03 |\n| 2023-01-04 |\n| 2023-01-05 |\n\n",
            "text/latex": "A data.frame: 5 × 1\n\\begin{tabular}{l}\n date\\\\\n <date>\\\\\n\\hline\n\t 2023-01-01\\\\\n\t 2023-01-02\\\\\n\t 2023-01-03\\\\\n\t 2023-01-04\\\\\n\t 2023-01-05\\\\\n\\end{tabular}\n",
            "text/plain": [
              "  date      \n",
              "1 2023-01-01\n",
              "2 2023-01-02\n",
              "3 2023-01-03\n",
              "4 2023-01-04\n",
              "5 2023-01-05"
            ]
          },
          "metadata": {}
        }
      ]
    },
    {
      "cell_type": "code",
      "source": [
        "df <- df %>%\n",
        "  mutate(\n",
        "    year = lubridate::year(date),\n",
        "    month = lubridate::month(date),\n",
        "    day = lubridate::day(date)\n",
        "  )\n",
        "\n",
        "df"
      ],
      "metadata": {
        "colab": {
          "base_uri": "https://localhost:8080/",
          "height": 255
        },
        "id": "qjbhGGBPAUy_",
        "outputId": "d52e1d9f-4c0f-456f-8b3a-779af8c65733"
      },
      "execution_count": 223,
      "outputs": [
        {
          "output_type": "display_data",
          "data": {
            "text/html": [
              "<table class=\"dataframe\">\n",
              "<caption>A data.frame: 5 × 4</caption>\n",
              "<thead>\n",
              "\t<tr><th scope=col>date</th><th scope=col>year</th><th scope=col>month</th><th scope=col>day</th></tr>\n",
              "\t<tr><th scope=col>&lt;date&gt;</th><th scope=col>&lt;dbl&gt;</th><th scope=col>&lt;dbl&gt;</th><th scope=col>&lt;int&gt;</th></tr>\n",
              "</thead>\n",
              "<tbody>\n",
              "\t<tr><td>2023-01-01</td><td>2023</td><td>1</td><td>1</td></tr>\n",
              "\t<tr><td>2023-01-02</td><td>2023</td><td>1</td><td>2</td></tr>\n",
              "\t<tr><td>2023-01-03</td><td>2023</td><td>1</td><td>3</td></tr>\n",
              "\t<tr><td>2023-01-04</td><td>2023</td><td>1</td><td>4</td></tr>\n",
              "\t<tr><td>2023-01-05</td><td>2023</td><td>1</td><td>5</td></tr>\n",
              "</tbody>\n",
              "</table>\n"
            ],
            "text/markdown": "\nA data.frame: 5 × 4\n\n| date &lt;date&gt; | year &lt;dbl&gt; | month &lt;dbl&gt; | day &lt;int&gt; |\n|---|---|---|---|\n| 2023-01-01 | 2023 | 1 | 1 |\n| 2023-01-02 | 2023 | 1 | 2 |\n| 2023-01-03 | 2023 | 1 | 3 |\n| 2023-01-04 | 2023 | 1 | 4 |\n| 2023-01-05 | 2023 | 1 | 5 |\n\n",
            "text/latex": "A data.frame: 5 × 4\n\\begin{tabular}{llll}\n date & year & month & day\\\\\n <date> & <dbl> & <dbl> & <int>\\\\\n\\hline\n\t 2023-01-01 & 2023 & 1 & 1\\\\\n\t 2023-01-02 & 2023 & 1 & 2\\\\\n\t 2023-01-03 & 2023 & 1 & 3\\\\\n\t 2023-01-04 & 2023 & 1 & 4\\\\\n\t 2023-01-05 & 2023 & 1 & 5\\\\\n\\end{tabular}\n",
            "text/plain": [
              "  date       year month day\n",
              "1 2023-01-01 2023 1     1  \n",
              "2 2023-01-02 2023 1     2  \n",
              "3 2023-01-03 2023 1     3  \n",
              "4 2023-01-04 2023 1     4  \n",
              "5 2023-01-05 2023 1     5  "
            ]
          },
          "metadata": {}
        }
      ]
    },
    {
      "cell_type": "markdown",
      "source": [
        "**Condicionais com ifelse:**"
      ],
      "metadata": {
        "id": "eB7COIenAfjw"
      }
    },
    {
      "cell_type": "code",
      "source": [
        "df <- data.frame(a = 1:5, b = c(5, NA, 7, NA, 9))\n",
        "df"
      ],
      "metadata": {
        "colab": {
          "base_uri": "https://localhost:8080/",
          "height": 272
        },
        "id": "VN-XimP4ApA7",
        "outputId": "6cbce3e4-023e-40bf-dc0b-31f9674c1761"
      },
      "execution_count": 224,
      "outputs": [
        {
          "output_type": "display_data",
          "data": {
            "text/html": [
              "<table class=\"dataframe\">\n",
              "<caption>A data.frame: 5 × 2</caption>\n",
              "<thead>\n",
              "\t<tr><th scope=col>a</th><th scope=col>b</th></tr>\n",
              "\t<tr><th scope=col>&lt;int&gt;</th><th scope=col>&lt;dbl&gt;</th></tr>\n",
              "</thead>\n",
              "<tbody>\n",
              "\t<tr><td>1</td><td> 5</td></tr>\n",
              "\t<tr><td>2</td><td>NA</td></tr>\n",
              "\t<tr><td>3</td><td> 7</td></tr>\n",
              "\t<tr><td>4</td><td>NA</td></tr>\n",
              "\t<tr><td>5</td><td> 9</td></tr>\n",
              "</tbody>\n",
              "</table>\n"
            ],
            "text/markdown": "\nA data.frame: 5 × 2\n\n| a &lt;int&gt; | b &lt;dbl&gt; |\n|---|---|\n| 1 |  5 |\n| 2 | NA |\n| 3 |  7 |\n| 4 | NA |\n| 5 |  9 |\n\n",
            "text/latex": "A data.frame: 5 × 2\n\\begin{tabular}{ll}\n a & b\\\\\n <int> & <dbl>\\\\\n\\hline\n\t 1 &  5\\\\\n\t 2 & NA\\\\\n\t 3 &  7\\\\\n\t 4 & NA\\\\\n\t 5 &  9\\\\\n\\end{tabular}\n",
            "text/plain": [
              "  a b \n",
              "1 1  5\n",
              "2 2 NA\n",
              "3 3  7\n",
              "4 4 NA\n",
              "5 5  9"
            ]
          },
          "metadata": {}
        }
      ]
    },
    {
      "cell_type": "code",
      "source": [
        "df <- df %>%\n",
        "  mutate(b = ifelse(is.na(b), 0, b))\n",
        "df"
      ],
      "metadata": {
        "colab": {
          "base_uri": "https://localhost:8080/",
          "height": 272
        },
        "id": "xpcJhfsKArRO",
        "outputId": "a41ae486-75fd-4c09-dc47-254435a37177"
      },
      "execution_count": 225,
      "outputs": [
        {
          "output_type": "display_data",
          "data": {
            "text/html": [
              "<table class=\"dataframe\">\n",
              "<caption>A data.frame: 5 × 2</caption>\n",
              "<thead>\n",
              "\t<tr><th scope=col>a</th><th scope=col>b</th></tr>\n",
              "\t<tr><th scope=col>&lt;int&gt;</th><th scope=col>&lt;dbl&gt;</th></tr>\n",
              "</thead>\n",
              "<tbody>\n",
              "\t<tr><td>1</td><td>5</td></tr>\n",
              "\t<tr><td>2</td><td>0</td></tr>\n",
              "\t<tr><td>3</td><td>7</td></tr>\n",
              "\t<tr><td>4</td><td>0</td></tr>\n",
              "\t<tr><td>5</td><td>9</td></tr>\n",
              "</tbody>\n",
              "</table>\n"
            ],
            "text/markdown": "\nA data.frame: 5 × 2\n\n| a &lt;int&gt; | b &lt;dbl&gt; |\n|---|---|\n| 1 | 5 |\n| 2 | 0 |\n| 3 | 7 |\n| 4 | 0 |\n| 5 | 9 |\n\n",
            "text/latex": "A data.frame: 5 × 2\n\\begin{tabular}{ll}\n a & b\\\\\n <int> & <dbl>\\\\\n\\hline\n\t 1 & 5\\\\\n\t 2 & 0\\\\\n\t 3 & 7\\\\\n\t 4 & 0\\\\\n\t 5 & 9\\\\\n\\end{tabular}\n",
            "text/plain": [
              "  a b\n",
              "1 1 5\n",
              "2 2 0\n",
              "3 3 7\n",
              "4 4 0\n",
              "5 5 9"
            ]
          },
          "metadata": {}
        }
      ]
    },
    {
      "cell_type": "markdown",
      "source": [
        "**Condicionais Complexas com case_when**"
      ],
      "metadata": {
        "id": "8wFIWKCTAys-"
      }
    },
    {
      "cell_type": "code",
      "source": [
        "df <- data.frame(a = 1:5, b = c(5, NA, 7, NA, 9))\n",
        "df"
      ],
      "metadata": {
        "colab": {
          "base_uri": "https://localhost:8080/",
          "height": 272
        },
        "id": "CpOuIdSKAzeK",
        "outputId": "334eb61c-068c-4264-d9cd-ffa2e520d453"
      },
      "execution_count": 226,
      "outputs": [
        {
          "output_type": "display_data",
          "data": {
            "text/html": [
              "<table class=\"dataframe\">\n",
              "<caption>A data.frame: 5 × 2</caption>\n",
              "<thead>\n",
              "\t<tr><th scope=col>a</th><th scope=col>b</th></tr>\n",
              "\t<tr><th scope=col>&lt;int&gt;</th><th scope=col>&lt;dbl&gt;</th></tr>\n",
              "</thead>\n",
              "<tbody>\n",
              "\t<tr><td>1</td><td> 5</td></tr>\n",
              "\t<tr><td>2</td><td>NA</td></tr>\n",
              "\t<tr><td>3</td><td> 7</td></tr>\n",
              "\t<tr><td>4</td><td>NA</td></tr>\n",
              "\t<tr><td>5</td><td> 9</td></tr>\n",
              "</tbody>\n",
              "</table>\n"
            ],
            "text/markdown": "\nA data.frame: 5 × 2\n\n| a &lt;int&gt; | b &lt;dbl&gt; |\n|---|---|\n| 1 |  5 |\n| 2 | NA |\n| 3 |  7 |\n| 4 | NA |\n| 5 |  9 |\n\n",
            "text/latex": "A data.frame: 5 × 2\n\\begin{tabular}{ll}\n a & b\\\\\n <int> & <dbl>\\\\\n\\hline\n\t 1 &  5\\\\\n\t 2 & NA\\\\\n\t 3 &  7\\\\\n\t 4 & NA\\\\\n\t 5 &  9\\\\\n\\end{tabular}\n",
            "text/plain": [
              "  a b \n",
              "1 1  5\n",
              "2 2 NA\n",
              "3 3  7\n",
              "4 4 NA\n",
              "5 5  9"
            ]
          },
          "metadata": {}
        }
      ]
    },
    {
      "cell_type": "code",
      "source": [
        "df <- df %>%\n",
        "  mutate(b = ifelse(is.na(b), 0, b))\n",
        "\n",
        "df"
      ],
      "metadata": {
        "colab": {
          "base_uri": "https://localhost:8080/",
          "height": 272
        },
        "id": "RN8q_p4mA1C8",
        "outputId": "69c0f026-4348-4ca9-952b-dafe907bb94d"
      },
      "execution_count": 227,
      "outputs": [
        {
          "output_type": "display_data",
          "data": {
            "text/html": [
              "<table class=\"dataframe\">\n",
              "<caption>A data.frame: 5 × 2</caption>\n",
              "<thead>\n",
              "\t<tr><th scope=col>a</th><th scope=col>b</th></tr>\n",
              "\t<tr><th scope=col>&lt;int&gt;</th><th scope=col>&lt;dbl&gt;</th></tr>\n",
              "</thead>\n",
              "<tbody>\n",
              "\t<tr><td>1</td><td>5</td></tr>\n",
              "\t<tr><td>2</td><td>0</td></tr>\n",
              "\t<tr><td>3</td><td>7</td></tr>\n",
              "\t<tr><td>4</td><td>0</td></tr>\n",
              "\t<tr><td>5</td><td>9</td></tr>\n",
              "</tbody>\n",
              "</table>\n"
            ],
            "text/markdown": "\nA data.frame: 5 × 2\n\n| a &lt;int&gt; | b &lt;dbl&gt; |\n|---|---|\n| 1 | 5 |\n| 2 | 0 |\n| 3 | 7 |\n| 4 | 0 |\n| 5 | 9 |\n\n",
            "text/latex": "A data.frame: 5 × 2\n\\begin{tabular}{ll}\n a & b\\\\\n <int> & <dbl>\\\\\n\\hline\n\t 1 & 5\\\\\n\t 2 & 0\\\\\n\t 3 & 7\\\\\n\t 4 & 0\\\\\n\t 5 & 9\\\\\n\\end{tabular}\n",
            "text/plain": [
              "  a b\n",
              "1 1 5\n",
              "2 2 0\n",
              "3 3 7\n",
              "4 4 0\n",
              "5 5 9"
            ]
          },
          "metadata": {}
        }
      ]
    },
    {
      "cell_type": "code",
      "source": [
        "df <- df %>%\n",
        "  mutate(\n",
        "    category = case_when(\n",
        "      a < 3 ~ \"Low\",\n",
        "      a < 5 ~ \"Medium\",\n",
        "      TRUE ~ \"High\"\n",
        "    )\n",
        "  )\n",
        "\n",
        "  df"
      ],
      "metadata": {
        "colab": {
          "base_uri": "https://localhost:8080/",
          "height": 255
        },
        "id": "MROAvboQA5JW",
        "outputId": "7ccce861-a1e3-49ae-8c26-d8f9f7566787"
      },
      "execution_count": 228,
      "outputs": [
        {
          "output_type": "display_data",
          "data": {
            "text/html": [
              "<table class=\"dataframe\">\n",
              "<caption>A data.frame: 5 × 3</caption>\n",
              "<thead>\n",
              "\t<tr><th scope=col>a</th><th scope=col>b</th><th scope=col>category</th></tr>\n",
              "\t<tr><th scope=col>&lt;int&gt;</th><th scope=col>&lt;dbl&gt;</th><th scope=col>&lt;chr&gt;</th></tr>\n",
              "</thead>\n",
              "<tbody>\n",
              "\t<tr><td>1</td><td>5</td><td>Low   </td></tr>\n",
              "\t<tr><td>2</td><td>0</td><td>Low   </td></tr>\n",
              "\t<tr><td>3</td><td>7</td><td>Medium</td></tr>\n",
              "\t<tr><td>4</td><td>0</td><td>Medium</td></tr>\n",
              "\t<tr><td>5</td><td>9</td><td>High  </td></tr>\n",
              "</tbody>\n",
              "</table>\n"
            ],
            "text/markdown": "\nA data.frame: 5 × 3\n\n| a &lt;int&gt; | b &lt;dbl&gt; | category &lt;chr&gt; |\n|---|---|---|\n| 1 | 5 | Low    |\n| 2 | 0 | Low    |\n| 3 | 7 | Medium |\n| 4 | 0 | Medium |\n| 5 | 9 | High   |\n\n",
            "text/latex": "A data.frame: 5 × 3\n\\begin{tabular}{lll}\n a & b & category\\\\\n <int> & <dbl> & <chr>\\\\\n\\hline\n\t 1 & 5 & Low   \\\\\n\t 2 & 0 & Low   \\\\\n\t 3 & 7 & Medium\\\\\n\t 4 & 0 & Medium\\\\\n\t 5 & 9 & High  \\\\\n\\end{tabular}\n",
            "text/plain": [
              "  a b category\n",
              "1 1 5 Low     \n",
              "2 2 0 Low     \n",
              "3 3 7 Medium  \n",
              "4 4 0 Medium  \n",
              "5 5 9 High    "
            ]
          },
          "metadata": {}
        }
      ]
    },
    {
      "cell_type": "markdown",
      "source": [
        "**Operações Agrupadas:**"
      ],
      "metadata": {
        "id": "0ORxc-u5BBBj"
      }
    },
    {
      "cell_type": "code",
      "source": [
        "df <- data.frame(group = c(\"A\", \"A\", \"B\", \"B\"), value = c(10, 15, 20, 25))\n",
        "df"
      ],
      "metadata": {
        "colab": {
          "base_uri": "https://localhost:8080/",
          "height": 241
        },
        "id": "EoqRT57TBB7o",
        "outputId": "a3bf1e43-1f5f-4544-b0cd-c18efc8788de"
      },
      "execution_count": 229,
      "outputs": [
        {
          "output_type": "display_data",
          "data": {
            "text/html": [
              "<table class=\"dataframe\">\n",
              "<caption>A data.frame: 4 × 2</caption>\n",
              "<thead>\n",
              "\t<tr><th scope=col>group</th><th scope=col>value</th></tr>\n",
              "\t<tr><th scope=col>&lt;chr&gt;</th><th scope=col>&lt;dbl&gt;</th></tr>\n",
              "</thead>\n",
              "<tbody>\n",
              "\t<tr><td>A</td><td>10</td></tr>\n",
              "\t<tr><td>A</td><td>15</td></tr>\n",
              "\t<tr><td>B</td><td>20</td></tr>\n",
              "\t<tr><td>B</td><td>25</td></tr>\n",
              "</tbody>\n",
              "</table>\n"
            ],
            "text/markdown": "\nA data.frame: 4 × 2\n\n| group &lt;chr&gt; | value &lt;dbl&gt; |\n|---|---|\n| A | 10 |\n| A | 15 |\n| B | 20 |\n| B | 25 |\n\n",
            "text/latex": "A data.frame: 4 × 2\n\\begin{tabular}{ll}\n group & value\\\\\n <chr> & <dbl>\\\\\n\\hline\n\t A & 10\\\\\n\t A & 15\\\\\n\t B & 20\\\\\n\t B & 25\\\\\n\\end{tabular}\n",
            "text/plain": [
              "  group value\n",
              "1 A     10   \n",
              "2 A     15   \n",
              "3 B     20   \n",
              "4 B     25   "
            ]
          },
          "metadata": {}
        }
      ]
    },
    {
      "cell_type": "code",
      "source": [
        "df <- df %>%\n",
        "  group_by(group) %>%\n",
        "  mutate(mean_value = mean(value)) %>%\n",
        "  ungroup()\n",
        "\n",
        "df"
      ],
      "metadata": {
        "colab": {
          "base_uri": "https://localhost:8080/",
          "height": 224
        },
        "id": "ze7qRDvCBEJ8",
        "outputId": "84a45d14-9980-4fd2-ce7a-60a5bc6fe040"
      },
      "execution_count": 230,
      "outputs": [
        {
          "output_type": "display_data",
          "data": {
            "text/html": [
              "<table class=\"dataframe\">\n",
              "<caption>A tibble: 4 × 3</caption>\n",
              "<thead>\n",
              "\t<tr><th scope=col>group</th><th scope=col>value</th><th scope=col>mean_value</th></tr>\n",
              "\t<tr><th scope=col>&lt;chr&gt;</th><th scope=col>&lt;dbl&gt;</th><th scope=col>&lt;dbl&gt;</th></tr>\n",
              "</thead>\n",
              "<tbody>\n",
              "\t<tr><td>A</td><td>10</td><td>12.5</td></tr>\n",
              "\t<tr><td>A</td><td>15</td><td>12.5</td></tr>\n",
              "\t<tr><td>B</td><td>20</td><td>22.5</td></tr>\n",
              "\t<tr><td>B</td><td>25</td><td>22.5</td></tr>\n",
              "</tbody>\n",
              "</table>\n"
            ],
            "text/markdown": "\nA tibble: 4 × 3\n\n| group &lt;chr&gt; | value &lt;dbl&gt; | mean_value &lt;dbl&gt; |\n|---|---|---|\n| A | 10 | 12.5 |\n| A | 15 | 12.5 |\n| B | 20 | 22.5 |\n| B | 25 | 22.5 |\n\n",
            "text/latex": "A tibble: 4 × 3\n\\begin{tabular}{lll}\n group & value & mean\\_value\\\\\n <chr> & <dbl> & <dbl>\\\\\n\\hline\n\t A & 10 & 12.5\\\\\n\t A & 15 & 12.5\\\\\n\t B & 20 & 22.5\\\\\n\t B & 25 & 22.5\\\\\n\\end{tabular}\n",
            "text/plain": [
              "  group value mean_value\n",
              "1 A     10    12.5      \n",
              "2 A     15    12.5      \n",
              "3 B     20    22.5      \n",
              "4 B     25    22.5      "
            ]
          },
          "metadata": {}
        }
      ]
    },
    {
      "cell_type": "markdown",
      "source": [
        "**Aplicação de Funções Customizadas:**"
      ],
      "metadata": {
        "id": "WpncdrRCBK6U"
      }
    },
    {
      "cell_type": "code",
      "source": [
        "multiply_by_two <- function(x) {\n",
        "  return(x * 2)\n",
        "}\n",
        "df <- df %>%\n",
        "  mutate(double_value = multiply_by_two(value))\n",
        "\n",
        "df"
      ],
      "metadata": {
        "colab": {
          "base_uri": "https://localhost:8080/",
          "height": 224
        },
        "id": "dUqDBbGEBVSX",
        "outputId": "d588702d-4982-4ca1-9191-23ccb8a6ce7d"
      },
      "execution_count": 231,
      "outputs": [
        {
          "output_type": "display_data",
          "data": {
            "text/html": [
              "<table class=\"dataframe\">\n",
              "<caption>A tibble: 4 × 4</caption>\n",
              "<thead>\n",
              "\t<tr><th scope=col>group</th><th scope=col>value</th><th scope=col>mean_value</th><th scope=col>double_value</th></tr>\n",
              "\t<tr><th scope=col>&lt;chr&gt;</th><th scope=col>&lt;dbl&gt;</th><th scope=col>&lt;dbl&gt;</th><th scope=col>&lt;dbl&gt;</th></tr>\n",
              "</thead>\n",
              "<tbody>\n",
              "\t<tr><td>A</td><td>10</td><td>12.5</td><td>20</td></tr>\n",
              "\t<tr><td>A</td><td>15</td><td>12.5</td><td>30</td></tr>\n",
              "\t<tr><td>B</td><td>20</td><td>22.5</td><td>40</td></tr>\n",
              "\t<tr><td>B</td><td>25</td><td>22.5</td><td>50</td></tr>\n",
              "</tbody>\n",
              "</table>\n"
            ],
            "text/markdown": "\nA tibble: 4 × 4\n\n| group &lt;chr&gt; | value &lt;dbl&gt; | mean_value &lt;dbl&gt; | double_value &lt;dbl&gt; |\n|---|---|---|---|\n| A | 10 | 12.5 | 20 |\n| A | 15 | 12.5 | 30 |\n| B | 20 | 22.5 | 40 |\n| B | 25 | 22.5 | 50 |\n\n",
            "text/latex": "A tibble: 4 × 4\n\\begin{tabular}{llll}\n group & value & mean\\_value & double\\_value\\\\\n <chr> & <dbl> & <dbl> & <dbl>\\\\\n\\hline\n\t A & 10 & 12.5 & 20\\\\\n\t A & 15 & 12.5 & 30\\\\\n\t B & 20 & 22.5 & 40\\\\\n\t B & 25 & 22.5 & 50\\\\\n\\end{tabular}\n",
            "text/plain": [
              "  group value mean_value double_value\n",
              "1 A     10    12.5       20          \n",
              "2 A     15    12.5       30          \n",
              "3 B     20    22.5       40          \n",
              "4 B     25    22.5       50          "
            ]
          },
          "metadata": {}
        }
      ]
    },
    {
      "cell_type": "markdown",
      "source": [
        "**Combinações e Operações em Múltiplas Colunas:**"
      ],
      "metadata": {
        "id": "0u0f7MTFBXBT"
      }
    },
    {
      "cell_type": "code",
      "source": [
        "df <- data.frame(a = 1:5, b = 6:10)\n",
        "df"
      ],
      "metadata": {
        "colab": {
          "base_uri": "https://localhost:8080/",
          "height": 272
        },
        "id": "PrqUZOSFBV4p",
        "outputId": "8b6c3100-7b44-4c9c-998d-20e2d337c00e"
      },
      "execution_count": 232,
      "outputs": [
        {
          "output_type": "display_data",
          "data": {
            "text/html": [
              "<table class=\"dataframe\">\n",
              "<caption>A data.frame: 5 × 2</caption>\n",
              "<thead>\n",
              "\t<tr><th scope=col>a</th><th scope=col>b</th></tr>\n",
              "\t<tr><th scope=col>&lt;int&gt;</th><th scope=col>&lt;int&gt;</th></tr>\n",
              "</thead>\n",
              "<tbody>\n",
              "\t<tr><td>1</td><td> 6</td></tr>\n",
              "\t<tr><td>2</td><td> 7</td></tr>\n",
              "\t<tr><td>3</td><td> 8</td></tr>\n",
              "\t<tr><td>4</td><td> 9</td></tr>\n",
              "\t<tr><td>5</td><td>10</td></tr>\n",
              "</tbody>\n",
              "</table>\n"
            ],
            "text/markdown": "\nA data.frame: 5 × 2\n\n| a &lt;int&gt; | b &lt;int&gt; |\n|---|---|\n| 1 |  6 |\n| 2 |  7 |\n| 3 |  8 |\n| 4 |  9 |\n| 5 | 10 |\n\n",
            "text/latex": "A data.frame: 5 × 2\n\\begin{tabular}{ll}\n a & b\\\\\n <int> & <int>\\\\\n\\hline\n\t 1 &  6\\\\\n\t 2 &  7\\\\\n\t 3 &  8\\\\\n\t 4 &  9\\\\\n\t 5 & 10\\\\\n\\end{tabular}\n",
            "text/plain": [
              "  a b \n",
              "1 1  6\n",
              "2 2  7\n",
              "3 3  8\n",
              "4 4  9\n",
              "5 5 10"
            ]
          },
          "metadata": {}
        }
      ]
    },
    {
      "cell_type": "code",
      "source": [
        "df <- df %>%\n",
        "  mutate(\n",
        "    total = a + b,\n",
        "    ratio = a / b\n",
        "  )\n",
        "\n",
        "df"
      ],
      "metadata": {
        "colab": {
          "base_uri": "https://localhost:8080/",
          "height": 255
        },
        "id": "xjgmck1gBjTh",
        "outputId": "41f78cd8-7c1c-48d2-f114-d6250ac4c9f0"
      },
      "execution_count": 233,
      "outputs": [
        {
          "output_type": "display_data",
          "data": {
            "text/html": [
              "<table class=\"dataframe\">\n",
              "<caption>A data.frame: 5 × 4</caption>\n",
              "<thead>\n",
              "\t<tr><th scope=col>a</th><th scope=col>b</th><th scope=col>total</th><th scope=col>ratio</th></tr>\n",
              "\t<tr><th scope=col>&lt;int&gt;</th><th scope=col>&lt;int&gt;</th><th scope=col>&lt;int&gt;</th><th scope=col>&lt;dbl&gt;</th></tr>\n",
              "</thead>\n",
              "<tbody>\n",
              "\t<tr><td>1</td><td> 6</td><td> 7</td><td>0.1666667</td></tr>\n",
              "\t<tr><td>2</td><td> 7</td><td> 9</td><td>0.2857143</td></tr>\n",
              "\t<tr><td>3</td><td> 8</td><td>11</td><td>0.3750000</td></tr>\n",
              "\t<tr><td>4</td><td> 9</td><td>13</td><td>0.4444444</td></tr>\n",
              "\t<tr><td>5</td><td>10</td><td>15</td><td>0.5000000</td></tr>\n",
              "</tbody>\n",
              "</table>\n"
            ],
            "text/markdown": "\nA data.frame: 5 × 4\n\n| a &lt;int&gt; | b &lt;int&gt; | total &lt;int&gt; | ratio &lt;dbl&gt; |\n|---|---|---|---|\n| 1 |  6 |  7 | 0.1666667 |\n| 2 |  7 |  9 | 0.2857143 |\n| 3 |  8 | 11 | 0.3750000 |\n| 4 |  9 | 13 | 0.4444444 |\n| 5 | 10 | 15 | 0.5000000 |\n\n",
            "text/latex": "A data.frame: 5 × 4\n\\begin{tabular}{llll}\n a & b & total & ratio\\\\\n <int> & <int> & <int> & <dbl>\\\\\n\\hline\n\t 1 &  6 &  7 & 0.1666667\\\\\n\t 2 &  7 &  9 & 0.2857143\\\\\n\t 3 &  8 & 11 & 0.3750000\\\\\n\t 4 &  9 & 13 & 0.4444444\\\\\n\t 5 & 10 & 15 & 0.5000000\\\\\n\\end{tabular}\n",
            "text/plain": [
              "  a b  total ratio    \n",
              "1 1  6  7    0.1666667\n",
              "2 2  7  9    0.2857143\n",
              "3 3  8 11    0.3750000\n",
              "4 4  9 13    0.4444444\n",
              "5 5 10 15    0.5000000"
            ]
          },
          "metadata": {}
        }
      ]
    },
    {
      "cell_type": "markdown",
      "source": [
        "**Manipulação de Strings:**"
      ],
      "metadata": {
        "id": "bSHxpxyFBnmb"
      }
    },
    {
      "cell_type": "code",
      "source": [
        "df <- data.frame(name = c(\"Alice\", \"Bob\", \"Charlie\"))\n",
        "df"
      ],
      "metadata": {
        "colab": {
          "base_uri": "https://localhost:8080/",
          "height": 227
        },
        "id": "VQNw3xL5BkFY",
        "outputId": "dfb736cf-53a8-4dad-9ad1-3edec801062b"
      },
      "execution_count": 234,
      "outputs": [
        {
          "output_type": "display_data",
          "data": {
            "text/html": [
              "<table class=\"dataframe\">\n",
              "<caption>A data.frame: 3 × 1</caption>\n",
              "<thead>\n",
              "\t<tr><th scope=col>name</th></tr>\n",
              "\t<tr><th scope=col>&lt;chr&gt;</th></tr>\n",
              "</thead>\n",
              "<tbody>\n",
              "\t<tr><td>Alice  </td></tr>\n",
              "\t<tr><td>Bob    </td></tr>\n",
              "\t<tr><td>Charlie</td></tr>\n",
              "</tbody>\n",
              "</table>\n"
            ],
            "text/markdown": "\nA data.frame: 3 × 1\n\n| name &lt;chr&gt; |\n|---|\n| Alice   |\n| Bob     |\n| Charlie |\n\n",
            "text/latex": "A data.frame: 3 × 1\n\\begin{tabular}{l}\n name\\\\\n <chr>\\\\\n\\hline\n\t Alice  \\\\\n\t Bob    \\\\\n\t Charlie\\\\\n\\end{tabular}\n",
            "text/plain": [
              "  name   \n",
              "1 Alice  \n",
              "2 Bob    \n",
              "3 Charlie"
            ]
          },
          "metadata": {}
        }
      ]
    },
    {
      "cell_type": "code",
      "source": [
        "df <- df %>%\n",
        "  mutate(\n",
        "    name_upper = toupper(name),\n",
        "    name_length = nchar(name)\n",
        "  )\n",
        "\n",
        "df"
      ],
      "metadata": {
        "colab": {
          "base_uri": "https://localhost:8080/",
          "height": 192
        },
        "id": "xF0CkVkTBtBB",
        "outputId": "ed1823fe-42bd-4d80-efb6-5ee95b327d58"
      },
      "execution_count": 235,
      "outputs": [
        {
          "output_type": "display_data",
          "data": {
            "text/html": [
              "<table class=\"dataframe\">\n",
              "<caption>A data.frame: 3 × 3</caption>\n",
              "<thead>\n",
              "\t<tr><th scope=col>name</th><th scope=col>name_upper</th><th scope=col>name_length</th></tr>\n",
              "\t<tr><th scope=col>&lt;chr&gt;</th><th scope=col>&lt;chr&gt;</th><th scope=col>&lt;int&gt;</th></tr>\n",
              "</thead>\n",
              "<tbody>\n",
              "\t<tr><td>Alice  </td><td>ALICE  </td><td>5</td></tr>\n",
              "\t<tr><td>Bob    </td><td>BOB    </td><td>3</td></tr>\n",
              "\t<tr><td>Charlie</td><td>CHARLIE</td><td>7</td></tr>\n",
              "</tbody>\n",
              "</table>\n"
            ],
            "text/markdown": "\nA data.frame: 3 × 3\n\n| name &lt;chr&gt; | name_upper &lt;chr&gt; | name_length &lt;int&gt; |\n|---|---|---|\n| Alice   | ALICE   | 5 |\n| Bob     | BOB     | 3 |\n| Charlie | CHARLIE | 7 |\n\n",
            "text/latex": "A data.frame: 3 × 3\n\\begin{tabular}{lll}\n name & name\\_upper & name\\_length\\\\\n <chr> & <chr> & <int>\\\\\n\\hline\n\t Alice   & ALICE   & 5\\\\\n\t Bob     & BOB     & 3\\\\\n\t Charlie & CHARLIE & 7\\\\\n\\end{tabular}\n",
            "text/plain": [
              "  name    name_upper name_length\n",
              "1 Alice   ALICE      5          \n",
              "2 Bob     BOB        3          \n",
              "3 Charlie CHARLIE    7          "
            ]
          },
          "metadata": {}
        }
      ]
    },
    {
      "cell_type": "markdown",
      "source": [
        "**Desafio**\n",
        "\n",
        "Calcular a média do tempo de entrega dos pedidos\n",
        "\n",
        "**Solução**\n",
        "\n",
        "Usar a função summarize que consegue calcular a média e a mediana dos dados"
      ],
      "metadata": {
        "id": "Xc5uGAs0EPrC"
      }
    },
    {
      "cell_type": "markdown",
      "source": [
        "**Calculando o tempo da entrega de cada um dos pedidos**"
      ],
      "metadata": {
        "id": "lfTBHY-PEfUv"
      }
    },
    {
      "cell_type": "code",
      "source": [
        "pedidos %>%\n",
        "  mutate(\n",
        "  DataPedido = as.Date(DataPedido),\n",
        "  DataEntrega = as.Date(DataEntrega),\n",
        "  TempoEntrega = as.numeric(difftime(DataEntrega, DataPedido, units = \"days\"))\n",
        "  )"
      ],
      "metadata": {
        "colab": {
          "base_uri": "https://localhost:8080/",
          "height": 1000
        },
        "id": "sSaepwhkElNu",
        "outputId": "cc565400-0a20-4ff7-f0a0-aff3ae1e1c6c"
      },
      "execution_count": 236,
      "outputs": [
        {
          "output_type": "display_data",
          "data": {
            "text/html": [
              "<table class=\"dataframe\">\n",
              "<caption>A tibble: 220 × 10</caption>\n",
              "<thead>\n",
              "\t<tr><th scope=col>PedidoID</th><th scope=col>ClienteID</th><th scope=col>DataPedido</th><th scope=col>DataEntrega</th><th scope=col>Status</th><th scope=col>ValorTotal</th><th scope=col>TransportadorID</th><th scope=col>Regiao</th><th scope=col>EnderecoPedido</th><th scope=col>TempoEntrega</th></tr>\n",
              "\t<tr><th scope=col>&lt;dbl&gt;</th><th scope=col>&lt;dbl&gt;</th><th scope=col>&lt;date&gt;</th><th scope=col>&lt;date&gt;</th><th scope=col>&lt;chr&gt;</th><th scope=col>&lt;dbl&gt;</th><th scope=col>&lt;dbl&gt;</th><th scope=col>&lt;chr&gt;</th><th scope=col>&lt;chr&gt;</th><th scope=col>&lt;dbl&gt;</th></tr>\n",
              "</thead>\n",
              "<tbody>\n",
              "\t<tr><td>101</td><td>14</td><td>2024-07-01</td><td>2024-07-14</td><td>Entregue   </td><td>1895.15</td><td> 2</td><td>Sudeste     </td><td>Travessa das Palmeiras, 789, Savassi, Belo Horizonte, 30100-000</td><td>13</td></tr>\n",
              "\t<tr><td>102</td><td>12</td><td>2024-07-02</td><td>2024-07-12</td><td>Entregue   </td><td>2827.16</td><td> 2</td><td>Sudeste     </td><td>Avenida Paulista, 456, Bela Vista, São Paulo, 01300-000        </td><td>10</td></tr>\n",
              "\t<tr><td>103</td><td> 3</td><td>2024-07-03</td><td>2024-07-22</td><td>Entregue   </td><td>2576.52</td><td> 2</td><td>Norte       </td><td>Rua das Flores, 123, Centro, Manaus, 69000-000                 </td><td>19</td></tr>\n",
              "\t<tr><td>104</td><td> 7</td><td>2024-07-04</td><td>2024-07-21</td><td>Entregue   </td><td>2820.98</td><td> 2</td><td>Sul         </td><td>Travessa das Hortênsias, 789, Centro, Florianópolis, 88000-000 </td><td>17</td></tr>\n",
              "\t<tr><td>105</td><td>20</td><td>2024-07-05</td><td>2024-07-19</td><td>Entregue   </td><td>2693.72</td><td> 2</td><td>Sudeste     </td><td>Travessa das Palmeiras, 789, Savassi, Belo Horizonte, 30100-000</td><td>14</td></tr>\n",
              "\t<tr><td>106</td><td> 9</td><td>2024-07-06</td><td>2024-07-25</td><td>Entregue   </td><td>2405.18</td><td> 2</td><td>Norte       </td><td>Rua das Flores, 123, Centro, Manaus, 69000-000                 </td><td>19</td></tr>\n",
              "\t<tr><td>107</td><td> 6</td><td>2024-07-07</td><td>2024-07-18</td><td>Entregue   </td><td>1780.62</td><td> 2</td><td>Norte       </td><td>Rua das Flores, 123, Centro, Manaus, 69000-000                 </td><td>11</td></tr>\n",
              "\t<tr><td>108</td><td>12</td><td>2024-07-08</td><td>2024-07-21</td><td>Entregue   </td><td>2838.51</td><td> 2</td><td>Sul         </td><td>Avenida Farrapos, 456, Floresta, Porto Alegre, 90200-000       </td><td>13</td></tr>\n",
              "\t<tr><td>109</td><td> 8</td><td>2024-07-09</td><td>2024-07-25</td><td>Entregue   </td><td>1807.53</td><td> 1</td><td>Centro-Oeste</td><td>Travessa dos Buritis, 789, Jardim Goiás, Cuiabá, 78000-000     </td><td>16</td></tr>\n",
              "\t<tr><td>110</td><td>16</td><td>2024-07-10</td><td>NA</td><td>Em trânsito</td><td>2771.25</td><td> 1</td><td>Sudeste     </td><td>Travessa das Palmeiras, 789, Savassi, Belo Horizonte, 30100-000</td><td>NA</td></tr>\n",
              "\t<tr><td>111</td><td>14</td><td>2024-07-11</td><td>2024-07-24</td><td>Entregue   </td><td>1833.60</td><td> 2</td><td>Sudeste     </td><td>Avenida Paulista, 456, Bela Vista, São Paulo, 01300-000        </td><td>13</td></tr>\n",
              "\t<tr><td>112</td><td>13</td><td>2024-07-12</td><td>2024-07-29</td><td>Entregue   </td><td>2843.38</td><td> 2</td><td>Nordeste    </td><td>Avenida Atlântica, 456, Meireles, Fortaleza, 60100-000         </td><td>17</td></tr>\n",
              "\t<tr><td>113</td><td> 3</td><td>2024-07-13</td><td>2024-07-30</td><td>Entregue   </td><td>2444.73</td><td> 1</td><td>Centro-Oeste</td><td>Avenida Brasília, 456, Asa Norte, Brasília, 70000-000          </td><td>17</td></tr>\n",
              "\t<tr><td>114</td><td> 1</td><td>2024-07-14</td><td>2024-07-28</td><td>Entregue   </td><td>2565.20</td><td> 1</td><td>Centro-Oeste</td><td>Avenida Brasília, 456, Asa Norte, Brasília, 70000-000          </td><td>14</td></tr>\n",
              "\t<tr><td>115</td><td> 8</td><td>2024-07-15</td><td>2024-07-26</td><td>Entregue   </td><td>2537.74</td><td> 2</td><td>Sul         </td><td>Avenida Farrapos, 456, Floresta, Porto Alegre, 90200-000       </td><td>11</td></tr>\n",
              "\t<tr><td>116</td><td>19</td><td>2024-07-16</td><td>NA</td><td>Em trânsito</td><td>2719.95</td><td> 2</td><td>Centro-Oeste</td><td>Travessa dos Buritis, 789, Jardim Goiás, Cuiabá, 78000-000     </td><td>NA</td></tr>\n",
              "\t<tr><td>117</td><td>10</td><td>2024-07-17</td><td>NA</td><td>Pendente   </td><td>1906.17</td><td> 1</td><td>Centro-Oeste</td><td>Travessa dos Buritis, 789, Jardim Goiás, Cuiabá, 78000-000     </td><td>NA</td></tr>\n",
              "\t<tr><td>118</td><td>19</td><td>2024-07-18</td><td>2024-08-01</td><td>Entregue   </td><td>2412.58</td><td> 1</td><td>Norte       </td><td>Rua das Flores, 123, Centro, Manaus, 69000-000                 </td><td>14</td></tr>\n",
              "\t<tr><td>119</td><td> 7</td><td>2024-07-19</td><td>NA</td><td>Pendente   </td><td>2225.66</td><td> 2</td><td>Nordeste    </td><td>Travessa dos Coqueiros, 789, Boa Viagem, Recife, 51000-000     </td><td>NA</td></tr>\n",
              "\t<tr><td>120</td><td> 9</td><td>2024-07-20</td><td>2024-08-01</td><td>Entregue   </td><td>2072.44</td><td> 2</td><td>Sul         </td><td>Travessa das Hortênsias, 789, Centro, Florianópolis, 88000-000 </td><td>12</td></tr>\n",
              "\t<tr><td>121</td><td>13</td><td>2024-08-01</td><td>2024-08-12</td><td>Entregue   </td><td>2864.81</td><td> 1</td><td>Sul         </td><td>Avenida Farrapos, 456, Floresta, Porto Alegre, 90200-000       </td><td>11</td></tr>\n",
              "\t<tr><td>122</td><td> 7</td><td>2024-08-02</td><td>2024-08-10</td><td>Entregue   </td><td>1633.88</td><td> 1</td><td>Sudeste     </td><td>Avenida Paulista, 456, Bela Vista, São Paulo, 01300-000        </td><td> 8</td></tr>\n",
              "\t<tr><td>123</td><td>16</td><td>2024-08-03</td><td>2024-08-17</td><td>Entregue   </td><td>1773.82</td><td> 2</td><td>Norte       </td><td>Avenida Amazonas, 456, Aparecida, Belém, 66000-000             </td><td>14</td></tr>\n",
              "\t<tr><td>124</td><td> 3</td><td>2024-08-04</td><td>2024-08-22</td><td>Entregue   </td><td>2156.37</td><td> 1</td><td>Norte       </td><td>Rua das Flores, 123, Centro, Manaus, 69000-000                 </td><td>18</td></tr>\n",
              "\t<tr><td>125</td><td> 9</td><td>2024-08-05</td><td>2024-08-25</td><td>Entregue   </td><td>2738.80</td><td> 1</td><td>Sudeste     </td><td>Travessa das Palmeiras, 789, Savassi, Belo Horizonte, 30100-000</td><td>20</td></tr>\n",
              "\t<tr><td>126</td><td>20</td><td>2024-08-06</td><td>NA</td><td>Em trânsito</td><td>2088.74</td><td>NA</td><td>Sudeste     </td><td>Rua da Praia, 123, Copacabana, Rio de Janeiro, 22000-000       </td><td>NA</td></tr>\n",
              "\t<tr><td>127</td><td>19</td><td>2024-08-07</td><td>2024-08-15</td><td>Entregue   </td><td>2648.28</td><td> 2</td><td>Sul         </td><td>Avenida Farrapos, 456, Floresta, Porto Alegre, 90200-000       </td><td> 8</td></tr>\n",
              "\t<tr><td>128</td><td> 9</td><td>2024-08-08</td><td>2024-08-26</td><td>Entregue   </td><td>2556.64</td><td> 1</td><td>Sul         </td><td>Travessa das Hortênsias, 789, Centro, Florianópolis, 88000-000 </td><td>18</td></tr>\n",
              "\t<tr><td>129</td><td> 7</td><td>2024-08-09</td><td>2024-08-20</td><td>Entregue   </td><td>2469.90</td><td> 1</td><td>Norte       </td><td>Rua das Flores, 123, Centro, Manaus, 69000-000                 </td><td>11</td></tr>\n",
              "\t<tr><td>130</td><td>12</td><td>2024-08-10</td><td>2024-08-17</td><td>Entregue   </td><td>2097.04</td><td> 1</td><td>Sudeste     </td><td>Avenida Paulista, 456, Bela Vista, São Paulo, 01300-000        </td><td> 7</td></tr>\n",
              "\t<tr><td>⋮</td><td>⋮</td><td>⋮</td><td>⋮</td><td>⋮</td><td>⋮</td><td>⋮</td><td>⋮</td><td>⋮</td><td>⋮</td></tr>\n",
              "\t<tr><td>291</td><td>13</td><td>2024-10-10</td><td>NA</td><td>Pendente   </td><td>1867.62</td><td> 1</td><td>Sul         </td><td>Rua das Araucárias, 123, Centro, Curitiba, 80000-000            </td><td>NA</td></tr>\n",
              "\t<tr><td>292</td><td> 1</td><td>2024-10-11</td><td>2024-10-24</td><td>Entregue   </td><td>1822.29</td><td> 2</td><td>Sudeste     </td><td>Travessa das Palmeiras, 789, Savassi, Belo Horizonte, 30100-000 </td><td>13</td></tr>\n",
              "\t<tr><td>293</td><td>19</td><td>2024-10-12</td><td>2024-10-29</td><td>Entregue   </td><td>1587.99</td><td> 1</td><td>Sul         </td><td>Avenida Farrapos, 456, Floresta, Porto Alegre, 90200-000        </td><td>17</td></tr>\n",
              "\t<tr><td>294</td><td>20</td><td>2024-10-13</td><td>NA</td><td>Em trânsito</td><td>2473.05</td><td> 1</td><td>Sudeste     </td><td>Avenida Paulista, 456, Bela Vista, São Paulo, 01300-000         </td><td>NA</td></tr>\n",
              "\t<tr><td>295</td><td>12</td><td>2024-10-14</td><td>2024-10-26</td><td>Entregue   </td><td>2753.36</td><td> 2</td><td>Sudeste     </td><td>Travessa das Palmeiras, 789, Savassi, Belo Horizonte, 30100-000 </td><td>12</td></tr>\n",
              "\t<tr><td>296</td><td>19</td><td>2024-10-15</td><td>2024-11-02</td><td>Entregue   </td><td>2617.37</td><td> 2</td><td>Sul         </td><td>Travessa das Hortênsias, 789, Centro, Florianópolis, 88000-000  </td><td>18</td></tr>\n",
              "\t<tr><td>297</td><td> 7</td><td>2024-10-16</td><td>NA</td><td>Pendente   </td><td>2227.15</td><td> 1</td><td>Sul         </td><td>Avenida Farrapos, 456, Floresta, Porto Alegre, 90200-000        </td><td>NA</td></tr>\n",
              "\t<tr><td>298</td><td>14</td><td>2024-10-17</td><td>NA</td><td>Em trânsito</td><td>1643.75</td><td> 1</td><td>Sudeste     </td><td>Travessa das Palmeiras, 789, Savassi, Belo Horizonte, 30100-000 </td><td>NA</td></tr>\n",
              "\t<tr><td>299</td><td>14</td><td>2024-10-18</td><td>2024-11-06</td><td>Entregue   </td><td>2880.21</td><td> 1</td><td>Norte       </td><td>Rua das Flores, 123, Centro, Manaus, 69000-000                  </td><td>19</td></tr>\n",
              "\t<tr><td>300</td><td>14</td><td>2024-10-19</td><td>2024-11-08</td><td>Entregue   </td><td>2540.39</td><td> 1</td><td>Sudeste     </td><td>Avenida Paulista, 456, Bela Vista, São Paulo, 01300-000         </td><td>20</td></tr>\n",
              "\t<tr><td>301</td><td>20</td><td>2024-10-20</td><td>2024-11-04</td><td>Entregue   </td><td>1541.21</td><td> 2</td><td>Sul         </td><td>Rua das Araucárias, 123, Centro, Curitiba, 80000-000            </td><td>15</td></tr>\n",
              "\t<tr><td>302</td><td>12</td><td>2024-10-21</td><td>NA</td><td>Em trânsito</td><td>2185.62</td><td>NA</td><td>Norte       </td><td>Travessa dos Açaizeiros, 789, Cidade Nova, Rio Branco, 69900-000</td><td>NA</td></tr>\n",
              "\t<tr><td>303</td><td>12</td><td>2024-10-22</td><td>2024-11-03</td><td>Entregue   </td><td>2689.35</td><td> 2</td><td>Sul         </td><td>Avenida Farrapos, 456, Floresta, Porto Alegre, 90200-000        </td><td>12</td></tr>\n",
              "\t<tr><td>304</td><td> 8</td><td>2024-10-23</td><td>2024-11-10</td><td>Entregue   </td><td>2659.26</td><td> 1</td><td>Sul         </td><td>Avenida Farrapos, 456, Floresta, Porto Alegre, 90200-000        </td><td>18</td></tr>\n",
              "\t<tr><td>305</td><td> 7</td><td>2024-10-24</td><td>2024-11-11</td><td>Entregue   </td><td>2911.12</td><td> 2</td><td>Sul         </td><td>Avenida Farrapos, 456, Floresta, Porto Alegre, 90200-000        </td><td>18</td></tr>\n",
              "\t<tr><td>306</td><td>16</td><td>2024-10-25</td><td>2024-11-12</td><td>Entregue   </td><td>1596.62</td><td> 2</td><td>Sul         </td><td>Avenida Farrapos, 456, Floresta, Porto Alegre, 90200-000        </td><td>18</td></tr>\n",
              "\t<tr><td>307</td><td> 9</td><td>2024-10-26</td><td>2024-11-13</td><td>Entregue   </td><td>2653.44</td><td>NA</td><td>Nordeste    </td><td>Travessa dos Coqueiros, 789, Boa Viagem, Recife, 51000-000      </td><td>18</td></tr>\n",
              "\t<tr><td>308</td><td> 9</td><td>2024-10-27</td><td>2024-11-06</td><td>Entregue   </td><td>2994.95</td><td>NA</td><td>Sudeste     </td><td>Travessa das Palmeiras, 789, Savassi, Belo Horizonte, 30100-000 </td><td>10</td></tr>\n",
              "\t<tr><td>309</td><td>13</td><td>2024-10-28</td><td>2024-11-17</td><td>Entregue   </td><td>1735.89</td><td>NA</td><td>Sudeste     </td><td>Avenida Paulista, 456, Bela Vista, São Paulo, 01300-000         </td><td>20</td></tr>\n",
              "\t<tr><td>310</td><td>20</td><td>2024-10-29</td><td>NA</td><td>Em trânsito</td><td>2656.30</td><td>NA</td><td>Sul         </td><td>Rua das Araucárias, 123, Centro, Curitiba, 80000-000            </td><td>NA</td></tr>\n",
              "\t<tr><td>311</td><td>14</td><td>2024-10-30</td><td>NA</td><td>Em trânsito</td><td>2166.87</td><td>NA</td><td>Centro-Oeste</td><td>Rua das Palmeiras, 123, Setor Oeste, Goiânia, 74000-000         </td><td>NA</td></tr>\n",
              "\t<tr><td>312</td><td>19</td><td>2024-10-31</td><td>2024-11-16</td><td>Entregue   </td><td>2253.37</td><td> 1</td><td>Sul         </td><td>Travessa das Hortênsias, 789, Centro, Florianópolis, 88000-000  </td><td>16</td></tr>\n",
              "\t<tr><td>313</td><td>13</td><td>2024-11-01</td><td>2024-11-14</td><td>Entregue   </td><td>1906.61</td><td> 2</td><td>Sudeste     </td><td>Travessa das Palmeiras, 789, Savassi, Belo Horizonte, 30100-000 </td><td>13</td></tr>\n",
              "\t<tr><td>314</td><td>19</td><td>2024-11-02</td><td>2024-11-20</td><td>Entregue   </td><td>1939.13</td><td> 1</td><td>Sul         </td><td>Avenida Farrapos, 456, Floresta, Porto Alegre, 90200-000        </td><td>18</td></tr>\n",
              "\t<tr><td>315</td><td> 8</td><td>2024-11-03</td><td>2024-11-18</td><td>Entregue   </td><td>1675.29</td><td>NA</td><td>Nordeste    </td><td>Travessa dos Coqueiros, 789, Boa Viagem, Recife, 51000-000      </td><td>15</td></tr>\n",
              "\t<tr><td>316</td><td>13</td><td>2024-11-04</td><td>2024-11-17</td><td>Entregue   </td><td>1538.44</td><td>NA</td><td>Sudeste     </td><td>Rua da Praia, 123, Copacabana, Rio de Janeiro, 22000-000        </td><td>13</td></tr>\n",
              "\t<tr><td>317</td><td> 7</td><td>2024-11-05</td><td>2024-11-25</td><td>Entregue   </td><td>2299.57</td><td>NA</td><td>Sudeste     </td><td>Rua da Praia, 123, Copacabana, Rio de Janeiro, 22000-000        </td><td>20</td></tr>\n",
              "\t<tr><td>318</td><td>12</td><td>2024-11-06</td><td>2024-11-13</td><td>Entregue   </td><td>2338.71</td><td>NA</td><td>Sul         </td><td>Avenida Farrapos, 456, Floresta, Porto Alegre, 90200-000        </td><td> 7</td></tr>\n",
              "\t<tr><td>319</td><td> 1</td><td>2024-11-07</td><td>NA</td><td>Pendente   </td><td>1590.16</td><td> 2</td><td>Sul         </td><td>Travessa das Hortênsias, 789, Centro, Florianópolis, 88000-000  </td><td>NA</td></tr>\n",
              "\t<tr><td>320</td><td>16</td><td>2024-11-08</td><td>2024-11-23</td><td>Entregue   </td><td>2920.97</td><td>NA</td><td>Sudeste     </td><td>Travessa das Palmeiras, 789, Savassi, Belo Horizonte, 30100-000 </td><td>15</td></tr>\n",
              "</tbody>\n",
              "</table>\n"
            ],
            "text/markdown": "\nA tibble: 220 × 10\n\n| PedidoID &lt;dbl&gt; | ClienteID &lt;dbl&gt; | DataPedido &lt;date&gt; | DataEntrega &lt;date&gt; | Status &lt;chr&gt; | ValorTotal &lt;dbl&gt; | TransportadorID &lt;dbl&gt; | Regiao &lt;chr&gt; | EnderecoPedido &lt;chr&gt; | TempoEntrega &lt;dbl&gt; |\n|---|---|---|---|---|---|---|---|---|---|\n| 101 | 14 | 2024-07-01 | 2024-07-14 | Entregue    | 1895.15 |  2 | Sudeste      | Travessa das Palmeiras, 789, Savassi, Belo Horizonte, 30100-000 | 13 |\n| 102 | 12 | 2024-07-02 | 2024-07-12 | Entregue    | 2827.16 |  2 | Sudeste      | Avenida Paulista, 456, Bela Vista, São Paulo, 01300-000         | 10 |\n| 103 |  3 | 2024-07-03 | 2024-07-22 | Entregue    | 2576.52 |  2 | Norte        | Rua das Flores, 123, Centro, Manaus, 69000-000                  | 19 |\n| 104 |  7 | 2024-07-04 | 2024-07-21 | Entregue    | 2820.98 |  2 | Sul          | Travessa das Hortênsias, 789, Centro, Florianópolis, 88000-000  | 17 |\n| 105 | 20 | 2024-07-05 | 2024-07-19 | Entregue    | 2693.72 |  2 | Sudeste      | Travessa das Palmeiras, 789, Savassi, Belo Horizonte, 30100-000 | 14 |\n| 106 |  9 | 2024-07-06 | 2024-07-25 | Entregue    | 2405.18 |  2 | Norte        | Rua das Flores, 123, Centro, Manaus, 69000-000                  | 19 |\n| 107 |  6 | 2024-07-07 | 2024-07-18 | Entregue    | 1780.62 |  2 | Norte        | Rua das Flores, 123, Centro, Manaus, 69000-000                  | 11 |\n| 108 | 12 | 2024-07-08 | 2024-07-21 | Entregue    | 2838.51 |  2 | Sul          | Avenida Farrapos, 456, Floresta, Porto Alegre, 90200-000        | 13 |\n| 109 |  8 | 2024-07-09 | 2024-07-25 | Entregue    | 1807.53 |  1 | Centro-Oeste | Travessa dos Buritis, 789, Jardim Goiás, Cuiabá, 78000-000      | 16 |\n| 110 | 16 | 2024-07-10 | NA | Em trânsito | 2771.25 |  1 | Sudeste      | Travessa das Palmeiras, 789, Savassi, Belo Horizonte, 30100-000 | NA |\n| 111 | 14 | 2024-07-11 | 2024-07-24 | Entregue    | 1833.60 |  2 | Sudeste      | Avenida Paulista, 456, Bela Vista, São Paulo, 01300-000         | 13 |\n| 112 | 13 | 2024-07-12 | 2024-07-29 | Entregue    | 2843.38 |  2 | Nordeste     | Avenida Atlântica, 456, Meireles, Fortaleza, 60100-000          | 17 |\n| 113 |  3 | 2024-07-13 | 2024-07-30 | Entregue    | 2444.73 |  1 | Centro-Oeste | Avenida Brasília, 456, Asa Norte, Brasília, 70000-000           | 17 |\n| 114 |  1 | 2024-07-14 | 2024-07-28 | Entregue    | 2565.20 |  1 | Centro-Oeste | Avenida Brasília, 456, Asa Norte, Brasília, 70000-000           | 14 |\n| 115 |  8 | 2024-07-15 | 2024-07-26 | Entregue    | 2537.74 |  2 | Sul          | Avenida Farrapos, 456, Floresta, Porto Alegre, 90200-000        | 11 |\n| 116 | 19 | 2024-07-16 | NA | Em trânsito | 2719.95 |  2 | Centro-Oeste | Travessa dos Buritis, 789, Jardim Goiás, Cuiabá, 78000-000      | NA |\n| 117 | 10 | 2024-07-17 | NA | Pendente    | 1906.17 |  1 | Centro-Oeste | Travessa dos Buritis, 789, Jardim Goiás, Cuiabá, 78000-000      | NA |\n| 118 | 19 | 2024-07-18 | 2024-08-01 | Entregue    | 2412.58 |  1 | Norte        | Rua das Flores, 123, Centro, Manaus, 69000-000                  | 14 |\n| 119 |  7 | 2024-07-19 | NA | Pendente    | 2225.66 |  2 | Nordeste     | Travessa dos Coqueiros, 789, Boa Viagem, Recife, 51000-000      | NA |\n| 120 |  9 | 2024-07-20 | 2024-08-01 | Entregue    | 2072.44 |  2 | Sul          | Travessa das Hortênsias, 789, Centro, Florianópolis, 88000-000  | 12 |\n| 121 | 13 | 2024-08-01 | 2024-08-12 | Entregue    | 2864.81 |  1 | Sul          | Avenida Farrapos, 456, Floresta, Porto Alegre, 90200-000        | 11 |\n| 122 |  7 | 2024-08-02 | 2024-08-10 | Entregue    | 1633.88 |  1 | Sudeste      | Avenida Paulista, 456, Bela Vista, São Paulo, 01300-000         |  8 |\n| 123 | 16 | 2024-08-03 | 2024-08-17 | Entregue    | 1773.82 |  2 | Norte        | Avenida Amazonas, 456, Aparecida, Belém, 66000-000              | 14 |\n| 124 |  3 | 2024-08-04 | 2024-08-22 | Entregue    | 2156.37 |  1 | Norte        | Rua das Flores, 123, Centro, Manaus, 69000-000                  | 18 |\n| 125 |  9 | 2024-08-05 | 2024-08-25 | Entregue    | 2738.80 |  1 | Sudeste      | Travessa das Palmeiras, 789, Savassi, Belo Horizonte, 30100-000 | 20 |\n| 126 | 20 | 2024-08-06 | NA | Em trânsito | 2088.74 | NA | Sudeste      | Rua da Praia, 123, Copacabana, Rio de Janeiro, 22000-000        | NA |\n| 127 | 19 | 2024-08-07 | 2024-08-15 | Entregue    | 2648.28 |  2 | Sul          | Avenida Farrapos, 456, Floresta, Porto Alegre, 90200-000        |  8 |\n| 128 |  9 | 2024-08-08 | 2024-08-26 | Entregue    | 2556.64 |  1 | Sul          | Travessa das Hortênsias, 789, Centro, Florianópolis, 88000-000  | 18 |\n| 129 |  7 | 2024-08-09 | 2024-08-20 | Entregue    | 2469.90 |  1 | Norte        | Rua das Flores, 123, Centro, Manaus, 69000-000                  | 11 |\n| 130 | 12 | 2024-08-10 | 2024-08-17 | Entregue    | 2097.04 |  1 | Sudeste      | Avenida Paulista, 456, Bela Vista, São Paulo, 01300-000         |  7 |\n| ⋮ | ⋮ | ⋮ | ⋮ | ⋮ | ⋮ | ⋮ | ⋮ | ⋮ | ⋮ |\n| 291 | 13 | 2024-10-10 | NA | Pendente    | 1867.62 |  1 | Sul          | Rua das Araucárias, 123, Centro, Curitiba, 80000-000             | NA |\n| 292 |  1 | 2024-10-11 | 2024-10-24 | Entregue    | 1822.29 |  2 | Sudeste      | Travessa das Palmeiras, 789, Savassi, Belo Horizonte, 30100-000  | 13 |\n| 293 | 19 | 2024-10-12 | 2024-10-29 | Entregue    | 1587.99 |  1 | Sul          | Avenida Farrapos, 456, Floresta, Porto Alegre, 90200-000         | 17 |\n| 294 | 20 | 2024-10-13 | NA | Em trânsito | 2473.05 |  1 | Sudeste      | Avenida Paulista, 456, Bela Vista, São Paulo, 01300-000          | NA |\n| 295 | 12 | 2024-10-14 | 2024-10-26 | Entregue    | 2753.36 |  2 | Sudeste      | Travessa das Palmeiras, 789, Savassi, Belo Horizonte, 30100-000  | 12 |\n| 296 | 19 | 2024-10-15 | 2024-11-02 | Entregue    | 2617.37 |  2 | Sul          | Travessa das Hortênsias, 789, Centro, Florianópolis, 88000-000   | 18 |\n| 297 |  7 | 2024-10-16 | NA | Pendente    | 2227.15 |  1 | Sul          | Avenida Farrapos, 456, Floresta, Porto Alegre, 90200-000         | NA |\n| 298 | 14 | 2024-10-17 | NA | Em trânsito | 1643.75 |  1 | Sudeste      | Travessa das Palmeiras, 789, Savassi, Belo Horizonte, 30100-000  | NA |\n| 299 | 14 | 2024-10-18 | 2024-11-06 | Entregue    | 2880.21 |  1 | Norte        | Rua das Flores, 123, Centro, Manaus, 69000-000                   | 19 |\n| 300 | 14 | 2024-10-19 | 2024-11-08 | Entregue    | 2540.39 |  1 | Sudeste      | Avenida Paulista, 456, Bela Vista, São Paulo, 01300-000          | 20 |\n| 301 | 20 | 2024-10-20 | 2024-11-04 | Entregue    | 1541.21 |  2 | Sul          | Rua das Araucárias, 123, Centro, Curitiba, 80000-000             | 15 |\n| 302 | 12 | 2024-10-21 | NA | Em trânsito | 2185.62 | NA | Norte        | Travessa dos Açaizeiros, 789, Cidade Nova, Rio Branco, 69900-000 | NA |\n| 303 | 12 | 2024-10-22 | 2024-11-03 | Entregue    | 2689.35 |  2 | Sul          | Avenida Farrapos, 456, Floresta, Porto Alegre, 90200-000         | 12 |\n| 304 |  8 | 2024-10-23 | 2024-11-10 | Entregue    | 2659.26 |  1 | Sul          | Avenida Farrapos, 456, Floresta, Porto Alegre, 90200-000         | 18 |\n| 305 |  7 | 2024-10-24 | 2024-11-11 | Entregue    | 2911.12 |  2 | Sul          | Avenida Farrapos, 456, Floresta, Porto Alegre, 90200-000         | 18 |\n| 306 | 16 | 2024-10-25 | 2024-11-12 | Entregue    | 1596.62 |  2 | Sul          | Avenida Farrapos, 456, Floresta, Porto Alegre, 90200-000         | 18 |\n| 307 |  9 | 2024-10-26 | 2024-11-13 | Entregue    | 2653.44 | NA | Nordeste     | Travessa dos Coqueiros, 789, Boa Viagem, Recife, 51000-000       | 18 |\n| 308 |  9 | 2024-10-27 | 2024-11-06 | Entregue    | 2994.95 | NA | Sudeste      | Travessa das Palmeiras, 789, Savassi, Belo Horizonte, 30100-000  | 10 |\n| 309 | 13 | 2024-10-28 | 2024-11-17 | Entregue    | 1735.89 | NA | Sudeste      | Avenida Paulista, 456, Bela Vista, São Paulo, 01300-000          | 20 |\n| 310 | 20 | 2024-10-29 | NA | Em trânsito | 2656.30 | NA | Sul          | Rua das Araucárias, 123, Centro, Curitiba, 80000-000             | NA |\n| 311 | 14 | 2024-10-30 | NA | Em trânsito | 2166.87 | NA | Centro-Oeste | Rua das Palmeiras, 123, Setor Oeste, Goiânia, 74000-000          | NA |\n| 312 | 19 | 2024-10-31 | 2024-11-16 | Entregue    | 2253.37 |  1 | Sul          | Travessa das Hortênsias, 789, Centro, Florianópolis, 88000-000   | 16 |\n| 313 | 13 | 2024-11-01 | 2024-11-14 | Entregue    | 1906.61 |  2 | Sudeste      | Travessa das Palmeiras, 789, Savassi, Belo Horizonte, 30100-000  | 13 |\n| 314 | 19 | 2024-11-02 | 2024-11-20 | Entregue    | 1939.13 |  1 | Sul          | Avenida Farrapos, 456, Floresta, Porto Alegre, 90200-000         | 18 |\n| 315 |  8 | 2024-11-03 | 2024-11-18 | Entregue    | 1675.29 | NA | Nordeste     | Travessa dos Coqueiros, 789, Boa Viagem, Recife, 51000-000       | 15 |\n| 316 | 13 | 2024-11-04 | 2024-11-17 | Entregue    | 1538.44 | NA | Sudeste      | Rua da Praia, 123, Copacabana, Rio de Janeiro, 22000-000         | 13 |\n| 317 |  7 | 2024-11-05 | 2024-11-25 | Entregue    | 2299.57 | NA | Sudeste      | Rua da Praia, 123, Copacabana, Rio de Janeiro, 22000-000         | 20 |\n| 318 | 12 | 2024-11-06 | 2024-11-13 | Entregue    | 2338.71 | NA | Sul          | Avenida Farrapos, 456, Floresta, Porto Alegre, 90200-000         |  7 |\n| 319 |  1 | 2024-11-07 | NA | Pendente    | 1590.16 |  2 | Sul          | Travessa das Hortênsias, 789, Centro, Florianópolis, 88000-000   | NA |\n| 320 | 16 | 2024-11-08 | 2024-11-23 | Entregue    | 2920.97 | NA | Sudeste      | Travessa das Palmeiras, 789, Savassi, Belo Horizonte, 30100-000  | 15 |\n\n",
            "text/latex": "A tibble: 220 × 10\n\\begin{tabular}{llllllllll}\n PedidoID & ClienteID & DataPedido & DataEntrega & Status & ValorTotal & TransportadorID & Regiao & EnderecoPedido & TempoEntrega\\\\\n <dbl> & <dbl> & <date> & <date> & <chr> & <dbl> & <dbl> & <chr> & <chr> & <dbl>\\\\\n\\hline\n\t 101 & 14 & 2024-07-01 & 2024-07-14 & Entregue    & 1895.15 &  2 & Sudeste      & Travessa das Palmeiras, 789, Savassi, Belo Horizonte, 30100-000 & 13\\\\\n\t 102 & 12 & 2024-07-02 & 2024-07-12 & Entregue    & 2827.16 &  2 & Sudeste      & Avenida Paulista, 456, Bela Vista, São Paulo, 01300-000         & 10\\\\\n\t 103 &  3 & 2024-07-03 & 2024-07-22 & Entregue    & 2576.52 &  2 & Norte        & Rua das Flores, 123, Centro, Manaus, 69000-000                  & 19\\\\\n\t 104 &  7 & 2024-07-04 & 2024-07-21 & Entregue    & 2820.98 &  2 & Sul          & Travessa das Hortênsias, 789, Centro, Florianópolis, 88000-000  & 17\\\\\n\t 105 & 20 & 2024-07-05 & 2024-07-19 & Entregue    & 2693.72 &  2 & Sudeste      & Travessa das Palmeiras, 789, Savassi, Belo Horizonte, 30100-000 & 14\\\\\n\t 106 &  9 & 2024-07-06 & 2024-07-25 & Entregue    & 2405.18 &  2 & Norte        & Rua das Flores, 123, Centro, Manaus, 69000-000                  & 19\\\\\n\t 107 &  6 & 2024-07-07 & 2024-07-18 & Entregue    & 1780.62 &  2 & Norte        & Rua das Flores, 123, Centro, Manaus, 69000-000                  & 11\\\\\n\t 108 & 12 & 2024-07-08 & 2024-07-21 & Entregue    & 2838.51 &  2 & Sul          & Avenida Farrapos, 456, Floresta, Porto Alegre, 90200-000        & 13\\\\\n\t 109 &  8 & 2024-07-09 & 2024-07-25 & Entregue    & 1807.53 &  1 & Centro-Oeste & Travessa dos Buritis, 789, Jardim Goiás, Cuiabá, 78000-000      & 16\\\\\n\t 110 & 16 & 2024-07-10 & NA & Em trânsito & 2771.25 &  1 & Sudeste      & Travessa das Palmeiras, 789, Savassi, Belo Horizonte, 30100-000 & NA\\\\\n\t 111 & 14 & 2024-07-11 & 2024-07-24 & Entregue    & 1833.60 &  2 & Sudeste      & Avenida Paulista, 456, Bela Vista, São Paulo, 01300-000         & 13\\\\\n\t 112 & 13 & 2024-07-12 & 2024-07-29 & Entregue    & 2843.38 &  2 & Nordeste     & Avenida Atlântica, 456, Meireles, Fortaleza, 60100-000          & 17\\\\\n\t 113 &  3 & 2024-07-13 & 2024-07-30 & Entregue    & 2444.73 &  1 & Centro-Oeste & Avenida Brasília, 456, Asa Norte, Brasília, 70000-000           & 17\\\\\n\t 114 &  1 & 2024-07-14 & 2024-07-28 & Entregue    & 2565.20 &  1 & Centro-Oeste & Avenida Brasília, 456, Asa Norte, Brasília, 70000-000           & 14\\\\\n\t 115 &  8 & 2024-07-15 & 2024-07-26 & Entregue    & 2537.74 &  2 & Sul          & Avenida Farrapos, 456, Floresta, Porto Alegre, 90200-000        & 11\\\\\n\t 116 & 19 & 2024-07-16 & NA & Em trânsito & 2719.95 &  2 & Centro-Oeste & Travessa dos Buritis, 789, Jardim Goiás, Cuiabá, 78000-000      & NA\\\\\n\t 117 & 10 & 2024-07-17 & NA & Pendente    & 1906.17 &  1 & Centro-Oeste & Travessa dos Buritis, 789, Jardim Goiás, Cuiabá, 78000-000      & NA\\\\\n\t 118 & 19 & 2024-07-18 & 2024-08-01 & Entregue    & 2412.58 &  1 & Norte        & Rua das Flores, 123, Centro, Manaus, 69000-000                  & 14\\\\\n\t 119 &  7 & 2024-07-19 & NA & Pendente    & 2225.66 &  2 & Nordeste     & Travessa dos Coqueiros, 789, Boa Viagem, Recife, 51000-000      & NA\\\\\n\t 120 &  9 & 2024-07-20 & 2024-08-01 & Entregue    & 2072.44 &  2 & Sul          & Travessa das Hortênsias, 789, Centro, Florianópolis, 88000-000  & 12\\\\\n\t 121 & 13 & 2024-08-01 & 2024-08-12 & Entregue    & 2864.81 &  1 & Sul          & Avenida Farrapos, 456, Floresta, Porto Alegre, 90200-000        & 11\\\\\n\t 122 &  7 & 2024-08-02 & 2024-08-10 & Entregue    & 1633.88 &  1 & Sudeste      & Avenida Paulista, 456, Bela Vista, São Paulo, 01300-000         &  8\\\\\n\t 123 & 16 & 2024-08-03 & 2024-08-17 & Entregue    & 1773.82 &  2 & Norte        & Avenida Amazonas, 456, Aparecida, Belém, 66000-000              & 14\\\\\n\t 124 &  3 & 2024-08-04 & 2024-08-22 & Entregue    & 2156.37 &  1 & Norte        & Rua das Flores, 123, Centro, Manaus, 69000-000                  & 18\\\\\n\t 125 &  9 & 2024-08-05 & 2024-08-25 & Entregue    & 2738.80 &  1 & Sudeste      & Travessa das Palmeiras, 789, Savassi, Belo Horizonte, 30100-000 & 20\\\\\n\t 126 & 20 & 2024-08-06 & NA & Em trânsito & 2088.74 & NA & Sudeste      & Rua da Praia, 123, Copacabana, Rio de Janeiro, 22000-000        & NA\\\\\n\t 127 & 19 & 2024-08-07 & 2024-08-15 & Entregue    & 2648.28 &  2 & Sul          & Avenida Farrapos, 456, Floresta, Porto Alegre, 90200-000        &  8\\\\\n\t 128 &  9 & 2024-08-08 & 2024-08-26 & Entregue    & 2556.64 &  1 & Sul          & Travessa das Hortênsias, 789, Centro, Florianópolis, 88000-000  & 18\\\\\n\t 129 &  7 & 2024-08-09 & 2024-08-20 & Entregue    & 2469.90 &  1 & Norte        & Rua das Flores, 123, Centro, Manaus, 69000-000                  & 11\\\\\n\t 130 & 12 & 2024-08-10 & 2024-08-17 & Entregue    & 2097.04 &  1 & Sudeste      & Avenida Paulista, 456, Bela Vista, São Paulo, 01300-000         &  7\\\\\n\t ⋮ & ⋮ & ⋮ & ⋮ & ⋮ & ⋮ & ⋮ & ⋮ & ⋮ & ⋮\\\\\n\t 291 & 13 & 2024-10-10 & NA & Pendente    & 1867.62 &  1 & Sul          & Rua das Araucárias, 123, Centro, Curitiba, 80000-000             & NA\\\\\n\t 292 &  1 & 2024-10-11 & 2024-10-24 & Entregue    & 1822.29 &  2 & Sudeste      & Travessa das Palmeiras, 789, Savassi, Belo Horizonte, 30100-000  & 13\\\\\n\t 293 & 19 & 2024-10-12 & 2024-10-29 & Entregue    & 1587.99 &  1 & Sul          & Avenida Farrapos, 456, Floresta, Porto Alegre, 90200-000         & 17\\\\\n\t 294 & 20 & 2024-10-13 & NA & Em trânsito & 2473.05 &  1 & Sudeste      & Avenida Paulista, 456, Bela Vista, São Paulo, 01300-000          & NA\\\\\n\t 295 & 12 & 2024-10-14 & 2024-10-26 & Entregue    & 2753.36 &  2 & Sudeste      & Travessa das Palmeiras, 789, Savassi, Belo Horizonte, 30100-000  & 12\\\\\n\t 296 & 19 & 2024-10-15 & 2024-11-02 & Entregue    & 2617.37 &  2 & Sul          & Travessa das Hortênsias, 789, Centro, Florianópolis, 88000-000   & 18\\\\\n\t 297 &  7 & 2024-10-16 & NA & Pendente    & 2227.15 &  1 & Sul          & Avenida Farrapos, 456, Floresta, Porto Alegre, 90200-000         & NA\\\\\n\t 298 & 14 & 2024-10-17 & NA & Em trânsito & 1643.75 &  1 & Sudeste      & Travessa das Palmeiras, 789, Savassi, Belo Horizonte, 30100-000  & NA\\\\\n\t 299 & 14 & 2024-10-18 & 2024-11-06 & Entregue    & 2880.21 &  1 & Norte        & Rua das Flores, 123, Centro, Manaus, 69000-000                   & 19\\\\\n\t 300 & 14 & 2024-10-19 & 2024-11-08 & Entregue    & 2540.39 &  1 & Sudeste      & Avenida Paulista, 456, Bela Vista, São Paulo, 01300-000          & 20\\\\\n\t 301 & 20 & 2024-10-20 & 2024-11-04 & Entregue    & 1541.21 &  2 & Sul          & Rua das Araucárias, 123, Centro, Curitiba, 80000-000             & 15\\\\\n\t 302 & 12 & 2024-10-21 & NA & Em trânsito & 2185.62 & NA & Norte        & Travessa dos Açaizeiros, 789, Cidade Nova, Rio Branco, 69900-000 & NA\\\\\n\t 303 & 12 & 2024-10-22 & 2024-11-03 & Entregue    & 2689.35 &  2 & Sul          & Avenida Farrapos, 456, Floresta, Porto Alegre, 90200-000         & 12\\\\\n\t 304 &  8 & 2024-10-23 & 2024-11-10 & Entregue    & 2659.26 &  1 & Sul          & Avenida Farrapos, 456, Floresta, Porto Alegre, 90200-000         & 18\\\\\n\t 305 &  7 & 2024-10-24 & 2024-11-11 & Entregue    & 2911.12 &  2 & Sul          & Avenida Farrapos, 456, Floresta, Porto Alegre, 90200-000         & 18\\\\\n\t 306 & 16 & 2024-10-25 & 2024-11-12 & Entregue    & 1596.62 &  2 & Sul          & Avenida Farrapos, 456, Floresta, Porto Alegre, 90200-000         & 18\\\\\n\t 307 &  9 & 2024-10-26 & 2024-11-13 & Entregue    & 2653.44 & NA & Nordeste     & Travessa dos Coqueiros, 789, Boa Viagem, Recife, 51000-000       & 18\\\\\n\t 308 &  9 & 2024-10-27 & 2024-11-06 & Entregue    & 2994.95 & NA & Sudeste      & Travessa das Palmeiras, 789, Savassi, Belo Horizonte, 30100-000  & 10\\\\\n\t 309 & 13 & 2024-10-28 & 2024-11-17 & Entregue    & 1735.89 & NA & Sudeste      & Avenida Paulista, 456, Bela Vista, São Paulo, 01300-000          & 20\\\\\n\t 310 & 20 & 2024-10-29 & NA & Em trânsito & 2656.30 & NA & Sul          & Rua das Araucárias, 123, Centro, Curitiba, 80000-000             & NA\\\\\n\t 311 & 14 & 2024-10-30 & NA & Em trânsito & 2166.87 & NA & Centro-Oeste & Rua das Palmeiras, 123, Setor Oeste, Goiânia, 74000-000          & NA\\\\\n\t 312 & 19 & 2024-10-31 & 2024-11-16 & Entregue    & 2253.37 &  1 & Sul          & Travessa das Hortênsias, 789, Centro, Florianópolis, 88000-000   & 16\\\\\n\t 313 & 13 & 2024-11-01 & 2024-11-14 & Entregue    & 1906.61 &  2 & Sudeste      & Travessa das Palmeiras, 789, Savassi, Belo Horizonte, 30100-000  & 13\\\\\n\t 314 & 19 & 2024-11-02 & 2024-11-20 & Entregue    & 1939.13 &  1 & Sul          & Avenida Farrapos, 456, Floresta, Porto Alegre, 90200-000         & 18\\\\\n\t 315 &  8 & 2024-11-03 & 2024-11-18 & Entregue    & 1675.29 & NA & Nordeste     & Travessa dos Coqueiros, 789, Boa Viagem, Recife, 51000-000       & 15\\\\\n\t 316 & 13 & 2024-11-04 & 2024-11-17 & Entregue    & 1538.44 & NA & Sudeste      & Rua da Praia, 123, Copacabana, Rio de Janeiro, 22000-000         & 13\\\\\n\t 317 &  7 & 2024-11-05 & 2024-11-25 & Entregue    & 2299.57 & NA & Sudeste      & Rua da Praia, 123, Copacabana, Rio de Janeiro, 22000-000         & 20\\\\\n\t 318 & 12 & 2024-11-06 & 2024-11-13 & Entregue    & 2338.71 & NA & Sul          & Avenida Farrapos, 456, Floresta, Porto Alegre, 90200-000         &  7\\\\\n\t 319 &  1 & 2024-11-07 & NA & Pendente    & 1590.16 &  2 & Sul          & Travessa das Hortênsias, 789, Centro, Florianópolis, 88000-000   & NA\\\\\n\t 320 & 16 & 2024-11-08 & 2024-11-23 & Entregue    & 2920.97 & NA & Sudeste      & Travessa das Palmeiras, 789, Savassi, Belo Horizonte, 30100-000  & 15\\\\\n\\end{tabular}\n",
            "text/plain": [
              "    PedidoID ClienteID DataPedido DataEntrega Status      ValorTotal\n",
              "1   101      14        2024-07-01 2024-07-14  Entregue    1895.15   \n",
              "2   102      12        2024-07-02 2024-07-12  Entregue    2827.16   \n",
              "3   103       3        2024-07-03 2024-07-22  Entregue    2576.52   \n",
              "4   104       7        2024-07-04 2024-07-21  Entregue    2820.98   \n",
              "5   105      20        2024-07-05 2024-07-19  Entregue    2693.72   \n",
              "6   106       9        2024-07-06 2024-07-25  Entregue    2405.18   \n",
              "7   107       6        2024-07-07 2024-07-18  Entregue    1780.62   \n",
              "8   108      12        2024-07-08 2024-07-21  Entregue    2838.51   \n",
              "9   109       8        2024-07-09 2024-07-25  Entregue    1807.53   \n",
              "10  110      16        2024-07-10 <NA>        Em trânsito 2771.25   \n",
              "11  111      14        2024-07-11 2024-07-24  Entregue    1833.60   \n",
              "12  112      13        2024-07-12 2024-07-29  Entregue    2843.38   \n",
              "13  113       3        2024-07-13 2024-07-30  Entregue    2444.73   \n",
              "14  114       1        2024-07-14 2024-07-28  Entregue    2565.20   \n",
              "15  115       8        2024-07-15 2024-07-26  Entregue    2537.74   \n",
              "16  116      19        2024-07-16 <NA>        Em trânsito 2719.95   \n",
              "17  117      10        2024-07-17 <NA>        Pendente    1906.17   \n",
              "18  118      19        2024-07-18 2024-08-01  Entregue    2412.58   \n",
              "19  119       7        2024-07-19 <NA>        Pendente    2225.66   \n",
              "20  120       9        2024-07-20 2024-08-01  Entregue    2072.44   \n",
              "21  121      13        2024-08-01 2024-08-12  Entregue    2864.81   \n",
              "22  122       7        2024-08-02 2024-08-10  Entregue    1633.88   \n",
              "23  123      16        2024-08-03 2024-08-17  Entregue    1773.82   \n",
              "24  124       3        2024-08-04 2024-08-22  Entregue    2156.37   \n",
              "25  125       9        2024-08-05 2024-08-25  Entregue    2738.80   \n",
              "26  126      20        2024-08-06 <NA>        Em trânsito 2088.74   \n",
              "27  127      19        2024-08-07 2024-08-15  Entregue    2648.28   \n",
              "28  128       9        2024-08-08 2024-08-26  Entregue    2556.64   \n",
              "29  129       7        2024-08-09 2024-08-20  Entregue    2469.90   \n",
              "30  130      12        2024-08-10 2024-08-17  Entregue    2097.04   \n",
              "⋮   ⋮        ⋮         ⋮          ⋮           ⋮           ⋮         \n",
              "191 291      13        2024-10-10 <NA>        Pendente    1867.62   \n",
              "192 292       1        2024-10-11 2024-10-24  Entregue    1822.29   \n",
              "193 293      19        2024-10-12 2024-10-29  Entregue    1587.99   \n",
              "194 294      20        2024-10-13 <NA>        Em trânsito 2473.05   \n",
              "195 295      12        2024-10-14 2024-10-26  Entregue    2753.36   \n",
              "196 296      19        2024-10-15 2024-11-02  Entregue    2617.37   \n",
              "197 297       7        2024-10-16 <NA>        Pendente    2227.15   \n",
              "198 298      14        2024-10-17 <NA>        Em trânsito 1643.75   \n",
              "199 299      14        2024-10-18 2024-11-06  Entregue    2880.21   \n",
              "200 300      14        2024-10-19 2024-11-08  Entregue    2540.39   \n",
              "201 301      20        2024-10-20 2024-11-04  Entregue    1541.21   \n",
              "202 302      12        2024-10-21 <NA>        Em trânsito 2185.62   \n",
              "203 303      12        2024-10-22 2024-11-03  Entregue    2689.35   \n",
              "204 304       8        2024-10-23 2024-11-10  Entregue    2659.26   \n",
              "205 305       7        2024-10-24 2024-11-11  Entregue    2911.12   \n",
              "206 306      16        2024-10-25 2024-11-12  Entregue    1596.62   \n",
              "207 307       9        2024-10-26 2024-11-13  Entregue    2653.44   \n",
              "208 308       9        2024-10-27 2024-11-06  Entregue    2994.95   \n",
              "209 309      13        2024-10-28 2024-11-17  Entregue    1735.89   \n",
              "210 310      20        2024-10-29 <NA>        Em trânsito 2656.30   \n",
              "211 311      14        2024-10-30 <NA>        Em trânsito 2166.87   \n",
              "212 312      19        2024-10-31 2024-11-16  Entregue    2253.37   \n",
              "213 313      13        2024-11-01 2024-11-14  Entregue    1906.61   \n",
              "214 314      19        2024-11-02 2024-11-20  Entregue    1939.13   \n",
              "215 315       8        2024-11-03 2024-11-18  Entregue    1675.29   \n",
              "216 316      13        2024-11-04 2024-11-17  Entregue    1538.44   \n",
              "217 317       7        2024-11-05 2024-11-25  Entregue    2299.57   \n",
              "218 318      12        2024-11-06 2024-11-13  Entregue    2338.71   \n",
              "219 319       1        2024-11-07 <NA>        Pendente    1590.16   \n",
              "220 320      16        2024-11-08 2024-11-23  Entregue    2920.97   \n",
              "    TransportadorID Regiao      \n",
              "1    2              Sudeste     \n",
              "2    2              Sudeste     \n",
              "3    2              Norte       \n",
              "4    2              Sul         \n",
              "5    2              Sudeste     \n",
              "6    2              Norte       \n",
              "7    2              Norte       \n",
              "8    2              Sul         \n",
              "9    1              Centro-Oeste\n",
              "10   1              Sudeste     \n",
              "11   2              Sudeste     \n",
              "12   2              Nordeste    \n",
              "13   1              Centro-Oeste\n",
              "14   1              Centro-Oeste\n",
              "15   2              Sul         \n",
              "16   2              Centro-Oeste\n",
              "17   1              Centro-Oeste\n",
              "18   1              Norte       \n",
              "19   2              Nordeste    \n",
              "20   2              Sul         \n",
              "21   1              Sul         \n",
              "22   1              Sudeste     \n",
              "23   2              Norte       \n",
              "24   1              Norte       \n",
              "25   1              Sudeste     \n",
              "26  NA              Sudeste     \n",
              "27   2              Sul         \n",
              "28   1              Sul         \n",
              "29   1              Norte       \n",
              "30   1              Sudeste     \n",
              "⋮   ⋮               ⋮           \n",
              "191  1              Sul         \n",
              "192  2              Sudeste     \n",
              "193  1              Sul         \n",
              "194  1              Sudeste     \n",
              "195  2              Sudeste     \n",
              "196  2              Sul         \n",
              "197  1              Sul         \n",
              "198  1              Sudeste     \n",
              "199  1              Norte       \n",
              "200  1              Sudeste     \n",
              "201  2              Sul         \n",
              "202 NA              Norte       \n",
              "203  2              Sul         \n",
              "204  1              Sul         \n",
              "205  2              Sul         \n",
              "206  2              Sul         \n",
              "207 NA              Nordeste    \n",
              "208 NA              Sudeste     \n",
              "209 NA              Sudeste     \n",
              "210 NA              Sul         \n",
              "211 NA              Centro-Oeste\n",
              "212  1              Sul         \n",
              "213  2              Sudeste     \n",
              "214  1              Sul         \n",
              "215 NA              Nordeste    \n",
              "216 NA              Sudeste     \n",
              "217 NA              Sudeste     \n",
              "218 NA              Sul         \n",
              "219  2              Sul         \n",
              "220 NA              Sudeste     \n",
              "    EnderecoPedido                                                  \n",
              "1   Travessa das Palmeiras, 789, Savassi, Belo Horizonte, 30100-000 \n",
              "2   Avenida Paulista, 456, Bela Vista, São Paulo, 01300-000         \n",
              "3   Rua das Flores, 123, Centro, Manaus, 69000-000                  \n",
              "4   Travessa das Hortênsias, 789, Centro, Florianópolis, 88000-000  \n",
              "5   Travessa das Palmeiras, 789, Savassi, Belo Horizonte, 30100-000 \n",
              "6   Rua das Flores, 123, Centro, Manaus, 69000-000                  \n",
              "7   Rua das Flores, 123, Centro, Manaus, 69000-000                  \n",
              "8   Avenida Farrapos, 456, Floresta, Porto Alegre, 90200-000        \n",
              "9   Travessa dos Buritis, 789, Jardim Goiás, Cuiabá, 78000-000      \n",
              "10  Travessa das Palmeiras, 789, Savassi, Belo Horizonte, 30100-000 \n",
              "11  Avenida Paulista, 456, Bela Vista, São Paulo, 01300-000         \n",
              "12  Avenida Atlântica, 456, Meireles, Fortaleza, 60100-000          \n",
              "13  Avenida Brasília, 456, Asa Norte, Brasília, 70000-000           \n",
              "14  Avenida Brasília, 456, Asa Norte, Brasília, 70000-000           \n",
              "15  Avenida Farrapos, 456, Floresta, Porto Alegre, 90200-000        \n",
              "16  Travessa dos Buritis, 789, Jardim Goiás, Cuiabá, 78000-000      \n",
              "17  Travessa dos Buritis, 789, Jardim Goiás, Cuiabá, 78000-000      \n",
              "18  Rua das Flores, 123, Centro, Manaus, 69000-000                  \n",
              "19  Travessa dos Coqueiros, 789, Boa Viagem, Recife, 51000-000      \n",
              "20  Travessa das Hortênsias, 789, Centro, Florianópolis, 88000-000  \n",
              "21  Avenida Farrapos, 456, Floresta, Porto Alegre, 90200-000        \n",
              "22  Avenida Paulista, 456, Bela Vista, São Paulo, 01300-000         \n",
              "23  Avenida Amazonas, 456, Aparecida, Belém, 66000-000              \n",
              "24  Rua das Flores, 123, Centro, Manaus, 69000-000                  \n",
              "25  Travessa das Palmeiras, 789, Savassi, Belo Horizonte, 30100-000 \n",
              "26  Rua da Praia, 123, Copacabana, Rio de Janeiro, 22000-000        \n",
              "27  Avenida Farrapos, 456, Floresta, Porto Alegre, 90200-000        \n",
              "28  Travessa das Hortênsias, 789, Centro, Florianópolis, 88000-000  \n",
              "29  Rua das Flores, 123, Centro, Manaus, 69000-000                  \n",
              "30  Avenida Paulista, 456, Bela Vista, São Paulo, 01300-000         \n",
              "⋮   ⋮                                                               \n",
              "191 Rua das Araucárias, 123, Centro, Curitiba, 80000-000            \n",
              "192 Travessa das Palmeiras, 789, Savassi, Belo Horizonte, 30100-000 \n",
              "193 Avenida Farrapos, 456, Floresta, Porto Alegre, 90200-000        \n",
              "194 Avenida Paulista, 456, Bela Vista, São Paulo, 01300-000         \n",
              "195 Travessa das Palmeiras, 789, Savassi, Belo Horizonte, 30100-000 \n",
              "196 Travessa das Hortênsias, 789, Centro, Florianópolis, 88000-000  \n",
              "197 Avenida Farrapos, 456, Floresta, Porto Alegre, 90200-000        \n",
              "198 Travessa das Palmeiras, 789, Savassi, Belo Horizonte, 30100-000 \n",
              "199 Rua das Flores, 123, Centro, Manaus, 69000-000                  \n",
              "200 Avenida Paulista, 456, Bela Vista, São Paulo, 01300-000         \n",
              "201 Rua das Araucárias, 123, Centro, Curitiba, 80000-000            \n",
              "202 Travessa dos Açaizeiros, 789, Cidade Nova, Rio Branco, 69900-000\n",
              "203 Avenida Farrapos, 456, Floresta, Porto Alegre, 90200-000        \n",
              "204 Avenida Farrapos, 456, Floresta, Porto Alegre, 90200-000        \n",
              "205 Avenida Farrapos, 456, Floresta, Porto Alegre, 90200-000        \n",
              "206 Avenida Farrapos, 456, Floresta, Porto Alegre, 90200-000        \n",
              "207 Travessa dos Coqueiros, 789, Boa Viagem, Recife, 51000-000      \n",
              "208 Travessa das Palmeiras, 789, Savassi, Belo Horizonte, 30100-000 \n",
              "209 Avenida Paulista, 456, Bela Vista, São Paulo, 01300-000         \n",
              "210 Rua das Araucárias, 123, Centro, Curitiba, 80000-000            \n",
              "211 Rua das Palmeiras, 123, Setor Oeste, Goiânia, 74000-000         \n",
              "212 Travessa das Hortênsias, 789, Centro, Florianópolis, 88000-000  \n",
              "213 Travessa das Palmeiras, 789, Savassi, Belo Horizonte, 30100-000 \n",
              "214 Avenida Farrapos, 456, Floresta, Porto Alegre, 90200-000        \n",
              "215 Travessa dos Coqueiros, 789, Boa Viagem, Recife, 51000-000      \n",
              "216 Rua da Praia, 123, Copacabana, Rio de Janeiro, 22000-000        \n",
              "217 Rua da Praia, 123, Copacabana, Rio de Janeiro, 22000-000        \n",
              "218 Avenida Farrapos, 456, Floresta, Porto Alegre, 90200-000        \n",
              "219 Travessa das Hortênsias, 789, Centro, Florianópolis, 88000-000  \n",
              "220 Travessa das Palmeiras, 789, Savassi, Belo Horizonte, 30100-000 \n",
              "    TempoEntrega\n",
              "1   13          \n",
              "2   10          \n",
              "3   19          \n",
              "4   17          \n",
              "5   14          \n",
              "6   19          \n",
              "7   11          \n",
              "8   13          \n",
              "9   16          \n",
              "10  NA          \n",
              "11  13          \n",
              "12  17          \n",
              "13  17          \n",
              "14  14          \n",
              "15  11          \n",
              "16  NA          \n",
              "17  NA          \n",
              "18  14          \n",
              "19  NA          \n",
              "20  12          \n",
              "21  11          \n",
              "22   8          \n",
              "23  14          \n",
              "24  18          \n",
              "25  20          \n",
              "26  NA          \n",
              "27   8          \n",
              "28  18          \n",
              "29  11          \n",
              "30   7          \n",
              "⋮   ⋮           \n",
              "191 NA          \n",
              "192 13          \n",
              "193 17          \n",
              "194 NA          \n",
              "195 12          \n",
              "196 18          \n",
              "197 NA          \n",
              "198 NA          \n",
              "199 19          \n",
              "200 20          \n",
              "201 15          \n",
              "202 NA          \n",
              "203 12          \n",
              "204 18          \n",
              "205 18          \n",
              "206 18          \n",
              "207 18          \n",
              "208 10          \n",
              "209 20          \n",
              "210 NA          \n",
              "211 NA          \n",
              "212 16          \n",
              "213 13          \n",
              "214 18          \n",
              "215 15          \n",
              "216 13          \n",
              "217 20          \n",
              "218  7          \n",
              "219 NA          \n",
              "220 15          "
            ]
          },
          "metadata": {}
        }
      ]
    },
    {
      "cell_type": "markdown",
      "source": [
        "**Calculando a média do tempo de entrega**"
      ],
      "metadata": {
        "id": "ZrTvobgUEkBL"
      }
    },
    {
      "cell_type": "code",
      "source": [
        "pedidos %>%\n",
        "  mutate(\n",
        "  DataPedido = as.Date(DataPedido),\n",
        "  DataEntrega = as.Date(DataEntrega),\n",
        "  TempoEntrega = as.numeric(difftime(DataEntrega, DataPedido, units = \"days\"))\n",
        "  ) %>%\n",
        "    summarize(MediaTempoEntrega = mean(TempoEntrega, na.rm = TRUE))"
      ],
      "metadata": {
        "colab": {
          "base_uri": "https://localhost:8080/",
          "height": 129
        },
        "id": "zAXqfVRWEoq0",
        "outputId": "6d38bb5a-aed7-4ddc-9a90-4771e6d37154"
      },
      "execution_count": 237,
      "outputs": [
        {
          "output_type": "display_data",
          "data": {
            "text/html": [
              "<table class=\"dataframe\">\n",
              "<caption>A tibble: 1 × 1</caption>\n",
              "<thead>\n",
              "\t<tr><th scope=col>MediaTempoEntrega</th></tr>\n",
              "\t<tr><th scope=col>&lt;dbl&gt;</th></tr>\n",
              "</thead>\n",
              "<tbody>\n",
              "\t<tr><td>14.13636</td></tr>\n",
              "</tbody>\n",
              "</table>\n"
            ],
            "text/markdown": "\nA tibble: 1 × 1\n\n| MediaTempoEntrega &lt;dbl&gt; |\n|---|\n| 14.13636 |\n\n",
            "text/latex": "A tibble: 1 × 1\n\\begin{tabular}{l}\n MediaTempoEntrega\\\\\n <dbl>\\\\\n\\hline\n\t 14.13636\\\\\n\\end{tabular}\n",
            "text/plain": [
              "  MediaTempoEntrega\n",
              "1 14.13636         "
            ]
          },
          "metadata": {}
        }
      ]
    },
    {
      "cell_type": "markdown",
      "source": [
        "**Soma de Colunas:**"
      ],
      "metadata": {
        "id": "r7NOb9wPKadE"
      }
    },
    {
      "cell_type": "code",
      "source": [
        "library(dplyr)\n",
        "df <- data.frame(a = 1:5, b = 6:10)\n",
        "df"
      ],
      "metadata": {
        "colab": {
          "base_uri": "https://localhost:8080/",
          "height": 272
        },
        "id": "JbqlIemdKcdn",
        "outputId": "32d0a65d-7db0-4b76-9f26-e7e35f5ec477"
      },
      "execution_count": 238,
      "outputs": [
        {
          "output_type": "display_data",
          "data": {
            "text/html": [
              "<table class=\"dataframe\">\n",
              "<caption>A data.frame: 5 × 2</caption>\n",
              "<thead>\n",
              "\t<tr><th scope=col>a</th><th scope=col>b</th></tr>\n",
              "\t<tr><th scope=col>&lt;int&gt;</th><th scope=col>&lt;int&gt;</th></tr>\n",
              "</thead>\n",
              "<tbody>\n",
              "\t<tr><td>1</td><td> 6</td></tr>\n",
              "\t<tr><td>2</td><td> 7</td></tr>\n",
              "\t<tr><td>3</td><td> 8</td></tr>\n",
              "\t<tr><td>4</td><td> 9</td></tr>\n",
              "\t<tr><td>5</td><td>10</td></tr>\n",
              "</tbody>\n",
              "</table>\n"
            ],
            "text/markdown": "\nA data.frame: 5 × 2\n\n| a &lt;int&gt; | b &lt;int&gt; |\n|---|---|\n| 1 |  6 |\n| 2 |  7 |\n| 3 |  8 |\n| 4 |  9 |\n| 5 | 10 |\n\n",
            "text/latex": "A data.frame: 5 × 2\n\\begin{tabular}{ll}\n a & b\\\\\n <int> & <int>\\\\\n\\hline\n\t 1 &  6\\\\\n\t 2 &  7\\\\\n\t 3 &  8\\\\\n\t 4 &  9\\\\\n\t 5 & 10\\\\\n\\end{tabular}\n",
            "text/plain": [
              "  a b \n",
              "1 1  6\n",
              "2 2  7\n",
              "3 3  8\n",
              "4 4  9\n",
              "5 5 10"
            ]
          },
          "metadata": {}
        }
      ]
    },
    {
      "cell_type": "code",
      "source": [
        "resumo <- df %>%\n",
        "  summarize(soma_a = sum(a))\n",
        "\n",
        "resumo"
      ],
      "metadata": {
        "colab": {
          "base_uri": "https://localhost:8080/",
          "height": 164
        },
        "id": "zh917hr0Kd2D",
        "outputId": "73d8a904-e15b-4880-83e9-337057db4c9f"
      },
      "execution_count": 239,
      "outputs": [
        {
          "output_type": "display_data",
          "data": {
            "text/html": [
              "<table class=\"dataframe\">\n",
              "<caption>A data.frame: 1 × 1</caption>\n",
              "<thead>\n",
              "\t<tr><th scope=col>soma_a</th></tr>\n",
              "\t<tr><th scope=col>&lt;int&gt;</th></tr>\n",
              "</thead>\n",
              "<tbody>\n",
              "\t<tr><td>15</td></tr>\n",
              "</tbody>\n",
              "</table>\n"
            ],
            "text/markdown": "\nA data.frame: 1 × 1\n\n| soma_a &lt;int&gt; |\n|---|\n| 15 |\n\n",
            "text/latex": "A data.frame: 1 × 1\n\\begin{tabular}{l}\n soma\\_a\\\\\n <int>\\\\\n\\hline\n\t 15\\\\\n\\end{tabular}\n",
            "text/plain": [
              "  soma_a\n",
              "1 15    "
            ]
          },
          "metadata": {}
        }
      ]
    },
    {
      "cell_type": "markdown",
      "source": [
        "**Média de Colunas:**"
      ],
      "metadata": {
        "id": "BbBd6xBFKkBt"
      }
    },
    {
      "cell_type": "code",
      "source": [
        "resumo <- df %>%\n",
        "  summarize(media_b = mean(b))\n",
        "resumo"
      ],
      "metadata": {
        "colab": {
          "base_uri": "https://localhost:8080/",
          "height": 164
        },
        "id": "lC2YZM6ZKl98",
        "outputId": "da5331fb-df7a-4da3-993c-cb67dd8294c6"
      },
      "execution_count": 240,
      "outputs": [
        {
          "output_type": "display_data",
          "data": {
            "text/html": [
              "<table class=\"dataframe\">\n",
              "<caption>A data.frame: 1 × 1</caption>\n",
              "<thead>\n",
              "\t<tr><th scope=col>media_b</th></tr>\n",
              "\t<tr><th scope=col>&lt;dbl&gt;</th></tr>\n",
              "</thead>\n",
              "<tbody>\n",
              "\t<tr><td>8</td></tr>\n",
              "</tbody>\n",
              "</table>\n"
            ],
            "text/markdown": "\nA data.frame: 1 × 1\n\n| media_b &lt;dbl&gt; |\n|---|\n| 8 |\n\n",
            "text/latex": "A data.frame: 1 × 1\n\\begin{tabular}{l}\n media\\_b\\\\\n <dbl>\\\\\n\\hline\n\t 8\\\\\n\\end{tabular}\n",
            "text/plain": [
              "  media_b\n",
              "1 8      "
            ]
          },
          "metadata": {}
        }
      ]
    },
    {
      "cell_type": "markdown",
      "source": [
        "**Contagem de Valores:**"
      ],
      "metadata": {
        "id": "X5jcZPDNK9No"
      }
    },
    {
      "cell_type": "code",
      "source": [
        "resumo <- df %>%\n",
        "  summarize(contagem = n())\n",
        "\n",
        "resumo"
      ],
      "metadata": {
        "colab": {
          "base_uri": "https://localhost:8080/",
          "height": 164
        },
        "id": "cI2N_yGaK-Cd",
        "outputId": "40bfe61f-3dac-47bd-b96a-6f9c105d4c36"
      },
      "execution_count": 241,
      "outputs": [
        {
          "output_type": "display_data",
          "data": {
            "text/html": [
              "<table class=\"dataframe\">\n",
              "<caption>A data.frame: 1 × 1</caption>\n",
              "<thead>\n",
              "\t<tr><th scope=col>contagem</th></tr>\n",
              "\t<tr><th scope=col>&lt;int&gt;</th></tr>\n",
              "</thead>\n",
              "<tbody>\n",
              "\t<tr><td>5</td></tr>\n",
              "</tbody>\n",
              "</table>\n"
            ],
            "text/markdown": "\nA data.frame: 1 × 1\n\n| contagem &lt;int&gt; |\n|---|\n| 5 |\n\n",
            "text/latex": "A data.frame: 1 × 1\n\\begin{tabular}{l}\n contagem\\\\\n <int>\\\\\n\\hline\n\t 5\\\\\n\\end{tabular}\n",
            "text/plain": [
              "  contagem\n",
              "1 5       "
            ]
          },
          "metadata": {}
        }
      ]
    },
    {
      "cell_type": "markdown",
      "source": [
        "**Contagem de Valores com Condição:**"
      ],
      "metadata": {
        "id": "rd3PecYoLCNw"
      }
    },
    {
      "cell_type": "code",
      "source": [
        "resumo <- df %>%\n",
        "  summarize(contagem_condicional = sum(a > 3))\n",
        "\n",
        "resumo"
      ],
      "metadata": {
        "colab": {
          "base_uri": "https://localhost:8080/",
          "height": 129
        },
        "id": "2nwL0jn-K_UL",
        "outputId": "9d9109fe-571d-4058-cb5f-eb6435abadda"
      },
      "execution_count": 242,
      "outputs": [
        {
          "output_type": "display_data",
          "data": {
            "text/html": [
              "<table class=\"dataframe\">\n",
              "<caption>A data.frame: 1 × 1</caption>\n",
              "<thead>\n",
              "\t<tr><th scope=col>contagem_condicional</th></tr>\n",
              "\t<tr><th scope=col>&lt;int&gt;</th></tr>\n",
              "</thead>\n",
              "<tbody>\n",
              "\t<tr><td>2</td></tr>\n",
              "</tbody>\n",
              "</table>\n"
            ],
            "text/markdown": "\nA data.frame: 1 × 1\n\n| contagem_condicional &lt;int&gt; |\n|---|\n| 2 |\n\n",
            "text/latex": "A data.frame: 1 × 1\n\\begin{tabular}{l}\n contagem\\_condicional\\\\\n <int>\\\\\n\\hline\n\t 2\\\\\n\\end{tabular}\n",
            "text/plain": [
              "  contagem_condicional\n",
              "1 2                   "
            ]
          },
          "metadata": {}
        }
      ]
    },
    {
      "cell_type": "markdown",
      "source": [
        "**Agrupamento com group_by:**\n",
        "  \n",
        "Combinado com group_by, summarize pode calcular estatísticas dentro de grupos."
      ],
      "metadata": {
        "id": "2j5joEeTLO9e"
      }
    },
    {
      "cell_type": "code",
      "source": [
        "df <- data.frame(grupo = c(\"A\", \"A\", \"B\", \"B\"), valor = c(10, 15, 20, 25))\n",
        "df"
      ],
      "metadata": {
        "colab": {
          "base_uri": "https://localhost:8080/",
          "height": 241
        },
        "id": "gynHHH6wLPtY",
        "outputId": "8a96a308-7f80-46a5-8104-df36e61d0a60"
      },
      "execution_count": 243,
      "outputs": [
        {
          "output_type": "display_data",
          "data": {
            "text/html": [
              "<table class=\"dataframe\">\n",
              "<caption>A data.frame: 4 × 2</caption>\n",
              "<thead>\n",
              "\t<tr><th scope=col>grupo</th><th scope=col>valor</th></tr>\n",
              "\t<tr><th scope=col>&lt;chr&gt;</th><th scope=col>&lt;dbl&gt;</th></tr>\n",
              "</thead>\n",
              "<tbody>\n",
              "\t<tr><td>A</td><td>10</td></tr>\n",
              "\t<tr><td>A</td><td>15</td></tr>\n",
              "\t<tr><td>B</td><td>20</td></tr>\n",
              "\t<tr><td>B</td><td>25</td></tr>\n",
              "</tbody>\n",
              "</table>\n"
            ],
            "text/markdown": "\nA data.frame: 4 × 2\n\n| grupo &lt;chr&gt; | valor &lt;dbl&gt; |\n|---|---|\n| A | 10 |\n| A | 15 |\n| B | 20 |\n| B | 25 |\n\n",
            "text/latex": "A data.frame: 4 × 2\n\\begin{tabular}{ll}\n grupo & valor\\\\\n <chr> & <dbl>\\\\\n\\hline\n\t A & 10\\\\\n\t A & 15\\\\\n\t B & 20\\\\\n\t B & 25\\\\\n\\end{tabular}\n",
            "text/plain": [
              "  grupo valor\n",
              "1 A     10   \n",
              "2 A     15   \n",
              "3 B     20   \n",
              "4 B     25   "
            ]
          },
          "metadata": {}
        }
      ]
    },
    {
      "cell_type": "code",
      "source": [
        "resumo <- df %>%\n",
        "  group_by(grupo) %>%\n",
        "  summarize(soma_valor = sum(valor))\n",
        "\n",
        "resumo"
      ],
      "metadata": {
        "colab": {
          "base_uri": "https://localhost:8080/",
          "height": 161
        },
        "id": "ISxsJRmVLRdc",
        "outputId": "7b5e9c4a-3709-48c9-c18d-adc005b8b91e"
      },
      "execution_count": 244,
      "outputs": [
        {
          "output_type": "display_data",
          "data": {
            "text/html": [
              "<table class=\"dataframe\">\n",
              "<caption>A tibble: 2 × 2</caption>\n",
              "<thead>\n",
              "\t<tr><th scope=col>grupo</th><th scope=col>soma_valor</th></tr>\n",
              "\t<tr><th scope=col>&lt;chr&gt;</th><th scope=col>&lt;dbl&gt;</th></tr>\n",
              "</thead>\n",
              "<tbody>\n",
              "\t<tr><td>A</td><td>25</td></tr>\n",
              "\t<tr><td>B</td><td>45</td></tr>\n",
              "</tbody>\n",
              "</table>\n"
            ],
            "text/markdown": "\nA tibble: 2 × 2\n\n| grupo &lt;chr&gt; | soma_valor &lt;dbl&gt; |\n|---|---|\n| A | 25 |\n| B | 45 |\n\n",
            "text/latex": "A tibble: 2 × 2\n\\begin{tabular}{ll}\n grupo & soma\\_valor\\\\\n <chr> & <dbl>\\\\\n\\hline\n\t A & 25\\\\\n\t B & 45\\\\\n\\end{tabular}\n",
            "text/plain": [
              "  grupo soma_valor\n",
              "1 A     25        \n",
              "2 B     45        "
            ]
          },
          "metadata": {}
        }
      ]
    },
    {
      "cell_type": "markdown",
      "source": [
        "**Múltiplas Agregações:**"
      ],
      "metadata": {
        "id": "Ic29QhQaLVij"
      }
    },
    {
      "cell_type": "code",
      "source": [
        "resumo <- df %>%\n",
        "  group_by(grupo) %>%\n",
        "  summarize(\n",
        "    soma_valor = sum(valor),\n",
        "    media_valor = mean(valor)\n",
        "  )\n",
        "\n",
        "resumo"
      ],
      "metadata": {
        "colab": {
          "base_uri": "https://localhost:8080/",
          "height": 161
        },
        "id": "JrSu7La7LWXw",
        "outputId": "0a00ec74-aa73-47f9-b4df-6668470419ab"
      },
      "execution_count": 245,
      "outputs": [
        {
          "output_type": "display_data",
          "data": {
            "text/html": [
              "<table class=\"dataframe\">\n",
              "<caption>A tibble: 2 × 3</caption>\n",
              "<thead>\n",
              "\t<tr><th scope=col>grupo</th><th scope=col>soma_valor</th><th scope=col>media_valor</th></tr>\n",
              "\t<tr><th scope=col>&lt;chr&gt;</th><th scope=col>&lt;dbl&gt;</th><th scope=col>&lt;dbl&gt;</th></tr>\n",
              "</thead>\n",
              "<tbody>\n",
              "\t<tr><td>A</td><td>25</td><td>12.5</td></tr>\n",
              "\t<tr><td>B</td><td>45</td><td>22.5</td></tr>\n",
              "</tbody>\n",
              "</table>\n"
            ],
            "text/markdown": "\nA tibble: 2 × 3\n\n| grupo &lt;chr&gt; | soma_valor &lt;dbl&gt; | media_valor &lt;dbl&gt; |\n|---|---|---|\n| A | 25 | 12.5 |\n| B | 45 | 22.5 |\n\n",
            "text/latex": "A tibble: 2 × 3\n\\begin{tabular}{lll}\n grupo & soma\\_valor & media\\_valor\\\\\n <chr> & <dbl> & <dbl>\\\\\n\\hline\n\t A & 25 & 12.5\\\\\n\t B & 45 & 22.5\\\\\n\\end{tabular}\n",
            "text/plain": [
              "  grupo soma_valor media_valor\n",
              "1 A     25         12.5       \n",
              "2 B     45         22.5       "
            ]
          },
          "metadata": {}
        }
      ]
    },
    {
      "cell_type": "markdown",
      "source": [
        "**Desvio Padrão:**"
      ],
      "metadata": {
        "id": "RKFZRtcVLcZY"
      }
    },
    {
      "cell_type": "code",
      "source": [
        "resumo <- df %>%\n",
        "  summarize(desvio_padrao = sd(valor))\n",
        "\n",
        "resumo"
      ],
      "metadata": {
        "colab": {
          "base_uri": "https://localhost:8080/",
          "height": 147
        },
        "id": "OVJnr1WMLd21",
        "outputId": "8bb8317f-b229-4632-bead-07bef0a1399a"
      },
      "execution_count": 246,
      "outputs": [
        {
          "output_type": "display_data",
          "data": {
            "text/html": [
              "<table class=\"dataframe\">\n",
              "<caption>A data.frame: 1 × 1</caption>\n",
              "<thead>\n",
              "\t<tr><th scope=col>desvio_padrao</th></tr>\n",
              "\t<tr><th scope=col>&lt;dbl&gt;</th></tr>\n",
              "</thead>\n",
              "<tbody>\n",
              "\t<tr><td>6.454972</td></tr>\n",
              "</tbody>\n",
              "</table>\n"
            ],
            "text/markdown": "\nA data.frame: 1 × 1\n\n| desvio_padrao &lt;dbl&gt; |\n|---|\n| 6.454972 |\n\n",
            "text/latex": "A data.frame: 1 × 1\n\\begin{tabular}{l}\n desvio\\_padrao\\\\\n <dbl>\\\\\n\\hline\n\t 6.454972\\\\\n\\end{tabular}\n",
            "text/plain": [
              "  desvio_padrao\n",
              "1 6.454972     "
            ]
          },
          "metadata": {}
        }
      ]
    },
    {
      "cell_type": "markdown",
      "source": [
        "**Mínimo e Máximo:**"
      ],
      "metadata": {
        "id": "jpJxp3lPLg_9"
      }
    },
    {
      "cell_type": "code",
      "source": [
        "resumo <- df %>%\n",
        "  summarize(\n",
        "    valor_minimo = min(valor),\n",
        "    valor_maximo = max(valor)\n",
        "  )\n",
        "\n",
        "resumo"
      ],
      "metadata": {
        "colab": {
          "base_uri": "https://localhost:8080/",
          "height": 129
        },
        "id": "FW-8g5KGLh8h",
        "outputId": "909a220b-9497-4fda-882c-62e05a4b519e"
      },
      "execution_count": 247,
      "outputs": [
        {
          "output_type": "display_data",
          "data": {
            "text/html": [
              "<table class=\"dataframe\">\n",
              "<caption>A data.frame: 1 × 2</caption>\n",
              "<thead>\n",
              "\t<tr><th scope=col>valor_minimo</th><th scope=col>valor_maximo</th></tr>\n",
              "\t<tr><th scope=col>&lt;dbl&gt;</th><th scope=col>&lt;dbl&gt;</th></tr>\n",
              "</thead>\n",
              "<tbody>\n",
              "\t<tr><td>10</td><td>25</td></tr>\n",
              "</tbody>\n",
              "</table>\n"
            ],
            "text/markdown": "\nA data.frame: 1 × 2\n\n| valor_minimo &lt;dbl&gt; | valor_maximo &lt;dbl&gt; |\n|---|---|\n| 10 | 25 |\n\n",
            "text/latex": "A data.frame: 1 × 2\n\\begin{tabular}{ll}\n valor\\_minimo & valor\\_maximo\\\\\n <dbl> & <dbl>\\\\\n\\hline\n\t 10 & 25\\\\\n\\end{tabular}\n",
            "text/plain": [
              "  valor_minimo valor_maximo\n",
              "1 10           25          "
            ]
          },
          "metadata": {}
        }
      ]
    },
    {
      "cell_type": "markdown",
      "source": [
        "**Diferença de Datas:**"
      ],
      "metadata": {
        "id": "rxW3hyfkLmVU"
      }
    },
    {
      "cell_type": "code",
      "source": [
        "df <- data.frame(\n",
        "  data_pedido = as.Date(c(\"2023-01-01\", \"2023-01-02\", \"2023-01-03\")),\n",
        "  data_entrega = as.Date(c(\"2023-01-05\", \"2023-01-06\", \"2023-01-07\"))\n",
        ")\n",
        "\n",
        "df"
      ],
      "metadata": {
        "colab": {
          "base_uri": "https://localhost:8080/",
          "height": 192
        },
        "id": "l5R1A_D0LnTI",
        "outputId": "eaf11209-002f-4194-e38f-65eb9acf842e"
      },
      "execution_count": 248,
      "outputs": [
        {
          "output_type": "display_data",
          "data": {
            "text/html": [
              "<table class=\"dataframe\">\n",
              "<caption>A data.frame: 3 × 2</caption>\n",
              "<thead>\n",
              "\t<tr><th scope=col>data_pedido</th><th scope=col>data_entrega</th></tr>\n",
              "\t<tr><th scope=col>&lt;date&gt;</th><th scope=col>&lt;date&gt;</th></tr>\n",
              "</thead>\n",
              "<tbody>\n",
              "\t<tr><td>2023-01-01</td><td>2023-01-05</td></tr>\n",
              "\t<tr><td>2023-01-02</td><td>2023-01-06</td></tr>\n",
              "\t<tr><td>2023-01-03</td><td>2023-01-07</td></tr>\n",
              "</tbody>\n",
              "</table>\n"
            ],
            "text/markdown": "\nA data.frame: 3 × 2\n\n| data_pedido &lt;date&gt; | data_entrega &lt;date&gt; |\n|---|---|\n| 2023-01-01 | 2023-01-05 |\n| 2023-01-02 | 2023-01-06 |\n| 2023-01-03 | 2023-01-07 |\n\n",
            "text/latex": "A data.frame: 3 × 2\n\\begin{tabular}{ll}\n data\\_pedido & data\\_entrega\\\\\n <date> & <date>\\\\\n\\hline\n\t 2023-01-01 & 2023-01-05\\\\\n\t 2023-01-02 & 2023-01-06\\\\\n\t 2023-01-03 & 2023-01-07\\\\\n\\end{tabular}\n",
            "text/plain": [
              "  data_pedido data_entrega\n",
              "1 2023-01-01  2023-01-05  \n",
              "2 2023-01-02  2023-01-06  \n",
              "3 2023-01-03  2023-01-07  "
            ]
          },
          "metadata": {}
        }
      ]
    },
    {
      "cell_type": "markdown",
      "source": [
        "**Calcular a diferença entre datas, por exemplo, a média dos tempos de entrega.**"
      ],
      "metadata": {
        "id": "mjt4FzQ2LudQ"
      }
    },
    {
      "cell_type": "code",
      "source": [
        "resumo <- df %>%\n",
        "  mutate(tempo_entrega = as.numeric(difftime(data_entrega, data_pedido, units = \"days\"))) %>%\n",
        "  summarize(media_tempo_entrega = mean(tempo_entrega))\n",
        "\n",
        "resumo"
      ],
      "metadata": {
        "colab": {
          "base_uri": "https://localhost:8080/",
          "height": 129
        },
        "id": "BekOvuKRLpJj",
        "outputId": "562ce07f-91bd-4ce8-e5a9-900aabeacb6b"
      },
      "execution_count": 249,
      "outputs": [
        {
          "output_type": "display_data",
          "data": {
            "text/html": [
              "<table class=\"dataframe\">\n",
              "<caption>A data.frame: 1 × 1</caption>\n",
              "<thead>\n",
              "\t<tr><th scope=col>media_tempo_entrega</th></tr>\n",
              "\t<tr><th scope=col>&lt;dbl&gt;</th></tr>\n",
              "</thead>\n",
              "<tbody>\n",
              "\t<tr><td>4</td></tr>\n",
              "</tbody>\n",
              "</table>\n"
            ],
            "text/markdown": "\nA data.frame: 1 × 1\n\n| media_tempo_entrega &lt;dbl&gt; |\n|---|\n| 4 |\n\n",
            "text/latex": "A data.frame: 1 × 1\n\\begin{tabular}{l}\n media\\_tempo\\_entrega\\\\\n <dbl>\\\\\n\\hline\n\t 4\\\\\n\\end{tabular}\n",
            "text/plain": [
              "  media_tempo_entrega\n",
              "1 4                  "
            ]
          },
          "metadata": {}
        }
      ]
    },
    {
      "cell_type": "markdown",
      "source": [
        "**Agregação Condicional:**"
      ],
      "metadata": {
        "id": "Qf9tpKFRL1QI"
      }
    },
    {
      "cell_type": "code",
      "source": [
        "df <- data.frame(a = 1:5, b = 6:10)\n",
        "df"
      ],
      "metadata": {
        "colab": {
          "base_uri": "https://localhost:8080/",
          "height": 272
        },
        "id": "yuCQumOZL29h",
        "outputId": "75cdb904-0b5a-4537-bff6-65d74b142848"
      },
      "execution_count": 250,
      "outputs": [
        {
          "output_type": "display_data",
          "data": {
            "text/html": [
              "<table class=\"dataframe\">\n",
              "<caption>A data.frame: 5 × 2</caption>\n",
              "<thead>\n",
              "\t<tr><th scope=col>a</th><th scope=col>b</th></tr>\n",
              "\t<tr><th scope=col>&lt;int&gt;</th><th scope=col>&lt;int&gt;</th></tr>\n",
              "</thead>\n",
              "<tbody>\n",
              "\t<tr><td>1</td><td> 6</td></tr>\n",
              "\t<tr><td>2</td><td> 7</td></tr>\n",
              "\t<tr><td>3</td><td> 8</td></tr>\n",
              "\t<tr><td>4</td><td> 9</td></tr>\n",
              "\t<tr><td>5</td><td>10</td></tr>\n",
              "</tbody>\n",
              "</table>\n"
            ],
            "text/markdown": "\nA data.frame: 5 × 2\n\n| a &lt;int&gt; | b &lt;int&gt; |\n|---|---|\n| 1 |  6 |\n| 2 |  7 |\n| 3 |  8 |\n| 4 |  9 |\n| 5 | 10 |\n\n",
            "text/latex": "A data.frame: 5 × 2\n\\begin{tabular}{ll}\n a & b\\\\\n <int> & <int>\\\\\n\\hline\n\t 1 &  6\\\\\n\t 2 &  7\\\\\n\t 3 &  8\\\\\n\t 4 &  9\\\\\n\t 5 & 10\\\\\n\\end{tabular}\n",
            "text/plain": [
              "  a b \n",
              "1 1  6\n",
              "2 2  7\n",
              "3 3  8\n",
              "4 4  9\n",
              "5 5 10"
            ]
          },
          "metadata": {}
        }
      ]
    },
    {
      "cell_type": "code",
      "source": [
        "resumo <- df %>%\n",
        "  summarize(\n",
        "    soma_se_a_maior_que_3 = sum(a[a > 3])\n",
        "  )\n",
        "\n",
        "resumo"
      ],
      "metadata": {
        "colab": {
          "base_uri": "https://localhost:8080/",
          "height": 129
        },
        "id": "yA5ZOsiaL4jJ",
        "outputId": "1da25b64-3b5b-4329-ab62-30f288d5a6ea"
      },
      "execution_count": 251,
      "outputs": [
        {
          "output_type": "display_data",
          "data": {
            "text/html": [
              "<table class=\"dataframe\">\n",
              "<caption>A data.frame: 1 × 1</caption>\n",
              "<thead>\n",
              "\t<tr><th scope=col>soma_se_a_maior_que_3</th></tr>\n",
              "\t<tr><th scope=col>&lt;int&gt;</th></tr>\n",
              "</thead>\n",
              "<tbody>\n",
              "\t<tr><td>9</td></tr>\n",
              "</tbody>\n",
              "</table>\n"
            ],
            "text/markdown": "\nA data.frame: 1 × 1\n\n| soma_se_a_maior_que_3 &lt;int&gt; |\n|---|\n| 9 |\n\n",
            "text/latex": "A data.frame: 1 × 1\n\\begin{tabular}{l}\n soma\\_se\\_a\\_maior\\_que\\_3\\\\\n <int>\\\\\n\\hline\n\t 9\\\\\n\\end{tabular}\n",
            "text/plain": [
              "  soma_se_a_maior_que_3\n",
              "1 9                    "
            ]
          },
          "metadata": {}
        }
      ]
    },
    {
      "cell_type": "markdown",
      "source": [
        "**Funções Customizadas:**"
      ],
      "metadata": {
        "id": "UZjUiLqCMGBf"
      }
    },
    {
      "cell_type": "code",
      "source": [
        "minha_funcao <- function(x) {\n",
        "  return(mean(x) * 2)\n",
        "}\n",
        "\n",
        "\n",
        "resumo <- df %>%\n",
        "  summarize(resultado_customizado = minha_funcao(10))\n",
        "\n",
        "resumo"
      ],
      "metadata": {
        "colab": {
          "base_uri": "https://localhost:8080/",
          "height": 129
        },
        "id": "3ROmckgpMG_w",
        "outputId": "91438046-64b4-49b5-b37e-34b2008ef3ed"
      },
      "execution_count": 252,
      "outputs": [
        {
          "output_type": "display_data",
          "data": {
            "text/html": [
              "<table class=\"dataframe\">\n",
              "<caption>A data.frame: 1 × 1</caption>\n",
              "<thead>\n",
              "\t<tr><th scope=col>resultado_customizado</th></tr>\n",
              "\t<tr><th scope=col>&lt;dbl&gt;</th></tr>\n",
              "</thead>\n",
              "<tbody>\n",
              "\t<tr><td>20</td></tr>\n",
              "</tbody>\n",
              "</table>\n"
            ],
            "text/markdown": "\nA data.frame: 1 × 1\n\n| resultado_customizado &lt;dbl&gt; |\n|---|\n| 20 |\n\n",
            "text/latex": "A data.frame: 1 × 1\n\\begin{tabular}{l}\n resultado\\_customizado\\\\\n <dbl>\\\\\n\\hline\n\t 20\\\\\n\\end{tabular}\n",
            "text/plain": [
              "  resultado_customizado\n",
              "1 20                   "
            ]
          },
          "metadata": {}
        }
      ]
    },
    {
      "cell_type": "markdown",
      "source": [
        "**Combinação com mutate**\n",
        "\n",
        "summarize pode ser combinado com mutate para criar colunas antes de resumir os dados."
      ],
      "metadata": {
        "id": "AIZiF2gSMWcv"
      }
    },
    {
      "cell_type": "code",
      "source": [
        "df <- data.frame(a = 1:5, b = 6:10)\n",
        "df"
      ],
      "metadata": {
        "colab": {
          "base_uri": "https://localhost:8080/",
          "height": 272
        },
        "id": "UQ406G7yMi-x",
        "outputId": "2753c457-862d-4e7f-8a10-5a1f3778d92b"
      },
      "execution_count": 253,
      "outputs": [
        {
          "output_type": "display_data",
          "data": {
            "text/html": [
              "<table class=\"dataframe\">\n",
              "<caption>A data.frame: 5 × 2</caption>\n",
              "<thead>\n",
              "\t<tr><th scope=col>a</th><th scope=col>b</th></tr>\n",
              "\t<tr><th scope=col>&lt;int&gt;</th><th scope=col>&lt;int&gt;</th></tr>\n",
              "</thead>\n",
              "<tbody>\n",
              "\t<tr><td>1</td><td> 6</td></tr>\n",
              "\t<tr><td>2</td><td> 7</td></tr>\n",
              "\t<tr><td>3</td><td> 8</td></tr>\n",
              "\t<tr><td>4</td><td> 9</td></tr>\n",
              "\t<tr><td>5</td><td>10</td></tr>\n",
              "</tbody>\n",
              "</table>\n"
            ],
            "text/markdown": "\nA data.frame: 5 × 2\n\n| a &lt;int&gt; | b &lt;int&gt; |\n|---|---|\n| 1 |  6 |\n| 2 |  7 |\n| 3 |  8 |\n| 4 |  9 |\n| 5 | 10 |\n\n",
            "text/latex": "A data.frame: 5 × 2\n\\begin{tabular}{ll}\n a & b\\\\\n <int> & <int>\\\\\n\\hline\n\t 1 &  6\\\\\n\t 2 &  7\\\\\n\t 3 &  8\\\\\n\t 4 &  9\\\\\n\t 5 & 10\\\\\n\\end{tabular}\n",
            "text/plain": [
              "  a b \n",
              "1 1  6\n",
              "2 2  7\n",
              "3 3  8\n",
              "4 4  9\n",
              "5 5 10"
            ]
          },
          "metadata": {}
        }
      ]
    },
    {
      "cell_type": "code",
      "source": [
        "valor = 20\n",
        "\n",
        "resumo <- df %>%\n",
        "  mutate(nova_coluna = valor * 2) %>%\n",
        "  summarize(soma_nova_coluna = sum(nova_coluna))\n",
        "\n",
        "resumo"
      ],
      "metadata": {
        "colab": {
          "base_uri": "https://localhost:8080/",
          "height": 129
        },
        "id": "bCbIWRnnMYim",
        "outputId": "cb962054-a9a8-4349-934f-0ab6fda18c10"
      },
      "execution_count": 254,
      "outputs": [
        {
          "output_type": "display_data",
          "data": {
            "text/html": [
              "<table class=\"dataframe\">\n",
              "<caption>A data.frame: 1 × 1</caption>\n",
              "<thead>\n",
              "\t<tr><th scope=col>soma_nova_coluna</th></tr>\n",
              "\t<tr><th scope=col>&lt;dbl&gt;</th></tr>\n",
              "</thead>\n",
              "<tbody>\n",
              "\t<tr><td>200</td></tr>\n",
              "</tbody>\n",
              "</table>\n"
            ],
            "text/markdown": "\nA data.frame: 1 × 1\n\n| soma_nova_coluna &lt;dbl&gt; |\n|---|\n| 200 |\n\n",
            "text/latex": "A data.frame: 1 × 1\n\\begin{tabular}{l}\n soma\\_nova\\_coluna\\\\\n <dbl>\\\\\n\\hline\n\t 200\\\\\n\\end{tabular}\n",
            "text/plain": [
              "  soma_nova_coluna\n",
              "1 200             "
            ]
          },
          "metadata": {}
        }
      ]
    },
    {
      "cell_type": "markdown",
      "source": [
        "**Ordenação dos Resultados:**"
      ],
      "metadata": {
        "id": "JoddLBOKMxoB"
      }
    },
    {
      "cell_type": "code",
      "source": [
        "df <- data.frame(grupo = c(\"A\", \"A\", \"B\", \"B\"), valor = c(10, 15, 20, 25))\n",
        "resumo <- df %>%\n",
        "  group_by(grupo) %>%\n",
        "  summarize(soma_valor = sum(valor))\n",
        "\n",
        "df"
      ],
      "metadata": {
        "colab": {
          "base_uri": "https://localhost:8080/",
          "height": 241
        },
        "id": "kY13G5npNI7r",
        "outputId": "e6b3dbaa-aba1-48c0-f588-4758cff3b6bb"
      },
      "execution_count": 255,
      "outputs": [
        {
          "output_type": "display_data",
          "data": {
            "text/html": [
              "<table class=\"dataframe\">\n",
              "<caption>A data.frame: 4 × 2</caption>\n",
              "<thead>\n",
              "\t<tr><th scope=col>grupo</th><th scope=col>valor</th></tr>\n",
              "\t<tr><th scope=col>&lt;chr&gt;</th><th scope=col>&lt;dbl&gt;</th></tr>\n",
              "</thead>\n",
              "<tbody>\n",
              "\t<tr><td>A</td><td>10</td></tr>\n",
              "\t<tr><td>A</td><td>15</td></tr>\n",
              "\t<tr><td>B</td><td>20</td></tr>\n",
              "\t<tr><td>B</td><td>25</td></tr>\n",
              "</tbody>\n",
              "</table>\n"
            ],
            "text/markdown": "\nA data.frame: 4 × 2\n\n| grupo &lt;chr&gt; | valor &lt;dbl&gt; |\n|---|---|\n| A | 10 |\n| A | 15 |\n| B | 20 |\n| B | 25 |\n\n",
            "text/latex": "A data.frame: 4 × 2\n\\begin{tabular}{ll}\n grupo & valor\\\\\n <chr> & <dbl>\\\\\n\\hline\n\t A & 10\\\\\n\t A & 15\\\\\n\t B & 20\\\\\n\t B & 25\\\\\n\\end{tabular}\n",
            "text/plain": [
              "  grupo valor\n",
              "1 A     10   \n",
              "2 A     15   \n",
              "3 B     20   \n",
              "4 B     25   "
            ]
          },
          "metadata": {}
        }
      ]
    },
    {
      "cell_type": "code",
      "source": [
        "valor = 15\n",
        "\n",
        "resumo <- df %>%\n",
        "  group_by(grupo) %>%\n",
        "  summarize(media_valor = mean(valor)) %>%\n",
        "  arrange(desc(media_valor))\n",
        "\n",
        "resumo"
      ],
      "metadata": {
        "colab": {
          "base_uri": "https://localhost:8080/",
          "height": 161
        },
        "id": "t600KRraMahG",
        "outputId": "2ab8f25b-ce22-4b7f-95f5-7908793b23bc"
      },
      "execution_count": 256,
      "outputs": [
        {
          "output_type": "display_data",
          "data": {
            "text/html": [
              "<table class=\"dataframe\">\n",
              "<caption>A tibble: 2 × 2</caption>\n",
              "<thead>\n",
              "\t<tr><th scope=col>grupo</th><th scope=col>media_valor</th></tr>\n",
              "\t<tr><th scope=col>&lt;chr&gt;</th><th scope=col>&lt;dbl&gt;</th></tr>\n",
              "</thead>\n",
              "<tbody>\n",
              "\t<tr><td>B</td><td>22.5</td></tr>\n",
              "\t<tr><td>A</td><td>12.5</td></tr>\n",
              "</tbody>\n",
              "</table>\n"
            ],
            "text/markdown": "\nA tibble: 2 × 2\n\n| grupo &lt;chr&gt; | media_valor &lt;dbl&gt; |\n|---|---|\n| B | 22.5 |\n| A | 12.5 |\n\n",
            "text/latex": "A tibble: 2 × 2\n\\begin{tabular}{ll}\n grupo & media\\_valor\\\\\n <chr> & <dbl>\\\\\n\\hline\n\t B & 22.5\\\\\n\t A & 12.5\\\\\n\\end{tabular}\n",
            "text/plain": [
              "  grupo media_valor\n",
              "1 B     22.5       \n",
              "2 A     12.5       "
            ]
          },
          "metadata": {}
        }
      ]
    },
    {
      "cell_type": "markdown",
      "source": [
        "**Desafio**\n",
        "\n",
        "Calcular a porcentagem de pedidos por região do Brasil\n",
        "\n",
        "**Solução**\n",
        "\n",
        "Usar a função group by para agrupar os pedidos por região"
      ],
      "metadata": {
        "id": "0-gNmnB2NYFC"
      }
    },
    {
      "cell_type": "markdown",
      "source": [
        "**Agrupando os pedidos por região**"
      ],
      "metadata": {
        "id": "-upMkHcGNkXx"
      }
    },
    {
      "cell_type": "code",
      "source": [
        "percentual_pedidos_por_regiao <- pedidos %>%\n",
        "  group_by(Regiao) %>%\n",
        "  summarize(QuantidadePedidos = n()) %>%\n",
        "  mutate(Percentual = (QuantidadePedidos / sum(QuantidadePedidos)) *100)\n",
        "\n",
        "percentual_pedidos_por_regiao"
      ],
      "metadata": {
        "colab": {
          "base_uri": "https://localhost:8080/",
          "height": 255
        },
        "id": "N0VVid9aNna9",
        "outputId": "544a9a61-4346-4dee-e9b4-13516ebd481d"
      },
      "execution_count": 257,
      "outputs": [
        {
          "output_type": "display_data",
          "data": {
            "text/html": [
              "<table class=\"dataframe\">\n",
              "<caption>A tibble: 5 × 3</caption>\n",
              "<thead>\n",
              "\t<tr><th scope=col>Regiao</th><th scope=col>QuantidadePedidos</th><th scope=col>Percentual</th></tr>\n",
              "\t<tr><th scope=col>&lt;chr&gt;</th><th scope=col>&lt;int&gt;</th><th scope=col>&lt;dbl&gt;</th></tr>\n",
              "</thead>\n",
              "<tbody>\n",
              "\t<tr><td>Centro-Oeste</td><td>22</td><td>10.000000</td></tr>\n",
              "\t<tr><td>Nordeste    </td><td>13</td><td> 5.909091</td></tr>\n",
              "\t<tr><td>Norte       </td><td>25</td><td>11.363636</td></tr>\n",
              "\t<tr><td>Sudeste     </td><td>91</td><td>41.363636</td></tr>\n",
              "\t<tr><td>Sul         </td><td>69</td><td>31.363636</td></tr>\n",
              "</tbody>\n",
              "</table>\n"
            ],
            "text/markdown": "\nA tibble: 5 × 3\n\n| Regiao &lt;chr&gt; | QuantidadePedidos &lt;int&gt; | Percentual &lt;dbl&gt; |\n|---|---|---|\n| Centro-Oeste | 22 | 10.000000 |\n| Nordeste     | 13 |  5.909091 |\n| Norte        | 25 | 11.363636 |\n| Sudeste      | 91 | 41.363636 |\n| Sul          | 69 | 31.363636 |\n\n",
            "text/latex": "A tibble: 5 × 3\n\\begin{tabular}{lll}\n Regiao & QuantidadePedidos & Percentual\\\\\n <chr> & <int> & <dbl>\\\\\n\\hline\n\t Centro-Oeste & 22 & 10.000000\\\\\n\t Nordeste     & 13 &  5.909091\\\\\n\t Norte        & 25 & 11.363636\\\\\n\t Sudeste      & 91 & 41.363636\\\\\n\t Sul          & 69 & 31.363636\\\\\n\\end{tabular}\n",
            "text/plain": [
              "  Regiao       QuantidadePedidos Percentual\n",
              "1 Centro-Oeste 22                10.000000 \n",
              "2 Nordeste     13                 5.909091 \n",
              "3 Norte        25                11.363636 \n",
              "4 Sudeste      91                41.363636 \n",
              "5 Sul          69                31.363636 "
            ]
          },
          "metadata": {}
        }
      ]
    },
    {
      "cell_type": "markdown",
      "source": [
        "# Trabalhando os dados"
      ],
      "metadata": {
        "id": "pKpY0kUMOpIH"
      }
    },
    {
      "cell_type": "markdown",
      "source": [
        "**Desafio**\n",
        "\n",
        "Deixar as datas em um formato mais eficiente para análise e futuros gráficos temporais\n",
        "\n",
        "**Solução**\n",
        "\n",
        "Usar a função pivot longer do pacote tidyr para transformar as colunas DataPedido e DataEntrega do formato largo para o formato longo"
      ],
      "metadata": {
        "id": "sk1SGEfSOqzm"
      }
    },
    {
      "cell_type": "markdown",
      "source": [
        "**Transformando as colunas DataPedido e DataEntrega para o formato longo:**"
      ],
      "metadata": {
        "id": "RaNrzRNvPI9O"
      }
    },
    {
      "cell_type": "code",
      "source": [
        "pedidos <- pedidos %>%\n",
        "  pivot_longer(\n",
        "  cols = c(DataPedido, DataEntrega),\n",
        "  names_to = \"TipoData\",\n",
        "  values_to = \"Data\"\n",
        "  )\n",
        "\n",
        "head(pedidos)"
      ],
      "metadata": {
        "colab": {
          "base_uri": "https://localhost:8080/",
          "height": 390
        },
        "id": "8-cSeJG5PPaJ",
        "outputId": "42e4f4c9-7d89-4e8a-dc12-335cf263f462"
      },
      "execution_count": 258,
      "outputs": [
        {
          "output_type": "display_data",
          "data": {
            "text/html": [
              "<table class=\"dataframe\">\n",
              "<caption>A tibble: 6 × 9</caption>\n",
              "<thead>\n",
              "\t<tr><th scope=col>PedidoID</th><th scope=col>ClienteID</th><th scope=col>Status</th><th scope=col>ValorTotal</th><th scope=col>TransportadorID</th><th scope=col>Regiao</th><th scope=col>EnderecoPedido</th><th scope=col>TipoData</th><th scope=col>Data</th></tr>\n",
              "\t<tr><th scope=col>&lt;dbl&gt;</th><th scope=col>&lt;dbl&gt;</th><th scope=col>&lt;chr&gt;</th><th scope=col>&lt;dbl&gt;</th><th scope=col>&lt;dbl&gt;</th><th scope=col>&lt;chr&gt;</th><th scope=col>&lt;chr&gt;</th><th scope=col>&lt;chr&gt;</th><th scope=col>&lt;dttm&gt;</th></tr>\n",
              "</thead>\n",
              "<tbody>\n",
              "\t<tr><td>101</td><td>14</td><td>Entregue</td><td>1895.15</td><td>2</td><td>Sudeste</td><td>Travessa das Palmeiras, 789, Savassi, Belo Horizonte, 30100-000</td><td>DataPedido </td><td>2024-07-01 18:56:18</td></tr>\n",
              "\t<tr><td>101</td><td>14</td><td>Entregue</td><td>1895.15</td><td>2</td><td>Sudeste</td><td>Travessa das Palmeiras, 789, Savassi, Belo Horizonte, 30100-000</td><td>DataEntrega</td><td>2024-07-14 08:00:17</td></tr>\n",
              "\t<tr><td>102</td><td>12</td><td>Entregue</td><td>2827.16</td><td>2</td><td>Sudeste</td><td>Avenida Paulista, 456, Bela Vista, São Paulo, 01300-000        </td><td>DataPedido </td><td>2024-07-02 20:57:26</td></tr>\n",
              "\t<tr><td>102</td><td>12</td><td>Entregue</td><td>2827.16</td><td>2</td><td>Sudeste</td><td>Avenida Paulista, 456, Bela Vista, São Paulo, 01300-000        </td><td>DataEntrega</td><td>2024-07-12 11:46:21</td></tr>\n",
              "\t<tr><td>103</td><td> 3</td><td>Entregue</td><td>2576.52</td><td>2</td><td>Norte  </td><td>Rua das Flores, 123, Centro, Manaus, 69000-000                 </td><td>DataPedido </td><td>2024-07-03 17:18:26</td></tr>\n",
              "\t<tr><td>103</td><td> 3</td><td>Entregue</td><td>2576.52</td><td>2</td><td>Norte  </td><td>Rua das Flores, 123, Centro, Manaus, 69000-000                 </td><td>DataEntrega</td><td>2024-07-22 08:57:49</td></tr>\n",
              "</tbody>\n",
              "</table>\n"
            ],
            "text/markdown": "\nA tibble: 6 × 9\n\n| PedidoID &lt;dbl&gt; | ClienteID &lt;dbl&gt; | Status &lt;chr&gt; | ValorTotal &lt;dbl&gt; | TransportadorID &lt;dbl&gt; | Regiao &lt;chr&gt; | EnderecoPedido &lt;chr&gt; | TipoData &lt;chr&gt; | Data &lt;dttm&gt; |\n|---|---|---|---|---|---|---|---|---|\n| 101 | 14 | Entregue | 1895.15 | 2 | Sudeste | Travessa das Palmeiras, 789, Savassi, Belo Horizonte, 30100-000 | DataPedido  | 2024-07-01 18:56:18 |\n| 101 | 14 | Entregue | 1895.15 | 2 | Sudeste | Travessa das Palmeiras, 789, Savassi, Belo Horizonte, 30100-000 | DataEntrega | 2024-07-14 08:00:17 |\n| 102 | 12 | Entregue | 2827.16 | 2 | Sudeste | Avenida Paulista, 456, Bela Vista, São Paulo, 01300-000         | DataPedido  | 2024-07-02 20:57:26 |\n| 102 | 12 | Entregue | 2827.16 | 2 | Sudeste | Avenida Paulista, 456, Bela Vista, São Paulo, 01300-000         | DataEntrega | 2024-07-12 11:46:21 |\n| 103 |  3 | Entregue | 2576.52 | 2 | Norte   | Rua das Flores, 123, Centro, Manaus, 69000-000                  | DataPedido  | 2024-07-03 17:18:26 |\n| 103 |  3 | Entregue | 2576.52 | 2 | Norte   | Rua das Flores, 123, Centro, Manaus, 69000-000                  | DataEntrega | 2024-07-22 08:57:49 |\n\n",
            "text/latex": "A tibble: 6 × 9\n\\begin{tabular}{lllllllll}\n PedidoID & ClienteID & Status & ValorTotal & TransportadorID & Regiao & EnderecoPedido & TipoData & Data\\\\\n <dbl> & <dbl> & <chr> & <dbl> & <dbl> & <chr> & <chr> & <chr> & <dttm>\\\\\n\\hline\n\t 101 & 14 & Entregue & 1895.15 & 2 & Sudeste & Travessa das Palmeiras, 789, Savassi, Belo Horizonte, 30100-000 & DataPedido  & 2024-07-01 18:56:18\\\\\n\t 101 & 14 & Entregue & 1895.15 & 2 & Sudeste & Travessa das Palmeiras, 789, Savassi, Belo Horizonte, 30100-000 & DataEntrega & 2024-07-14 08:00:17\\\\\n\t 102 & 12 & Entregue & 2827.16 & 2 & Sudeste & Avenida Paulista, 456, Bela Vista, São Paulo, 01300-000         & DataPedido  & 2024-07-02 20:57:26\\\\\n\t 102 & 12 & Entregue & 2827.16 & 2 & Sudeste & Avenida Paulista, 456, Bela Vista, São Paulo, 01300-000         & DataEntrega & 2024-07-12 11:46:21\\\\\n\t 103 &  3 & Entregue & 2576.52 & 2 & Norte   & Rua das Flores, 123, Centro, Manaus, 69000-000                  & DataPedido  & 2024-07-03 17:18:26\\\\\n\t 103 &  3 & Entregue & 2576.52 & 2 & Norte   & Rua das Flores, 123, Centro, Manaus, 69000-000                  & DataEntrega & 2024-07-22 08:57:49\\\\\n\\end{tabular}\n",
            "text/plain": [
              "  PedidoID ClienteID Status   ValorTotal TransportadorID Regiao \n",
              "1 101      14        Entregue 1895.15    2               Sudeste\n",
              "2 101      14        Entregue 1895.15    2               Sudeste\n",
              "3 102      12        Entregue 2827.16    2               Sudeste\n",
              "4 102      12        Entregue 2827.16    2               Sudeste\n",
              "5 103       3        Entregue 2576.52    2               Norte  \n",
              "6 103       3        Entregue 2576.52    2               Norte  \n",
              "  EnderecoPedido                                                  TipoData   \n",
              "1 Travessa das Palmeiras, 789, Savassi, Belo Horizonte, 30100-000 DataPedido \n",
              "2 Travessa das Palmeiras, 789, Savassi, Belo Horizonte, 30100-000 DataEntrega\n",
              "3 Avenida Paulista, 456, Bela Vista, São Paulo, 01300-000         DataPedido \n",
              "4 Avenida Paulista, 456, Bela Vista, São Paulo, 01300-000         DataEntrega\n",
              "5 Rua das Flores, 123, Centro, Manaus, 69000-000                  DataPedido \n",
              "6 Rua das Flores, 123, Centro, Manaus, 69000-000                  DataEntrega\n",
              "  Data               \n",
              "1 2024-07-01 18:56:18\n",
              "2 2024-07-14 08:00:17\n",
              "3 2024-07-02 20:57:26\n",
              "4 2024-07-12 11:46:21\n",
              "5 2024-07-03 17:18:26\n",
              "6 2024-07-22 08:57:49"
            ]
          },
          "metadata": {}
        }
      ]
    },
    {
      "cell_type": "markdown",
      "source": [
        "**trabalhando com a função pivot_longer do pacote tidyr**\n",
        "\n",
        "A função pivot_longer do pacote tidyr em R é usada para transformar dados em formato largo (wide) para o formato longo (long). Esta transformação é frequentemente necessária para preparar dados para análises e visualizações, especialmente ao trabalhar com dados de séries temporais e análises estatísticas que requerem uma estrutura de dados \"longa\".\n",
        "\n",
        "**Entendendo o Formato Longo vs. Largo**\n",
        "\n",
        "Formato Largo (Wide): Cada variável tem sua própria coluna, resultando em muitas colunas e poucas linhas.\n",
        "\n",
        "Formato Longo (Long): Cada observação tem sua própria linha, resultando em menos colunas, mas mais linhas."
      ],
      "metadata": {
        "id": "1fWmIOUBQSHT"
      }
    },
    {
      "cell_type": "markdown",
      "source": [
        "**A função pivot_longer tem uma sintaxe bem intuitiva**\n",
        "\n",
        "pivot_longer(data, cols, names_to = \"name\", values_to = \"value\")\n",
        "\n",
        "data: O data frame que você deseja transformar.\n",
        "cols: As colunas que você deseja transformar do formato largo para o formato longo.\n",
        "names_to: O nome da coluna que conterá os nomes das variáveis.\n",
        "values_to: O nome da coluna que conterá os valores das variáveis."
      ],
      "metadata": {
        "id": "MngaWnalQbLn"
      }
    },
    {
      "cell_type": "code",
      "source": [
        "library(tidyr)\n",
        "library(dplyr)\n",
        "\n",
        "df <- data.frame(\n",
        "  Produto = c(\"A\", \"B\", \"C\"),\n",
        "  Q1 = c(10, 20, 30),\n",
        "  Q2 = c(15, 25, 35),\n",
        "  Q3 = c(20, 30, 40),\n",
        "  Q4 = c(25, 35, 45)\n",
        ")\n",
        "\n",
        "# Aplicando pivot_longer\n",
        "df_long <- df %>%\n",
        "  pivot_longer(cols = starts_with(\"Q\"), names_to = \"Trimestre\", values_to = \"Vendas\")\n",
        "\n",
        "print(df_long)"
      ],
      "metadata": {
        "colab": {
          "base_uri": "https://localhost:8080/"
        },
        "id": "ofNK9tKoQc2H",
        "outputId": "556b6c50-d12e-42e3-af07-4517e8496b90"
      },
      "execution_count": 261,
      "outputs": [
        {
          "output_type": "stream",
          "name": "stdout",
          "text": [
            "\u001b[90m# A tibble: 12 × 3\u001b[39m\n",
            "   Produto Trimestre Vendas\n",
            "   \u001b[3m\u001b[90m<chr>\u001b[39m\u001b[23m   \u001b[3m\u001b[90m<chr>\u001b[39m\u001b[23m      \u001b[3m\u001b[90m<dbl>\u001b[39m\u001b[23m\n",
            "\u001b[90m 1\u001b[39m A       Q1            10\n",
            "\u001b[90m 2\u001b[39m A       Q2            15\n",
            "\u001b[90m 3\u001b[39m A       Q3            20\n",
            "\u001b[90m 4\u001b[39m A       Q4            25\n",
            "\u001b[90m 5\u001b[39m B       Q1            20\n",
            "\u001b[90m 6\u001b[39m B       Q2            25\n",
            "\u001b[90m 7\u001b[39m B       Q3            30\n",
            "\u001b[90m 8\u001b[39m B       Q4            35\n",
            "\u001b[90m 9\u001b[39m C       Q1            30\n",
            "\u001b[90m10\u001b[39m C       Q2            35\n",
            "\u001b[90m11\u001b[39m C       Q3            40\n",
            "\u001b[90m12\u001b[39m C       Q4            45\n"
          ]
        }
      ]
    },
    {
      "cell_type": "markdown",
      "source": [
        "**Especificando Múltiplas Colunas**\n",
        "\n",
        "Quando você precisa transformar várias colunas ao mesmo tempo, pivot_longer oferece flexibilidade para lidar com diferentes padrões de nomes de colunas:"
      ],
      "metadata": {
        "id": "izNGz9kMQvYV"
      }
    },
    {
      "cell_type": "code",
      "source": [
        "df <- data.frame(\n",
        "  id = 1:3,\n",
        "  altura_2018 = c(150, 160, 170),\n",
        "  peso_2018 = c(60, 70, 80),\n",
        "  altura_2019 = c(152, 162, 172),\n",
        "  peso_2019 = c(62, 72, 82)\n",
        ")\n",
        "\n",
        "# Aplicando pivot_longer para múltiplas colunas\n",
        "df_long <- df %>%\n",
        "  pivot_longer(cols = -id, names_to = c(\".value\", \"Ano\"), names_sep = \"_\")\n",
        "\n",
        "print(df_long)"
      ],
      "metadata": {
        "colab": {
          "base_uri": "https://localhost:8080/"
        },
        "id": "mhX7Ytc3QynS",
        "outputId": "4a7cae63-81f4-4c62-a89c-7cadc91b6fc1"
      },
      "execution_count": 262,
      "outputs": [
        {
          "output_type": "stream",
          "name": "stdout",
          "text": [
            "\u001b[90m# A tibble: 6 × 4\u001b[39m\n",
            "     id Ano   altura  peso\n",
            "  \u001b[3m\u001b[90m<int>\u001b[39m\u001b[23m \u001b[3m\u001b[90m<chr>\u001b[39m\u001b[23m  \u001b[3m\u001b[90m<dbl>\u001b[39m\u001b[23m \u001b[3m\u001b[90m<dbl>\u001b[39m\u001b[23m\n",
            "\u001b[90m1\u001b[39m     1 2018     150    60\n",
            "\u001b[90m2\u001b[39m     1 2019     152    62\n",
            "\u001b[90m3\u001b[39m     2 2018     160    70\n",
            "\u001b[90m4\u001b[39m     2 2019     162    72\n",
            "\u001b[90m5\u001b[39m     3 2018     170    80\n",
            "\u001b[90m6\u001b[39m     3 2019     172    82\n"
          ]
        }
      ]
    },
    {
      "cell_type": "markdown",
      "source": [
        "**Desafio**\n",
        "\n",
        "Separar a informação de horário da informação de data\n",
        "\n",
        "** Solução**\n",
        "\n",
        "Usar a função separete do pacote tidyr"
      ],
      "metadata": {
        "id": "41s4HNTrS-C8"
      }
    },
    {
      "cell_type": "markdown",
      "source": [
        "**Separando os horários da coluna data**"
      ],
      "metadata": {
        "id": "VA_EeT1nTMCO"
      }
    },
    {
      "cell_type": "code",
      "source": [
        "pedidos <- pedidos %>%\n",
        "  separate(Data, into= c(\"Data\", \"Horario\"), sep = \" \")"
      ],
      "metadata": {
        "id": "YzQ7ov1NTPM4"
      },
      "execution_count": 263,
      "outputs": []
    },
    {
      "cell_type": "code",
      "source": [
        "head(pedidos)"
      ],
      "metadata": {
        "colab": {
          "base_uri": "https://localhost:8080/",
          "height": 425
        },
        "id": "qyiIUcmnTecJ",
        "outputId": "01a92ac3-70ba-4649-af36-41081bc7f4c3"
      },
      "execution_count": 264,
      "outputs": [
        {
          "output_type": "display_data",
          "data": {
            "text/html": [
              "<table class=\"dataframe\">\n",
              "<caption>A tibble: 6 × 10</caption>\n",
              "<thead>\n",
              "\t<tr><th scope=col>PedidoID</th><th scope=col>ClienteID</th><th scope=col>Status</th><th scope=col>ValorTotal</th><th scope=col>TransportadorID</th><th scope=col>Regiao</th><th scope=col>EnderecoPedido</th><th scope=col>TipoData</th><th scope=col>Data</th><th scope=col>Horario</th></tr>\n",
              "\t<tr><th scope=col>&lt;dbl&gt;</th><th scope=col>&lt;dbl&gt;</th><th scope=col>&lt;chr&gt;</th><th scope=col>&lt;dbl&gt;</th><th scope=col>&lt;dbl&gt;</th><th scope=col>&lt;chr&gt;</th><th scope=col>&lt;chr&gt;</th><th scope=col>&lt;chr&gt;</th><th scope=col>&lt;chr&gt;</th><th scope=col>&lt;chr&gt;</th></tr>\n",
              "</thead>\n",
              "<tbody>\n",
              "\t<tr><td>101</td><td>14</td><td>Entregue</td><td>1895.15</td><td>2</td><td>Sudeste</td><td>Travessa das Palmeiras, 789, Savassi, Belo Horizonte, 30100-000</td><td>DataPedido </td><td>2024-07-01</td><td>18:56:18</td></tr>\n",
              "\t<tr><td>101</td><td>14</td><td>Entregue</td><td>1895.15</td><td>2</td><td>Sudeste</td><td>Travessa das Palmeiras, 789, Savassi, Belo Horizonte, 30100-000</td><td>DataEntrega</td><td>2024-07-14</td><td>08:00:17</td></tr>\n",
              "\t<tr><td>102</td><td>12</td><td>Entregue</td><td>2827.16</td><td>2</td><td>Sudeste</td><td>Avenida Paulista, 456, Bela Vista, São Paulo, 01300-000        </td><td>DataPedido </td><td>2024-07-02</td><td>20:57:26</td></tr>\n",
              "\t<tr><td>102</td><td>12</td><td>Entregue</td><td>2827.16</td><td>2</td><td>Sudeste</td><td>Avenida Paulista, 456, Bela Vista, São Paulo, 01300-000        </td><td>DataEntrega</td><td>2024-07-12</td><td>11:46:21</td></tr>\n",
              "\t<tr><td>103</td><td> 3</td><td>Entregue</td><td>2576.52</td><td>2</td><td>Norte  </td><td>Rua das Flores, 123, Centro, Manaus, 69000-000                 </td><td>DataPedido </td><td>2024-07-03</td><td>17:18:26</td></tr>\n",
              "\t<tr><td>103</td><td> 3</td><td>Entregue</td><td>2576.52</td><td>2</td><td>Norte  </td><td>Rua das Flores, 123, Centro, Manaus, 69000-000                 </td><td>DataEntrega</td><td>2024-07-22</td><td>08:57:49</td></tr>\n",
              "</tbody>\n",
              "</table>\n"
            ],
            "text/markdown": "\nA tibble: 6 × 10\n\n| PedidoID &lt;dbl&gt; | ClienteID &lt;dbl&gt; | Status &lt;chr&gt; | ValorTotal &lt;dbl&gt; | TransportadorID &lt;dbl&gt; | Regiao &lt;chr&gt; | EnderecoPedido &lt;chr&gt; | TipoData &lt;chr&gt; | Data &lt;chr&gt; | Horario &lt;chr&gt; |\n|---|---|---|---|---|---|---|---|---|---|\n| 101 | 14 | Entregue | 1895.15 | 2 | Sudeste | Travessa das Palmeiras, 789, Savassi, Belo Horizonte, 30100-000 | DataPedido  | 2024-07-01 | 18:56:18 |\n| 101 | 14 | Entregue | 1895.15 | 2 | Sudeste | Travessa das Palmeiras, 789, Savassi, Belo Horizonte, 30100-000 | DataEntrega | 2024-07-14 | 08:00:17 |\n| 102 | 12 | Entregue | 2827.16 | 2 | Sudeste | Avenida Paulista, 456, Bela Vista, São Paulo, 01300-000         | DataPedido  | 2024-07-02 | 20:57:26 |\n| 102 | 12 | Entregue | 2827.16 | 2 | Sudeste | Avenida Paulista, 456, Bela Vista, São Paulo, 01300-000         | DataEntrega | 2024-07-12 | 11:46:21 |\n| 103 |  3 | Entregue | 2576.52 | 2 | Norte   | Rua das Flores, 123, Centro, Manaus, 69000-000                  | DataPedido  | 2024-07-03 | 17:18:26 |\n| 103 |  3 | Entregue | 2576.52 | 2 | Norte   | Rua das Flores, 123, Centro, Manaus, 69000-000                  | DataEntrega | 2024-07-22 | 08:57:49 |\n\n",
            "text/latex": "A tibble: 6 × 10\n\\begin{tabular}{llllllllll}\n PedidoID & ClienteID & Status & ValorTotal & TransportadorID & Regiao & EnderecoPedido & TipoData & Data & Horario\\\\\n <dbl> & <dbl> & <chr> & <dbl> & <dbl> & <chr> & <chr> & <chr> & <chr> & <chr>\\\\\n\\hline\n\t 101 & 14 & Entregue & 1895.15 & 2 & Sudeste & Travessa das Palmeiras, 789, Savassi, Belo Horizonte, 30100-000 & DataPedido  & 2024-07-01 & 18:56:18\\\\\n\t 101 & 14 & Entregue & 1895.15 & 2 & Sudeste & Travessa das Palmeiras, 789, Savassi, Belo Horizonte, 30100-000 & DataEntrega & 2024-07-14 & 08:00:17\\\\\n\t 102 & 12 & Entregue & 2827.16 & 2 & Sudeste & Avenida Paulista, 456, Bela Vista, São Paulo, 01300-000         & DataPedido  & 2024-07-02 & 20:57:26\\\\\n\t 102 & 12 & Entregue & 2827.16 & 2 & Sudeste & Avenida Paulista, 456, Bela Vista, São Paulo, 01300-000         & DataEntrega & 2024-07-12 & 11:46:21\\\\\n\t 103 &  3 & Entregue & 2576.52 & 2 & Norte   & Rua das Flores, 123, Centro, Manaus, 69000-000                  & DataPedido  & 2024-07-03 & 17:18:26\\\\\n\t 103 &  3 & Entregue & 2576.52 & 2 & Norte   & Rua das Flores, 123, Centro, Manaus, 69000-000                  & DataEntrega & 2024-07-22 & 08:57:49\\\\\n\\end{tabular}\n",
            "text/plain": [
              "  PedidoID ClienteID Status   ValorTotal TransportadorID Regiao \n",
              "1 101      14        Entregue 1895.15    2               Sudeste\n",
              "2 101      14        Entregue 1895.15    2               Sudeste\n",
              "3 102      12        Entregue 2827.16    2               Sudeste\n",
              "4 102      12        Entregue 2827.16    2               Sudeste\n",
              "5 103       3        Entregue 2576.52    2               Norte  \n",
              "6 103       3        Entregue 2576.52    2               Norte  \n",
              "  EnderecoPedido                                                  TipoData   \n",
              "1 Travessa das Palmeiras, 789, Savassi, Belo Horizonte, 30100-000 DataPedido \n",
              "2 Travessa das Palmeiras, 789, Savassi, Belo Horizonte, 30100-000 DataEntrega\n",
              "3 Avenida Paulista, 456, Bela Vista, São Paulo, 01300-000         DataPedido \n",
              "4 Avenida Paulista, 456, Bela Vista, São Paulo, 01300-000         DataEntrega\n",
              "5 Rua das Flores, 123, Centro, Manaus, 69000-000                  DataPedido \n",
              "6 Rua das Flores, 123, Centro, Manaus, 69000-000                  DataEntrega\n",
              "  Data       Horario \n",
              "1 2024-07-01 18:56:18\n",
              "2 2024-07-14 08:00:17\n",
              "3 2024-07-02 20:57:26\n",
              "4 2024-07-12 11:46:21\n",
              "5 2024-07-03 17:18:26\n",
              "6 2024-07-22 08:57:49"
            ]
          },
          "metadata": {}
        }
      ]
    },
    {
      "cell_type": "markdown",
      "source": [
        "**Desafio**\n",
        "\n",
        "Separar dados do CEP da coluna de endereço\n",
        "\n",
        "**Solução**\n",
        "\n",
        "Usar a função str_extract do pacote stringr"
      ],
      "metadata": {
        "id": "v3QgbHUHUGwq"
      }
    },
    {
      "cell_type": "code",
      "source": [
        "pedidos <- pedidos %>%\n",
        "  mutate(\n",
        "  CEP = str_extract(EnderecoPedido, \"\\\\d{5}-\\\\d{3}\")\n",
        "  )\n",
        "\n",
        "head(pedidos)"
      ],
      "metadata": {
        "colab": {
          "base_uri": "https://localhost:8080/",
          "height": 564
        },
        "id": "KDqAs1S3USku",
        "outputId": "07937850-a056-487d-fdae-aeda258def75"
      },
      "execution_count": 265,
      "outputs": [
        {
          "output_type": "display_data",
          "data": {
            "text/html": [
              "<table class=\"dataframe\">\n",
              "<caption>A tibble: 6 × 11</caption>\n",
              "<thead>\n",
              "\t<tr><th scope=col>PedidoID</th><th scope=col>ClienteID</th><th scope=col>Status</th><th scope=col>ValorTotal</th><th scope=col>TransportadorID</th><th scope=col>Regiao</th><th scope=col>EnderecoPedido</th><th scope=col>TipoData</th><th scope=col>Data</th><th scope=col>Horario</th><th scope=col>CEP</th></tr>\n",
              "\t<tr><th scope=col>&lt;dbl&gt;</th><th scope=col>&lt;dbl&gt;</th><th scope=col>&lt;chr&gt;</th><th scope=col>&lt;dbl&gt;</th><th scope=col>&lt;dbl&gt;</th><th scope=col>&lt;chr&gt;</th><th scope=col>&lt;chr&gt;</th><th scope=col>&lt;chr&gt;</th><th scope=col>&lt;chr&gt;</th><th scope=col>&lt;chr&gt;</th><th scope=col>&lt;chr&gt;</th></tr>\n",
              "</thead>\n",
              "<tbody>\n",
              "\t<tr><td>101</td><td>14</td><td>Entregue</td><td>1895.15</td><td>2</td><td>Sudeste</td><td>Travessa das Palmeiras, 789, Savassi, Belo Horizonte, 30100-000</td><td>DataPedido </td><td>2024-07-01</td><td>18:56:18</td><td>30100-000</td></tr>\n",
              "\t<tr><td>101</td><td>14</td><td>Entregue</td><td>1895.15</td><td>2</td><td>Sudeste</td><td>Travessa das Palmeiras, 789, Savassi, Belo Horizonte, 30100-000</td><td>DataEntrega</td><td>2024-07-14</td><td>08:00:17</td><td>30100-000</td></tr>\n",
              "\t<tr><td>102</td><td>12</td><td>Entregue</td><td>2827.16</td><td>2</td><td>Sudeste</td><td>Avenida Paulista, 456, Bela Vista, São Paulo, 01300-000        </td><td>DataPedido </td><td>2024-07-02</td><td>20:57:26</td><td>01300-000</td></tr>\n",
              "\t<tr><td>102</td><td>12</td><td>Entregue</td><td>2827.16</td><td>2</td><td>Sudeste</td><td>Avenida Paulista, 456, Bela Vista, São Paulo, 01300-000        </td><td>DataEntrega</td><td>2024-07-12</td><td>11:46:21</td><td>01300-000</td></tr>\n",
              "\t<tr><td>103</td><td> 3</td><td>Entregue</td><td>2576.52</td><td>2</td><td>Norte  </td><td>Rua das Flores, 123, Centro, Manaus, 69000-000                 </td><td>DataPedido </td><td>2024-07-03</td><td>17:18:26</td><td>69000-000</td></tr>\n",
              "\t<tr><td>103</td><td> 3</td><td>Entregue</td><td>2576.52</td><td>2</td><td>Norte  </td><td>Rua das Flores, 123, Centro, Manaus, 69000-000                 </td><td>DataEntrega</td><td>2024-07-22</td><td>08:57:49</td><td>69000-000</td></tr>\n",
              "</tbody>\n",
              "</table>\n"
            ],
            "text/markdown": "\nA tibble: 6 × 11\n\n| PedidoID &lt;dbl&gt; | ClienteID &lt;dbl&gt; | Status &lt;chr&gt; | ValorTotal &lt;dbl&gt; | TransportadorID &lt;dbl&gt; | Regiao &lt;chr&gt; | EnderecoPedido &lt;chr&gt; | TipoData &lt;chr&gt; | Data &lt;chr&gt; | Horario &lt;chr&gt; | CEP &lt;chr&gt; |\n|---|---|---|---|---|---|---|---|---|---|---|\n| 101 | 14 | Entregue | 1895.15 | 2 | Sudeste | Travessa das Palmeiras, 789, Savassi, Belo Horizonte, 30100-000 | DataPedido  | 2024-07-01 | 18:56:18 | 30100-000 |\n| 101 | 14 | Entregue | 1895.15 | 2 | Sudeste | Travessa das Palmeiras, 789, Savassi, Belo Horizonte, 30100-000 | DataEntrega | 2024-07-14 | 08:00:17 | 30100-000 |\n| 102 | 12 | Entregue | 2827.16 | 2 | Sudeste | Avenida Paulista, 456, Bela Vista, São Paulo, 01300-000         | DataPedido  | 2024-07-02 | 20:57:26 | 01300-000 |\n| 102 | 12 | Entregue | 2827.16 | 2 | Sudeste | Avenida Paulista, 456, Bela Vista, São Paulo, 01300-000         | DataEntrega | 2024-07-12 | 11:46:21 | 01300-000 |\n| 103 |  3 | Entregue | 2576.52 | 2 | Norte   | Rua das Flores, 123, Centro, Manaus, 69000-000                  | DataPedido  | 2024-07-03 | 17:18:26 | 69000-000 |\n| 103 |  3 | Entregue | 2576.52 | 2 | Norte   | Rua das Flores, 123, Centro, Manaus, 69000-000                  | DataEntrega | 2024-07-22 | 08:57:49 | 69000-000 |\n\n",
            "text/latex": "A tibble: 6 × 11\n\\begin{tabular}{lllllllllll}\n PedidoID & ClienteID & Status & ValorTotal & TransportadorID & Regiao & EnderecoPedido & TipoData & Data & Horario & CEP\\\\\n <dbl> & <dbl> & <chr> & <dbl> & <dbl> & <chr> & <chr> & <chr> & <chr> & <chr> & <chr>\\\\\n\\hline\n\t 101 & 14 & Entregue & 1895.15 & 2 & Sudeste & Travessa das Palmeiras, 789, Savassi, Belo Horizonte, 30100-000 & DataPedido  & 2024-07-01 & 18:56:18 & 30100-000\\\\\n\t 101 & 14 & Entregue & 1895.15 & 2 & Sudeste & Travessa das Palmeiras, 789, Savassi, Belo Horizonte, 30100-000 & DataEntrega & 2024-07-14 & 08:00:17 & 30100-000\\\\\n\t 102 & 12 & Entregue & 2827.16 & 2 & Sudeste & Avenida Paulista, 456, Bela Vista, São Paulo, 01300-000         & DataPedido  & 2024-07-02 & 20:57:26 & 01300-000\\\\\n\t 102 & 12 & Entregue & 2827.16 & 2 & Sudeste & Avenida Paulista, 456, Bela Vista, São Paulo, 01300-000         & DataEntrega & 2024-07-12 & 11:46:21 & 01300-000\\\\\n\t 103 &  3 & Entregue & 2576.52 & 2 & Norte   & Rua das Flores, 123, Centro, Manaus, 69000-000                  & DataPedido  & 2024-07-03 & 17:18:26 & 69000-000\\\\\n\t 103 &  3 & Entregue & 2576.52 & 2 & Norte   & Rua das Flores, 123, Centro, Manaus, 69000-000                  & DataEntrega & 2024-07-22 & 08:57:49 & 69000-000\\\\\n\\end{tabular}\n",
            "text/plain": [
              "  PedidoID ClienteID Status   ValorTotal TransportadorID Regiao \n",
              "1 101      14        Entregue 1895.15    2               Sudeste\n",
              "2 101      14        Entregue 1895.15    2               Sudeste\n",
              "3 102      12        Entregue 2827.16    2               Sudeste\n",
              "4 102      12        Entregue 2827.16    2               Sudeste\n",
              "5 103       3        Entregue 2576.52    2               Norte  \n",
              "6 103       3        Entregue 2576.52    2               Norte  \n",
              "  EnderecoPedido                                                  TipoData   \n",
              "1 Travessa das Palmeiras, 789, Savassi, Belo Horizonte, 30100-000 DataPedido \n",
              "2 Travessa das Palmeiras, 789, Savassi, Belo Horizonte, 30100-000 DataEntrega\n",
              "3 Avenida Paulista, 456, Bela Vista, São Paulo, 01300-000         DataPedido \n",
              "4 Avenida Paulista, 456, Bela Vista, São Paulo, 01300-000         DataEntrega\n",
              "5 Rua das Flores, 123, Centro, Manaus, 69000-000                  DataPedido \n",
              "6 Rua das Flores, 123, Centro, Manaus, 69000-000                  DataEntrega\n",
              "  Data       Horario  CEP      \n",
              "1 2024-07-01 18:56:18 30100-000\n",
              "2 2024-07-14 08:00:17 30100-000\n",
              "3 2024-07-02 20:57:26 01300-000\n",
              "4 2024-07-12 11:46:21 01300-000\n",
              "5 2024-07-03 17:18:26 69000-000\n",
              "6 2024-07-22 08:57:49 69000-000"
            ]
          },
          "metadata": {}
        }
      ]
    },
    {
      "cell_type": "markdown",
      "source": [
        "# Visualizando os dados"
      ],
      "metadata": {
        "id": "3DvF7GRnY4Kb"
      }
    },
    {
      "cell_type": "markdown",
      "source": [
        "**Desafio**\n",
        "\n",
        "Tipificar os dados de forma correta para deixar as visualizações mais eficientes, como por exemplo, a data.\n",
        "\n",
        "**Solução**\n",
        "\n",
        "Usar a função ymd do pacote lubridate para converter dados para o formato de ano, mês e dia."
      ],
      "metadata": {
        "id": "JYHiQpfkY6Uf"
      }
    },
    {
      "cell_type": "markdown",
      "source": [
        "**Consultando os tipos de dados do nosso dataframe:**"
      ],
      "metadata": {
        "id": "-y2w5mHVZPuA"
      }
    },
    {
      "cell_type": "code",
      "source": [],
      "metadata": {
        "id": "uzJSWQHIZlcA"
      },
      "execution_count": null,
      "outputs": []
    },
    {
      "cell_type": "code",
      "source": [
        "str(pedidos)"
      ],
      "metadata": {
        "colab": {
          "base_uri": "https://localhost:8080/"
        },
        "id": "uf3BNecKZliq",
        "outputId": "922eaa79-a7de-4194-e1b4-68d2416da6ed"
      },
      "execution_count": 266,
      "outputs": [
        {
          "output_type": "stream",
          "name": "stdout",
          "text": [
            "tibble [440 × 11] (S3: tbl_df/tbl/data.frame)\n",
            " $ PedidoID       : num [1:440] 101 101 102 102 103 103 104 104 105 105 ...\n",
            " $ ClienteID      : num [1:440] 14 14 12 12 3 3 7 7 20 20 ...\n",
            " $ Status         : chr [1:440] \"Entregue\" \"Entregue\" \"Entregue\" \"Entregue\" ...\n",
            " $ ValorTotal     : num [1:440] 1895 1895 2827 2827 2577 ...\n",
            " $ TransportadorID: num [1:440] 2 2 2 2 2 2 2 2 2 2 ...\n",
            " $ Regiao         : chr [1:440] \"Sudeste\" \"Sudeste\" \"Sudeste\" \"Sudeste\" ...\n",
            " $ EnderecoPedido : chr [1:440] \"Travessa das Palmeiras, 789, Savassi, Belo Horizonte, 30100-000\" \"Travessa das Palmeiras, 789, Savassi, Belo Horizonte, 30100-000\" \"Avenida Paulista, 456, Bela Vista, São Paulo, 01300-000\" \"Avenida Paulista, 456, Bela Vista, São Paulo, 01300-000\" ...\n",
            " $ TipoData       : chr [1:440] \"DataPedido\" \"DataEntrega\" \"DataPedido\" \"DataEntrega\" ...\n",
            " $ Data           : chr [1:440] \"2024-07-01\" \"2024-07-14\" \"2024-07-02\" \"2024-07-12\" ...\n",
            " $ Horario        : chr [1:440] \"18:56:18\" \"08:00:17\" \"20:57:26\" \"11:46:21\" ...\n",
            " $ CEP            : chr [1:440] \"30100-000\" \"30100-000\" \"01300-000\" \"01300-000\" ...\n"
          ]
        }
      ]
    },
    {
      "cell_type": "markdown",
      "source": [
        "**Alterar a coluna data**"
      ],
      "metadata": {
        "id": "88der3EVZuqv"
      }
    },
    {
      "cell_type": "code",
      "source": [
        "pedidos$Data <- ymd(pedidos$Data)"
      ],
      "metadata": {
        "id": "rAbHsef_Zwr6"
      },
      "execution_count": 267,
      "outputs": []
    },
    {
      "cell_type": "code",
      "source": [
        "str(pedidos)"
      ],
      "metadata": {
        "colab": {
          "base_uri": "https://localhost:8080/"
        },
        "id": "yM9zwZKvZ8ad",
        "outputId": "c71ee9d3-8a95-4f4e-ec72-6ac353485e43"
      },
      "execution_count": 268,
      "outputs": [
        {
          "output_type": "stream",
          "name": "stdout",
          "text": [
            "tibble [440 × 11] (S3: tbl_df/tbl/data.frame)\n",
            " $ PedidoID       : num [1:440] 101 101 102 102 103 103 104 104 105 105 ...\n",
            " $ ClienteID      : num [1:440] 14 14 12 12 3 3 7 7 20 20 ...\n",
            " $ Status         : chr [1:440] \"Entregue\" \"Entregue\" \"Entregue\" \"Entregue\" ...\n",
            " $ ValorTotal     : num [1:440] 1895 1895 2827 2827 2577 ...\n",
            " $ TransportadorID: num [1:440] 2 2 2 2 2 2 2 2 2 2 ...\n",
            " $ Regiao         : chr [1:440] \"Sudeste\" \"Sudeste\" \"Sudeste\" \"Sudeste\" ...\n",
            " $ EnderecoPedido : chr [1:440] \"Travessa das Palmeiras, 789, Savassi, Belo Horizonte, 30100-000\" \"Travessa das Palmeiras, 789, Savassi, Belo Horizonte, 30100-000\" \"Avenida Paulista, 456, Bela Vista, São Paulo, 01300-000\" \"Avenida Paulista, 456, Bela Vista, São Paulo, 01300-000\" ...\n",
            " $ TipoData       : chr [1:440] \"DataPedido\" \"DataEntrega\" \"DataPedido\" \"DataEntrega\" ...\n",
            " $ Data           : Date[1:440], format: \"2024-07-01\" \"2024-07-14\" ...\n",
            " $ Horario        : chr [1:440] \"18:56:18\" \"08:00:17\" \"20:57:26\" \"11:46:21\" ...\n",
            " $ CEP            : chr [1:440] \"30100-000\" \"30100-000\" \"01300-000\" \"01300-000\" ...\n"
          ]
        }
      ]
    },
    {
      "cell_type": "code",
      "source": [
        "# Exemplo de conversão e formatação\n",
        "time <- as.POSIXct(\"2024-07-23 12:34:00\")\n",
        "formatted_time <- format(time, \"%H:%M\")\n",
        "print(formatted_time)"
      ],
      "metadata": {
        "colab": {
          "base_uri": "https://localhost:8080/"
        },
        "id": "Qbmoex0sZ92F",
        "outputId": "41e7ae66-0202-42ca-e69d-2f8007335a81"
      },
      "execution_count": 270,
      "outputs": [
        {
          "output_type": "stream",
          "name": "stdout",
          "text": [
            "[1] \"12:34\"\n"
          ]
        }
      ]
    },
    {
      "cell_type": "markdown",
      "source": [
        "**Desafio**\n",
        "\n",
        "Criar um gráfico com porcentagem de pedidos por região\n",
        "\n",
        "**Solução**\n",
        "\n",
        "Usar a função geom_bar do pacote ggplot2 para criar um gráfico de barras"
      ],
      "metadata": {
        "id": "vNfCrscleSoj"
      }
    },
    {
      "cell_type": "markdown",
      "source": [
        "**Gráfico do percentual de pedidos por região**"
      ],
      "metadata": {
        "id": "45euyzNReej9"
      }
    },
    {
      "cell_type": "code",
      "source": [
        "grafico <- ggplot(percentual_pedidos_por_regiao, aes(x = Regiao, y = Percentual, fill = Regiao))+\n",
        "  geom_bar(stat = \"identity\")+\n",
        "  labs(title = \"Porcentagem de pedidos por Região\", x = \"Região\", y = \"Percentual (%)\")+\n",
        "  theme_minimal()"
      ],
      "metadata": {
        "id": "9j1LgdopejQU"
      },
      "execution_count": 271,
      "outputs": []
    },
    {
      "cell_type": "code",
      "source": [
        "print(grafico)"
      ],
      "metadata": {
        "colab": {
          "base_uri": "https://localhost:8080/",
          "height": 437
        },
        "id": "Wya2eRRIfePU",
        "outputId": "0d8c6058-bc90-4790-d91d-601a892ae8d7"
      },
      "execution_count": 272,
      "outputs": [
        {
          "output_type": "display_data",
          "data": {
            "text/plain": [
              "plot without title"
            ],
            "image/png": "[encoded data removed]"
          },
          "metadata": {
            "image/png": {
              "width": 420,
              "height": 420
            }
          }
        }
      ]
    },
    {
      "cell_type": "markdown",
      "source": [
        "**Gráfico de Dispersão com Linha de Regressão**"
      ],
      "metadata": {
        "id": "uZjtj8kVgjiV"
      }
    },
    {
      "cell_type": "code",
      "source": [
        "library(ggplot2)\n",
        "\n",
        "# Dados de exemplo\n",
        "dados <- data.frame(\n",
        "    altura = c(150, 160, 170, 180, 190),\n",
        "    peso = c(50, 60, 70, 80, 90)\n",
        ")\n",
        "\n",
        "# Construção do gráfico\n",
        "ggplot(data = dados, aes(x = altura, y = peso)) +\n",
        "    geom_point(color = \"blue\", size = 3) +      # Camada de pontos\n",
        "    geom_smooth(method = \"lm\", se = FALSE, color = \"red\") +  # Linha de regressão\n",
        "    labs(title = \"Relação entre Altura e Peso\",\n",
        "         x = \"Altura (cm)\",\n",
        "         y = \"Peso (kg)\") +                     # Rótulos\n",
        "    theme_minimal()                             # Tema"
      ],
      "metadata": {
        "colab": {
          "base_uri": "https://localhost:8080/",
          "height": 454
        },
        "id": "QyKGMsJpgmZD",
        "outputId": "05365ef1-2521-4991-b818-1a41814bb16d"
      },
      "execution_count": 273,
      "outputs": [
        {
          "output_type": "stream",
          "name": "stderr",
          "text": [
            "\u001b[1m\u001b[22m`geom_smooth()` using formula = 'y ~ x'\n"
          ]
        },
        {
          "output_type": "display_data",
          "data": {
            "text/plain": [
              "plot without title"
            ],
            "image/png": "[encoded data removed]"
          },
          "metadata": {
            "image/png": {
              "width": 420,
              "height": 420
            }
          }
        }
      ]
    },
    {
      "cell_type": "markdown",
      "source": [
        "**Desafio**\n",
        "\n",
        "Visualizar a soma do valor total dos pedidos por mês\n",
        "\n",
        "**Solução**\n",
        "\n",
        "Usar algumas funções que á aprendemos anteriormente para agrupar o valor total dos pedidos por mês e depois vamos usar uma nova função do pacote ggplot2 para criar uma visualização, a função geom_line que vai criar um gráfico de linhas."
      ],
      "metadata": {
        "id": "j4NQDVA1hRa_"
      }
    },
    {
      "cell_type": "markdown",
      "source": [
        "**Agrupando o valor total por mês**"
      ],
      "metadata": {
        "id": "6O-dRoh-hrDM"
      }
    },
    {
      "cell_type": "code",
      "source": [
        "pedidos_agrupados <- pedidos %>%\n",
        "  mutate(MesAno = floor_date(Data, \"month\"))%>%\n",
        "  group_by(MesAno) %>%\n",
        "  summarise(ValorTotalMensal = sum(ValorTotal, na.rm = TRUE))"
      ],
      "metadata": {
        "id": "D7dY2N2rhwCl"
      },
      "execution_count": 274,
      "outputs": []
    },
    {
      "cell_type": "markdown",
      "source": [
        "**Criando o gráfico com os dados agrupados**"
      ],
      "metadata": {
        "id": "jtd983XphwVk"
      }
    },
    {
      "cell_type": "code",
      "source": [
        "grafico <- ggplot(pedidos_agrupados, aes(x = MesAno, y = ValorTotalMensal)) +\n",
        "  geom_line(color = \"blue\") +\n",
        "  labs(title = \"Valor Total dos Pedidos ao Longo do Tempo\", x = \"Data do Pedido\", y = \"Valor Total\") +\n",
        "  theme_minimal()\n",
        "\n",
        "print(grafico)"
      ],
      "metadata": {
        "colab": {
          "base_uri": "https://localhost:8080/",
          "height": 489
        },
        "id": "3Egzc9LNh0Xq",
        "outputId": "424ccdc7-689c-4641-9f93-fb40e2f7a225"
      },
      "execution_count": 275,
      "outputs": [
        {
          "output_type": "stream",
          "name": "stderr",
          "text": [
            "Warning message:\n",
            "“\u001b[1m\u001b[22mRemoved 1 row containing missing values or values outside the scale range\n",
            "(`geom_line()`).”\n"
          ]
        },
        {
          "output_type": "display_data",
          "data": {
            "text/plain": [
              "plot without title"
            ],
            "image/png": "[encoded data removed]"
          },
          "metadata": {
            "image/png": {
              "width": 420,
              "height": 420
            }
          }
        }
      ]
    },
    {
      "cell_type": "markdown",
      "source": [
        "# Finalizando o projeto"
      ],
      "metadata": {
        "id": "ifbJ8CnGi4Lp"
      }
    },
    {
      "cell_type": "markdown",
      "source": [
        "**Desafio**\n",
        "\n",
        "Salvar o dataframe atualizado e salvar o notebook.\n",
        "\n",
        "**Solução**\n",
        "\n",
        "usar a função write_csv do pacote readr que permite exportar dataframes para arquivos csv."
      ],
      "metadata": {
        "id": "rCHCPPDbi8cS"
      }
    },
    {
      "cell_type": "code",
      "source": [
        "write_csv(pedidos,\"pedidos_Hermex_Log_Atualizado.csv\")"
      ],
      "metadata": {
        "id": "SBI-dx6ojJs0"
      },
      "execution_count": 276,
      "outputs": []
    }
  ]
}